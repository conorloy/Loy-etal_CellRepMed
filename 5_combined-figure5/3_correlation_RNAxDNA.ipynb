{
 "cells": [
  {
   "cell_type": "code",
   "execution_count": 15,
   "id": "155c38d4-80b1-4cba-a0a5-95f060bb3244",
   "metadata": {},
   "outputs": [],
   "source": [
    "library(tidyverse)\n",
    "library(data.table)\n",
    "source(\"../0_support-files//theme_CRP-MISC.R\")\n",
    "\n",
    "rds_list <- readRDS(\"../1_sample-data/DNAxRNA_decon.rds\")\n",
    "cfDNA_df_s = rds_list$cfdna\n",
    "cfRNA_df_s = rds_list$cfrna"
   ]
  },
  {
   "cell_type": "markdown",
   "id": "794195d6-edb8-4749-b25c-30fe3538fe83",
   "metadata": {},
   "source": [
    "### non-overlap between cfrna_used and cfdna_used is due to longitudinal cfDNA samples not used in fig 4"
   ]
  },
  {
   "cell_type": "code",
   "execution_count": 3,
   "id": "a4dc9773-f4a5-4f99-8615-4757fd11ab99",
   "metadata": {},
   "outputs": [
    {
     "data": {
      "text/html": [
       "<table class=\"dataframe\">\n",
       "<caption>A data.frame: 8 × 5</caption>\n",
       "<thead>\n",
       "\t<tr><th></th><th scope=col>rna</th><th scope=col>dna</th><th scope=col>pval</th><th scope=col>r.cor</th><th scope=col>adj.p</th></tr>\n",
       "\t<tr><th></th><th scope=col>&lt;chr&gt;</th><th scope=col>&lt;chr&gt;</th><th scope=col>&lt;chr&gt;</th><th scope=col>&lt;chr&gt;</th><th scope=col>&lt;dbl&gt;</th></tr>\n",
       "</thead>\n",
       "<tbody>\n",
       "\t<tr><th scope=row>B.cell_bcell</th><td>B.cell                          </td><td>bcell       </td><td>0.0134192767761288</td><td>0.387791577240063 </td><td>0.09393494</td></tr>\n",
       "\t<tr><th scope=row>Erythrocyte.erythroid.progenitor_erythroblast</th><td>Erythrocyte.erythroid.progenitor</td><td>erythroblast</td><td>0.0122839244673481</td><td>0.392323533071603 </td><td>0.09393494</td></tr>\n",
       "\t<tr><th scope=row>Intrahepatic.cholangiocyte_liver</th><td>Intrahepatic.cholangiocyte      </td><td>liver       </td><td>0.0232227725494146</td><td>0.35823523771058  </td><td>0.10837294</td></tr>\n",
       "\t<tr><th scope=row>Kidney.epithelial.cell_kidney</th><td>Kidney.epithelial.cell          </td><td>kidney      </td><td>0.337227618005921 </td><td>0.155745238290783 </td><td>0.58015060</td></tr>\n",
       "\t<tr><th scope=row>Respiratory.ciliated.cell_lung</th><td>Respiratory.ciliated.cell       </td><td>lung        </td><td>0.28528598322645  </td><td>0.173158391404502 </td><td>0.58015060</td></tr>\n",
       "\t<tr><th scope=row>T.Cell_tcell</th><td>T.Cell                          </td><td>tcell       </td><td>0.540942139839495 </td><td>0.0995861595142219</td><td>0.63109916</td></tr>\n",
       "\t<tr><th scope=row>Pancreatic.alpha.beta.cell_pancreas</th><td>Pancreatic.alpha.beta.cell      </td><td>pancreas    </td><td>0.764858479197887 </td><td>0.0488126045689578</td><td>0.82369375</td></tr>\n",
       "\t<tr><th scope=row>NK.Cell_nkcell</th><td>NK.Cell                         </td><td>nkcell      </td><td>0.875235451152159 </td><td>0.0256345785184772</td><td>0.87523545</td></tr>\n",
       "</tbody>\n",
       "</table>\n"
      ],
      "text/latex": [
       "A data.frame: 8 × 5\n",
       "\\begin{tabular}{r|lllll}\n",
       "  & rna & dna & pval & r.cor & adj.p\\\\\n",
       "  & <chr> & <chr> & <chr> & <chr> & <dbl>\\\\\n",
       "\\hline\n",
       "\tB.cell\\_bcell & B.cell                           & bcell        & 0.0134192767761288 & 0.387791577240063  & 0.09393494\\\\\n",
       "\tErythrocyte.erythroid.progenitor\\_erythroblast & Erythrocyte.erythroid.progenitor & erythroblast & 0.0122839244673481 & 0.392323533071603  & 0.09393494\\\\\n",
       "\tIntrahepatic.cholangiocyte\\_liver & Intrahepatic.cholangiocyte       & liver        & 0.0232227725494146 & 0.35823523771058   & 0.10837294\\\\\n",
       "\tKidney.epithelial.cell\\_kidney & Kidney.epithelial.cell           & kidney       & 0.337227618005921  & 0.155745238290783  & 0.58015060\\\\\n",
       "\tRespiratory.ciliated.cell\\_lung & Respiratory.ciliated.cell        & lung         & 0.28528598322645   & 0.173158391404502  & 0.58015060\\\\\n",
       "\tT.Cell\\_tcell & T.Cell                           & tcell        & 0.540942139839495  & 0.0995861595142219 & 0.63109916\\\\\n",
       "\tPancreatic.alpha.beta.cell\\_pancreas & Pancreatic.alpha.beta.cell       & pancreas     & 0.764858479197887  & 0.0488126045689578 & 0.82369375\\\\\n",
       "\tNK.Cell\\_nkcell & NK.Cell                          & nkcell       & 0.875235451152159  & 0.0256345785184772 & 0.87523545\\\\\n",
       "\\end{tabular}\n"
      ],
      "text/markdown": [
       "\n",
       "A data.frame: 8 × 5\n",
       "\n",
       "| <!--/--> | rna &lt;chr&gt; | dna &lt;chr&gt; | pval &lt;chr&gt; | r.cor &lt;chr&gt; | adj.p &lt;dbl&gt; |\n",
       "|---|---|---|---|---|---|\n",
       "| B.cell_bcell | B.cell                           | bcell        | 0.0134192767761288 | 0.387791577240063  | 0.09393494 |\n",
       "| Erythrocyte.erythroid.progenitor_erythroblast | Erythrocyte.erythroid.progenitor | erythroblast | 0.0122839244673481 | 0.392323533071603  | 0.09393494 |\n",
       "| Intrahepatic.cholangiocyte_liver | Intrahepatic.cholangiocyte       | liver        | 0.0232227725494146 | 0.35823523771058   | 0.10837294 |\n",
       "| Kidney.epithelial.cell_kidney | Kidney.epithelial.cell           | kidney       | 0.337227618005921  | 0.155745238290783  | 0.58015060 |\n",
       "| Respiratory.ciliated.cell_lung | Respiratory.ciliated.cell        | lung         | 0.28528598322645   | 0.173158391404502  | 0.58015060 |\n",
       "| T.Cell_tcell | T.Cell                           | tcell        | 0.540942139839495  | 0.0995861595142219 | 0.63109916 |\n",
       "| Pancreatic.alpha.beta.cell_pancreas | Pancreatic.alpha.beta.cell       | pancreas     | 0.764858479197887  | 0.0488126045689578 | 0.82369375 |\n",
       "| NK.Cell_nkcell | NK.Cell                          | nkcell       | 0.875235451152159  | 0.0256345785184772 | 0.87523545 |\n",
       "\n"
      ],
      "text/plain": [
       "                                              rna                             \n",
       "B.cell_bcell                                  B.cell                          \n",
       "Erythrocyte.erythroid.progenitor_erythroblast Erythrocyte.erythroid.progenitor\n",
       "Intrahepatic.cholangiocyte_liver              Intrahepatic.cholangiocyte      \n",
       "Kidney.epithelial.cell_kidney                 Kidney.epithelial.cell          \n",
       "Respiratory.ciliated.cell_lung                Respiratory.ciliated.cell       \n",
       "T.Cell_tcell                                  T.Cell                          \n",
       "Pancreatic.alpha.beta.cell_pancreas           Pancreatic.alpha.beta.cell      \n",
       "NK.Cell_nkcell                                NK.Cell                         \n",
       "                                              dna          pval              \n",
       "B.cell_bcell                                  bcell        0.0134192767761288\n",
       "Erythrocyte.erythroid.progenitor_erythroblast erythroblast 0.0122839244673481\n",
       "Intrahepatic.cholangiocyte_liver              liver        0.0232227725494146\n",
       "Kidney.epithelial.cell_kidney                 kidney       0.337227618005921 \n",
       "Respiratory.ciliated.cell_lung                lung         0.28528598322645  \n",
       "T.Cell_tcell                                  tcell        0.540942139839495 \n",
       "Pancreatic.alpha.beta.cell_pancreas           pancreas     0.764858479197887 \n",
       "NK.Cell_nkcell                                nkcell       0.875235451152159 \n",
       "                                              r.cor              adj.p     \n",
       "B.cell_bcell                                  0.387791577240063  0.09393494\n",
       "Erythrocyte.erythroid.progenitor_erythroblast 0.392323533071603  0.09393494\n",
       "Intrahepatic.cholangiocyte_liver              0.35823523771058   0.10837294\n",
       "Kidney.epithelial.cell_kidney                 0.155745238290783  0.58015060\n",
       "Respiratory.ciliated.cell_lung                0.173158391404502  0.58015060\n",
       "T.Cell_tcell                                  0.0995861595142219 0.63109916\n",
       "Pancreatic.alpha.beta.cell_pancreas           0.0488126045689578 0.82369375\n",
       "NK.Cell_nkcell                                0.0256345785184772 0.87523545"
      ]
     },
     "metadata": {},
     "output_type": "display_data"
    }
   ],
   "source": [
    "\n",
    "##------------------------------------\n",
    "## COMPARISONS\n",
    "##------------------------------------\n",
    "    comps_cfrna <- c(\"B.cell\", \"Mature.conventional.dendritic.cell\", \"Erythrocyte.erythroid.progenitor\", \"Kidney.epithelial.cell\", \"Intrahepatic.cholangiocyte\",\n",
    "                     \"Respiratory.ciliated.cell\", \"Respiratory.secretory.cell\", \"Macrophage\", \"Monocyte\", \"neutrophil\",\"NK.Cell\",\n",
    "                     \"Pancreatic.Stellate.cell\", \"Pancreatic.alpha.beta.cell\",\n",
    "                     \"T.Cell\")\n",
    "    comps_cfdna <- c(\"bcell\", \"dendritic\", \"erythroblast\", \"kidney\", \"liver\", \n",
    "                     \"lung\", \"lung\", \"macrophage\", 'monocyte','neutrophil','nkcell', \n",
    "                     \"pancreas\", \"pancreas\",\n",
    "                     \"tcell\")\n",
    "\n",
    "    outputs <- list()\n",
    "\n",
    "    for (i in 1:length(comps_cfrna)){\n",
    "\n",
    "        cfrna_var = comps_cfrna[i]\n",
    "        cfdna_var = comps_cfdna[i]\n",
    "\n",
    "        stat <- suppressWarnings(cor.test(log((cfDNA_df_s[[cfdna_var]] * cfDNA_df_s$scaled_cfDNA)+.01),\n",
    "                                          log(cfRNA_df_s[[cfrna_var]]+.01),\n",
    "                                          method=c(\"pearson\")))\n",
    "\n",
    "        outputs[[paste0(cfrna_var,\"_\",cfdna_var)]] <- c(\"rna\"=cfrna_var,\"dna\"=cfdna_var,\"pval\"=stat$p.value,\"r\"=stat$estimate)\n",
    "    }\n",
    "\n",
    "    output_df <- data.frame(do.call(\"rbind\",outputs))\n",
    "    \n",
    "    output_df$adj.p <- p.adjust(output_df$pval, method = \"BH\")\n",
    "\n",
    "    output_df %>% filter(r.cor > 0) %>% arrange(adj.p) %>% head(20)  "
   ]
  },
  {
   "cell_type": "code",
   "execution_count": 10,
   "id": "f72a48ca-8c32-43a9-beb3-d1845f1e0ea8",
   "metadata": {},
   "outputs": [],
   "source": [
    "make_bxplot <- function(cfDNA_df_s, cfRNA_df_s,\n",
    "                        CFRNA_CELLTYPE, CFDNA_CELLTYPE){\n",
    "    \n",
    "    plot_df <- data.frame(\n",
    "                        cfdna = cfDNA_df_s[[CFDNA_CELLTYPE]],\n",
    "                      cfrna = cfRNA_df_s[[CFRNA_CELLTYPE]],\n",
    "                     Diagnosis = cfDNA_df_s$Diagnosis)\n",
    "\n",
    "    bxplt <- plot_df %>%\n",
    "        ggplot(aes(x=cfrna, y = cfdna)) + \n",
    "        geom_point(size = 0.5) +\n",
    "        theme_prevail()+\n",
    "        theme(title = element_text(size = 7.5))+\n",
    "\n",
    "        labs(title = paste0(\"cfrna: \",CFRNA_CELLTYPE,\"\\ncfdna: \",CFDNA_CELLTYPE),\n",
    "            x = paste0(CFRNA_CELLTYPE,\"\\ncfRNA\"),\n",
    "            y = paste0(CFDNA_CELLTYPE,\"\\ncfDNA\")\n",
    "            )+\n",
    "        theme(panel.grid.minor = element_blank(), title = element_blank())\n",
    "}"
   ]
  },
  {
   "cell_type": "code",
   "execution_count": 11,
   "id": "c6b68f36-f353-4afb-8f4b-75c09e1fa8be",
   "metadata": {
    "tags": []
   },
   "outputs": [
    {
     "data": {
      "text/html": [
       "<strong>png:</strong> 2"
      ],
      "text/latex": [
       "\\textbf{png:} 2"
      ],
      "text/markdown": [
       "**png:** 2"
      ],
      "text/plain": [
       "png \n",
       "  2 "
      ]
     },
     "metadata": {},
     "output_type": "display_data"
    },
    {
     "data": {
      "text/html": [
       "<strong>png:</strong> 2"
      ],
      "text/latex": [
       "\\textbf{png:} 2"
      ],
      "text/markdown": [
       "**png:** 2"
      ],
      "text/plain": [
       "png \n",
       "  2 "
      ]
     },
     "metadata": {},
     "output_type": "display_data"
    },
    {
     "data": {
      "text/html": [
       "<strong>png:</strong> 2"
      ],
      "text/latex": [
       "\\textbf{png:} 2"
      ],
      "text/markdown": [
       "**png:** 2"
      ],
      "text/plain": [
       "png \n",
       "  2 "
      ]
     },
     "metadata": {},
     "output_type": "display_data"
    }
   ],
   "source": [
    "WIDTH = 1.75\n",
    "HEIGHT = 1.5\n",
    "\n",
    "##------------------------------------\n",
    "\n",
    "CFRNA_CELLTYPE = \"Erythrocyte.erythroid.progenitor\"\n",
    "CFDNA_CELLTYPE = \"erythroblast\"\n",
    "\n",
    "XLIM = .42\n",
    "YLIM = .54\n",
    "\n",
    "pdf(file=paste0(\"plots/SupPanelE_\",paste(CFRNA_CELLTYPE,CFDNA_CELLTYPE,sep=\"_\"),\".pdf\"),\n",
    "    width=WIDTH,height=HEIGHT, paper=\"special\", bg=\"white\",\n",
    "    fonts=\"Helvetica\", colormodel = \"srgb\", pointsize=6, useDingbats = FALSE)\n",
    "\n",
    "bxplt <- make_bxplot(cfDNA_df_s, cfRNA_df_s,\n",
    "                    CFRNA_CELLTYPE, CFDNA_CELLTYPE) +\n",
    "    scale_x_continuous(breaks = c(0, XLIM/3, (XLIM/3)*2 , XLIM))+\n",
    "    scale_y_continuous(breaks = c(0, YLIM/3, (YLIM/3)*2 , YLIM))+\n",
    "    coord_cartesian(ylim = c(0,YLIM*1.05),xlim = c(0,XLIM*1.05))\n",
    "\n",
    "print(bxplt)\n",
    "\n",
    "dev.off()\n",
    "\n",
    "##------------------------------------\n",
    "\n",
    "CFRNA_CELLTYPE = \"B.cell\"\n",
    "CFDNA_CELLTYPE = \"bcell\"\n",
    "\n",
    "XLIM = .06\n",
    "YLIM = .3\n",
    "\n",
    "pdf(file=paste0(\"plots/SupPanelE_\",paste(CFRNA_CELLTYPE,CFDNA_CELLTYPE,sep=\"_\"),\".pdf\"),\n",
    "    width=WIDTH,height=HEIGHT, paper=\"special\", bg=\"white\",\n",
    "    fonts=\"Helvetica\", colormodel = \"srgb\", pointsize=6, useDingbats = FALSE)\n",
    "\n",
    "bxplt <- make_bxplot(cfDNA_df_s, cfRNA_df_s,\n",
    "                    CFRNA_CELLTYPE, CFDNA_CELLTYPE) +\n",
    "    scale_x_continuous(breaks = c(0, XLIM/3, (XLIM/3)*2 , XLIM))+\n",
    "    scale_y_continuous(breaks = c(0, YLIM/3, (YLIM/3)*2 , YLIM))+\n",
    "    coord_cartesian(ylim = c(0,YLIM*1.05),xlim = c(0,XLIM*1.05))\n",
    "\n",
    "\n",
    "\n",
    "print(bxplt)\n",
    "\n",
    "dev.off()\n",
    "\n",
    "##------------------------------------\n",
    "\n",
    "CFRNA_CELLTYPE = \"Intrahepatic.cholangiocyte\"\n",
    "CFDNA_CELLTYPE = \"liver\"\n",
    "\n",
    "YLIM = .54\n",
    "XLIM = .018\n",
    "\n",
    "pdf(file=paste0(\"plots/SupPanelE_\",paste(CFRNA_CELLTYPE,CFDNA_CELLTYPE,sep=\"_\"),\".pdf\"),\n",
    "    width=WIDTH,height=HEIGHT, paper=\"special\", bg=\"white\",\n",
    "    fonts=\"Helvetica\", colormodel = \"srgb\", pointsize=6, useDingbats = FALSE)\n",
    "\n",
    "bxplt <- make_bxplot(cfDNA_df_s, cfRNA_df_s,\n",
    "                    CFRNA_CELLTYPE, CFDNA_CELLTYPE) +\n",
    "    scale_x_continuous(breaks = c(0, XLIM/3, (XLIM/3)*2 , XLIM))+\n",
    "    scale_y_continuous(breaks = c(0, YLIM/3, (YLIM/3)*2 , YLIM))+\n",
    "    coord_cartesian(ylim = c(0,YLIM*1.05),xlim = c(0,XLIM*1.05))\n",
    "\n",
    "\n",
    "\n",
    "print(bxplt)\n",
    "\n",
    "dev.off()"
   ]
  },
  {
   "cell_type": "code",
   "execution_count": null,
   "id": "37b998e6-6093-4900-82f2-5a138bb756c9",
   "metadata": {},
   "outputs": [],
   "source": []
  }
 ],
 "metadata": {
  "kernelspec": {
   "display_name": "R",
   "language": "R",
   "name": "ir"
  },
  "language_info": {
   "codemirror_mode": "r",
   "file_extension": ".r",
   "mimetype": "text/x-r-source",
   "name": "R",
   "pygments_lexer": "r",
   "version": "4.1.1"
  }
 },
 "nbformat": 4,
 "nbformat_minor": 5
}
