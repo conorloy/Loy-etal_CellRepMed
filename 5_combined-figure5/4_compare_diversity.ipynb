{
 "cells": [
  {
   "cell_type": "markdown",
   "id": "1df9c5c6-3dc8-47d8-9f55-3ba467c2020c",
   "metadata": {
    "tags": []
   },
   "source": [
    "### __Libraries__"
   ]
  },
  {
   "cell_type": "code",
   "execution_count": 1,
   "id": "cde563e9-6dc8-4206-8ff4-7758b9a4d56a",
   "metadata": {},
   "outputs": [
    {
     "name": "stderr",
     "output_type": "stream",
     "text": [
      "── \u001b[1mAttaching packages\u001b[22m ────────────────────────────────────────────────────────────────────────────────────────────────────────────────────────────────────────────────────── tidyverse 1.3.1 ──\n",
      "\n",
      "\u001b[32m✔\u001b[39m \u001b[34mggplot2\u001b[39m 3.3.6     \u001b[32m✔\u001b[39m \u001b[34mpurrr  \u001b[39m 0.3.4\n",
      "\u001b[32m✔\u001b[39m \u001b[34mtibble \u001b[39m 3.1.7     \u001b[32m✔\u001b[39m \u001b[34mdplyr  \u001b[39m 1.0.8\n",
      "\u001b[32m✔\u001b[39m \u001b[34mtidyr  \u001b[39m 1.2.0     \u001b[32m✔\u001b[39m \u001b[34mstringr\u001b[39m 1.4.0\n",
      "\u001b[32m✔\u001b[39m \u001b[34mreadr  \u001b[39m 2.1.2     \u001b[32m✔\u001b[39m \u001b[34mforcats\u001b[39m 0.5.1\n",
      "\n",
      "── \u001b[1mConflicts\u001b[22m ───────────────────────────────────────────────────────────────────────────────────────────────────────────────────────────────────────────────────────── tidyverse_conflicts() ──\n",
      "\u001b[31m✖\u001b[39m \u001b[34mdplyr\u001b[39m::\u001b[32mfilter()\u001b[39m masks \u001b[34mstats\u001b[39m::filter()\n",
      "\u001b[31m✖\u001b[39m \u001b[34mdplyr\u001b[39m::\u001b[32mlag()\u001b[39m    masks \u001b[34mstats\u001b[39m::lag()\n",
      "\n",
      "\n",
      "Attaching package: ‘reshape2’\n",
      "\n",
      "\n",
      "The following object is masked from ‘package:tidyr’:\n",
      "\n",
      "    smiths\n",
      "\n",
      "\n"
     ]
    }
   ],
   "source": [
    "library(tidyverse)\n",
    "library(reshape2)\n",
    "\n",
    "DiagnosisPalette = c('#5CB2EB','#F0484E','#FBE77C')\n",
    "names(DiagnosisPalette) <- c(\"MIS-C\",\"COVID-19\",\"Control_Non-inflammatory\")\n",
    "\n",
    "suppressMessages(source(\"../0_support-files/theme_CRP-MISC.R\"))\n",
    "\n",
    "\n",
    "method = \"simpson\"\n",
    "\n",
    "\n",
    "CELLTYPES <- c('Intrahepatic.cholangiocyte','NK.Cell','Monocyte','Macrophage','Secretory.cell','Respiratory.ciliated.cell',\n",
    "               'Ionocyte.luminal.epithelial.cell.of.mammary.gland','Fibroblast.mesenchymal.stem.cell','Respiratory.secretory.cell',\n",
    "               'Mast.cell','Basal.cell','Endothelial.cell','neutrophil','B.cell','T.Cell','Erythrocyte.erythroid.progenitor','Platelet',\n",
    "               'Basophil','Stromal.cell','Mature.conventional.dendritic.cell','Adventitial.cell','Gland.cell','Salivary.bronchial.secretory.cell',\n",
    "               'Pericyte.cell','Myeloid.progenitor','Pancreatic.Stellate.cell','Pancreatic.alpha.beta.cell','Basal.prostate.cell',\n",
    "               'Prostate.epithelia','Salivary.gland.cell','Intestinal.enterocyte','Intestinal.secretory.cell','Intestinal.tuft.cell',\n",
    "               'Type.II.Pneumocyte','Cell.of.skeletal.muscle','Schwann.cell','Tendon.cell','Mesothelial.cell','Plasmablast',\n",
    "               'Kidney.epithelial.cell','Thymocyte')"
   ]
  },
  {
   "cell_type": "code",
   "execution_count": 2,
   "id": "768eb29e-fc6f-4b2e-b23f-6d364ba16b8b",
   "metadata": {},
   "outputs": [
    {
     "data": {
      "text/html": [
       "<table class=\"dataframe\">\n",
       "<caption>A data.frame: 6 × 2</caption>\n",
       "<thead>\n",
       "\t<tr><th></th><th scope=col>cfrna_sample_id</th><th scope=col>wbrna_sample_id</th></tr>\n",
       "\t<tr><th></th><th scope=col>&lt;chr&gt;</th><th scope=col>&lt;chr&gt;</th></tr>\n",
       "</thead>\n",
       "<tbody>\n",
       "\t<tr><th scope=row>3</th><td>prevail_cu_cfrna_199</td><td>PV351</td></tr>\n",
       "\t<tr><th scope=row>6</th><td>prevail_cu_cfrna_216</td><td>PV352</td></tr>\n",
       "\t<tr><th scope=row>7</th><td>prevail_cu_cfrna_219</td><td>PV353</td></tr>\n",
       "\t<tr><th scope=row>21</th><td>prevail_cu_cfrna_203</td><td>PV359</td></tr>\n",
       "\t<tr><th scope=row>22</th><td>prevail_cu_cfrna_209</td><td>PV364</td></tr>\n",
       "\t<tr><th scope=row>53</th><td>prevail_cu_cfrna_124</td><td>PV156</td></tr>\n",
       "</tbody>\n",
       "</table>\n"
      ],
      "text/latex": [
       "A data.frame: 6 × 2\n",
       "\\begin{tabular}{r|ll}\n",
       "  & cfrna\\_sample\\_id & wbrna\\_sample\\_id\\\\\n",
       "  & <chr> & <chr>\\\\\n",
       "\\hline\n",
       "\t3 & prevail\\_cu\\_cfrna\\_199 & PV351\\\\\n",
       "\t6 & prevail\\_cu\\_cfrna\\_216 & PV352\\\\\n",
       "\t7 & prevail\\_cu\\_cfrna\\_219 & PV353\\\\\n",
       "\t21 & prevail\\_cu\\_cfrna\\_203 & PV359\\\\\n",
       "\t22 & prevail\\_cu\\_cfrna\\_209 & PV364\\\\\n",
       "\t53 & prevail\\_cu\\_cfrna\\_124 & PV156\\\\\n",
       "\\end{tabular}\n"
      ],
      "text/markdown": [
       "\n",
       "A data.frame: 6 × 2\n",
       "\n",
       "| <!--/--> | cfrna_sample_id &lt;chr&gt; | wbrna_sample_id &lt;chr&gt; |\n",
       "|---|---|---|\n",
       "| 3 | prevail_cu_cfrna_199 | PV351 |\n",
       "| 6 | prevail_cu_cfrna_216 | PV352 |\n",
       "| 7 | prevail_cu_cfrna_219 | PV353 |\n",
       "| 21 | prevail_cu_cfrna_203 | PV359 |\n",
       "| 22 | prevail_cu_cfrna_209 | PV364 |\n",
       "| 53 | prevail_cu_cfrna_124 | PV156 |\n",
       "\n"
      ],
      "text/plain": [
       "   cfrna_sample_id      wbrna_sample_id\n",
       "3  prevail_cu_cfrna_199 PV351          \n",
       "6  prevail_cu_cfrna_216 PV352          \n",
       "7  prevail_cu_cfrna_219 PV353          \n",
       "21 prevail_cu_cfrna_203 PV359          \n",
       "22 prevail_cu_cfrna_209 PV364          \n",
       "53 prevail_cu_cfrna_124 PV156          "
      ]
     },
     "metadata": {},
     "output_type": "display_data"
    }
   ],
   "source": [
    "paired = read.delim(\"../1_sample-data/paired_sample_key.tsv\") %>% \n",
    "    filter(!is.na(cfrna_sample_id) & !is.na(wbrna_sample_id)) %>% \n",
    "    select(cfrna_sample_id, wbrna_sample_id)\n",
    "head(paired)"
   ]
  },
  {
   "cell_type": "markdown",
   "id": "0588a9af-d41d-4d0f-98c2-b567de39dba8",
   "metadata": {
    "tags": []
   },
   "source": [
    "### __cfRNA__"
   ]
  },
  {
   "cell_type": "code",
   "execution_count": 3,
   "id": "9c1b8ba2-e5fd-477f-bd77-54d39f16a427",
   "metadata": {},
   "outputs": [
    {
     "data": {
      "text/html": [
       "<table class=\"dataframe\">\n",
       "<caption>A data.frame: 6 × 4</caption>\n",
       "<thead>\n",
       "\t<tr><th></th><th scope=col>cfrna_sample_id</th><th scope=col>simpson_cfrna</th><th scope=col>Diagnosis</th><th scope=col>timepoint</th></tr>\n",
       "\t<tr><th></th><th scope=col>&lt;chr&gt;</th><th scope=col>&lt;dbl&gt;</th><th scope=col>&lt;chr&gt;</th><th scope=col>&lt;chr&gt;</th></tr>\n",
       "</thead>\n",
       "<tbody>\n",
       "\t<tr><th scope=row>1</th><td>prevail_cu_cfrna_108</td><td>0.9060655</td><td>MIS-C                   </td><td>acute           </td></tr>\n",
       "\t<tr><th scope=row>2</th><td>prevail_cu_cfrna_112</td><td>0.6509593</td><td>COVID-19                </td><td>acute           </td></tr>\n",
       "\t<tr><th scope=row>3</th><td>prevail_cu_cfrna_131</td><td>0.5160146</td><td>Control_Non-inflammatory</td><td>Not-hospitalized</td></tr>\n",
       "\t<tr><th scope=row>4</th><td>prevail_cu_cfrna_148</td><td>0.5156292</td><td>Control_Non-inflammatory</td><td>Not-hospitalized</td></tr>\n",
       "\t<tr><th scope=row>5</th><td>prevail_cu_cfrna_149</td><td>0.2722748</td><td>Control_Non-inflammatory</td><td>Not-hospitalized</td></tr>\n",
       "\t<tr><th scope=row>6</th><td>prevail_cu_cfrna_150</td><td>0.7442220</td><td>Control_Non-inflammatory</td><td>Not-hospitalized</td></tr>\n",
       "</tbody>\n",
       "</table>\n"
      ],
      "text/latex": [
       "A data.frame: 6 × 4\n",
       "\\begin{tabular}{r|llll}\n",
       "  & cfrna\\_sample\\_id & simpson\\_cfrna & Diagnosis & timepoint\\\\\n",
       "  & <chr> & <dbl> & <chr> & <chr>\\\\\n",
       "\\hline\n",
       "\t1 & prevail\\_cu\\_cfrna\\_108 & 0.9060655 & MIS-C                    & acute           \\\\\n",
       "\t2 & prevail\\_cu\\_cfrna\\_112 & 0.6509593 & COVID-19                 & acute           \\\\\n",
       "\t3 & prevail\\_cu\\_cfrna\\_131 & 0.5160146 & Control\\_Non-inflammatory & Not-hospitalized\\\\\n",
       "\t4 & prevail\\_cu\\_cfrna\\_148 & 0.5156292 & Control\\_Non-inflammatory & Not-hospitalized\\\\\n",
       "\t5 & prevail\\_cu\\_cfrna\\_149 & 0.2722748 & Control\\_Non-inflammatory & Not-hospitalized\\\\\n",
       "\t6 & prevail\\_cu\\_cfrna\\_150 & 0.7442220 & Control\\_Non-inflammatory & Not-hospitalized\\\\\n",
       "\\end{tabular}\n"
      ],
      "text/markdown": [
       "\n",
       "A data.frame: 6 × 4\n",
       "\n",
       "| <!--/--> | cfrna_sample_id &lt;chr&gt; | simpson_cfrna &lt;dbl&gt; | Diagnosis &lt;chr&gt; | timepoint &lt;chr&gt; |\n",
       "|---|---|---|---|---|\n",
       "| 1 | prevail_cu_cfrna_108 | 0.9060655 | MIS-C                    | acute            |\n",
       "| 2 | prevail_cu_cfrna_112 | 0.6509593 | COVID-19                 | acute            |\n",
       "| 3 | prevail_cu_cfrna_131 | 0.5160146 | Control_Non-inflammatory | Not-hospitalized |\n",
       "| 4 | prevail_cu_cfrna_148 | 0.5156292 | Control_Non-inflammatory | Not-hospitalized |\n",
       "| 5 | prevail_cu_cfrna_149 | 0.2722748 | Control_Non-inflammatory | Not-hospitalized |\n",
       "| 6 | prevail_cu_cfrna_150 | 0.7442220 | Control_Non-inflammatory | Not-hospitalized |\n",
       "\n"
      ],
      "text/plain": [
       "  cfrna_sample_id      simpson_cfrna Diagnosis                timepoint       \n",
       "1 prevail_cu_cfrna_108 0.9060655     MIS-C                    acute           \n",
       "2 prevail_cu_cfrna_112 0.6509593     COVID-19                 acute           \n",
       "3 prevail_cu_cfrna_131 0.5160146     Control_Non-inflammatory Not-hospitalized\n",
       "4 prevail_cu_cfrna_148 0.5156292     Control_Non-inflammatory Not-hospitalized\n",
       "5 prevail_cu_cfrna_149 0.2722748     Control_Non-inflammatory Not-hospitalized\n",
       "6 prevail_cu_cfrna_150 0.7442220     Control_Non-inflammatory Not-hospitalized"
      ]
     },
     "metadata": {},
     "output_type": "display_data"
    }
   ],
   "source": [
    "cf_meta <- read.csv(\"../1_sample-data/STable6_cfrna-samples.csv\") %>%  mutate(PTID_TIME = paste0(PTID,\"_\",timepoint)) \n",
    "cf_decon <- cf_meta[,c(\"cfrna_sample_id\",CELLTYPES)]\n",
    "\n",
    "cf_alpha <- data.frame(as.matrix((vegan::diversity(x=cf_decon[,-1], index = method))))\n",
    "\n",
    "rownames(cf_alpha) <- cf_decon$cfrna_sample_id\n",
    "colnames(cf_alpha) <- paste0(method,\"_cfrna\")\n",
    "\n",
    "\n",
    "cf_all <- merge(cf_meta,cf_alpha,by.x=\"cfrna_sample_id\",by.y=0) %>% select(cfrna_sample_id, simpson_cfrna,Diagnosis,timepoint)\n",
    "\n",
    "cf_all <- cf_all %>% filter(timepoint == \"acute\" | Diagnosis == \"Control_Non-inflammatory\")\n",
    "\n",
    "cf_all %>% head()"
   ]
  },
  {
   "cell_type": "markdown",
   "id": "95c27651-6e43-4172-9a76-5e25da5a61bf",
   "metadata": {
    "tags": []
   },
   "source": [
    "### __wbRNA__"
   ]
  },
  {
   "cell_type": "code",
   "execution_count": 4,
   "id": "ad7aa44c-96fc-44cd-ae1d-c397e304ef74",
   "metadata": {},
   "outputs": [
    {
     "data": {
      "text/html": [
       "<table class=\"dataframe\">\n",
       "<caption>A data.frame: 6 × 5</caption>\n",
       "<thead>\n",
       "\t<tr><th></th><th scope=col>PTID</th><th scope=col>wbrna_sample_id</th><th scope=col>simpson_wbrna</th><th scope=col>Diagnosis</th><th scope=col>timepoint</th></tr>\n",
       "\t<tr><th></th><th scope=col>&lt;chr&gt;</th><th scope=col>&lt;chr&gt;</th><th scope=col>&lt;dbl&gt;</th><th scope=col>&lt;chr&gt;</th><th scope=col>&lt;chr&gt;</th></tr>\n",
       "</thead>\n",
       "<tbody>\n",
       "\t<tr><th scope=row>1</th><td>Patient218</td><td>PV1  </td><td>0.6992987</td><td>COVID-19</td><td>acute</td></tr>\n",
       "\t<tr><th scope=row>2</th><td>Patient77 </td><td>PV100</td><td>0.2341206</td><td>MIS-C   </td><td>acute</td></tr>\n",
       "\t<tr><th scope=row>3</th><td>Patient79 </td><td>PV101</td><td>0.8853703</td><td>MIS-C   </td><td>acute</td></tr>\n",
       "\t<tr><th scope=row>4</th><td>Patient80 </td><td>PV102</td><td>0.8788476</td><td>MIS-C   </td><td>acute</td></tr>\n",
       "\t<tr><th scope=row>5</th><td>Patient82 </td><td>PV103</td><td>0.8067845</td><td>MIS-C   </td><td>acute</td></tr>\n",
       "\t<tr><th scope=row>6</th><td>Patient83 </td><td>PV104</td><td>0.8095330</td><td>MIS-C   </td><td>acute</td></tr>\n",
       "</tbody>\n",
       "</table>\n"
      ],
      "text/latex": [
       "A data.frame: 6 × 5\n",
       "\\begin{tabular}{r|lllll}\n",
       "  & PTID & wbrna\\_sample\\_id & simpson\\_wbrna & Diagnosis & timepoint\\\\\n",
       "  & <chr> & <chr> & <dbl> & <chr> & <chr>\\\\\n",
       "\\hline\n",
       "\t1 & Patient218 & PV1   & 0.6992987 & COVID-19 & acute\\\\\n",
       "\t2 & Patient77  & PV100 & 0.2341206 & MIS-C    & acute\\\\\n",
       "\t3 & Patient79  & PV101 & 0.8853703 & MIS-C    & acute\\\\\n",
       "\t4 & Patient80  & PV102 & 0.8788476 & MIS-C    & acute\\\\\n",
       "\t5 & Patient82  & PV103 & 0.8067845 & MIS-C    & acute\\\\\n",
       "\t6 & Patient83  & PV104 & 0.8095330 & MIS-C    & acute\\\\\n",
       "\\end{tabular}\n"
      ],
      "text/markdown": [
       "\n",
       "A data.frame: 6 × 5\n",
       "\n",
       "| <!--/--> | PTID &lt;chr&gt; | wbrna_sample_id &lt;chr&gt; | simpson_wbrna &lt;dbl&gt; | Diagnosis &lt;chr&gt; | timepoint &lt;chr&gt; |\n",
       "|---|---|---|---|---|---|\n",
       "| 1 | Patient218 | PV1   | 0.6992987 | COVID-19 | acute |\n",
       "| 2 | Patient77  | PV100 | 0.2341206 | MIS-C    | acute |\n",
       "| 3 | Patient79  | PV101 | 0.8853703 | MIS-C    | acute |\n",
       "| 4 | Patient80  | PV102 | 0.8788476 | MIS-C    | acute |\n",
       "| 5 | Patient82  | PV103 | 0.8067845 | MIS-C    | acute |\n",
       "| 6 | Patient83  | PV104 | 0.8095330 | MIS-C    | acute |\n",
       "\n"
      ],
      "text/plain": [
       "  PTID       wbrna_sample_id simpson_wbrna Diagnosis timepoint\n",
       "1 Patient218 PV1             0.6992987     COVID-19  acute    \n",
       "2 Patient77  PV100           0.2341206     MIS-C     acute    \n",
       "3 Patient79  PV101           0.8853703     MIS-C     acute    \n",
       "4 Patient80  PV102           0.8788476     MIS-C     acute    \n",
       "5 Patient82  PV103           0.8067845     MIS-C     acute    \n",
       "6 Patient83  PV104           0.8095330     MIS-C     acute    "
      ]
     },
     "metadata": {},
     "output_type": "display_data"
    }
   ],
   "source": [
    "wb_meta <- read.csv(\"../1_sample-data/STable7_wbrna-samples.csv\") %>%  mutate(PTID_TIME = paste0(PTID,\"_\",timepoint))\n",
    "wb_decon <- wb_meta[,c(\"wbrna_sample_id\",CELLTYPES)]\n",
    "\n",
    "\n",
    "\n",
    "wb_alpha <- data.frame(as.matrix((vegan::diversity(x=wb_decon[,-1], index = method))))\n",
    "\n",
    "rownames(wb_alpha) <- wb_decon$wbrna_sample_id\n",
    "colnames(wb_alpha) <- paste0(method,\"_wbrna\")\n",
    "\n",
    "\n",
    "wb_all <- merge(wb_meta,wb_alpha,by.x=\"wbrna_sample_id\",by.y=0) %>% select(PTID,wbrna_sample_id, simpson_wbrna,Diagnosis,timepoint)\n",
    "\n",
    "wb_all <- wb_all %>% filter(timepoint == \"acute\" | Diagnosis == \"Control_Non-inflammatory\")\n",
    "\n",
    "wb_all %>% head()"
   ]
  },
  {
   "cell_type": "markdown",
   "id": "20210b11-d7bd-413b-9750-38e5d1a8f4a7",
   "metadata": {
    "tags": []
   },
   "source": [
    "### __merge__"
   ]
  },
  {
   "cell_type": "code",
   "execution_count": 5,
   "id": "d2719376-538a-4f69-8f94-1757fd46396f",
   "metadata": {},
   "outputs": [],
   "source": [
    "cf_all_ids <- merge(cf_all, paired, by=\"cfrna_sample_id\")\n",
    "\n",
    "com_all <- merge(wb_all,cf_all_ids, by = c(\"wbrna_sample_id\",\"Diagnosis\",\"timepoint\")) %>%\n",
    "    filter(timepoint == \"acute\" | Diagnosis == \"Control_Non-inflammatory\") %>%\n",
    "    select(PTID, simpson_wbrna, simpson_cfrna, Diagnosis)\n",
    "# com_all %>% head()\n",
    "# com_all %>% nrow()\n",
    "\n",
    "com_all_melt <- melt(com_all, id.vars = c(\"PTID\",\"Diagnosis\")) %>% \n",
    "    mutate(variable = factor(variable, levels = c(\"simpson_cfrna\",\"simpson_wbrna\")))\n",
    "\n",
    "# com_all_melt %>% head()"
   ]
  },
  {
   "cell_type": "markdown",
   "id": "6a7eb518-3ec8-449f-aefd-27ec065acb71",
   "metadata": {},
   "source": [
    "### __Analysis__"
   ]
  },
  {
   "cell_type": "code",
   "execution_count": 6,
   "id": "5b809263-a2e6-49ec-871f-6b12668fec95",
   "metadata": {},
   "outputs": [],
   "source": [
    "ADD_ON <- list(geom_boxplot(outlier.shape = NA,color=\"black\",size = 0.5),\n",
    "               geom_point(size = 0.5),\n",
    "               geom_line(aes(group=PTID),size = 0.2),\n",
    "               theme_prevail(),\n",
    "                theme(legend.position = \"none\",\n",
    "                    axis.title.y = element_blank(),\n",
    "                    axis.title.x = element_blank(),\n",
    "                    axis.text.x = element_blank(),\n",
    "                    panel.grid.minor = element_blank()),\n",
    "                scale_x_discrete(guide = guide_axis(n.dodge = 2)),\n",
    "               scale_fill_manual(values=DiagnosisPalette) ,\n",
    "#                scale_y_continuous(breaks = seq(0,1,length.out  = 4)),\n",
    "               coord_cartesian(ylim = c(0,1))\n",
    "              )"
   ]
  },
  {
   "cell_type": "code",
   "execution_count": 9,
   "id": "6ba316c8-756c-4ee4-a3ed-e2dab40cb31e",
   "metadata": {},
   "outputs": [],
   "source": [
    "WIDTH = 1.3\n",
    "HEIGHT = 1.35"
   ]
  },
  {
   "cell_type": "code",
   "execution_count": 10,
   "id": "10f50019-fbe4-4988-b617-3806a2266f6a",
   "metadata": {},
   "outputs": [
    {
     "data": {
      "text/html": [
       "<table class=\"dataframe\">\n",
       "<caption>A data.frame: 6 × 4</caption>\n",
       "<thead>\n",
       "\t<tr><th></th><th scope=col>PTID</th><th scope=col>Diagnosis</th><th scope=col>variable</th><th scope=col>value</th></tr>\n",
       "\t<tr><th></th><th scope=col>&lt;chr&gt;</th><th scope=col>&lt;chr&gt;</th><th scope=col>&lt;fct&gt;</th><th scope=col>&lt;dbl&gt;</th></tr>\n",
       "</thead>\n",
       "<tbody>\n",
       "\t<tr><th scope=row>1</th><td>Patient77</td><td>MIS-C</td><td>simpson_wbrna</td><td>0.2341206</td></tr>\n",
       "\t<tr><th scope=row>2</th><td>Patient79</td><td>MIS-C</td><td>simpson_wbrna</td><td>0.8853703</td></tr>\n",
       "\t<tr><th scope=row>3</th><td>Patient83</td><td>MIS-C</td><td>simpson_wbrna</td><td>0.8095330</td></tr>\n",
       "\t<tr><th scope=row>4</th><td>Patient84</td><td>MIS-C</td><td>simpson_wbrna</td><td>0.8578257</td></tr>\n",
       "\t<tr><th scope=row>5</th><td>Patient86</td><td>MIS-C</td><td>simpson_wbrna</td><td>0.7485490</td></tr>\n",
       "\t<tr><th scope=row>6</th><td>Patient92</td><td>MIS-C</td><td>simpson_wbrna</td><td>0.8692290</td></tr>\n",
       "</tbody>\n",
       "</table>\n"
      ],
      "text/latex": [
       "A data.frame: 6 × 4\n",
       "\\begin{tabular}{r|llll}\n",
       "  & PTID & Diagnosis & variable & value\\\\\n",
       "  & <chr> & <chr> & <fct> & <dbl>\\\\\n",
       "\\hline\n",
       "\t1 & Patient77 & MIS-C & simpson\\_wbrna & 0.2341206\\\\\n",
       "\t2 & Patient79 & MIS-C & simpson\\_wbrna & 0.8853703\\\\\n",
       "\t3 & Patient83 & MIS-C & simpson\\_wbrna & 0.8095330\\\\\n",
       "\t4 & Patient84 & MIS-C & simpson\\_wbrna & 0.8578257\\\\\n",
       "\t5 & Patient86 & MIS-C & simpson\\_wbrna & 0.7485490\\\\\n",
       "\t6 & Patient92 & MIS-C & simpson\\_wbrna & 0.8692290\\\\\n",
       "\\end{tabular}\n"
      ],
      "text/markdown": [
       "\n",
       "A data.frame: 6 × 4\n",
       "\n",
       "| <!--/--> | PTID &lt;chr&gt; | Diagnosis &lt;chr&gt; | variable &lt;fct&gt; | value &lt;dbl&gt; |\n",
       "|---|---|---|---|---|\n",
       "| 1 | Patient77 | MIS-C | simpson_wbrna | 0.2341206 |\n",
       "| 2 | Patient79 | MIS-C | simpson_wbrna | 0.8853703 |\n",
       "| 3 | Patient83 | MIS-C | simpson_wbrna | 0.8095330 |\n",
       "| 4 | Patient84 | MIS-C | simpson_wbrna | 0.8578257 |\n",
       "| 5 | Patient86 | MIS-C | simpson_wbrna | 0.7485490 |\n",
       "| 6 | Patient92 | MIS-C | simpson_wbrna | 0.8692290 |\n",
       "\n"
      ],
      "text/plain": [
       "  PTID      Diagnosis variable      value    \n",
       "1 Patient77 MIS-C     simpson_wbrna 0.2341206\n",
       "2 Patient79 MIS-C     simpson_wbrna 0.8853703\n",
       "3 Patient83 MIS-C     simpson_wbrna 0.8095330\n",
       "4 Patient84 MIS-C     simpson_wbrna 0.8578257\n",
       "5 Patient86 MIS-C     simpson_wbrna 0.7485490\n",
       "6 Patient92 MIS-C     simpson_wbrna 0.8692290"
      ]
     },
     "metadata": {},
     "output_type": "display_data"
    }
   ],
   "source": [
    "com_all_melt %>% head()"
   ]
  },
  {
   "cell_type": "code",
   "execution_count": 11,
   "id": "defc6990-f674-41ab-809e-ab5c77e68246",
   "metadata": {},
   "outputs": [
    {
     "data": {
      "text/html": [
       "<strong>png:</strong> 2"
      ],
      "text/latex": [
       "\\textbf{png:} 2"
      ],
      "text/markdown": [
       "**png:** 2"
      ],
      "text/plain": [
       "png \n",
       "  2 "
      ]
     },
     "metadata": {},
     "output_type": "display_data"
    },
    {
     "data": {
      "text/html": [
       "12"
      ],
      "text/latex": [
       "12"
      ],
      "text/markdown": [
       "12"
      ],
      "text/plain": [
       "[1] 12"
      ]
     },
     "metadata": {},
     "output_type": "display_data"
    },
    {
     "data": {
      "text/plain": [
       "\n",
       "\tWilcoxon signed rank exact test\n",
       "\n",
       "data:  tmp$simpson_wbrna and tmp$simpson_cfrna\n",
       "V = 77, p-value = 0.0009766\n",
       "alternative hypothesis: true location shift is not equal to 0\n"
      ]
     },
     "metadata": {},
     "output_type": "display_data"
    }
   ],
   "source": [
    "pdf(file=\"plots/panelD_control.pdf\",\n",
    "        width=WIDTH,height=HEIGHT, paper=\"special\", bg=\"white\",\n",
    "        fonts=\"Helvetica\", colormodel = \"srgb\", pointsize=6, useDingbats = FALSE)\n",
    "\n",
    "com_all_melt %>% \n",
    "    filter(Diagnosis == \"Control_Non-inflammatory\") %>% \n",
    "    ggplot(aes(x=variable,y=value,fill=Diagnosis))+\n",
    "    ADD_ON\n",
    "\n",
    "dev.off()\n",
    "\n",
    "tmp <- com_all %>% \n",
    "    filter(Diagnosis == \"Control_Non-inflammatory\")\n",
    "\n",
    "nrow(tmp)\n",
    "\n",
    "wilcox.test(tmp$simpson_wbrna,tmp$simpson_cfrna,paired=TRUE)"
   ]
  },
  {
   "cell_type": "code",
   "execution_count": 12,
   "id": "9ac32505-eeb2-4170-b1f0-435ad1aab761",
   "metadata": {},
   "outputs": [
    {
     "data": {
      "text/html": [
       "<strong>png:</strong> 2"
      ],
      "text/latex": [
       "\\textbf{png:} 2"
      ],
      "text/markdown": [
       "**png:** 2"
      ],
      "text/plain": [
       "png \n",
       "  2 "
      ]
     },
     "metadata": {},
     "output_type": "display_data"
    },
    {
     "data": {
      "text/html": [
       "12"
      ],
      "text/latex": [
       "12"
      ],
      "text/markdown": [
       "12"
      ],
      "text/plain": [
       "[1] 12"
      ]
     },
     "metadata": {},
     "output_type": "display_data"
    },
    {
     "data": {
      "text/plain": [
       "\n",
       "\tWilcoxon signed rank exact test\n",
       "\n",
       "data:  tmp$simpson_wbrna and tmp$simpson_cfrna\n",
       "V = 66, p-value = 0.03418\n",
       "alternative hypothesis: true location shift is not equal to 0\n"
      ]
     },
     "metadata": {},
     "output_type": "display_data"
    }
   ],
   "source": [
    "pdf(file=\"plots/panelD_covid.pdf\",\n",
    "        width=WIDTH,height=HEIGHT, paper=\"special\", bg=\"white\",\n",
    "        fonts=\"Helvetica\", colormodel = \"srgb\", pointsize=6, useDingbats = FALSE)\n",
    "\n",
    "com_all_melt %>% \n",
    "    filter(Diagnosis == \"COVID-19\") %>% \n",
    "    ggplot(aes(x=variable,y=value,fill=Diagnosis))+\n",
    "    ADD_ON\n",
    "\n",
    "dev.off()\n",
    "\n",
    "tmp <- com_all %>% \n",
    "    filter(Diagnosis == \"COVID-19\")\n",
    "\n",
    "nrow(tmp)\n",
    "\n",
    "wilcox.test(tmp$simpson_wbrna,tmp$simpson_cfrna,paired=TRUE)"
   ]
  },
  {
   "cell_type": "code",
   "execution_count": 13,
   "id": "189f2039-5290-4dd3-8f54-f2a27ae38167",
   "metadata": {},
   "outputs": [
    {
     "data": {
      "text/html": [
       "<strong>png:</strong> 2"
      ],
      "text/latex": [
       "\\textbf{png:} 2"
      ],
      "text/markdown": [
       "**png:** 2"
      ],
      "text/plain": [
       "png \n",
       "  2 "
      ]
     },
     "metadata": {},
     "output_type": "display_data"
    },
    {
     "data": {
      "text/plain": [
       "\n",
       "\tWilcoxon signed rank exact test\n",
       "\n",
       "data:  tmp$simpson_wbrna and tmp$simpson_cfrna\n",
       "V = 296, p-value = 0.357\n",
       "alternative hypothesis: true location shift is not equal to 0\n"
      ]
     },
     "metadata": {},
     "output_type": "display_data"
    }
   ],
   "source": [
    "pdf(file=\"plots/panelD_misc.pdf\",\n",
    "        width=WIDTH,height=HEIGHT, paper=\"special\", bg=\"white\",\n",
    "        fonts=\"Helvetica\", colormodel = \"srgb\", pointsize=6, useDingbats = FALSE)\n",
    "\n",
    "com_all_melt %>% \n",
    "    filter(Diagnosis == \"MIS-C\") %>% \n",
    "    ggplot(aes(x=variable,y=value,fill=Diagnosis))+\n",
    "    ADD_ON\n",
    "\n",
    "dev.off()\n",
    "\n",
    "tmp <- com_all %>% \n",
    "    filter(Diagnosis == \"MIS-C\")\n",
    "\n",
    "wilcox.test(tmp$simpson_wbrna,tmp$simpson_cfrna,paired=TRUE)"
   ]
  },
  {
   "cell_type": "markdown",
   "id": "5cf70021-9025-48bf-a3c5-6c721aab7318",
   "metadata": {},
   "source": [
    "---\n",
    "---"
   ]
  },
  {
   "cell_type": "code",
   "execution_count": 12,
   "id": "c7896d1a-8d0c-40d1-b1ec-f560e1a62eab",
   "metadata": {},
   "outputs": [
    {
     "name": "stderr",
     "output_type": "stream",
     "text": [
      "\n",
      "Attaching package: ‘rstatix’\n",
      "\n",
      "\n",
      "The following object is masked from ‘package:stats’:\n",
      "\n",
      "    filter\n",
      "\n",
      "\n"
     ]
    }
   ],
   "source": [
    "library(rstatix)\n",
    "library(ggpubr)"
   ]
  },
  {
   "cell_type": "code",
   "execution_count": 13,
   "id": "04398e22-e2c7-471b-a85a-956554b8bc2a",
   "metadata": {},
   "outputs": [],
   "source": [
    "ADD_ON2 <- list(geom_boxplot(aes(fill=Diagnosis),outlier.shape = NA,color=\"black\",size = 0.5),\n",
    "               geom_point(size = 0.5),\n",
    "               geom_line(aes(group=PTID),size = 0.2),\n",
    "               theme_prevail(),\n",
    "                theme(legend.position = \"none\",\n",
    "                    axis.title.y = element_blank(),\n",
    "                    axis.title.x = element_blank(),\n",
    "                    axis.text.x = element_blank(),\n",
    "                    panel.grid.minor = element_blank()),\n",
    "                scale_x_discrete(guide = guide_axis(n.dodge = 2)),\n",
    "               scale_fill_manual(values=DiagnosisPalette) ,\n",
    "#                scale_y_continuous(breaks = seq(0,1,length.out  = 4)),\n",
    "               coord_cartesian(ylim = c(0,1))\n",
    "              )\n",
    "\n",
    "YLIM = 1.3\n",
    "WIDTH = 1.7\n",
    "HEIGHT = 1.35"
   ]
  },
  {
   "cell_type": "code",
   "execution_count": 14,
   "id": "980af16b-71b1-4dd2-a9dd-68e34f79c789",
   "metadata": {},
   "outputs": [
    {
     "name": "stderr",
     "output_type": "stream",
     "text": [
      "Coordinate system already present. Adding new coordinate system, which will replace the existing one.\n",
      "\n",
      "geom_path: Each group consists of only one observation. Do you need to adjust\n",
      "the group aesthetic?\n",
      "\n",
      "geom_path: Each group consists of only one observation. Do you need to adjust\n",
      "the group aesthetic?\n",
      "\n"
     ]
    },
    {
     "data": {
      "text/html": [
       "<strong>png:</strong> 2"
      ],
      "text/latex": [
       "\\textbf{png:} 2"
      ],
      "text/markdown": [
       "**png:** 2"
      ],
      "text/plain": [
       "png \n",
       "  2 "
      ]
     },
     "metadata": {},
     "output_type": "display_data"
    },
    {
     "data": {
      "image/png": "[encoded data removed]",
      "text/plain": [
       "plot without title"
      ]
     },
     "metadata": {
      "image/png": {
       "height": 420,
       "width": 420
      }
     },
     "output_type": "display_data"
    }
   ],
   "source": [
    "bxplt <- com_all %>% \n",
    "    filter(Diagnosis != \"Control_Inflammatory\") %>%\n",
    "    ggplot(aes(x=Diagnosis, y=simpson_cfrna))+\n",
    "    ADD_ON2\n",
    "\n",
    "stat.test <- data.frame(com_all) %>% filter(Diagnosis != \"Control_Inflammatory\") %>%\n",
    "        wilcox_test(simpson_cfrna ~ Diagnosis, paired = FALSE)  %>% \n",
    "        adjust_pvalue(method = \"BH\") %>% \n",
    "        add_significance(\"p.adj\") %>% \n",
    "        add_xy_position(x = \"Diagnosis\") \n",
    "\n",
    "bxplt <- bxplt +  \n",
    "stat_pvalue_manual(stat.test, label = \"p.adj.signif\")+ \n",
    "coord_cartesian(ylim = c(0,YLIM)) + scale_y_continuous(breaks = seq(0, 1, by = .25))\n",
    "\n",
    "bxplt\n",
    "\n",
    "\n",
    "pdf(file=paste0(\"plots/SupPanelF_cfrna.pdf\"),\n",
    "        width=WIDTH,height=HEIGHT, paper=\"special\", bg=\"white\",\n",
    "        fonts=\"Helvetica\", colormodel = \"srgb\", pointsize=6, useDingbats = FALSE)\n",
    "\n",
    "bxplt\n",
    "\n",
    "dev.off() \n"
   ]
  },
  {
   "cell_type": "code",
   "execution_count": null,
   "id": "af4e5da7-927e-4e52-ad77-c4ed0278fb52",
   "metadata": {},
   "outputs": [],
   "source": []
  },
  {
   "cell_type": "code",
   "execution_count": 16,
   "id": "48758caa-fa52-429e-9ad4-b2918f5e8a82",
   "metadata": {},
   "outputs": [
    {
     "name": "stderr",
     "output_type": "stream",
     "text": [
      "\n",
      "Attaching package: ‘rstatix’\n",
      "\n",
      "\n",
      "The following object is masked from ‘package:stats’:\n",
      "\n",
      "    filter\n",
      "\n",
      "\n"
     ]
    },
    {
     "data": {
      "text/html": [
       "<table class=\"dataframe\">\n",
       "<caption>A rstatix_test: 3 × 9</caption>\n",
       "<thead>\n",
       "\t<tr><th scope=col>.y.</th><th scope=col>group1</th><th scope=col>group2</th><th scope=col>n1</th><th scope=col>n2</th><th scope=col>statistic</th><th scope=col>p</th><th scope=col>p.adj</th><th scope=col>p.adj.signif</th></tr>\n",
       "\t<tr><th scope=col>&lt;chr&gt;</th><th scope=col>&lt;chr&gt;</th><th scope=col>&lt;chr&gt;</th><th scope=col>&lt;int&gt;</th><th scope=col>&lt;int&gt;</th><th scope=col>&lt;dbl&gt;</th><th scope=col>&lt;dbl&gt;</th><th scope=col>&lt;dbl&gt;</th><th scope=col>&lt;chr&gt;</th></tr>\n",
       "</thead>\n",
       "<tbody>\n",
       "\t<tr><td>simpson_cfrna</td><td>Control_Non-inflammatory</td><td>COVID-19</td><td>12</td><td>12</td><td> 44</td><td>0.114000</td><td>0.171000</td><td>ns </td></tr>\n",
       "\t<tr><td>simpson_cfrna</td><td>Control_Non-inflammatory</td><td>MIS-C   </td><td>12</td><td>31</td><td> 56</td><td>0.000212</td><td>0.000636</td><td>***</td></tr>\n",
       "\t<tr><td>simpson_cfrna</td><td>COVID-19                </td><td>MIS-C   </td><td>12</td><td>31</td><td>135</td><td>0.174000</td><td>0.174000</td><td>ns </td></tr>\n",
       "</tbody>\n",
       "</table>\n"
      ],
      "text/latex": [
       "A rstatix\\_test: 3 × 9\n",
       "\\begin{tabular}{lllllllll}\n",
       " .y. & group1 & group2 & n1 & n2 & statistic & p & p.adj & p.adj.signif\\\\\n",
       " <chr> & <chr> & <chr> & <int> & <int> & <dbl> & <dbl> & <dbl> & <chr>\\\\\n",
       "\\hline\n",
       "\t simpson\\_cfrna & Control\\_Non-inflammatory & COVID-19 & 12 & 12 &  44 & 0.114000 & 0.171000 & ns \\\\\n",
       "\t simpson\\_cfrna & Control\\_Non-inflammatory & MIS-C    & 12 & 31 &  56 & 0.000212 & 0.000636 & ***\\\\\n",
       "\t simpson\\_cfrna & COVID-19                 & MIS-C    & 12 & 31 & 135 & 0.174000 & 0.174000 & ns \\\\\n",
       "\\end{tabular}\n"
      ],
      "text/markdown": [
       "\n",
       "A rstatix_test: 3 × 9\n",
       "\n",
       "| .y. &lt;chr&gt; | group1 &lt;chr&gt; | group2 &lt;chr&gt; | n1 &lt;int&gt; | n2 &lt;int&gt; | statistic &lt;dbl&gt; | p &lt;dbl&gt; | p.adj &lt;dbl&gt; | p.adj.signif &lt;chr&gt; |\n",
       "|---|---|---|---|---|---|---|---|---|\n",
       "| simpson_cfrna | Control_Non-inflammatory | COVID-19 | 12 | 12 |  44 | 0.114000 | 0.171000 | ns  |\n",
       "| simpson_cfrna | Control_Non-inflammatory | MIS-C    | 12 | 31 |  56 | 0.000212 | 0.000636 | *** |\n",
       "| simpson_cfrna | COVID-19                 | MIS-C    | 12 | 31 | 135 | 0.174000 | 0.174000 | ns  |\n",
       "\n"
      ],
      "text/plain": [
       "  .y.           group1                   group2   n1 n2 statistic p       \n",
       "1 simpson_cfrna Control_Non-inflammatory COVID-19 12 12  44       0.114000\n",
       "2 simpson_cfrna Control_Non-inflammatory MIS-C    12 31  56       0.000212\n",
       "3 simpson_cfrna COVID-19                 MIS-C    12 31 135       0.174000\n",
       "  p.adj    p.adj.signif\n",
       "1 0.171000 ns          \n",
       "2 0.000636 ***         \n",
       "3 0.174000 ns          "
      ]
     },
     "metadata": {},
     "output_type": "display_data"
    }
   ],
   "source": [
    "\n",
    "\n",
    "library(ggpubr)\n",
    "library(rstatix)\n",
    "\n",
    "\n",
    "stat.test <- com_all %>% \n",
    "    filter(Diagnosis != \"Control_Inflammatory\") %>% \n",
    "    wilcox_test( simpson_cfrna ~ Diagnosis, paired = FALSE) %>% \n",
    "    adjust_pvalue(method = \"BH\") %>% \n",
    "    add_significance(\"p.adj\")\n",
    "\n",
    "stat.test"
   ]
  },
  {
   "cell_type": "code",
   "execution_count": 16,
   "id": "eb8c1039-a191-491e-9f4e-c2762a2f7af5",
   "metadata": {},
   "outputs": [
    {
     "name": "stderr",
     "output_type": "stream",
     "text": [
      "Coordinate system already present. Adding new coordinate system, which will replace the existing one.\n",
      "\n",
      "geom_path: Each group consists of only one observation. Do you need to adjust\n",
      "the group aesthetic?\n",
      "\n",
      "geom_path: Each group consists of only one observation. Do you need to adjust\n",
      "the group aesthetic?\n",
      "\n"
     ]
    },
    {
     "data": {
      "text/html": [
       "<strong>png:</strong> 2"
      ],
      "text/latex": [
       "\\textbf{png:} 2"
      ],
      "text/markdown": [
       "**png:** 2"
      ],
      "text/plain": [
       "png \n",
       "  2 "
      ]
     },
     "metadata": {},
     "output_type": "display_data"
    },
    {
     "data": {
      "image/png": "[encoded data removed]",
      "text/plain": [
       "plot without title"
      ]
     },
     "metadata": {
      "image/png": {
       "height": 420,
       "width": 420
      }
     },
     "output_type": "display_data"
    }
   ],
   "source": [
    "bxplt <- com_all %>% \n",
    "    filter(Diagnosis != \"Control_Inflammatory\") %>%\n",
    "    ggplot(aes(x=Diagnosis, y=simpson_wbrna))+\n",
    "    ADD_ON2\n",
    "\n",
    "stat.test <- data.frame(com_all) %>% filter(Diagnosis != \"Control_Inflammatory\") %>%\n",
    "        wilcox_test(simpson_wbrna ~ Diagnosis, paired = FALSE)  %>% \n",
    "        adjust_pvalue(method = \"BH\") %>% \n",
    "        add_significance(\"p.adj\") %>% \n",
    "        add_xy_position(x = \"Diagnosis\") \n",
    "\n",
    "bxplt <- bxplt +  \n",
    "stat_pvalue_manual(stat.test, label = \"p.adj.signif\")+ \n",
    "coord_cartesian(ylim = c(0,YLIM)) + scale_y_continuous(breaks = seq(0, 1, by = .25))\n",
    "\n",
    "bxplt\n",
    "\n",
    "\n",
    "pdf(file=paste0(\"plots/SupPanelF_wbrna.pdf\"),\n",
    "        width=WIDTH,height=HEIGHT, paper=\"special\", bg=\"white\",\n",
    "        fonts=\"Helvetica\", colormodel = \"srgb\", pointsize=6, useDingbats = FALSE)\n",
    "\n",
    "bxplt\n",
    "\n",
    "dev.off() "
   ]
  },
  {
   "cell_type": "code",
   "execution_count": null,
   "id": "b534a60b-3d94-4475-a1d7-ce8add1a3686",
   "metadata": {},
   "outputs": [],
   "source": []
  },
  {
   "cell_type": "code",
   "execution_count": null,
   "id": "ba153c4a-046e-40d8-aed6-9de98575b556",
   "metadata": {},
   "outputs": [],
   "source": []
  }
 ],
 "metadata": {
  "kernelspec": {
   "display_name": "R",
   "language": "R",
   "name": "ir"
  },
  "language_info": {
   "codemirror_mode": "r",
   "file_extension": ".r",
   "mimetype": "text/x-r-source",
   "name": "R",
   "pygments_lexer": "r",
   "version": "4.1.1"
  }
 },
 "nbformat": 4,
 "nbformat_minor": 5
}
