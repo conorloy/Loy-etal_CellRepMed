{
 "cells": [
  {
   "cell_type": "markdown",
   "id": "1df9c5c6-3dc8-47d8-9f55-3ba467c2020c",
   "metadata": {
    "tags": []
   },
   "source": [
    "### __Libraries__"
   ]
  },
  {
   "cell_type": "code",
   "execution_count": 1,
   "id": "cde563e9-6dc8-4206-8ff4-7758b9a4d56a",
   "metadata": {},
   "outputs": [
    {
     "name": "stderr",
     "output_type": "stream",
     "text": [
      "── \u001b[1mAttaching packages\u001b[22m ───────────────────────────────────────────────────────────────────── tidyverse 1.3.1 ──\n",
      "\n",
      "\u001b[32m✔\u001b[39m \u001b[34mggplot2\u001b[39m 3.3.6     \u001b[32m✔\u001b[39m \u001b[34mpurrr  \u001b[39m 0.3.4\n",
      "\u001b[32m✔\u001b[39m \u001b[34mtibble \u001b[39m 3.1.7     \u001b[32m✔\u001b[39m \u001b[34mdplyr  \u001b[39m 1.0.8\n",
      "\u001b[32m✔\u001b[39m \u001b[34mtidyr  \u001b[39m 1.2.0     \u001b[32m✔\u001b[39m \u001b[34mstringr\u001b[39m 1.4.0\n",
      "\u001b[32m✔\u001b[39m \u001b[34mreadr  \u001b[39m 2.1.2     \u001b[32m✔\u001b[39m \u001b[34mforcats\u001b[39m 0.5.1\n",
      "\n",
      "── \u001b[1mConflicts\u001b[22m ──────────────────────────────────────────────────────────────────────── tidyverse_conflicts() ──\n",
      "\u001b[31m✖\u001b[39m \u001b[34mdplyr\u001b[39m::\u001b[32mfilter()\u001b[39m masks \u001b[34mstats\u001b[39m::filter()\n",
      "\u001b[31m✖\u001b[39m \u001b[34mdplyr\u001b[39m::\u001b[32mlag()\u001b[39m    masks \u001b[34mstats\u001b[39m::lag()\n",
      "\n",
      "\n",
      "Attaching package: ‘reshape2’\n",
      "\n",
      "\n",
      "The following object is masked from ‘package:tidyr’:\n",
      "\n",
      "    smiths\n",
      "\n",
      "\n"
     ]
    }
   ],
   "source": [
    "library(tidyverse)\n",
    "library(reshape2)\n",
    "\n",
    "DiagnosisPalette = c('#5CB2EB','#F0484E','#FBE77C')\n",
    "names(DiagnosisPalette) <- c(\"MIS-C\",\"COVID-19\",\"Control_Non-inflammatory\")\n",
    "\n",
    "source('../../0_metadata/theme_CRP-MISC.R')\n",
    "\n",
    "method = \"simpson\""
   ]
  },
  {
   "cell_type": "markdown",
   "id": "0588a9af-d41d-4d0f-98c2-b567de39dba8",
   "metadata": {
    "tags": []
   },
   "source": [
    "### __cfRNA__"
   ]
  },
  {
   "cell_type": "code",
   "execution_count": 2,
   "id": "9c1b8ba2-e5fd-477f-bd77-54d39f16a427",
   "metadata": {},
   "outputs": [
    {
     "data": {
      "text/html": [
       "<table class=\"dataframe\">\n",
       "<caption>A data.frame: 6 × 5</caption>\n",
       "<thead>\n",
       "\t<tr><th></th><th scope=col>cfrna_file_id</th><th scope=col>PTID_DATE</th><th scope=col>Diagnosis</th><th scope=col>sample_group_matched</th><th scope=col>simpson_cfrna</th></tr>\n",
       "\t<tr><th></th><th scope=col>&lt;chr&gt;</th><th scope=col>&lt;chr&gt;</th><th scope=col>&lt;chr&gt;</th><th scope=col>&lt;int&gt;</th><th scope=col>&lt;dbl&gt;</th></tr>\n",
       "</thead>\n",
       "<tbody>\n",
       "\t<tr><th scope=row>1</th><td>prevail_cu_cfrna_108</td><td>NCOV3335CHOA_2021-03-03</td><td>MIS-C   </td><td> 1</td><td>0.90606548</td></tr>\n",
       "\t<tr><th scope=row>2</th><td>prevail_cu_cfrna_114</td><td>NCOV3289CHOA_2021-05-11</td><td>MIS-C   </td><td>24</td><td>0.60442851</td></tr>\n",
       "\t<tr><th scope=row>3</th><td>prevail_cu_cfrna_115</td><td>NCOV3343CHOA_2021-05-14</td><td>COVID-19</td><td>28</td><td>0.64722555</td></tr>\n",
       "\t<tr><th scope=row>4</th><td>prevail_cu_cfrna_117</td><td>NCOV3342CHOA_2021-05-14</td><td>COVID-19</td><td>28</td><td>0.04671671</td></tr>\n",
       "\t<tr><th scope=row>5</th><td>prevail_cu_cfrna_118</td><td>NCOV3333CHOA_2021-06-04</td><td>MIS-C   </td><td>22</td><td>0.44426241</td></tr>\n",
       "\t<tr><th scope=row>6</th><td>prevail_cu_cfrna_119</td><td>NCOV3329CHOA_2021-03-31</td><td>MIS-C   </td><td>16</td><td>0.20513283</td></tr>\n",
       "</tbody>\n",
       "</table>\n"
      ],
      "text/latex": [
       "A data.frame: 6 × 5\n",
       "\\begin{tabular}{r|lllll}\n",
       "  & cfrna\\_file\\_id & PTID\\_DATE & Diagnosis & sample\\_group\\_matched & simpson\\_cfrna\\\\\n",
       "  & <chr> & <chr> & <chr> & <int> & <dbl>\\\\\n",
       "\\hline\n",
       "\t1 & prevail\\_cu\\_cfrna\\_108 & NCOV3335CHOA\\_2021-03-03 & MIS-C    &  1 & 0.90606548\\\\\n",
       "\t2 & prevail\\_cu\\_cfrna\\_114 & NCOV3289CHOA\\_2021-05-11 & MIS-C    & 24 & 0.60442851\\\\\n",
       "\t3 & prevail\\_cu\\_cfrna\\_115 & NCOV3343CHOA\\_2021-05-14 & COVID-19 & 28 & 0.64722555\\\\\n",
       "\t4 & prevail\\_cu\\_cfrna\\_117 & NCOV3342CHOA\\_2021-05-14 & COVID-19 & 28 & 0.04671671\\\\\n",
       "\t5 & prevail\\_cu\\_cfrna\\_118 & NCOV3333CHOA\\_2021-06-04 & MIS-C    & 22 & 0.44426241\\\\\n",
       "\t6 & prevail\\_cu\\_cfrna\\_119 & NCOV3329CHOA\\_2021-03-31 & MIS-C    & 16 & 0.20513283\\\\\n",
       "\\end{tabular}\n"
      ],
      "text/markdown": [
       "\n",
       "A data.frame: 6 × 5\n",
       "\n",
       "| <!--/--> | cfrna_file_id &lt;chr&gt; | PTID_DATE &lt;chr&gt; | Diagnosis &lt;chr&gt; | sample_group_matched &lt;int&gt; | simpson_cfrna &lt;dbl&gt; |\n",
       "|---|---|---|---|---|---|\n",
       "| 1 | prevail_cu_cfrna_108 | NCOV3335CHOA_2021-03-03 | MIS-C    |  1 | 0.90606548 |\n",
       "| 2 | prevail_cu_cfrna_114 | NCOV3289CHOA_2021-05-11 | MIS-C    | 24 | 0.60442851 |\n",
       "| 3 | prevail_cu_cfrna_115 | NCOV3343CHOA_2021-05-14 | COVID-19 | 28 | 0.64722555 |\n",
       "| 4 | prevail_cu_cfrna_117 | NCOV3342CHOA_2021-05-14 | COVID-19 | 28 | 0.04671671 |\n",
       "| 5 | prevail_cu_cfrna_118 | NCOV3333CHOA_2021-06-04 | MIS-C    | 22 | 0.44426241 |\n",
       "| 6 | prevail_cu_cfrna_119 | NCOV3329CHOA_2021-03-31 | MIS-C    | 16 | 0.20513283 |\n",
       "\n"
      ],
      "text/plain": [
       "  cfrna_file_id        PTID_DATE               Diagnosis sample_group_matched\n",
       "1 prevail_cu_cfrna_108 NCOV3335CHOA_2021-03-03 MIS-C      1                  \n",
       "2 prevail_cu_cfrna_114 NCOV3289CHOA_2021-05-11 MIS-C     24                  \n",
       "3 prevail_cu_cfrna_115 NCOV3343CHOA_2021-05-14 COVID-19  28                  \n",
       "4 prevail_cu_cfrna_117 NCOV3342CHOA_2021-05-14 COVID-19  28                  \n",
       "5 prevail_cu_cfrna_118 NCOV3333CHOA_2021-06-04 MIS-C     22                  \n",
       "6 prevail_cu_cfrna_119 NCOV3329CHOA_2021-03-31 MIS-C     16                  \n",
       "  simpson_cfrna\n",
       "1 0.90606548   \n",
       "2 0.60442851   \n",
       "3 0.64722555   \n",
       "4 0.04671671   \n",
       "5 0.44426241   \n",
       "6 0.20513283   "
      ]
     },
     "metadata": {},
     "output_type": "display_data"
    }
   ],
   "source": [
    "cf_meta <- read.delim(\"../../0_metadata/cfrna.tsv\") %>% filter(sample_group_matched != -1) %>% select(PTID_DATE,cfrna_file_id,Diagnosis,sample_group_matched)\n",
    "cf_decon <- read.csv(\"../../1_sample-output/cfrna_deconvolution.csv\")\n",
    "\n",
    "cf_alpha <- data.frame(as.matrix((vegan::diversity(x=cf_decon[,-1], index = method))))\n",
    "\n",
    "rownames(cf_alpha) <- cf_decon$X\n",
    "colnames(cf_alpha) <- paste0(method,\"_cfrna\")\n",
    "\n",
    "\n",
    "cf_all <- merge(cf_meta,cf_alpha,by.x=\"cfrna_file_id\",by.y=0)\n",
    "\n",
    "cf_all %>% head()"
   ]
  },
  {
   "cell_type": "markdown",
   "id": "95c27651-6e43-4172-9a76-5e25da5a61bf",
   "metadata": {
    "tags": []
   },
   "source": [
    "### __wbRNA__"
   ]
  },
  {
   "cell_type": "code",
   "execution_count": 4,
   "id": "ad7aa44c-96fc-44cd-ae1d-c397e304ef74",
   "metadata": {},
   "outputs": [
    {
     "data": {
      "text/html": [
       "<table class=\"dataframe\">\n",
       "<caption>A data.frame: 6 × 2</caption>\n",
       "<thead>\n",
       "\t<tr><th></th><th scope=col>PTID_DATE</th><th scope=col>simpson_wbrna</th></tr>\n",
       "\t<tr><th></th><th scope=col>&lt;chr&gt;</th><th scope=col>&lt;dbl&gt;</th></tr>\n",
       "</thead>\n",
       "<tbody>\n",
       "\t<tr><th scope=row>1</th><td>NCOV3281CHOA_2021-01-29</td><td>0.2341206</td></tr>\n",
       "\t<tr><th scope=row>2</th><td>NCOV3283CHOA_2021-01-29</td><td>0.8853703</td></tr>\n",
       "\t<tr><th scope=row>3</th><td>NCOV3291CHOA_2021-02-04</td><td>0.8095330</td></tr>\n",
       "\t<tr><th scope=row>4</th><td>NCOV3292CHOA_2021-02-04</td><td>0.8578257</td></tr>\n",
       "\t<tr><th scope=row>5</th><td>NCOV3296CHOA_2021-02-05</td><td>0.7485490</td></tr>\n",
       "\t<tr><th scope=row>6</th><td>NCOV3301CHOA_2021-02-10</td><td>0.7228322</td></tr>\n",
       "</tbody>\n",
       "</table>\n"
      ],
      "text/latex": [
       "A data.frame: 6 × 2\n",
       "\\begin{tabular}{r|ll}\n",
       "  & PTID\\_DATE & simpson\\_wbrna\\\\\n",
       "  & <chr> & <dbl>\\\\\n",
       "\\hline\n",
       "\t1 & NCOV3281CHOA\\_2021-01-29 & 0.2341206\\\\\n",
       "\t2 & NCOV3283CHOA\\_2021-01-29 & 0.8853703\\\\\n",
       "\t3 & NCOV3291CHOA\\_2021-02-04 & 0.8095330\\\\\n",
       "\t4 & NCOV3292CHOA\\_2021-02-04 & 0.8578257\\\\\n",
       "\t5 & NCOV3296CHOA\\_2021-02-05 & 0.7485490\\\\\n",
       "\t6 & NCOV3301CHOA\\_2021-02-10 & 0.7228322\\\\\n",
       "\\end{tabular}\n"
      ],
      "text/markdown": [
       "\n",
       "A data.frame: 6 × 2\n",
       "\n",
       "| <!--/--> | PTID_DATE &lt;chr&gt; | simpson_wbrna &lt;dbl&gt; |\n",
       "|---|---|---|\n",
       "| 1 | NCOV3281CHOA_2021-01-29 | 0.2341206 |\n",
       "| 2 | NCOV3283CHOA_2021-01-29 | 0.8853703 |\n",
       "| 3 | NCOV3291CHOA_2021-02-04 | 0.8095330 |\n",
       "| 4 | NCOV3292CHOA_2021-02-04 | 0.8578257 |\n",
       "| 5 | NCOV3296CHOA_2021-02-05 | 0.7485490 |\n",
       "| 6 | NCOV3301CHOA_2021-02-10 | 0.7228322 |\n",
       "\n"
      ],
      "text/plain": [
       "  PTID_DATE               simpson_wbrna\n",
       "1 NCOV3281CHOA_2021-01-29 0.2341206    \n",
       "2 NCOV3283CHOA_2021-01-29 0.8853703    \n",
       "3 NCOV3291CHOA_2021-02-04 0.8095330    \n",
       "4 NCOV3292CHOA_2021-02-04 0.8578257    \n",
       "5 NCOV3296CHOA_2021-02-05 0.7485490    \n",
       "6 NCOV3301CHOA_2021-02-10 0.7228322    "
      ]
     },
     "metadata": {},
     "output_type": "display_data"
    }
   ],
   "source": [
    "wb_meta <- read.delim(\"../../0_metadata/wbrna.tsv\") %>% filter(sample_group_matched != -1) %>% select(PTID_DATE,SEQ_ID..UCSFonly.,sample_group_matched)\n",
    "# wb_decon <- read.csv(\"../../3_wbRNA/4_deconvolution/prevail_WB_bayes-prism.csv\")\n",
    "wb_decon <- read.csv(\"../../../3_wbRNA/deconvolution_new/prevail_bayes-prism.csv\")  \n",
    "\n",
    "\n",
    "\n",
    "wb_alpha <- data.frame(as.matrix((vegan::diversity(x=wb_decon[,-1], index = method))))\n",
    "\n",
    "rownames(wb_alpha) <- wb_decon$X\n",
    "colnames(wb_alpha) <- paste0(method,\"_wbrna\")\n",
    "\n",
    "\n",
    "wb_all <- merge(wb_meta,wb_alpha,by.x=\"SEQ_ID..UCSFonly.\",by.y=0) %>% select(PTID_DATE,simpson_wbrna)\n",
    "\n",
    "wb_all %>% head()"
   ]
  },
  {
   "cell_type": "markdown",
   "id": "20210b11-d7bd-413b-9750-38e5d1a8f4a7",
   "metadata": {
    "tags": []
   },
   "source": [
    "### __merge__"
   ]
  },
  {
   "cell_type": "code",
   "execution_count": 5,
   "id": "d2719376-538a-4f69-8f94-1757fd46396f",
   "metadata": {},
   "outputs": [
    {
     "data": {
      "text/html": [
       "98"
      ],
      "text/latex": [
       "98"
      ],
      "text/markdown": [
       "98"
      ],
      "text/plain": [
       "[1] 98"
      ]
     },
     "metadata": {},
     "output_type": "display_data"
    },
    {
     "data": {
      "text/html": [
       "<table class=\"dataframe\">\n",
       "<caption>A data.frame: 6 × 6</caption>\n",
       "<thead>\n",
       "\t<tr><th></th><th scope=col>PTID_DATE</th><th scope=col>cfrna_file_id</th><th scope=col>sample_group_matched</th><th scope=col>Diagnosis</th><th scope=col>variable</th><th scope=col>value</th></tr>\n",
       "\t<tr><th></th><th scope=col>&lt;chr&gt;</th><th scope=col>&lt;chr&gt;</th><th scope=col>&lt;int&gt;</th><th scope=col>&lt;chr&gt;</th><th scope=col>&lt;fct&gt;</th><th scope=col>&lt;dbl&gt;</th></tr>\n",
       "</thead>\n",
       "<tbody>\n",
       "\t<tr><th scope=row>1</th><td>CNH004_2020-05-30      </td><td>prevail_cu_cfrna_199</td><td>57</td><td>MIS-C</td><td>simpson_wbrna</td><td>0.8473974</td></tr>\n",
       "\t<tr><th scope=row>2</th><td>CNH007_2020-06-16      </td><td>prevail_cu_cfrna_216</td><td>57</td><td>MIS-C</td><td>simpson_wbrna</td><td>0.6921493</td></tr>\n",
       "\t<tr><th scope=row>3</th><td>CNH008_2020-06-19      </td><td>prevail_cu_cfrna_219</td><td>57</td><td>MIS-C</td><td>simpson_wbrna</td><td>0.8247037</td></tr>\n",
       "\t<tr><th scope=row>4</th><td>CNH025_2020-08-19      </td><td>prevail_cu_cfrna_203</td><td>57</td><td>MIS-C</td><td>simpson_wbrna</td><td>0.8217415</td></tr>\n",
       "\t<tr><th scope=row>5</th><td>CNH026_2020-09-27      </td><td>prevail_cu_cfrna_209</td><td>57</td><td>MIS-C</td><td>simpson_wbrna</td><td>0.6393881</td></tr>\n",
       "\t<tr><th scope=row>6</th><td>NCOV3189CHOA_2021-04-19</td><td>prevail_cu_cfrna_124</td><td>24</td><td>MIS-C</td><td>simpson_wbrna</td><td>0.8487480</td></tr>\n",
       "</tbody>\n",
       "</table>\n"
      ],
      "text/latex": [
       "A data.frame: 6 × 6\n",
       "\\begin{tabular}{r|llllll}\n",
       "  & PTID\\_DATE & cfrna\\_file\\_id & sample\\_group\\_matched & Diagnosis & variable & value\\\\\n",
       "  & <chr> & <chr> & <int> & <chr> & <fct> & <dbl>\\\\\n",
       "\\hline\n",
       "\t1 & CNH004\\_2020-05-30       & prevail\\_cu\\_cfrna\\_199 & 57 & MIS-C & simpson\\_wbrna & 0.8473974\\\\\n",
       "\t2 & CNH007\\_2020-06-16       & prevail\\_cu\\_cfrna\\_216 & 57 & MIS-C & simpson\\_wbrna & 0.6921493\\\\\n",
       "\t3 & CNH008\\_2020-06-19       & prevail\\_cu\\_cfrna\\_219 & 57 & MIS-C & simpson\\_wbrna & 0.8247037\\\\\n",
       "\t4 & CNH025\\_2020-08-19       & prevail\\_cu\\_cfrna\\_203 & 57 & MIS-C & simpson\\_wbrna & 0.8217415\\\\\n",
       "\t5 & CNH026\\_2020-09-27       & prevail\\_cu\\_cfrna\\_209 & 57 & MIS-C & simpson\\_wbrna & 0.6393881\\\\\n",
       "\t6 & NCOV3189CHOA\\_2021-04-19 & prevail\\_cu\\_cfrna\\_124 & 24 & MIS-C & simpson\\_wbrna & 0.8487480\\\\\n",
       "\\end{tabular}\n"
      ],
      "text/markdown": [
       "\n",
       "A data.frame: 6 × 6\n",
       "\n",
       "| <!--/--> | PTID_DATE &lt;chr&gt; | cfrna_file_id &lt;chr&gt; | sample_group_matched &lt;int&gt; | Diagnosis &lt;chr&gt; | variable &lt;fct&gt; | value &lt;dbl&gt; |\n",
       "|---|---|---|---|---|---|---|\n",
       "| 1 | CNH004_2020-05-30       | prevail_cu_cfrna_199 | 57 | MIS-C | simpson_wbrna | 0.8473974 |\n",
       "| 2 | CNH007_2020-06-16       | prevail_cu_cfrna_216 | 57 | MIS-C | simpson_wbrna | 0.6921493 |\n",
       "| 3 | CNH008_2020-06-19       | prevail_cu_cfrna_219 | 57 | MIS-C | simpson_wbrna | 0.8247037 |\n",
       "| 4 | CNH025_2020-08-19       | prevail_cu_cfrna_203 | 57 | MIS-C | simpson_wbrna | 0.8217415 |\n",
       "| 5 | CNH026_2020-09-27       | prevail_cu_cfrna_209 | 57 | MIS-C | simpson_wbrna | 0.6393881 |\n",
       "| 6 | NCOV3189CHOA_2021-04-19 | prevail_cu_cfrna_124 | 24 | MIS-C | simpson_wbrna | 0.8487480 |\n",
       "\n"
      ],
      "text/plain": [
       "  PTID_DATE               cfrna_file_id        sample_group_matched Diagnosis\n",
       "1 CNH004_2020-05-30       prevail_cu_cfrna_199 57                   MIS-C    \n",
       "2 CNH007_2020-06-16       prevail_cu_cfrna_216 57                   MIS-C    \n",
       "3 CNH008_2020-06-19       prevail_cu_cfrna_219 57                   MIS-C    \n",
       "4 CNH025_2020-08-19       prevail_cu_cfrna_203 57                   MIS-C    \n",
       "5 CNH026_2020-09-27       prevail_cu_cfrna_209 57                   MIS-C    \n",
       "6 NCOV3189CHOA_2021-04-19 prevail_cu_cfrna_124 24                   MIS-C    \n",
       "  variable      value    \n",
       "1 simpson_wbrna 0.8473974\n",
       "2 simpson_wbrna 0.6921493\n",
       "3 simpson_wbrna 0.8247037\n",
       "4 simpson_wbrna 0.8217415\n",
       "5 simpson_wbrna 0.6393881\n",
       "6 simpson_wbrna 0.8487480"
      ]
     },
     "metadata": {},
     "output_type": "display_data"
    }
   ],
   "source": [
    "com_all <- merge(wb_all,cf_all)\n",
    "# com_all %>% head()\n",
    "com_all %>% nrow()\n",
    "\n",
    "com_all_melt <- melt(com_all, id.vars = c(\"PTID_DATE\",\"cfrna_file_id\",\"sample_group_matched\",\"Diagnosis\")) %>% \n",
    "    mutate(variable = factor(variable, levels = c(\"simpson_cfrna\",\"simpson_wbrna\")))\n",
    "com_all_melt %>% head()"
   ]
  },
  {
   "cell_type": "markdown",
   "id": "6a7eb518-3ec8-449f-aefd-27ec065acb71",
   "metadata": {},
   "source": [
    "### __Analysis__"
   ]
  },
  {
   "cell_type": "code",
   "execution_count": 7,
   "id": "5b809263-a2e6-49ec-871f-6b12668fec95",
   "metadata": {},
   "outputs": [],
   "source": [
    "ADD_ON <- list(geom_boxplot(outlier.shape = NA,color=\"black\",size = 0.5),\n",
    "               geom_point(size = 0.5),\n",
    "               geom_line(aes(group=PTID_DATE),size = 0.2),\n",
    "               theme_prevail(),\n",
    "                theme(legend.position = \"none\",\n",
    "                    axis.title.y = element_blank(),\n",
    "                    axis.title.x = element_blank(),\n",
    "                    axis.text.x = element_blank(),\n",
    "                    panel.grid.minor = element_blank()),\n",
    "                scale_x_discrete(guide = guide_axis(n.dodge = 2)),\n",
    "               scale_fill_manual(values=DiagnosisPalette) ,\n",
    "#                scale_y_continuous(breaks = seq(0,1,length.out  = 4)),\n",
    "               coord_cartesian(ylim = c(0,1))\n",
    "              )"
   ]
  },
  {
   "cell_type": "code",
   "execution_count": 8,
   "id": "6ba316c8-756c-4ee4-a3ed-e2dab40cb31e",
   "metadata": {},
   "outputs": [],
   "source": [
    "WIDTH = 1.3\n",
    "HEIGHT = 1.35"
   ]
  },
  {
   "cell_type": "code",
   "execution_count": 9,
   "id": "defc6990-f674-41ab-809e-ab5c77e68246",
   "metadata": {},
   "outputs": [
    {
     "data": {
      "text/html": [
       "<strong>png:</strong> 2"
      ],
      "text/latex": [
       "\\textbf{png:} 2"
      ],
      "text/markdown": [
       "**png:** 2"
      ],
      "text/plain": [
       "png \n",
       "  2 "
      ]
     },
     "metadata": {},
     "output_type": "display_data"
    },
    {
     "data": {
      "text/plain": [
       "\n",
       "\tWilcoxon signed rank exact test\n",
       "\n",
       "data:  tmp$simpson_wbrna and tmp$simpson_cfrna\n",
       "V = 90, p-value = 0.0004883\n",
       "alternative hypothesis: true location shift is not equal to 0\n"
      ]
     },
     "metadata": {},
     "output_type": "display_data"
    }
   ],
   "source": [
    "pdf(file=\"plots/panelD_control.pdf\",\n",
    "        width=WIDTH,height=HEIGHT, paper=\"special\", bg=\"white\",\n",
    "        fonts=\"Helvetica\", colormodel = \"srgb\", pointsize=6, useDingbats = FALSE)\n",
    "\n",
    "com_all_melt %>% \n",
    "    filter(sample_group_matched == 31) %>% \n",
    "    ggplot(aes(x=variable,y=value,fill=Diagnosis))+\n",
    "    ADD_ON\n",
    "\n",
    "dev.off()\n",
    "\n",
    "tmp <- com_all %>% \n",
    "    filter(sample_group_matched == 31)\n",
    "\n",
    "wilcox.test(tmp$simpson_wbrna,tmp$simpson_cfrna,paired=TRUE)"
   ]
  },
  {
   "cell_type": "code",
   "execution_count": 10,
   "id": "9ac32505-eeb2-4170-b1f0-435ad1aab761",
   "metadata": {},
   "outputs": [
    {
     "data": {
      "text/html": [
       "<strong>png:</strong> 2"
      ],
      "text/latex": [
       "\\textbf{png:} 2"
      ],
      "text/markdown": [
       "**png:** 2"
      ],
      "text/plain": [
       "png \n",
       "  2 "
      ]
     },
     "metadata": {},
     "output_type": "display_data"
    },
    {
     "data": {
      "text/plain": [
       "\n",
       "\tWilcoxon signed rank exact test\n",
       "\n",
       "data:  tmp$simpson_wbrna and tmp$simpson_cfrna\n",
       "V = 79, p-value = 0.01709\n",
       "alternative hypothesis: true location shift is not equal to 0\n"
      ]
     },
     "metadata": {},
     "output_type": "display_data"
    }
   ],
   "source": [
    "pdf(file=\"plots/panelD_covid.pdf\",\n",
    "        width=WIDTH,height=HEIGHT, paper=\"special\", bg=\"white\",\n",
    "        fonts=\"Helvetica\", colormodel = \"srgb\", pointsize=6, useDingbats = FALSE)\n",
    "\n",
    "com_all_melt %>% \n",
    "    filter(sample_group_matched %in% c(2,4)) %>% \n",
    "    ggplot(aes(x=variable,y=value,fill=Diagnosis))+\n",
    "    ADD_ON\n",
    "\n",
    "dev.off()\n",
    "\n",
    "tmp <- com_all %>% \n",
    "    filter(sample_group_matched %in% c(2,4)) \n",
    "\n",
    "wilcox.test(tmp$simpson_wbrna,tmp$simpson_cfrna,paired=TRUE)"
   ]
  },
  {
   "cell_type": "code",
   "execution_count": 11,
   "id": "189f2039-5290-4dd3-8f54-f2a27ae38167",
   "metadata": {},
   "outputs": [
    {
     "data": {
      "text/html": [
       "<strong>png:</strong> 2"
      ],
      "text/latex": [
       "\\textbf{png:} 2"
      ],
      "text/markdown": [
       "**png:** 2"
      ],
      "text/plain": [
       "png \n",
       "  2 "
      ]
     },
     "metadata": {},
     "output_type": "display_data"
    },
    {
     "data": {
      "text/plain": [
       "\n",
       "\tWilcoxon signed rank exact test\n",
       "\n",
       "data:  tmp$simpson_wbrna and tmp$simpson_cfrna\n",
       "V = 296, p-value = 0.357\n",
       "alternative hypothesis: true location shift is not equal to 0\n"
      ]
     },
     "metadata": {},
     "output_type": "display_data"
    }
   ],
   "source": [
    "pdf(file=\"plots/panelD_misc.pdf\",\n",
    "        width=WIDTH,height=HEIGHT, paper=\"special\", bg=\"white\",\n",
    "        fonts=\"Helvetica\", colormodel = \"srgb\", pointsize=6, useDingbats = FALSE)\n",
    "\n",
    "com_all_melt %>% \n",
    "    filter(sample_group_matched %in% c(1,3,57,58)) %>% \n",
    "    ggplot(aes(x=variable,y=value,fill=Diagnosis))+\n",
    "    ADD_ON\n",
    "\n",
    "dev.off()\n",
    "\n",
    "tmp <- com_all %>% \n",
    "    filter(sample_group_matched %in% c(1,3,57,58)) \n",
    "\n",
    "wilcox.test(tmp$simpson_wbrna,tmp$simpson_cfrna,paired=TRUE)"
   ]
  },
  {
   "cell_type": "markdown",
   "id": "5cf70021-9025-48bf-a3c5-6c721aab7318",
   "metadata": {},
   "source": [
    "---\n",
    "---"
   ]
  },
  {
   "cell_type": "code",
   "execution_count": 12,
   "id": "c7896d1a-8d0c-40d1-b1ec-f560e1a62eab",
   "metadata": {},
   "outputs": [
    {
     "name": "stderr",
     "output_type": "stream",
     "text": [
      "\n",
      "Attaching package: ‘rstatix’\n",
      "\n",
      "\n",
      "The following object is masked from ‘package:stats’:\n",
      "\n",
      "    filter\n",
      "\n",
      "\n"
     ]
    }
   ],
   "source": [
    "library(rstatix)\n",
    "library(ggpubr)"
   ]
  },
  {
   "cell_type": "code",
   "execution_count": 13,
   "id": "04398e22-e2c7-471b-a85a-956554b8bc2a",
   "metadata": {},
   "outputs": [],
   "source": [
    "ADD_ON2 <- list(geom_boxplot(aes(fill=Diagnosis),outlier.shape = NA,color=\"black\",size = 0.5),\n",
    "               geom_point(size = 0.5),\n",
    "               geom_line(aes(group=PTID_DATE),size = 0.2),\n",
    "               theme_prevail(),\n",
    "                theme(legend.position = \"none\",\n",
    "                    axis.title.y = element_blank(),\n",
    "                    axis.title.x = element_blank(),\n",
    "                    axis.text.x = element_blank(),\n",
    "                    panel.grid.minor = element_blank()),\n",
    "                scale_x_discrete(guide = guide_axis(n.dodge = 2)),\n",
    "               scale_fill_manual(values=DiagnosisPalette) ,\n",
    "#                scale_y_continuous(breaks = seq(0,1,length.out  = 4)),\n",
    "               coord_cartesian(ylim = c(0,1))\n",
    "              )\n",
    "\n",
    "YLIM = 1.3\n",
    "WIDTH = 1.7\n",
    "HEIGHT = 1.35"
   ]
  },
  {
   "cell_type": "code",
   "execution_count": 14,
   "id": "980af16b-71b1-4dd2-a9dd-68e34f79c789",
   "metadata": {},
   "outputs": [
    {
     "name": "stderr",
     "output_type": "stream",
     "text": [
      "Coordinate system already present. Adding new coordinate system, which will replace the existing one.\n",
      "\n",
      "geom_path: Each group consists of only one observation. Do you need to adjust\n",
      "the group aesthetic?\n",
      "\n",
      "geom_path: Each group consists of only one observation. Do you need to adjust\n",
      "the group aesthetic?\n",
      "\n"
     ]
    },
    {
     "data": {
      "text/html": [
       "<strong>png:</strong> 2"
      ],
      "text/latex": [
       "\\textbf{png:} 2"
      ],
      "text/markdown": [
       "**png:** 2"
      ],
      "text/plain": [
       "png \n",
       "  2 "
      ]
     },
     "metadata": {},
     "output_type": "display_data"
    },
    {
     "data": {
      "image/png": "[encoded data removed]",
      "text/plain": [
       "plot without title"
      ]
     },
     "metadata": {
      "image/png": {
       "height": 420,
       "width": 420
      }
     },
     "output_type": "display_data"
    }
   ],
   "source": [
    "bxplt <- com_all %>% \n",
    "    filter(Diagnosis != \"Control_Inflammatory\") %>%\n",
    "    ggplot(aes(x=Diagnosis, y=simpson_cfrna))+\n",
    "    ADD_ON2\n",
    "\n",
    "stat.test <- data.frame(com_all) %>% filter(Diagnosis != \"Control_Inflammatory\") %>%\n",
    "        wilcox_test(simpson_cfrna ~ Diagnosis, paired = FALSE)  %>% \n",
    "        adjust_pvalue(method = \"BH\") %>% \n",
    "        add_significance(\"p.adj\") %>% \n",
    "        add_xy_position(x = \"Diagnosis\") \n",
    "\n",
    "bxplt <- bxplt +  \n",
    "stat_pvalue_manual(stat.test, label = \"p.adj.signif\")+ \n",
    "coord_cartesian(ylim = c(0,YLIM)) + scale_y_continuous(breaks = seq(0, 1, by = .25))\n",
    "\n",
    "bxplt\n",
    "\n",
    "\n",
    "pdf(file=paste0(\"plots/SupPanelF_cfrna.pdf\"),\n",
    "        width=WIDTH,height=HEIGHT, paper=\"special\", bg=\"white\",\n",
    "        fonts=\"Helvetica\", colormodel = \"srgb\", pointsize=6, useDingbats = FALSE)\n",
    "\n",
    "bxplt\n",
    "\n",
    "dev.off() \n"
   ]
  },
  {
   "cell_type": "code",
   "execution_count": 15,
   "id": "eb8c1039-a191-491e-9f4e-c2762a2f7af5",
   "metadata": {},
   "outputs": [
    {
     "name": "stderr",
     "output_type": "stream",
     "text": [
      "Coordinate system already present. Adding new coordinate system, which will replace the existing one.\n",
      "\n",
      "geom_path: Each group consists of only one observation. Do you need to adjust\n",
      "the group aesthetic?\n",
      "\n",
      "geom_path: Each group consists of only one observation. Do you need to adjust\n",
      "the group aesthetic?\n",
      "\n"
     ]
    },
    {
     "data": {
      "text/html": [
       "<strong>png:</strong> 2"
      ],
      "text/latex": [
       "\\textbf{png:} 2"
      ],
      "text/markdown": [
       "**png:** 2"
      ],
      "text/plain": [
       "png \n",
       "  2 "
      ]
     },
     "metadata": {},
     "output_type": "display_data"
    },
    {
     "data": {
      "image/png": "[encoded data removed]",
      "text/plain": [
       "plot without title"
      ]
     },
     "metadata": {
      "image/png": {
       "height": 420,
       "width": 420
      }
     },
     "output_type": "display_data"
    }
   ],
   "source": [
    "bxplt <- com_all %>% \n",
    "    filter(Diagnosis != \"Control_Inflammatory\") %>%\n",
    "    ggplot(aes(x=Diagnosis, y=simpson_wbrna))+\n",
    "    ADD_ON2\n",
    "\n",
    "stat.test <- data.frame(com_all) %>% filter(Diagnosis != \"Control_Inflammatory\") %>%\n",
    "        wilcox_test(simpson_wbrna ~ Diagnosis, paired = FALSE)  %>% \n",
    "        adjust_pvalue(method = \"BH\") %>% \n",
    "        add_significance(\"p.adj\") %>% \n",
    "        add_xy_position(x = \"Diagnosis\") \n",
    "\n",
    "bxplt <- bxplt +  \n",
    "stat_pvalue_manual(stat.test, label = \"p.adj.signif\")+ \n",
    "coord_cartesian(ylim = c(0,YLIM)) + scale_y_continuous(breaks = seq(0, 1, by = .25))\n",
    "\n",
    "bxplt\n",
    "\n",
    "\n",
    "pdf(file=paste0(\"plots/SupPanelF_wbrna.pdf\"),\n",
    "        width=WIDTH,height=HEIGHT, paper=\"special\", bg=\"white\",\n",
    "        fonts=\"Helvetica\", colormodel = \"srgb\", pointsize=6, useDingbats = FALSE)\n",
    "\n",
    "bxplt\n",
    "\n",
    "dev.off() "
   ]
  },
  {
   "cell_type": "code",
   "execution_count": null,
   "id": "6c47d157-8aba-444d-b078-491fd7ec8d22",
   "metadata": {},
   "outputs": [],
   "source": []
  }
 ],
 "metadata": {
  "kernelspec": {
   "display_name": "R",
   "language": "R",
   "name": "ir"
  },
  "language_info": {
   "codemirror_mode": "r",
   "file_extension": ".r",
   "mimetype": "text/x-r-source",
   "name": "R",
   "pygments_lexer": "r",
   "version": "4.1.1"
  }
 },
 "nbformat": 4,
 "nbformat_minor": 5
}
