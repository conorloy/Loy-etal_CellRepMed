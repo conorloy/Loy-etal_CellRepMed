{
 "cells": [
  {
   "cell_type": "code",
   "execution_count": 1,
   "id": "adac1ff5-907d-4dde-aef8-5db34ba1d98b",
   "metadata": {},
   "outputs": [
    {
     "name": "stderr",
     "output_type": "stream",
     "text": [
      "── \u001b[1mAttaching packages\u001b[22m ────────────────────────────────────────────────────────────────────────────────────────────────────────────────────────────────────────────────────── tidyverse 1.3.1 ──\n",
      "\n",
      "\u001b[32m✔\u001b[39m \u001b[34mggplot2\u001b[39m 3.3.6     \u001b[32m✔\u001b[39m \u001b[34mpurrr  \u001b[39m 0.3.4\n",
      "\u001b[32m✔\u001b[39m \u001b[34mtibble \u001b[39m 3.1.7     \u001b[32m✔\u001b[39m \u001b[34mdplyr  \u001b[39m 1.0.8\n",
      "\u001b[32m✔\u001b[39m \u001b[34mtidyr  \u001b[39m 1.2.0     \u001b[32m✔\u001b[39m \u001b[34mstringr\u001b[39m 1.4.0\n",
      "\u001b[32m✔\u001b[39m \u001b[34mreadr  \u001b[39m 2.1.2     \u001b[32m✔\u001b[39m \u001b[34mforcats\u001b[39m 0.5.1\n",
      "\n",
      "── \u001b[1mConflicts\u001b[22m ───────────────────────────────────────────────────────────────────────────────────────────────────────────────────────────────────────────────────────── tidyverse_conflicts() ──\n",
      "\u001b[31m✖\u001b[39m \u001b[34mdplyr\u001b[39m::\u001b[32mfilter()\u001b[39m masks \u001b[34mstats\u001b[39m::filter()\n",
      "\u001b[31m✖\u001b[39m \u001b[34mdplyr\u001b[39m::\u001b[32mlag()\u001b[39m    masks \u001b[34mstats\u001b[39m::lag()\n",
      "\n",
      "\n",
      "Attaching package: ‘data.table’\n",
      "\n",
      "\n",
      "The following objects are masked from ‘package:dplyr’:\n",
      "\n",
      "    between, first, last\n",
      "\n",
      "\n",
      "The following object is masked from ‘package:purrr’:\n",
      "\n",
      "    transpose\n",
      "\n",
      "\n"
     ]
    }
   ],
   "source": [
    "library(tidyverse)\n",
    "library(data.table)\n",
    "source(\"../0_support-files//theme_CRP-MISC.R\")\n",
    "\n",
    "annotation <- fread(file=\"../0_support-files/gencode.biotype.name.key.tsv\")\n",
    "\n",
    "gene_conv <- function(gene,annotation){\n",
    "    \n",
    "    if (substr(gene,1,4) == \"ENSG\"){\n",
    "        return(annotation[which(annotation$gene_id == gene),]$gene_name)\n",
    "    }else{\n",
    "        return(annotation[which(annotation$gene_name == gene),]$gene_id)\n",
    "    }\n",
    "}\n",
    "\n",
    "#https://inst.eecs.berkeley.edu/~cs174/sp08/lecs/lec11/lec11.pdf"
   ]
  },
  {
   "cell_type": "code",
   "execution_count": 2,
   "id": "86651a41-566f-49ce-bb1f-0a147d4c8a56",
   "metadata": {},
   "outputs": [
    {
     "data": {
      "text/html": [
       "TRUE"
      ],
      "text/latex": [
       "TRUE"
      ],
      "text/markdown": [
       "TRUE"
      ],
      "text/plain": [
       "[1] TRUE"
      ]
     },
     "metadata": {},
     "output_type": "display_data"
    },
    {
     "data": {
      "text/html": [
       "TRUE"
      ],
      "text/latex": [
       "TRUE"
      ],
      "text/markdown": [
       "TRUE"
      ],
      "text/plain": [
       "[1] TRUE"
      ]
     },
     "metadata": {},
     "output_type": "display_data"
    },
    {
     "data": {
      "text/html": [
       "TRUE"
      ],
      "text/latex": [
       "TRUE"
      ],
      "text/markdown": [
       "TRUE"
      ],
      "text/plain": [
       "[1] TRUE"
      ]
     },
     "metadata": {},
     "output_type": "display_data"
    }
   ],
   "source": [
    "#------------------------\n",
    "## META DATA\n",
    "\n",
    "wb_meta <- read.csv(\"../1_sample-data/STable7_wbrna-samples.csv\") %>% select(PTID,wbrna_sample_id,Diagnosis,timepoint) %>%\n",
    "    mutate(PTID_TIME = paste0(PTID,\"_\",timepoint))\n",
    "cf_meta <- read.csv(\"../1_sample-data/STable6_cfrna-samples.csv\") %>% select(PTID,cfrna_sample_id,Diagnosis,timepoint) %>%\n",
    "    mutate(PTID_TIME = paste0(PTID,\"_\",timepoint))\n",
    "\n",
    "all_meta <- merge(wb_meta,cf_meta, by = c(\"PTID_TIME\"))\n",
    "\n",
    "#------------------------\n",
    "## COUNT MATRICES\n",
    "\n",
    "wb_ftcounts <- read.delim(\"../1_sample-data/wbrna_ftcounts.txt\") %>% \n",
    "    rename(gene_id = X) %>% \n",
    "    mutate(gene_id = gsub(\"\\\\_.*\",\"\",gene_id)) %>%\n",
    "    distinct(gene_id, .keep_all = TRUE) %>%\n",
    "    column_to_rownames(var = \"gene_id\")\n",
    "\n",
    "cf_ftcounts <- read.delim(\"../1_sample-data/cfrna_ftcounts.txt\") %>%\n",
    "    rename(gene_id = Geneid) %>% \n",
    "    mutate(gene_id = gsub(\"\\\\_.*\",\"\",gene_id)) %>%\n",
    "    distinct(gene_id, .keep_all = TRUE) %>%\n",
    "    column_to_rownames(var = \"gene_id\")\n",
    "\n",
    "\n",
    "wb_ftcounts <- wb_ftcounts[,all_meta$wbrna_sample_id]\n",
    "cf_ftcounts <- cf_ftcounts[,all_meta$cfrna_sample_id]\n",
    "\n",
    "#------------------------\n",
    "## MATCH ROW ORDER\n",
    "\n",
    "wb_ftcounts <- wb_ftcounts[match(rownames(cf_ftcounts),rownames(wb_ftcounts)),]\n",
    "\n",
    "#------------------------\n",
    "## FILTER\n",
    "\n",
    "gene.list <- read.delim(\"../0_support-files/genelist.hs.tsv\",col.names = c(\"type,\",\"ENSMBL\",\"gene_symbol\"))\n",
    "\n",
    "gene.ids <- gsub(\"\\\\..*\",\"\",rownames(wb_ftcounts))\n",
    "\n",
    "exclude.idx <- gene.ids %in% gene.list[,2]\n",
    "\n",
    "wb_ftcounts = wb_ftcounts[!exclude.idx,] \n",
    "cf_ftcounts = cf_ftcounts[!exclude.idx,] \n",
    "\n",
    "#------------------------\n",
    "## NORMALIZE\n",
    "\n",
    "wb_ftcounts <- edgeR::cpm(wb_ftcounts)\n",
    "cf_ftcounts <- edgeR::cpm(cf_ftcounts)\n",
    "\n",
    "#------------------------\n",
    "## TRANSPOSE\n",
    "\n",
    "wb_ftcounts <- t(wb_ftcounts)\n",
    "cf_ftcounts <- t(cf_ftcounts)\n",
    "\n",
    "#------------------------\n",
    "## CHECKS\n",
    "\n",
    "length(colnames(wb_ftcounts)) == length(colnames(cf_ftcounts))\n",
    "length(rownames(wb_ftcounts)) == length(rownames(cf_ftcounts))\n",
    "\n",
    "all(colnames(wb_ftcounts) == colnames(cf_ftcounts))"
   ]
  },
  {
   "cell_type": "code",
   "execution_count": 3,
   "id": "ad7b95e5-cd0d-420b-8369-b0673b2f75ce",
   "metadata": {},
   "outputs": [],
   "source": [
    "calculate_cors <- function(wb_ftcounts,cf_ftcounts){\n",
    "    \n",
    "    cors <- list()\n",
    "\n",
    "    for (i in 1:ncol(wb_ftcounts)){\n",
    "#     for (i in 1:800){\n",
    "\n",
    "        df <- data.frame(cf = log(cf_ftcounts[,i]+1),\n",
    "                        wb = log(wb_ftcounts[,i]+1))\n",
    "        \n",
    "        if( (mean(df$cf) > log(10)) & (mean(df$wb) > log(10)) ){ #& (nrow(df) > 50)){\n",
    "            \n",
    "            df$keep <- 1\n",
    "            df$keep <- ifelse( abs(df$cf - mean(df$cf)) > (3*sd(df$cf)),0,1)\n",
    "            df$keep <- ifelse( abs(df$wb - mean(df$wb)) > (3*sd(df$wb)),0,1) \n",
    "\n",
    "            df <- df %>% filter(keep == 1) #%>% filter(!(cf == log(1) & wb == log(1)))\n",
    "            \n",
    "            cor_out <- cor.test(df$cf,df$wb, method = \"pearson\")\n",
    "            gene = colnames(cf_ftcounts)[i]\n",
    "            cors[[gene]] <- c(cor_out$estimate, cor_out$p.value)\n",
    "            \n",
    "        }\n",
    "        }\n",
    "    \n",
    "\n",
    "    cor_df <- data.frame(do.call(\"rbind\",cors))\n",
    "    colnames(cor_df) <- c(\"pearson\",\"p.value\")\n",
    "\n",
    "    cor_df$adj.p <- p.adjust(cor_df$p.value,method = \"BH\")\n",
    "\n",
    "\n",
    "    cor_df$gene_name <- lapply(rownames(cor_df),gene_conv,annotation)\n",
    "    \n",
    "    return(cor_df)\n",
    "\n",
    "}"
   ]
  },
  {
   "cell_type": "markdown",
   "id": "2358a193-cf87-4a8c-9c44-9dd71917e54e",
   "metadata": {},
   "source": [
    "---\n",
    "# Real thing"
   ]
  },
  {
   "cell_type": "code",
   "execution_count": 10,
   "id": "449c7ff1-d5ad-4492-88af-885da80fb6dc",
   "metadata": {},
   "outputs": [
    {
     "name": "stdout",
     "output_type": "stream",
     "text": [
      "Total:\n"
     ]
    },
    {
     "data": {
      "text/html": [
       "5787"
      ],
      "text/latex": [
       "5787"
      ],
      "text/markdown": [
       "5787"
      ],
      "text/plain": [
       "[1] 5787"
      ]
     },
     "metadata": {},
     "output_type": "display_data"
    },
    {
     "name": "stdout",
     "output_type": "stream",
     "text": [
      "Positively correlated:\n"
     ]
    },
    {
     "data": {
      "text/html": [
       "890"
      ],
      "text/latex": [
       "890"
      ],
      "text/markdown": [
       "890"
      ],
      "text/plain": [
       "[1] 890"
      ]
     },
     "metadata": {},
     "output_type": "display_data"
    },
    {
     "data": {
      "text/html": [
       "<table class=\"dataframe\">\n",
       "<caption>A data.frame: 6 × 4</caption>\n",
       "<thead>\n",
       "\t<tr><th></th><th scope=col>pearson</th><th scope=col>p.value</th><th scope=col>adj.p</th><th scope=col>gene_name</th></tr>\n",
       "\t<tr><th></th><th scope=col>&lt;dbl&gt;</th><th scope=col>&lt;dbl&gt;</th><th scope=col>&lt;dbl&gt;</th><th scope=col>&lt;list&gt;</th></tr>\n",
       "</thead>\n",
       "<tbody>\n",
       "\t<tr><th scope=row>ENSG00000104765.16</th><td>0.7295917</td><td>5.094280e-16</td><td>2.948060e-12</td><td>BNIP3L</td></tr>\n",
       "\t<tr><th scope=row>ENSG00000142089.17</th><td>0.7044031</td><td>1.898612e-14</td><td>5.493635e-11</td><td>IFITM3</td></tr>\n",
       "\t<tr><th scope=row>ENSG00000168300.14</th><td>0.7028769</td><td>3.229899e-14</td><td>6.230475e-11</td><td>PCMTD1</td></tr>\n",
       "\t<tr><th scope=row>ENSG00000100906.11</th><td>0.6877122</td><td>9.746904e-14</td><td>1.410133e-10</td><td>NFKBIA</td></tr>\n",
       "\t<tr><th scope=row>ENSG00000136929.13</th><td>0.6630402</td><td>1.453089e-12</td><td>1.681805e-09</td><td>HEMGN</td></tr>\n",
       "\t<tr><th scope=row>ENSG00000096060.15</th><td>0.6372675</td><td>1.887804e-11</td><td>1.820787e-08</td><td>FKBP5</td></tr>\n",
       "</tbody>\n",
       "</table>\n"
      ],
      "text/latex": [
       "A data.frame: 6 × 4\n",
       "\\begin{tabular}{r|llll}\n",
       "  & pearson & p.value & adj.p & gene\\_name\\\\\n",
       "  & <dbl> & <dbl> & <dbl> & <list>\\\\\n",
       "\\hline\n",
       "\tENSG00000104765.16 & 0.7295917 & 5.094280e-16 & 2.948060e-12 & BNIP3L\\\\\n",
       "\tENSG00000142089.17 & 0.7044031 & 1.898612e-14 & 5.493635e-11 & IFITM3\\\\\n",
       "\tENSG00000168300.14 & 0.7028769 & 3.229899e-14 & 6.230475e-11 & PCMTD1\\\\\n",
       "\tENSG00000100906.11 & 0.6877122 & 9.746904e-14 & 1.410133e-10 & NFKBIA\\\\\n",
       "\tENSG00000136929.13 & 0.6630402 & 1.453089e-12 & 1.681805e-09 & HEMGN\\\\\n",
       "\tENSG00000096060.15 & 0.6372675 & 1.887804e-11 & 1.820787e-08 & FKBP5\\\\\n",
       "\\end{tabular}\n"
      ],
      "text/markdown": [
       "\n",
       "A data.frame: 6 × 4\n",
       "\n",
       "| <!--/--> | pearson &lt;dbl&gt; | p.value &lt;dbl&gt; | adj.p &lt;dbl&gt; | gene_name &lt;list&gt; |\n",
       "|---|---|---|---|---|\n",
       "| ENSG00000104765.16 | 0.7295917 | 5.094280e-16 | 2.948060e-12 | BNIP3L |\n",
       "| ENSG00000142089.17 | 0.7044031 | 1.898612e-14 | 5.493635e-11 | IFITM3 |\n",
       "| ENSG00000168300.14 | 0.7028769 | 3.229899e-14 | 6.230475e-11 | PCMTD1 |\n",
       "| ENSG00000100906.11 | 0.6877122 | 9.746904e-14 | 1.410133e-10 | NFKBIA |\n",
       "| ENSG00000136929.13 | 0.6630402 | 1.453089e-12 | 1.681805e-09 | HEMGN |\n",
       "| ENSG00000096060.15 | 0.6372675 | 1.887804e-11 | 1.820787e-08 | FKBP5 |\n",
       "\n"
      ],
      "text/plain": [
       "                   pearson   p.value      adj.p        gene_name\n",
       "ENSG00000104765.16 0.7295917 5.094280e-16 2.948060e-12 BNIP3L   \n",
       "ENSG00000142089.17 0.7044031 1.898612e-14 5.493635e-11 IFITM3   \n",
       "ENSG00000168300.14 0.7028769 3.229899e-14 6.230475e-11 PCMTD1   \n",
       "ENSG00000100906.11 0.6877122 9.746904e-14 1.410133e-10 NFKBIA   \n",
       "ENSG00000136929.13 0.6630402 1.453089e-12 1.681805e-09 HEMGN    \n",
       "ENSG00000096060.15 0.6372675 1.887804e-11 1.820787e-08 FKBP5    "
      ]
     },
     "metadata": {},
     "output_type": "display_data"
    },
    {
     "name": "stdout",
     "output_type": "stream",
     "text": [
      "Negatively correlated:\n"
     ]
    },
    {
     "data": {
      "text/html": [
       "10"
      ],
      "text/latex": [
       "10"
      ],
      "text/markdown": [
       "10"
      ],
      "text/plain": [
       "[1] 10"
      ]
     },
     "metadata": {},
     "output_type": "display_data"
    },
    {
     "data": {
      "text/html": [
       "<table class=\"dataframe\">\n",
       "<caption>A data.frame: 6 × 4</caption>\n",
       "<thead>\n",
       "\t<tr><th></th><th scope=col>pearson</th><th scope=col>p.value</th><th scope=col>adj.p</th><th scope=col>gene_name</th></tr>\n",
       "\t<tr><th></th><th scope=col>&lt;dbl&gt;</th><th scope=col>&lt;dbl&gt;</th><th scope=col>&lt;dbl&gt;</th><th scope=col>&lt;list&gt;</th></tr>\n",
       "</thead>\n",
       "<tbody>\n",
       "\t<tr><th scope=row>ENSG00000077044.11</th><td>-0.3061635</td><td>0.0035237001</td><td>0.029467706</td><td>DGKD</td></tr>\n",
       "\t<tr><th scope=row>ENSG00000073910.23</th><td>-0.3229430</td><td>0.0022820699</td><td>0.022034124</td><td>FRY</td></tr>\n",
       "\t<tr><th scope=row>ENSG00000080200.10</th><td>-0.3266069</td><td>0.0017854171</td><td>0.018616592</td><td>CRYBG3</td></tr>\n",
       "\t<tr><th scope=row>ENSG00000131188.12</th><td>-0.3457982</td><td>0.0009028883</td><td>0.011508843</td><td>PRR7</td></tr>\n",
       "\t<tr><th scope=row>ENSG00000090989.18</th><td>-0.3510342</td><td>0.0008572108</td><td>0.011072943</td><td>EXOC1</td></tr>\n",
       "\t<tr><th scope=row>ENSG00000174718.12</th><td>-0.3532024</td><td>0.0006859704</td><td>0.009565567</td><td>RESF1</td></tr>\n",
       "</tbody>\n",
       "</table>\n"
      ],
      "text/latex": [
       "A data.frame: 6 × 4\n",
       "\\begin{tabular}{r|llll}\n",
       "  & pearson & p.value & adj.p & gene\\_name\\\\\n",
       "  & <dbl> & <dbl> & <dbl> & <list>\\\\\n",
       "\\hline\n",
       "\tENSG00000077044.11 & -0.3061635 & 0.0035237001 & 0.029467706 & DGKD\\\\\n",
       "\tENSG00000073910.23 & -0.3229430 & 0.0022820699 & 0.022034124 & FRY\\\\\n",
       "\tENSG00000080200.10 & -0.3266069 & 0.0017854171 & 0.018616592 & CRYBG3\\\\\n",
       "\tENSG00000131188.12 & -0.3457982 & 0.0009028883 & 0.011508843 & PRR7\\\\\n",
       "\tENSG00000090989.18 & -0.3510342 & 0.0008572108 & 0.011072943 & EXOC1\\\\\n",
       "\tENSG00000174718.12 & -0.3532024 & 0.0006859704 & 0.009565567 & RESF1\\\\\n",
       "\\end{tabular}\n"
      ],
      "text/markdown": [
       "\n",
       "A data.frame: 6 × 4\n",
       "\n",
       "| <!--/--> | pearson &lt;dbl&gt; | p.value &lt;dbl&gt; | adj.p &lt;dbl&gt; | gene_name &lt;list&gt; |\n",
       "|---|---|---|---|---|\n",
       "| ENSG00000077044.11 | -0.3061635 | 0.0035237001 | 0.029467706 | DGKD |\n",
       "| ENSG00000073910.23 | -0.3229430 | 0.0022820699 | 0.022034124 | FRY |\n",
       "| ENSG00000080200.10 | -0.3266069 | 0.0017854171 | 0.018616592 | CRYBG3 |\n",
       "| ENSG00000131188.12 | -0.3457982 | 0.0009028883 | 0.011508843 | PRR7 |\n",
       "| ENSG00000090989.18 | -0.3510342 | 0.0008572108 | 0.011072943 | EXOC1 |\n",
       "| ENSG00000174718.12 | -0.3532024 | 0.0006859704 | 0.009565567 | RESF1 |\n",
       "\n"
      ],
      "text/plain": [
       "                   pearson    p.value      adj.p       gene_name\n",
       "ENSG00000077044.11 -0.3061635 0.0035237001 0.029467706 DGKD     \n",
       "ENSG00000073910.23 -0.3229430 0.0022820699 0.022034124 FRY      \n",
       "ENSG00000080200.10 -0.3266069 0.0017854171 0.018616592 CRYBG3   \n",
       "ENSG00000131188.12 -0.3457982 0.0009028883 0.011508843 PRR7     \n",
       "ENSG00000090989.18 -0.3510342 0.0008572108 0.011072943 EXOC1    \n",
       "ENSG00000174718.12 -0.3532024 0.0006859704 0.009565567 RESF1    "
      ]
     },
     "metadata": {},
     "output_type": "display_data"
    }
   ],
   "source": [
    "cor_df <- calculate_cors(wb_ftcounts,cf_ftcounts)\n",
    "\n",
    "cat(\"Total:\\n\")\n",
    "cor_df %>% nrow()\n",
    "\n",
    "cat(\"Positively correlated:\\n\")\n",
    "cor_df %>% filter(adj.p < 0.05) %>% filter(pearson > 0) %>% nrow()\n",
    "cor_df %>% filter(adj.p < 0.05) %>% arrange(desc(pearson)) %>% head()\n",
    "\n",
    "cat(\"Negatively correlated:\\n\")\n",
    "cor_df %>% filter(adj.p < 0.05) %>% filter(pearson < 0) %>% nrow()\n",
    "cor_df %>% filter(adj.p < 0.05) %>% arrange(desc(pearson)) %>% tail()"
   ]
  },
  {
   "cell_type": "code",
   "execution_count": 4,
   "id": "5f58eab8-9f79-464c-b99c-8c96ff54d64f",
   "metadata": {},
   "outputs": [
    {
     "data": {
      "text/html": [
       "0.988888888888889"
      ],
      "text/latex": [
       "0.988888888888889"
      ],
      "text/markdown": [
       "0.988888888888889"
      ],
      "text/plain": [
       "[1] 0.9888889"
      ]
     },
     "metadata": {},
     "output_type": "display_data"
    }
   ],
   "source": [
    "890/900"
   ]
  },
  {
   "cell_type": "code",
   "execution_count": 12,
   "id": "90919428-1fb6-486f-acd2-f132f03f1130",
   "metadata": {},
   "outputs": [
    {
     "data": {
      "image/png": "[encoded data removed]",
      "text/plain": [
       "plot without title"
      ]
     },
     "metadata": {
      "image/png": {
       "height": 420,
       "width": 420
      }
     },
     "output_type": "display_data"
    },
    {
     "data": {
      "image/png": "[encoded data removed]",
      "text/plain": [
       "plot without title"
      ]
     },
     "metadata": {
      "image/png": {
       "height": 420,
       "width": 420
      }
     },
     "output_type": "display_data"
    }
   ],
   "source": [
    "options(repr.plot.width = 7, repr.plot.height = 7)\n",
    "\n",
    "# keepers: BNIP3L, HEMGN\n",
    "\n",
    "\n",
    "HEIGHT = 1.5\n",
    "WIDTH = 1.56\n",
    "\n",
    "#--------------------------------------\n",
    "\n",
    "gene_name <- \"BNIP3L\"\n",
    "\n",
    "ensmbl_id <- gene_conv(gene_name,annotation)\n",
    "gene_df <- data.frame(cf = cf_ftcounts[,ensmbl_id], \n",
    "                       wb = wb_ftcounts[,ensmbl_id]) \n",
    "gene_df %>%\n",
    "    ggplot(aes(x=cf,y=wb))+\n",
    "    geom_point(size =.2)+\n",
    "#     annotate(geom=\"text\",label=gene_name,x=-Inf,y=Inf,hjust=-.1,vjust=1.25, size = 4,color=\"blue\")+\n",
    "    labs(x= \"Cell-Free RNA expression (CPM)\", y = \"Whole Blood RNA expression (CPM)\")+\n",
    "    theme_prevail()+\n",
    "    theme(axis.title.x=element_blank(),\n",
    "          axis.title.y=element_blank(),\n",
    "          plot.title = element_text(hjust = 0.5),\n",
    "            text = element_text(size = 8))+ \n",
    "    coord_cartesian(xlim = c(0,4000),ylim = c(0,8000)) + \n",
    "    scale_y_continuous(breaks = c(0,2000,4000,6000,8000)) +\n",
    "    scale_x_continuous(breaks = c(0,1000,2000,3000,4000)) \n",
    "\n",
    "ggsave(paste0(\"./plots/SupPanelB_\",gene_name,\".pdf\"),width = 1.5, height = 1.5)\n",
    "\n",
    "\n",
    "\n",
    "\n",
    "#--------------------------------------\n",
    "\n",
    "gene_name <- \"HEMGN\"\n",
    "\n",
    "ensmbl_id <- gene_conv(gene_name,annotation)\n",
    "gene_df <- data.frame(cf = cf_ftcounts[,ensmbl_id], \n",
    "                       wb = wb_ftcounts[,ensmbl_id]) \n",
    "gene_df %>%\n",
    "    ggplot(aes(x=cf,y=wb))+\n",
    "    geom_point(size =.2)+\n",
    "#     annotate(geom=\"text\",label=gene_name,x=-Inf,y=Inf,hjust=-.1,vjust=1.25, size = 4,color=\"blue\")+\n",
    "    labs(x= \"Cell-Free RNA expression (CPM)\", y = \"Whole Blood RNA expression (CPM)\")+\n",
    "    theme_prevail()+\n",
    "    theme(axis.title.x=element_blank(),\n",
    "          axis.title.y=element_blank(),\n",
    "          plot.title = element_text(hjust = 0.5),\n",
    "            text = element_text(size = 8))+ \n",
    "    coord_cartesian(xlim = c(0,2600),ylim = c(0,2600)) + \n",
    "    scale_y_continuous(breaks = c(0,650,1300,1950,2600)) +\n",
    "    scale_x_continuous(breaks = c(0,650,1300,1950,2600)) \n",
    "\n",
    "ggsave(paste0(\"./plots/SupPanelB_\",gene_name,\".pdf\"),width = 1.5, height = 1.5)\n",
    "\n",
    "\n"
   ]
  },
  {
   "cell_type": "markdown",
   "id": "d51794e7-ea93-48cb-99b7-8500c2ab6121",
   "metadata": {},
   "source": [
    "---"
   ]
  },
  {
   "cell_type": "code",
   "execution_count": 7,
   "id": "1a9f13f5-55c4-416c-9f08-a547a6021fc9",
   "metadata": {},
   "outputs": [
    {
     "data": {
      "text/html": [
       "10"
      ],
      "text/latex": [
       "10"
      ],
      "text/markdown": [
       "10"
      ],
      "text/plain": [
       "[1] 10"
      ]
     },
     "metadata": {},
     "output_type": "display_data"
    },
    {
     "data": {
      "text/html": [
       "890"
      ],
      "text/latex": [
       "890"
      ],
      "text/markdown": [
       "890"
      ],
      "text/plain": [
       "[1] 890"
      ]
     },
     "metadata": {},
     "output_type": "display_data"
    },
    {
     "data": {
      "text/html": [
       "4887"
      ],
      "text/latex": [
       "4887"
      ],
      "text/markdown": [
       "4887"
      ],
      "text/plain": [
       "[1] 4887"
      ]
     },
     "metadata": {},
     "output_type": "display_data"
    }
   ],
   "source": [
    "tmp <- cor_df %>% filter(adj.p < 0.05) %>% filter(pearson < 0) %>% pull(gene_name)\n",
    "length(tmp)\n",
    "# cat(paste(tmp,collapse=\"\\n\"))\n",
    "\n",
    "tmp <- cor_df %>% filter(adj.p < 0.05) %>% filter(pearson > 0) %>% pull(gene_name)\n",
    "length(tmp)\n",
    "# cat(paste(tmp,collapse=\"\\n\"))\n",
    "\n",
    "cor_df %>% filter(adj.p > 0.05 | is.na(adj.p)) %>% nrow()"
   ]
  },
  {
   "cell_type": "code",
   "execution_count": 8,
   "id": "0f540f75-9eba-414b-a163-ad43102a444d",
   "metadata": {},
   "outputs": [
    {
     "data": {
      "text/html": [
       "0.99001996007984"
      ],
      "text/latex": [
       "0.99001996007984"
      ],
      "text/markdown": [
       "0.99001996007984"
      ],
      "text/plain": [
       "[1] 0.99002"
      ]
     },
     "metadata": {},
     "output_type": "display_data"
    }
   ],
   "source": [
    "992/1002"
   ]
  },
  {
   "cell_type": "code",
   "execution_count": 9,
   "id": "6718a56f-2ca9-4467-b7e2-07dcb84ddfcb",
   "metadata": {},
   "outputs": [
    {
     "data": {
      "text/html": [
       "<strong>png:</strong> 2"
      ],
      "text/latex": [
       "\\textbf{png:} 2"
      ],
      "text/markdown": [
       "**png:** 2"
      ],
      "text/plain": [
       "png \n",
       "  2 "
      ]
     },
     "metadata": {},
     "output_type": "display_data"
    }
   ],
   "source": [
    "cor_df$pearson <- ifelse(is.na(cor_df$pearson),0,cor_df$pearson)\n",
    "\n",
    "order_rows <- cor_df %>% arrange(desc(pearson)) %>% pull(gene_name)\n",
    "\n",
    "\n",
    "options(repr.plot.width = 16, repr.plot.height = 7)\n",
    "\n",
    "\n",
    "HEIGHT = 1.37\n",
    "WIDTH = 2.5\n",
    "\n",
    "pdf(file=paste0(\"plots/SupPanelA_pearson-plot.pdf\"),\n",
    "        width=WIDTH,height=HEIGHT, paper=\"special\", bg=\"white\",\n",
    "        fonts=\"Helvetica\", colormodel = \"srgb\", pointsize=6, useDingbats = FALSE)\n",
    "\n",
    "\n",
    "plt <- cor_df %>% \n",
    "    mutate(sig = ifelse(adj.p < 0.05,\"1\",\"0\")) %>%\n",
    "    mutate(gene_name = factor(gene_name, levels  = order_rows)) %>%\n",
    "    ggplot(aes(x = gene_name,y = pearson))+\n",
    "    geom_col(aes(fill=sig), alpha = 0.4)+\n",
    "#     geom_smooth(aes(color=sig, group=1), method = \"loess\", span = 0.005, size = 2)+\n",
    "    geom_line(aes(color=sig, group=1), size = .1, alpha = 1)+\n",
    "   theme_prevail()+\n",
    "    theme(axis.title.x=element_blank(),\n",
    "        axis.text.x=element_blank(),\n",
    "        axis.ticks.x=element_blank(),\n",
    "        panel.grid.major = element_blank(),\n",
    "          panel.grid.minor = element_blank())+ \n",
    "    coord_cartesian(ylim = c(-.325,0.75)) + \n",
    "    scale_y_continuous(breaks = c(-.25,0,0.25,0.5,0.75)) +\n",
    "    scale_fill_manual(values = c(\"1\"= \"red\", \"0\" = \"grey\"))+\n",
    "    scale_color_manual(values = c(\"1\"= \"red\", \"0\" = \"grey\"))\n",
    "#     scale_fill_gradient2(low = \"blue\", high = \"white\", midpoint = 0.05, na.value = NA)\n",
    "\n",
    "plt\n",
    "dev.off()\n"
   ]
  },
  {
   "cell_type": "markdown",
   "id": "e2a02101-bd2f-48f3-a623-28c53980678a",
   "metadata": {},
   "source": [
    "---\n",
    "## Simulation"
   ]
  },
  {
   "cell_type": "code",
   "execution_count": 5,
   "id": "095fd5c6-7bf2-42ac-ae96-451b5a5fb668",
   "metadata": {},
   "outputs": [
    {
     "name": "stderr",
     "output_type": "stream",
     "text": [
      "Warning message in melt(sim_df):\n",
      "“The melt generic in data.table has been passed a data.frame and will attempt to redirect to the relevant reshape2 method; please note that reshape2 is deprecated, and this redirection is now deprecated as well. To continue using melt methods from reshape2 while both libraries are attached, e.g. melt.list, you can prepend the namespace like reshape2::melt(sim_df). In the next version, this warning will become an error.”\n",
      "No id variables; using all as measure variables\n",
      "\n"
     ]
    }
   ],
   "source": [
    "sim_col <- read.delim(\"./simulation_output.cols.tsv\")\n",
    "sim_row <- read.delim(\"./simulation_output.rows.tsv\")\n",
    "\n",
    "sim_df <- data.frame(col_sig = sim_col$num_sig,\n",
    "                     row_sig = sim_row$num_sig\n",
    "                    )\n",
    "\n",
    "sim_df_m <- melt(sim_df)"
   ]
  },
  {
   "cell_type": "code",
   "execution_count": 9,
   "id": "7819e3da-69bc-4f79-bfc9-e1d61622bdd9",
   "metadata": {},
   "outputs": [
    {
     "data": {
      "text/html": [
       "196.974"
      ],
      "text/latex": [
       "196.974"
      ],
      "text/markdown": [
       "196.974"
      ],
      "text/plain": [
       "[1] 196.974"
      ]
     },
     "metadata": {},
     "output_type": "display_data"
    },
    {
     "data": {
      "text/html": [
       "114.168"
      ],
      "text/latex": [
       "114.168"
      ],
      "text/markdown": [
       "114.168"
      ],
      "text/plain": [
       "[1] 114.168"
      ]
     },
     "metadata": {},
     "output_type": "display_data"
    },
    {
     "data": {
      "text/html": [
       "82.806"
      ],
      "text/latex": [
       "82.806"
      ],
      "text/markdown": [
       "82.806"
      ],
      "text/plain": [
       "[1] 82.806"
      ]
     },
     "metadata": {},
     "output_type": "display_data"
    },
    {
     "data": {
      "text/html": [
       "0.397"
      ],
      "text/latex": [
       "0.397"
      ],
      "text/markdown": [
       "0.397"
      ],
      "text/plain": [
       "[1] 0.397"
      ]
     },
     "metadata": {},
     "output_type": "display_data"
    },
    {
     "data": {
      "text/html": [
       "0.141"
      ],
      "text/latex": [
       "0.141"
      ],
      "text/markdown": [
       "0.141"
      ],
      "text/plain": [
       "[1] 0.141"
      ]
     },
     "metadata": {},
     "output_type": "display_data"
    },
    {
     "data": {
      "text/html": [
       "0.256"
      ],
      "text/latex": [
       "0.256"
      ],
      "text/markdown": [
       "0.256"
      ],
      "text/plain": [
       "[1] 0.256"
      ]
     },
     "metadata": {},
     "output_type": "display_data"
    }
   ],
   "source": [
    "mean(sim_col$num_sig)\n",
    "mean(sim_col$num_up)\n",
    "mean(sim_col$num_down)\n",
    "\n",
    "mean(sim_row$num_sig)\n",
    "mean(sim_row$num_up)\n",
    "mean(sim_row$num_down)\n"
   ]
  },
  {
   "cell_type": "code",
   "execution_count": 8,
   "id": "79d87e26-7dd9-4572-84bc-ddf39d5c3b4f",
   "metadata": {},
   "outputs": [
    {
     "data": {
      "text/html": [
       "0.349397590361446"
      ],
      "text/latex": [
       "0.349397590361446"
      ],
      "text/markdown": [
       "0.349397590361446"
      ],
      "text/plain": [
       "[1] 0.3493976"
      ]
     },
     "metadata": {},
     "output_type": "display_data"
    }
   ],
   "source": [
    "0.145/0.415"
   ]
  },
  {
   "cell_type": "code",
   "execution_count": 16,
   "id": "864cca4e-296d-4611-a81a-7a2d255a45e9",
   "metadata": {},
   "outputs": [
    {
     "data": {
      "image/png": "[encoded data removed]",
      "text/plain": [
       "plot without title"
      ]
     },
     "metadata": {
      "image/png": {
       "height": 420,
       "width": 960
      }
     },
     "output_type": "display_data"
    }
   ],
   "source": [
    "sim_df_m %>% \n",
    "    ggplot(aes(x=value,color=variable,fill=variable)) +\n",
    "  geom_histogram(binwidth = 10, alpha = 0.2) + \n",
    "#     geom_density(alpha = 0.2) +\n",
    "    geom_vline(xintercept=992, color = \"dark green\", lty=2) + \n",
    "    theme_prevail() + theme(legend.position = \"none\") + facet_wrap(~variable,scales = \"free_y\") #+ coord_cartesian(ylim = c(0,100)) "
   ]
  }
 ],
 "metadata": {
  "kernelspec": {
   "display_name": "R",
   "language": "R",
   "name": "ir"
  },
  "language_info": {
   "codemirror_mode": "r",
   "file_extension": ".r",
   "mimetype": "text/x-r-source",
   "name": "R",
   "pygments_lexer": "r",
   "version": "4.1.1"
  }
 },
 "nbformat": 4,
 "nbformat_minor": 5
}
