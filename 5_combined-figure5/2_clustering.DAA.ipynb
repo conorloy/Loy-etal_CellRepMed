{
 "cells": [
  {
   "cell_type": "markdown",
   "id": "1f296109-da9d-40ea-832b-867fc93f54ca",
   "metadata": {
    "tags": []
   },
   "source": [
    "#### Load libraries"
   ]
  },
  {
   "cell_type": "code",
   "execution_count": 2,
   "id": "090b082e-11ca-4776-9539-ff2838a26cba",
   "metadata": {
    "tags": []
   },
   "outputs": [],
   "source": [
    "library(tidyverse)\n",
    "library(data.table)\n",
    "library(dendextend)\n",
    "library(reshape2)\n",
    "suppressMessages(library(pheatmap))\n",
    "library(RColorBrewer)\n",
    "library(gridExtra)\n",
    "source(\"../../0_metadata/theme_CRP-MISC.R\")\n",
    "\n",
    "###----------------------------------\n",
    "\n",
    "PVAL_THRESH = 0.05\n",
    "LOGFC_THRESH = 0.01\n",
    "\n",
    "###----------------------------------\n",
    "\n",
    "annotation <- fread(file=\"../../0_metadata/gencode.biotype.name.key.tsv\")"
   ]
  },
  {
   "cell_type": "markdown",
   "id": "7e52e1a7-c5fb-4cb6-852b-5ad083312682",
   "metadata": {
    "tags": []
   },
   "source": [
    "#### Load Functions"
   ]
  },
  {
   "cell_type": "code",
   "execution_count": 3,
   "id": "cd19a5bf-479f-4de1-938a-c64f3aa328cd",
   "metadata": {
    "tags": []
   },
   "outputs": [],
   "source": [
    "colLab<<-function(n,metadata){\n",
    "    if(is.leaf(n)){\n",
    "        \n",
    "#         print(attributes(n)$label)\n",
    "        \n",
    "        #I take the current attributes\n",
    "        a=attributes(n)\n",
    "        \n",
    "        #I deduce the line in the original data, and so the treatment and the specie.\n",
    "        ligne=match(attributes(n)$label,rownames(metadata))\n",
    "        Diagnosis=metadata[ligne,]$Diagnosis;\n",
    "            if(Diagnosis==\"COVID-19\"){col_diag=\"#F0484E\"};if(Diagnosis==\"MIS-C\"){col_diag=\"#5CB2EB\"};if(Diagnosis==\"Control_Non-inflammatory\"){col_diag=\"#FBE77C\"};if(Diagnosis==\"Control_Inflammatory\"){col_diag=\"purple\"}\n",
    "        #Modification of leaf attribute\n",
    "        attr(n,\"nodePar\")<-c(a$nodePar,list(cex=1.5,lab.cex=1,pch=15,col=col_diag,lab.col=col_diag,lab.font=1,lab.cex=1))\n",
    "        }\n",
    "    return(n)\n",
    "}\n",
    "\n",
    "\n",
    "get_gene_id <- function(X,annotation){\n",
    "    return(annotation[which(annotation$gene_name == X),]$gene_id)\n",
    "    }\n",
    "\n",
    "\n",
    "get_dend <- function(IDS,sig_genes,meta,ftcounts){\n",
    "    \n",
    "    ANNOTATIONS <- c(\"Diagnosis\",\"severity\",'pcr_positive_MC_1yes','antibody_positive_MC_1yes','kd_like_MC_1yes','req_vasopressors_inotropes_MC_1yes')\n",
    "\n",
    "    if (is.null(meta$cfrna_file_id)) {meta$cfrna_file_id <- meta$SEQ_ID..UCSFonly.}\n",
    "    \n",
    "    metadata <- meta %>% \n",
    "    filter(cfrna_file_id %in% all_of(IDS)) %>%                                 ###\n",
    "    mutate(PTID_DATE = gsub(\"-\",\"\\\\.\",PTID_DATE)) %>%\n",
    "    column_to_rownames(var = \"PTID_DATE\") %>%  \n",
    "    mutate(severity = ifelse(grepl(\"ontrol\",severity),NA,severity)) %>%\n",
    "    select(all_of(ANNOTATIONS))\n",
    "\n",
    "    colnames(metadata) <- c(\"Diagnosis\",\"Severity\",\"PCR\",\"Antibody\")\n",
    "\n",
    "    ###----------------------------------\n",
    "    ## Subset count matrix\n",
    "    mat <- data.frame(ftcounts) %>% \n",
    "            filter(row.names(ftcounts) %in% all_of(sig_genes)) %>% \n",
    "            select(all_of(rownames(metadata))) %>% \n",
    "            as.matrix()\n",
    "\n",
    "    mat <- t(scale(t(mat)))\n",
    "\n",
    "    ###----------------------------------\n",
    "    ## Perform clustering\n",
    "\n",
    "    h <- hclust(as.dist(1 - cor(mat, method = \"pearson\", use = 'pairwise.complete.obs')))\n",
    "#     h <- hclust(as.dist(mat))\n",
    "\n",
    "    dend <- as.dendrogram(h)\n",
    "\n",
    "    dendL <- dendrapply(dend, colLab,metadata)\n",
    "\n",
    "    return(dendL)\n",
    "}\n",
    "\n",
    "\n",
    "make_dend_list <- function(cf_tmp_rds, wb_tmp_res, \n",
    "                           cf_meta, wb_meta,\n",
    "                           cf_ftcounts,wb_ftcounts,\n",
    "                           PVAL_THRESH = PVAL_THRESH, LOGFC_THRESH = LOGFC_THRESH,N=0){\n",
    "    \n",
    "    #----------------------------------------\n",
    "    ## Cell-free\n",
    "    IDS_cf <- colnames(cf_tmp_rds[['dds']])\n",
    "    if (N>0){IDS_cf <- sample(IDS_cf,N)}\n",
    "\n",
    "    sig_genes_cf <- data.frame(cf_tmp_rds[['res']]) %>% filter(padj < PVAL_THRESH & abs(log2FoldChange) > LOGFC_THRESH) %>% rownames()\n",
    "    cf_dendL = get_dend(IDS_cf,sig_genes_cf,cf_meta,cf_ftcounts)\n",
    "\n",
    "    #----------------------------------------\n",
    "    ## Whole blood\n",
    "    wb_tmp_res$ensmbl <- lapply(wb_tmp_res$gene,get_gene_id,annotation)\n",
    "\n",
    "    cf_pt_dates <- cf_meta %>% filter(cfrna_sample_id %in% all_of(IDS_cf)) %>% pull(PTID_DATE)\n",
    "\n",
    "    IDS_wb <- wb_meta %>% \n",
    "        filter(PTID_DATE %in% all_of(cf_pt_dates)) %>% \n",
    "        pull(SEQ_ID..UCSFonly.)\n",
    "\n",
    "    sig_genes_wb <- wb_tmp_res %>% filter(padj < PVAL_THRESH & abs(log2FoldChange) > LOGFC_THRESH) %>% pull(gene)\n",
    "    wb_dendL = get_dend(IDS_wb,sig_genes_wb,wb_meta,wb_ftcounts)\n",
    "    \n",
    "    return(dendlist(cf_dendL,wb_dendL))\n",
    "}\n",
    "\n",
    "\n",
    "get_pval <- function(dendlist,the_cor,R){\n",
    "    \n",
    "    set.seed(42)\n",
    "    \n",
    "    cor_bakers_gamma_results <- numeric(R)\n",
    "    \n",
    "    d1 <- dendlist[[1]]\n",
    "    d2 <- dendlist[[2]]\n",
    "    \n",
    "    for(i in 1:R) {\n",
    "       dend_mixed <- sample.dendrogram(d2, replace = FALSE)\n",
    "       cor_bakers_gamma_results[i] <- cor_bakers_gamma(d1, dend_mixed)\n",
    "    }\n",
    "    \n",
    "    if(sum(the_cor < cor_bakers_gamma_results)==0){return(\"ALL BELOW\")}\n",
    "    \n",
    "    pval <- sum(the_cor < cor_bakers_gamma_results)/ R\n",
    "                  \n",
    "    return(pval)\n",
    "\n",
    "}\n",
    "\n",
    "get_conf <- function(dendlist,the_cor,R){\n",
    "\n",
    "    set.seed(42)\n",
    "    \n",
    "    dend1 <- dendlist[[1]]\n",
    "    dend2 <- dendlist[[2]]\n",
    "\n",
    "    dend1_labels <- labels(dend1)\n",
    "    dend2_labels <- labels(dend2)\n",
    "    cor_bakers_gamma_results <- numeric(R)\n",
    "    \n",
    "    for(i in 1:R) {\n",
    "       sampled_labels <- sample(dend1_labels, replace = TRUE)\n",
    "       # members needs to be fixed since it will be later used in nleaves\n",
    "       dend_mixed1 <- sample.dendrogram(dend1, \n",
    "                                        dend_labels=dend1_labels,\n",
    "                                        fix_members=TRUE,fix_order=TRUE,fix_midpoint=FALSE,\n",
    "                                        replace = TRUE, sampled_labels=sampled_labels\n",
    "                                          )\n",
    "       dend_mixed2 <- sample.dendrogram(dend2, dend_labels=dend2_labels,\n",
    "                                        fix_members=TRUE,fix_order=TRUE,fix_midpoint=FALSE,\n",
    "                                        replace = TRUE, sampled_labels=sampled_labels\n",
    "                                          )                                    \n",
    "       cor_bakers_gamma_results[i] <- cor_bakers_gamma(dend_mixed1, dend_mixed2, warn = FALSE)\n",
    "    }\n",
    "\n",
    "\n",
    "    CI95 <- quantile(cor_bakers_gamma_results, probs=c(.025,.975))\n",
    "    \n",
    "    return(CI95)\n",
    "}"
   ]
  },
  {
   "cell_type": "markdown",
   "id": "78a44609-a266-418e-a9a3-c4ae0528be26",
   "metadata": {
    "jp-MarkdownHeadingCollapsed": true,
    "tags": []
   },
   "source": [
    "#### Load outputs"
   ]
  },
  {
   "cell_type": "code",
   "execution_count": 5,
   "id": "2f6ec0b3-e542-4116-9063-5e1e3f6c272b",
   "metadata": {
    "tags": []
   },
   "outputs": [],
   "source": [
    "# cf_covid_cntrl <- readRDS(\"../../1_cfRNA/DAA/comparisons_to_controls_ftcount/2_ALL-results.rds\")\n",
    "# cf_misc_cntrl <- readRDS(\"../../1_cfRNA/DAA/comparisons_to_controls_ftcount/3_ALL-results.rds\")\n",
    "# cf_misc_covid <- readRDS(\"../../1_cfRNA/DAA/comparisons_to_controls_ftcount/5_ALL-results.rds\")\n",
    "\n",
    "cf_covid_cntrl <- readRDS(\"./subset_CF/2_ALL-results.rds\")\n",
    "cf_misc_cntrl <- readRDS(\"./subset_CF/3_ALL-results.rds\")\n",
    "cf_misc_covid <- readRDS(\"./subset_CF/5_ALL-results.rds\")\n",
    "\n",
    "wb_covid_cntrl <- read.delim(\"./subset_WB/paired_wb_covid_ctrls.txt\")\n",
    "wb_misc_cntrl <- read.delim(\"./subset_WB/paired_wb_misc_ctrls.txt\")\n",
    "wb_misc_covid <- read.delim(\"./subset_WB/paired_wb_misc_covid.txt\")\n",
    "\n",
    "PatientDate_df <- read.delim(\"/workdir/cjl332/prevail/meta_data/patient-date_df.tsv\") %>% mutate(PTID_DATE = gsub(\"\\\\-\",\".\",paste0(PTID,\"_\",Date)))"
   ]
  },
  {
   "cell_type": "markdown",
   "id": "09059fe1-b492-4207-8120-00b0bbbd0887",
   "metadata": {
    "jp-MarkdownHeadingCollapsed": true,
    "tags": []
   },
   "source": [
    "#### Load Whole Blood"
   ]
  },
  {
   "cell_type": "code",
   "execution_count": 8,
   "id": "d551464e-a698-4df1-9168-cab9285f862a",
   "metadata": {
    "tags": []
   },
   "outputs": [],
   "source": [
    "#------------------------\n",
    "## READ OUTPUTS\n",
    "\n",
    "wb_meta <- read.delim(\"../../0_metadata/wbrna.tsv\") %>% \n",
    "    filter(sample_group_matched != -1)\n",
    "#     filter(Coverage..10...0.no..1.yes..NA.not.applicable.or.sample.not.available. == '1') %>%\n",
    "#     mutate(PTID_DATE = paste0(PTID,\"_\",Date))\n",
    "\n",
    "# wb_meta <- wb_meta[match(unique(wb_meta$PTID_DATE), wb_meta$PTID_DATE),]\n",
    "\n",
    "wb_ftcounts <- read.delim(\"../../1_sample-output/wbrna_ftcounts.txt\") %>% \n",
    "# wb_ftcounts <- read.delim(\"../../3_wbRNA/misc72_cnh19_covid37_ctrls26_counts.txt\") %>% \n",
    "    rename(gene_id = X) %>% \n",
    "    mutate(gene_id = gsub(\"\\\\_.*\",\"\",gene_id)) %>%\n",
    "    distinct(gene_id, .keep_all = TRUE) %>%\n",
    "    column_to_rownames(var = \"gene_id\")\n",
    "\n",
    "\n",
    "# wb_meta <- wb_meta[which(wb_meta$SEQ_ID..UCSFonly. %in% colnames(wb_ftcounts)),]\n",
    "#------------------------\n",
    "## FILTER\n",
    "\n",
    "globin = c('HBA1','HBA2','HBB','HBBP1','HBD',\n",
    "     'HBE1','HBG1','HBG2','HBM','HBQ1',\n",
    "     'HBZ','HBZP1')\n",
    "globin = annotation %>% filter(gene_name %in% all_of(globin)) %>% pull(gene_id) \n",
    "\n",
    "gene.list <- read.delim(\"../../0_metadata/genelist.hs.tsv\",col.names = c(\"type,\",\"ENSMBL\",\"gene_symbol\"))\n",
    "gene.ids_wb <- gsub(\"\\\\..*\",\"\",rownames(wb_ftcounts))\n",
    "exclude.idx_wb <- gene.ids_wb %in% c(gene.list[,2], globin)\n",
    "wb_ftcounts = wb_ftcounts[!exclude.idx_wb,] \n",
    "\n",
    "wb_ftcounts <- wb_ftcounts[,colSums(wb_ftcounts) > 0]\n",
    "#------------------------\n",
    "## NORMALIZE\n",
    "\n",
    "wb_ftcounts <- edgeR::cpm(wb_ftcounts)\n",
    "\n",
    "\n",
    "#------------------------\n",
    "## RENAME\n",
    "\n",
    "wb_ftcounts <- wb_ftcounts[,colnames(wb_ftcounts) %in% wb_meta$SEQ_ID..UCSFonly.]\n",
    "wb_ids <- colnames(wb_ftcounts)\n",
    "wb_ptid_dates <- wb_meta %>% filter(SEQ_ID..UCSFonly. %in% wb_ids) %>% arrange(factor(SEQ_ID..UCSFonly., levels = wb_ids)) %>% pull(PTID_DATE)\n",
    "colnames(wb_ftcounts) <- wb_ptid_dates"
   ]
  },
  {
   "cell_type": "markdown",
   "id": "82abfafb-16cb-47c7-871c-7b3958e71981",
   "metadata": {
    "jp-MarkdownHeadingCollapsed": true,
    "tags": []
   },
   "source": [
    "#### Load Cell-Free"
   ]
  },
  {
   "cell_type": "code",
   "execution_count": 9,
   "id": "8b66a797-bbb9-44da-ad77-d7da28c3961f",
   "metadata": {
    "tags": []
   },
   "outputs": [],
   "source": [
    "#------------------------\n",
    "## READ OUTPUTS\n",
    "\n",
    "cf_meta <-read.delim(\"../../0_metadata/cfrna.tsv\") %>% filter(passQC_1yes_.1no == 1) %>% \n",
    "    filter(sample_group_matched != -1)\n",
    "\n",
    "cf_ftcounts <- read.delim(\"../../1_sample-output/cfrna_ftcounts.txt\") %>%\n",
    "    rename(gene_id = Geneid) %>% \n",
    "    mutate(gene_id = gsub(\"\\\\_.*\",\"\",gene_id)) %>%\n",
    "    distinct(gene_id, .keep_all = TRUE) %>%\n",
    "    column_to_rownames(var = \"gene_id\")\n",
    "\n",
    "# cf_meta <- cf_meta[which(cf_meta$cfrna_file_id %in% colnames(cf_ftcounts)),]\n",
    "\n",
    "#------------------------\n",
    "## FILTER\n",
    "\n",
    "globin = c('HBA1','HBA2','HBB','HBBP1','HBD',\n",
    "     'HBE1','HBG1','HBG2','HBM','HBQ1',\n",
    "     'HBZ','HBZP1')\n",
    "globin = annotation %>% filter(gene_name %in% all_of(globin)) %>% pull(gene_id) \n",
    "\n",
    "gene.list <- read.delim(\"../../0_metadata/genelist.hs.tsv\",col.names = c(\"type,\",\"ENSMBL\",\"gene_symbol\"))\n",
    "\n",
    "gene.ids_cf <- gsub(\"\\\\..*\",\"\",rownames(cf_ftcounts))\n",
    "exclude.idx_cf <- gene.ids_cf %in% c(gene.list[,2], globin)\n",
    "cf_ftcounts = cf_ftcounts[!exclude.idx_cf,] \n",
    "\n",
    "\n",
    "#------------------------\n",
    "## NORMALIZE\n",
    "cf_ftcounts <- edgeR::cpm(cf_ftcounts)\n",
    "\n",
    "\n",
    "#------------------------\n",
    "## RENAME\n",
    "\n",
    "cf_ftcounts <- cf_ftcounts[,colnames(cf_ftcounts) %in% cf_meta$cfrna_file_id]\n",
    "cf_ids <- colnames(cf_ftcounts)\n",
    "cf_ptid_dates <- cf_meta %>% filter(cfrna_file_id %in% cf_ids) %>% arrange(factor(cfrna_file_id, levels = cf_ids)) %>% pull(PTID_DATE)\n",
    "colnames(cf_ftcounts) <- cf_ptid_dates"
   ]
  },
  {
   "cell_type": "markdown",
   "id": "99bad529-1d5f-45fd-9813-d89fcd30327d",
   "metadata": {
    "tags": []
   },
   "source": [
    "----\n",
    "----\n",
    "---\n",
    "## Universal Code"
   ]
  },
  {
   "cell_type": "markdown",
   "id": "f58ec150-023f-484f-933f-755cee8b9b17",
   "metadata": {
    "tags": []
   },
   "source": [
    "#### __MIS-C and COVID-19__"
   ]
  },
  {
   "cell_type": "code",
   "execution_count": 10,
   "id": "d4de8d59-9022-4a8a-a012-ed608e62cf41",
   "metadata": {},
   "outputs": [],
   "source": [
    "PVAL_THRESH = 0.05\n",
    "LOGFC_THRESH = 1"
   ]
  },
  {
   "cell_type": "code",
   "execution_count": 11,
   "id": "f4e1957c-8c2c-4e76-a303-c7401437f707",
   "metadata": {},
   "outputs": [
    {
     "name": "stdout",
     "output_type": "stream",
     "text": [
      "[1] 0.1067597\n",
      "[1] 0.022\n"
     ]
    },
    {
     "data": {
      "text/html": [
       "<strong>png:</strong> 2"
      ],
      "text/latex": [
       "\\textbf{png:} 2"
      ],
      "text/markdown": [
       "**png:** 2"
      ],
      "text/plain": [
       "png \n",
       "  2 "
      ]
     },
     "metadata": {},
     "output_type": "display_data"
    }
   ],
   "source": [
    "###----------------------------------\n",
    "# MIS-C and COVID\n",
    "dendlist <- make_dend_list(cf_misc_covid, wb_misc_covid, \n",
    "                           cf_meta, wb_meta,\n",
    "                           cf_ftcounts,wb_ftcounts,\n",
    "                           PVAL_THRESH = PVAL_THRESH, LOGFC_THRESH = LOGFC_THRESH)\n",
    "\n",
    "bg_cor <- cor_bakers_gamma(dendlist[[1]],dendlist[[2]])\n",
    "pval <- get_pval(dendlist,bg_cor,1000)\n",
    "\n",
    "print(bg_cor)\n",
    "print(pval)\n",
    "\n",
    "HEIGHT = 1\n",
    "WIDTH = 3\n",
    "\n",
    "pdf(file=\"plots/panelC_misc-covid.pdf\",\n",
    "        width=WIDTH,height=HEIGHT, paper=\"special\", bg=\"white\",\n",
    "        fonts=\"Helvetica\", colormodel = \"srgb\", pointsize=6, useDingbats = FALSE)\n",
    "\n",
    "dendlist %>% \n",
    "    tanglegram(intersecting= TRUE,color_lines = \"black\",\n",
    "                           margin_inner = 0.1,\n",
    "             highlight_branches_lwd = FALSE,\n",
    "             highlight_distinct_edges = FALSE,\n",
    "             lwd = 0.5,\n",
    "               edge.lwd = 0.8,\n",
    "             margin_top=0,\n",
    "             margin_bottom = 2)\n",
    "\n",
    "dev.off()"
   ]
  },
  {
   "cell_type": "markdown",
   "id": "c0436bbf-9d4f-4af6-8811-a5d5418c9261",
   "metadata": {
    "tags": []
   },
   "source": [
    "#### __MIS-C and CONTROL__"
   ]
  },
  {
   "cell_type": "code",
   "execution_count": 12,
   "id": "4a6e8818-92af-40c9-b487-96e51c0eba3d",
   "metadata": {},
   "outputs": [
    {
     "name": "stdout",
     "output_type": "stream",
     "text": [
      "[1] 0.5995991\n",
      "[1] \"ALL BELOW\"\n"
     ]
    },
    {
     "data": {
      "text/html": [
       "<strong>png:</strong> 2"
      ],
      "text/latex": [
       "\\textbf{png:} 2"
      ],
      "text/markdown": [
       "**png:** 2"
      ],
      "text/plain": [
       "png \n",
       "  2 "
      ]
     },
     "metadata": {},
     "output_type": "display_data"
    }
   ],
   "source": [
    "###----------------------------------\n",
    "# MIS-C and Control\n",
    "dendlist <- make_dend_list(cf_misc_cntrl, wb_misc_cntrl, \n",
    "                           cf_meta, wb_meta,\n",
    "                           cf_ftcounts,wb_ftcounts,\n",
    "                           PVAL_THRESH = PVAL_THRESH, LOGFC_THRESH = LOGFC_THRESH)\n",
    "\n",
    "bg_cor <- cor_bakers_gamma(dendlist[[1]],dendlist[[2]])\n",
    "pval <- get_pval(dendlist,bg_cor,1000)\n",
    "\n",
    "print(bg_cor)\n",
    "print(pval)\n",
    "\n",
    "\n",
    "pdf(file=\"plots/panelC_misc-control.pdf\",\n",
    "        width=WIDTH,height=HEIGHT, paper=\"special\", bg=\"white\",\n",
    "        fonts=\"Helvetica\", colormodel = \"srgb\", pointsize=6, useDingbats = FALSE)\n",
    "\n",
    "dendlist %>% \n",
    "    tanglegram(intersecting= TRUE,color_lines = \"black\",\n",
    "                           margin_inner = 0.1,\n",
    "             highlight_branches_lwd = FALSE,\n",
    "             highlight_distinct_edges = FALSE,\n",
    "             lwd = 0.5,\n",
    "               edge.lwd = 0.8,\n",
    "             margin_top=0,\n",
    "             margin_bottom = 2)\n",
    "dev.off()\n",
    "\n"
   ]
  },
  {
   "cell_type": "markdown",
   "id": "20a8cd1a-7346-43a6-bd10-47756d9e9508",
   "metadata": {
    "tags": []
   },
   "source": [
    "#### __COVID-19 and CONTROL__"
   ]
  },
  {
   "cell_type": "code",
   "execution_count": 13,
   "id": "3668a2a6-749b-4da2-b801-d9411b4c1cb7",
   "metadata": {},
   "outputs": [
    {
     "name": "stdout",
     "output_type": "stream",
     "text": [
      "[1] 0.6363784\n",
      "[1] \"ALL BELOW\"\n"
     ]
    },
    {
     "data": {
      "text/html": [
       "<strong>png:</strong> 2"
      ],
      "text/latex": [
       "\\textbf{png:} 2"
      ],
      "text/markdown": [
       "**png:** 2"
      ],
      "text/plain": [
       "png \n",
       "  2 "
      ]
     },
     "metadata": {},
     "output_type": "display_data"
    }
   ],
   "source": [
    "###----------------------------------\n",
    "# COVID and Control\n",
    "dendlist <- make_dend_list(cf_covid_cntrl, wb_covid_cntrl, \n",
    "                           cf_meta, wb_meta,\n",
    "                           cf_ftcounts,wb_ftcounts,\n",
    "                           PVAL_THRESH = PVAL_THRESH, LOGFC_THRESH = LOGFC_THRESH)\n",
    "\n",
    "bg_cor <- cor_bakers_gamma(dendlist[[1]],dendlist[[2]])\n",
    "pval <- get_pval(dendlist,bg_cor,1000)\n",
    "\n",
    "print(bg_cor)\n",
    "print(pval)\n",
    "\n",
    "\n",
    "pdf(file=\"plots/panelC_covid-control.pdf\",\n",
    "        width=WIDTH,height=HEIGHT, paper=\"special\", bg=\"white\",\n",
    "        fonts=\"Helvetica\", colormodel = \"srgb\", pointsize=6, useDingbats = FALSE)\n",
    "\n",
    "dendlist %>% \n",
    "    tanglegram(intersecting= TRUE,color_lines = \"black\",\n",
    "                           margin_inner = 0.1,\n",
    "             highlight_branches_lwd = FALSE,\n",
    "             highlight_distinct_edges = FALSE,\n",
    "             lwd = 0.5,\n",
    "               edge.lwd = 0.8,\n",
    "             margin_top=0,\n",
    "             margin_bottom = 2)\n",
    "dev.off()"
   ]
  },
  {
   "cell_type": "code",
   "execution_count": null,
   "id": "067657a8-fec6-4588-89fb-011b8e7a62cf",
   "metadata": {},
   "outputs": [],
   "source": []
  },
  {
   "cell_type": "code",
   "execution_count": null,
   "id": "be5edd31-d298-49e5-98c3-509af5bc663a",
   "metadata": {},
   "outputs": [],
   "source": []
  },
  {
   "cell_type": "code",
   "execution_count": 1,
   "id": "f1cb5397-060a-48a8-ad49-5faa0187c5ea",
   "metadata": {},
   "outputs": [
    {
     "name": "stderr",
     "output_type": "stream",
     "text": [
      "── \u001b[1mAttaching packages\u001b[22m ───────────────────────────────────────────────────────────────────── tidyverse 1.3.1 ──\n",
      "\n",
      "\u001b[32m✔\u001b[39m \u001b[34mggplot2\u001b[39m 3.3.6     \u001b[32m✔\u001b[39m \u001b[34mpurrr  \u001b[39m 0.3.4\n",
      "\u001b[32m✔\u001b[39m \u001b[34mtibble \u001b[39m 3.1.7     \u001b[32m✔\u001b[39m \u001b[34mdplyr  \u001b[39m 1.0.8\n",
      "\u001b[32m✔\u001b[39m \u001b[34mtidyr  \u001b[39m 1.2.0     \u001b[32m✔\u001b[39m \u001b[34mstringr\u001b[39m 1.4.0\n",
      "\u001b[32m✔\u001b[39m \u001b[34mreadr  \u001b[39m 2.1.2     \u001b[32m✔\u001b[39m \u001b[34mforcats\u001b[39m 0.5.1\n",
      "\n",
      "── \u001b[1mConflicts\u001b[22m ──────────────────────────────────────────────────────────────────────── tidyverse_conflicts() ──\n",
      "\u001b[31m✖\u001b[39m \u001b[34mdplyr\u001b[39m::\u001b[32mfilter()\u001b[39m masks \u001b[34mstats\u001b[39m::filter()\n",
      "\u001b[31m✖\u001b[39m \u001b[34mdplyr\u001b[39m::\u001b[32mlag()\u001b[39m    masks \u001b[34mstats\u001b[39m::lag()\n",
      "\n",
      "\n",
      "Attaching package: ‘data.table’\n",
      "\n",
      "\n",
      "The following objects are masked from ‘package:dplyr’:\n",
      "\n",
      "    between, first, last\n",
      "\n",
      "\n",
      "The following object is masked from ‘package:purrr’:\n",
      "\n",
      "    transpose\n",
      "\n",
      "\n",
      "\n",
      "---------------------\n",
      "Welcome to dendextend version 1.15.2\n",
      "Type citation('dendextend') for how to cite the package.\n",
      "\n",
      "Type browseVignettes(package = 'dendextend') for the package vignette.\n",
      "The github page is: https://github.com/talgalili/dendextend/\n",
      "\n",
      "Suggestions and bug-reports can be submitted at: https://github.com/talgalili/dendextend/issues\n",
      "You may ask questions at stackoverflow, use the r and dendextend tags: \n",
      "\t https://stackoverflow.com/questions/tagged/dendextend\n",
      "\n",
      "\tTo suppress this message use:  suppressPackageStartupMessages(library(dendextend))\n",
      "---------------------\n",
      "\n",
      "\n",
      "\n",
      "Attaching package: ‘dendextend’\n",
      "\n",
      "\n",
      "The following object is masked from ‘package:data.table’:\n",
      "\n",
      "    set\n",
      "\n",
      "\n",
      "The following object is masked from ‘package:stats’:\n",
      "\n",
      "    cutree\n",
      "\n",
      "\n",
      "\n",
      "Attaching package: ‘reshape2’\n",
      "\n",
      "\n",
      "The following objects are masked from ‘package:data.table’:\n",
      "\n",
      "    dcast, melt\n",
      "\n",
      "\n",
      "The following object is masked from ‘package:tidyr’:\n",
      "\n",
      "    smiths\n",
      "\n",
      "\n",
      "\n",
      "Attaching package: ‘gridExtra’\n",
      "\n",
      "\n",
      "The following object is masked from ‘package:dplyr’:\n",
      "\n",
      "    combine\n",
      "\n",
      "\n"
     ]
    }
   ],
   "source": [
    "library(tidyverse)\n",
    "library(data.table)\n",
    "library(dendextend)\n",
    "library(reshape2)\n",
    "suppressMessages(library(pheatmap))\n",
    "library(RColorBrewer)\n",
    "library(gridExtra)\n",
    "\n",
    "set.seed(42)\n",
    "\n",
    "###----------------------------------\n",
    "\n",
    "PVAL_THRESH = 0.05\n",
    "LOGFC_THRESH = 1\n",
    "\n",
    "\n",
    "###----------------------------------\n",
    "\n",
    "annotation <- fread(file=\"../../0_metadata/gencode.biotype.name.key.tsv\")\n",
    "\n",
    "#----------------------------------------------------------------------------------------------\n",
    "# FUNCTIONS \n",
    "#----------------------------------------------------------------------------------------------\n",
    "\n",
    "colLab<<-function(n,metadata){\n",
    "    if(is.leaf(n)){\n",
    "        \n",
    "#         print(attributes(n)$label)\n",
    "        \n",
    "        #I take the current attributes\n",
    "        a=attributes(n)\n",
    "        \n",
    "        #I deduce the line in the original data, and so the treatment and the specie.\n",
    "        ligne=match(attributes(n)$label,rownames(metadata))\n",
    "        Diagnosis=metadata[ligne,]$Diagnosis;\n",
    "            if(Diagnosis==\"COVID-19\"){col_diag=\"#740C33\"};if(Diagnosis==\"MIS-C\"){col_diag=\"#0234C1\"};if(Diagnosis==\"Control_Non-inflammatory\"){col_diag=\"#4b7a47\"};if(Diagnosis==\"Control_Inflammatory\"){col_diag=\"purple\"}\n",
    "        #Modification of leaf attribute\n",
    "        attr(n,\"nodePar\")<-c(a$nodePar,list(cex=1.5,lab.cex=1,pch=15,col=col_diag,lab.col=col_diag,lab.font=1,lab.cex=1))\n",
    "        }\n",
    "    return(n)\n",
    "}\n",
    "\n",
    "\n",
    "get_gene_id <- function(X,annotation){\n",
    "    return(annotation[which(annotation$gene_name == X),]$gene_id)\n",
    "    }\n",
    "\n",
    "\n",
    "get_dend <- function(IDS,sig_genes,meta,ftcounts){\n",
    "    \n",
    "    ANNOTATIONS <- c(\"Diagnosis\",\"severity\",'pcr_positive_MC_1yes','antibody_positive_MC_1yes','kd_like_MC_1yes','req_vasopressors_inotropes_MC_1yes')\n",
    "\n",
    "    if (is.null(meta$cfrna_file_id)) {meta$cfrna_file_id <- meta$SEQ_ID..UCSFonly.}\n",
    "    \n",
    "    metadata <- meta %>% \n",
    "    filter(cfrna_file_id %in% all_of(IDS)) %>%                                 ###\n",
    "    mutate(PTID_DATE = gsub(\"-\",\"\\\\.\",PTID_DATE)) %>%\n",
    "    column_to_rownames(var = \"PTID_DATE\") %>%  \n",
    "    mutate(severity = ifelse(grepl(\"ontrol\",severity),NA,severity)) %>%\n",
    "    select(all_of(ANNOTATIONS))\n",
    "\n",
    "    colnames(metadata) <- c(\"Diagnosis\",\"Severity\",\"PCR\",\"Antibody\")\n",
    "\n",
    "    ###----------------------------------\n",
    "    ## Subset count matrix\n",
    "    mat <- data.frame(ftcounts) %>% \n",
    "            filter(row.names(ftcounts) %in% all_of(sig_genes)) %>% \n",
    "            select(all_of(rownames(metadata))) %>% \n",
    "            as.matrix()\n",
    "\n",
    "    mat <- t(scale(t(mat)))\n",
    "\n",
    "    ###----------------------------------\n",
    "    ## Perform clustering\n",
    "\n",
    "    h <- hclust(as.dist(1 - cor(mat, method = \"pearson\", use = 'pairwise.complete.obs')))\n",
    "#     h <- hclust(as.dist(mat))\n",
    "\n",
    "    dend <- as.dendrogram(h)\n",
    "\n",
    "    dendL <- dendrapply(dend, colLab,metadata)\n",
    "\n",
    "    return(dendL)\n",
    "}\n",
    "\n",
    "\n",
    "make_dend_list <- function(cf_tmp_rds, wb_tmp_res, \n",
    "                           cf_meta, wb_meta,\n",
    "                           cf_ftcounts,wb_ftcounts,\n",
    "                           PVAL_THRESH = PVAL_THRESH, LOGFC_THRESH = LOGFC_THRESH,N=0){\n",
    "    \n",
    "    #----------------------------------------\n",
    "    ## Cell-free\n",
    "    IDS_cf <- colnames(cf_tmp_rds[['dds']])\n",
    "    if (N>0){IDS_cf <- sample(IDS_cf,N)}\n",
    "\n",
    "    sig_genes_cf <- data.frame(cf_tmp_rds[['res']]) %>% filter(padj < PVAL_THRESH & abs(log2FoldChange) > LOGFC_THRESH) %>% rownames()\n",
    "    cf_dendL = get_dend(IDS_cf,sig_genes_cf,cf_meta,cf_ftcounts)\n",
    "\n",
    "    #----------------------------------------\n",
    "    ## Whole blood\n",
    "    wb_tmp_res$ensmbl <- lapply(wb_tmp_res$gene,get_gene_id,annotation)\n",
    "\n",
    "    cf_pt_dates <- cf_meta %>% filter(cfrna_sample_id %in% all_of(IDS_cf)) %>% pull(PTID_DATE)\n",
    "\n",
    "    IDS_wb <- wb_meta %>% \n",
    "        filter(PTID_DATE %in% all_of(cf_pt_dates)) %>% \n",
    "        pull(SEQ_ID..UCSFonly.)\n",
    "\n",
    "    sig_genes_wb <- wb_tmp_res %>% filter(padj < PVAL_THRESH & abs(log2FoldChange) > LOGFC_THRESH) %>% pull(ensmbl)\n",
    "    wb_dendL = get_dend(IDS_wb,sig_genes_wb,wb_meta,wb_ftcounts)\n",
    "    \n",
    "    return(dendlist(cf_dendL,wb_dendL))\n",
    "}\n",
    "\n",
    "\n",
    "get_pval <- function(dendlist,the_cor,R){\n",
    "    \n",
    "    set.seed(42)\n",
    "    \n",
    "    cor_bakers_gamma_results <- numeric(R)\n",
    "    \n",
    "    d1 <- dendlist[[1]]\n",
    "    d2 <- dendlist[[2]]\n",
    "    \n",
    "    for(i in 1:R) {\n",
    "       dend_mixed <- sample.dendrogram(d2, replace = FALSE)\n",
    "       cor_bakers_gamma_results[i] <- cor_bakers_gamma(d1, dend_mixed)\n",
    "    }\n",
    "    \n",
    "    if(sum(the_cor < cor_bakers_gamma_results)==0){return(\"ALL BELOW\")}\n",
    "    \n",
    "    pval <- sum(the_cor < cor_bakers_gamma_results)/ R\n",
    "                  \n",
    "    return(pval)\n",
    "\n",
    "}\n",
    "\n",
    "get_conf <- function(dendlist,the_cor,R){\n",
    "\n",
    "    set.seed(42)\n",
    "    \n",
    "    dend1 <- dendlist[[1]]\n",
    "    dend2 <- dendlist[[2]]\n",
    "\n",
    "    dend1_labels <- labels(dend1)\n",
    "    dend2_labels <- labels(dend2)\n",
    "    cor_bakers_gamma_results <- numeric(R)\n",
    "    \n",
    "    for(i in 1:R) {\n",
    "       sampled_labels <- sample(dend1_labels, replace = TRUE)\n",
    "       # members needs to be fixed since it will be later used in nleaves\n",
    "       dend_mixed1 <- sample.dendrogram(dend1, \n",
    "                                        dend_labels=dend1_labels,\n",
    "                                        fix_members=TRUE,fix_order=TRUE,fix_midpoint=FALSE,\n",
    "                                        replace = TRUE, sampled_labels=sampled_labels\n",
    "                                          )\n",
    "       dend_mixed2 <- sample.dendrogram(dend2, dend_labels=dend2_labels,\n",
    "                                        fix_members=TRUE,fix_order=TRUE,fix_midpoint=FALSE,\n",
    "                                        replace = TRUE, sampled_labels=sampled_labels\n",
    "                                          )                                    \n",
    "       cor_bakers_gamma_results[i] <- cor_bakers_gamma(dend_mixed1, dend_mixed2, warn = FALSE)\n",
    "    }\n",
    "\n",
    "\n",
    "    CI95 <- quantile(cor_bakers_gamma_results, probs=c(.025,.975))\n",
    "    \n",
    "    return(CI95)\n",
    "}\n",
    "\n",
    "#----------------------------------------------------------------------------------------------\n",
    "## LOAD OUTPUTS\n",
    "#----------------------------------------------------------------------------------------------\n",
    "\n",
    "# cf_covid_cntrl <- readRDS(\"../../1_cfRNA/DAA/comparisons_to_controls_ftcount/2_ALL-results.rds\")\n",
    "# cf_misc_cntrl <- readRDS(\"../../1_cfRNA/DAA/comparisons_to_controls_ftcount/3_ALL-results.rds\")\n",
    "# cf_misc_covid <- readRDS(\"../../1_cfRNA/DAA/comparisons_to_controls_ftcount/5_ALL-results.rds\")\n",
    "\n",
    "\n",
    "cf_covid_cntrl <- readRDS(\"./subset_CF/2_ALL-results.rds\")\n",
    "cf_misc_cntrl <- readRDS(\"./subset_CF/3_ALL-results.rds\")\n",
    "cf_misc_covid <- readRDS(\"./subset_CF/5_ALL-results.rds\")\n",
    "\n",
    "wb_covid_cntrl <- read.delim(\"./subset_WB/paired_wb_covid_ctrls.txt\")\n",
    "wb_misc_cntrl <- read.delim(\"./subset_WB/paired_wb_misc_ctrls.txt\")\n",
    "wb_misc_covid <- read.delim(\"./subset_WB/paired_wb_misc_covid.txt\")\n",
    "\n",
    "PatientDate_df <- read.delim(\"/workdir/cjl332/prevail/meta_data/patient-date_df.tsv\") %>% mutate(PTID_DATE = gsub(\"\\\\-\",\".\",paste0(PTID,\"_\",Date)))\n",
    "\n",
    "\n",
    "#----------------------------------------------------------------------------------------------\n",
    "## WHOLE BLOOD\n",
    "#----------------------------------------------------------------------------------------------\n",
    "\n",
    "#------------------------\n",
    "## READ OUTPUTS\n",
    "\n",
    "wb_meta <- read.delim(\"../../0_metadata/wbrna.tsv\") %>% \n",
    "    filter(sample_group_matched != -1)\n",
    "#     filter(Coverage..10...0.no..1.yes..NA.not.applicable.or.sample.not.available. == '1') %>%\n",
    "#     mutate(PTID_DATE = paste0(PTID,\"_\",Date))\n",
    "\n",
    "# wb_meta <- wb_meta[match(unique(wb_meta$PTID_DATE), wb_meta$PTID_DATE),]\n",
    "\n",
    "wb_ftcounts <- read.delim(\"../../1_sample-output/wbrna_ftcounts.txt\") %>% \n",
    "# wb_ftcounts <- read.delim(\"../../3_wbRNA/misc72_cnh19_covid37_ctrls26_counts.txt\") %>% \n",
    "    rename(gene_id = X) %>% \n",
    "    mutate(gene_id = gsub(\"\\\\_.*\",\"\",gene_id)) %>%\n",
    "    distinct(gene_id, .keep_all = TRUE) %>%\n",
    "    column_to_rownames(var = \"gene_id\")\n",
    "\n",
    "\n",
    "# wb_meta <- wb_meta[which(wb_meta$SEQ_ID..UCSFonly. %in% colnames(wb_ftcounts)),]\n",
    "#------------------------\n",
    "## FILTER\n",
    "\n",
    "globin = c('HBA1','HBA2','HBB','HBBP1','HBD',\n",
    "     'HBE1','HBG1','HBG2','HBM','HBQ1',\n",
    "     'HBZ','HBZP1')\n",
    "globin = annotation %>% filter(gene_name %in% all_of(globin)) %>% pull(gene_id) \n",
    "\n",
    "gene.list <- read.delim(\"../../0_metadata/genelist.hs.tsv\",col.names = c(\"type,\",\"ENSMBL\",\"gene_symbol\"))\n",
    "gene.ids_wb <- gsub(\"\\\\..*\",\"\",rownames(wb_ftcounts))\n",
    "exclude.idx_wb <- gene.ids_wb %in% c(gene.list[,2], globin)\n",
    "wb_ftcounts = wb_ftcounts[!exclude.idx_wb,] \n",
    "\n",
    "wb_ftcounts <- wb_ftcounts[,colSums(wb_ftcounts) > 0]\n",
    "#------------------------\n",
    "## NORMALIZE\n",
    "\n",
    "wb_ftcounts <- edgeR::cpm(wb_ftcounts)\n",
    "\n",
    "\n",
    "\n",
    "#------------------------\n",
    "## RENAME\n",
    "\n",
    "wb_ftcounts <- wb_ftcounts[,colnames(wb_ftcounts) %in% wb_meta$SEQ_ID..UCSFonly.]\n",
    "wb_ids <- colnames(wb_ftcounts)\n",
    "wb_ptid_dates <- wb_meta %>% filter(SEQ_ID..UCSFonly. %in% wb_ids) %>% arrange(factor(SEQ_ID..UCSFonly., levels = wb_ids)) %>% pull(PTID_DATE)\n",
    "colnames(wb_ftcounts) <- wb_ptid_dates\n",
    "\n",
    "\n",
    "\n",
    "#----------------------------------------------------------------------------------------------\n",
    "## CELL FREE\n",
    "#----------------------------------------------------------------------------------------------\n",
    "\n",
    "#------------------------\n",
    "## READ OUTPUTS\n",
    "\n",
    "cf_meta <-read.delim(\"../../0_metadata/cfrna.tsv\") %>% filter(passQC_1yes_.1no == 1) %>% \n",
    "    filter(sample_group_matched != -1)\n",
    "\n",
    "cf_ftcounts <- read.delim(\"../../1_sample-output/cfrna_ftcounts.txt\") %>%\n",
    "    rename(gene_id = Geneid) %>% \n",
    "    mutate(gene_id = gsub(\"\\\\_.*\",\"\",gene_id)) %>%\n",
    "    distinct(gene_id, .keep_all = TRUE) %>%\n",
    "    column_to_rownames(var = \"gene_id\")\n",
    "\n",
    "# cf_meta <- cf_meta[which(cf_meta$cfrna_file_id %in% colnames(cf_ftcounts)),]\n",
    "\n",
    "#------------------------\n",
    "## FILTER\n",
    "\n",
    "globin = c('HBA1','HBA2','HBB','HBBP1','HBD',\n",
    "     'HBE1','HBG1','HBG2','HBM','HBQ1',\n",
    "     'HBZ','HBZP1')\n",
    "globin = annotation %>% filter(gene_name %in% all_of(globin)) %>% pull(gene_id) \n",
    "\n",
    "gene.list <- read.delim(\"../../0_metadata/genelist.hs.tsv\",col.names = c(\"type,\",\"ENSMBL\",\"gene_symbol\"))\n",
    "\n",
    "gene.ids_cf <- gsub(\"\\\\..*\",\"\",rownames(cf_ftcounts))\n",
    "exclude.idx_cf <- gene.ids_cf %in% c(gene.list[,2], globin)\n",
    "cf_ftcounts = cf_ftcounts[!exclude.idx_cf,] \n",
    "\n",
    "\n",
    "#------------------------\n",
    "## NORMALIZE\n",
    "cf_ftcounts <- edgeR::cpm(cf_ftcounts)\n",
    "\n",
    "\n",
    "#------------------------\n",
    "## RENAME\n",
    "\n",
    "cf_ftcounts <- cf_ftcounts[,colnames(cf_ftcounts) %in% cf_meta$cfrna_file_id]\n",
    "cf_ids <- colnames(cf_ftcounts)\n",
    "cf_ptid_dates <- cf_meta %>% filter(cfrna_file_id %in% cf_ids) %>% arrange(factor(cfrna_file_id, levels = cf_ids)) %>% pull(PTID_DATE)\n",
    "colnames(cf_ftcounts) <- cf_ptid_dates\n",
    "\n",
    "\n"
   ]
  },
  {
   "cell_type": "code",
   "execution_count": 2,
   "id": "e87fcf14-df78-4239-a99f-7b8466400dae",
   "metadata": {},
   "outputs": [
    {
     "data": {
      "text/html": [
       "<table class=\"dataframe\">\n",
       "<caption>A matrix: 6 × 98 of type dbl</caption>\n",
       "<thead>\n",
       "\t<tr><th></th><th scope=col>NCOV3364CHOA_2021-04-21</th><th scope=col>NCOV3377CHOA_2021-05-25</th><th scope=col>NCOV3373CHOA_2021-05-11</th><th scope=col>NCOV3280CHOA_2021-01-28</th><th scope=col>NCOV3291CHOA_2021-02-04</th><th scope=col>NCOV3292CHOA_2021-02-04</th><th scope=col>NCOV3296CHOA_2021-02-05</th><th scope=col>NCOV3335CHOA_2021-03-03</th><th scope=col>NCOV3289CHOA_2021-05-11</th><th scope=col>NCOV3343CHOA_2021-05-14</th><th scope=col>⋯</th><th scope=col>NCOV3303CHOA_2021-02-12</th><th scope=col>NCOV3273CHOA_2021-01-26</th><th scope=col>NCOV3324CHOA_2021-02-19</th><th scope=col>NCOV3322CHOA_2021-02-19</th><th scope=col>NCOV3304CHOA_2021-02-12</th><th scope=col>NCOV3318CHOA_2021-02-18</th><th scope=col>NCOV3307CHOA_2021-02-16</th><th scope=col>NCOV3271CHOA_2021-01-26</th><th scope=col>NCOV3241CHOA_2021-01-05</th><th scope=col>NCOV3301CHOA_2021-02-10</th></tr>\n",
       "</thead>\n",
       "<tbody>\n",
       "\t<tr><th scope=row>ENSG00000223972.5</th><td>0</td><td>3.952991</td><td>0</td><td>0</td><td>0</td><td>0</td><td> 0.00000</td><td> 0.00000</td><td>5.835429</td><td>0</td><td>⋯</td><td>0</td><td>0</td><td>11.12978</td><td>5.14197</td><td>10.40009</td><td>0</td><td>1.963051</td><td>0</td><td>0</td><td> 0.00000</td></tr>\n",
       "\t<tr><th scope=row>ENSG00000227232.5</th><td>0</td><td>0.000000</td><td>0</td><td>0</td><td>0</td><td>0</td><td>11.37036</td><td> 0.00000</td><td>0.000000</td><td>0</td><td>⋯</td><td>0</td><td>0</td><td> 0.00000</td><td>0.00000</td><td> 0.00000</td><td>0</td><td>0.000000</td><td>0</td><td>0</td><td> 0.00000</td></tr>\n",
       "\t<tr><th scope=row>ENSG00000278267.1</th><td>0</td><td>0.000000</td><td>0</td><td>0</td><td>0</td><td>0</td><td> 0.00000</td><td> 0.00000</td><td>0.000000</td><td>0</td><td>⋯</td><td>0</td><td>0</td><td> 0.00000</td><td>0.00000</td><td> 0.00000</td><td>0</td><td>0.000000</td><td>0</td><td>0</td><td> 0.00000</td></tr>\n",
       "\t<tr><th scope=row>ENSG00000243485.5</th><td>0</td><td>0.000000</td><td>0</td><td>0</td><td>0</td><td>0</td><td> 0.00000</td><td> 0.00000</td><td>0.000000</td><td>0</td><td>⋯</td><td>0</td><td>0</td><td> 0.00000</td><td>0.00000</td><td> 0.00000</td><td>0</td><td>0.000000</td><td>0</td><td>0</td><td> 0.00000</td></tr>\n",
       "\t<tr><th scope=row>ENSG00000284332.1</th><td>0</td><td>0.000000</td><td>0</td><td>0</td><td>0</td><td>0</td><td> 0.00000</td><td> 0.00000</td><td>0.000000</td><td>0</td><td>⋯</td><td>0</td><td>0</td><td> 0.00000</td><td>0.00000</td><td> 0.00000</td><td>0</td><td>0.000000</td><td>0</td><td>0</td><td> 0.00000</td></tr>\n",
       "\t<tr><th scope=row>ENSG00000237613.2</th><td>0</td><td>0.000000</td><td>0</td><td>0</td><td>0</td><td>0</td><td> 0.00000</td><td>10.41884</td><td>0.000000</td><td>0</td><td>⋯</td><td>0</td><td>0</td><td>11.12978</td><td>0.00000</td><td> 0.00000</td><td>0</td><td>0.000000</td><td>0</td><td>0</td><td>10.14682</td></tr>\n",
       "</tbody>\n",
       "</table>\n"
      ],
      "text/latex": [
       "A matrix: 6 × 98 of type dbl\n",
       "\\begin{tabular}{r|lllllllllllllllllllll}\n",
       "  & NCOV3364CHOA\\_2021-04-21 & NCOV3377CHOA\\_2021-05-25 & NCOV3373CHOA\\_2021-05-11 & NCOV3280CHOA\\_2021-01-28 & NCOV3291CHOA\\_2021-02-04 & NCOV3292CHOA\\_2021-02-04 & NCOV3296CHOA\\_2021-02-05 & NCOV3335CHOA\\_2021-03-03 & NCOV3289CHOA\\_2021-05-11 & NCOV3343CHOA\\_2021-05-14 & ⋯ & NCOV3303CHOA\\_2021-02-12 & NCOV3273CHOA\\_2021-01-26 & NCOV3324CHOA\\_2021-02-19 & NCOV3322CHOA\\_2021-02-19 & NCOV3304CHOA\\_2021-02-12 & NCOV3318CHOA\\_2021-02-18 & NCOV3307CHOA\\_2021-02-16 & NCOV3271CHOA\\_2021-01-26 & NCOV3241CHOA\\_2021-01-05 & NCOV3301CHOA\\_2021-02-10\\\\\n",
       "\\hline\n",
       "\tENSG00000223972.5 & 0 & 3.952991 & 0 & 0 & 0 & 0 &  0.00000 &  0.00000 & 5.835429 & 0 & ⋯ & 0 & 0 & 11.12978 & 5.14197 & 10.40009 & 0 & 1.963051 & 0 & 0 &  0.00000\\\\\n",
       "\tENSG00000227232.5 & 0 & 0.000000 & 0 & 0 & 0 & 0 & 11.37036 &  0.00000 & 0.000000 & 0 & ⋯ & 0 & 0 &  0.00000 & 0.00000 &  0.00000 & 0 & 0.000000 & 0 & 0 &  0.00000\\\\\n",
       "\tENSG00000278267.1 & 0 & 0.000000 & 0 & 0 & 0 & 0 &  0.00000 &  0.00000 & 0.000000 & 0 & ⋯ & 0 & 0 &  0.00000 & 0.00000 &  0.00000 & 0 & 0.000000 & 0 & 0 &  0.00000\\\\\n",
       "\tENSG00000243485.5 & 0 & 0.000000 & 0 & 0 & 0 & 0 &  0.00000 &  0.00000 & 0.000000 & 0 & ⋯ & 0 & 0 &  0.00000 & 0.00000 &  0.00000 & 0 & 0.000000 & 0 & 0 &  0.00000\\\\\n",
       "\tENSG00000284332.1 & 0 & 0.000000 & 0 & 0 & 0 & 0 &  0.00000 &  0.00000 & 0.000000 & 0 & ⋯ & 0 & 0 &  0.00000 & 0.00000 &  0.00000 & 0 & 0.000000 & 0 & 0 &  0.00000\\\\\n",
       "\tENSG00000237613.2 & 0 & 0.000000 & 0 & 0 & 0 & 0 &  0.00000 & 10.41884 & 0.000000 & 0 & ⋯ & 0 & 0 & 11.12978 & 0.00000 &  0.00000 & 0 & 0.000000 & 0 & 0 & 10.14682\\\\\n",
       "\\end{tabular}\n"
      ],
      "text/markdown": [
       "\n",
       "A matrix: 6 × 98 of type dbl\n",
       "\n",
       "| <!--/--> | NCOV3364CHOA_2021-04-21 | NCOV3377CHOA_2021-05-25 | NCOV3373CHOA_2021-05-11 | NCOV3280CHOA_2021-01-28 | NCOV3291CHOA_2021-02-04 | NCOV3292CHOA_2021-02-04 | NCOV3296CHOA_2021-02-05 | NCOV3335CHOA_2021-03-03 | NCOV3289CHOA_2021-05-11 | NCOV3343CHOA_2021-05-14 | ⋯ | NCOV3303CHOA_2021-02-12 | NCOV3273CHOA_2021-01-26 | NCOV3324CHOA_2021-02-19 | NCOV3322CHOA_2021-02-19 | NCOV3304CHOA_2021-02-12 | NCOV3318CHOA_2021-02-18 | NCOV3307CHOA_2021-02-16 | NCOV3271CHOA_2021-01-26 | NCOV3241CHOA_2021-01-05 | NCOV3301CHOA_2021-02-10 |\n",
       "|---|---|---|---|---|---|---|---|---|---|---|---|---|---|---|---|---|---|---|---|---|---|\n",
       "| ENSG00000223972.5 | 0 | 3.952991 | 0 | 0 | 0 | 0 |  0.00000 |  0.00000 | 5.835429 | 0 | ⋯ | 0 | 0 | 11.12978 | 5.14197 | 10.40009 | 0 | 1.963051 | 0 | 0 |  0.00000 |\n",
       "| ENSG00000227232.5 | 0 | 0.000000 | 0 | 0 | 0 | 0 | 11.37036 |  0.00000 | 0.000000 | 0 | ⋯ | 0 | 0 |  0.00000 | 0.00000 |  0.00000 | 0 | 0.000000 | 0 | 0 |  0.00000 |\n",
       "| ENSG00000278267.1 | 0 | 0.000000 | 0 | 0 | 0 | 0 |  0.00000 |  0.00000 | 0.000000 | 0 | ⋯ | 0 | 0 |  0.00000 | 0.00000 |  0.00000 | 0 | 0.000000 | 0 | 0 |  0.00000 |\n",
       "| ENSG00000243485.5 | 0 | 0.000000 | 0 | 0 | 0 | 0 |  0.00000 |  0.00000 | 0.000000 | 0 | ⋯ | 0 | 0 |  0.00000 | 0.00000 |  0.00000 | 0 | 0.000000 | 0 | 0 |  0.00000 |\n",
       "| ENSG00000284332.1 | 0 | 0.000000 | 0 | 0 | 0 | 0 |  0.00000 |  0.00000 | 0.000000 | 0 | ⋯ | 0 | 0 |  0.00000 | 0.00000 |  0.00000 | 0 | 0.000000 | 0 | 0 |  0.00000 |\n",
       "| ENSG00000237613.2 | 0 | 0.000000 | 0 | 0 | 0 | 0 |  0.00000 | 10.41884 | 0.000000 | 0 | ⋯ | 0 | 0 | 11.12978 | 0.00000 |  0.00000 | 0 | 0.000000 | 0 | 0 | 10.14682 |\n",
       "\n"
      ],
      "text/plain": [
       "                  NCOV3364CHOA_2021-04-21 NCOV3377CHOA_2021-05-25\n",
       "ENSG00000223972.5 0                       3.952991               \n",
       "ENSG00000227232.5 0                       0.000000               \n",
       "ENSG00000278267.1 0                       0.000000               \n",
       "ENSG00000243485.5 0                       0.000000               \n",
       "ENSG00000284332.1 0                       0.000000               \n",
       "ENSG00000237613.2 0                       0.000000               \n",
       "                  NCOV3373CHOA_2021-05-11 NCOV3280CHOA_2021-01-28\n",
       "ENSG00000223972.5 0                       0                      \n",
       "ENSG00000227232.5 0                       0                      \n",
       "ENSG00000278267.1 0                       0                      \n",
       "ENSG00000243485.5 0                       0                      \n",
       "ENSG00000284332.1 0                       0                      \n",
       "ENSG00000237613.2 0                       0                      \n",
       "                  NCOV3291CHOA_2021-02-04 NCOV3292CHOA_2021-02-04\n",
       "ENSG00000223972.5 0                       0                      \n",
       "ENSG00000227232.5 0                       0                      \n",
       "ENSG00000278267.1 0                       0                      \n",
       "ENSG00000243485.5 0                       0                      \n",
       "ENSG00000284332.1 0                       0                      \n",
       "ENSG00000237613.2 0                       0                      \n",
       "                  NCOV3296CHOA_2021-02-05 NCOV3335CHOA_2021-03-03\n",
       "ENSG00000223972.5  0.00000                 0.00000               \n",
       "ENSG00000227232.5 11.37036                 0.00000               \n",
       "ENSG00000278267.1  0.00000                 0.00000               \n",
       "ENSG00000243485.5  0.00000                 0.00000               \n",
       "ENSG00000284332.1  0.00000                 0.00000               \n",
       "ENSG00000237613.2  0.00000                10.41884               \n",
       "                  NCOV3289CHOA_2021-05-11 NCOV3343CHOA_2021-05-14 ⋯\n",
       "ENSG00000223972.5 5.835429                0                       ⋯\n",
       "ENSG00000227232.5 0.000000                0                       ⋯\n",
       "ENSG00000278267.1 0.000000                0                       ⋯\n",
       "ENSG00000243485.5 0.000000                0                       ⋯\n",
       "ENSG00000284332.1 0.000000                0                       ⋯\n",
       "ENSG00000237613.2 0.000000                0                       ⋯\n",
       "                  NCOV3303CHOA_2021-02-12 NCOV3273CHOA_2021-01-26\n",
       "ENSG00000223972.5 0                       0                      \n",
       "ENSG00000227232.5 0                       0                      \n",
       "ENSG00000278267.1 0                       0                      \n",
       "ENSG00000243485.5 0                       0                      \n",
       "ENSG00000284332.1 0                       0                      \n",
       "ENSG00000237613.2 0                       0                      \n",
       "                  NCOV3324CHOA_2021-02-19 NCOV3322CHOA_2021-02-19\n",
       "ENSG00000223972.5 11.12978                5.14197                \n",
       "ENSG00000227232.5  0.00000                0.00000                \n",
       "ENSG00000278267.1  0.00000                0.00000                \n",
       "ENSG00000243485.5  0.00000                0.00000                \n",
       "ENSG00000284332.1  0.00000                0.00000                \n",
       "ENSG00000237613.2 11.12978                0.00000                \n",
       "                  NCOV3304CHOA_2021-02-12 NCOV3318CHOA_2021-02-18\n",
       "ENSG00000223972.5 10.40009                0                      \n",
       "ENSG00000227232.5  0.00000                0                      \n",
       "ENSG00000278267.1  0.00000                0                      \n",
       "ENSG00000243485.5  0.00000                0                      \n",
       "ENSG00000284332.1  0.00000                0                      \n",
       "ENSG00000237613.2  0.00000                0                      \n",
       "                  NCOV3307CHOA_2021-02-16 NCOV3271CHOA_2021-01-26\n",
       "ENSG00000223972.5 1.963051                0                      \n",
       "ENSG00000227232.5 0.000000                0                      \n",
       "ENSG00000278267.1 0.000000                0                      \n",
       "ENSG00000243485.5 0.000000                0                      \n",
       "ENSG00000284332.1 0.000000                0                      \n",
       "ENSG00000237613.2 0.000000                0                      \n",
       "                  NCOV3241CHOA_2021-01-05 NCOV3301CHOA_2021-02-10\n",
       "ENSG00000223972.5 0                        0.00000               \n",
       "ENSG00000227232.5 0                        0.00000               \n",
       "ENSG00000278267.1 0                        0.00000               \n",
       "ENSG00000243485.5 0                        0.00000               \n",
       "ENSG00000284332.1 0                        0.00000               \n",
       "ENSG00000237613.2 0                       10.14682               "
      ]
     },
     "metadata": {},
     "output_type": "display_data"
    },
    {
     "data": {
      "text/html": [
       "<table class=\"dataframe\">\n",
       "<caption>A matrix: 6 × 98 of type dbl</caption>\n",
       "<thead>\n",
       "\t<tr><th></th><th scope=col>NCOV3189CHOA_2021-04-19</th><th scope=col>NCOV3265CHOA_2021-04-28</th><th scope=col>NCOV3266CHOA_2021-05-12</th><th scope=col>NCOV3373CHOA_2021-05-11</th><th scope=col>NCOV3284CHOA_2021-05-20</th><th scope=col>NCOV3289CHOA_2021-05-11</th><th scope=col>NCOV3293CHOA_2021-04-19</th><th scope=col>NCOV3312CHOA_2021-03-26</th><th scope=col>NCOV3327CHOA_2021-06-02</th><th scope=col>NCOV3329CHOA_2021-03-31</th><th scope=col>⋯</th><th scope=col>NCOV3388CHOA_2021-06-03</th><th scope=col>NCOV3241CHOA_2021-01-05</th><th scope=col>NCOV3246CHOA_2021-01-06</th><th scope=col>NCOV3267CHOA_2021-01-22</th><th scope=col>NCOV3268CHOA_2021-01-22</th><th scope=col>NCOV3271CHOA_2021-01-26</th><th scope=col>NCOV3272CHOA_2021-01-26</th><th scope=col>NCOV3273CHOA_2021-01-26</th><th scope=col>NCOV3276CHOA_2021-01-26</th><th scope=col>NCOV3280CHOA_2021-01-28</th></tr>\n",
       "</thead>\n",
       "<tbody>\n",
       "\t<tr><th scope=row>ENSG00000000419.14</th><td>53.668678</td><td>  5.983140</td><td> 5.657543</td><td> 14.326093</td><td> 19.9592944</td><td> 11.774704</td><td>14.40641</td><td> 4.638123</td><td> 9.1992547</td><td> 6.4947546</td><td>⋯</td><td>13.619443</td><td> 11.851284</td><td> 15.415517</td><td> 23.5713026</td><td> 16.6381230</td><td> 33.754457</td><td> 27.095399</td><td> 11.311663</td><td> 22.644198</td><td> 9.5471991</td></tr>\n",
       "\t<tr><th scope=row>ENSG00000000457.14</th><td>56.493345</td><td> 16.108455</td><td>13.672396</td><td>  8.595656</td><td> 29.9389417</td><td> 15.699606</td><td>15.51460</td><td> 3.831493</td><td>17.2486026</td><td>19.0783416</td><td>⋯</td><td>12.106171</td><td> 15.307909</td><td>  6.851341</td><td>  8.7032502</td><td>  3.9931495</td><td>  5.731889</td><td> 12.700968</td><td>  7.541108</td><td> 22.644198</td><td> 1.8185141</td></tr>\n",
       "\t<tr><th scope=row>ENSG00000000460.17</th><td> 0.000000</td><td>  5.522899</td><td> 6.129005</td><td>  7.163047</td><td> 11.9755767</td><td> 10.728064</td><td>21.05552</td><td> 3.831493</td><td> 9.7742081</td><td>11.9747037</td><td>⋯</td><td> 9.079628</td><td>  3.621226</td><td>  8.183546</td><td>  2.9010834</td><td>  2.1074956</td><td>  7.005642</td><td>  3.386925</td><td>  4.309205</td><td>  1.769078</td><td> 9.0925706</td></tr>\n",
       "\t<tr><th scope=row>ENSG00000000938.13</th><td>76.266016</td><td>105.855561</td><td>71.662214</td><td>310.159922</td><td>152.8311689</td><td>107.018980</td><td>58.73383</td><td>82.074604</td><td>83.5598969</td><td>98.6390851</td><td>⋯</td><td>62.044127</td><td>323.276696</td><td>210.678728</td><td>339.2454391</td><td>236.0395056</td><td>397.410969</td><td>150.153668</td><td>151.360820</td><td>651.020705</td><td>65.0118794</td></tr>\n",
       "\t<tr><th scope=row>ENSG00000000971.16</th><td> 0.000000</td><td>  0.000000</td><td> 2.828772</td><td>  0.000000</td><td>  0.5702656</td><td>  1.831621</td><td> 0.00000</td><td> 0.000000</td><td> 0.7666046</td><td> 0.4059222</td><td>⋯</td><td> 0.000000</td><td>  0.000000</td><td>  0.000000</td><td>  0.9065886</td><td>  0.5546041</td><td>  0.000000</td><td>  2.257950</td><td>  2.154602</td><td>  1.769078</td><td> 0.4546285</td></tr>\n",
       "\t<tr><th scope=row>ENSG00000001036.14</th><td> 5.649335</td><td> 15.187972</td><td> 7.543391</td><td>  2.148914</td><td>  7.9837178</td><td>  8.111463</td><td>22.16371</td><td> 2.621548</td><td> 8.6243013</td><td> 4.4651438</td><td>⋯</td><td>10.592900</td><td>  5.267237</td><td>  9.515751</td><td>  8.8845679</td><td>  8.6518240</td><td> 10.190025</td><td>  6.209362</td><td>  7.002458</td><td> 20.167489</td><td> 4.0916567</td></tr>\n",
       "</tbody>\n",
       "</table>\n"
      ],
      "text/latex": [
       "A matrix: 6 × 98 of type dbl\n",
       "\\begin{tabular}{r|lllllllllllllllllllll}\n",
       "  & NCOV3189CHOA\\_2021-04-19 & NCOV3265CHOA\\_2021-04-28 & NCOV3266CHOA\\_2021-05-12 & NCOV3373CHOA\\_2021-05-11 & NCOV3284CHOA\\_2021-05-20 & NCOV3289CHOA\\_2021-05-11 & NCOV3293CHOA\\_2021-04-19 & NCOV3312CHOA\\_2021-03-26 & NCOV3327CHOA\\_2021-06-02 & NCOV3329CHOA\\_2021-03-31 & ⋯ & NCOV3388CHOA\\_2021-06-03 & NCOV3241CHOA\\_2021-01-05 & NCOV3246CHOA\\_2021-01-06 & NCOV3267CHOA\\_2021-01-22 & NCOV3268CHOA\\_2021-01-22 & NCOV3271CHOA\\_2021-01-26 & NCOV3272CHOA\\_2021-01-26 & NCOV3273CHOA\\_2021-01-26 & NCOV3276CHOA\\_2021-01-26 & NCOV3280CHOA\\_2021-01-28\\\\\n",
       "\\hline\n",
       "\tENSG00000000419.14 & 53.668678 &   5.983140 &  5.657543 &  14.326093 &  19.9592944 &  11.774704 & 14.40641 &  4.638123 &  9.1992547 &  6.4947546 & ⋯ & 13.619443 &  11.851284 &  15.415517 &  23.5713026 &  16.6381230 &  33.754457 &  27.095399 &  11.311663 &  22.644198 &  9.5471991\\\\\n",
       "\tENSG00000000457.14 & 56.493345 &  16.108455 & 13.672396 &   8.595656 &  29.9389417 &  15.699606 & 15.51460 &  3.831493 & 17.2486026 & 19.0783416 & ⋯ & 12.106171 &  15.307909 &   6.851341 &   8.7032502 &   3.9931495 &   5.731889 &  12.700968 &   7.541108 &  22.644198 &  1.8185141\\\\\n",
       "\tENSG00000000460.17 &  0.000000 &   5.522899 &  6.129005 &   7.163047 &  11.9755767 &  10.728064 & 21.05552 &  3.831493 &  9.7742081 & 11.9747037 & ⋯ &  9.079628 &   3.621226 &   8.183546 &   2.9010834 &   2.1074956 &   7.005642 &   3.386925 &   4.309205 &   1.769078 &  9.0925706\\\\\n",
       "\tENSG00000000938.13 & 76.266016 & 105.855561 & 71.662214 & 310.159922 & 152.8311689 & 107.018980 & 58.73383 & 82.074604 & 83.5598969 & 98.6390851 & ⋯ & 62.044127 & 323.276696 & 210.678728 & 339.2454391 & 236.0395056 & 397.410969 & 150.153668 & 151.360820 & 651.020705 & 65.0118794\\\\\n",
       "\tENSG00000000971.16 &  0.000000 &   0.000000 &  2.828772 &   0.000000 &   0.5702656 &   1.831621 &  0.00000 &  0.000000 &  0.7666046 &  0.4059222 & ⋯ &  0.000000 &   0.000000 &   0.000000 &   0.9065886 &   0.5546041 &   0.000000 &   2.257950 &   2.154602 &   1.769078 &  0.4546285\\\\\n",
       "\tENSG00000001036.14 &  5.649335 &  15.187972 &  7.543391 &   2.148914 &   7.9837178 &   8.111463 & 22.16371 &  2.621548 &  8.6243013 &  4.4651438 & ⋯ & 10.592900 &   5.267237 &   9.515751 &   8.8845679 &   8.6518240 &  10.190025 &   6.209362 &   7.002458 &  20.167489 &  4.0916567\\\\\n",
       "\\end{tabular}\n"
      ],
      "text/markdown": [
       "\n",
       "A matrix: 6 × 98 of type dbl\n",
       "\n",
       "| <!--/--> | NCOV3189CHOA_2021-04-19 | NCOV3265CHOA_2021-04-28 | NCOV3266CHOA_2021-05-12 | NCOV3373CHOA_2021-05-11 | NCOV3284CHOA_2021-05-20 | NCOV3289CHOA_2021-05-11 | NCOV3293CHOA_2021-04-19 | NCOV3312CHOA_2021-03-26 | NCOV3327CHOA_2021-06-02 | NCOV3329CHOA_2021-03-31 | ⋯ | NCOV3388CHOA_2021-06-03 | NCOV3241CHOA_2021-01-05 | NCOV3246CHOA_2021-01-06 | NCOV3267CHOA_2021-01-22 | NCOV3268CHOA_2021-01-22 | NCOV3271CHOA_2021-01-26 | NCOV3272CHOA_2021-01-26 | NCOV3273CHOA_2021-01-26 | NCOV3276CHOA_2021-01-26 | NCOV3280CHOA_2021-01-28 |\n",
       "|---|---|---|---|---|---|---|---|---|---|---|---|---|---|---|---|---|---|---|---|---|---|\n",
       "| ENSG00000000419.14 | 53.668678 |   5.983140 |  5.657543 |  14.326093 |  19.9592944 |  11.774704 | 14.40641 |  4.638123 |  9.1992547 |  6.4947546 | ⋯ | 13.619443 |  11.851284 |  15.415517 |  23.5713026 |  16.6381230 |  33.754457 |  27.095399 |  11.311663 |  22.644198 |  9.5471991 |\n",
       "| ENSG00000000457.14 | 56.493345 |  16.108455 | 13.672396 |   8.595656 |  29.9389417 |  15.699606 | 15.51460 |  3.831493 | 17.2486026 | 19.0783416 | ⋯ | 12.106171 |  15.307909 |   6.851341 |   8.7032502 |   3.9931495 |   5.731889 |  12.700968 |   7.541108 |  22.644198 |  1.8185141 |\n",
       "| ENSG00000000460.17 |  0.000000 |   5.522899 |  6.129005 |   7.163047 |  11.9755767 |  10.728064 | 21.05552 |  3.831493 |  9.7742081 | 11.9747037 | ⋯ |  9.079628 |   3.621226 |   8.183546 |   2.9010834 |   2.1074956 |   7.005642 |   3.386925 |   4.309205 |   1.769078 |  9.0925706 |\n",
       "| ENSG00000000938.13 | 76.266016 | 105.855561 | 71.662214 | 310.159922 | 152.8311689 | 107.018980 | 58.73383 | 82.074604 | 83.5598969 | 98.6390851 | ⋯ | 62.044127 | 323.276696 | 210.678728 | 339.2454391 | 236.0395056 | 397.410969 | 150.153668 | 151.360820 | 651.020705 | 65.0118794 |\n",
       "| ENSG00000000971.16 |  0.000000 |   0.000000 |  2.828772 |   0.000000 |   0.5702656 |   1.831621 |  0.00000 |  0.000000 |  0.7666046 |  0.4059222 | ⋯ |  0.000000 |   0.000000 |   0.000000 |   0.9065886 |   0.5546041 |   0.000000 |   2.257950 |   2.154602 |   1.769078 |  0.4546285 |\n",
       "| ENSG00000001036.14 |  5.649335 |  15.187972 |  7.543391 |   2.148914 |   7.9837178 |   8.111463 | 22.16371 |  2.621548 |  8.6243013 |  4.4651438 | ⋯ | 10.592900 |   5.267237 |   9.515751 |   8.8845679 |   8.6518240 |  10.190025 |   6.209362 |   7.002458 |  20.167489 |  4.0916567 |\n",
       "\n"
      ],
      "text/plain": [
       "                   NCOV3189CHOA_2021-04-19 NCOV3265CHOA_2021-04-28\n",
       "ENSG00000000419.14 53.668678                 5.983140             \n",
       "ENSG00000000457.14 56.493345                16.108455             \n",
       "ENSG00000000460.17  0.000000                 5.522899             \n",
       "ENSG00000000938.13 76.266016               105.855561             \n",
       "ENSG00000000971.16  0.000000                 0.000000             \n",
       "ENSG00000001036.14  5.649335                15.187972             \n",
       "                   NCOV3266CHOA_2021-05-12 NCOV3373CHOA_2021-05-11\n",
       "ENSG00000000419.14  5.657543                14.326093             \n",
       "ENSG00000000457.14 13.672396                 8.595656             \n",
       "ENSG00000000460.17  6.129005                 7.163047             \n",
       "ENSG00000000938.13 71.662214               310.159922             \n",
       "ENSG00000000971.16  2.828772                 0.000000             \n",
       "ENSG00000001036.14  7.543391                 2.148914             \n",
       "                   NCOV3284CHOA_2021-05-20 NCOV3289CHOA_2021-05-11\n",
       "ENSG00000000419.14  19.9592944              11.774704             \n",
       "ENSG00000000457.14  29.9389417              15.699606             \n",
       "ENSG00000000460.17  11.9755767              10.728064             \n",
       "ENSG00000000938.13 152.8311689             107.018980             \n",
       "ENSG00000000971.16   0.5702656               1.831621             \n",
       "ENSG00000001036.14   7.9837178               8.111463             \n",
       "                   NCOV3293CHOA_2021-04-19 NCOV3312CHOA_2021-03-26\n",
       "ENSG00000000419.14 14.40641                 4.638123              \n",
       "ENSG00000000457.14 15.51460                 3.831493              \n",
       "ENSG00000000460.17 21.05552                 3.831493              \n",
       "ENSG00000000938.13 58.73383                82.074604              \n",
       "ENSG00000000971.16  0.00000                 0.000000              \n",
       "ENSG00000001036.14 22.16371                 2.621548              \n",
       "                   NCOV3327CHOA_2021-06-02 NCOV3329CHOA_2021-03-31 ⋯\n",
       "ENSG00000000419.14  9.1992547               6.4947546              ⋯\n",
       "ENSG00000000457.14 17.2486026              19.0783416              ⋯\n",
       "ENSG00000000460.17  9.7742081              11.9747037              ⋯\n",
       "ENSG00000000938.13 83.5598969              98.6390851              ⋯\n",
       "ENSG00000000971.16  0.7666046               0.4059222              ⋯\n",
       "ENSG00000001036.14  8.6243013               4.4651438              ⋯\n",
       "                   NCOV3388CHOA_2021-06-03 NCOV3241CHOA_2021-01-05\n",
       "ENSG00000000419.14 13.619443                11.851284             \n",
       "ENSG00000000457.14 12.106171                15.307909             \n",
       "ENSG00000000460.17  9.079628                 3.621226             \n",
       "ENSG00000000938.13 62.044127               323.276696             \n",
       "ENSG00000000971.16  0.000000                 0.000000             \n",
       "ENSG00000001036.14 10.592900                 5.267237             \n",
       "                   NCOV3246CHOA_2021-01-06 NCOV3267CHOA_2021-01-22\n",
       "ENSG00000000419.14  15.415517               23.5713026            \n",
       "ENSG00000000457.14   6.851341                8.7032502            \n",
       "ENSG00000000460.17   8.183546                2.9010834            \n",
       "ENSG00000000938.13 210.678728              339.2454391            \n",
       "ENSG00000000971.16   0.000000                0.9065886            \n",
       "ENSG00000001036.14   9.515751                8.8845679            \n",
       "                   NCOV3268CHOA_2021-01-22 NCOV3271CHOA_2021-01-26\n",
       "ENSG00000000419.14  16.6381230              33.754457             \n",
       "ENSG00000000457.14   3.9931495               5.731889             \n",
       "ENSG00000000460.17   2.1074956               7.005642             \n",
       "ENSG00000000938.13 236.0395056             397.410969             \n",
       "ENSG00000000971.16   0.5546041               0.000000             \n",
       "ENSG00000001036.14   8.6518240              10.190025             \n",
       "                   NCOV3272CHOA_2021-01-26 NCOV3273CHOA_2021-01-26\n",
       "ENSG00000000419.14  27.095399               11.311663             \n",
       "ENSG00000000457.14  12.700968                7.541108             \n",
       "ENSG00000000460.17   3.386925                4.309205             \n",
       "ENSG00000000938.13 150.153668              151.360820             \n",
       "ENSG00000000971.16   2.257950                2.154602             \n",
       "ENSG00000001036.14   6.209362                7.002458             \n",
       "                   NCOV3276CHOA_2021-01-26 NCOV3280CHOA_2021-01-28\n",
       "ENSG00000000419.14  22.644198               9.5471991             \n",
       "ENSG00000000457.14  22.644198               1.8185141             \n",
       "ENSG00000000460.17   1.769078               9.0925706             \n",
       "ENSG00000000938.13 651.020705              65.0118794             \n",
       "ENSG00000000971.16   1.769078               0.4546285             \n",
       "ENSG00000001036.14  20.167489               4.0916567             "
      ]
     },
     "metadata": {},
     "output_type": "display_data"
    }
   ],
   "source": [
    "cf_ftcounts %>% head()\n",
    "wb_ftcounts %>% head()"
   ]
  },
  {
   "cell_type": "code",
   "execution_count": 7,
   "id": "d0404f32-847e-4efd-8317-ff3bdda9e1de",
   "metadata": {},
   "outputs": [],
   "source": [
    "N = 26"
   ]
  },
  {
   "cell_type": "code",
   "execution_count": 8,
   "id": "9036577d-26f9-42bd-84c7-bb81690cd307",
   "metadata": {},
   "outputs": [],
   "source": [
    "IDS_cf <- colnames(cf_misc_covid[['dds']])\n",
    "if (N>0){IDS_cf <- sample(IDS_cf,N)}\n",
    "sig_genes_cf <- data.frame(cf_misc_covid[['res']]) %>% filter(padj < PVAL_THRESH & abs(log2FoldChange) > LOGFC_THRESH) %>% rownames()\n",
    "cf_dendL = get_dend(IDS_cf,sig_genes_cf,cf_meta,cf_ftcounts)\n",
    "\n"
   ]
  },
  {
   "cell_type": "code",
   "execution_count": 15,
   "id": "cf4218e8-8706-4a11-b9e3-965e26a88594",
   "metadata": {},
   "outputs": [],
   "source": [
    "#----------------------------------------\n",
    "## Whole blood\n",
    "wb_misc_covid$ensmbl <- lapply(wb_misc_covid$gene,get_gene_id,annotation)\n",
    "\n",
    "cf_pt_dates <- cf_meta %>% filter(cfrna_sample_id %in% all_of(IDS_cf)) %>% pull(PTID_DATE)\n",
    "\n",
    "IDS_wb <- wb_meta %>% \n",
    "    filter(PTID_DATE %in% all_of(cf_pt_dates)) %>% \n",
    "    pull(SEQ_ID..UCSFonly.)\n",
    "\n",
    "sig_genes_wb <- wb_misc_covid %>% filter(padj < PVAL_THRESH & abs(log2FoldChange) > LOGFC_THRESH) %>% pull(gene)\n",
    "wb_dendL = get_dend(IDS_wb,sig_genes_wb,wb_meta,wb_ftcounts)"
   ]
  },
  {
   "cell_type": "markdown",
   "id": "f42648e1-2982-4281-8508-67f25f314c98",
   "metadata": {
    "tags": []
   },
   "source": [
    "---\n",
    "---\n",
    "---\n",
    "# Simulation results"
   ]
  },
  {
   "cell_type": "code",
   "execution_count": 2,
   "id": "583582a8-e6e7-40d0-bda4-93a21e69542b",
   "metadata": {},
   "outputs": [
    {
     "name": "stderr",
     "output_type": "stream",
     "text": [
      "No id variables; using all as measure variables\n",
      "\n"
     ]
    },
    {
     "data": {
      "text/html": [
       "<table class=\"dataframe\">\n",
       "<caption>A data.frame: 6 × 2</caption>\n",
       "<thead>\n",
       "\t<tr><th></th><th scope=col>variable</th><th scope=col>value</th></tr>\n",
       "\t<tr><th></th><th scope=col>&lt;fct&gt;</th><th scope=col>&lt;dbl&gt;</th></tr>\n",
       "</thead>\n",
       "<tbody>\n",
       "\t<tr><th scope=row>1</th><td>MIS-C_vs_COVID-19</td><td>0.14523997</td></tr>\n",
       "\t<tr><th scope=row>2</th><td>MIS-C_vs_COVID-19</td><td>0.05259711</td></tr>\n",
       "\t<tr><th scope=row>3</th><td>MIS-C_vs_COVID-19</td><td>0.22193138</td></tr>\n",
       "\t<tr><th scope=row>4</th><td>MIS-C_vs_COVID-19</td><td>0.62871180</td></tr>\n",
       "\t<tr><th scope=row>5</th><td>MIS-C_vs_COVID-19</td><td>0.04925115</td></tr>\n",
       "\t<tr><th scope=row>6</th><td>MIS-C_vs_COVID-19</td><td>0.19557530</td></tr>\n",
       "</tbody>\n",
       "</table>\n"
      ],
      "text/latex": [
       "A data.frame: 6 × 2\n",
       "\\begin{tabular}{r|ll}\n",
       "  & variable & value\\\\\n",
       "  & <fct> & <dbl>\\\\\n",
       "\\hline\n",
       "\t1 & MIS-C\\_vs\\_COVID-19 & 0.14523997\\\\\n",
       "\t2 & MIS-C\\_vs\\_COVID-19 & 0.05259711\\\\\n",
       "\t3 & MIS-C\\_vs\\_COVID-19 & 0.22193138\\\\\n",
       "\t4 & MIS-C\\_vs\\_COVID-19 & 0.62871180\\\\\n",
       "\t5 & MIS-C\\_vs\\_COVID-19 & 0.04925115\\\\\n",
       "\t6 & MIS-C\\_vs\\_COVID-19 & 0.19557530\\\\\n",
       "\\end{tabular}\n"
      ],
      "text/markdown": [
       "\n",
       "A data.frame: 6 × 2\n",
       "\n",
       "| <!--/--> | variable &lt;fct&gt; | value &lt;dbl&gt; |\n",
       "|---|---|---|\n",
       "| 1 | MIS-C_vs_COVID-19 | 0.14523997 |\n",
       "| 2 | MIS-C_vs_COVID-19 | 0.05259711 |\n",
       "| 3 | MIS-C_vs_COVID-19 | 0.22193138 |\n",
       "| 4 | MIS-C_vs_COVID-19 | 0.62871180 |\n",
       "| 5 | MIS-C_vs_COVID-19 | 0.04925115 |\n",
       "| 6 | MIS-C_vs_COVID-19 | 0.19557530 |\n",
       "\n"
      ],
      "text/plain": [
       "  variable          value     \n",
       "1 MIS-C_vs_COVID-19 0.14523997\n",
       "2 MIS-C_vs_COVID-19 0.05259711\n",
       "3 MIS-C_vs_COVID-19 0.22193138\n",
       "4 MIS-C_vs_COVID-19 0.62871180\n",
       "5 MIS-C_vs_COVID-19 0.04925115\n",
       "6 MIS-C_vs_COVID-19 0.19557530"
      ]
     },
     "metadata": {},
     "output_type": "display_data"
    }
   ],
   "source": [
    "sim_df <- read.delim(\"./simulation_bakers_gamma.tsv\")\n",
    "colnames(sim_df) <- c(\"MIS-C_vs_COVID-19\",\"MIS-C_vs_Control\")\n",
    "sim_df_m <- melt(sim_df)\n",
    "sim_df_m %>% head()"
   ]
  },
  {
   "cell_type": "markdown",
   "id": "4d3f68bf-7140-4752-a87c-63e3eb0d88bc",
   "metadata": {},
   "source": [
    "---\n",
    "#### _pvalues_"
   ]
  },
  {
   "cell_type": "code",
   "execution_count": 6,
   "id": "8070a7f8-83ae-48c2-971e-42c3926df78f",
   "metadata": {},
   "outputs": [
    {
     "name": "stdout",
     "output_type": "stream",
     "text": [
      "[1] 0.878\n",
      "[1] 0.402\n"
     ]
    }
   ],
   "source": [
    "misc_cntrl_sim <- sim_df$`MIS-C_vs_Control`\n",
    "misc_cntrl_all <- 0.5995991\n",
    "pval = sum(misc_cntrl_all <= misc_cntrl_sim)/length(misc_cntrl_sim) *2\n",
    "print(pval)\n",
    "\n",
    "misc_covid_sim <- sim_df$`MIS-C_vs_COVID-19`\n",
    "misc_covid_all <- 0.1142398\n",
    "pval = sum(misc_covid_all >= misc_covid_sim)/length(misc_covid_sim) *2\n",
    "print(pval)"
   ]
  },
  {
   "cell_type": "code",
   "execution_count": 5,
   "id": "1e8e3a41-2aa4-4e38-9174-5494adc4f5ff",
   "metadata": {},
   "outputs": [
    {
     "data": {
      "image/png": "[encoded data removed]",
      "text/plain": [
       "plot without title"
      ]
     },
     "metadata": {
      "image/png": {
       "height": 420,
       "width": 420
      }
     },
     "output_type": "display_data"
    }
   ],
   "source": [
    "sim_df_m %>% \n",
    "    ggplot(aes(x=value,color=variable,fill=variable)) + \n",
    "    geom_density(alpha = 0.2) +\n",
    "    geom_vline(xintercept=0.8450, color = \"dark green\", lty=2) + \n",
    "    theme_alex() + theme(legend.position = \"none\")"
   ]
  },
  {
   "cell_type": "code",
   "execution_count": 4,
   "id": "1a5c2bfa-bb10-4865-b952-592281cd0a1e",
   "metadata": {},
   "outputs": [
    {
     "data": {
      "text/html": [
       "<strong>png:</strong> 2"
      ],
      "text/latex": [
       "\\textbf{png:} 2"
      ],
      "text/markdown": [
       "**png:** 2"
      ],
      "text/plain": [
       "png \n",
       "  2 "
      ]
     },
     "metadata": {},
     "output_type": "display_data"
    }
   ],
   "source": [
    "\n",
    "pdf(file=\"plots/entangle_simulations.pdf\",\n",
    "        width=1.8,height=1.6, paper=\"special\", bg=\"white\",\n",
    "        fonts=\"Helvetica\", colormodel = \"srgb\", pointsize=6, useDingbats = FALSE)\n",
    "\n",
    "sim_df_m %>% \n",
    "    ggplot(aes(x=value,color=variable,fill=variable)) + \n",
    "    geom_density(alpha = 0.2) +\n",
    "    geom_vline(xintercept=0.8450, color = \"dark green\", lty=2) + \n",
    "    theme_alex() + theme(legend.position = \"none\")\n",
    "\n",
    "dev.off()"
   ]
  },
  {
   "cell_type": "markdown",
   "id": "c174a1b9-6661-406f-9bd1-38a0d5941494",
   "metadata": {},
   "source": [
    "---\n",
    "---\n",
    "---\n",
    "## SUBSET FOR FIG1"
   ]
  },
  {
   "cell_type": "code",
   "execution_count": null,
   "id": "f195e7f4-becb-46c9-baf8-39f188a221a4",
   "metadata": {},
   "outputs": [],
   "source": []
  },
  {
   "cell_type": "code",
   "execution_count": 12,
   "id": "862902d8-03a6-4bd1-ac06-8ee8ccf33924",
   "metadata": {},
   "outputs": [
    {
     "data": {
      "text/html": [
       "<style>\n",
       ".list-inline {list-style: none; margin:0; padding: 0}\n",
       ".list-inline>li {display: inline-block}\n",
       ".list-inline>li:not(:last-child)::after {content: \"\\00b7\"; padding: 0 .5ex}\n",
       "</style>\n",
       "<ol class=list-inline><li>'prevail_cu_cfrna_293'</li><li>'prevail_cu_cfrna_298'</li><li>'prevail_cu_cfrna_301'</li><li>'prevail_cu_cfrna_308'</li><li>'prevail_cu_cfrna_300'</li><li>'prevail_cu_cfrna_304'</li><li>'prevail_cu_cfrna_305'</li><li>'prevail_cu_cfrna_81'</li><li>'prevail_cu_cfrna_82'</li><li>'prevail_cu_cfrna_83'</li><li>'prevail_cu_cfrna_307'</li><li>'prevail_cu_cfrna_313'</li><li>'prevail_cu_cfrna_303'</li><li>'prevail_cu_cfrna_310'</li><li>'prevail_cu_cfrna_309'</li><li>'prevail_cu_cfrna_290'</li><li>'prevail_cu_cfrna_108'</li><li>'prevail_cu_cfrna_294'</li><li>'prevail_cu_cfrna_287'</li><li>'prevail_cu_cfrna_282'</li><li>'prevail_cu_cfrna_284'</li><li>'prevail_cu_cfrna_285'</li><li>'prevail_cu_cfrna_292'</li><li>'prevail_cu_cfrna_24'</li><li>'prevail_cu_cfrna_296'</li><li>'prevail_cu_cfrna_299'</li><li>'prevail_cu_cfrna_42'</li><li>'prevail_cu_cfrna_171'</li><li>'prevail_cu_cfrna_152'</li><li>'prevail_cu_cfrna_174'</li><li>'prevail_cu_cfrna_181'</li><li>'prevail_cu_cfrna_183'</li><li>'prevail_cu_cfrna_175'</li><li>'prevail_cu_cfrna_179'</li><li>'prevail_cu_cfrna_182'</li><li>'prevail_cu_cfrna_191'</li><li>'prevail_cu_cfrna_192'</li><li>'prevail_cu_cfrna_235'</li><li>'prevail_cu_cfrna_236'</li></ol>\n"
      ],
      "text/latex": [
       "\\begin{enumerate*}\n",
       "\\item 'prevail\\_cu\\_cfrna\\_293'\n",
       "\\item 'prevail\\_cu\\_cfrna\\_298'\n",
       "\\item 'prevail\\_cu\\_cfrna\\_301'\n",
       "\\item 'prevail\\_cu\\_cfrna\\_308'\n",
       "\\item 'prevail\\_cu\\_cfrna\\_300'\n",
       "\\item 'prevail\\_cu\\_cfrna\\_304'\n",
       "\\item 'prevail\\_cu\\_cfrna\\_305'\n",
       "\\item 'prevail\\_cu\\_cfrna\\_81'\n",
       "\\item 'prevail\\_cu\\_cfrna\\_82'\n",
       "\\item 'prevail\\_cu\\_cfrna\\_83'\n",
       "\\item 'prevail\\_cu\\_cfrna\\_307'\n",
       "\\item 'prevail\\_cu\\_cfrna\\_313'\n",
       "\\item 'prevail\\_cu\\_cfrna\\_303'\n",
       "\\item 'prevail\\_cu\\_cfrna\\_310'\n",
       "\\item 'prevail\\_cu\\_cfrna\\_309'\n",
       "\\item 'prevail\\_cu\\_cfrna\\_290'\n",
       "\\item 'prevail\\_cu\\_cfrna\\_108'\n",
       "\\item 'prevail\\_cu\\_cfrna\\_294'\n",
       "\\item 'prevail\\_cu\\_cfrna\\_287'\n",
       "\\item 'prevail\\_cu\\_cfrna\\_282'\n",
       "\\item 'prevail\\_cu\\_cfrna\\_284'\n",
       "\\item 'prevail\\_cu\\_cfrna\\_285'\n",
       "\\item 'prevail\\_cu\\_cfrna\\_292'\n",
       "\\item 'prevail\\_cu\\_cfrna\\_24'\n",
       "\\item 'prevail\\_cu\\_cfrna\\_296'\n",
       "\\item 'prevail\\_cu\\_cfrna\\_299'\n",
       "\\item 'prevail\\_cu\\_cfrna\\_42'\n",
       "\\item 'prevail\\_cu\\_cfrna\\_171'\n",
       "\\item 'prevail\\_cu\\_cfrna\\_152'\n",
       "\\item 'prevail\\_cu\\_cfrna\\_174'\n",
       "\\item 'prevail\\_cu\\_cfrna\\_181'\n",
       "\\item 'prevail\\_cu\\_cfrna\\_183'\n",
       "\\item 'prevail\\_cu\\_cfrna\\_175'\n",
       "\\item 'prevail\\_cu\\_cfrna\\_179'\n",
       "\\item 'prevail\\_cu\\_cfrna\\_182'\n",
       "\\item 'prevail\\_cu\\_cfrna\\_191'\n",
       "\\item 'prevail\\_cu\\_cfrna\\_192'\n",
       "\\item 'prevail\\_cu\\_cfrna\\_235'\n",
       "\\item 'prevail\\_cu\\_cfrna\\_236'\n",
       "\\end{enumerate*}\n"
      ],
      "text/markdown": [
       "1. 'prevail_cu_cfrna_293'\n",
       "2. 'prevail_cu_cfrna_298'\n",
       "3. 'prevail_cu_cfrna_301'\n",
       "4. 'prevail_cu_cfrna_308'\n",
       "5. 'prevail_cu_cfrna_300'\n",
       "6. 'prevail_cu_cfrna_304'\n",
       "7. 'prevail_cu_cfrna_305'\n",
       "8. 'prevail_cu_cfrna_81'\n",
       "9. 'prevail_cu_cfrna_82'\n",
       "10. 'prevail_cu_cfrna_83'\n",
       "11. 'prevail_cu_cfrna_307'\n",
       "12. 'prevail_cu_cfrna_313'\n",
       "13. 'prevail_cu_cfrna_303'\n",
       "14. 'prevail_cu_cfrna_310'\n",
       "15. 'prevail_cu_cfrna_309'\n",
       "16. 'prevail_cu_cfrna_290'\n",
       "17. 'prevail_cu_cfrna_108'\n",
       "18. 'prevail_cu_cfrna_294'\n",
       "19. 'prevail_cu_cfrna_287'\n",
       "20. 'prevail_cu_cfrna_282'\n",
       "21. 'prevail_cu_cfrna_284'\n",
       "22. 'prevail_cu_cfrna_285'\n",
       "23. 'prevail_cu_cfrna_292'\n",
       "24. 'prevail_cu_cfrna_24'\n",
       "25. 'prevail_cu_cfrna_296'\n",
       "26. 'prevail_cu_cfrna_299'\n",
       "27. 'prevail_cu_cfrna_42'\n",
       "28. 'prevail_cu_cfrna_171'\n",
       "29. 'prevail_cu_cfrna_152'\n",
       "30. 'prevail_cu_cfrna_174'\n",
       "31. 'prevail_cu_cfrna_181'\n",
       "32. 'prevail_cu_cfrna_183'\n",
       "33. 'prevail_cu_cfrna_175'\n",
       "34. 'prevail_cu_cfrna_179'\n",
       "35. 'prevail_cu_cfrna_182'\n",
       "36. 'prevail_cu_cfrna_191'\n",
       "37. 'prevail_cu_cfrna_192'\n",
       "38. 'prevail_cu_cfrna_235'\n",
       "39. 'prevail_cu_cfrna_236'\n",
       "\n",
       "\n"
      ],
      "text/plain": [
       " [1] \"prevail_cu_cfrna_293\" \"prevail_cu_cfrna_298\" \"prevail_cu_cfrna_301\"\n",
       " [4] \"prevail_cu_cfrna_308\" \"prevail_cu_cfrna_300\" \"prevail_cu_cfrna_304\"\n",
       " [7] \"prevail_cu_cfrna_305\" \"prevail_cu_cfrna_81\"  \"prevail_cu_cfrna_82\" \n",
       "[10] \"prevail_cu_cfrna_83\"  \"prevail_cu_cfrna_307\" \"prevail_cu_cfrna_313\"\n",
       "[13] \"prevail_cu_cfrna_303\" \"prevail_cu_cfrna_310\" \"prevail_cu_cfrna_309\"\n",
       "[16] \"prevail_cu_cfrna_290\" \"prevail_cu_cfrna_108\" \"prevail_cu_cfrna_294\"\n",
       "[19] \"prevail_cu_cfrna_287\" \"prevail_cu_cfrna_282\" \"prevail_cu_cfrna_284\"\n",
       "[22] \"prevail_cu_cfrna_285\" \"prevail_cu_cfrna_292\" \"prevail_cu_cfrna_24\" \n",
       "[25] \"prevail_cu_cfrna_296\" \"prevail_cu_cfrna_299\" \"prevail_cu_cfrna_42\" \n",
       "[28] \"prevail_cu_cfrna_171\" \"prevail_cu_cfrna_152\" \"prevail_cu_cfrna_174\"\n",
       "[31] \"prevail_cu_cfrna_181\" \"prevail_cu_cfrna_183\" \"prevail_cu_cfrna_175\"\n",
       "[34] \"prevail_cu_cfrna_179\" \"prevail_cu_cfrna_182\" \"prevail_cu_cfrna_191\"\n",
       "[37] \"prevail_cu_cfrna_192\" \"prevail_cu_cfrna_235\" \"prevail_cu_cfrna_236\""
      ]
     },
     "metadata": {},
     "output_type": "display_data"
    },
    {
     "data": {
      "text/plain": [
       "class: DESeqDataSet \n",
       "dim: 56634 4 \n",
       "metadata(1): version\n",
       "assays(6): counts mu ... replaceCounts replaceCooks\n",
       "rownames(56634): ENSG00000223972.5 ENSG00000227232.5 ...\n",
       "  ENSG00000278625.1 ENSG00000277374.1\n",
       "rowData names(26): gene_id gene_name ... maxCooks replace\n",
       "colnames(4): prevail_cu_cfrna_293 prevail_cu_cfrna_298\n",
       "  prevail_cu_cfrna_235 prevail_cu_cfrna_236\n",
       "colData names(62): unique_sample_id PTID ... sizeFactor replaceable"
      ]
     },
     "metadata": {},
     "output_type": "display_data"
    }
   ],
   "source": [
    "tmp <- cf_misc_covid\n",
    "dds <- tmp[['dds']]\n",
    "tmp[['dds']] <- dds[,colnames(dds) %in% c('prevail_cu_cfrna_293','prevail_cu_cfrna_298','prevail_cu_cfrna_192','prevail_cu_cfrna_235','prevail_cu_cfrna_236')]"
   ]
  },
  {
   "cell_type": "code",
   "execution_count": 27,
   "id": "c72332ea-2c66-4021-aa23-06b2411ea017",
   "metadata": {},
   "outputs": [
    {
     "name": "stdout",
     "output_type": "stream",
     "text": [
      "[1] 0.1386981\n",
      "[1] 0.219\n"
     ]
    },
    {
     "data": {
      "text/html": [
       "<strong>png:</strong> 2"
      ],
      "text/latex": [
       "\\textbf{png:} 2"
      ],
      "text/markdown": [
       "**png:** 2"
      ],
      "text/plain": [
       "png \n",
       "  2 "
      ]
     },
     "metadata": {},
     "output_type": "display_data"
    }
   ],
   "source": [
    "###----------------------------------\n",
    "# MIS-C and COVID\n",
    "set.seed(42)\n",
    "tmp <- cf_misc_covid\n",
    "dds <- tmp[['dds']]\n",
    "keepers <- sample(colnames(dds),8)\n",
    "tmp[['dds']] <- dds[,colnames(dds) %in% keepers]\n",
    "\n",
    "dendlist <- make_dend_list(tmp, wb_misc_covid, \n",
    "                           cf_meta, wb_meta,\n",
    "                           cf_ftcounts,wb_ftcounts,\n",
    "                           PVAL_THRESH = PVAL_THRESH, LOGFC_THRESH = LOGFC_THRESH)\n",
    "\n",
    "bg_cor <- cor_bakers_gamma(dendlist[[1]],dendlist[[2]])\n",
    "pval <- get_pval(dendlist,bg_cor,1000)\n",
    "\n",
    "print(bg_cor)\n",
    "print(pval)\n",
    "\n",
    "HEIGHT = 1\n",
    "WIDTH = 1\n",
    "\n",
    "pdf(file=\"plots/entangle_FIG1.pdf\",\n",
    "        width=WIDTH,height=HEIGHT, paper=\"special\", bg=\"white\",\n",
    "        fonts=\"Helvetica\", colormodel = \"srgb\", pointsize=6, useDingbats = FALSE)\n",
    "\n",
    "dendlist %>% \n",
    "    tanglegram(intersecting= TRUE,\n",
    "               color_lines = \"black\",\n",
    "            margin_inner = 0.1,\n",
    "             highlight_branches_lwd = FALSE,\n",
    "             highlight_distinct_edges = FALSE,\n",
    "             lwd = 1,\n",
    "               edge.lwd = 1,\n",
    "             margin_top=0,\n",
    "             margin_bottom = 0)\n",
    "\n",
    "dev.off()"
   ]
  },
  {
   "cell_type": "code",
   "execution_count": 31,
   "id": "bb16e76b-263d-474d-9744-cf1e84f7d494",
   "metadata": {},
   "outputs": [
    {
     "data": {
      "text/html": [
       "<strong>png:</strong> 2"
      ],
      "text/latex": [
       "\\textbf{png:} 2"
      ],
      "text/markdown": [
       "**png:** 2"
      ],
      "text/plain": [
       "png \n",
       "  2 "
      ]
     },
     "metadata": {},
     "output_type": "display_data"
    }
   ],
   "source": [
    "pdf(file=\"plots/entangle_FIG1.pdf\",\n",
    "        width=WIDTH,height=HEIGHT, paper=\"special\", bg=\"white\",\n",
    "        fonts=\"Helvetica\", colormodel = \"srgb\", pointsize=6, useDingbats = FALSE)\n",
    "\n",
    "dendlist %>% \n",
    "    tanglegram(intersecting= TRUE,\n",
    "               color_lines = \"black\",\n",
    "            margin_inner = 0.1,\n",
    "             highlight_branches_lwd = FALSE,\n",
    "             highlight_distinct_edges = FALSE,\n",
    "             lwd = 1,\n",
    "               edge.lwd = 1,\n",
    "             margin_top=0,\n",
    "             margin_bottom = 0)\n",
    "\n",
    "dev.off()"
   ]
  },
  {
   "cell_type": "markdown",
   "id": "caaea310-0363-4153-8307-7849abd7b53a",
   "metadata": {
    "tags": []
   },
   "source": [
    "---\n",
    "---\n",
    "---\n",
    "# OLD"
   ]
  },
  {
   "cell_type": "code",
   "execution_count": null,
   "id": "ce64ddff-1055-4f82-87a1-8bd59eac2ce6",
   "metadata": {},
   "outputs": [],
   "source": []
  },
  {
   "cell_type": "code",
   "execution_count": null,
   "id": "d62174a8-b255-4d9e-917a-b1d12dd390ed",
   "metadata": {},
   "outputs": [],
   "source": []
  },
  {
   "cell_type": "code",
   "execution_count": null,
   "id": "fbaabdc7-2e0b-488e-9410-2424070a1c59",
   "metadata": {},
   "outputs": [],
   "source": []
  },
  {
   "cell_type": "markdown",
   "id": "5bbaf852-4195-4eed-b96c-3bd7f4886a75",
   "metadata": {
    "jp-MarkdownHeadingCollapsed": true,
    "tags": []
   },
   "source": [
    "---\n",
    "---\n",
    "---\n",
    "# MIS-C vs COVID-19"
   ]
  },
  {
   "cell_type": "markdown",
   "id": "d8476995-1ab3-42b0-81ca-3795c5887c30",
   "metadata": {
    "tags": []
   },
   "source": [
    "#### Read in data and create dendograms"
   ]
  },
  {
   "cell_type": "code",
   "execution_count": 40,
   "id": "dc820a0b-b66a-4ffd-b41c-375092a04a5b",
   "metadata": {},
   "outputs": [],
   "source": [
    "# MISC vs COVID\n",
    "\n",
    "cf_tmp_rds <- cf_misc_covid\n",
    "wb_tmp_res <- wb_misc_covid\n",
    "\n",
    "#----------------------------------------\n",
    "## Cell-free\n",
    "IDS_cf <- colnames(cf_tmp_rds[['dds']])\n",
    "\n",
    "sig_genes_cf <- data.frame(cf_tmp_rds[['res']]) %>% filter(padj < PVAL_THRESH & abs(log2FoldChange) > LOGFC_THRESH) %>% rownames()\n",
    "cf_dendL = get_dend(IDS_cf,sig_genes_cf,cf_meta,cf_ftcounts)\n",
    "\n",
    "#----------------------------------------\n",
    "## Whole blood\n",
    "wb_tmp_res$ensmbl <- lapply(wb_tmp_res$gene,get_gene_id,annotation)\n",
    "\n",
    "cf_pt_dates <- cf_meta %>% filter(cfrna_sample_id %in% all_of(IDS_cf)) %>% pull(PTID_DATE)\n",
    "\n",
    "IDS_wb <- wb_meta %>% \n",
    "    filter(PTID_DATE %in% all_of(cf_pt_dates)) %>% \n",
    "    pull(SEQ_ID..UCSFonly.)\n",
    "\n",
    "sig_genes_wb <- wb_tmp_res %>% filter(padj < PVAL_THRESH & abs(log2FoldChange) > LOGFC_THRESH) %>% pull(ensmbl)\n",
    "wb_dendL = get_dend(IDS_wb,sig_genes_wb,wb_meta,wb_ftcounts)"
   ]
  },
  {
   "cell_type": "code",
   "execution_count": 52,
   "id": "bf3b4d28-3548-45ec-9ea5-3787ce9ce1c8",
   "metadata": {},
   "outputs": [
    {
     "data": {
      "text/plain": [
       "$dend1\n",
       "'dendrogram' with 2 branches and 39 members total, at height 1.644543 \n",
       "\n",
       "$dend2\n",
       "'dendrogram' with 2 branches and 39 members total, at height 1.591252 \n",
       "\n",
       "attr(,\"class\")\n",
       "[1] \"dendlist\""
      ]
     },
     "metadata": {},
     "output_type": "display_data"
    },
    {
     "data": {
      "text/html": [
       "<strong>png:</strong> 2"
      ],
      "text/latex": [
       "\\textbf{png:} 2"
      ],
      "text/markdown": [
       "**png:** 2"
      ],
      "text/plain": [
       "png \n",
       "  2 "
      ]
     },
     "metadata": {},
     "output_type": "display_data"
    }
   ],
   "source": [
    "K_clus = 1\n",
    "\n",
    "cf_d <- cf_dendL %>% ladderize %>%  set(\"branches_k_color\", value = 1:K_clus, k = K_clus)\n",
    "wb_d <- wb_dendL %>% ladderize %>%   set(\"branches_k_color\", value = 1:K_clus, k = K_clus)\n",
    "\n",
    "cf_d <- cf_dendL %>% set(\"branches_k_color\", value = 1:K_clus, k = K_clus)\n",
    "wb_d <- wb_dendL %>% set(\"branches_k_color\", value = 1:K_clus, k = K_clus)\n",
    "\n",
    "\n",
    "## Get labels and clusters\n",
    "cf_d_grps <- cf_d  %>% cutree(k=K_clus)\n",
    "cf_d_labs <- cf_d %>% labels\n",
    "cf_d_grps <- cf_d_grps[cf_d_labs]\n",
    "\n",
    "wb_d_grps <- wb_d  %>% cutree(k=K_clus)\n",
    "wb_d_labs <- wb_d %>% labels\n",
    "wb_d_grps <- wb_d_grps[wb_d_labs]\n",
    "\n",
    "# m_cntrl_grps = ifelse(m_cntrl_grps == 2,3,ifelse(m_cntrl_grps == 1,2,ifelse(m_cntrl_grps == 3,1,4)))\n",
    "\n",
    "\n",
    "FINAL_COLORS <- c()\n",
    "for (n in names(cf_d_grps)){\n",
    "    if (n %in% names(wb_d_grps)){\n",
    "    if (wb_d_grps[[n]] != wb_d_grps[[n]]){\n",
    "        FINAL_COLORS <- c(FINAL_COLORS,\"grey\")\n",
    "    } else{FINAL_COLORS <- c(FINAL_COLORS,cf_d_grps[[n]])} }\n",
    "    \n",
    "}\n",
    "\n",
    "# FINAL_COLORS <- ifelse(FINAL_COLORS == '4','2',ifelse(FINAL_COLORS == '1', '4',ifelse(FINAL_COLORS == '2', '3',ifelse(FINAL_COLORS == '3', '1',FINAL_COLORS))))\n",
    "\n",
    "dendlist <- dendlist(cf_d,wb_d)\n",
    "\n",
    "HEIGHT = 1\n",
    "WIDTH = 3.65\n",
    "\n",
    "pdf(file=\"plots/entangle_misc-covid.pdf\",\n",
    "        width=WIDTH,height=HEIGHT, paper=\"special\", bg=\"white\",\n",
    "        fonts=\"Helvetica\", colormodel = \"srgb\", pointsize=6, useDingbats = FALSE)\n",
    "\n",
    "dendlist %>% \n",
    "    tanglegram(intersecting= TRUE,color_lines = FINAL_COLORS,\n",
    "                           margin_inner = 0.1,\n",
    "             highlight_branches_lwd = FALSE,\n",
    "             highlight_distinct_edges = FALSE,\n",
    "             lwd = 0.5,\n",
    "               edge.lwd = 0.8,\n",
    "             margin_top=0,\n",
    "             margin_bottom = 2) %>%\n",
    "    untangle(method = \"step1side\")\n",
    "\n",
    "dev.off()"
   ]
  },
  {
   "cell_type": "code",
   "execution_count": 73,
   "id": "06f04fa9-8206-4fe7-a2fe-f633764fe5b6",
   "metadata": {},
   "outputs": [
    {
     "name": "stdout",
     "output_type": "stream",
     "text": [
      "[1] 0.2428199\n"
     ]
    },
    {
     "data": {
      "text/html": [
       "0.001"
      ],
      "text/latex": [
       "0.001"
      ],
      "text/markdown": [
       "0.001"
      ],
      "text/plain": [
       "[1] 0.001"
      ]
     },
     "metadata": {},
     "output_type": "display_data"
    }
   ],
   "source": [
    "bg_cor <- cor_bakers_gamma(cf_d,wb_d)\n",
    "\n",
    "print(bg_cor)\n",
    "get_pval(dendlist,bg_cor,1000)\n",
    "# get_conf(dendlist,bg_cor,100)"
   ]
  },
  {
   "cell_type": "markdown",
   "id": "87291ada-ec60-4bdc-a7cf-9971aa6cefb2",
   "metadata": {
    "jp-MarkdownHeadingCollapsed": true,
    "tags": []
   },
   "source": [
    "---\n",
    "---\n",
    "---\n",
    "# MIS-C vs CONTROL"
   ]
  },
  {
   "cell_type": "markdown",
   "id": "451fd7cd-b9ea-4df1-9fa5-aa734cb59845",
   "metadata": {},
   "source": [
    "#### Read in data and create dendograms"
   ]
  },
  {
   "cell_type": "code",
   "execution_count": 88,
   "id": "f5e5c7ef-ccaa-4710-9aa3-1bd5ccde6e7b",
   "metadata": {},
   "outputs": [],
   "source": [
    "# MISC vs CONTROL\n",
    "\n",
    "cf_tmp_rds <- cf_misc_cntrl\n",
    "wb_tmp_res <- wb_misc_cntrl\n",
    "\n",
    "#----------------------------------------\n",
    "## Cell-free\n",
    "IDS_cf <- colnames(cf_tmp_rds[['dds']])\n",
    "\n",
    "sig_genes_cf <- data.frame(cf_tmp_rds[['res']]) %>% filter(padj < PVAL_THRESH & abs(log2FoldChange) > LOGFC_THRESH) %>% rownames()\n",
    "cf_dendL = get_dend(IDS_cf,sig_genes_cf,cf_meta,cf_ftcounts)\n",
    "\n",
    "#----------------------------------------\n",
    "## Whole blood\n",
    "wb_tmp_res$ensmbl <- lapply(wb_tmp_res$gene,get_gene_id,annotation)\n",
    "\n",
    "cf_pt_dates <- cf_meta %>% filter(cfrna_sample_id %in% all_of(IDS_cf)) %>% pull(PTID_DATE)\n",
    "\n",
    "IDS_wb <- wb_meta %>% \n",
    "    filter(PTID_DATE %in% all_of(cf_pt_dates)) %>% \n",
    "    pull(SEQ_ID..UCSFonly.)\n",
    "\n",
    "sig_genes_wb <- wb_tmp_res %>% filter(padj < PVAL_THRESH & abs(log2FoldChange) > LOGFC_THRESH) %>% pull(ensmbl)\n",
    "wb_dendL = get_dend(IDS_wb,sig_genes_wb,wb_meta,wb_ftcounts)"
   ]
  },
  {
   "cell_type": "code",
   "execution_count": 89,
   "id": "0d382df9-27b4-4f3a-8493-4d7aa21f1019",
   "metadata": {},
   "outputs": [
    {
     "data": {
      "text/html": [
       "0.254236111282407"
      ],
      "text/latex": [
       "0.254236111282407"
      ],
      "text/markdown": [
       "0.254236111282407"
      ],
      "text/plain": [
       "[1] 0.2542361"
      ]
     },
     "metadata": {},
     "output_type": "display_data"
    },
    {
     "data": {
      "text/html": [
       "<strong>png:</strong> 2"
      ],
      "text/latex": [
       "\\textbf{png:} 2"
      ],
      "text/markdown": [
       "**png:** 2"
      ],
      "text/plain": [
       "png \n",
       "  2 "
      ]
     },
     "metadata": {},
     "output_type": "display_data"
    }
   ],
   "source": [
    "K_clus = 1\n",
    "\n",
    "cf_d <- cf_dendL %>% ladderize %>%  set(\"branches_k_color\", value = 1:K_clus, k = K_clus)\n",
    "wb_d <- wb_dendL %>% ladderize %>%   set(\"branches_k_color\", value = 1:K_clus, k = K_clus)\n",
    "\n",
    "cf_d <- cf_dendL %>% set(\"branches_k_color\", value = 1:K_clus, k = K_clus)\n",
    "wb_d <- wb_dendL %>% set(\"branches_k_color\", value = 1:K_clus, k = K_clus)\n",
    "\n",
    "\n",
    "## Get labels and clusters\n",
    "cf_d_grps <- cf_d  %>% cutree(k=K_clus)\n",
    "cf_d_labs <- cf_d %>% labels\n",
    "cf_d_grps <- cf_d_grps[cf_d_labs]\n",
    "\n",
    "wb_d_grps <- wb_d  %>% cutree(k=K_clus)\n",
    "wb_d_labs <- wb_d %>% labels\n",
    "wb_d_grps <- wb_d_grps[wb_d_labs]\n",
    "\n",
    "# m_cntrl_grps = ifelse(m_cntrl_grps == 2,3,ifelse(m_cntrl_grps == 1,2,ifelse(m_cntrl_grps == 3,1,4)))\n",
    "\n",
    "\n",
    "FINAL_COLORS <- c()\n",
    "for (n in names(cf_d_grps)){\n",
    "    if (n %in% names(wb_d_grps)){\n",
    "    if (wb_d_grps[[n]] != wb_d_grps[[n]]){\n",
    "        FINAL_COLORS <- c(FINAL_COLORS,\"grey\")\n",
    "    } else{FINAL_COLORS <- c(FINAL_COLORS,cf_d_grps[[n]])} }\n",
    "    \n",
    "}\n",
    "\n",
    "# FINAL_COLORS <- ifelse(FINAL_COLORS == '4','2',ifelse(FINAL_COLORS == '1', '4',ifelse(FINAL_COLORS == '2', '3',ifelse(FINAL_COLORS == '3', '1',FINAL_COLORS))))\n",
    "\n",
    "\n",
    "HEIGHT = 1\n",
    "WIDTH = 3.65\n",
    "\n",
    "pdf(file=\"plots/entangle_misc-control.pdf\",\n",
    "        width=WIDTH,height=HEIGHT, paper=\"special\", bg=\"white\",\n",
    "        fonts=\"Helvetica\", colormodel = \"cmyk\", pointsize=6, useDingbats = FALSE)\n",
    "\n",
    "dendlist(cf_d,wb_d) %>% \n",
    "    tanglegram(intersecting= TRUE,color_lines = FINAL_COLORS,\n",
    "                           margin_inner = 0.1,\n",
    "             highlight_branches_lwd = FALSE,\n",
    "             highlight_distinct_edges = FALSE,\n",
    "             lwd = 0.5,\n",
    "               edge.lwd = 0.8,\n",
    "             margin_top=0,\n",
    "             margin_bottom = 2) %>%\n",
    "    untangle(method = \"step1side\") %>%\n",
    "    entanglement() \n",
    "\n",
    "\n",
    "dev.off()"
   ]
  },
  {
   "cell_type": "code",
   "execution_count": 87,
   "id": "4f2ce72c-46d9-4748-b593-3223f350df1d",
   "metadata": {},
   "outputs": [
    {
     "data": {
      "text/html": [
       "0.435101270312555"
      ],
      "text/latex": [
       "0.435101270312555"
      ],
      "text/markdown": [
       "0.435101270312555"
      ],
      "text/plain": [
       "[1] 0.4351013"
      ]
     },
     "metadata": {},
     "output_type": "display_data"
    }
   ],
   "source": [
    "dend_intersected <- intersect_trees(cf_d, wb_d)\n",
    "\n",
    "d1 <- dend_intersected[[1]]\n",
    "d2 <- dend_intersected[[2]]\n",
    "\n",
    "cor_bakers_gamma(d1,d2)"
   ]
  },
  {
   "cell_type": "markdown",
   "id": "d8412ed4-2390-4597-973d-069113ef96cd",
   "metadata": {
    "jp-MarkdownHeadingCollapsed": true,
    "tags": []
   },
   "source": [
    "---\n",
    "---\n",
    "---\n",
    "# COVID-19 vs CONTROL"
   ]
  },
  {
   "cell_type": "markdown",
   "id": "db49c288-4d41-456e-abd4-bb8350016f1f",
   "metadata": {},
   "source": [
    "#### Read in data and create dendograms"
   ]
  },
  {
   "cell_type": "code",
   "execution_count": 92,
   "id": "88ee613c-83cc-4a00-8400-75ab7f9be52b",
   "metadata": {},
   "outputs": [],
   "source": [
    "# COVID vs CONTROL\n",
    "\n",
    "cf_tmp_rds <- cf_covid_cntrl\n",
    "wb_tmp_res <- wb_covid_cntrl\n",
    "\n",
    "\n",
    "#----------------------------------------\n",
    "## Cell-free\n",
    "\n",
    "IDS_cf <- colnames(cf_tmp_rds[['dds']])\n",
    "\n",
    "sig_genes_cf <- data.frame(cf_tmp_rds[['res']]) %>% filter(padj < PVAL_THRESH & abs(log2FoldChange) > LOGFC_THRESH) %>% rownames()\n",
    "cf_dendL = get_dend(IDS_cf,sig_genes_cf,cf_meta,cf_ftcounts)\n",
    "\n",
    "#----------------------------------------\n",
    "## Whole blood\n",
    "wb_tmp_res$ensmbl <- lapply(wb_tmp_res$gene,get_gene_id,annotation)\n",
    "\n",
    "cf_pt_dates <- cf_meta %>% filter(cfrna_sample_id %in% all_of(IDS_cf)) %>% pull(PTID_DATE)\n",
    "\n",
    "IDS_wb <- wb_meta %>% \n",
    "    filter(PTID_DATE %in% all_of(cf_pt_dates)) %>% \n",
    "    pull(SEQ_ID..UCSFonly.)\n",
    "\n",
    "sig_genes_wb <- wb_tmp_res %>% filter(padj < PVAL_THRESH & abs(log2FoldChange) > LOGFC_THRESH) %>% pull(ensmbl)\n",
    "wb_dendL = get_dend(IDS_wb,sig_genes_wb,wb_meta,wb_ftcounts)"
   ]
  },
  {
   "cell_type": "code",
   "execution_count": 94,
   "id": "5ec307d3-23d8-4744-adb6-c83b8733cbfd",
   "metadata": {},
   "outputs": [
    {
     "data": {
      "text/html": [
       "0.159575140132668"
      ],
      "text/latex": [
       "0.159575140132668"
      ],
      "text/markdown": [
       "0.159575140132668"
      ],
      "text/plain": [
       "[1] 0.1595751"
      ]
     },
     "metadata": {},
     "output_type": "display_data"
    },
    {
     "data": {
      "text/html": [
       "<strong>png:</strong> 2"
      ],
      "text/latex": [
       "\\textbf{png:} 2"
      ],
      "text/markdown": [
       "**png:** 2"
      ],
      "text/plain": [
       "png \n",
       "  2 "
      ]
     },
     "metadata": {},
     "output_type": "display_data"
    }
   ],
   "source": [
    "K_clus = 1\n",
    "\n",
    "cf_d <- cf_dendL %>% ladderize %>%  set(\"branches_k_color\", value = 1:K_clus, k = K_clus)\n",
    "wb_d <- wb_dendL %>% ladderize %>%   set(\"branches_k_color\", value = 1:K_clus, k = K_clus)\n",
    "\n",
    "cf_d <- cf_dendL %>% set(\"branches_k_color\", value = 1:K_clus, k = K_clus)\n",
    "wb_d <- wb_dendL %>% set(\"branches_k_color\", value = 1:K_clus, k = K_clus)\n",
    "\n",
    "\n",
    "## Get labels and clusters\n",
    "cf_d_grps <- cf_d  %>% cutree(k=K_clus)\n",
    "cf_d_labs <- cf_d %>% labels\n",
    "cf_d_grps <- cf_d_grps[cf_d_labs]\n",
    "\n",
    "wb_d_grps <- wb_d  %>% cutree(k=K_clus)\n",
    "wb_d_labs <- wb_d %>% labels\n",
    "wb_d_grps <- wb_d_grps[wb_d_labs]\n",
    "\n",
    "# m_cntrl_grps = ifelse(m_cntrl_grps == 2,3,ifelse(m_cntrl_grps == 1,2,ifelse(m_cntrl_grps == 3,1,4)))\n",
    "\n",
    "\n",
    "FINAL_COLORS <- c()\n",
    "for (n in names(cf_d_grps)){\n",
    "    if (n %in% names(wb_d_grps)){\n",
    "    if (wb_d_grps[[n]] != wb_d_grps[[n]]){\n",
    "        FINAL_COLORS <- c(FINAL_COLORS,\"grey\")\n",
    "    } else{FINAL_COLORS <- c(FINAL_COLORS,cf_d_grps[[n]])} }\n",
    "    \n",
    "}\n",
    "\n",
    "# FINAL_COLORS <- ifelse(FINAL_COLORS == '4','2',ifelse(FINAL_COLORS == '1', '4',ifelse(FINAL_COLORS == '2', '3',ifelse(FINAL_COLORS == '3', '1',FINAL_COLORS))))\n",
    "\n",
    "\n",
    "HEIGHT = 1\n",
    "WIDTH = 3.65\n",
    "\n",
    "pdf(file=\"plots/entangle_covid-control.pdf\",\n",
    "        width=WIDTH,height=HEIGHT, paper=\"special\", bg=\"white\",\n",
    "        fonts=\"Helvetica\", colormodel = \"cmyk\", pointsize=6, useDingbats = FALSE)\n",
    "\n",
    "dendlist(cf_d,wb_d) %>% \n",
    "    tanglegram(intersecting= TRUE,color_lines = FINAL_COLORS,\n",
    "                           margin_inner = 0.1,\n",
    "             highlight_branches_lwd = FALSE,\n",
    "             highlight_distinct_edges = FALSE,\n",
    "             lwd = 0.5,\n",
    "               edge.lwd = 0.8,\n",
    "             margin_top=0,\n",
    "             margin_bottom = 2) %>%\n",
    "    untangle(method = \"step1side\") %>%\n",
    "    entanglement() \n",
    "\n",
    "\n",
    "dev.off()"
   ]
  },
  {
   "cell_type": "code",
   "execution_count": 95,
   "id": "6721c115-4e1b-429d-9fa2-c500b26a1da3",
   "metadata": {},
   "outputs": [
    {
     "data": {
      "text/html": [
       "0.635340495857573"
      ],
      "text/latex": [
       "0.635340495857573"
      ],
      "text/markdown": [
       "0.635340495857573"
      ],
      "text/plain": [
       "[1] 0.6353405"
      ]
     },
     "metadata": {},
     "output_type": "display_data"
    }
   ],
   "source": [
    "t1 <- dendlist(cf_d,wb_d)\n",
    "dend_intersected <- intersect_trees(t1[[1]],t1[[2]])\n",
    "\n",
    "d1 <- dend_intersected[[1]]\n",
    "d2 <- dend_intersected[[2]]\n",
    "\n",
    "cor_bakers_gamma(d1,d2)"
   ]
  },
  {
   "cell_type": "markdown",
   "id": "deae025b-4c4b-4821-81a6-34cdc59b8cd2",
   "metadata": {
    "jp-MarkdownHeadingCollapsed": true,
    "tags": []
   },
   "source": [
    "---\n",
    "---\n",
    "---\n",
    "# Subsampling"
   ]
  },
  {
   "cell_type": "code",
   "execution_count": null,
   "id": "b17d85be-a90f-4fb7-bbad-a9f1b8dc2240",
   "metadata": {},
   "outputs": [],
   "source": [
    "get_hclust <- function(IDS,sig_genes,meta,ftcounts){\n",
    "    ANNOTATIONS <- c(\"Diagnosis\",\"severity\",'pcr_positive_MC_1yes','antibody_positive_MC_1yes','kd_like_MC_1yes','req_vasopressors_inotropes_MC_1yes')\n",
    "\n",
    "    if (is.null(meta$cfrna_file_id)) {meta$cfrna_file_id <- meta$SEQ_ID..UCSFonly.}\n",
    "    \n",
    "    metadata <- meta %>% \n",
    "    filter(cfrna_file_id %in% all_of(IDS)) %>%                                 ###\n",
    "    mutate(PTID_DATE = gsub(\"-\",\"\\\\.\",PTID_DATE)) %>%\n",
    "    column_to_rownames(var = \"cfrna_file_id\") %>%  \n",
    "    mutate(severity = ifelse(grepl(\"ontrol\",severity),NA,severity)) %>%\n",
    "    select(all_of(ANNOTATIONS))\n",
    "\n",
    "    colnames(metadata) <- c(\"Diagnosis\",\"Severity\",\"PCR\",\"Antibody\")\n",
    "\n",
    "    ###----------------------------------\n",
    "    ## Subset count matrix\n",
    "    mat <- data.frame(ftcounts) %>% \n",
    "            filter(row.names(ftcounts) %in% all_of(sig_genes)) %>% \n",
    "            select(all_of(rownames(metadata))) %>% \n",
    "            as.matrix()\n",
    "\n",
    "    mat <- t(scale(t(mat)))\n",
    "\n",
    "    ###----------------------------------\n",
    "    ## Perform clustering\n",
    "\n",
    "    h <- hclust(as.dist(1 - cor(mat, method = \"pearson\", use = 'pairwise.complete.obs')))\n",
    "    return(h)\n",
    "}"
   ]
  },
  {
   "cell_type": "code",
   "execution_count": 27,
   "id": "6fad5e3f-5e3a-4548-a53c-8caa1e3fc601",
   "metadata": {},
   "outputs": [],
   "source": [
    "make_hist <- function(cf_tmp_rds,wb_tmp_res,N=0){\n",
    "\n",
    "    ## Cell-free\n",
    "    IDS_cf <- colnames(cf_tmp_rds[['dds']])\n",
    "    \n",
    "    if (N>0){IDS_cf <- sample(IDS_cf,N)}\n",
    "    cf_pt_dates <- cf_meta %>% filter(cfrna_sample_id %in% all_of(IDS_cf)) %>% pull(PTID_DATE)\n",
    "    IDS_wb <- wb_meta %>% \n",
    "        filter(PTID_DATE %in% all_of(cf_pt_dates)) %>% \n",
    "        pull(SEQ_ID..UCSFonly.)\n",
    "    \n",
    "\n",
    "    sig_genes_cf <- data.frame(cf_tmp_rds[['res']]) %>% filter(padj < PVAL_THRESH & abs(log2FoldChange) > LOGFC_THRESH) %>% rownames()\n",
    "    cf_dendL = get_dend(IDS_cf,sig_genes_cf,cf_meta,cf_ftcounts)\n",
    "\n",
    "    #----------------------------------------\n",
    "    ## Whole blood\n",
    "    wb_tmp_res$ensmbl <- lapply(wb_tmp_res$gene,get_gene_id,annotation)\n",
    "\n",
    "\n",
    "    sig_genes_wb <- wb_tmp_res %>% filter(padj < PVAL_THRESH & abs(log2FoldChange) > LOGFC_THRESH) %>% pull(ensmbl)\n",
    "    wb_dendL = get_dend(IDS_wb,sig_genes_wb,wb_meta,wb_ftcounts)\n",
    "\n",
    "    \n",
    "    return(dendlist(cf_dendL,wb_dendL))\n",
    "    \n",
    "}\n",
    "\n",
    "\n",
    "make_tanglegram <- function(dend_ext_object){\n",
    "\n",
    "    #----------------------------------------\n",
    "    ## PLOT\n",
    "    PLOT <- dend_ext_object %>% \n",
    "    tanglegram(intersecting= TRUE,color_lines = FINAL_COLORS,\n",
    "                           margin_inner = 0.1,\n",
    "             highlight_branches_lwd = FALSE,\n",
    "             highlight_distinct_edges = FALSE,\n",
    "             lwd = 0.5,\n",
    "               edge.lwd = 0.8,\n",
    "             margin_top=0,\n",
    "             margin_bottom = 2) %>%\n",
    "    untangle(method = \"step1side\") \n",
    "    \n",
    "    return(PLOT)\n",
    "    \n",
    "}\n",
    "\n",
    "calc_bakers_gamma <- function(dend_ext_object){\n",
    "\n",
    "    dend_intersected <- intersect_trees(dend_ext_object[[1]], dend_ext_object[[2]])\n",
    "\n",
    "    d1 <- dend_intersected[[1]]\n",
    "    d2 <- dend_intersected[[2]]\n",
    "\n",
    "    cor_bakers_gamma(d1,d2)\n",
    "\n",
    "}\n",
    "\n"
   ]
  },
  {
   "cell_type": "code",
   "execution_count": 28,
   "id": "2a52a517-771a-416a-905b-b764c6080db1",
   "metadata": {},
   "outputs": [],
   "source": [
    "output_misc_covid <- c()\n",
    "output_misc_cntrl <- c()\n",
    "\n",
    "\n",
    "for (n in c(1:10)){\n",
    "\n",
    "    NUM_SAMP = 26\n",
    "\n",
    "    output <- make_hist(cf_misc_covid, wb_misc_covid, N=NUM_SAMP)\n",
    "    output_misc_covid <- c(output_misc_covid,calc_bakers_gamma(output))\n",
    "    \n",
    "    \n",
    "    output <- make_hist(cf_misc_cntrl, wb_misc_cntrl, N=NUM_SAMP)\n",
    "    output_misc_cntrl <- c(output_misc_cntrl,calc_bakers_gamma(output))\n",
    "\n",
    "}\n",
    "\n",
    "df <- data.frame(output_misc_covid, output_misc_cntrl)\n",
    "write.table(df, \"./simulation_bakers_gamma.tsv\",sep=\"\\t\",row.names=FALSE)"
   ]
  },
  {
   "cell_type": "code",
   "execution_count": 29,
   "id": "cac3e650-83b1-4048-b9ea-d9f3e8ea91a9",
   "metadata": {},
   "outputs": [],
   "source": [
    "write.table(df, \"./simulation_bakers_gamma.tsv\",sep=\"\\t\",row.names=FALSE)"
   ]
  },
  {
   "cell_type": "markdown",
   "id": "d233dc97-acbd-4323-a7bd-33768a7fc299",
   "metadata": {},
   "source": [
    "---\n",
    "---"
   ]
  },
  {
   "cell_type": "code",
   "execution_count": 5,
   "id": "bd1b2d2b-4e78-4159-89d0-1bf5b0cbf99e",
   "metadata": {},
   "outputs": [
    {
     "name": "stderr",
     "output_type": "stream",
     "text": [
      "No id variables; using all as measure variables\n",
      "\n"
     ]
    },
    {
     "data": {
      "text/html": [
       "<table class=\"dataframe\">\n",
       "<caption>A data.frame: 6 × 2</caption>\n",
       "<thead>\n",
       "\t<tr><th></th><th scope=col>variable</th><th scope=col>value</th></tr>\n",
       "\t<tr><th></th><th scope=col>&lt;fct&gt;</th><th scope=col>&lt;dbl&gt;</th></tr>\n",
       "</thead>\n",
       "<tbody>\n",
       "\t<tr><th scope=row>1</th><td>MIS-C_vs_COVID-19</td><td>0.14523997</td></tr>\n",
       "\t<tr><th scope=row>2</th><td>MIS-C_vs_COVID-19</td><td>0.05259711</td></tr>\n",
       "\t<tr><th scope=row>3</th><td>MIS-C_vs_COVID-19</td><td>0.22193138</td></tr>\n",
       "\t<tr><th scope=row>4</th><td>MIS-C_vs_COVID-19</td><td>0.62871180</td></tr>\n",
       "\t<tr><th scope=row>5</th><td>MIS-C_vs_COVID-19</td><td>0.04925115</td></tr>\n",
       "\t<tr><th scope=row>6</th><td>MIS-C_vs_COVID-19</td><td>0.19557530</td></tr>\n",
       "</tbody>\n",
       "</table>\n"
      ],
      "text/latex": [
       "A data.frame: 6 × 2\n",
       "\\begin{tabular}{r|ll}\n",
       "  & variable & value\\\\\n",
       "  & <fct> & <dbl>\\\\\n",
       "\\hline\n",
       "\t1 & MIS-C\\_vs\\_COVID-19 & 0.14523997\\\\\n",
       "\t2 & MIS-C\\_vs\\_COVID-19 & 0.05259711\\\\\n",
       "\t3 & MIS-C\\_vs\\_COVID-19 & 0.22193138\\\\\n",
       "\t4 & MIS-C\\_vs\\_COVID-19 & 0.62871180\\\\\n",
       "\t5 & MIS-C\\_vs\\_COVID-19 & 0.04925115\\\\\n",
       "\t6 & MIS-C\\_vs\\_COVID-19 & 0.19557530\\\\\n",
       "\\end{tabular}\n"
      ],
      "text/markdown": [
       "\n",
       "A data.frame: 6 × 2\n",
       "\n",
       "| <!--/--> | variable &lt;fct&gt; | value &lt;dbl&gt; |\n",
       "|---|---|---|\n",
       "| 1 | MIS-C_vs_COVID-19 | 0.14523997 |\n",
       "| 2 | MIS-C_vs_COVID-19 | 0.05259711 |\n",
       "| 3 | MIS-C_vs_COVID-19 | 0.22193138 |\n",
       "| 4 | MIS-C_vs_COVID-19 | 0.62871180 |\n",
       "| 5 | MIS-C_vs_COVID-19 | 0.04925115 |\n",
       "| 6 | MIS-C_vs_COVID-19 | 0.19557530 |\n",
       "\n"
      ],
      "text/plain": [
       "  variable          value     \n",
       "1 MIS-C_vs_COVID-19 0.14523997\n",
       "2 MIS-C_vs_COVID-19 0.05259711\n",
       "3 MIS-C_vs_COVID-19 0.22193138\n",
       "4 MIS-C_vs_COVID-19 0.62871180\n",
       "5 MIS-C_vs_COVID-19 0.04925115\n",
       "6 MIS-C_vs_COVID-19 0.19557530"
      ]
     },
     "metadata": {},
     "output_type": "display_data"
    }
   ],
   "source": [
    "sim_df <- read.delim(\"./simulation_bakers_gamma.tsv\")\n",
    "colnames(sim_df) <- c(\"MIS-C_vs_COVID-19\",\"MIS-C_vs_Control\")\n",
    "sim_df_m <- melt(sim_df)\n",
    "sim_df_m %>% head()"
   ]
  },
  {
   "cell_type": "code",
   "execution_count": 8,
   "id": "5c6833b1-caa2-4b00-98fe-95ee2d516604",
   "metadata": {},
   "outputs": [
    {
     "data": {
      "text/html": [
       "<table class=\"dataframe\">\n",
       "<caption>A data.frame: 6 × 2</caption>\n",
       "<thead>\n",
       "\t<tr><th></th><th scope=col>MIS-C_vs_COVID-19</th><th scope=col>MIS-C_vs_Control</th></tr>\n",
       "\t<tr><th></th><th scope=col>&lt;dbl&gt;</th><th scope=col>&lt;dbl&gt;</th></tr>\n",
       "</thead>\n",
       "<tbody>\n",
       "\t<tr><th scope=row>1</th><td>0.14523997</td><td>0.6145611</td></tr>\n",
       "\t<tr><th scope=row>2</th><td>0.05259711</td><td>0.3419511</td></tr>\n",
       "\t<tr><th scope=row>3</th><td>0.22193138</td><td>0.7096079</td></tr>\n",
       "\t<tr><th scope=row>4</th><td>0.62871180</td><td>0.1779282</td></tr>\n",
       "\t<tr><th scope=row>5</th><td>0.04925115</td><td>0.5802399</td></tr>\n",
       "\t<tr><th scope=row>6</th><td>0.19557530</td><td>0.6074346</td></tr>\n",
       "</tbody>\n",
       "</table>\n"
      ],
      "text/latex": [
       "A data.frame: 6 × 2\n",
       "\\begin{tabular}{r|ll}\n",
       "  & MIS-C\\_vs\\_COVID-19 & MIS-C\\_vs\\_Control\\\\\n",
       "  & <dbl> & <dbl>\\\\\n",
       "\\hline\n",
       "\t1 & 0.14523997 & 0.6145611\\\\\n",
       "\t2 & 0.05259711 & 0.3419511\\\\\n",
       "\t3 & 0.22193138 & 0.7096079\\\\\n",
       "\t4 & 0.62871180 & 0.1779282\\\\\n",
       "\t5 & 0.04925115 & 0.5802399\\\\\n",
       "\t6 & 0.19557530 & 0.6074346\\\\\n",
       "\\end{tabular}\n"
      ],
      "text/markdown": [
       "\n",
       "A data.frame: 6 × 2\n",
       "\n",
       "| <!--/--> | MIS-C_vs_COVID-19 &lt;dbl&gt; | MIS-C_vs_Control &lt;dbl&gt; |\n",
       "|---|---|---|\n",
       "| 1 | 0.14523997 | 0.6145611 |\n",
       "| 2 | 0.05259711 | 0.3419511 |\n",
       "| 3 | 0.22193138 | 0.7096079 |\n",
       "| 4 | 0.62871180 | 0.1779282 |\n",
       "| 5 | 0.04925115 | 0.5802399 |\n",
       "| 6 | 0.19557530 | 0.6074346 |\n",
       "\n"
      ],
      "text/plain": [
       "  MIS-C_vs_COVID-19 MIS-C_vs_Control\n",
       "1 0.14523997        0.6145611       \n",
       "2 0.05259711        0.3419511       \n",
       "3 0.22193138        0.7096079       \n",
       "4 0.62871180        0.1779282       \n",
       "5 0.04925115        0.5802399       \n",
       "6 0.19557530        0.6074346       "
      ]
     },
     "metadata": {},
     "output_type": "display_data"
    }
   ],
   "source": [
    "sim_df %>% head()"
   ]
  },
  {
   "cell_type": "code",
   "execution_count": 9,
   "id": "d6a245a7-0c08-4e50-a770-e41378436c5b",
   "metadata": {},
   "outputs": [],
   "source": [
    "source(\"~//theme_alex.R\")"
   ]
  },
  {
   "cell_type": "code",
   "execution_count": 12,
   "id": "47184fbe-c71d-454f-9ff6-bf400b4d21d0",
   "metadata": {},
   "outputs": [
    {
     "data": {
      "text/html": [
       "<strong>png:</strong> 2"
      ],
      "text/latex": [
       "\\textbf{png:} 2"
      ],
      "text/markdown": [
       "**png:** 2"
      ],
      "text/plain": [
       "png \n",
       "  2 "
      ]
     },
     "metadata": {},
     "output_type": "display_data"
    }
   ],
   "source": [
    "pdf(file=\"plots/entangle_simulations.pdf\",\n",
    "        width=1.8,height=1.6, paper=\"special\", bg=\"white\",\n",
    "        fonts=\"Helvetica\", colormodel = \"srgb\", pointsize=6, useDingbats = FALSE)\n",
    "\n",
    "sim_df_m %>% \n",
    "    ggplot(aes(x=value,color=variable,fill=variable)) + \n",
    "    geom_density(alpha = 0.2) +\n",
    "    geom_vline(xintercept=0.8450, color = \"dark green\", lty=2) + \n",
    "    theme_alex() + theme(legend.position = \"none\")\n",
    "\n",
    "dev.off()"
   ]
  },
  {
   "cell_type": "code",
   "execution_count": 6,
   "id": "67db914e-0108-46a0-ad15-b14132a9a1b7",
   "metadata": {},
   "outputs": [
    {
     "data": {
      "text/plain": [
       "    Min.  1st Qu.   Median     Mean  3rd Qu.     Max. \n",
       "-0.02331  0.21145  0.38209  0.40227  0.58034  0.98193 "
      ]
     },
     "metadata": {},
     "output_type": "display_data"
    }
   ],
   "source": [
    "summary(sim_df_m$value)"
   ]
  },
  {
   "cell_type": "code",
   "execution_count": 7,
   "id": "4349c3fe-f333-4f05-8952-e6d92281e11a",
   "metadata": {},
   "outputs": [
    {
     "data": {
      "image/png": "[encoded data removed]",
      "text/plain": [
       "plot without title"
      ]
     },
     "metadata": {
      "image/png": {
       "height": 420,
       "width": 420
      }
     },
     "output_type": "display_data"
    }
   ],
   "source": [
    "sim_df_m %>% \n",
    "    ggplot(aes(x=value,color=variable,fill=variable)) + \n",
    "    geom_density(alpha = 0.2) "
   ]
  },
  {
   "cell_type": "code",
   "execution_count": null,
   "id": "f1792ba7-d16f-4171-825a-b45da0b32286",
   "metadata": {},
   "outputs": [],
   "source": []
  }
 ],
 "metadata": {
  "kernelspec": {
   "display_name": "R",
   "language": "R",
   "name": "ir"
  },
  "language_info": {
   "codemirror_mode": "r",
   "file_extension": ".r",
   "mimetype": "text/x-r-source",
   "name": "R",
   "pygments_lexer": "r",
   "version": "4.1.1"
  }
 },
 "nbformat": 4,
 "nbformat_minor": 5
}
