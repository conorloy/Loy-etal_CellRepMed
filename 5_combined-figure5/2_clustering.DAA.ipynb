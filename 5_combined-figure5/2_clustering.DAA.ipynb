{
 "cells": [
  {
   "cell_type": "markdown",
   "id": "1f296109-da9d-40ea-832b-867fc93f54ca",
   "metadata": {
    "tags": []
   },
   "source": [
    "#### Load libraries"
   ]
  },
  {
   "cell_type": "code",
   "execution_count": 1,
   "id": "090b082e-11ca-4776-9539-ff2838a26cba",
   "metadata": {
    "tags": []
   },
   "outputs": [],
   "source": [
    "suppressMessages(library(tidyverse))\n",
    "suppressMessages(library(data.table))\n",
    "suppressMessages(library(dendextend))\n",
    "suppressMessages(library(reshape2))\n",
    "suppressMessages(library(pheatmap))\n",
    "suppressMessages(library(RColorBrewer))\n",
    "suppressMessages(library(gridExtra))\n",
    "source(\"../0_support-files//theme_CRP-MISC.R\")\n",
    "\n",
    "###----------------------------------\n",
    "\n",
    "PVAL_THRESH = 0.05\n",
    "LOGFC_THRESH = 0.01\n",
    "\n",
    "###----------------------------------\n",
    "\n",
    "annotation <- fread(file=\"../0_support-files/gencode.biotype.name.key.tsv\")"
   ]
  },
  {
   "cell_type": "markdown",
   "id": "7e52e1a7-c5fb-4cb6-852b-5ad083312682",
   "metadata": {
    "tags": []
   },
   "source": [
    "#### Load Functions"
   ]
  },
  {
   "cell_type": "code",
   "execution_count": 2,
   "id": "cd19a5bf-479f-4de1-938a-c64f3aa328cd",
   "metadata": {
    "tags": []
   },
   "outputs": [],
   "source": [
    "colLab<<-function(n,metadata){\n",
    "    if(is.leaf(n)){\n",
    "        \n",
    "#         print(attributes(n)$label)\n",
    "        \n",
    "        #I take the current attributes\n",
    "        a=attributes(n)\n",
    "        \n",
    "        #I deduce the line in the original data, and so the treatment and the specie.\n",
    "        ligne=match(attributes(n)$label,rownames(metadata))\n",
    "        Diagnosis=metadata[ligne,]$Diagnosis;\n",
    "            if(Diagnosis==\"COVID-19\"){col_diag=\"#F0484E\"};if(Diagnosis==\"MIS-C\"){col_diag=\"#5CB2EB\"};if(Diagnosis==\"Control_Non-inflammatory\"){col_diag=\"#FBE77C\"};if(Diagnosis==\"Control_Inflammatory\"){col_diag=\"purple\"}\n",
    "        #Modification of leaf attribute\n",
    "        attr(n,\"nodePar\")<-c(a$nodePar,list(cex=1.5,lab.cex=1,pch=15,col=col_diag,lab.col=col_diag,lab.font=1,lab.cex=1))\n",
    "        }\n",
    "    return(n)\n",
    "}\n",
    "\n",
    "\n",
    "get_gene_id <- function(X,annotation){\n",
    "    return(gsub(\".*_\",\"\",X))\n",
    "    # return(annotation[which(annotation$gene_name == X),]$gene_id)\n",
    "    }\n",
    "\n",
    "get_dend <- function(IDS,sig_genes,meta,ftcounts){\n",
    "    \n",
    "    metadata <- meta \n",
    "    rownames(metadata) <- metadata$PTID\n",
    "    metadata <- metadata[IDS,]\n",
    "    metadata <- metadata %>% select(Diagnosis, severity)\n",
    "\n",
    "    ###----------------------------------\n",
    "    ## Subset count matrix\n",
    "    mat <- data.frame(ftcounts)[,IDS] %>% \n",
    "            filter(row.names(ftcounts) %in% all_of(sig_genes)) %>% \n",
    "            as.matrix()\n",
    "\n",
    "    mat <- t(scale(t(mat)))\n",
    "\n",
    "    ###----------------------------------\n",
    "    ## Perform clustering\n",
    "\n",
    "    h <- hclust(as.dist(1 - cor(mat, method = \"pearson\", use = 'pairwise.complete.obs')))\n",
    "#     h <- hclust(as.dist(mat))\n",
    "\n",
    "    dend <- as.dendrogram(h)\n",
    "\n",
    "    dendL <- dendrapply(dend, colLab,metadata)\n",
    "\n",
    "    return(dendL)\n",
    "}\n",
    "\n",
    "\n",
    "make_dend_list <- function(cf_tmp_rds, wb_tmp_res, \n",
    "                           cf_meta, wb_meta,\n",
    "                           cf_ftcounts,wb_ftcounts,\n",
    "                           PVAL_THRESH = PVAL_THRESH, LOGFC_THRESH = LOGFC_THRESH,N=0){\n",
    "    \n",
    "    #----------------------------------------\n",
    "    ## Cell-free\n",
    "    IDS_cf <- colnames(cf_tmp_rds[['dds']])\n",
    "    if (N>0){IDS_cf <- sample(IDS_cf,N)}\n",
    "\n",
    "    PTIDs <- cf_meta %>% filter(cfrna_sample_id %in% all_of(IDS_cf)) %>% pull(PTID)\n",
    "\n",
    "    sig_genes_cf <- data.frame(cf_tmp_rds[['res']]) %>% filter(padj < PVAL_THRESH & abs(log2FoldChange) > LOGFC_THRESH) %>% rownames()\n",
    "    cf_dendL = get_dend(PTIDs,sig_genes_cf,cf_meta,cf_ftcounts)\n",
    "\n",
    "    #----------------------------------------\n",
    "    ## Whole blood\n",
    "    wb_tmp_res$ensmbl <- gsub(\"_.*\",\"\",wb_tmp_res$GeneID)\n",
    "\n",
    "    sig_genes_wb <- wb_tmp_res %>% filter(padj < PVAL_THRESH & abs(log2FoldChange) > LOGFC_THRESH) %>% pull(ensmbl)\n",
    "    wb_dendL = get_dend(PTIDs,sig_genes_wb,wb_meta,wb_ftcounts)\n",
    "\n",
    "    return(dendlist(cf_dendL,wb_dendL))\n",
    "}\n",
    "\n",
    "\n",
    "get_pval <- function(dendlist,the_cor,R){\n",
    "    \n",
    "    set.seed(42)\n",
    "    \n",
    "    cor_bakers_gamma_results <- numeric(R)\n",
    "    \n",
    "    d1 <- dendlist[[1]]\n",
    "    d2 <- dendlist[[2]]\n",
    "    \n",
    "    for(i in 1:R) {\n",
    "       dend_mixed <- sample.dendrogram(d2, replace = FALSE)\n",
    "       cor_bakers_gamma_results[i] <- cor_bakers_gamma(d1, dend_mixed)\n",
    "    }\n",
    "    \n",
    "    if(sum(the_cor < cor_bakers_gamma_results)==0){return(\"ALL BELOW\")}\n",
    "    \n",
    "    pval <- sum(the_cor < cor_bakers_gamma_results)/ R\n",
    "                  \n",
    "    return(pval)\n",
    "\n",
    "}\n",
    "\n",
    "get_conf <- function(dendlist,the_cor,R){\n",
    "\n",
    "    set.seed(42)\n",
    "    \n",
    "    dend1 <- dendlist[[1]]\n",
    "    dend2 <- dendlist[[2]]\n",
    "\n",
    "    dend1_labels <- labels(dend1)\n",
    "    dend2_labels <- labels(dend2)\n",
    "    cor_bakers_gamma_results <- numeric(R)\n",
    "    \n",
    "    for(i in 1:R) {\n",
    "       sampled_labels <- sample(dend1_labels, replace = TRUE)\n",
    "       # members needs to be fixed since it will be later used in nleaves\n",
    "       dend_mixed1 <- sample.dendrogram(dend1, \n",
    "                                        dend_labels=dend1_labels,\n",
    "                                        fix_members=TRUE,fix_order=TRUE,fix_midpoint=FALSE,\n",
    "                                        replace = TRUE, sampled_labels=sampled_labels\n",
    "                                          )\n",
    "       dend_mixed2 <- sample.dendrogram(dend2, dend_labels=dend2_labels,\n",
    "                                        fix_members=TRUE,fix_order=TRUE,fix_midpoint=FALSE,\n",
    "                                        replace = TRUE, sampled_labels=sampled_labels\n",
    "                                          )                                    \n",
    "       cor_bakers_gamma_results[i] <- cor_bakers_gamma(dend_mixed1, dend_mixed2, warn = FALSE)\n",
    "    }\n",
    "\n",
    "\n",
    "    CI95 <- quantile(cor_bakers_gamma_results, probs=c(.025,.975))\n",
    "    \n",
    "    return(CI95)\n",
    "}"
   ]
  },
  {
   "cell_type": "markdown",
   "id": "78a44609-a266-418e-a9a3-c4ae0528be26",
   "metadata": {
    "tags": []
   },
   "source": [
    "#### Load outputs"
   ]
  },
  {
   "cell_type": "code",
   "execution_count": 3,
   "id": "2f6ec0b3-e542-4116-9063-5e1e3f6c272b",
   "metadata": {
    "tags": []
   },
   "outputs": [],
   "source": [
    "cf_covid_cntrl <- readRDS(\"./subset_CF/daa_output/covid-control_paired.rds\")\n",
    "cf_misc_cntrl <- readRDS(\"./subset_CF/daa_output/misc-control_paired.rds\")\n",
    "cf_misc_covid <- readRDS(\"./subset_CF/daa_output/misc-covic_paired.rds\")\n",
    "\n",
    "wb_covid_cntrl <- read.delim(\"./subset_WB/tables/wb_covid-cntrl_paired_DESeq.tsv\")\n",
    "wb_misc_cntrl <- read.delim(\"./subset_WB/tables/wb_misc-cntrl_paired_DESeq.tsv\")\n",
    "wb_misc_covid <- read.delim(\"./subset_WB/tables/wb_misc-covid_paired_DESeq.tsv\")\n",
    "\n",
    "\n",
    "## PAIRED SAMPLES\n",
    "\n",
    "paired <- read.delim(\"../1_sample-data/paired_sample_key.tsv\") %>%\n",
    "    filter(!is.na(cfrna_sample_id) & !is.na(wbrna_sample_id))\n",
    "\n",
    "\n",
    "## FILTER\n",
    "\n",
    "globin = c('HBA1','HBA2','HBB','HBBP1','HBD',\n",
    "     'HBE1','HBG1','HBG2','HBM','HBQ1',\n",
    "     'HBZ','HBZP1')\n",
    "globin = annotation %>% filter(gene_name %in% all_of(globin)) %>% pull(gene_id) \n",
    "\n",
    "gene.list <- read.delim(\"../0_support-files/genelist.hs.tsv\",col.names = c(\"type,\",\"ENSMBL\",\"gene_symbol\"))"
   ]
  },
  {
   "cell_type": "markdown",
   "id": "09059fe1-b492-4207-8120-00b0bbbd0887",
   "metadata": {
    "tags": []
   },
   "source": [
    "#### Load Whole Blood"
   ]
  },
  {
   "cell_type": "code",
   "execution_count": 4,
   "id": "d551464e-a698-4df1-9168-cab9285f862a",
   "metadata": {
    "tags": []
   },
   "outputs": [],
   "source": [
    "#------------------------\n",
    "## READ OUTPUTS\n",
    "\n",
    "wb_meta <- read.csv(\"../1_sample-data/STable7_wbrna-samples.csv\") %>% \n",
    "    filter(wbrna_sample_id %in% all_of(paired$wbrna_sample_id))\n",
    "\n",
    "wb_meta = wb_meta[!duplicated(wb_meta$PTID),]\n",
    "\n",
    "wb_ftcounts <- read.delim(\"../1_sample-data/wbrna_ftcounts.txt\") %>% \n",
    "    rename(gene_id = X) %>% \n",
    "    mutate(gene_id = gsub(\"\\\\_.*\",\"\",gene_id)) %>%\n",
    "    distinct(gene_id, .keep_all = TRUE) %>%\n",
    "    column_to_rownames(var = \"gene_id\")\n",
    "\n",
    "wb_ftcounts <- wb_ftcounts[,wb_meta$wbrna_sample_id]\n",
    "colnames(wb_ftcounts) <- wb_meta$PTID\n",
    "\n",
    "#------------------------\n",
    "## FILTER\n",
    "\n",
    "gene.ids_wb <- gsub(\"\\\\..*\",\"\",rownames(wb_ftcounts))\n",
    "exclude.idx_wb <- gene.ids_wb %in% c(gene.list[,2], globin)\n",
    "wb_ftcounts = wb_ftcounts[!exclude.idx_wb,] \n",
    "wb_ftcounts <- wb_ftcounts[,colSums(wb_ftcounts) > 0]\n",
    "\n",
    "#------------------------\n",
    "## NORMALIZE\n",
    "\n",
    "wb_ftcounts <- edgeR::cpm(wb_ftcounts)"
   ]
  },
  {
   "cell_type": "markdown",
   "id": "82abfafb-16cb-47c7-871c-7b3958e71981",
   "metadata": {
    "tags": []
   },
   "source": [
    "#### Load Cell-Free"
   ]
  },
  {
   "cell_type": "code",
   "execution_count": 5,
   "id": "8b66a797-bbb9-44da-ad77-d7da28c3961f",
   "metadata": {
    "tags": []
   },
   "outputs": [],
   "source": [
    "#------------------------\n",
    "## READ OUTPUTS\n",
    "\n",
    "cf_meta <-read.csv(\"../1_sample-data/STable6_cfrna-samples.csv\") %>%\n",
    "    filter(cfrna_sample_id %in% all_of(paired$cfrna_sample_id))\n",
    "\n",
    "cf_meta = cf_meta[!duplicated(cf_meta$PTID),]\n",
    "\n",
    "\n",
    "cf_ftcounts <- read.delim(\"../1_sample-data/cfrna_ftcounts.txt\") %>%\n",
    "    rename(gene_id = Geneid) %>% \n",
    "    mutate(gene_id = gsub(\"\\\\_.*\",\"\",gene_id)) %>%\n",
    "    distinct(gene_id, .keep_all = TRUE) %>%\n",
    "    column_to_rownames(var = \"gene_id\")\n",
    "\n",
    "cf_ftcounts <- cf_ftcounts[,cf_meta$cfrna_sample_id]\n",
    "colnames(cf_ftcounts) <- cf_meta$PTID\n",
    "\n",
    "#------------------------\n",
    "## FILTER\n",
    "\n",
    "gene.ids_cf <- gsub(\"\\\\..*\",\"\",rownames(cf_ftcounts))\n",
    "exclude.idx_cf <- gene.ids_cf %in% c(gene.list[,2], globin)\n",
    "cf_ftcounts = cf_ftcounts[!exclude.idx_cf,] \n",
    "\n",
    "\n",
    "#------------------------\n",
    "## NORMALIZE\n",
    "cf_ftcounts <- edgeR::cpm(cf_ftcounts)\n"
   ]
  },
  {
   "cell_type": "markdown",
   "id": "99bad529-1d5f-45fd-9813-d89fcd30327d",
   "metadata": {
    "tags": []
   },
   "source": [
    "----\n",
    "----\n",
    "---\n",
    "## Universal Code"
   ]
  },
  {
   "cell_type": "code",
   "execution_count": 6,
   "id": "d4de8d59-9022-4a8a-a012-ed608e62cf41",
   "metadata": {},
   "outputs": [],
   "source": [
    "PVAL_THRESH = 0.05\n",
    "LOGFC_THRESH = 1"
   ]
  },
  {
   "cell_type": "markdown",
   "id": "f58ec150-023f-484f-933f-755cee8b9b17",
   "metadata": {
    "tags": []
   },
   "source": [
    "#### __MIS-C and COVID-19__"
   ]
  },
  {
   "cell_type": "code",
   "execution_count": 7,
   "id": "f4e1957c-8c2c-4e76-a303-c7401437f707",
   "metadata": {},
   "outputs": [
    {
     "name": "stdout",
     "output_type": "stream",
     "text": [
      "[1] 0.2130335\n",
      "[1] 0.002\n"
     ]
    },
    {
     "data": {
      "text/html": [
       "<strong>png:</strong> 2"
      ],
      "text/latex": [
       "\\textbf{png:} 2"
      ],
      "text/markdown": [
       "**png:** 2"
      ],
      "text/plain": [
       "png \n",
       "  2 "
      ]
     },
     "metadata": {},
     "output_type": "display_data"
    }
   ],
   "source": [
    "###----------------------------------\n",
    "# MIS-C and COVID\n",
    "dendlist <- make_dend_list(cf_misc_covid, wb_misc_covid, \n",
    "                           cf_meta, wb_meta,\n",
    "                           cf_ftcounts,wb_ftcounts,\n",
    "                           PVAL_THRESH = PVAL_THRESH, LOGFC_THRESH = LOGFC_THRESH)\n",
    "\n",
    "bg_cor <- cor_bakers_gamma(dendlist[[1]],dendlist[[2]])\n",
    "pval <- get_pval(dendlist,bg_cor,1000)\n",
    "\n",
    "print(bg_cor)\n",
    "print(pval)\n",
    "\n",
    "HEIGHT = 1\n",
    "WIDTH = 3\n",
    "\n",
    "pdf(file=\"plots/panelC_misc-covid.pdf\",\n",
    "        width=WIDTH,height=HEIGHT, paper=\"special\", bg=\"white\",\n",
    "        fonts=\"Helvetica\", colormodel = \"srgb\", pointsize=6, useDingbats = FALSE)\n",
    "\n",
    "dendlist %>% \n",
    "    tanglegram(intersecting= TRUE,color_lines = \"black\",\n",
    "                           margin_inner = 0.1,\n",
    "             highlight_branches_lwd = FALSE,\n",
    "             highlight_distinct_edges = FALSE,\n",
    "             lwd = 0.5,\n",
    "               edge.lwd = 0.8,\n",
    "             margin_top=0,\n",
    "             margin_bottom = 2)\n",
    "\n",
    "dev.off()"
   ]
  },
  {
   "cell_type": "markdown",
   "id": "c0436bbf-9d4f-4af6-8811-a5d5418c9261",
   "metadata": {
    "tags": []
   },
   "source": [
    "#### __MIS-C and CONTROL__"
   ]
  },
  {
   "cell_type": "code",
   "execution_count": 8,
   "id": "4a6e8818-92af-40c9-b487-96e51c0eba3d",
   "metadata": {},
   "outputs": [
    {
     "name": "stdout",
     "output_type": "stream",
     "text": [
      "[1] 0.5933907\n",
      "[1] \"ALL BELOW\"\n"
     ]
    },
    {
     "data": {
      "text/html": [
       "<strong>png:</strong> 2"
      ],
      "text/latex": [
       "\\textbf{png:} 2"
      ],
      "text/markdown": [
       "**png:** 2"
      ],
      "text/plain": [
       "png \n",
       "  2 "
      ]
     },
     "metadata": {},
     "output_type": "display_data"
    }
   ],
   "source": [
    "###----------------------------------\n",
    "# MIS-C and Control\n",
    "dendlist <- make_dend_list(cf_misc_cntrl, wb_misc_cntrl, \n",
    "                           cf_meta, wb_meta,\n",
    "                           cf_ftcounts,wb_ftcounts,\n",
    "                           PVAL_THRESH = PVAL_THRESH, LOGFC_THRESH = LOGFC_THRESH)\n",
    "\n",
    "bg_cor <- cor_bakers_gamma(dendlist[[1]],dendlist[[2]])\n",
    "pval <- get_pval(dendlist,bg_cor,1000)\n",
    "\n",
    "print(bg_cor)\n",
    "print(pval)\n",
    "\n",
    "\n",
    "pdf(file=\"plots/panelC_misc-control.pdf\",\n",
    "        width=WIDTH,height=HEIGHT, paper=\"special\", bg=\"white\",\n",
    "        fonts=\"Helvetica\", colormodel = \"srgb\", pointsize=6, useDingbats = FALSE)\n",
    "\n",
    "dendlist %>% \n",
    "    tanglegram(intersecting= TRUE,color_lines = \"black\",\n",
    "                           margin_inner = 0.1,\n",
    "             highlight_branches_lwd = FALSE,\n",
    "             highlight_distinct_edges = FALSE,\n",
    "             lwd = 0.5,\n",
    "               edge.lwd = 0.8,\n",
    "             margin_top=0,\n",
    "             margin_bottom = 2)\n",
    "dev.off()\n",
    "\n"
   ]
  },
  {
   "cell_type": "markdown",
   "id": "20a8cd1a-7346-43a6-bd10-47756d9e9508",
   "metadata": {
    "tags": []
   },
   "source": [
    "#### __COVID-19 and CONTROL__"
   ]
  },
  {
   "cell_type": "code",
   "execution_count": 9,
   "id": "3668a2a6-749b-4da2-b801-d9411b4c1cb7",
   "metadata": {},
   "outputs": [
    {
     "name": "stdout",
     "output_type": "stream",
     "text": [
      "[1] 0.9559779\n",
      "[1] \"ALL BELOW\"\n"
     ]
    },
    {
     "data": {
      "text/html": [
       "<strong>png:</strong> 2"
      ],
      "text/latex": [
       "\\textbf{png:} 2"
      ],
      "text/markdown": [
       "**png:** 2"
      ],
      "text/plain": [
       "png \n",
       "  2 "
      ]
     },
     "metadata": {},
     "output_type": "display_data"
    }
   ],
   "source": [
    "###----------------------------------\n",
    "# COVID and Control\n",
    "dendlist <- make_dend_list(cf_covid_cntrl, wb_covid_cntrl, \n",
    "                           cf_meta, wb_meta,\n",
    "                           cf_ftcounts,wb_ftcounts,\n",
    "                           PVAL_THRESH = PVAL_THRESH, LOGFC_THRESH = LOGFC_THRESH)\n",
    "\n",
    "bg_cor <- cor_bakers_gamma(dendlist[[1]],dendlist[[2]])\n",
    "pval <- get_pval(dendlist,bg_cor,1000)\n",
    "\n",
    "print(bg_cor)\n",
    "print(pval)\n",
    "\n",
    "\n",
    "pdf(file=\"plots/panelC_covid-control.pdf\",\n",
    "        width=WIDTH,height=HEIGHT, paper=\"special\", bg=\"white\",\n",
    "        fonts=\"Helvetica\", colormodel = \"srgb\", pointsize=6, useDingbats = FALSE)\n",
    "\n",
    "dendlist %>% \n",
    "    tanglegram(intersecting= TRUE,color_lines = \"black\",\n",
    "                           margin_inner = 0.1,\n",
    "             highlight_branches_lwd = FALSE,\n",
    "             highlight_distinct_edges = FALSE,\n",
    "             lwd = 0.5,\n",
    "               edge.lwd = 0.8,\n",
    "             margin_top=0,\n",
    "             margin_bottom = 2)\n",
    "dev.off()"
   ]
  },
  {
   "cell_type": "markdown",
   "id": "f42648e1-2982-4281-8508-67f25f314c98",
   "metadata": {
    "tags": []
   },
   "source": [
    "---\n",
    "---\n",
    "---\n",
    "# Simulation results"
   ]
  },
  {
   "cell_type": "code",
   "execution_count": 4,
   "id": "583582a8-e6e7-40d0-bda4-93a21e69542b",
   "metadata": {},
   "outputs": [
    {
     "name": "stderr",
     "output_type": "stream",
     "text": [
      "No id variables; using all as measure variables\n",
      "\n"
     ]
    },
    {
     "data": {
      "text/html": [
       "<table class=\"dataframe\">\n",
       "<caption>A data.frame: 6 × 2</caption>\n",
       "<thead>\n",
       "\t<tr><th></th><th scope=col>variable</th><th scope=col>value</th></tr>\n",
       "\t<tr><th></th><th scope=col>&lt;fct&gt;</th><th scope=col>&lt;dbl&gt;</th></tr>\n",
       "</thead>\n",
       "<tbody>\n",
       "\t<tr><th scope=row>1</th><td>MIS-C_vs_COVID-19</td><td>0.2975010</td></tr>\n",
       "\t<tr><th scope=row>2</th><td>MIS-C_vs_COVID-19</td><td>0.3866374</td></tr>\n",
       "\t<tr><th scope=row>3</th><td>MIS-C_vs_COVID-19</td><td>0.5541144</td></tr>\n",
       "\t<tr><th scope=row>4</th><td>MIS-C_vs_COVID-19</td><td>0.4965362</td></tr>\n",
       "\t<tr><th scope=row>5</th><td>MIS-C_vs_COVID-19</td><td>0.3079767</td></tr>\n",
       "\t<tr><th scope=row>6</th><td>MIS-C_vs_COVID-19</td><td>0.5219729</td></tr>\n",
       "</tbody>\n",
       "</table>\n"
      ],
      "text/latex": [
       "A data.frame: 6 × 2\n",
       "\\begin{tabular}{r|ll}\n",
       "  & variable & value\\\\\n",
       "  & <fct> & <dbl>\\\\\n",
       "\\hline\n",
       "\t1 & MIS-C\\_vs\\_COVID-19 & 0.2975010\\\\\n",
       "\t2 & MIS-C\\_vs\\_COVID-19 & 0.3866374\\\\\n",
       "\t3 & MIS-C\\_vs\\_COVID-19 & 0.5541144\\\\\n",
       "\t4 & MIS-C\\_vs\\_COVID-19 & 0.4965362\\\\\n",
       "\t5 & MIS-C\\_vs\\_COVID-19 & 0.3079767\\\\\n",
       "\t6 & MIS-C\\_vs\\_COVID-19 & 0.5219729\\\\\n",
       "\\end{tabular}\n"
      ],
      "text/markdown": [
       "\n",
       "A data.frame: 6 × 2\n",
       "\n",
       "| <!--/--> | variable &lt;fct&gt; | value &lt;dbl&gt; |\n",
       "|---|---|---|\n",
       "| 1 | MIS-C_vs_COVID-19 | 0.2975010 |\n",
       "| 2 | MIS-C_vs_COVID-19 | 0.3866374 |\n",
       "| 3 | MIS-C_vs_COVID-19 | 0.5541144 |\n",
       "| 4 | MIS-C_vs_COVID-19 | 0.4965362 |\n",
       "| 5 | MIS-C_vs_COVID-19 | 0.3079767 |\n",
       "| 6 | MIS-C_vs_COVID-19 | 0.5219729 |\n",
       "\n"
      ],
      "text/plain": [
       "  variable          value    \n",
       "1 MIS-C_vs_COVID-19 0.2975010\n",
       "2 MIS-C_vs_COVID-19 0.3866374\n",
       "3 MIS-C_vs_COVID-19 0.5541144\n",
       "4 MIS-C_vs_COVID-19 0.4965362\n",
       "5 MIS-C_vs_COVID-19 0.3079767\n",
       "6 MIS-C_vs_COVID-19 0.5219729"
      ]
     },
     "metadata": {},
     "output_type": "display_data"
    }
   ],
   "source": [
    "sim_df <- read.delim(\"./simulation_bakers_gamma.tsv\")\n",
    "colnames(sim_df) <- c(\"MIS-C_vs_COVID-19\",\"MIS-C_vs_Control\")\n",
    "sim_df_m <- melt(sim_df)\n",
    "sim_df_m %>% head()"
   ]
  },
  {
   "cell_type": "markdown",
   "id": "4d3f68bf-7140-4752-a87c-63e3eb0d88bc",
   "metadata": {},
   "source": [
    "---\n",
    "#### _pvalues_"
   ]
  },
  {
   "cell_type": "code",
   "execution_count": 5,
   "id": "8070a7f8-83ae-48c2-971e-42c3926df78f",
   "metadata": {},
   "outputs": [
    {
     "name": "stdout",
     "output_type": "stream",
     "text": [
      "[1] 0.848\n",
      "[1] 0.398\n"
     ]
    }
   ],
   "source": [
    "misc_cntrl_sim <- sim_df$`MIS-C_vs_Control`\n",
    "misc_cntrl_all <- 0.6\n",
    "pval = sum(misc_cntrl_all <= misc_cntrl_sim)/length(misc_cntrl_sim) *2\n",
    "print(pval)\n",
    "\n",
    "misc_covid_sim <- sim_df$`MIS-C_vs_COVID-19`\n",
    "misc_covid_all <- 0.22\n",
    "pval = sum(misc_covid_all >= misc_covid_sim)/length(misc_covid_sim) *2\n",
    "print(pval)"
   ]
  },
  {
   "cell_type": "code",
   "execution_count": 15,
   "id": "1e8e3a41-2aa4-4e38-9174-5494adc4f5ff",
   "metadata": {},
   "outputs": [
    {
     "data": {
      "image/png": "[encoded data removed]",
      "text/plain": [
       "plot without title"
      ]
     },
     "metadata": {
      "image/png": {
       "height": 420,
       "width": 420
      }
     },
     "output_type": "display_data"
    }
   ],
   "source": [
    "sim_df_m %>% \n",
    "    ggplot(aes(x=value,color=variable,fill=variable)) + \n",
    "    geom_density(alpha = 0.2) +\n",
    "    geom_vline(xintercept=0.8450, color = \"dark green\", lty=2) + \n",
    "    theme_prevail() + theme(legend.position = \"none\")"
   ]
  },
  {
   "cell_type": "code",
   "execution_count": 4,
   "id": "1a5c2bfa-bb10-4865-b952-592281cd0a1e",
   "metadata": {},
   "outputs": [
    {
     "data": {
      "text/html": [
       "<strong>png:</strong> 2"
      ],
      "text/latex": [
       "\\textbf{png:} 2"
      ],
      "text/markdown": [
       "**png:** 2"
      ],
      "text/plain": [
       "png \n",
       "  2 "
      ]
     },
     "metadata": {},
     "output_type": "display_data"
    }
   ],
   "source": [
    "\n",
    "pdf(file=\"plots/entangle_simulations.pdf\",\n",
    "        width=1.8,height=1.6, paper=\"special\", bg=\"white\",\n",
    "        fonts=\"Helvetica\", colormodel = \"srgb\", pointsize=6, useDingbats = FALSE)\n",
    "\n",
    "sim_df_m %>% \n",
    "    ggplot(aes(x=value,color=variable,fill=variable)) + \n",
    "    geom_density(alpha = 0.2) +\n",
    "    geom_vline(xintercept=0.8450, color = \"dark green\", lty=2) + \n",
    "    theme_alex() + theme(legend.position = \"none\")\n",
    "\n",
    "dev.off()"
   ]
  },
  {
   "cell_type": "markdown",
   "id": "c174a1b9-6661-406f-9bd1-38a0d5941494",
   "metadata": {},
   "source": [
    "---\n",
    "---\n",
    "---\n",
    "## SUBSET FOR FIG1"
   ]
  },
  {
   "cell_type": "code",
   "execution_count": null,
   "id": "f195e7f4-becb-46c9-baf8-39f188a221a4",
   "metadata": {},
   "outputs": [],
   "source": []
  },
  {
   "cell_type": "code",
   "execution_count": 12,
   "id": "862902d8-03a6-4bd1-ac06-8ee8ccf33924",
   "metadata": {},
   "outputs": [
    {
     "data": {
      "text/html": [
       "<style>\n",
       ".list-inline {list-style: none; margin:0; padding: 0}\n",
       ".list-inline>li {display: inline-block}\n",
       ".list-inline>li:not(:last-child)::after {content: \"\\00b7\"; padding: 0 .5ex}\n",
       "</style>\n",
       "<ol class=list-inline><li>'prevail_cu_cfrna_293'</li><li>'prevail_cu_cfrna_298'</li><li>'prevail_cu_cfrna_301'</li><li>'prevail_cu_cfrna_308'</li><li>'prevail_cu_cfrna_300'</li><li>'prevail_cu_cfrna_304'</li><li>'prevail_cu_cfrna_305'</li><li>'prevail_cu_cfrna_81'</li><li>'prevail_cu_cfrna_82'</li><li>'prevail_cu_cfrna_83'</li><li>'prevail_cu_cfrna_307'</li><li>'prevail_cu_cfrna_313'</li><li>'prevail_cu_cfrna_303'</li><li>'prevail_cu_cfrna_310'</li><li>'prevail_cu_cfrna_309'</li><li>'prevail_cu_cfrna_290'</li><li>'prevail_cu_cfrna_108'</li><li>'prevail_cu_cfrna_294'</li><li>'prevail_cu_cfrna_287'</li><li>'prevail_cu_cfrna_282'</li><li>'prevail_cu_cfrna_284'</li><li>'prevail_cu_cfrna_285'</li><li>'prevail_cu_cfrna_292'</li><li>'prevail_cu_cfrna_24'</li><li>'prevail_cu_cfrna_296'</li><li>'prevail_cu_cfrna_299'</li><li>'prevail_cu_cfrna_42'</li><li>'prevail_cu_cfrna_171'</li><li>'prevail_cu_cfrna_152'</li><li>'prevail_cu_cfrna_174'</li><li>'prevail_cu_cfrna_181'</li><li>'prevail_cu_cfrna_183'</li><li>'prevail_cu_cfrna_175'</li><li>'prevail_cu_cfrna_179'</li><li>'prevail_cu_cfrna_182'</li><li>'prevail_cu_cfrna_191'</li><li>'prevail_cu_cfrna_192'</li><li>'prevail_cu_cfrna_235'</li><li>'prevail_cu_cfrna_236'</li></ol>\n"
      ],
      "text/latex": [
       "\\begin{enumerate*}\n",
       "\\item 'prevail\\_cu\\_cfrna\\_293'\n",
       "\\item 'prevail\\_cu\\_cfrna\\_298'\n",
       "\\item 'prevail\\_cu\\_cfrna\\_301'\n",
       "\\item 'prevail\\_cu\\_cfrna\\_308'\n",
       "\\item 'prevail\\_cu\\_cfrna\\_300'\n",
       "\\item 'prevail\\_cu\\_cfrna\\_304'\n",
       "\\item 'prevail\\_cu\\_cfrna\\_305'\n",
       "\\item 'prevail\\_cu\\_cfrna\\_81'\n",
       "\\item 'prevail\\_cu\\_cfrna\\_82'\n",
       "\\item 'prevail\\_cu\\_cfrna\\_83'\n",
       "\\item 'prevail\\_cu\\_cfrna\\_307'\n",
       "\\item 'prevail\\_cu\\_cfrna\\_313'\n",
       "\\item 'prevail\\_cu\\_cfrna\\_303'\n",
       "\\item 'prevail\\_cu\\_cfrna\\_310'\n",
       "\\item 'prevail\\_cu\\_cfrna\\_309'\n",
       "\\item 'prevail\\_cu\\_cfrna\\_290'\n",
       "\\item 'prevail\\_cu\\_cfrna\\_108'\n",
       "\\item 'prevail\\_cu\\_cfrna\\_294'\n",
       "\\item 'prevail\\_cu\\_cfrna\\_287'\n",
       "\\item 'prevail\\_cu\\_cfrna\\_282'\n",
       "\\item 'prevail\\_cu\\_cfrna\\_284'\n",
       "\\item 'prevail\\_cu\\_cfrna\\_285'\n",
       "\\item 'prevail\\_cu\\_cfrna\\_292'\n",
       "\\item 'prevail\\_cu\\_cfrna\\_24'\n",
       "\\item 'prevail\\_cu\\_cfrna\\_296'\n",
       "\\item 'prevail\\_cu\\_cfrna\\_299'\n",
       "\\item 'prevail\\_cu\\_cfrna\\_42'\n",
       "\\item 'prevail\\_cu\\_cfrna\\_171'\n",
       "\\item 'prevail\\_cu\\_cfrna\\_152'\n",
       "\\item 'prevail\\_cu\\_cfrna\\_174'\n",
       "\\item 'prevail\\_cu\\_cfrna\\_181'\n",
       "\\item 'prevail\\_cu\\_cfrna\\_183'\n",
       "\\item 'prevail\\_cu\\_cfrna\\_175'\n",
       "\\item 'prevail\\_cu\\_cfrna\\_179'\n",
       "\\item 'prevail\\_cu\\_cfrna\\_182'\n",
       "\\item 'prevail\\_cu\\_cfrna\\_191'\n",
       "\\item 'prevail\\_cu\\_cfrna\\_192'\n",
       "\\item 'prevail\\_cu\\_cfrna\\_235'\n",
       "\\item 'prevail\\_cu\\_cfrna\\_236'\n",
       "\\end{enumerate*}\n"
      ],
      "text/markdown": [
       "1. 'prevail_cu_cfrna_293'\n",
       "2. 'prevail_cu_cfrna_298'\n",
       "3. 'prevail_cu_cfrna_301'\n",
       "4. 'prevail_cu_cfrna_308'\n",
       "5. 'prevail_cu_cfrna_300'\n",
       "6. 'prevail_cu_cfrna_304'\n",
       "7. 'prevail_cu_cfrna_305'\n",
       "8. 'prevail_cu_cfrna_81'\n",
       "9. 'prevail_cu_cfrna_82'\n",
       "10. 'prevail_cu_cfrna_83'\n",
       "11. 'prevail_cu_cfrna_307'\n",
       "12. 'prevail_cu_cfrna_313'\n",
       "13. 'prevail_cu_cfrna_303'\n",
       "14. 'prevail_cu_cfrna_310'\n",
       "15. 'prevail_cu_cfrna_309'\n",
       "16. 'prevail_cu_cfrna_290'\n",
       "17. 'prevail_cu_cfrna_108'\n",
       "18. 'prevail_cu_cfrna_294'\n",
       "19. 'prevail_cu_cfrna_287'\n",
       "20. 'prevail_cu_cfrna_282'\n",
       "21. 'prevail_cu_cfrna_284'\n",
       "22. 'prevail_cu_cfrna_285'\n",
       "23. 'prevail_cu_cfrna_292'\n",
       "24. 'prevail_cu_cfrna_24'\n",
       "25. 'prevail_cu_cfrna_296'\n",
       "26. 'prevail_cu_cfrna_299'\n",
       "27. 'prevail_cu_cfrna_42'\n",
       "28. 'prevail_cu_cfrna_171'\n",
       "29. 'prevail_cu_cfrna_152'\n",
       "30. 'prevail_cu_cfrna_174'\n",
       "31. 'prevail_cu_cfrna_181'\n",
       "32. 'prevail_cu_cfrna_183'\n",
       "33. 'prevail_cu_cfrna_175'\n",
       "34. 'prevail_cu_cfrna_179'\n",
       "35. 'prevail_cu_cfrna_182'\n",
       "36. 'prevail_cu_cfrna_191'\n",
       "37. 'prevail_cu_cfrna_192'\n",
       "38. 'prevail_cu_cfrna_235'\n",
       "39. 'prevail_cu_cfrna_236'\n",
       "\n",
       "\n"
      ],
      "text/plain": [
       " [1] \"prevail_cu_cfrna_293\" \"prevail_cu_cfrna_298\" \"prevail_cu_cfrna_301\"\n",
       " [4] \"prevail_cu_cfrna_308\" \"prevail_cu_cfrna_300\" \"prevail_cu_cfrna_304\"\n",
       " [7] \"prevail_cu_cfrna_305\" \"prevail_cu_cfrna_81\"  \"prevail_cu_cfrna_82\" \n",
       "[10] \"prevail_cu_cfrna_83\"  \"prevail_cu_cfrna_307\" \"prevail_cu_cfrna_313\"\n",
       "[13] \"prevail_cu_cfrna_303\" \"prevail_cu_cfrna_310\" \"prevail_cu_cfrna_309\"\n",
       "[16] \"prevail_cu_cfrna_290\" \"prevail_cu_cfrna_108\" \"prevail_cu_cfrna_294\"\n",
       "[19] \"prevail_cu_cfrna_287\" \"prevail_cu_cfrna_282\" \"prevail_cu_cfrna_284\"\n",
       "[22] \"prevail_cu_cfrna_285\" \"prevail_cu_cfrna_292\" \"prevail_cu_cfrna_24\" \n",
       "[25] \"prevail_cu_cfrna_296\" \"prevail_cu_cfrna_299\" \"prevail_cu_cfrna_42\" \n",
       "[28] \"prevail_cu_cfrna_171\" \"prevail_cu_cfrna_152\" \"prevail_cu_cfrna_174\"\n",
       "[31] \"prevail_cu_cfrna_181\" \"prevail_cu_cfrna_183\" \"prevail_cu_cfrna_175\"\n",
       "[34] \"prevail_cu_cfrna_179\" \"prevail_cu_cfrna_182\" \"prevail_cu_cfrna_191\"\n",
       "[37] \"prevail_cu_cfrna_192\" \"prevail_cu_cfrna_235\" \"prevail_cu_cfrna_236\""
      ]
     },
     "metadata": {},
     "output_type": "display_data"
    },
    {
     "data": {
      "text/plain": [
       "class: DESeqDataSet \n",
       "dim: 56634 4 \n",
       "metadata(1): version\n",
       "assays(6): counts mu ... replaceCounts replaceCooks\n",
       "rownames(56634): ENSG00000223972.5 ENSG00000227232.5 ...\n",
       "  ENSG00000278625.1 ENSG00000277374.1\n",
       "rowData names(26): gene_id gene_name ... maxCooks replace\n",
       "colnames(4): prevail_cu_cfrna_293 prevail_cu_cfrna_298\n",
       "  prevail_cu_cfrna_235 prevail_cu_cfrna_236\n",
       "colData names(62): unique_sample_id PTID ... sizeFactor replaceable"
      ]
     },
     "metadata": {},
     "output_type": "display_data"
    }
   ],
   "source": [
    "tmp <- cf_misc_covid\n",
    "dds <- tmp[['dds']]\n",
    "tmp[['dds']] <- dds[,colnames(dds) %in% c('prevail_cu_cfrna_293','prevail_cu_cfrna_298','prevail_cu_cfrna_192','prevail_cu_cfrna_235','prevail_cu_cfrna_236')]"
   ]
  },
  {
   "cell_type": "code",
   "execution_count": 27,
   "id": "c72332ea-2c66-4021-aa23-06b2411ea017",
   "metadata": {},
   "outputs": [
    {
     "name": "stdout",
     "output_type": "stream",
     "text": [
      "[1] 0.1386981\n",
      "[1] 0.219\n"
     ]
    },
    {
     "data": {
      "text/html": [
       "<strong>png:</strong> 2"
      ],
      "text/latex": [
       "\\textbf{png:} 2"
      ],
      "text/markdown": [
       "**png:** 2"
      ],
      "text/plain": [
       "png \n",
       "  2 "
      ]
     },
     "metadata": {},
     "output_type": "display_data"
    }
   ],
   "source": [
    "###----------------------------------\n",
    "# MIS-C and COVID\n",
    "set.seed(42)\n",
    "tmp <- cf_misc_covid\n",
    "dds <- tmp[['dds']]\n",
    "keepers <- sample(colnames(dds),8)\n",
    "tmp[['dds']] <- dds[,colnames(dds) %in% keepers]\n",
    "\n",
    "dendlist <- make_dend_list(tmp, wb_misc_covid, \n",
    "                           cf_meta, wb_meta,\n",
    "                           cf_ftcounts,wb_ftcounts,\n",
    "                           PVAL_THRESH = PVAL_THRESH, LOGFC_THRESH = LOGFC_THRESH)\n",
    "\n",
    "bg_cor <- cor_bakers_gamma(dendlist[[1]],dendlist[[2]])\n",
    "pval <- get_pval(dendlist,bg_cor,1000)\n",
    "\n",
    "print(bg_cor)\n",
    "print(pval)\n",
    "\n",
    "HEIGHT = 1\n",
    "WIDTH = 1\n",
    "\n",
    "pdf(file=\"plots/entangle_FIG1.pdf\",\n",
    "        width=WIDTH,height=HEIGHT, paper=\"special\", bg=\"white\",\n",
    "        fonts=\"Helvetica\", colormodel = \"srgb\", pointsize=6, useDingbats = FALSE)\n",
    "\n",
    "dendlist %>% \n",
    "    tanglegram(intersecting= TRUE,\n",
    "               color_lines = \"black\",\n",
    "            margin_inner = 0.1,\n",
    "             highlight_branches_lwd = FALSE,\n",
    "             highlight_distinct_edges = FALSE,\n",
    "             lwd = 1,\n",
    "               edge.lwd = 1,\n",
    "             margin_top=0,\n",
    "             margin_bottom = 0)\n",
    "\n",
    "dev.off()"
   ]
  },
  {
   "cell_type": "code",
   "execution_count": 31,
   "id": "bb16e76b-263d-474d-9744-cf1e84f7d494",
   "metadata": {},
   "outputs": [
    {
     "data": {
      "text/html": [
       "<strong>png:</strong> 2"
      ],
      "text/latex": [
       "\\textbf{png:} 2"
      ],
      "text/markdown": [
       "**png:** 2"
      ],
      "text/plain": [
       "png \n",
       "  2 "
      ]
     },
     "metadata": {},
     "output_type": "display_data"
    }
   ],
   "source": [
    "pdf(file=\"plots/entangle_FIG1.pdf\",\n",
    "        width=WIDTH,height=HEIGHT, paper=\"special\", bg=\"white\",\n",
    "        fonts=\"Helvetica\", colormodel = \"srgb\", pointsize=6, useDingbats = FALSE)\n",
    "\n",
    "dendlist %>% \n",
    "    tanglegram(intersecting= TRUE,\n",
    "               color_lines = \"black\",\n",
    "            margin_inner = 0.1,\n",
    "             highlight_branches_lwd = FALSE,\n",
    "             highlight_distinct_edges = FALSE,\n",
    "             lwd = 1,\n",
    "               edge.lwd = 1,\n",
    "             margin_top=0,\n",
    "             margin_bottom = 0)\n",
    "\n",
    "dev.off()"
   ]
  },
  {
   "cell_type": "markdown",
   "id": "caaea310-0363-4153-8307-7849abd7b53a",
   "metadata": {
    "tags": []
   },
   "source": [
    "---\n",
    "---\n",
    "---\n",
    "# OLD"
   ]
  },
  {
   "cell_type": "code",
   "execution_count": null,
   "id": "ce64ddff-1055-4f82-87a1-8bd59eac2ce6",
   "metadata": {},
   "outputs": [],
   "source": []
  },
  {
   "cell_type": "code",
   "execution_count": null,
   "id": "d62174a8-b255-4d9e-917a-b1d12dd390ed",
   "metadata": {},
   "outputs": [],
   "source": []
  },
  {
   "cell_type": "code",
   "execution_count": null,
   "id": "fbaabdc7-2e0b-488e-9410-2424070a1c59",
   "metadata": {},
   "outputs": [],
   "source": []
  },
  {
   "cell_type": "markdown",
   "id": "5bbaf852-4195-4eed-b96c-3bd7f4886a75",
   "metadata": {
    "jp-MarkdownHeadingCollapsed": true,
    "tags": []
   },
   "source": [
    "---\n",
    "---\n",
    "---\n",
    "# MIS-C vs COVID-19"
   ]
  },
  {
   "cell_type": "markdown",
   "id": "d8476995-1ab3-42b0-81ca-3795c5887c30",
   "metadata": {
    "tags": []
   },
   "source": [
    "#### Read in data and create dendograms"
   ]
  },
  {
   "cell_type": "code",
   "execution_count": 40,
   "id": "dc820a0b-b66a-4ffd-b41c-375092a04a5b",
   "metadata": {},
   "outputs": [],
   "source": [
    "# MISC vs COVID\n",
    "\n",
    "cf_tmp_rds <- cf_misc_covid\n",
    "wb_tmp_res <- wb_misc_covid\n",
    "\n",
    "#----------------------------------------\n",
    "## Cell-free\n",
    "IDS_cf <- colnames(cf_tmp_rds[['dds']])\n",
    "\n",
    "sig_genes_cf <- data.frame(cf_tmp_rds[['res']]) %>% filter(padj < PVAL_THRESH & abs(log2FoldChange) > LOGFC_THRESH) %>% rownames()\n",
    "cf_dendL = get_dend(IDS_cf,sig_genes_cf,cf_meta,cf_ftcounts)\n",
    "\n",
    "#----------------------------------------\n",
    "## Whole blood\n",
    "wb_tmp_res$ensmbl <- lapply(wb_tmp_res$gene,get_gene_id,annotation)\n",
    "\n",
    "cf_pt_dates <- cf_meta %>% filter(cfrna_sample_id %in% all_of(IDS_cf)) %>% pull(PTID_DATE)\n",
    "\n",
    "IDS_wb <- wb_meta %>% \n",
    "    filter(PTID_DATE %in% all_of(cf_pt_dates)) %>% \n",
    "    pull(SEQ_ID..UCSFonly.)\n",
    "\n",
    "sig_genes_wb <- wb_tmp_res %>% filter(padj < PVAL_THRESH & abs(log2FoldChange) > LOGFC_THRESH) %>% pull(ensmbl)\n",
    "wb_dendL = get_dend(IDS_wb,sig_genes_wb,wb_meta,wb_ftcounts)"
   ]
  },
  {
   "cell_type": "code",
   "execution_count": 52,
   "id": "bf3b4d28-3548-45ec-9ea5-3787ce9ce1c8",
   "metadata": {},
   "outputs": [
    {
     "data": {
      "text/plain": [
       "$dend1\n",
       "'dendrogram' with 2 branches and 39 members total, at height 1.644543 \n",
       "\n",
       "$dend2\n",
       "'dendrogram' with 2 branches and 39 members total, at height 1.591252 \n",
       "\n",
       "attr(,\"class\")\n",
       "[1] \"dendlist\""
      ]
     },
     "metadata": {},
     "output_type": "display_data"
    },
    {
     "data": {
      "text/html": [
       "<strong>png:</strong> 2"
      ],
      "text/latex": [
       "\\textbf{png:} 2"
      ],
      "text/markdown": [
       "**png:** 2"
      ],
      "text/plain": [
       "png \n",
       "  2 "
      ]
     },
     "metadata": {},
     "output_type": "display_data"
    }
   ],
   "source": [
    "K_clus = 1\n",
    "\n",
    "cf_d <- cf_dendL %>% ladderize %>%  set(\"branches_k_color\", value = 1:K_clus, k = K_clus)\n",
    "wb_d <- wb_dendL %>% ladderize %>%   set(\"branches_k_color\", value = 1:K_clus, k = K_clus)\n",
    "\n",
    "cf_d <- cf_dendL %>% set(\"branches_k_color\", value = 1:K_clus, k = K_clus)\n",
    "wb_d <- wb_dendL %>% set(\"branches_k_color\", value = 1:K_clus, k = K_clus)\n",
    "\n",
    "\n",
    "## Get labels and clusters\n",
    "cf_d_grps <- cf_d  %>% cutree(k=K_clus)\n",
    "cf_d_labs <- cf_d %>% labels\n",
    "cf_d_grps <- cf_d_grps[cf_d_labs]\n",
    "\n",
    "wb_d_grps <- wb_d  %>% cutree(k=K_clus)\n",
    "wb_d_labs <- wb_d %>% labels\n",
    "wb_d_grps <- wb_d_grps[wb_d_labs]\n",
    "\n",
    "# m_cntrl_grps = ifelse(m_cntrl_grps == 2,3,ifelse(m_cntrl_grps == 1,2,ifelse(m_cntrl_grps == 3,1,4)))\n",
    "\n",
    "\n",
    "FINAL_COLORS <- c()\n",
    "for (n in names(cf_d_grps)){\n",
    "    if (n %in% names(wb_d_grps)){\n",
    "    if (wb_d_grps[[n]] != wb_d_grps[[n]]){\n",
    "        FINAL_COLORS <- c(FINAL_COLORS,\"grey\")\n",
    "    } else{FINAL_COLORS <- c(FINAL_COLORS,cf_d_grps[[n]])} }\n",
    "    \n",
    "}\n",
    "\n",
    "# FINAL_COLORS <- ifelse(FINAL_COLORS == '4','2',ifelse(FINAL_COLORS == '1', '4',ifelse(FINAL_COLORS == '2', '3',ifelse(FINAL_COLORS == '3', '1',FINAL_COLORS))))\n",
    "\n",
    "dendlist <- dendlist(cf_d,wb_d)\n",
    "\n",
    "HEIGHT = 1\n",
    "WIDTH = 3.65\n",
    "\n",
    "pdf(file=\"plots/entangle_misc-covid.pdf\",\n",
    "        width=WIDTH,height=HEIGHT, paper=\"special\", bg=\"white\",\n",
    "        fonts=\"Helvetica\", colormodel = \"srgb\", pointsize=6, useDingbats = FALSE)\n",
    "\n",
    "dendlist %>% \n",
    "    tanglegram(intersecting= TRUE,color_lines = FINAL_COLORS,\n",
    "                           margin_inner = 0.1,\n",
    "             highlight_branches_lwd = FALSE,\n",
    "             highlight_distinct_edges = FALSE,\n",
    "             lwd = 0.5,\n",
    "               edge.lwd = 0.8,\n",
    "             margin_top=0,\n",
    "             margin_bottom = 2) %>%\n",
    "    untangle(method = \"step1side\")\n",
    "\n",
    "dev.off()"
   ]
  },
  {
   "cell_type": "code",
   "execution_count": 73,
   "id": "06f04fa9-8206-4fe7-a2fe-f633764fe5b6",
   "metadata": {},
   "outputs": [
    {
     "name": "stdout",
     "output_type": "stream",
     "text": [
      "[1] 0.2428199\n"
     ]
    },
    {
     "data": {
      "text/html": [
       "0.001"
      ],
      "text/latex": [
       "0.001"
      ],
      "text/markdown": [
       "0.001"
      ],
      "text/plain": [
       "[1] 0.001"
      ]
     },
     "metadata": {},
     "output_type": "display_data"
    }
   ],
   "source": [
    "bg_cor <- cor_bakers_gamma(cf_d,wb_d)\n",
    "\n",
    "print(bg_cor)\n",
    "get_pval(dendlist,bg_cor,1000)\n",
    "# get_conf(dendlist,bg_cor,100)"
   ]
  },
  {
   "cell_type": "markdown",
   "id": "87291ada-ec60-4bdc-a7cf-9971aa6cefb2",
   "metadata": {
    "jp-MarkdownHeadingCollapsed": true,
    "tags": []
   },
   "source": [
    "---\n",
    "---\n",
    "---\n",
    "# MIS-C vs CONTROL"
   ]
  },
  {
   "cell_type": "markdown",
   "id": "451fd7cd-b9ea-4df1-9fa5-aa734cb59845",
   "metadata": {},
   "source": [
    "#### Read in data and create dendograms"
   ]
  },
  {
   "cell_type": "code",
   "execution_count": 88,
   "id": "f5e5c7ef-ccaa-4710-9aa3-1bd5ccde6e7b",
   "metadata": {},
   "outputs": [],
   "source": [
    "# MISC vs CONTROL\n",
    "\n",
    "cf_tmp_rds <- cf_misc_cntrl\n",
    "wb_tmp_res <- wb_misc_cntrl\n",
    "\n",
    "#----------------------------------------\n",
    "## Cell-free\n",
    "IDS_cf <- colnames(cf_tmp_rds[['dds']])\n",
    "\n",
    "sig_genes_cf <- data.frame(cf_tmp_rds[['res']]) %>% filter(padj < PVAL_THRESH & abs(log2FoldChange) > LOGFC_THRESH) %>% rownames()\n",
    "cf_dendL = get_dend(IDS_cf,sig_genes_cf,cf_meta,cf_ftcounts)\n",
    "\n",
    "#----------------------------------------\n",
    "## Whole blood\n",
    "wb_tmp_res$ensmbl <- lapply(wb_tmp_res$gene,get_gene_id,annotation)\n",
    "\n",
    "cf_pt_dates <- cf_meta %>% filter(cfrna_sample_id %in% all_of(IDS_cf)) %>% pull(PTID_DATE)\n",
    "\n",
    "IDS_wb <- wb_meta %>% \n",
    "    filter(PTID_DATE %in% all_of(cf_pt_dates)) %>% \n",
    "    pull(SEQ_ID..UCSFonly.)\n",
    "\n",
    "sig_genes_wb <- wb_tmp_res %>% filter(padj < PVAL_THRESH & abs(log2FoldChange) > LOGFC_THRESH) %>% pull(ensmbl)\n",
    "wb_dendL = get_dend(IDS_wb,sig_genes_wb,wb_meta,wb_ftcounts)"
   ]
  },
  {
   "cell_type": "code",
   "execution_count": 89,
   "id": "0d382df9-27b4-4f3a-8493-4d7aa21f1019",
   "metadata": {},
   "outputs": [
    {
     "data": {
      "text/html": [
       "0.254236111282407"
      ],
      "text/latex": [
       "0.254236111282407"
      ],
      "text/markdown": [
       "0.254236111282407"
      ],
      "text/plain": [
       "[1] 0.2542361"
      ]
     },
     "metadata": {},
     "output_type": "display_data"
    },
    {
     "data": {
      "text/html": [
       "<strong>png:</strong> 2"
      ],
      "text/latex": [
       "\\textbf{png:} 2"
      ],
      "text/markdown": [
       "**png:** 2"
      ],
      "text/plain": [
       "png \n",
       "  2 "
      ]
     },
     "metadata": {},
     "output_type": "display_data"
    }
   ],
   "source": [
    "K_clus = 1\n",
    "\n",
    "cf_d <- cf_dendL %>% ladderize %>%  set(\"branches_k_color\", value = 1:K_clus, k = K_clus)\n",
    "wb_d <- wb_dendL %>% ladderize %>%   set(\"branches_k_color\", value = 1:K_clus, k = K_clus)\n",
    "\n",
    "cf_d <- cf_dendL %>% set(\"branches_k_color\", value = 1:K_clus, k = K_clus)\n",
    "wb_d <- wb_dendL %>% set(\"branches_k_color\", value = 1:K_clus, k = K_clus)\n",
    "\n",
    "\n",
    "## Get labels and clusters\n",
    "cf_d_grps <- cf_d  %>% cutree(k=K_clus)\n",
    "cf_d_labs <- cf_d %>% labels\n",
    "cf_d_grps <- cf_d_grps[cf_d_labs]\n",
    "\n",
    "wb_d_grps <- wb_d  %>% cutree(k=K_clus)\n",
    "wb_d_labs <- wb_d %>% labels\n",
    "wb_d_grps <- wb_d_grps[wb_d_labs]\n",
    "\n",
    "# m_cntrl_grps = ifelse(m_cntrl_grps == 2,3,ifelse(m_cntrl_grps == 1,2,ifelse(m_cntrl_grps == 3,1,4)))\n",
    "\n",
    "\n",
    "FINAL_COLORS <- c()\n",
    "for (n in names(cf_d_grps)){\n",
    "    if (n %in% names(wb_d_grps)){\n",
    "    if (wb_d_grps[[n]] != wb_d_grps[[n]]){\n",
    "        FINAL_COLORS <- c(FINAL_COLORS,\"grey\")\n",
    "    } else{FINAL_COLORS <- c(FINAL_COLORS,cf_d_grps[[n]])} }\n",
    "    \n",
    "}\n",
    "\n",
    "# FINAL_COLORS <- ifelse(FINAL_COLORS == '4','2',ifelse(FINAL_COLORS == '1', '4',ifelse(FINAL_COLORS == '2', '3',ifelse(FINAL_COLORS == '3', '1',FINAL_COLORS))))\n",
    "\n",
    "\n",
    "HEIGHT = 1\n",
    "WIDTH = 3.65\n",
    "\n",
    "pdf(file=\"plots/entangle_misc-control.pdf\",\n",
    "        width=WIDTH,height=HEIGHT, paper=\"special\", bg=\"white\",\n",
    "        fonts=\"Helvetica\", colormodel = \"cmyk\", pointsize=6, useDingbats = FALSE)\n",
    "\n",
    "dendlist(cf_d,wb_d) %>% \n",
    "    tanglegram(intersecting= TRUE,color_lines = FINAL_COLORS,\n",
    "                           margin_inner = 0.1,\n",
    "             highlight_branches_lwd = FALSE,\n",
    "             highlight_distinct_edges = FALSE,\n",
    "             lwd = 0.5,\n",
    "               edge.lwd = 0.8,\n",
    "             margin_top=0,\n",
    "             margin_bottom = 2) %>%\n",
    "    untangle(method = \"step1side\") %>%\n",
    "    entanglement() \n",
    "\n",
    "\n",
    "dev.off()"
   ]
  },
  {
   "cell_type": "code",
   "execution_count": 87,
   "id": "4f2ce72c-46d9-4748-b593-3223f350df1d",
   "metadata": {},
   "outputs": [
    {
     "data": {
      "text/html": [
       "0.435101270312555"
      ],
      "text/latex": [
       "0.435101270312555"
      ],
      "text/markdown": [
       "0.435101270312555"
      ],
      "text/plain": [
       "[1] 0.4351013"
      ]
     },
     "metadata": {},
     "output_type": "display_data"
    }
   ],
   "source": [
    "dend_intersected <- intersect_trees(cf_d, wb_d)\n",
    "\n",
    "d1 <- dend_intersected[[1]]\n",
    "d2 <- dend_intersected[[2]]\n",
    "\n",
    "cor_bakers_gamma(d1,d2)"
   ]
  },
  {
   "cell_type": "markdown",
   "id": "d8412ed4-2390-4597-973d-069113ef96cd",
   "metadata": {
    "jp-MarkdownHeadingCollapsed": true,
    "tags": []
   },
   "source": [
    "---\n",
    "---\n",
    "---\n",
    "# COVID-19 vs CONTROL"
   ]
  },
  {
   "cell_type": "markdown",
   "id": "db49c288-4d41-456e-abd4-bb8350016f1f",
   "metadata": {},
   "source": [
    "#### Read in data and create dendograms"
   ]
  },
  {
   "cell_type": "code",
   "execution_count": 92,
   "id": "88ee613c-83cc-4a00-8400-75ab7f9be52b",
   "metadata": {},
   "outputs": [],
   "source": [
    "# COVID vs CONTROL\n",
    "\n",
    "cf_tmp_rds <- cf_covid_cntrl\n",
    "wb_tmp_res <- wb_covid_cntrl\n",
    "\n",
    "\n",
    "#----------------------------------------\n",
    "## Cell-free\n",
    "\n",
    "IDS_cf <- colnames(cf_tmp_rds[['dds']])\n",
    "\n",
    "sig_genes_cf <- data.frame(cf_tmp_rds[['res']]) %>% filter(padj < PVAL_THRESH & abs(log2FoldChange) > LOGFC_THRESH) %>% rownames()\n",
    "cf_dendL = get_dend(IDS_cf,sig_genes_cf,cf_meta,cf_ftcounts)\n",
    "\n",
    "#----------------------------------------\n",
    "## Whole blood\n",
    "wb_tmp_res$ensmbl <- lapply(wb_tmp_res$gene,get_gene_id,annotation)\n",
    "\n",
    "cf_pt_dates <- cf_meta %>% filter(cfrna_sample_id %in% all_of(IDS_cf)) %>% pull(PTID_DATE)\n",
    "\n",
    "IDS_wb <- wb_meta %>% \n",
    "    filter(PTID_DATE %in% all_of(cf_pt_dates)) %>% \n",
    "    pull(SEQ_ID..UCSFonly.)\n",
    "\n",
    "sig_genes_wb <- wb_tmp_res %>% filter(padj < PVAL_THRESH & abs(log2FoldChange) > LOGFC_THRESH) %>% pull(ensmbl)\n",
    "wb_dendL = get_dend(IDS_wb,sig_genes_wb,wb_meta,wb_ftcounts)"
   ]
  },
  {
   "cell_type": "code",
   "execution_count": 94,
   "id": "5ec307d3-23d8-4744-adb6-c83b8733cbfd",
   "metadata": {},
   "outputs": [
    {
     "data": {
      "text/html": [
       "0.159575140132668"
      ],
      "text/latex": [
       "0.159575140132668"
      ],
      "text/markdown": [
       "0.159575140132668"
      ],
      "text/plain": [
       "[1] 0.1595751"
      ]
     },
     "metadata": {},
     "output_type": "display_data"
    },
    {
     "data": {
      "text/html": [
       "<strong>png:</strong> 2"
      ],
      "text/latex": [
       "\\textbf{png:} 2"
      ],
      "text/markdown": [
       "**png:** 2"
      ],
      "text/plain": [
       "png \n",
       "  2 "
      ]
     },
     "metadata": {},
     "output_type": "display_data"
    }
   ],
   "source": [
    "K_clus = 1\n",
    "\n",
    "cf_d <- cf_dendL %>% ladderize %>%  set(\"branches_k_color\", value = 1:K_clus, k = K_clus)\n",
    "wb_d <- wb_dendL %>% ladderize %>%   set(\"branches_k_color\", value = 1:K_clus, k = K_clus)\n",
    "\n",
    "cf_d <- cf_dendL %>% set(\"branches_k_color\", value = 1:K_clus, k = K_clus)\n",
    "wb_d <- wb_dendL %>% set(\"branches_k_color\", value = 1:K_clus, k = K_clus)\n",
    "\n",
    "\n",
    "## Get labels and clusters\n",
    "cf_d_grps <- cf_d  %>% cutree(k=K_clus)\n",
    "cf_d_labs <- cf_d %>% labels\n",
    "cf_d_grps <- cf_d_grps[cf_d_labs]\n",
    "\n",
    "wb_d_grps <- wb_d  %>% cutree(k=K_clus)\n",
    "wb_d_labs <- wb_d %>% labels\n",
    "wb_d_grps <- wb_d_grps[wb_d_labs]\n",
    "\n",
    "# m_cntrl_grps = ifelse(m_cntrl_grps == 2,3,ifelse(m_cntrl_grps == 1,2,ifelse(m_cntrl_grps == 3,1,4)))\n",
    "\n",
    "\n",
    "FINAL_COLORS <- c()\n",
    "for (n in names(cf_d_grps)){\n",
    "    if (n %in% names(wb_d_grps)){\n",
    "    if (wb_d_grps[[n]] != wb_d_grps[[n]]){\n",
    "        FINAL_COLORS <- c(FINAL_COLORS,\"grey\")\n",
    "    } else{FINAL_COLORS <- c(FINAL_COLORS,cf_d_grps[[n]])} }\n",
    "    \n",
    "}\n",
    "\n",
    "# FINAL_COLORS <- ifelse(FINAL_COLORS == '4','2',ifelse(FINAL_COLORS == '1', '4',ifelse(FINAL_COLORS == '2', '3',ifelse(FINAL_COLORS == '3', '1',FINAL_COLORS))))\n",
    "\n",
    "\n",
    "HEIGHT = 1\n",
    "WIDTH = 3.65\n",
    "\n",
    "pdf(file=\"plots/entangle_covid-control.pdf\",\n",
    "        width=WIDTH,height=HEIGHT, paper=\"special\", bg=\"white\",\n",
    "        fonts=\"Helvetica\", colormodel = \"cmyk\", pointsize=6, useDingbats = FALSE)\n",
    "\n",
    "dendlist(cf_d,wb_d) %>% \n",
    "    tanglegram(intersecting= TRUE,color_lines = FINAL_COLORS,\n",
    "                           margin_inner = 0.1,\n",
    "             highlight_branches_lwd = FALSE,\n",
    "             highlight_distinct_edges = FALSE,\n",
    "             lwd = 0.5,\n",
    "               edge.lwd = 0.8,\n",
    "             margin_top=0,\n",
    "             margin_bottom = 2) %>%\n",
    "    untangle(method = \"step1side\") %>%\n",
    "    entanglement() \n",
    "\n",
    "\n",
    "dev.off()"
   ]
  },
  {
   "cell_type": "code",
   "execution_count": 95,
   "id": "6721c115-4e1b-429d-9fa2-c500b26a1da3",
   "metadata": {},
   "outputs": [
    {
     "data": {
      "text/html": [
       "0.635340495857573"
      ],
      "text/latex": [
       "0.635340495857573"
      ],
      "text/markdown": [
       "0.635340495857573"
      ],
      "text/plain": [
       "[1] 0.6353405"
      ]
     },
     "metadata": {},
     "output_type": "display_data"
    }
   ],
   "source": [
    "t1 <- dendlist(cf_d,wb_d)\n",
    "dend_intersected <- intersect_trees(t1[[1]],t1[[2]])\n",
    "\n",
    "d1 <- dend_intersected[[1]]\n",
    "d2 <- dend_intersected[[2]]\n",
    "\n",
    "cor_bakers_gamma(d1,d2)"
   ]
  },
  {
   "cell_type": "markdown",
   "id": "deae025b-4c4b-4821-81a6-34cdc59b8cd2",
   "metadata": {
    "tags": []
   },
   "source": [
    "---\n",
    "---\n",
    "---\n",
    "# Subsampling"
   ]
  },
  {
   "cell_type": "code",
   "execution_count": null,
   "id": "b17d85be-a90f-4fb7-bbad-a9f1b8dc2240",
   "metadata": {},
   "outputs": [],
   "source": [
    "get_hclust <- function(IDS,sig_genes,meta,ftcounts){\n",
    "    ANNOTATIONS <- c(\"Diagnosis\",\"severity\",'pcr_positive_MC_1yes','antibody_positive_MC_1yes','kd_like_MC_1yes','req_vasopressors_inotropes_MC_1yes')\n",
    "\n",
    "    if (is.null(meta$cfrna_file_id)) {meta$cfrna_file_id <- meta$SEQ_ID..UCSFonly.}\n",
    "    \n",
    "    metadata <- meta %>% \n",
    "    filter(cfrna_file_id %in% all_of(IDS)) %>%                                 ###\n",
    "    mutate(PTID_DATE = gsub(\"-\",\"\\\\.\",PTID_DATE)) %>%\n",
    "    column_to_rownames(var = \"cfrna_file_id\") %>%  \n",
    "    mutate(severity = ifelse(grepl(\"ontrol\",severity),NA,severity)) %>%\n",
    "    select(all_of(ANNOTATIONS))\n",
    "\n",
    "    colnames(metadata) <- c(\"Diagnosis\",\"Severity\",\"PCR\",\"Antibody\")\n",
    "\n",
    "    ###----------------------------------\n",
    "    ## Subset count matrix\n",
    "    mat <- data.frame(ftcounts) %>% \n",
    "            filter(row.names(ftcounts) %in% all_of(sig_genes)) %>% \n",
    "            select(all_of(rownames(metadata))) %>% \n",
    "            as.matrix()\n",
    "\n",
    "    mat <- t(scale(t(mat)))\n",
    "\n",
    "    ###----------------------------------\n",
    "    ## Perform clustering\n",
    "\n",
    "    h <- hclust(as.dist(1 - cor(mat, method = \"pearson\", use = 'pairwise.complete.obs')))\n",
    "    return(h)\n",
    "}"
   ]
  },
  {
   "cell_type": "code",
   "execution_count": 27,
   "id": "6fad5e3f-5e3a-4548-a53c-8caa1e3fc601",
   "metadata": {},
   "outputs": [],
   "source": [
    "make_hist <- function(cf_tmp_rds,wb_tmp_res,N=0){\n",
    "\n",
    "    ## Cell-free\n",
    "    IDS_cf <- colnames(cf_tmp_rds[['dds']])\n",
    "    \n",
    "    if (N>0){IDS_cf <- sample(IDS_cf,N)}\n",
    "    cf_pt_dates <- cf_meta %>% filter(cfrna_sample_id %in% all_of(IDS_cf)) %>% pull(PTID_DATE)\n",
    "    IDS_wb <- wb_meta %>% \n",
    "        filter(PTID_DATE %in% all_of(cf_pt_dates)) %>% \n",
    "        pull(SEQ_ID..UCSFonly.)\n",
    "    \n",
    "\n",
    "    sig_genes_cf <- data.frame(cf_tmp_rds[['res']]) %>% filter(padj < PVAL_THRESH & abs(log2FoldChange) > LOGFC_THRESH) %>% rownames()\n",
    "    cf_dendL = get_dend(IDS_cf,sig_genes_cf,cf_meta,cf_ftcounts)\n",
    "\n",
    "    #----------------------------------------\n",
    "    ## Whole blood\n",
    "    wb_tmp_res$ensmbl <- lapply(wb_tmp_res$gene,get_gene_id,annotation)\n",
    "\n",
    "\n",
    "    sig_genes_wb <- wb_tmp_res %>% filter(padj < PVAL_THRESH & abs(log2FoldChange) > LOGFC_THRESH) %>% pull(ensmbl)\n",
    "    wb_dendL = get_dend(IDS_wb,sig_genes_wb,wb_meta,wb_ftcounts)\n",
    "\n",
    "    \n",
    "    return(dendlist(cf_dendL,wb_dendL))\n",
    "    \n",
    "}\n",
    "\n",
    "\n",
    "make_tanglegram <- function(dend_ext_object){\n",
    "\n",
    "    #----------------------------------------\n",
    "    ## PLOT\n",
    "    PLOT <- dend_ext_object %>% \n",
    "    tanglegram(intersecting= TRUE,color_lines = FINAL_COLORS,\n",
    "                           margin_inner = 0.1,\n",
    "             highlight_branches_lwd = FALSE,\n",
    "             highlight_distinct_edges = FALSE,\n",
    "             lwd = 0.5,\n",
    "               edge.lwd = 0.8,\n",
    "             margin_top=0,\n",
    "             margin_bottom = 2) %>%\n",
    "    untangle(method = \"step1side\") \n",
    "    \n",
    "    return(PLOT)\n",
    "    \n",
    "}\n",
    "\n",
    "calc_bakers_gamma <- function(dend_ext_object){\n",
    "\n",
    "    dend_intersected <- intersect_trees(dend_ext_object[[1]], dend_ext_object[[2]])\n",
    "\n",
    "    d1 <- dend_intersected[[1]]\n",
    "    d2 <- dend_intersected[[2]]\n",
    "\n",
    "    cor_bakers_gamma(d1,d2)\n",
    "\n",
    "}\n",
    "\n"
   ]
  },
  {
   "cell_type": "code",
   "execution_count": 28,
   "id": "2a52a517-771a-416a-905b-b764c6080db1",
   "metadata": {},
   "outputs": [],
   "source": [
    "output_misc_covid <- c()\n",
    "output_misc_cntrl <- c()\n",
    "\n",
    "\n",
    "for (n in c(1:10)){\n",
    "\n",
    "    NUM_SAMP = 26\n",
    "\n",
    "    output <- make_hist(cf_misc_covid, wb_misc_covid, N=NUM_SAMP)\n",
    "    output_misc_covid <- c(output_misc_covid,calc_bakers_gamma(output))\n",
    "    \n",
    "    \n",
    "    output <- make_hist(cf_misc_cntrl, wb_misc_cntrl, N=NUM_SAMP)\n",
    "    output_misc_cntrl <- c(output_misc_cntrl,calc_bakers_gamma(output))\n",
    "\n",
    "}\n",
    "\n",
    "df <- data.frame(output_misc_covid, output_misc_cntrl)\n",
    "write.table(df, \"./simulation_bakers_gamma.tsv\",sep=\"\\t\",row.names=FALSE)"
   ]
  },
  {
   "cell_type": "code",
   "execution_count": 29,
   "id": "cac3e650-83b1-4048-b9ea-d9f3e8ea91a9",
   "metadata": {},
   "outputs": [],
   "source": [
    "write.table(df, \"./simulation_bakers_gamma.tsv\",sep=\"\\t\",row.names=FALSE)"
   ]
  },
  {
   "cell_type": "markdown",
   "id": "d233dc97-acbd-4323-a7bd-33768a7fc299",
   "metadata": {},
   "source": [
    "---\n",
    "---"
   ]
  },
  {
   "cell_type": "code",
   "execution_count": 5,
   "id": "bd1b2d2b-4e78-4159-89d0-1bf5b0cbf99e",
   "metadata": {},
   "outputs": [
    {
     "name": "stderr",
     "output_type": "stream",
     "text": [
      "No id variables; using all as measure variables\n",
      "\n"
     ]
    },
    {
     "data": {
      "text/html": [
       "<table class=\"dataframe\">\n",
       "<caption>A data.frame: 6 × 2</caption>\n",
       "<thead>\n",
       "\t<tr><th></th><th scope=col>variable</th><th scope=col>value</th></tr>\n",
       "\t<tr><th></th><th scope=col>&lt;fct&gt;</th><th scope=col>&lt;dbl&gt;</th></tr>\n",
       "</thead>\n",
       "<tbody>\n",
       "\t<tr><th scope=row>1</th><td>MIS-C_vs_COVID-19</td><td>0.14523997</td></tr>\n",
       "\t<tr><th scope=row>2</th><td>MIS-C_vs_COVID-19</td><td>0.05259711</td></tr>\n",
       "\t<tr><th scope=row>3</th><td>MIS-C_vs_COVID-19</td><td>0.22193138</td></tr>\n",
       "\t<tr><th scope=row>4</th><td>MIS-C_vs_COVID-19</td><td>0.62871180</td></tr>\n",
       "\t<tr><th scope=row>5</th><td>MIS-C_vs_COVID-19</td><td>0.04925115</td></tr>\n",
       "\t<tr><th scope=row>6</th><td>MIS-C_vs_COVID-19</td><td>0.19557530</td></tr>\n",
       "</tbody>\n",
       "</table>\n"
      ],
      "text/latex": [
       "A data.frame: 6 × 2\n",
       "\\begin{tabular}{r|ll}\n",
       "  & variable & value\\\\\n",
       "  & <fct> & <dbl>\\\\\n",
       "\\hline\n",
       "\t1 & MIS-C\\_vs\\_COVID-19 & 0.14523997\\\\\n",
       "\t2 & MIS-C\\_vs\\_COVID-19 & 0.05259711\\\\\n",
       "\t3 & MIS-C\\_vs\\_COVID-19 & 0.22193138\\\\\n",
       "\t4 & MIS-C\\_vs\\_COVID-19 & 0.62871180\\\\\n",
       "\t5 & MIS-C\\_vs\\_COVID-19 & 0.04925115\\\\\n",
       "\t6 & MIS-C\\_vs\\_COVID-19 & 0.19557530\\\\\n",
       "\\end{tabular}\n"
      ],
      "text/markdown": [
       "\n",
       "A data.frame: 6 × 2\n",
       "\n",
       "| <!--/--> | variable &lt;fct&gt; | value &lt;dbl&gt; |\n",
       "|---|---|---|\n",
       "| 1 | MIS-C_vs_COVID-19 | 0.14523997 |\n",
       "| 2 | MIS-C_vs_COVID-19 | 0.05259711 |\n",
       "| 3 | MIS-C_vs_COVID-19 | 0.22193138 |\n",
       "| 4 | MIS-C_vs_COVID-19 | 0.62871180 |\n",
       "| 5 | MIS-C_vs_COVID-19 | 0.04925115 |\n",
       "| 6 | MIS-C_vs_COVID-19 | 0.19557530 |\n",
       "\n"
      ],
      "text/plain": [
       "  variable          value     \n",
       "1 MIS-C_vs_COVID-19 0.14523997\n",
       "2 MIS-C_vs_COVID-19 0.05259711\n",
       "3 MIS-C_vs_COVID-19 0.22193138\n",
       "4 MIS-C_vs_COVID-19 0.62871180\n",
       "5 MIS-C_vs_COVID-19 0.04925115\n",
       "6 MIS-C_vs_COVID-19 0.19557530"
      ]
     },
     "metadata": {},
     "output_type": "display_data"
    }
   ],
   "source": [
    "sim_df <- read.delim(\"./simulation_bakers_gamma.tsv\")\n",
    "colnames(sim_df) <- c(\"MIS-C_vs_COVID-19\",\"MIS-C_vs_Control\")\n",
    "sim_df_m <- melt(sim_df)\n",
    "sim_df_m %>% head()"
   ]
  },
  {
   "cell_type": "code",
   "execution_count": 8,
   "id": "5c6833b1-caa2-4b00-98fe-95ee2d516604",
   "metadata": {},
   "outputs": [
    {
     "data": {
      "text/html": [
       "<table class=\"dataframe\">\n",
       "<caption>A data.frame: 6 × 2</caption>\n",
       "<thead>\n",
       "\t<tr><th></th><th scope=col>MIS-C_vs_COVID-19</th><th scope=col>MIS-C_vs_Control</th></tr>\n",
       "\t<tr><th></th><th scope=col>&lt;dbl&gt;</th><th scope=col>&lt;dbl&gt;</th></tr>\n",
       "</thead>\n",
       "<tbody>\n",
       "\t<tr><th scope=row>1</th><td>0.14523997</td><td>0.6145611</td></tr>\n",
       "\t<tr><th scope=row>2</th><td>0.05259711</td><td>0.3419511</td></tr>\n",
       "\t<tr><th scope=row>3</th><td>0.22193138</td><td>0.7096079</td></tr>\n",
       "\t<tr><th scope=row>4</th><td>0.62871180</td><td>0.1779282</td></tr>\n",
       "\t<tr><th scope=row>5</th><td>0.04925115</td><td>0.5802399</td></tr>\n",
       "\t<tr><th scope=row>6</th><td>0.19557530</td><td>0.6074346</td></tr>\n",
       "</tbody>\n",
       "</table>\n"
      ],
      "text/latex": [
       "A data.frame: 6 × 2\n",
       "\\begin{tabular}{r|ll}\n",
       "  & MIS-C\\_vs\\_COVID-19 & MIS-C\\_vs\\_Control\\\\\n",
       "  & <dbl> & <dbl>\\\\\n",
       "\\hline\n",
       "\t1 & 0.14523997 & 0.6145611\\\\\n",
       "\t2 & 0.05259711 & 0.3419511\\\\\n",
       "\t3 & 0.22193138 & 0.7096079\\\\\n",
       "\t4 & 0.62871180 & 0.1779282\\\\\n",
       "\t5 & 0.04925115 & 0.5802399\\\\\n",
       "\t6 & 0.19557530 & 0.6074346\\\\\n",
       "\\end{tabular}\n"
      ],
      "text/markdown": [
       "\n",
       "A data.frame: 6 × 2\n",
       "\n",
       "| <!--/--> | MIS-C_vs_COVID-19 &lt;dbl&gt; | MIS-C_vs_Control &lt;dbl&gt; |\n",
       "|---|---|---|\n",
       "| 1 | 0.14523997 | 0.6145611 |\n",
       "| 2 | 0.05259711 | 0.3419511 |\n",
       "| 3 | 0.22193138 | 0.7096079 |\n",
       "| 4 | 0.62871180 | 0.1779282 |\n",
       "| 5 | 0.04925115 | 0.5802399 |\n",
       "| 6 | 0.19557530 | 0.6074346 |\n",
       "\n"
      ],
      "text/plain": [
       "  MIS-C_vs_COVID-19 MIS-C_vs_Control\n",
       "1 0.14523997        0.6145611       \n",
       "2 0.05259711        0.3419511       \n",
       "3 0.22193138        0.7096079       \n",
       "4 0.62871180        0.1779282       \n",
       "5 0.04925115        0.5802399       \n",
       "6 0.19557530        0.6074346       "
      ]
     },
     "metadata": {},
     "output_type": "display_data"
    }
   ],
   "source": [
    "sim_df %>% head()"
   ]
  },
  {
   "cell_type": "code",
   "execution_count": 9,
   "id": "d6a245a7-0c08-4e50-a770-e41378436c5b",
   "metadata": {},
   "outputs": [],
   "source": [
    "source(\"~//theme_alex.R\")"
   ]
  },
  {
   "cell_type": "code",
   "execution_count": 12,
   "id": "47184fbe-c71d-454f-9ff6-bf400b4d21d0",
   "metadata": {},
   "outputs": [
    {
     "data": {
      "text/html": [
       "<strong>png:</strong> 2"
      ],
      "text/latex": [
       "\\textbf{png:} 2"
      ],
      "text/markdown": [
       "**png:** 2"
      ],
      "text/plain": [
       "png \n",
       "  2 "
      ]
     },
     "metadata": {},
     "output_type": "display_data"
    }
   ],
   "source": [
    "pdf(file=\"plots/entangle_simulations.pdf\",\n",
    "        width=1.8,height=1.6, paper=\"special\", bg=\"white\",\n",
    "        fonts=\"Helvetica\", colormodel = \"srgb\", pointsize=6, useDingbats = FALSE)\n",
    "\n",
    "sim_df_m %>% \n",
    "    ggplot(aes(x=value,color=variable,fill=variable)) + \n",
    "    geom_density(alpha = 0.2) +\n",
    "    geom_vline(xintercept=0.8450, color = \"dark green\", lty=2) + \n",
    "    theme_alex() + theme(legend.position = \"none\")\n",
    "\n",
    "dev.off()"
   ]
  },
  {
   "cell_type": "code",
   "execution_count": 6,
   "id": "67db914e-0108-46a0-ad15-b14132a9a1b7",
   "metadata": {},
   "outputs": [
    {
     "data": {
      "text/plain": [
       "    Min.  1st Qu.   Median     Mean  3rd Qu.     Max. \n",
       "-0.02331  0.21145  0.38209  0.40227  0.58034  0.98193 "
      ]
     },
     "metadata": {},
     "output_type": "display_data"
    }
   ],
   "source": [
    "summary(sim_df_m$value)"
   ]
  },
  {
   "cell_type": "code",
   "execution_count": 7,
   "id": "4349c3fe-f333-4f05-8952-e6d92281e11a",
   "metadata": {},
   "outputs": [
    {
     "data": {
      "image/png": "[encoded data removed]",
      "text/plain": [
       "plot without title"
      ]
     },
     "metadata": {
      "image/png": {
       "height": 420,
       "width": 420
      }
     },
     "output_type": "display_data"
    }
   ],
   "source": [
    "sim_df_m %>% \n",
    "    ggplot(aes(x=value,color=variable,fill=variable)) + \n",
    "    geom_density(alpha = 0.2) "
   ]
  },
  {
   "cell_type": "code",
   "execution_count": null,
   "id": "f1792ba7-d16f-4171-825a-b45da0b32286",
   "metadata": {},
   "outputs": [],
   "source": []
  }
 ],
 "metadata": {
  "kernelspec": {
   "display_name": "R",
   "language": "R",
   "name": "ir"
  },
  "language_info": {
   "codemirror_mode": "r",
   "file_extension": ".r",
   "mimetype": "text/x-r-source",
   "name": "R",
   "pygments_lexer": "r",
   "version": "4.1.1"
  }
 },
 "nbformat": 4,
 "nbformat_minor": 5
}
