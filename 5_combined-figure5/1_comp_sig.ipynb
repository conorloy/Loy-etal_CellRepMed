{
 "cells": [
  {
   "cell_type": "code",
   "execution_count": 1,
   "id": "a2b88779-1a22-460e-98ed-eaafebe871b5",
   "metadata": {
    "vscode": {
     "languageId": "r"
    }
   },
   "outputs": [
    {
     "name": "stderr",
     "output_type": "stream",
     "text": [
      "── \u001b[1mAttaching packages\u001b[22m ────────────────────────────────────────────────────────────────────────────────────────────────────────────────────────────────────────────────────── tidyverse 1.3.1 ──\n",
      "\n",
      "\u001b[32m✔\u001b[39m \u001b[34mggplot2\u001b[39m 3.3.6     \u001b[32m✔\u001b[39m \u001b[34mpurrr  \u001b[39m 0.3.4\n",
      "\u001b[32m✔\u001b[39m \u001b[34mtibble \u001b[39m 3.1.7     \u001b[32m✔\u001b[39m \u001b[34mdplyr  \u001b[39m 1.0.8\n",
      "\u001b[32m✔\u001b[39m \u001b[34mtidyr  \u001b[39m 1.2.0     \u001b[32m✔\u001b[39m \u001b[34mstringr\u001b[39m 1.4.0\n",
      "\u001b[32m✔\u001b[39m \u001b[34mreadr  \u001b[39m 2.1.2     \u001b[32m✔\u001b[39m \u001b[34mforcats\u001b[39m 0.5.1\n",
      "\n",
      "── \u001b[1mConflicts\u001b[22m ───────────────────────────────────────────────────────────────────────────────────────────────────────────────────────────────────────────────────────── tidyverse_conflicts() ──\n",
      "\u001b[31m✖\u001b[39m \u001b[34mdplyr\u001b[39m::\u001b[32mfilter()\u001b[39m masks \u001b[34mstats\u001b[39m::filter()\n",
      "\u001b[31m✖\u001b[39m \u001b[34mdplyr\u001b[39m::\u001b[32mlag()\u001b[39m    masks \u001b[34mstats\u001b[39m::lag()\n",
      "\n",
      "Loading required package: grid\n",
      "\n",
      "Loading required package: futile.logger\n",
      "\n"
     ]
    }
   ],
   "source": [
    "library(tidyverse)\n",
    "library(\"VennDiagram\")\n",
    "library(eulerr)\n",
    "\n",
    "PVAL_THRESH = 0.05\n",
    "FC_THRESH = 1"
   ]
  },
  {
   "cell_type": "code",
   "execution_count": 2,
   "id": "1371c5e9-3cbc-40fe-a2bc-1071331c8150",
   "metadata": {
    "vscode": {
     "languageId": "r"
    }
   },
   "outputs": [],
   "source": [
    "# cf_covid_cntrl <- readRDS(\"../../1_cfRNA/DAA/comparisons_to_controls_ftcount/2_ALL-results.rds\")\n",
    "# cf_misc_cntrl <- readRDS(\"../../1_cfRNA/DAA/comparisons_to_controls_ftcount/3_ALL-results.rds\")\n",
    "# cf_misc_covid <- readRDS(\"../../1_cfRNA/DAA/comparisons_to_controls_ftcount/5_ALL-results.rds\")\n",
    "\n",
    "cf_covid_cntrl <- read.delim(\"./subset_CF/tables/cf_covid-cntrl_paired_DESeq.tsv\")\n",
    "cf_misc_cntrl <- read.delim(\"./subset_CF/tables/cf_misc-cntrl_paired_DESeq.tsv\")\n",
    "cf_misc_covid <- read.delim(\"./subset_CF/tables/cf_misc-covid_paired_DESeq.tsv\")\n",
    "\n",
    "wb_covid_cntrl <- read.delim(\"./subset_WB/tables/wb_covid-cntrl_paired_DESeq.tsv\") %>% mutate(gene_name = gsub(\".*_\",\"\",GeneID))\n",
    "wb_misc_cntrl <- read.delim(\"./subset_WB/tables/wb_misc-cntrl_paired_DESeq.tsv\") %>% mutate(gene_name = gsub(\".*_\",\"\",GeneID))\n",
    "wb_misc_covid <- read.delim(\"./subset_WB/tables/wb_misc-covid_paired_DESeq.tsv\") %>% mutate(gene_name = gsub(\".*_\",\"\",GeneID))"
   ]
  },
  {
   "cell_type": "markdown",
   "id": "f98f88ad-5221-4d78-a3e0-15146e49c7e9",
   "metadata": {},
   "source": [
    "#### COVID VS CONTROL"
   ]
  },
  {
   "cell_type": "code",
   "execution_count": 4,
   "id": "61374bd3-9583-4258-8cb5-7b94d94d2027",
   "metadata": {
    "vscode": {
     "languageId": "r"
    }
   },
   "outputs": [],
   "source": [
    "WIDTH = 0.75\n",
    "HEIGHT = 0.75"
   ]
  },
  {
   "cell_type": "code",
   "execution_count": 5,
   "id": "c146be24-3042-45be-9587-83a9a0e8a9d3",
   "metadata": {
    "tags": [],
    "vscode": {
     "languageId": "r"
    }
   },
   "outputs": [
    {
     "data": {
      "text/html": [
       "<strong>png:</strong> 2"
      ],
      "text/latex": [
       "\\textbf{png:} 2"
      ],
      "text/markdown": [
       "**png:** 2"
      ],
      "text/plain": [
       "png \n",
       "  2 "
      ]
     },
     "metadata": {},
     "output_type": "display_data"
    },
    {
     "data": {
      "text/html": [
       "<strong>png:</strong> 2"
      ],
      "text/latex": [
       "\\textbf{png:} 2"
      ],
      "text/markdown": [
       "**png:** 2"
      ],
      "text/plain": [
       "png \n",
       "  2 "
      ]
     },
     "metadata": {},
     "output_type": "display_data"
    }
   ],
   "source": [
    "cf_covid_cntrl_up <- cf_covid_cntrl %>% filter(padj < PVAL_THRESH) %>% filter(log2FoldChange > FC_THRESH) %>% pull(gene_name) %>% unique()\n",
    "wb_covid_cntrl_up <- wb_covid_cntrl %>% filter(padj < PVAL_THRESH) %>% filter(log2FoldChange > FC_THRESH) %>% pull(gene_name) %>% unique()\n",
    "\n",
    "\n",
    "cf_covid_cntrl_down <- cf_covid_cntrl %>% filter(padj < PVAL_THRESH) %>% filter(log2FoldChange < -FC_THRESH) %>% pull(gene_name) %>% unique()\n",
    "wb_covid_cntrl_down <- wb_covid_cntrl %>% filter(padj < PVAL_THRESH) %>% filter(log2FoldChange < -FC_THRESH) %>% pull(gene_name) %>% unique()\n",
    "\n",
    "\n",
    "\n",
    "pdf(file=paste0(\"./plots/panelB_covid-control-up.pdf\"),\n",
    "        width=WIDTH,height=HEIGHT, paper=\"special\", bg=\"white\",\n",
    "        fonts=\"Helvetica\", colormodel = \"srgb\", pointsize=6, useDingbats = FALSE)\n",
    "\n",
    "s2 <- list(\"Cell-Free up\"=cf_covid_cntrl_up,\n",
    "           \"Whole Blood up\"=wb_covid_cntrl_up)\n",
    "\n",
    "plot(euler(s2),\n",
    "     fills = c(\"#CD4254\", \"#CD4254\"),\n",
    "     edges = T,\n",
    "     labels = list(cex = .25),\n",
    "     quantities = list(cex = .5),\n",
    "     lty = 1:2)\n",
    "\n",
    "dev.off()\n",
    "\n",
    "\n",
    "pdf(file=paste0(\"./plots/panelB_covid-control-down.pdf\"),\n",
    "        width=WIDTH,height=HEIGHT, paper=\"special\", bg=\"white\",\n",
    "        fonts=\"Helvetica\", colormodel = \"srgb\", pointsize=6, useDingbats = FALSE)\n",
    "\n",
    "s2 <- list(\"Cell-Free down\"=cf_covid_cntrl_down,\n",
    "          \"Whole Blood down\"=wb_covid_cntrl_down)\n",
    "\n",
    "plot(euler(s2),\n",
    "     fills = c(\"#FBE77C\",\"#FBE77C\"),\n",
    "     edges = T,\n",
    "     labels = list(cex = .25),\n",
    "     quantities = list(cex = .5),\n",
    "     lty = 1:2)\n",
    "\n",
    "dev.off()\n"
   ]
  },
  {
   "cell_type": "markdown",
   "id": "bd1ed00f-7d70-4ca5-90d6-dc15df7b9fbc",
   "metadata": {},
   "source": [
    "#### MISC VS CONTROL"
   ]
  },
  {
   "cell_type": "code",
   "execution_count": 6,
   "id": "c54bf327-231f-485a-bd69-de43ec99d256",
   "metadata": {
    "vscode": {
     "languageId": "r"
    }
   },
   "outputs": [
    {
     "data": {
      "text/html": [
       "<strong>png:</strong> 2"
      ],
      "text/latex": [
       "\\textbf{png:} 2"
      ],
      "text/markdown": [
       "**png:** 2"
      ],
      "text/plain": [
       "png \n",
       "  2 "
      ]
     },
     "metadata": {},
     "output_type": "display_data"
    },
    {
     "data": {
      "text/html": [
       "<strong>png:</strong> 2"
      ],
      "text/latex": [
       "\\textbf{png:} 2"
      ],
      "text/markdown": [
       "**png:** 2"
      ],
      "text/plain": [
       "png \n",
       "  2 "
      ]
     },
     "metadata": {},
     "output_type": "display_data"
    }
   ],
   "source": [
    "cf_misc_cntrl_up <- cf_misc_cntrl %>% filter(padj < PVAL_THRESH) %>% filter(log2FoldChange > FC_THRESH) %>% pull(gene_name)%>% unique()\n",
    "wb_misc_cntrl_up <- wb_misc_cntrl %>% filter(padj < PVAL_THRESH) %>% filter(log2FoldChange > FC_THRESH) %>% pull(gene_name)%>% unique()\n",
    "\n",
    "\n",
    "cf_misc_cntrl_down <- cf_misc_cntrl %>% filter(padj < PVAL_THRESH) %>% filter(log2FoldChange < -FC_THRESH) %>% pull(gene_name) %>% unique()\n",
    "wb_misc_cntrl_down <- wb_misc_cntrl %>% filter(padj < PVAL_THRESH) %>% filter(log2FoldChange < -FC_THRESH) %>% pull(gene_name)%>% unique()\n",
    "\n",
    "s2 <- list(\"Cell-Free up\"=cf_misc_cntrl_up,\n",
    "           \"Whole Blood up\"=wb_misc_cntrl_up,\n",
    "          \"Cell-Free down\"=cf_misc_cntrl_down,\n",
    "          \"Whole Blood down\"=wb_misc_cntrl_down)\n",
    "\n",
    "\n",
    "\n",
    "pdf(file=paste0(\"./plots/panelB_misc-control-up.pdf\"),\n",
    "        width=WIDTH,height=HEIGHT, paper=\"special\", bg=\"white\",\n",
    "        fonts=\"Helvetica\", colormodel = \"srgb\", pointsize=6, useDingbats = FALSE)\n",
    "\n",
    "s2 <- list(\"Cell-Free up\"=cf_misc_cntrl_up,\n",
    "           \"Whole Blood up\"=wb_misc_cntrl_up)\n",
    "\n",
    "plot(euler(s2),\n",
    "     fills = c(\"#5CB2EB\", \"#5CB2EB\"),\n",
    "     edges = T,\n",
    "     labels = list(cex = .25),\n",
    "     quantities = list(cex = .5),\n",
    "     lty = 1:2)\n",
    "\n",
    "dev.off()\n",
    "\n",
    "\n",
    "pdf(file=paste0(\"./plots/panelB_misc-control-down.pdf\"),\n",
    "        width=WIDTH,height=HEIGHT, paper=\"special\", bg=\"white\",\n",
    "        fonts=\"Helvetica\", colormodel = \"srgb\", pointsize=6, useDingbats = FALSE)\n",
    "\n",
    "s2 <- list(\"Cell-Free down\"=cf_misc_cntrl_down,\n",
    "          \"Whole Blood down\"=wb_misc_cntrl_down)\n",
    "\n",
    "plot(euler(s2),\n",
    "     fills = c( \"#FBE77C\",\"#FBE77C\" ),\n",
    "     edges = T,\n",
    "     labels = list(cex = .25),\n",
    "     quantities = list(cex = .5),\n",
    "     lty = 1:2)\n",
    "\n",
    "dev.off()\n"
   ]
  },
  {
   "cell_type": "markdown",
   "id": "7e2529b9-1cc5-4037-ad1a-8110a257862b",
   "metadata": {},
   "source": [
    "#### MISC VS COVID"
   ]
  },
  {
   "cell_type": "code",
   "execution_count": 5,
   "id": "427a19fb-6e26-4cbb-9e99-c4061883cbdc",
   "metadata": {
    "vscode": {
     "languageId": "r"
    }
   },
   "outputs": [
    {
     "data": {
      "text/html": [
       "<strong>png:</strong> 2"
      ],
      "text/latex": [
       "\\textbf{png:} 2"
      ],
      "text/markdown": [
       "**png:** 2"
      ],
      "text/plain": [
       "png \n",
       "  2 "
      ]
     },
     "metadata": {},
     "output_type": "display_data"
    },
    {
     "data": {
      "text/html": [
       "<strong>png:</strong> 2"
      ],
      "text/latex": [
       "\\textbf{png:} 2"
      ],
      "text/markdown": [
       "**png:** 2"
      ],
      "text/plain": [
       "png \n",
       "  2 "
      ]
     },
     "metadata": {},
     "output_type": "display_data"
    }
   ],
   "source": [
    "cf_misc_covid_up <- cf_misc_covid %>% filter(padj < PVAL_THRESH) %>% filter(log2FoldChange > FC_THRESH) %>% pull(gene_name)%>% unique()\n",
    "wb_misc_covid_up <- wb_misc_covid %>% filter(padj < PVAL_THRESH) %>% filter(log2FoldChange > FC_THRESH) %>% pull(gene_name)%>% unique()\n",
    "\n",
    "\n",
    "cf_misc_covid_down <- cf_misc_covid %>% filter(padj < PVAL_THRESH) %>% filter(log2FoldChange < -FC_THRESH) %>% pull(gene_name) %>% unique()\n",
    "wb_misc_covid_down <- wb_misc_covid %>% filter(padj < PVAL_THRESH) %>% filter(log2FoldChange < -FC_THRESH) %>% pull(gene_name)%>% unique()\n",
    "\n",
    "s2 <- list(\"Cell-Free up\"=cf_misc_covid_up,\n",
    "           \"Whole Blood up\"=wb_misc_covid_up,\n",
    "          \"Cell-Free down\"=cf_misc_covid_down,\n",
    "          \"Whole Blood down\"=wb_misc_covid_down)\n",
    "\n",
    "\n",
    "pdf(file=paste0(\"./plots/panelB_misc-covid-up.pdf\"),\n",
    "        width=WIDTH,height=HEIGHT, paper=\"special\", bg=\"white\",\n",
    "        fonts=\"Helvetica\", colormodel = \"srgb\", pointsize=6, useDingbats = FALSE)\n",
    "\n",
    "\n",
    "s2 <- list(\"Cell-Free up\"=cf_misc_covid_up,\n",
    "           \"Whole Blood up\"=wb_misc_covid_up)\n",
    "\n",
    "plot(euler(s2),\n",
    "     fills = c(\"#5CB2EB\",\"#5CB2EB\"),\n",
    "     edges = T,\n",
    "     labels = list(cex = .25),\n",
    "     quantities = list(cex = .5),\n",
    "     lty = 1:2)\n",
    "\n",
    "dev.off()\n",
    "\n",
    "\n",
    "pdf(file=paste0(\"./plots/panelB_misc-covid-down.pdf\"),\n",
    "        width=WIDTH,height=HEIGHT, paper=\"special\", bg=\"white\",\n",
    "        fonts=\"Helvetica\", colormodel = \"srgb\", pointsize=6, useDingbats = FALSE)\n",
    "\n",
    "\n",
    "s2 <- list(\"Cell-Free down\"=cf_misc_covid_down,\n",
    "          \"Whole Blood down\"=wb_misc_covid_down)\n",
    "\n",
    "plot(euler(s2),\n",
    "     fills = c(\"#F0484E\",\"#F0484E\" ),\n",
    "     edges = T,\n",
    "     labels = list(cex = .25),\n",
    "     quantities = list(cex = .5),\n",
    "     lty = 1:2)\n",
    "\n",
    "dev.off()"
   ]
  },
  {
   "cell_type": "code",
   "execution_count": 8,
   "id": "b22e7fde-6d0d-4e1b-8df3-ab384900bbe2",
   "metadata": {
    "vscode": {
     "languageId": "r"
    }
   },
   "outputs": [
    {
     "data": {
      "text/html": [
       "<style>\n",
       ".list-inline {list-style: none; margin:0; padding: 0}\n",
       ".list-inline>li {display: inline-block}\n",
       ".list-inline>li:not(:last-child)::after {content: \"\\00b7\"; padding: 0 .5ex}\n",
       "</style>\n",
       "<ol class=list-inline><li>'IFI6'</li><li>'IFI44L'</li><li>'IFI44'</li><li>'H2BC19P'</li><li>'RSAD2'</li><li>'TNFSF10'</li><li>'OR2B6'</li><li>'LY6E'</li><li>'IFIT2'</li><li>'IFIT1'</li><li>'DCLRE1A'</li><li>'OAS1'</li><li>'OAS2'</li><li>'EPSTI1'</li><li>'IFI27'</li><li>'XAF1'</li><li>'CD300E'</li><li>'ZNF542P'</li><li>'MAP3K7CL'</li><li>'MX1'</li></ol>\n"
      ],
      "text/latex": [
       "\\begin{enumerate*}\n",
       "\\item 'IFI6'\n",
       "\\item 'IFI44L'\n",
       "\\item 'IFI44'\n",
       "\\item 'H2BC19P'\n",
       "\\item 'RSAD2'\n",
       "\\item 'TNFSF10'\n",
       "\\item 'OR2B6'\n",
       "\\item 'LY6E'\n",
       "\\item 'IFIT2'\n",
       "\\item 'IFIT1'\n",
       "\\item 'DCLRE1A'\n",
       "\\item 'OAS1'\n",
       "\\item 'OAS2'\n",
       "\\item 'EPSTI1'\n",
       "\\item 'IFI27'\n",
       "\\item 'XAF1'\n",
       "\\item 'CD300E'\n",
       "\\item 'ZNF542P'\n",
       "\\item 'MAP3K7CL'\n",
       "\\item 'MX1'\n",
       "\\end{enumerate*}\n"
      ],
      "text/markdown": [
       "1. 'IFI6'\n",
       "2. 'IFI44L'\n",
       "3. 'IFI44'\n",
       "4. 'H2BC19P'\n",
       "5. 'RSAD2'\n",
       "6. 'TNFSF10'\n",
       "7. 'OR2B6'\n",
       "8. 'LY6E'\n",
       "9. 'IFIT2'\n",
       "10. 'IFIT1'\n",
       "11. 'DCLRE1A'\n",
       "12. 'OAS1'\n",
       "13. 'OAS2'\n",
       "14. 'EPSTI1'\n",
       "15. 'IFI27'\n",
       "16. 'XAF1'\n",
       "17. 'CD300E'\n",
       "18. 'ZNF542P'\n",
       "19. 'MAP3K7CL'\n",
       "20. 'MX1'\n",
       "\n",
       "\n"
      ],
      "text/plain": [
       " [1] \"IFI6\"     \"IFI44L\"   \"IFI44\"    \"H2BC19P\"  \"RSAD2\"    \"TNFSF10\" \n",
       " [7] \"OR2B6\"    \"LY6E\"     \"IFIT2\"    \"IFIT1\"    \"DCLRE1A\"  \"OAS1\"    \n",
       "[13] \"OAS2\"     \"EPSTI1\"   \"IFI27\"    \"XAF1\"     \"CD300E\"   \"ZNF542P\" \n",
       "[19] \"MAP3K7CL\" \"MX1\"     "
      ]
     },
     "metadata": {},
     "output_type": "display_data"
    }
   ],
   "source": [
    "intersect(cf_misc_covid_down,wb_misc_covid_down)"
   ]
  },
  {
   "cell_type": "code",
   "execution_count": 9,
   "id": "a8b86e8e-9406-49e8-b690-3b180fec9054",
   "metadata": {
    "vscode": {
     "languageId": "r"
    }
   },
   "outputs": [
    {
     "data": {
      "text/html": [
       "<style>\n",
       ".list-inline {list-style: none; margin:0; padding: 0}\n",
       ".list-inline>li {display: inline-block}\n",
       ".list-inline>li:not(:last-child)::after {content: \"\\00b7\"; padding: 0 .5ex}\n",
       "</style>\n",
       "<ol class=list-inline><li>'RNF144B'</li><li>'CTA-392E5.2'</li><li>'CD59'</li><li>'WFDC1'</li><li>'CD177'</li><li>'ETS2'</li></ol>\n"
      ],
      "text/latex": [
       "\\begin{enumerate*}\n",
       "\\item 'RNF144B'\n",
       "\\item 'CTA-392E5.2'\n",
       "\\item 'CD59'\n",
       "\\item 'WFDC1'\n",
       "\\item 'CD177'\n",
       "\\item 'ETS2'\n",
       "\\end{enumerate*}\n"
      ],
      "text/markdown": [
       "1. 'RNF144B'\n",
       "2. 'CTA-392E5.2'\n",
       "3. 'CD59'\n",
       "4. 'WFDC1'\n",
       "5. 'CD177'\n",
       "6. 'ETS2'\n",
       "\n",
       "\n"
      ],
      "text/plain": [
       "[1] \"RNF144B\"     \"CTA-392E5.2\" \"CD59\"        \"WFDC1\"       \"CD177\"      \n",
       "[6] \"ETS2\"       "
      ]
     },
     "metadata": {},
     "output_type": "display_data"
    }
   ],
   "source": [
    "intersect(cf_misc_covid_up,wb_misc_covid_up)"
   ]
  },
  {
   "cell_type": "code",
   "execution_count": null,
   "id": "bc1f2479-f89f-4f35-967a-947865d41b0f",
   "metadata": {
    "vscode": {
     "languageId": "r"
    }
   },
   "outputs": [],
   "source": []
  }
 ],
 "metadata": {
  "kernelspec": {
   "display_name": "R",
   "language": "R",
   "name": "ir"
  },
  "language_info": {
   "codemirror_mode": "r",
   "file_extension": ".r",
   "mimetype": "text/x-r-source",
   "name": "R",
   "pygments_lexer": "r",
   "version": "4.1.1"
  }
 },
 "nbformat": 4,
 "nbformat_minor": 5
}
