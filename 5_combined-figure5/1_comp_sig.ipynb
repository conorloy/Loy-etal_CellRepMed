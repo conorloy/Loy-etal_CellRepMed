{
 "cells": [
  {
   "cell_type": "code",
   "execution_count": 8,
   "id": "a2b88779-1a22-460e-98ed-eaafebe871b5",
   "metadata": {},
   "outputs": [],
   "source": [
    "library(tidyverse)\n",
    "library(\"VennDiagram\")\n",
    "library(eulerr)\n",
    "\n",
    "PVAL_THRESH = 0.05\n",
    "FC_THRESH = 1"
   ]
  },
  {
   "cell_type": "code",
   "execution_count": 9,
   "id": "1371c5e9-3cbc-40fe-a2bc-1071331c8150",
   "metadata": {},
   "outputs": [],
   "source": [
    "# cf_covid_cntrl <- readRDS(\"../../1_cfRNA/DAA/comparisons_to_controls_ftcount/2_ALL-results.rds\")\n",
    "# cf_misc_cntrl <- readRDS(\"../../1_cfRNA/DAA/comparisons_to_controls_ftcount/3_ALL-results.rds\")\n",
    "# cf_misc_covid <- readRDS(\"../../1_cfRNA/DAA/comparisons_to_controls_ftcount/5_ALL-results.rds\")\n",
    "\n",
    "cf_covid_cntrl <- data.frame(readRDS(\"./subset_CF/2_ALL-results.rds\")[['res']])\n",
    "cf_misc_cntrl <- data.frame(readRDS(\"./subset_CF/3_ALL-results.rds\")[['res']])\n",
    "cf_misc_covid <- data.frame(readRDS(\"./subset_CF/5_ALL-results.rds\")[['res']])\n",
    "\n",
    "wb_covid_cntrl <- read.delim(\"./subset_WB/paired_wb_covid_ctrls.txt\")\n",
    "wb_misc_cntrl <- read.delim(\"./subset_WB/paired_wb_misc_ctrls.txt\")\n",
    "wb_misc_covid <- read.delim(\"./subset_WB/paired_wb_misc_covid.txt\")"
   ]
  },
  {
   "cell_type": "markdown",
   "id": "f98f88ad-5221-4d78-a3e0-15146e49c7e9",
   "metadata": {},
   "source": [
    "#### COVID VS CONTROL"
   ]
  },
  {
   "cell_type": "code",
   "execution_count": 6,
   "id": "61374bd3-9583-4258-8cb5-7b94d94d2027",
   "metadata": {},
   "outputs": [],
   "source": [
    "WIDTH = 0.75\n",
    "HEIGHT = 0.75"
   ]
  },
  {
   "cell_type": "code",
   "execution_count": 10,
   "id": "c146be24-3042-45be-9587-83a9a0e8a9d3",
   "metadata": {
    "tags": []
   },
   "outputs": [
    {
     "data": {
      "text/html": [
       "<strong>png:</strong> 2"
      ],
      "text/latex": [
       "\\textbf{png:} 2"
      ],
      "text/markdown": [
       "**png:** 2"
      ],
      "text/plain": [
       "png \n",
       "  2 "
      ]
     },
     "metadata": {},
     "output_type": "display_data"
    },
    {
     "data": {
      "text/html": [
       "<strong>png:</strong> 2"
      ],
      "text/latex": [
       "\\textbf{png:} 2"
      ],
      "text/markdown": [
       "**png:** 2"
      ],
      "text/plain": [
       "png \n",
       "  2 "
      ]
     },
     "metadata": {},
     "output_type": "display_data"
    }
   ],
   "source": [
    "cf_covid_cntrl_up <- cf_covid_cntrl %>% filter(padj < PVAL_THRESH) %>% filter(log2FoldChange > FC_THRESH) %>% pull(gene_name)\n",
    "wb_covid_cntrl_up <- wb_covid_cntrl %>% filter(padj < PVAL_THRESH) %>% filter(log2FoldChange > FC_THRESH) %>% pull(gene_name)\n",
    "\n",
    "\n",
    "cf_covid_cntrl_down <- cf_covid_cntrl %>% filter(padj < PVAL_THRESH) %>% filter(log2FoldChange < -FC_THRESH) %>% pull(gene_name) %>% unique()\n",
    "wb_covid_cntrl_down <- wb_covid_cntrl %>% filter(padj < PVAL_THRESH) %>% filter(log2FoldChange < -FC_THRESH) %>% pull(gene_name)\n",
    "\n",
    "\n",
    "\n",
    "pdf(file=paste0(\"./plots/panelB_covid-control-up.pdf\"),\n",
    "        width=WIDTH,height=HEIGHT, paper=\"special\", bg=\"white\",\n",
    "        fonts=\"Helvetica\", colormodel = \"srgb\", pointsize=6, useDingbats = FALSE)\n",
    "\n",
    "s2 <- list(\"Cell-Free up\"=cf_covid_cntrl_up,\n",
    "           \"Whole Blood up\"=wb_covid_cntrl_up)\n",
    "\n",
    "plot(euler(s2),\n",
    "     fills = c(\"#CD4254\", \"#CD4254\"),\n",
    "     edges = T,\n",
    "     labels = list(cex = .25),\n",
    "     quantities = list(cex = .5),\n",
    "     lty = 1:2)\n",
    "\n",
    "dev.off()\n",
    "\n",
    "\n",
    "pdf(file=paste0(\"./plots/panelB_covid-control-down.pdf\"),\n",
    "        width=WIDTH,height=HEIGHT, paper=\"special\", bg=\"white\",\n",
    "        fonts=\"Helvetica\", colormodel = \"srgb\", pointsize=6, useDingbats = FALSE)\n",
    "\n",
    "s2 <- list(\"Cell-Free down\"=cf_covid_cntrl_down,\n",
    "          \"Whole Blood down\"=wb_covid_cntrl_down)\n",
    "\n",
    "plot(euler(s2),\n",
    "     fills = c(\"#FBE77C\",\"#FBE77C\"),\n",
    "     edges = T,\n",
    "     labels = list(cex = .25),\n",
    "     quantities = list(cex = .5),\n",
    "     lty = 1:2)\n",
    "\n",
    "dev.off()\n"
   ]
  },
  {
   "cell_type": "markdown",
   "id": "bd1ed00f-7d70-4ca5-90d6-dc15df7b9fbc",
   "metadata": {},
   "source": [
    "#### MISC VS CONTROL"
   ]
  },
  {
   "cell_type": "code",
   "execution_count": 11,
   "id": "c54bf327-231f-485a-bd69-de43ec99d256",
   "metadata": {},
   "outputs": [
    {
     "data": {
      "text/html": [
       "<strong>png:</strong> 2"
      ],
      "text/latex": [
       "\\textbf{png:} 2"
      ],
      "text/markdown": [
       "**png:** 2"
      ],
      "text/plain": [
       "png \n",
       "  2 "
      ]
     },
     "metadata": {},
     "output_type": "display_data"
    },
    {
     "data": {
      "text/html": [
       "<strong>png:</strong> 2"
      ],
      "text/latex": [
       "\\textbf{png:} 2"
      ],
      "text/markdown": [
       "**png:** 2"
      ],
      "text/plain": [
       "png \n",
       "  2 "
      ]
     },
     "metadata": {},
     "output_type": "display_data"
    }
   ],
   "source": [
    "cf_misc_cntrl_up <- cf_misc_cntrl %>% filter(padj < PVAL_THRESH) %>% filter(log2FoldChange > FC_THRESH) %>% pull(gene_name)%>% unique()\n",
    "wb_misc_cntrl_up <- wb_misc_cntrl %>% filter(padj < PVAL_THRESH) %>% filter(log2FoldChange > FC_THRESH) %>% pull(gene_name)%>% unique()\n",
    "\n",
    "\n",
    "cf_misc_cntrl_down <- cf_misc_cntrl %>% filter(padj < PVAL_THRESH) %>% filter(log2FoldChange < -FC_THRESH) %>% pull(gene_name) %>% unique()\n",
    "wb_misc_cntrl_down <- wb_misc_cntrl %>% filter(padj < PVAL_THRESH) %>% filter(log2FoldChange < -FC_THRESH) %>% pull(gene_name)%>% unique()\n",
    "\n",
    "s2 <- list(\"Cell-Free up\"=cf_misc_cntrl_up,\n",
    "           \"Whole Blood up\"=wb_misc_cntrl_up,\n",
    "          \"Cell-Free down\"=cf_misc_cntrl_down,\n",
    "          \"Whole Blood down\"=wb_misc_cntrl_down)\n",
    "\n",
    "\n",
    "\n",
    "pdf(file=paste0(\"./plots/panelB_misc-control-up.pdf\"),\n",
    "        width=WIDTH,height=HEIGHT, paper=\"special\", bg=\"white\",\n",
    "        fonts=\"Helvetica\", colormodel = \"srgb\", pointsize=6, useDingbats = FALSE)\n",
    "\n",
    "s2 <- list(\"Cell-Free up\"=cf_misc_cntrl_up,\n",
    "           \"Whole Blood up\"=wb_misc_cntrl_up)\n",
    "\n",
    "plot(euler(s2),\n",
    "     fills = c(\"#5CB2EB\", \"#5CB2EB\"),\n",
    "     edges = T,\n",
    "     labels = list(cex = .25),\n",
    "     quantities = list(cex = .5),\n",
    "     lty = 1:2)\n",
    "\n",
    "dev.off()\n",
    "\n",
    "\n",
    "pdf(file=paste0(\"./plots/panelB_misc-control-down.pdf\"),\n",
    "        width=WIDTH,height=HEIGHT, paper=\"special\", bg=\"white\",\n",
    "        fonts=\"Helvetica\", colormodel = \"srgb\", pointsize=6, useDingbats = FALSE)\n",
    "\n",
    "s2 <- list(\"Cell-Free down\"=cf_misc_cntrl_down,\n",
    "          \"Whole Blood down\"=wb_misc_cntrl_down)\n",
    "\n",
    "plot(euler(s2),\n",
    "     fills = c( \"#FBE77C\",\"#FBE77C\" ),\n",
    "     edges = T,\n",
    "     labels = list(cex = .25),\n",
    "     quantities = list(cex = .5),\n",
    "     lty = 1:2)\n",
    "\n",
    "dev.off()\n"
   ]
  },
  {
   "cell_type": "markdown",
   "id": "7e2529b9-1cc5-4037-ad1a-8110a257862b",
   "metadata": {},
   "source": [
    "#### MISC VS COVID"
   ]
  },
  {
   "cell_type": "code",
   "execution_count": 12,
   "id": "427a19fb-6e26-4cbb-9e99-c4061883cbdc",
   "metadata": {},
   "outputs": [
    {
     "data": {
      "text/html": [
       "<strong>png:</strong> 2"
      ],
      "text/latex": [
       "\\textbf{png:} 2"
      ],
      "text/markdown": [
       "**png:** 2"
      ],
      "text/plain": [
       "png \n",
       "  2 "
      ]
     },
     "metadata": {},
     "output_type": "display_data"
    },
    {
     "data": {
      "text/html": [
       "<strong>png:</strong> 2"
      ],
      "text/latex": [
       "\\textbf{png:} 2"
      ],
      "text/markdown": [
       "**png:** 2"
      ],
      "text/plain": [
       "png \n",
       "  2 "
      ]
     },
     "metadata": {},
     "output_type": "display_data"
    }
   ],
   "source": [
    "cf_misc_covid_up <- cf_misc_covid %>% filter(padj < PVAL_THRESH) %>% filter(log2FoldChange > FC_THRESH) %>% pull(gene_name)\n",
    "wb_misc_covid_up <- wb_misc_covid %>% filter(padj < PVAL_THRESH) %>% filter(log2FoldChange > FC_THRESH) %>% pull(gene_name)\n",
    "\n",
    "\n",
    "cf_misc_covid_down <- cf_misc_covid %>% filter(padj < PVAL_THRESH) %>% filter(log2FoldChange < -FC_THRESH) %>% pull(gene_name) %>% unique()\n",
    "wb_misc_covid_down <- wb_misc_covid %>% filter(padj < PVAL_THRESH) %>% filter(log2FoldChange < -FC_THRESH) %>% pull(gene_name)\n",
    "\n",
    "s2 <- list(\"Cell-Free up\"=cf_misc_covid_up,\n",
    "           \"Whole Blood up\"=wb_misc_covid_up,\n",
    "          \"Cell-Free down\"=cf_misc_covid_down,\n",
    "          \"Whole Blood down\"=wb_misc_covid_down)\n",
    "\n",
    "\n",
    "pdf(file=paste0(\"./plots/panelB_misc-covid-up.pdf\"),\n",
    "        width=WIDTH,height=HEIGHT, paper=\"special\", bg=\"white\",\n",
    "        fonts=\"Helvetica\", colormodel = \"srgb\", pointsize=6, useDingbats = FALSE)\n",
    "\n",
    "\n",
    "s2 <- list(\"Cell-Free up\"=cf_misc_covid_up,\n",
    "           \"Whole Blood up\"=wb_misc_covid_up)\n",
    "\n",
    "plot(euler(s2),\n",
    "     fills = c(\"#5CB2EB\",\"#5CB2EB\"),\n",
    "     edges = T,\n",
    "     labels = list(cex = .25),\n",
    "     quantities = list(cex = .5),\n",
    "     lty = 1:2)\n",
    "\n",
    "dev.off()\n",
    "\n",
    "\n",
    "pdf(file=paste0(\"./plots/panelB_misc-covid-down.pdf\"),\n",
    "        width=WIDTH,height=HEIGHT, paper=\"special\", bg=\"white\",\n",
    "        fonts=\"Helvetica\", colormodel = \"srgb\", pointsize=6, useDingbats = FALSE)\n",
    "\n",
    "\n",
    "s2 <- list(\"Cell-Free down\"=cf_misc_covid_down,\n",
    "          \"Whole Blood down\"=wb_misc_covid_down)\n",
    "\n",
    "plot(euler(s2),\n",
    "     fills = c(\"#F0484E\",\"#F0484E\" ),\n",
    "     edges = T,\n",
    "     labels = list(cex = .25),\n",
    "     quantities = list(cex = .5),\n",
    "     lty = 1:2)\n",
    "\n",
    "dev.off()"
   ]
  }
 ],
 "metadata": {
  "kernelspec": {
   "display_name": "R",
   "language": "R",
   "name": "ir"
  },
  "language_info": {
   "codemirror_mode": "r",
   "file_extension": ".r",
   "mimetype": "text/x-r-source",
   "name": "R",
   "pygments_lexer": "r",
   "version": "4.1.1"
  }
 },
 "nbformat": 4,
 "nbformat_minor": 5
}
