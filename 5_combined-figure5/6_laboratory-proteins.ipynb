{
 "cells": [
  {
   "cell_type": "code",
   "execution_count": 1,
   "id": "0dff1a9e-6b61-4acf-9508-43d552956a9d",
   "metadata": {},
   "outputs": [
    {
     "name": "stderr",
     "output_type": "stream",
     "text": [
      "── \u001b[1mAttaching packages\u001b[22m ───────────────────────────────────────────────────────────────────── tidyverse 1.3.1 ──\n",
      "\n",
      "\u001b[32m✔\u001b[39m \u001b[34mggplot2\u001b[39m 3.3.6     \u001b[32m✔\u001b[39m \u001b[34mpurrr  \u001b[39m 0.3.4\n",
      "\u001b[32m✔\u001b[39m \u001b[34mtibble \u001b[39m 3.1.7     \u001b[32m✔\u001b[39m \u001b[34mdplyr  \u001b[39m 1.0.8\n",
      "\u001b[32m✔\u001b[39m \u001b[34mtidyr  \u001b[39m 1.2.0     \u001b[32m✔\u001b[39m \u001b[34mstringr\u001b[39m 1.4.0\n",
      "\u001b[32m✔\u001b[39m \u001b[34mreadr  \u001b[39m 2.1.2     \u001b[32m✔\u001b[39m \u001b[34mforcats\u001b[39m 0.5.1\n",
      "\n",
      "── \u001b[1mConflicts\u001b[22m ──────────────────────────────────────────────────────────────────────── tidyverse_conflicts() ──\n",
      "\u001b[31m✖\u001b[39m \u001b[34mdplyr\u001b[39m::\u001b[32mfilter()\u001b[39m masks \u001b[34mstats\u001b[39m::filter()\n",
      "\u001b[31m✖\u001b[39m \u001b[34mdplyr\u001b[39m::\u001b[32mlag()\u001b[39m    masks \u001b[34mstats\u001b[39m::lag()\n",
      "\n",
      "\n",
      "Attaching package: ‘reshape2’\n",
      "\n",
      "\n",
      "The following object is masked from ‘package:tidyr’:\n",
      "\n",
      "    smiths\n",
      "\n",
      "\n",
      "\n",
      "Attaching package: ‘gridExtra’\n",
      "\n",
      "\n",
      "The following object is masked from ‘package:dplyr’:\n",
      "\n",
      "    combine\n",
      "\n",
      "\n",
      "\n",
      "Attaching package: ‘rstatix’\n",
      "\n",
      "\n",
      "The following object is masked from ‘package:stats’:\n",
      "\n",
      "    filter\n",
      "\n",
      "\n"
     ]
    }
   ],
   "source": [
    "suppressMessages(library(tidyverse))\n",
    "suppressMessages(library(reshape2))\n",
    "suppressMessages(library(gridExtra))\n",
    "suppressMessages(library(grid))\n",
    "suppressMessages(library(rstatix))\n",
    "suppressMessages(library(ggpubr))\n",
    "\n",
    "source('../../0_metadata/theme_CRP-MISC.R')"
   ]
  },
  {
   "cell_type": "markdown",
   "id": "544778fe-5388-486c-bd74-bbaea6e06914",
   "metadata": {
    "tags": []
   },
   "source": [
    "## Biomarkers of damage"
   ]
  },
  {
   "cell_type": "markdown",
   "id": "64bdc307-e840-4c18-aad7-48c93747853a",
   "metadata": {
    "tags": []
   },
   "source": [
    "#### read in redcap"
   ]
  },
  {
   "cell_type": "code",
   "execution_count": 2,
   "id": "ee12b5d0-0548-41cc-b534-509dd92cdcca",
   "metadata": {
    "tags": []
   },
   "outputs": [
    {
     "data": {
      "text/html": [
       "<table class=\"dataframe\">\n",
       "<caption>A data.frame: 6 × 19</caption>\n",
       "<thead>\n",
       "\t<tr><th></th><th scope=col>study_id</th><th scope=col>siteid</th><th scope=col>wbc</th><th scope=col>wbc_date</th><th scope=col>crp_date</th><th scope=col>crp</th><th scope=col>ldh</th><th scope=col>ldh_date</th><th scope=col>alt</th><th scope=col>trop</th><th scope=col>trop_date</th><th scope=col>ferritin</th><th scope=col>ferritin_date</th><th scope=col>bnp</th><th scope=col>bnp_date</th><th scope=col>creatinine</th><th scope=col>alb</th><th scope=col>alb_date</th><th scope=col>alt_date</th></tr>\n",
       "\t<tr><th></th><th scope=col>&lt;chr&gt;</th><th scope=col>&lt;chr&gt;</th><th scope=col>&lt;dbl&gt;</th><th scope=col>&lt;chr&gt;</th><th scope=col>&lt;chr&gt;</th><th scope=col>&lt;dbl&gt;</th><th scope=col>&lt;chr&gt;</th><th scope=col>&lt;chr&gt;</th><th scope=col>&lt;int&gt;</th><th scope=col>&lt;dbl&gt;</th><th scope=col>&lt;chr&gt;</th><th scope=col>&lt;dbl&gt;</th><th scope=col>&lt;chr&gt;</th><th scope=col>&lt;chr&gt;</th><th scope=col>&lt;chr&gt;</th><th scope=col>&lt;dbl&gt;</th><th scope=col>&lt;chr&gt;</th><th scope=col>&lt;chr&gt;</th><th scope=col>&lt;chr&gt;</th></tr>\n",
       "</thead>\n",
       "<tbody>\n",
       "\t<tr><th scope=row>1</th><td>1  </td><td>UCSF0114</td><td>28.7</td><td>2021-09-11</td><td>2021-09-14</td><td>175.4</td><td>696</td><td>2021-09-09</td><td>33</td><td>NA</td><td></td><td>NA</td><td></td><td></td><td></td><td> 0.66</td><td>2.7</td><td>2021-09-06</td><td>2021-09-06</td></tr>\n",
       "\t<tr><th scope=row>2</th><td>10 </td><td>UCSF0039</td><td> 8.7</td><td>          </td><td>          </td><td>   NA</td><td>   </td><td>          </td><td>24</td><td>NA</td><td></td><td>NA</td><td></td><td></td><td></td><td> 0.85</td><td>4.9</td><td>          </td><td>          </td></tr>\n",
       "\t<tr><th scope=row>3</th><td>100</td><td>UCSF0015</td><td> 5.0</td><td>          </td><td>          </td><td>   NA</td><td>   </td><td>          </td><td>NA</td><td>NA</td><td></td><td>NA</td><td></td><td></td><td></td><td>12.16</td><td>   </td><td>          </td><td>          </td></tr>\n",
       "\t<tr><th scope=row>4</th><td>11 </td><td>UCSF0066</td><td> 8.8</td><td>          </td><td>          </td><td>   NA</td><td>   </td><td>          </td><td>19</td><td>NA</td><td></td><td>NA</td><td></td><td></td><td></td><td> 0.25</td><td>4.5</td><td>          </td><td>          </td></tr>\n",
       "\t<tr><th scope=row>5</th><td>111</td><td>UCSF0153</td><td> 6.5</td><td>          </td><td>          </td><td>   NA</td><td>   </td><td>          </td><td>NA</td><td>NA</td><td></td><td>NA</td><td></td><td></td><td></td><td> 1.48</td><td>   </td><td>          </td><td>          </td></tr>\n",
       "\t<tr><th scope=row>6</th><td>114</td><td>UCSF0156</td><td> 5.1</td><td>          </td><td>          </td><td>   NA</td><td>   </td><td>          </td><td>11</td><td>NA</td><td></td><td>NA</td><td></td><td></td><td></td><td> 0.55</td><td>4.3</td><td>          </td><td>          </td></tr>\n",
       "</tbody>\n",
       "</table>\n"
      ],
      "text/latex": [
       "A data.frame: 6 × 19\n",
       "\\begin{tabular}{r|lllllllllllllllllll}\n",
       "  & study\\_id & siteid & wbc & wbc\\_date & crp\\_date & crp & ldh & ldh\\_date & alt & trop & trop\\_date & ferritin & ferritin\\_date & bnp & bnp\\_date & creatinine & alb & alb\\_date & alt\\_date\\\\\n",
       "  & <chr> & <chr> & <dbl> & <chr> & <chr> & <dbl> & <chr> & <chr> & <int> & <dbl> & <chr> & <dbl> & <chr> & <chr> & <chr> & <dbl> & <chr> & <chr> & <chr>\\\\\n",
       "\\hline\n",
       "\t1 & 1   & UCSF0114 & 28.7 & 2021-09-11 & 2021-09-14 & 175.4 & 696 & 2021-09-09 & 33 & NA &  & NA &  &  &  &  0.66 & 2.7 & 2021-09-06 & 2021-09-06\\\\\n",
       "\t2 & 10  & UCSF0039 &  8.7 &            &            &    NA &     &            & 24 & NA &  & NA &  &  &  &  0.85 & 4.9 &            &           \\\\\n",
       "\t3 & 100 & UCSF0015 &  5.0 &            &            &    NA &     &            & NA & NA &  & NA &  &  &  & 12.16 &     &            &           \\\\\n",
       "\t4 & 11  & UCSF0066 &  8.8 &            &            &    NA &     &            & 19 & NA &  & NA &  &  &  &  0.25 & 4.5 &            &           \\\\\n",
       "\t5 & 111 & UCSF0153 &  6.5 &            &            &    NA &     &            & NA & NA &  & NA &  &  &  &  1.48 &     &            &           \\\\\n",
       "\t6 & 114 & UCSF0156 &  5.1 &            &            &    NA &     &            & 11 & NA &  & NA &  &  &  &  0.55 & 4.3 &            &           \\\\\n",
       "\\end{tabular}\n"
      ],
      "text/markdown": [
       "\n",
       "A data.frame: 6 × 19\n",
       "\n",
       "| <!--/--> | study_id &lt;chr&gt; | siteid &lt;chr&gt; | wbc &lt;dbl&gt; | wbc_date &lt;chr&gt; | crp_date &lt;chr&gt; | crp &lt;dbl&gt; | ldh &lt;chr&gt; | ldh_date &lt;chr&gt; | alt &lt;int&gt; | trop &lt;dbl&gt; | trop_date &lt;chr&gt; | ferritin &lt;dbl&gt; | ferritin_date &lt;chr&gt; | bnp &lt;chr&gt; | bnp_date &lt;chr&gt; | creatinine &lt;dbl&gt; | alb &lt;chr&gt; | alb_date &lt;chr&gt; | alt_date &lt;chr&gt; |\n",
       "|---|---|---|---|---|---|---|---|---|---|---|---|---|---|---|---|---|---|---|---|\n",
       "| 1 | 1   | UCSF0114 | 28.7 | 2021-09-11 | 2021-09-14 | 175.4 | 696 | 2021-09-09 | 33 | NA | <!----> | NA | <!----> | <!----> | <!----> |  0.66 | 2.7 | 2021-09-06 | 2021-09-06 |\n",
       "| 2 | 10  | UCSF0039 |  8.7 | <!----> | <!----> |    NA | <!----> | <!----> | 24 | NA | <!----> | NA | <!----> | <!----> | <!----> |  0.85 | 4.9 | <!----> | <!----> |\n",
       "| 3 | 100 | UCSF0015 |  5.0 | <!----> | <!----> |    NA | <!----> | <!----> | NA | NA | <!----> | NA | <!----> | <!----> | <!----> | 12.16 | <!----> | <!----> | <!----> |\n",
       "| 4 | 11  | UCSF0066 |  8.8 | <!----> | <!----> |    NA | <!----> | <!----> | 19 | NA | <!----> | NA | <!----> | <!----> | <!----> |  0.25 | 4.5 | <!----> | <!----> |\n",
       "| 5 | 111 | UCSF0153 |  6.5 | <!----> | <!----> |    NA | <!----> | <!----> | NA | NA | <!----> | NA | <!----> | <!----> | <!----> |  1.48 | <!----> | <!----> | <!----> |\n",
       "| 6 | 114 | UCSF0156 |  5.1 | <!----> | <!----> |    NA | <!----> | <!----> | 11 | NA | <!----> | NA | <!----> | <!----> | <!----> |  0.55 | 4.3 | <!----> | <!----> |\n",
       "\n"
      ],
      "text/plain": [
       "  study_id siteid   wbc  wbc_date   crp_date   crp   ldh ldh_date   alt trop\n",
       "1 1        UCSF0114 28.7 2021-09-11 2021-09-14 175.4 696 2021-09-09 33  NA  \n",
       "2 10       UCSF0039  8.7                          NA                24  NA  \n",
       "3 100      UCSF0015  5.0                          NA                NA  NA  \n",
       "4 11       UCSF0066  8.8                          NA                19  NA  \n",
       "5 111      UCSF0153  6.5                          NA                NA  NA  \n",
       "6 114      UCSF0156  5.1                          NA                11  NA  \n",
       "  trop_date ferritin ferritin_date bnp bnp_date creatinine alb alb_date  \n",
       "1           NA                                   0.66      2.7 2021-09-06\n",
       "2           NA                                   0.85      4.9           \n",
       "3           NA                                  12.16                    \n",
       "4           NA                                   0.25      4.5           \n",
       "5           NA                                   1.48                    \n",
       "6           NA                                   0.55      4.3           \n",
       "  alt_date  \n",
       "1 2021-09-06\n",
       "2           \n",
       "3           \n",
       "4           \n",
       "5           \n",
       "6           "
      ]
     },
     "metadata": {},
     "output_type": "display_data"
    }
   ],
   "source": [
    "### read in data\n",
    "mdf_raw = read.csv(\"/workdir/cjl332/prevail/revisions/PreVAILCDEs-PlasmaProteinMarkers_DATA_2022-10-26_0619.csv\")\n",
    "\n",
    "### manual fixing\n",
    "mdf_raw <- mdf_raw %>% \n",
    "    filter(!(study_id %in% c(160,161) & redcap_repeat_instance ==2)) %>%\n",
    "    mutate(siteid = toupper(siteid))\n",
    "\n",
    "\n",
    "### Split and combine\n",
    "not_all_na <- function(x) any(!is.na(x))\n",
    "\n",
    "mdf1 <- mdf_raw %>% filter(redcap_repeat_instrument == \"\") %>% \n",
    "                    select(!c(redcap_repeat_instrument, redcap_repeat_instance))%>%\n",
    "                    select(study_id,siteid)\n",
    "#                     select_if(~ !any(is.na(.)))  #%>% colnames()\n",
    "\n",
    "mdf2 <- mdf_raw %>% filter(redcap_repeat_instrument == \"labs_and_microbiology\") %>% \n",
    "                    select(!c(redcap_repeat_instrument, redcap_repeat_instance))%>%\n",
    "                    select(!siteid)\n",
    "#                     select_if(~ !any(is.na(.)))  #%>% colnames()\n",
    "\n",
    "\n",
    "### combine (dont need mdf3)\n",
    "mdf <- merge(mdf1, mdf2, by = \"study_id\") %>% rename(ldh_date = ldhdate,\n",
    "                     ferritin_date = ferr_date,\n",
    "                     alb_date = albumin_date,\n",
    "                    alt_date = alamin_date)\n",
    "\n",
    "mdf <- mdf[,!grepl(\"units\",colnames(mdf))]\n",
    "\n",
    "head(mdf)"
   ]
  },
  {
   "cell_type": "markdown",
   "id": "fe93230b-9f2d-4078-907e-c310e2c3f01e",
   "metadata": {
    "tags": []
   },
   "source": [
    "---\n",
    "# cfRNA and wbRNA data"
   ]
  },
  {
   "cell_type": "markdown",
   "id": "f83d9b2d-2231-4878-8405-c3d64c7b8863",
   "metadata": {
    "tags": []
   },
   "source": [
    "### cfRNA"
   ]
  },
  {
   "cell_type": "code",
   "execution_count": 3,
   "id": "d52882d5-8656-4430-83e7-7d5342fd0b6b",
   "metadata": {
    "tags": []
   },
   "outputs": [
    {
     "name": "stderr",
     "output_type": "stream",
     "text": [
      "\u001b[1m\u001b[22m`summarise()` has grouped output by 'celltype', 'unique_sample_id', 'PTID', 'Date', 'origin', 'Diagnosis',\n",
      "'severity', 'timepoint', 'Diagnosis_info', 'Date.of.symptom.onset', 'hospitalization', 'hospital_onset',\n",
      "'hospital_resolved', 'icu', 'icu_onset', 'icu_resolved', 'hosp_length', 'icu_length', 'samp_rel_hosp',\n",
      "'samp_rel_hosp_resolved', 'samp_rel_icu', 'samp_rel_icu_resolved', 'samp_rel_sym', 'immunocompromised',\n",
      "'immuno_comment', 'pcr_date', 'pcr_result_1positive_2negative', 'pcr_positive_MC_1yes', 'antibody_date',\n",
      "'antibody_positive_MC_1yes', 'antibody_result_1positive_2negative', 'Fever_5_days_1yes',\n",
      "'Conjunctivitis_1yes', 'Mucosal_changes_1yes', 'Rash_1yes', 'Extremity_changes_1yes',\n",
      "'Large_cervical_lymphdenopathy_1yes', 'kd_like_MC_1yes', 'highflow_o2_1yes', 'noninvasive_ventilate_1yes',\n",
      "'mechanical_ventilate_1yes', 'req_vasopressors_inotropes_MC_1yes', 'Echo.depressed.function_1yes',\n",
      "'Echo.coronary.artery.aneurysms_1yes', 'respiratory_failure_MC_1yes', 'cardiac_abnormal_MC_1yes',\n",
      "'sample_group', 'sample_group_verbose', 'replicates', 'cfrna_file_id', 'cfrna_sample_id', 'passQC_1yes_.1no',\n",
      "'Barcode', 'Library_prep_date', 'PTID_DATE', 'matched_wb_cf', 'sample_group_matched_verbose',\n",
      "'sample_group_matched', 'PTID_GROUP'. You can override using the `.groups` argument.\n"
     ]
    }
   ],
   "source": [
    "##------------------------------------\n",
    "# META DATA\n",
    "meta_data <- read.delim(\"../../0_metadata/cfrna.tsv\") %>% \n",
    "    filter(sample_group != -1)\n",
    "\n",
    "##------------------------------------\n",
    "# DECONVOLUTION RESULTS\n",
    "results = read.csv(\"../../1_sample-output/cfrna_deconvolution.csv\",row.names=1)\n",
    "\n",
    "##------------------------------------\n",
    "# MERGE\n",
    "meta_data_too = merge(meta_data,results,by.x=\"cfrna_sample_id\",by.y=0)\n",
    "\n",
    "##------------------------------------\n",
    "# MELT\n",
    "\n",
    "IDVARS = c(colnames(meta_data))\n",
    "df_melt <- melt(meta_data_too,id.vars=IDVARS)\n",
    "i = length(IDVARS)\n",
    "colnames(df_melt)[(i+1):(i+2)] <- c(\"celltype\",\"fraction\")\n",
    "\n",
    "\n",
    "##---------------------------\n",
    "# Relabel cell types\n",
    "\n",
    "group = list(\"Myeloid Progenitor\" = c(\"Myeloid.progenitor\"),\n",
    "             \"Erythrocyte/Erythroid Progenitor\" = c(\"Erythrocyte.erythroid.progenitor\"),\n",
    "             \"Intestinal Epithelial\" = c(\"Intestinal.tuft.cell\",\"Intestinal.enterocyte\"),\n",
    "             \"T Cell / NK Cell\" = c(\"T.Cell\",\"NK.Cell\"),\n",
    "            \"Kidney Epithelial Cell\" = c(\"Kidney.epithelial.cell\"),\n",
    "            \"Endothelial Cell\" = c(\"Endothelial.cell\"),\n",
    "             \"Neutrophil\" = c(\"neutrophil\"),\n",
    "             \"Platelet\" = c(\"Platelet\"),\n",
    "             \"Monocyte\" = c(\"Monocyte\"),\n",
    "             \"Thymocyte\" = c(\"Thymocyte\"),\n",
    "             'Intrahepatic cholangiocyte' = c('Intrahepatic.cholangiocyte')\n",
    "            )\n",
    "\n",
    "# create dataframe\n",
    "df2 <- stack(group) \n",
    "colnames(df2) <- c(\"celltype\",\"new_celltype\")\n",
    "\n",
    "# merge and fix nas\n",
    "df_melt2 <- merge(df_melt,df2,all.x=TRUE)\n",
    "df_melt2$new_celltype <- as.character(df_melt2$new_celltype)\n",
    "df_melt_all <- df_melt2                                                     ### SAVE FOR LATER PLOTTING\n",
    "df_melt2[is.na(df_melt2$new_celltype),\"new_celltype\"] <- \"other\"\n",
    "\n",
    "# Save as main table\n",
    "df_melt2$celltype <- df_melt2$new_celltype\n",
    "df_melt2 <- df_melt2 %>% group_by(across(c(-fraction))) %>% summarize(fraction = sum(fraction))\n",
    "\n",
    "df_melt <- df_melt2 %>% ungroup()\n",
    "\n",
    "\n",
    "##------------------------------------\n",
    "# MODIFY IDs\n",
    "df_melt <- df_melt %>%\n",
    "    select(cfrna_sample_id,Diagnosis,timepoint,PTID,Date,severity,celltype,fraction) %>%\n",
    "    mutate(PTID = toupper(PTID))\n",
    "\n",
    "df_melt_cf <- df_melt"
   ]
  },
  {
   "cell_type": "markdown",
   "id": "45a508be-5015-4e3b-beed-13d4f6663609",
   "metadata": {
    "jp-MarkdownHeadingCollapsed": true,
    "tags": []
   },
   "source": [
    "### wbrna"
   ]
  },
  {
   "cell_type": "code",
   "execution_count": 4,
   "id": "ebcb9699-75dc-4a4c-9d79-0e589a945084",
   "metadata": {},
   "outputs": [
    {
     "name": "stderr",
     "output_type": "stream",
     "text": [
      "\u001b[1m\u001b[22m`summarise()` has grouped output by 'celltype', 'PTID', 'Date', 'unique_sample_id', 'origin', 'Diagnosis',\n",
      "'severity', 'timepoint', 'Diagnosis_info', 'Date.of.symptom.onset', 'hospitalization', 'hospital_onset',\n",
      "'hospital_resolved', 'icu', 'icu_onset', 'icu_resolved', 'hosp_length', 'icu_length', 'samp_rel_hosp',\n",
      "'samp_rel_hosp_resolved', 'samp_rel_icu', 'samp_rel_icu_resolved', 'samp_rel_sym', 'immunocompromised',\n",
      "'immuno_comment', 'pcr_date', 'pcr_result_1positive_2negative', 'pcr_positive_MC_1yes', 'antibody_date',\n",
      "'antibody_positive_MC_1yes', 'antibody_result_1positive_2negative', 'Fever_5_days_1yes',\n",
      "'Conjunctivitis_1yes', 'Mucosal_changes_1yes', 'Rash_1yes', 'Extremity_changes_1yes',\n",
      "'Large_cervical_lymphdenopathy_1yes', 'kd_like_MC_1yes', 'highflow_o2_1yes', 'noninvasive_ventilate_1yes',\n",
      "'mechanical_ventilate_1yes', 'req_vasopressors_inotropes_MC_1yes', 'Echo.depressed.function_1yes',\n",
      "'Echo.coronary.artery.aneurysms_1yes', 'respiratory_failure_MC_1yes', 'cardiac_abnormal_MC_1yes',\n",
      "'sample_group', 'sample_group_verbose', 'UNIQ_SAMPLE_ID_VS', 'wbrna_sample_id', 'SAMPLE_ID',\n",
      "'PROCESSED_RNASeq_.0.No.Yes.1.', 'Coverage..10...0.no..1.yes..NA.not.applicable.or.sample.not.available.',\n",
      "'Type_Sample_Processed.WB.1.P.2.',\n",
      "'Whole.Blood.Experiment..1..failed.experiment.1...1..refers.to.experiment....0.not.processed.yet..NA..plasma.sample.',\n",
      "'Replicate.Number', 'SAMPLE_ID..concatenated.',\n",
      "'WB_BARCODE..Emory.samples..NA.OR.SAM...not.applicable.or.not.available..Residual...residual.sample.without.a.barcode.',\n",
      "'PLASMA_BARCODE..Emory.samples.', 'Diagnosis.Code..0...negative.control..1...pediatric.COVID.19..2...MIS.C.',\n",
      "'replicates', 'PTID_DATE', 'PTID_GROUP', 'matched_wb_cf', 'sample_group_matched_verbose',\n",
      "'sample_group_matched'. You can override using the `.groups` argument.\n"
     ]
    }
   ],
   "source": [
    "##------------------------------------\n",
    "# META DATA\n",
    "meta_data <- read.delim(\"../../0_metadata/wbrna.tsv\") %>% \n",
    "    filter(sample_group != -1) %>%\n",
    "    rename(wbrna_sample_id = SEQ_ID..UCSFonly.)\n",
    "\n",
    "##------------------------------------\n",
    "# DECONVOLUTION RESULTS\n",
    "results = read.csv(\"../../../3_wbRNA/deconvolution_new/prevail_bayes-prism.csv\",row.names=1)\n",
    "\n",
    "##------------------------------------\n",
    "# MERGE\n",
    "meta_data_too = merge(meta_data,results,by.x=\"wbrna_sample_id\",by.y=0)\n",
    "\n",
    "##------------------------------------\n",
    "# MELT\n",
    "\n",
    "IDVARS = c(colnames(meta_data))\n",
    "df_melt <- melt(meta_data_too,id.vars=IDVARS)\n",
    "i = length(IDVARS)\n",
    "colnames(df_melt)[(i+1):(i+2)] <- c(\"celltype\",\"fraction\")\n",
    "\n",
    "\n",
    "##---------------------------\n",
    "# Relabel cell types\n",
    "\n",
    "group = list(\"Myeloid Progenitor\" = c(\"Myeloid.progenitor\"),\n",
    "             \"Erythrocyte/Erythroid Progenitor\" = c(\"Erythrocyte.erythroid.progenitor\"),\n",
    "             \"Intestinal Epithelial\" = c(\"Intestinal.tuft.cell\",\"Intestinal.enterocyte\"),\n",
    "             \"T Cell / NK Cell\" = c(\"T.Cell\",\"NK.Cell\"),\n",
    "            \"Kidney Epithelial Cell\" = c(\"Kidney.epithelial.cell\"),\n",
    "            \"Endothelial Cell\" = c(\"Endothelial.cell\"),\n",
    "             \"Neutrophil\" = c(\"neutrophil\"),\n",
    "             \"Platelet\" = c(\"Platelet\"),\n",
    "             \"Monocyte\" = c(\"Monocyte\"),\n",
    "             \"Thymocyte\" = c(\"Thymocyte\"),\n",
    "             'Intrahepatic cholangiocyte' = c('Intrahepatic.cholangiocyte')\n",
    "            )\n",
    "\n",
    "# create dataframe\n",
    "df2 <- stack(group) \n",
    "colnames(df2) <- c(\"celltype\",\"new_celltype\")\n",
    "\n",
    "# merge and fix nas\n",
    "df_melt2 <- merge(df_melt,df2,all.x=TRUE)\n",
    "df_melt2$new_celltype <- as.character(df_melt2$new_celltype)\n",
    "df_melt_all <- df_melt2                                                     ### SAVE FOR LATER PLOTTING\n",
    "df_melt2[is.na(df_melt2$new_celltype),\"new_celltype\"] <- \"other\"\n",
    "\n",
    "# Save as main table\n",
    "df_melt2$celltype <- df_melt2$new_celltype\n",
    "df_melt2 <- df_melt2 %>% group_by(across(c(-fraction))) %>% summarize(fraction = sum(fraction))\n",
    "\n",
    "df_melt <- df_melt2 %>% ungroup()\n",
    "\n",
    "##------------------------------------\n",
    "# MODIFY IDs\n",
    "df_melt <- df_melt %>%\n",
    "    select(wbrna_sample_id,Diagnosis,timepoint,PTID,Date,severity,celltype,fraction) %>%\n",
    "    mutate(PTID = toupper(PTID))\n",
    "\n",
    "df_melt_wb <- df_melt"
   ]
  },
  {
   "cell_type": "markdown",
   "id": "4c004a56-58ac-4d09-affe-b336791c326d",
   "metadata": {
    "tags": []
   },
   "source": [
    "---\n",
    "# Saved Variables"
   ]
  },
  {
   "cell_type": "markdown",
   "id": "67e246cb-29ac-4ae5-97b4-3e15fbf8d024",
   "metadata": {
    "jp-MarkdownHeadingCollapsed": true,
    "tags": []
   },
   "source": [
    "### palettes"
   ]
  },
  {
   "cell_type": "code",
   "execution_count": 5,
   "id": "e679b4a8-acbc-4dd4-9fc7-347f50486b50",
   "metadata": {},
   "outputs": [],
   "source": [
    "##---------------------------\n",
    "# New palette - cfRNA\n",
    "\n",
    "cf_palette = c('#0234C1','#740C33','#4b7a47','#FB927F','#5CFBF4','#DBB008','#86C35E','#4D5D0D','#2BBBB3','#B27DF2','#1362AB','#FFCCCB')\n",
    "\n",
    "## REORDER BASED ON PREVELANCE\n",
    "sum <- df_melt_cf %>% \n",
    "    filter(Diagnosis == \"MIS-C\" & timepoint == \"acute\") %>% \n",
    "    group_by(celltype) %>% summarize(mean=mean(fraction))\n",
    "\n",
    "sum <- sum[order(sum$mean,decreasing=TRUE),]\n",
    "\n",
    "names(cf_palette) <- sum$celltype\n",
    "\n",
    "##---------------------------\n",
    "# New palette - wbRNA\n",
    "\n",
    "library(qualpalr)\n",
    "num_cells = length(unique(df_melt_wb$celltype))\n",
    "wb_palette = sample(rev(qualpal(num_cells, colorspace=list(h=c(0,360), s=c(0.3,1), l=c(0.2,0.8)))$hex))\n",
    "\n",
    "## REORDER BASED ON PREVELANCE\n",
    "sum <- df_melt_wb %>% \n",
    "    filter(Diagnosis == \"MIS-C\" & timepoint == \"acute\") %>% \n",
    "    group_by(celltype) %>% summarize(mean=mean(fraction))\n",
    "\n",
    "sum <- sum[order(sum$mean,decreasing=TRUE),]\n",
    "\n",
    "names(wb_palette) <- sum$celltype\n",
    "\n",
    "##---------------------------\n",
    "# New palette - wbRNA\n",
    "group_palette = c(\"low\" = \"#FFF200\", \"high\" = \"#2E3192\")"
   ]
  },
  {
   "cell_type": "markdown",
   "id": "ff5babe5-d828-41ef-b606-ff2d4122a7a5",
   "metadata": {
    "tags": []
   },
   "source": [
    "### functions"
   ]
  },
  {
   "cell_type": "code",
   "execution_count": 6,
   "id": "f518992a-6ce7-4e74-8928-0812c065d2da",
   "metadata": {
    "tags": []
   },
   "outputs": [],
   "source": [
    "get_plot_df <- function(mdf, df_melt, MARKER, CUTOFF, ID_VAR, DATE_THRESH = 4){\n",
    "\n",
    "    ##------------------------------------\n",
    "    # If there is a date column associated with the protein\n",
    "    if (paste0(MARKER,\"_date\") %in% colnames(mdf)){\n",
    "        \n",
    "        # filter samples\n",
    "        mdf_pb = mdf %>%  \n",
    "            select(siteid, .data[[MARKER]], paste0(MARKER,\"_date\")) %>% \n",
    "            filter(.data[[MARKER]] != \"\")\n",
    "\n",
    "        mdf_pb[[MARKER]] <- as.numeric(mdf_pb[[MARKER]])\n",
    "\n",
    "        # merge w/ TOO and filter by date\n",
    "        mdf_pb <- merge(mdf_pb, df_melt, by.x = \"siteid\", by.y=\"PTID\") %>%\n",
    "                mutate(date_diff = as.Date(Date) - as.Date(.data[[paste0(MARKER,\"_date\")]])) %>%\n",
    "                filter(date_diff <= DATE_THRESH)\n",
    "        }else{\n",
    "        \n",
    "        print(\"NO DATE\")\n",
    "        # filter samples\n",
    "        mdf_pb = mdf %>% \n",
    "            select(siteid, .data[[MARKER]]) %>% \n",
    "            filter(.data[[MARKER]] != \"\")\n",
    "\n",
    "        mdf_pb[[MARKER]] <- as.numeric(mdf_pb[[MARKER]])\n",
    "\n",
    "        # merge w/ TOO\n",
    "        mdf_pb <- merge(mdf_pb, df_melt, by.x = \"siteid\", by.y=\"PTID\") %>% filter(timepoint == \"acute\")\n",
    "    }\n",
    "    \n",
    "    \n",
    "    ##------------------------------------\n",
    "    # add universal id variable\n",
    "    mdf_pb$sample_id <- mdf_pb[[ID_VAR]]\n",
    "    \n",
    "    ##------------------------------------\n",
    "    # add \"high\" and \"low\" markers\n",
    "    mdf_pb <- mdf_pb %>%\n",
    "            mutate(group = ifelse(.data[[MARKER]] >= CUTOFF, \"high\",\"low\"))\n",
    "    \n",
    "    return(mdf_pb)\n",
    "}\n",
    "\n",
    "plot_protein_too <- function(mdf, df_melt, MARKER, CUTOFF, val_vector, ID_VAR, DATE_THRESH = 4){\n",
    "    \n",
    "    ##------------------------------------\n",
    "    # Get data\n",
    "    mdf_pb <- get_plot_df(mdf, df_melt, MARKER, CUTOFF, ID_VAR, DATE_THRESH)\n",
    "    \n",
    "    ##------------------------------------\n",
    "    # Plot distribution of values\n",
    "    hist_plt <- mdf_pb %>% select(.data[[MARKER]],sample_id) %>% unique() %>% # nrow()\n",
    "        ggplot(aes(.data[[MARKER]])) +\n",
    "        geom_histogram(bins = 50) +\n",
    "        theme(text = element_text(size = 18))+\n",
    "        geom_vline(xintercept = CUTOFF, linetype= \"dashed\", color = \"red\", size = 2, alpha = 0.5)\n",
    "    \n",
    "    ##------------------------------------\n",
    "    # Create conf table\n",
    "    tmp <- mdf_pb %>% select(sample_id, Diagnosis, group) %>% unique() %>% mutate(group = factor(group, levels = c(\"low\",\"high\")))\n",
    "    conf_table <- table(tmp$Diagnosis, tmp$group, useNA = \"ifany\") %>% tableGrob()\n",
    "        \n",
    "    ##------------------------------------\n",
    "    # Make stacked bar plot\n",
    "    too_sum <- mdf_pb %>% \n",
    "            group_by(group,celltype) %>% summarize(mean_fraction = mean(fraction)) %>% ungroup() %>%\n",
    "            mutate(group = factor(group, levels = c(\"low\",\"high\")))\n",
    "    \n",
    "    labels = names(val_vector)\n",
    "\n",
    "    grouped_plot <- too_sum %>%\n",
    "        mutate(celltype=factor(celltype,levels=labels)) %>%\n",
    "        ggplot(aes(x=group,y=mean_fraction,fill=celltype))+\n",
    "        geom_bar(position=\"stack\",stat=\"identity\", colour=\"black\",size = 0.15)+\n",
    "        theme(plot.margin=grid::unit(c(1,0,0,-0.9), \"mm\"),\n",
    "             legend.position = \"bottom\",\n",
    "             text = element_text(size = 18)\n",
    "                )+\n",
    "        scale_fill_manual(values=val_vector)+\n",
    "      guides(fill=guide_legend(nrow=4, byrow=TRUE))+\n",
    "        labs(title = gsub(\"_.*\",\"\",ID_VAR), y = \"fraction\")\n",
    "    \n",
    "    legend <- cowplot::get_legend(grouped_plot)\n",
    "    \n",
    "    grouped_plot <- grouped_plot + theme(legend.position = \"none\")\n",
    "\n",
    "    return(list(\"conf_table\" = conf_table,\n",
    "             \"hist_plt\" = hist_plt,\n",
    "            \"grouped_plot\" = grouped_plot,\n",
    "               \"legend\" = legend))\n",
    "}\n",
    "\n",
    "\n",
    "\n",
    "plot_cto <- function(mdf, df_melt, MARKER, CUTOFF, val_vector, ID_VAR, CELLTYPE, DATE_THRESH = 4){\n",
    "    \n",
    "    ##------------------------------------\n",
    "    # Get data\n",
    "    mdf_pb <- get_plot_df(mdf, df_melt, MARKER, CUTOFF, ID_VAR, DATE_THRESH) %>% \n",
    "        filter(celltype == CELLTYPE)\n",
    "        \n",
    "    boxplot <- mdf_pb %>% \n",
    "        mutate(group = factor(group, levels = c(\"low\",\"high\"))) %>%\n",
    "        ggplot()  + \n",
    "            geom_boxplot(aes(x=group,y=fraction,fill=group),outlier.shape = NA,size = 0.2, color = \"black\")+ #, color = \"black\"\n",
    "            geom_jitter(aes(x=group,y=fraction),width=.2,height=0,size = 0.01)+\n",
    "            theme_prevail()+\n",
    "    #         scale_fill_manual(values=expGroupPalette) + \n",
    "            theme(panel.grid.minor = element_blank())\n",
    "\n",
    "    return(boxplot)\n",
    "}\n",
    "\n",
    "paired_boxplot <- function(df_melt_cf, df_melt_wb, MARKER, CUTOFF, CELLTYPE){\n",
    "\n",
    "    mdf_cf <- get_plot_df(mdf, df_melt_cf, MARKER, CUTOFF, \"cfrna_sample_id\") %>% \n",
    "        select(!cfrna_sample_id) %>%\n",
    "        mutate(analyte = \"cfrna\")\n",
    "\n",
    "    mdf_wb <- get_plot_df(mdf, df_melt_wb, MARKER, CUTOFF, \"wbrna_sample_id\") %>% \n",
    "        select(!wbrna_sample_id) %>%\n",
    "        mutate(analyte = \"wbrna\")\n",
    "    \n",
    "    mdf <- rbind(mdf_cf, mdf_wb) %>% filter(celltype == CELLTYPE) %>% unique()\n",
    "    \n",
    "    stat.test <- mdf %>%\n",
    "    group_by(analyte) %>%\n",
    "    wilcox_test(fraction ~ group, paired = FALSE) %>%\n",
    "    add_xy_position(x=\"analyte\", dodge = 0.8)\n",
    "\n",
    "\n",
    "    boxplot <- mdf %>% \n",
    "            mutate(group = factor(group, levels = c(\"low\",\"high\"))) %>%\n",
    "            mutate(analyte = factor(analyte, levels = c(\"cfrna\",\"wbrna\"))) %>%\n",
    "            ggplot()  + \n",
    "            geom_boxplot(aes(x=analyte,y=fraction,fill=group),outlier.shape = NA,size = 0.2, color = \"black\")+ #, color = \"black\"\n",
    "            geom_point(aes(x = analyte, y= fraction, fill=group),\n",
    "                       position = position_jitterdodge(jitter.width=0.1,seed=100,jitter.height=0),\n",
    "                       size = 0.5,alpha= 0.5)+       # ,pch=21 ,color = \"black\"\n",
    "    #         theme_prevail()+\n",
    "    #         scale_fill_manual(values=expGroupPalette) + \n",
    "            theme(panel.grid.minor = element_blank(),\n",
    "                 text = element_text(size = 18),\n",
    "                 plot.margin=grid::unit(c(1,0,0,-0.9), \"mm\"),\n",
    "                axis.title.y = element_blank())+\n",
    "            labs(title=CELLTYPE)\n",
    "\n",
    "    boxplot <- boxplot + stat_pvalue_manual(stat.test, label = \"p\", tip.length = 0)\n",
    "\n",
    "    return(boxplot)\n",
    "}\n",
    "\n",
    "paired_boxplot_publish <- function(df_melt_cf, df_melt_wb, MARKER, CUTOFF, CELLTYPE, group_palette){\n",
    "\n",
    "    mdf_cf <- get_plot_df(mdf, df_melt_cf, MARKER, CUTOFF, \"cfrna_sample_id\") %>% \n",
    "        select(!cfrna_sample_id) %>%\n",
    "        mutate(analyte = \"cfrna\")\n",
    "\n",
    "    mdf_wb <- get_plot_df(mdf, df_melt_wb, MARKER, CUTOFF, \"wbrna_sample_id\") %>% \n",
    "        select(!wbrna_sample_id) %>%\n",
    "        mutate(analyte = \"wbrna\")\n",
    "    \n",
    "    mdf <- rbind(mdf_cf, mdf_wb) %>% filter(celltype == CELLTYPE) %>% unique()\n",
    "    \n",
    "    stat.test <- mdf %>%\n",
    "    group_by(analyte) %>%\n",
    "    wilcox_test(fraction ~ group, paired = FALSE) %>% \n",
    "    add_significance(\"p\") %>%\n",
    "    add_xy_position(x=\"analyte\", dodge = 0.8)\n",
    "\n",
    "    boxplot <- mdf %>% \n",
    "            mutate(group = factor(group, levels = c(\"low\",\"high\"))) %>%\n",
    "            mutate(analyte = factor(analyte, levels = c(\"cfrna\",\"wbrna\"))) %>%\n",
    "            ggplot()  + \n",
    "            geom_boxplot(aes(x=analyte,y=fraction,fill=group),outlier.shape = NA,size = 0.2, color = \"black\")+ #, color = \"black\"\n",
    "            geom_point(aes(x = analyte, y= fraction, fill=group),\n",
    "                       position = position_jitterdodge(jitter.width=0.2,seed=100,jitter.height=0),\n",
    "                       size = 0.5)+       # ,pch=21 ,color = \"black\"\n",
    "            theme_prevail()+\n",
    "            scale_fill_manual(values = group_palette) + \n",
    "            theme(panel.grid.minor = element_blank(),\n",
    "                 text = element_text(size = 18),\n",
    "                 plot.margin=grid::unit(c(1,1,1,1), \"mm\"),\n",
    "                axis.title.y = element_blank(),\n",
    "                 axis.title.x = element_blank(),\n",
    "                 title = element_blank())\n",
    "\n",
    "    boxplot <- boxplot + stat_pvalue_manual(stat.test, label = \"p\", tip.length = 0, label.size = 2)\n",
    "\n",
    "    return(boxplot)\n",
    "}"
   ]
  },
  {
   "cell_type": "code",
   "execution_count": 7,
   "id": "f9acfca8-f2d7-42fe-a44a-c39a54008c55",
   "metadata": {
    "tags": []
   },
   "outputs": [],
   "source": [
    "make_all_plots <- function(df_melt_cf, df_melt_wb, mdf, MARKER, CUTOFF, CELLTYPE, cf_palette, wb_palette,group_palette){\n",
    "\n",
    "    cfrna <- plot_protein_too(mdf, df_melt_cf, MARKER, CUTOFF,\n",
    "                            cf_palette, \"cfrna_sample_id\", DATE_THRESH = 4)\n",
    "\n",
    "    wbrna <- plot_protein_too(mdf, df_melt_wb, MARKER, CUTOFF,\n",
    "                              cf_palette, \"wbrna_sample_id\", DATE_THRESH = 4)\n",
    "\n",
    "    ##------------------------------------\n",
    "    # Comparison w/ histograms\n",
    "    options(repr.plot.width =15, repr.plot.height= 8)\n",
    "\n",
    "    lay = rbind(c(1,1,5,5,6,6),\n",
    "                c(3,3,5,5,6,6),\n",
    "                c(2,2,5,5,6,6),\n",
    "                c(4,4,7,7,7,7))\n",
    "\n",
    "    comp_hist <- grid.arrange(cfrna$conf_table,wbrna$conf_table,\n",
    "                 cfrna$hist_plt, wbrna$hist_plt,\n",
    "                 cfrna$grouped_plot, wbrna$grouped_plot,\n",
    "                 cfrna$legend,\n",
    "                 layout_matrix = lay, \n",
    "                 top = textGrob(MARKER,gp=gpar(fontsize=30,font=1)))\n",
    "\n",
    "    ##------------------------------------\n",
    "    # Comparison w/ boxplots\n",
    "\n",
    "    boxplot <- paired_boxplot(df_melt_cf, df_melt_wb, MARKER, CUTOFF, CELLTYPE)\n",
    "\n",
    "\n",
    "    options(repr.plot.width =15, repr.plot.height= 8)\n",
    "\n",
    "    lay = rbind(c(1,1,2,2,4,4,4,4),\n",
    "                c(1,1,2,2,4,4,4,4),\n",
    "                c(1,1,2,2,4,4,4,4),\n",
    "                c(3,3,3,3,3,3,3,3))\n",
    "\n",
    "    grid.arrange(cfrna$grouped_plot, wbrna$grouped_plot+theme(axis.text.y = element_blank(),\n",
    "                                                              axis.title.y = element_blank(),\n",
    "                                                             axis.ticks.y = element_blank()),\n",
    "                 cfrna$legend,\n",
    "                 boxplot,\n",
    "                 layout_matrix = lay, \n",
    "                 top = textGrob(MARKER,gp=gpar(fontsize=30,font=1)))\n",
    "    \n",
    "    \n",
    "    publ_plt <- paired_boxplot_publish(df_melt_cf, df_melt_wb, MARKER, CUTOFF, CELLTYPE, group_palette)\n",
    "    \n",
    "    return(publ_plt)\n",
    "}"
   ]
  },
  {
   "cell_type": "markdown",
   "id": "c85e4744-8fea-4ecb-855f-e8fdbfac7ded",
   "metadata": {
    "tags": []
   },
   "source": [
    "---\n",
    "# publish figures"
   ]
  },
  {
   "cell_type": "code",
   "execution_count": 12,
   "id": "de12412e-294b-4403-9f8f-c0a993ade2c6",
   "metadata": {
    "tags": []
   },
   "outputs": [
    {
     "name": "stderr",
     "output_type": "stream",
     "text": [
      "\u001b[1m\u001b[22m`summarise()` has grouped output by 'group'. You can override using the `.groups` argument.\n",
      "\u001b[1m\u001b[22m`summarise()` has grouped output by 'group'. You can override using the `.groups` argument.\n",
      "\u001b[1m\u001b[22m`summarise()` has grouped output by 'group'. You can override using the `.groups` argument.\n",
      "\u001b[1m\u001b[22m`summarise()` has grouped output by 'group'. You can override using the `.groups` argument.\n",
      "\u001b[1m\u001b[22m`summarise()` has grouped output by 'group'. You can override using the `.groups` argument.\n",
      "\u001b[1m\u001b[22m`summarise()` has grouped output by 'group'. You can override using the `.groups` argument.\n",
      "Warning message in get_plot_df(mdf, df_melt, MARKER, CUTOFF, ID_VAR, DATE_THRESH):\n",
      "“NAs introduced by coercion”\n",
      "\u001b[1m\u001b[22m`summarise()` has grouped output by 'group'. You can override using the `.groups` argument.\n",
      "Warning message in get_plot_df(mdf, df_melt, MARKER, CUTOFF, ID_VAR, DATE_THRESH):\n",
      "“NAs introduced by coercion”\n",
      "\u001b[1m\u001b[22m`summarise()` has grouped output by 'group'. You can override using the `.groups` argument.\n",
      "Warning message in get_plot_df(mdf, df_melt_cf, MARKER, CUTOFF, \"cfrna_sample_id\"):\n",
      "“NAs introduced by coercion”\n",
      "Warning message in get_plot_df(mdf, df_melt_wb, MARKER, CUTOFF, \"wbrna_sample_id\"):\n",
      "“NAs introduced by coercion”\n",
      "Warning message in get_plot_df(mdf, df_melt_cf, MARKER, CUTOFF, \"cfrna_sample_id\"):\n",
      "“NAs introduced by coercion”\n",
      "Warning message in get_plot_df(mdf, df_melt_wb, MARKER, CUTOFF, \"wbrna_sample_id\"):\n",
      "“NAs introduced by coercion”\n"
     ]
    },
    {
     "data": {
      "text/html": [
       "<strong>png:</strong> 2"
      ],
      "text/latex": [
       "\\textbf{png:} 2"
      ],
      "text/markdown": [
       "**png:** 2"
      ],
      "text/plain": [
       "png \n",
       "  2 "
      ]
     },
     "metadata": {},
     "output_type": "display_data"
    }
   ],
   "source": [
    "##--------------------------\n",
    "# pdf(file=paste0(\"plots/panelF_wbc-platelet.pdf\"),\n",
    "#     width=WIDTH,height=HEIGHT, paper=\"special\", bg=\"white\",\n",
    "#     fonts=\"Helvetica\", colormodel = \"srgb\", pointsize=6, useDingbats = FALSE)\n",
    "\n",
    "png(file = \"tmp.tmp\")\n",
    "\n",
    "MARKER = \"crp\"\n",
    "CUTOFF = 18\n",
    "CELLTYPE = \"Endothelial Cell\"\n",
    "crp_plt <- make_all_plots(df_melt_cf, df_melt_wb, mdf, MARKER, CUTOFF, CELLTYPE, cf_palette, wb_palette, group_palette)\n",
    "\n",
    "\n",
    "MARKER = \"wbc\"\n",
    "CUTOFF = 11\n",
    "CELLTYPE = 'Platelet'\n",
    "wbc_plt <- make_all_plots(df_melt_cf, df_melt_wb, mdf, MARKER, CUTOFF, CELLTYPE, cf_palette, wb_palette,group_palette)\n",
    "\n",
    "\n",
    "MARKER = \"alt\"\n",
    "CUTOFF = 36\n",
    "CELLTYPE = 'Intrahepatic cholangiocyte'\n",
    "alt_plt <- make_all_plots(df_melt_cf, df_melt_wb, mdf, MARKER, CUTOFF, CELLTYPE, cf_palette, wb_palette, group_palette)\n",
    "\n",
    "\n",
    "MARKER = \"alb\"\n",
    "CUTOFF = 3.4\n",
    "CELLTYPE = 'Kidney Epithelial Cell'\n",
    "alb_plt <- make_all_plots(df_melt_cf, df_melt_wb, mdf, MARKER, CUTOFF, CELLTYPE, cf_palette, wb_palette, group_palette)\n",
    "dev.off()\n",
    "\n",
    "system(\"rm tmp.tmp\")"
   ]
  },
  {
   "cell_type": "code",
   "execution_count": 13,
   "id": "94dc541e-1e0a-45ec-8138-f897372cb6a9",
   "metadata": {},
   "outputs": [
    {
     "data": {
      "text/html": [
       "<strong>png:</strong> 2"
      ],
      "text/latex": [
       "\\textbf{png:} 2"
      ],
      "text/markdown": [
       "**png:** 2"
      ],
      "text/plain": [
       "png \n",
       "  2 "
      ]
     },
     "metadata": {},
     "output_type": "display_data"
    },
    {
     "data": {
      "text/html": [
       "<strong>png:</strong> 2"
      ],
      "text/latex": [
       "\\textbf{png:} 2"
      ],
      "text/markdown": [
       "**png:** 2"
      ],
      "text/plain": [
       "png \n",
       "  2 "
      ]
     },
     "metadata": {},
     "output_type": "display_data"
    },
    {
     "data": {
      "text/html": [
       "<strong>png:</strong> 2"
      ],
      "text/latex": [
       "\\textbf{png:} 2"
      ],
      "text/markdown": [
       "**png:** 2"
      ],
      "text/plain": [
       "png \n",
       "  2 "
      ]
     },
     "metadata": {},
     "output_type": "display_data"
    },
    {
     "data": {
      "text/html": [
       "<strong>png:</strong> 2"
      ],
      "text/latex": [
       "\\textbf{png:} 2"
      ],
      "text/markdown": [
       "**png:** 2"
      ],
      "text/plain": [
       "png \n",
       "  2 "
      ]
     },
     "metadata": {},
     "output_type": "display_data"
    }
   ],
   "source": [
    "options(repr.plot.width = 8, repr.plot.height = 6)\n",
    "\n",
    "WIDTH = 1.55\n",
    "HEIGHT = 1.28\n",
    "\n",
    "\n",
    "##--------------------------\n",
    "pdf(file=paste0(\"plots/panelF_wbc-platelet.pdf\"),\n",
    "    width=WIDTH,height=HEIGHT, paper=\"special\", bg=\"white\",\n",
    "    fonts=\"Helvetica\", colormodel = \"srgb\", pointsize=6, useDingbats = FALSE)\n",
    "\n",
    "YLIM = 1.2\n",
    "wbc_plt + scale_y_continuous(breaks = c(0, YLIM/3, (YLIM/3)*2 , YLIM)) + coord_cartesian(ylim = c(0,YLIM*1.05))\n",
    "\n",
    "dev.off()\n",
    "##--------------------------\n",
    "pdf(file=paste0(\"plots/panelF_crp-endothelial.pdf\"),\n",
    "    width=WIDTH,height=HEIGHT, paper=\"special\", bg=\"white\",\n",
    "    fonts=\"Helvetica\", colormodel = \"srgb\", pointsize=6, useDingbats = FALSE)\n",
    "\n",
    "YLIM = 0.6\n",
    "crp_plt + scale_y_continuous(breaks = c(0, YLIM/3, (YLIM/3)*2 , YLIM)) + coord_cartesian(ylim = c(0,YLIM*1.05))\n",
    "\n",
    "dev.off()\n",
    "\n",
    "WIDTH = 1.64\n",
    "##--------------------------\n",
    "pdf(file=paste0(\"plots/panelF_alb-kidney.pdf\"),\n",
    "    width=WIDTH,height=HEIGHT, paper=\"special\", bg=\"white\",\n",
    "    fonts=\"Helvetica\", colormodel = \"srgb\", pointsize=6, useDingbats = FALSE)\n",
    "\n",
    "YLIM = 0.021\n",
    "alb_plt + scale_y_continuous(breaks = c(0, YLIM/3, (YLIM/3)*2 , YLIM)) + coord_cartesian(ylim = c(0,YLIM*1.05))\n",
    "\n",
    "dev.off()\n",
    "##--------------------------\n",
    "pdf(file=paste0(\"plots/panelF_alt-liver.pdf\"),\n",
    "    width=WIDTH,height=HEIGHT, paper=\"special\", bg=\"white\",\n",
    "    fonts=\"Helvetica\", colormodel = \"srgb\", pointsize=6, useDingbats = FALSE)\n",
    "\n",
    "YLIM = 0.042\n",
    "alt_plt + scale_y_continuous(breaks = c(0, YLIM/3, (YLIM/3)*2 , YLIM)) + coord_cartesian(ylim = c(0,YLIM*1.05))\n",
    "\n",
    "dev.off()"
   ]
  }
 ],
 "metadata": {
  "kernelspec": {
   "display_name": "R",
   "language": "R",
   "name": "ir"
  },
  "language_info": {
   "codemirror_mode": "r",
   "file_extension": ".r",
   "mimetype": "text/x-r-source",
   "name": "R",
   "pygments_lexer": "r",
   "version": "4.1.1"
  }
 },
 "nbformat": 4,
 "nbformat_minor": 5
}
