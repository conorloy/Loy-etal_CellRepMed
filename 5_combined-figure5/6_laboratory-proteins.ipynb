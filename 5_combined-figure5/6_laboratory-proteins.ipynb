{
 "cells": [
  {
   "cell_type": "code",
   "execution_count": 1,
   "id": "0dff1a9e-6b61-4acf-9508-43d552956a9d",
   "metadata": {},
   "outputs": [],
   "source": [
    "suppressMessages(library(tidyverse))\n",
    "suppressMessages(library(reshape2))\n",
    "suppressMessages(library(gridExtra))\n",
    "suppressMessages(library(grid))\n",
    "suppressMessages(library(rstatix))\n",
    "suppressMessages(library(ggpubr))\n",
    "\n",
    "suppressMessages(source(\"../0_support-files/theme_CRP-MISC.R\"))\n",
    "\n",
    "protein_rds <- readRDS(\"../1_sample-data/protein_val_date.rds\")\n",
    "\n",
    "CELLTYPES <- c('Intrahepatic.cholangiocyte','NK.Cell','Monocyte','Macrophage','Secretory.cell','Respiratory.ciliated.cell',\n",
    "               'Ionocyte.luminal.epithelial.cell.of.mammary.gland','Fibroblast.mesenchymal.stem.cell','Respiratory.secretory.cell',\n",
    "               'Mast.cell','Basal.cell','Endothelial.cell','neutrophil','B.cell','T.Cell','Erythrocyte.erythroid.progenitor','Platelet',\n",
    "               'Basophil','Stromal.cell','Mature.conventional.dendritic.cell','Adventitial.cell','Gland.cell','Salivary.bronchial.secretory.cell',\n",
    "               'Pericyte.cell','Myeloid.progenitor','Pancreatic.Stellate.cell','Pancreatic.alpha.beta.cell','Basal.prostate.cell',\n",
    "               'Prostate.epithelia','Salivary.gland.cell','Intestinal.enterocyte','Intestinal.secretory.cell','Intestinal.tuft.cell',\n",
    "               'Type.II.Pneumocyte','Cell.of.skeletal.muscle','Schwann.cell','Tendon.cell','Mesothelial.cell','Plasmablast',\n",
    "               'Kidney.epithelial.cell','Thymocyte')"
   ]
  },
  {
   "cell_type": "markdown",
   "id": "fe93230b-9f2d-4078-907e-c310e2c3f01e",
   "metadata": {
    "tags": []
   },
   "source": [
    "---\n",
    "# cfRNA and wbRNA data"
   ]
  },
  {
   "cell_type": "markdown",
   "id": "f83d9b2d-2231-4878-8405-c3d64c7b8863",
   "metadata": {
    "tags": []
   },
   "source": [
    "### cfRNA"
   ]
  },
  {
   "cell_type": "code",
   "execution_count": 2,
   "id": "d52882d5-8656-4430-83e7-7d5342fd0b6b",
   "metadata": {
    "tags": []
   },
   "outputs": [
    {
     "name": "stderr",
     "output_type": "stream",
     "text": [
      "\u001b[1m\u001b[22m`summarise()` has grouped output by 'celltype', 'PTID', 'cfrna_sample_id', 'group', 'Diagnosis', 'severity', 'timepoint', 'reads_sequenced', 'feature_counts', 'intron_exon_ratio', 'bias53',\n",
      "'rRNA_reads', 'ivig', 'days_ivig_before_samp', 'ivig_rel_samp', 'PTID_TIME'. You can override using the `.groups` argument.\n"
     ]
    }
   ],
   "source": [
    "##------------------------------------\n",
    "# META DATA\n",
    "meta_data_too <- read.csv(\"../1_sample-data/STable6_cfrna-samples.csv\") %>%  \n",
    "    mutate(PTID_TIME = paste0(PTID,\"_\",timepoint)) #%>%\n",
    "    # filter(cfrna_sample_id %in% all_of(paired$cfrna_sample_id)) %>%\n",
    "    # filter(timepoint == \"acute\")\n",
    "\n",
    "# cf_decon <- cf_meta[,c(\"cfrna_sample_id\",CELLTYPES)]%>%\n",
    "#     filter(cfrna_sample_id %in% all_of(cf_meta$cfrna_sample_id))\n",
    "\n",
    "# ##------------------------------------\n",
    "# # MERGE\n",
    "# meta_data_too = merge(cf_meta,cf_decon,by=\"cfrna_sample_id\")\n",
    "\n",
    "##------------------------------------\n",
    "# MELT\n",
    "\n",
    "IDVARS = colnames(meta_data_too)\n",
    "IDVARS = IDVARS[!(IDVARS %in% CELLTYPES)]\n",
    "df_melt <- melt(meta_data_too,id.vars=IDVARS)\n",
    "i = length(IDVARS)\n",
    "colnames(df_melt)[(i+1):(i+2)] <- c(\"celltype\",\"fraction\")\n",
    "\n",
    "\n",
    "##---------------------------\n",
    "# Relabel cell types\n",
    "\n",
    "group = list(\"Myeloid Progenitor\" = c(\"Myeloid.progenitor\"),\n",
    "             \"Erythrocyte/Erythroid Progenitor\" = c(\"Erythrocyte.erythroid.progenitor\"),\n",
    "             \"Intestinal Epithelial\" = c(\"Intestinal.tuft.cell\",\"Intestinal.enterocyte\"),\n",
    "             \"T Cell / NK Cell\" = c(\"T.Cell\",\"NK.Cell\"),\n",
    "            \"Kidney Epithelial Cell\" = c(\"Kidney.epithelial.cell\"),\n",
    "            \"Endothelial Cell\" = c(\"Endothelial.cell\"),\n",
    "             \"Neutrophil\" = c(\"neutrophil\"),\n",
    "             \"Platelet\" = c(\"Platelet\"),\n",
    "             \"Monocyte\" = c(\"Monocyte\"),\n",
    "             \"Thymocyte\" = c(\"Thymocyte\"),\n",
    "             'Intrahepatic cholangiocyte' = c('Intrahepatic.cholangiocyte')\n",
    "            )\n",
    "\n",
    "# create dataframe\n",
    "df2 <- stack(group) \n",
    "colnames(df2) <- c(\"celltype\",\"new_celltype\")\n",
    "\n",
    "# merge and fix nas\n",
    "df_melt2 <- merge(df_melt,df2,all.x=TRUE)\n",
    "df_melt2$new_celltype <- as.character(df_melt2$new_celltype)\n",
    "df_melt_all <- df_melt2                                                     ### SAVE FOR LATER PLOTTING\n",
    "df_melt2[is.na(df_melt2$new_celltype),\"new_celltype\"] <- \"other\"\n",
    "\n",
    "# Save as main table\n",
    "df_melt2$celltype <- df_melt2$new_celltype\n",
    "df_melt2 <- df_melt2 %>% group_by(across(c(-fraction))) %>% summarize(fraction = sum(fraction))\n",
    "\n",
    "df_melt <- df_melt2 %>% ungroup()\n",
    "\n",
    "\n",
    "##------------------------------------\n",
    "# MODIFY IDs\n",
    "df_melt <- df_melt %>%\n",
    "    select(cfrna_sample_id,Diagnosis,timepoint,PTID,severity,celltype,fraction) %>%\n",
    "    mutate(PTID = toupper(PTID))\n",
    "\n",
    "df_melt_cf <- df_melt\n",
    "\n",
    "df_melt_cf <- df_melt_cf %>% select(!PTID)\n",
    "\n"
   ]
  },
  {
   "cell_type": "markdown",
   "id": "45a508be-5015-4e3b-beed-13d4f6663609",
   "metadata": {
    "tags": []
   },
   "source": [
    "### wbrna"
   ]
  },
  {
   "cell_type": "code",
   "execution_count": 3,
   "id": "ebcb9699-75dc-4a4c-9d79-0e589a945084",
   "metadata": {},
   "outputs": [
    {
     "name": "stderr",
     "output_type": "stream",
     "text": [
      "\u001b[1m\u001b[22m`summarise()` has grouped output by 'celltype', 'PTID', 'wbrna_sample_id', 'group', 'Diagnosis', 'severity', 'timepoint', 'reads_sequenced', 'transcriptome_cov', 'ivig',\n",
      "'days_ivig_before_samp', 'ivig_rel_samp', 'PTID_TIME'. You can override using the `.groups` argument.\n"
     ]
    }
   ],
   "source": [
    "##------------------------------------\n",
    "# META DATA\n",
    "wb_meta <- read.csv(\"../1_sample-data/STable7_wbrna-samples.csv\") %>% \n",
    "    mutate(PTID_TIME = paste0(PTID,\"_\",timepoint))# %>%\n",
    "    # filter(wbrna_sample_id %in% all_of(paired$wbrna_sample_id))%>%\n",
    "    # filter(timepoint == \"acute\")\n",
    "\n",
    "\n",
    "##------------------------------------\n",
    "# MERGE\n",
    "meta_data_too = wb_meta\n",
    "\n",
    "##------------------------------------\n",
    "# MELT\n",
    "\n",
    "IDVARS = colnames(wb_meta)\n",
    "IDVARS = IDVARS[!(IDVARS %in% CELLTYPES)]\n",
    "df_melt <- melt(meta_data_too,id.vars=IDVARS)\n",
    "i = length(IDVARS)\n",
    "colnames(df_melt)[(i+1):(i+2)] <- c(\"celltype\",\"fraction\")\n",
    "\n",
    "\n",
    "##---------------------------\n",
    "# Relabel cell types\n",
    "\n",
    "group = list(\"Myeloid Progenitor\" = c(\"Myeloid.progenitor\"),\n",
    "             \"Erythrocyte/Erythroid Progenitor\" = c(\"Erythrocyte.erythroid.progenitor\"),\n",
    "             \"Intestinal Epithelial\" = c(\"Intestinal.tuft.cell\",\"Intestinal.enterocyte\"),\n",
    "             \"T Cell / NK Cell\" = c(\"T.Cell\",\"NK.Cell\"),\n",
    "            \"Kidney Epithelial Cell\" = c(\"Kidney.epithelial.cell\"),\n",
    "            \"Endothelial Cell\" = c(\"Endothelial.cell\"),\n",
    "             \"Neutrophil\" = c(\"neutrophil\"),\n",
    "             \"Platelet\" = c(\"Platelet\"),\n",
    "             \"Monocyte\" = c(\"Monocyte\"),\n",
    "             \"Thymocyte\" = c(\"Thymocyte\"),\n",
    "             'Intrahepatic cholangiocyte' = c('Intrahepatic.cholangiocyte')\n",
    "            )\n",
    "\n",
    "# create dataframe\n",
    "df2 <- stack(group) \n",
    "colnames(df2) <- c(\"celltype\",\"new_celltype\")\n",
    "\n",
    "# merge and fix nas\n",
    "df_melt2 <- merge(df_melt,df2,all.x=TRUE)\n",
    "df_melt2$new_celltype <- as.character(df_melt2$new_celltype)\n",
    "df_melt_all <- df_melt2                                                     ### SAVE FOR LATER PLOTTING\n",
    "df_melt2[is.na(df_melt2$new_celltype),\"new_celltype\"] <- \"other\"\n",
    "\n",
    "# Save as main table\n",
    "df_melt2$celltype <- df_melt2$new_celltype\n",
    "df_melt2 <- df_melt2 %>% group_by(across(c(-fraction))) %>% summarize(fraction = sum(fraction))\n",
    "\n",
    "df_melt <- df_melt2 %>% ungroup()\n",
    "\n",
    "##------------------------------------\n",
    "# MODIFY IDs\n",
    "df_melt <- df_melt %>%\n",
    "    select(wbrna_sample_id,Diagnosis,timepoint,PTID,severity,celltype,fraction) %>%\n",
    "    mutate(PTID = toupper(PTID))\n",
    "\n",
    "df_melt_wb <- df_melt\n",
    "\n",
    "df_melt_wb <- df_melt_wb %>% select(!PTID)\n",
    "\n"
   ]
  },
  {
   "cell_type": "markdown",
   "id": "4c004a56-58ac-4d09-affe-b336791c326d",
   "metadata": {
    "tags": []
   },
   "source": [
    "---\n",
    "# Saved Variables"
   ]
  },
  {
   "cell_type": "markdown",
   "id": "67e246cb-29ac-4ae5-97b4-3e15fbf8d024",
   "metadata": {
    "tags": []
   },
   "source": [
    "### palettes"
   ]
  },
  {
   "cell_type": "code",
   "execution_count": 5,
   "id": "e679b4a8-acbc-4dd4-9fc7-347f50486b50",
   "metadata": {},
   "outputs": [],
   "source": [
    "##---------------------------\n",
    "# New palette - cfRNA\n",
    "\n",
    "cf_palette = c('#0234C1','#740C33','#4b7a47','#FB927F','#5CFBF4','#DBB008','#86C35E','#4D5D0D','#2BBBB3','#B27DF2','#1362AB','#FFCCCB')\n",
    "\n",
    "## REORDER BASED ON PREVELANCE\n",
    "sum <- df_melt_cf %>% \n",
    "    filter(Diagnosis == \"MIS-C\" & timepoint == \"acute\") %>% \n",
    "    group_by(celltype) %>% summarize(mean=mean(fraction))\n",
    "\n",
    "sum <- sum[order(sum$mean,decreasing=TRUE),]\n",
    "\n",
    "names(cf_palette) <- sum$celltype\n",
    "\n",
    "##---------------------------\n",
    "# New palette - wbRNA\n",
    "\n",
    "library(qualpalr)\n",
    "num_cells = length(unique(df_melt_wb$celltype))\n",
    "wb_palette = sample(rev(qualpal(num_cells, colorspace=list(h=c(0,360), s=c(0.3,1), l=c(0.2,0.8)))$hex))\n",
    "\n",
    "## REORDER BASED ON PREVELANCE\n",
    "sum <- df_melt_wb %>% \n",
    "    filter(Diagnosis == \"MIS-C\" & timepoint == \"acute\") %>% \n",
    "    group_by(celltype) %>% summarize(mean=mean(fraction))\n",
    "\n",
    "sum <- sum[order(sum$mean,decreasing=TRUE),]\n",
    "\n",
    "names(wb_palette) <- sum$celltype\n",
    "\n",
    "##---------------------------\n",
    "# New palette - wbRNA\n",
    "group_palette = c(\"low\" = \"#FFF200\", \"high\" = \"#2E3192\")"
   ]
  },
  {
   "cell_type": "markdown",
   "id": "ff5babe5-d828-41ef-b606-ff2d4122a7a5",
   "metadata": {
    "tags": []
   },
   "source": [
    "### functions"
   ]
  },
  {
   "cell_type": "code",
   "execution_count": 6,
   "id": "f518992a-6ce7-4e74-8928-0812c065d2da",
   "metadata": {
    "tags": []
   },
   "outputs": [],
   "source": [
    "get_plot_df <- function(mdf, df_melt, MARKER, CUTOFF, ID_VAR, DATE_THRESH = 4){\n",
    "\n",
    "    if (mdf[1,\"date_diff\"] != \"NO DATE\" | is.na(mdf[1,\"date_diff\"])){\n",
    "        \n",
    "        mdf <- mdf %>% arrange(.data[[ID_VAR]],date_diff)\n",
    "        mdf <- mdf[!duplicated(mdf[[ID_VAR]]),]\n",
    "        \n",
    "        # filter samples\n",
    "        mdf_pb = mdf %>%  \n",
    "            filter(date_diff <= DATE_THRESH) %>%\n",
    "            select(.data[[ID_VAR]], .data[[MARKER]])\n",
    "        \n",
    "        mdf_pb = merge(mdf_pb, df_melt, by=ID_VAR) %>%\n",
    "            filter(!is.na(.data[[MARKER]])) %>%\n",
    "            filter(.data[[MARKER]] != \"\")\n",
    "            \n",
    "        mdf_pb[[MARKER]] <- as.numeric(mdf_pb[[MARKER]])\n",
    "    \n",
    "    } else{\n",
    "        mdf <- mdf %>% arrange(.data[[ID_VAR]],desc(.data[[MARKER]]))\n",
    "        mdf <- mdf[!duplicated(mdf[[ID_VAR]]),]\n",
    "        \n",
    "        # filter samples\n",
    "        mdf_pb = mdf %>% \n",
    "            select(.data[[ID_VAR]], .data[[MARKER]]) %>% \n",
    "            filter(!is.na(.data[[MARKER]])) %>%\n",
    "            filter(.data[[MARKER]] != \"\")\n",
    "\n",
    "        mdf_pb[[MARKER]] <- as.numeric(mdf_pb[[MARKER]])\n",
    "\n",
    "        # merge w/ TOO\n",
    "        mdf_pb <- merge(mdf_pb, df_melt, by=ID_VAR) %>% \n",
    "            filter(timepoint == \"acute\") \n",
    "    \n",
    "    }\n",
    "    ##------------------------------------\n",
    "    # add universal id variable\n",
    "    mdf_pb$sample_id <- mdf_pb[[ID_VAR]]\n",
    "    \n",
    "    ##------------------------------------\n",
    "    # add \"high\" and \"low\" markers\n",
    "    mdf_pb <- mdf_pb %>%\n",
    "            mutate(group = ifelse(.data[[MARKER]] >= CUTOFF, \"high\",\"low\"))\n",
    "    \n",
    "    return(mdf_pb)\n",
    "}\n",
    "\n",
    "paired_boxplot_publish <- function(df_melt_cf, df_melt_wb, mdf, MARKER, CUTOFF, CELLTYPE, group_palette){\n",
    "\n",
    "    mdf_cf <- get_plot_df(mdf, df_melt_cf, MARKER, CUTOFF, \"cfrna_sample_id\") %>% \n",
    "        select(!cfrna_sample_id) %>%\n",
    "        mutate(analyte = \"cfrna\")\n",
    "    \n",
    "    mdf_wb <- get_plot_df(mdf, df_melt_wb, MARKER, CUTOFF, \"wbrna_sample_id\") %>% \n",
    "        select(!wbrna_sample_id) %>%\n",
    "        mutate(analyte = \"wbrna\")\n",
    "    \n",
    "    cat(\"\\n---------------\\n\")\n",
    "    cat(MARKER)\n",
    "    cat(\"\\ncfrna:\\n\")\n",
    "    mdf_cf %>% filter(celltype == CELLTYPE) %>% pull(group) %>% table() %>% print()\n",
    "    cat(\"\\nwbrna:\\n\")\n",
    "    mdf_wb %>% filter(celltype == CELLTYPE) %>% pull(group) %>% table() %>% print()\n",
    "    \n",
    "    mdf <- rbind(mdf_cf, mdf_wb) %>% filter(celltype == CELLTYPE) %>% unique()\n",
    "    \n",
    "    stat.test <- mdf %>%\n",
    "    group_by(analyte) %>%\n",
    "    wilcox_test(fraction ~ group, paired = FALSE) %>% \n",
    "    add_significance(\"p\") %>%\n",
    "    add_xy_position(x=\"analyte\", dodge = 0.8)\n",
    "\n",
    "    boxplot <- mdf %>% \n",
    "            mutate(group = factor(group, levels = c(\"low\",\"high\"))) %>%\n",
    "            mutate(analyte = factor(analyte, levels = c(\"cfrna\",\"wbrna\"))) %>%\n",
    "            ggplot()  + \n",
    "            geom_boxplot(aes(x=analyte,y=fraction,fill=group),outlier.shape = NA,size = 0.2, color = \"black\")+ #, color = \"black\"\n",
    "            geom_point(aes(x = analyte, y= fraction, fill=group),\n",
    "                       position = position_jitterdodge(jitter.width=0.2,seed=100,jitter.height=0),\n",
    "                       size = 0.5)+       # ,pch=21 ,color = \"black\"\n",
    "            theme_prevail()+\n",
    "            scale_fill_manual(values = group_palette) + \n",
    "            theme(panel.grid.minor = element_blank(),\n",
    "                 text = element_text(size = 18),\n",
    "                 plot.margin=grid::unit(c(1,1,1,1), \"mm\"),\n",
    "                axis.title.y = element_blank(),\n",
    "                 axis.title.x = element_blank(),\n",
    "                 title = element_blank())\n",
    "\n",
    "    boxplot <- boxplot + stat_pvalue_manual(stat.test, label = \"p\", tip.length = 0, label.size = 2)\n",
    "\n",
    "    return(boxplot)\n",
    "}\n"
   ]
  },
  {
   "cell_type": "markdown",
   "id": "c85e4744-8fea-4ecb-855f-e8fdbfac7ded",
   "metadata": {
    "tags": []
   },
   "source": [
    "---\n",
    "# publish figures"
   ]
  },
  {
   "cell_type": "code",
   "execution_count": 11,
   "id": "d12a1635-b9d3-4c15-a45f-f6bfd56922f5",
   "metadata": {},
   "outputs": [
    {
     "name": "stdout",
     "output_type": "stream",
     "text": [
      "\n",
      "---------------\n",
      "crp\n",
      "cfrna:\n",
      ".\n",
      "high  low \n",
      "  18   33 \n",
      "\n",
      "wbrna:\n",
      ".\n",
      "high  low \n",
      "  29   52 \n",
      "\n",
      "---------------\n",
      "wbc\n",
      "cfrna:\n",
      ".\n",
      "high  low \n",
      "  19   29 \n",
      "\n",
      "wbrna:\n",
      ".\n",
      "high  low \n",
      "  35   50 \n",
      "\n",
      "---------------\n",
      "alt\n",
      "cfrna:\n",
      ".\n",
      "high  low \n",
      "  38   30 \n",
      "\n",
      "wbrna:\n",
      ".\n",
      "high  low \n",
      "  51   60 \n",
      "\n",
      "---------------\n",
      "alb\n",
      "cfrna:\n",
      ".\n",
      "high  low \n",
      "  12   37 \n",
      "\n",
      "wbrna:\n",
      ".\n",
      "high  low \n",
      "  23   62 \n"
     ]
    }
   ],
   "source": [
    "MARKER = \"crp\"\n",
    "CUTOFF = 18\n",
    "CELLTYPE = \"Endothelial Cell\"\n",
    "mdf = protein_rds[[MARKER]]\n",
    "crp_plt <- paired_boxplot_publish(df_melt_cf, df_melt_wb, mdf, MARKER, CUTOFF, CELLTYPE, group_palette)\n",
    "    \n",
    "MARKER = \"wbc\"\n",
    "CUTOFF = 11\n",
    "CELLTYPE = 'Platelet'\n",
    "mdf = protein_rds[[MARKER]]\n",
    "wbc_plt <- paired_boxplot_publish(df_melt_cf, df_melt_wb, mdf, MARKER, CUTOFF, CELLTYPE, group_palette)\n",
    "\n",
    "\n",
    "MARKER = \"alt\"\n",
    "CUTOFF = 36\n",
    "CELLTYPE = 'Intrahepatic cholangiocyte'\n",
    "mdf = protein_rds[[MARKER]]\n",
    "alt_plt <- paired_boxplot_publish(df_melt_cf, df_melt_wb, mdf, MARKER, CUTOFF, CELLTYPE, group_palette)\n",
    "\n",
    "\n",
    "MARKER = \"alb\"\n",
    "CUTOFF = 3.4\n",
    "CELLTYPE = 'Kidney Epithelial Cell'\n",
    "mdf = protein_rds[[MARKER]]\n",
    "alb_plt <- paired_boxplot_publish(df_melt_cf, df_melt_wb, mdf, MARKER, CUTOFF, CELLTYPE, group_palette)\n"
   ]
  },
  {
   "cell_type": "code",
   "execution_count": 12,
   "id": "94dc541e-1e0a-45ec-8138-f897372cb6a9",
   "metadata": {},
   "outputs": [
    {
     "data": {
      "text/html": [
       "<strong>png:</strong> 2"
      ],
      "text/latex": [
       "\\textbf{png:} 2"
      ],
      "text/markdown": [
       "**png:** 2"
      ],
      "text/plain": [
       "png \n",
       "  2 "
      ]
     },
     "metadata": {},
     "output_type": "display_data"
    },
    {
     "data": {
      "text/html": [
       "<strong>png:</strong> 2"
      ],
      "text/latex": [
       "\\textbf{png:} 2"
      ],
      "text/markdown": [
       "**png:** 2"
      ],
      "text/plain": [
       "png \n",
       "  2 "
      ]
     },
     "metadata": {},
     "output_type": "display_data"
    },
    {
     "data": {
      "text/html": [
       "<strong>png:</strong> 2"
      ],
      "text/latex": [
       "\\textbf{png:} 2"
      ],
      "text/markdown": [
       "**png:** 2"
      ],
      "text/plain": [
       "png \n",
       "  2 "
      ]
     },
     "metadata": {},
     "output_type": "display_data"
    },
    {
     "data": {
      "text/html": [
       "<strong>png:</strong> 2"
      ],
      "text/latex": [
       "\\textbf{png:} 2"
      ],
      "text/markdown": [
       "**png:** 2"
      ],
      "text/plain": [
       "png \n",
       "  2 "
      ]
     },
     "metadata": {},
     "output_type": "display_data"
    }
   ],
   "source": [
    "options(repr.plot.width = 8, repr.plot.height = 6)\n",
    "\n",
    "WIDTH = 1.55\n",
    "HEIGHT = 1.28\n",
    "\n",
    "\n",
    "##--------------------------\n",
    "pdf(file=paste0(\"plots/panelF_wbc-platelet.pdf\"),\n",
    "    width=WIDTH,height=HEIGHT, paper=\"special\", bg=\"white\",\n",
    "    fonts=\"Helvetica\", colormodel = \"srgb\", pointsize=6, useDingbats = FALSE)\n",
    "\n",
    "YLIM = 1.2\n",
    "wbc_plt + scale_y_continuous(breaks = c(0, YLIM/3, (YLIM/3)*2 , YLIM)) + coord_cartesian(ylim = c(0,YLIM*1.05))\n",
    "\n",
    "dev.off()\n",
    "##--------------------------\n",
    "pdf(file=paste0(\"plots/panelF_crp-endothelial.pdf\"),\n",
    "    width=WIDTH,height=HEIGHT, paper=\"special\", bg=\"white\",\n",
    "    fonts=\"Helvetica\", colormodel = \"srgb\", pointsize=6, useDingbats = FALSE)\n",
    "\n",
    "YLIM = 0.6\n",
    "crp_plt + scale_y_continuous(breaks = c(0, YLIM/3, (YLIM/3)*2 , YLIM)) + coord_cartesian(ylim = c(0,YLIM*1.05))\n",
    "\n",
    "dev.off()\n",
    "\n",
    "WIDTH = 1.64\n",
    "##--------------------------\n",
    "pdf(file=paste0(\"plots/panelF_alb-kidney.pdf\"),\n",
    "    width=WIDTH,height=HEIGHT, paper=\"special\", bg=\"white\",\n",
    "    fonts=\"Helvetica\", colormodel = \"srgb\", pointsize=6, useDingbats = FALSE)\n",
    "\n",
    "YLIM = 0.021\n",
    "alb_plt + scale_y_continuous(breaks = c(0, YLIM/3, (YLIM/3)*2 , YLIM)) + coord_cartesian(ylim = c(0,YLIM*1.05))\n",
    "\n",
    "dev.off()\n",
    "##--------------------------\n",
    "pdf(file=paste0(\"plots/panelF_alt-liver.pdf\"),\n",
    "    width=WIDTH,height=HEIGHT, paper=\"special\", bg=\"white\",\n",
    "    fonts=\"Helvetica\", colormodel = \"srgb\", pointsize=6, useDingbats = FALSE)\n",
    "\n",
    "YLIM = 0.042\n",
    "alt_plt + scale_y_continuous(breaks = c(0, YLIM/3, (YLIM/3)*2 , YLIM)) + coord_cartesian(ylim = c(0,YLIM*1.05))\n",
    "\n",
    "dev.off()"
   ]
  },
  {
   "cell_type": "code",
   "execution_count": null,
   "id": "ec225051-0986-4a44-992b-57d1f6cb10f9",
   "metadata": {},
   "outputs": [],
   "source": []
  }
 ],
 "metadata": {
  "kernelspec": {
   "display_name": "R",
   "language": "R",
   "name": "ir"
  },
  "language_info": {
   "codemirror_mode": "r",
   "file_extension": ".r",
   "mimetype": "text/x-r-source",
   "name": "R",
   "pygments_lexer": "r",
   "version": "4.1.1"
  }
 },
 "nbformat": 4,
 "nbformat_minor": 5
}
