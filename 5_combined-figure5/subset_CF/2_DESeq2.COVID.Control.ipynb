{
 "cells": [
  {
   "cell_type": "code",
   "execution_count": 1,
   "id": "5d3c9563-b5a2-4ea6-bf3c-0eaec170c6d5",
   "metadata": {},
   "outputs": [
    {
     "name": "stderr",
     "output_type": "stream",
     "text": [
      "Warning message:\n",
      "“package ‘magrittr’ was built under R version 4.1.3”\n"
     ]
    }
   ],
   "source": [
    "suppressMessages(library(tidyverse))     # tidyverse will pull in ggplot2, readr, other useful libraries\n",
    "suppressMessages(library(magrittr))      # provides the %>% operator\n",
    "suppressMessages(library(\"genefilter\"))\n",
    "suppressMessages(library(DESeq2))\n",
    "suppressMessages(library(tximport))\n",
    "suppressMessages(library(\"readr\"))\n",
    "suppressMessages(library(\"tximportData\"))\n",
    "suppressMessages(library(data.table))\n",
    "\n",
    "suppressMessages(library(matrixStats))\n",
    "suppressMessages(library(org.Hs.eg.db))\n",
    "suppressMessages(library(topGO))\n",
    "\n",
    "suppressMessages(library(pheatmap))\n",
    "suppressMessages(library(gplots))\n",
    "suppressMessages(library(matrixStats))\n",
    "\n",
    "annotation <- fread(file=\"../../../0_metadata/gencode.biotype.name.key.tsv\")\n",
    "\n",
    "options(stringsAsFactors = FALSE)"
   ]
  },
  {
   "cell_type": "markdown",
   "id": "c52b433a-70d6-4725-a680-e1c51de81a6b",
   "metadata": {
    "tags": []
   },
   "source": [
    "---\n",
    "## Load in Meta Data"
   ]
  },
  {
   "cell_type": "code",
   "execution_count": 2,
   "id": "9bca3e95-bd3e-474b-9875-2d2050364b8c",
   "metadata": {},
   "outputs": [
    {
     "data": {
      "text/plain": [
       "\n",
       "Control_Non-inflammatory                 COVID-19 \n",
       "                      13                       13 "
      ]
     },
     "metadata": {},
     "output_type": "display_data"
    }
   ],
   "source": [
    "meta_data <- read.delim(\"../../../0_metadata/cfrna.tsv\") %>% \n",
    "    filter(sample_group_matched %in% c(2,4, 31))\n",
    "\n",
    "samples <- meta_data\n",
    "\n",
    "GROUPS = c(\"COVID-19\", \"Control_Non-inflammatory\")\n",
    "\n",
    "samples$expGroup <- samples$Diagnosis\n",
    "\n",
    "\n",
    "table(samples$expGroup)\n",
    "\n",
    "\n",
    "output_file = \"2_ALL-results.rds\""
   ]
  },
  {
   "cell_type": "markdown",
   "id": "a977a7ed-4d7f-4032-8347-202cadb41bb4",
   "metadata": {
    "tags": []
   },
   "source": [
    "---"
   ]
  },
  {
   "cell_type": "code",
   "execution_count": 3,
   "id": "8f0cccbe-d1dd-4b2c-8fd4-88ceaa38bd46",
   "metadata": {
    "tags": []
   },
   "outputs": [
    {
     "name": "stderr",
     "output_type": "stream",
     "text": [
      "converting counts to integer mode\n",
      "\n",
      "Warning message in DESeqDataSet(se, design = design, ignoreRank):\n",
      "“some variables in design formula are characters, converting to factors”\n",
      "  Note: levels of factors in the design contain characters other than\n",
      "  letters, numbers, '_' and '.'. It is recommended (but not required) to use\n",
      "  only letters, numbers, and delimiters '_' or '.', as these are safe characters\n",
      "  for column names in R. [This is a message, not a warning or an error]\n",
      "\n"
     ]
    },
    {
     "data": {
      "text/html": [
       "TRUE"
      ],
      "text/latex": [
       "TRUE"
      ],
      "text/markdown": [
       "TRUE"
      ],
      "text/plain": [
       "[1] TRUE"
      ]
     },
     "metadata": {},
     "output_type": "display_data"
    },
    {
     "name": "stderr",
     "output_type": "stream",
     "text": [
      "estimating size factors\n",
      "\n",
      "  Note: levels of factors in the design contain characters other than\n",
      "  letters, numbers, '_' and '.'. It is recommended (but not required) to use\n",
      "  only letters, numbers, and delimiters '_' or '.', as these are safe characters\n",
      "  for column names in R. [This is a message, not a warning or an error]\n",
      "\n",
      "estimating dispersions\n",
      "\n",
      "gene-wise dispersion estimates\n",
      "\n",
      "mean-dispersion relationship\n",
      "\n",
      "  Note: levels of factors in the design contain characters other than\n",
      "  letters, numbers, '_' and '.'. It is recommended (but not required) to use\n",
      "  only letters, numbers, and delimiters '_' or '.', as these are safe characters\n",
      "  for column names in R. [This is a message, not a warning or an error]\n",
      "\n",
      "final dispersion estimates\n",
      "\n",
      "  Note: levels of factors in the design contain characters other than\n",
      "  letters, numbers, '_' and '.'. It is recommended (but not required) to use\n",
      "  only letters, numbers, and delimiters '_' or '.', as these are safe characters\n",
      "  for column names in R. [This is a message, not a warning or an error]\n",
      "\n",
      "fitting model and testing\n",
      "\n",
      "  Note: levels of factors in the design contain characters other than\n",
      "  letters, numbers, '_' and '.'. It is recommended (but not required) to use\n",
      "  only letters, numbers, and delimiters '_' or '.', as these are safe characters\n",
      "  for column names in R. [This is a message, not a warning or an error]\n",
      "\n",
      "-- replacing outliers and refitting for 495 genes\n",
      "-- DESeq argument 'minReplicatesForReplace' = 7 \n",
      "-- original counts are preserved in counts(dds)\n",
      "\n",
      "estimating dispersions\n",
      "\n",
      "  Note: levels of factors in the design contain characters other than\n",
      "  letters, numbers, '_' and '.'. It is recommended (but not required) to use\n",
      "  only letters, numbers, and delimiters '_' or '.', as these are safe characters\n",
      "  for column names in R. [This is a message, not a warning or an error]\n",
      "\n",
      "fitting model and testing\n",
      "\n",
      "  Note: levels of factors in the design contain characters other than\n",
      "  letters, numbers, '_' and '.'. It is recommended (but not required) to use\n",
      "  only letters, numbers, and delimiters '_' or '.', as these are safe characters\n",
      "  for column names in R. [This is a message, not a warning or an error]\n",
      "\n"
     ]
    }
   ],
   "source": [
    "##------------------------------------\n",
    "# load count data with tximport\n",
    "sample_ids = unique(samples$cfrna_file_id)                                                                    # Get sample ids that pass qc\n",
    "\n",
    "counts = read.delim(\"../../../1_sample-output/cfrna_ftcounts.txt\")\n",
    "rownames(counts) <- counts$Geneid\n",
    "\n",
    "counts = counts[,sample_ids]\n",
    "\n",
    "##------------------------------------\n",
    "# Remove ChrX, ChrY, ChrM, and RB genes\n",
    "globin = c('HBA1','HBA2','HBB','HBBP1','HBD',\n",
    "     'HBE1','HBG1','HBG2','HBM','HBQ1',\n",
    "     'HBZ','HBZP1')\n",
    "globin = annotation %>% filter(gene_name %in% all_of(globin)) %>% pull(gene_id) %>% length()\n",
    "\n",
    "gene.list <- read.delim(\"../../../0_metadata/genelist.hs.tsv\",col.names = c(\"type,\",\"ENSMBL\",\"gene_symbol\"))\n",
    "\n",
    "gene.ids <- gsub(\"\\\\..*\",\"\",rownames(counts))\n",
    "\n",
    "exclude.idx <- gene.ids %in% c(gene.list[,2], globin)\n",
    "\n",
    "counts = counts[!exclude.idx,]  \n",
    "\n",
    "\n",
    "##------------------------------------\n",
    "# Contstruct DESeq Data Set\n",
    "dds <- DESeqDataSetFromMatrix(round(counts),\n",
    "                                colData = samples,\n",
    "                                design = ~ expGroup + 0)\n",
    "\n",
    "##------------------------------------\n",
    "# Add Gene metadata\n",
    "annotation <- annotation[match(rownames(dds), annotation$gene_id),]\n",
    "all(rownames(dds) == annotation$ftcount_id)\n",
    "mcols(dds) <- cbind(mcols(dds), annotation)\n",
    "\n",
    "\n",
    "##------------------------------------\n",
    "# Re-factor\n",
    "dds$expGroup <- factor(dds$expGroup, levels = GROUPS)\n",
    "\n",
    "##------------------------------------\n",
    "# Pre-filter\n",
    "# keep <- rowSums(counts(dds)) >= 10\n",
    "# dds <- dds[keep,]\n",
    "\n",
    "##------------------------------------\n",
    "# DAA\n",
    "dds <- DESeq(dds)\n",
    "\n",
    "##------------------------------------\n",
    "# Results\n",
    "res <- results(dds,alpha=0.05, contrast = c(\"expGroup\",GROUPS))\n",
    "\n",
    "res$gene_name <- mcols(dds)$gene_name\n",
    "res$gene_type <- mcols(dds)$gene_type\n",
    "\n",
    "##------------------------------------\n",
    "# Save\n",
    "rslts <- list()\n",
    "rslts[['dds']] <- dds\n",
    "rslts[['res']] <- res\n",
    "saveRDS(rslts, file = output_file)\n",
    "\n",
    "# data.frame(res) %>% rownames_to_column(var=\"GeneID\") %>% write.table(\"./DESeq2_output_tables/cf_covid-cntrl_paired_DESeq.tsv\",sep=\"\\t\",row.names = FALSE)"
   ]
  }
 ],
 "metadata": {
  "kernelspec": {
   "display_name": "R",
   "language": "R",
   "name": "ir"
  },
  "language_info": {
   "codemirror_mode": "r",
   "file_extension": ".r",
   "mimetype": "text/x-r-source",
   "name": "R",
   "pygments_lexer": "r",
   "version": "4.1.1"
  }
 },
 "nbformat": 4,
 "nbformat_minor": 5
}
