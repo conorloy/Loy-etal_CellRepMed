{
 "cells": [
  {
   "cell_type": "code",
   "execution_count": 4,
   "id": "5d3c9563-b5a2-4ea6-bf3c-0eaec170c6d5",
   "metadata": {},
   "outputs": [],
   "source": [
    "suppressMessages(library(tidyverse))     # tidyverse will pull in ggplot2, readr, other useful libraries\n",
    "suppressMessages(library(magrittr))      # provides the %>% operator\n",
    "suppressMessages(library(\"genefilter\"))\n",
    "suppressMessages(library(DESeq2))\n",
    "suppressMessages(library(tximport))\n",
    "suppressMessages(library(\"readr\"))\n",
    "suppressMessages(library(\"tximportData\"))\n",
    "suppressMessages(library(data.table))\n",
    "\n",
    "suppressMessages(library(matrixStats))\n",
    "suppressMessages(library(org.Hs.eg.db))\n",
    "suppressMessages(library(topGO))\n",
    "\n",
    "suppressMessages(library(pheatmap))\n",
    "suppressMessages(library(gplots))\n",
    "suppressMessages(library(matrixStats))\n",
    "\n",
    "suppressMessages(library(data.table))\n",
    "\n",
    "options(stringsAsFactors = FALSE)\n",
    "\n",
    "RDS_FILENAME = \"daa_output/misc-covic_paired.rds\"\n",
    "GENE_TABLE_FILENAME = \"./tables/cf_misc-covid_paired_DESeq.tsv\""
   ]
  },
  {
   "cell_type": "markdown",
   "id": "c52b433a-70d6-4725-a680-e1c51de81a6b",
   "metadata": {
    "tags": []
   },
   "source": [
    "---\n",
    "## Load in Meta Data"
   ]
  },
  {
   "cell_type": "code",
   "execution_count": 5,
   "id": "0883541d-43f9-4dab-a8be-a9a181a23779",
   "metadata": {},
   "outputs": [
    {
     "data": {
      "text/plain": [
       "\n",
       "COVID-19    MIS-C \n",
       "      12       29 "
      ]
     },
     "metadata": {},
     "output_type": "display_data"
    }
   ],
   "source": [
    "meta_data <- read.csv(\"../../1_sample-data/STable6_cfrna-samples.csv\") %>% \n",
    "    filter( (Diagnosis == \"MIS-C\" & timepoint == \"acute\") | (Diagnosis == \"COVID-19\" & timepoint == \"acute\"))\n",
    "\n",
    "paired <- read.delim(\"../../1_sample-data/paired_sample_key.tsv\") %>%\n",
    "    filter(!is.na(cfrna_sample_id) & !is.na(wbrna_sample_id))\n",
    "\n",
    "meta_data <- meta_data %>% filter(cfrna_sample_id %in% all_of(paired$cfrna_sample_id))\n",
    "\n",
    "\n",
    "\n",
    "samples <- meta_data\n",
    "\n",
    "GROUPS = c(\"MIS-C\", \"COVID-19\")\n",
    "\n",
    "samples$expGroup <- samples$Diagnosis\n",
    "\n",
    "\n",
    "table(samples$expGroup)"
   ]
  },
  {
   "cell_type": "markdown",
   "id": "2949a069-f76f-4aa7-b6eb-87f341e0c335",
   "metadata": {
    "jp-MarkdownHeadingCollapsed": true,
    "tags": []
   },
   "source": [
    "---"
   ]
  },
  {
   "cell_type": "code",
   "execution_count": 6,
   "id": "259441c2-b72b-4197-9d11-f839ada54394",
   "metadata": {
    "tags": []
   },
   "outputs": [
    {
     "name": "stderr",
     "output_type": "stream",
     "text": [
      "converting counts to integer mode\n",
      "\n",
      "Warning message in DESeqDataSet(se, design = design, ignoreRank):\n",
      "“some variables in design formula are characters, converting to factors”\n",
      "  Note: levels of factors in the design contain characters other than\n",
      "  letters, numbers, '_' and '.'. It is recommended (but not required) to use\n",
      "  only letters, numbers, and delimiters '_' or '.', as these are safe characters\n",
      "  for column names in R. [This is a message, not a warning or an error]\n",
      "\n"
     ]
    },
    {
     "data": {
      "text/html": [
       "TRUE"
      ],
      "text/latex": [
       "TRUE"
      ],
      "text/markdown": [
       "TRUE"
      ],
      "text/plain": [
       "[1] TRUE"
      ]
     },
     "metadata": {},
     "output_type": "display_data"
    },
    {
     "name": "stderr",
     "output_type": "stream",
     "text": [
      "estimating size factors\n",
      "\n",
      "  Note: levels of factors in the design contain characters other than\n",
      "  letters, numbers, '_' and '.'. It is recommended (but not required) to use\n",
      "  only letters, numbers, and delimiters '_' or '.', as these are safe characters\n",
      "  for column names in R. [This is a message, not a warning or an error]\n",
      "\n",
      "estimating dispersions\n",
      "\n",
      "gene-wise dispersion estimates\n",
      "\n",
      "mean-dispersion relationship\n",
      "\n",
      "  Note: levels of factors in the design contain characters other than\n",
      "  letters, numbers, '_' and '.'. It is recommended (but not required) to use\n",
      "  only letters, numbers, and delimiters '_' or '.', as these are safe characters\n",
      "  for column names in R. [This is a message, not a warning or an error]\n",
      "\n",
      "final dispersion estimates\n",
      "\n",
      "  Note: levels of factors in the design contain characters other than\n",
      "  letters, numbers, '_' and '.'. It is recommended (but not required) to use\n",
      "  only letters, numbers, and delimiters '_' or '.', as these are safe characters\n",
      "  for column names in R. [This is a message, not a warning or an error]\n",
      "\n",
      "fitting model and testing\n",
      "\n",
      "  Note: levels of factors in the design contain characters other than\n",
      "  letters, numbers, '_' and '.'. It is recommended (but not required) to use\n",
      "  only letters, numbers, and delimiters '_' or '.', as these are safe characters\n",
      "  for column names in R. [This is a message, not a warning or an error]\n",
      "\n",
      "-- replacing outliers and refitting for 505 genes\n",
      "-- DESeq argument 'minReplicatesForReplace' = 7 \n",
      "-- original counts are preserved in counts(dds)\n",
      "\n",
      "estimating dispersions\n",
      "\n",
      "  Note: levels of factors in the design contain characters other than\n",
      "  letters, numbers, '_' and '.'. It is recommended (but not required) to use\n",
      "  only letters, numbers, and delimiters '_' or '.', as these are safe characters\n",
      "  for column names in R. [This is a message, not a warning or an error]\n",
      "\n",
      "fitting model and testing\n",
      "\n",
      "  Note: levels of factors in the design contain characters other than\n",
      "  letters, numbers, '_' and '.'. It is recommended (but not required) to use\n",
      "  only letters, numbers, and delimiters '_' or '.', as these are safe characters\n",
      "  for column names in R. [This is a message, not a warning or an error]\n",
      "\n"
     ]
    },
    {
     "name": "stdout",
     "output_type": "stream",
     "text": [
      "\n",
      "out of 47083 with nonzero total read count\n",
      "adjusted p-value < 0.05\n",
      "LFC > 0 (up)       : 152, 0.32%\n",
      "LFC < 0 (down)     : 210, 0.45%\n",
      "outliers [1]       : 0, 0%\n",
      "low counts [2]     : 36124, 77%\n",
      "(mean count < 1)\n",
      "[1] see 'cooksCutoff' argument of ?results\n",
      "[2] see 'independentFiltering' argument of ?results\n",
      "\n"
     ]
    }
   ],
   "source": [
    "##------------------------------------\n",
    "# PREPARE COUNTS\n",
    "##------------------------------------\n",
    "\n",
    "##------------------------------------\n",
    "# load count data with tximport\n",
    "sample_ids = unique(samples$cfrna_sample_id)                                                                    # Get sample ids that pass qc\n",
    "\n",
    "counts = read.delim(\"../../1_sample-data/cfrna_ftcounts.txt\")\n",
    "rownames(counts) <- counts$Geneid\n",
    "\n",
    "counts = counts[,sample_ids]\n",
    "\n",
    "##------------------------------------\n",
    "# Remove ChrX, ChrY, ChrM, and RB genes\n",
    "gene.list <- read.delim(\"../../0_support-files/genelist.hs.tsv\",col.names = c(\"type,\",\"ENSMBL\",\"gene_symbol\"))\n",
    "\n",
    "gene.ids <- gsub(\"\\\\..*\",\"\",rownames(counts))\n",
    "\n",
    "exclude.idx <- gene.ids %in% gene.list[,2]\n",
    "\n",
    "counts = counts[!exclude.idx,]         \n",
    "\n",
    "\n",
    "##------------------------------------\n",
    "# RUN DESEQ2\n",
    "##------------------------------------\n",
    "\n",
    "##------------------------------------\n",
    "# Contstruct DESeq Data Set\n",
    "dds <- DESeqDataSetFromMatrix(round(counts),\n",
    "                                colData = samples,\n",
    "                                design = ~ expGroup + 0)\n",
    "\n",
    "##------------------------------------\n",
    "# Add Gene metadata\n",
    "annotation = fread(file=\"../../0_support-files/gencode.biotype.name.key.tsv\")\n",
    "annotation <- annotation[match(rownames(dds), annotation$gene_id),]\n",
    "all(rownames(dds) == annotation$ftcount_id)\n",
    "mcols(dds) <- cbind(mcols(dds), annotation)\n",
    "\n",
    "\n",
    "##------------------------------------\n",
    "# Re-factor\n",
    "dds$expGroup <- factor(dds$expGroup, levels = GROUPS)\n",
    "\n",
    "##------------------------------------\n",
    "# Pre-filter\n",
    "# keep <- rowSums(counts(dds)) >= 10\n",
    "# dds <- dds[keep,]\n",
    "\n",
    "##------------------------------------\n",
    "# DAA\n",
    "dds <- DESeq(dds)\n",
    "\n",
    "\n",
    "##------------------------------------\n",
    "# ANALYZE\n",
    "##------------------------------------\n",
    "\n",
    "res <- results(dds,alpha=0.05, contrast = c(\"expGroup\",GROUPS))\n",
    "\n",
    "res$gene_name <- mcols(dds)$gene_name\n",
    "res$gene_type <- mcols(dds)$gene_type\n",
    "\n",
    "summary(res)\n",
    "\n",
    "# tg_up <- suppressMessages(topGO(res,SIG_THRESH = 0.05,\"+\"))\n",
    "# tg_down <- suppressMessages(topGO(res,SIG_THRESH = 0.05,\"-\"))\n",
    "\n",
    "##------------------------------------\n",
    "# SAVE\n",
    "##------------------------------------\n",
    "\n",
    "rslts <- list()\n",
    "rslts[['dds']] <- dds\n",
    "rslts[['res']] <- res\n",
    "# rslts[['TopGO+']] <- tg_up\n",
    "# rslts[['TopGO-']] <- tg_down\n",
    "\n",
    "saveRDS(rslts, file = RDS_FILENAME)\n",
    "\n",
    "data.frame(res) %>% rownames_to_column(var=\"GeneID\") %>% write.table(GENE_TABLE_FILENAME,sep=\"\\t\",row.names = FALSE)"
   ]
  },
  {
   "cell_type": "code",
   "execution_count": null,
   "id": "fbc2e4f2-00f9-4456-85b7-03d4b4023f18",
   "metadata": {},
   "outputs": [],
   "source": []
  },
  {
   "cell_type": "code",
   "execution_count": null,
   "id": "3f216e92-25e5-4271-92f7-bdb080883660",
   "metadata": {},
   "outputs": [],
   "source": []
  }
 ],
 "metadata": {
  "kernelspec": {
   "display_name": "R",
   "language": "R",
   "name": "ir"
  },
  "language_info": {
   "codemirror_mode": "r",
   "file_extension": ".r",
   "mimetype": "text/x-r-source",
   "name": "R",
   "pygments_lexer": "r",
   "version": "4.1.1"
  }
 },
 "nbformat": 4,
 "nbformat_minor": 5
}
