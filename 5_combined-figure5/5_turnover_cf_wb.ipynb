{
 "cells": [
  {
   "cell_type": "code",
   "execution_count": 1,
   "id": "b463d502-938d-4a3a-a051-1f9ae6e93c38",
   "metadata": {},
   "outputs": [
    {
     "name": "stderr",
     "output_type": "stream",
     "text": [
      "── \u001b[1mAttaching packages\u001b[22m ────────────────────────────────────────────────────────────────────────────────────────────────────────────────────────────────────────────────────── tidyverse 1.3.1 ──\n",
      "\n",
      "\u001b[32m✔\u001b[39m \u001b[34mggplot2\u001b[39m 3.3.6     \u001b[32m✔\u001b[39m \u001b[34mpurrr  \u001b[39m 0.3.4\n",
      "\u001b[32m✔\u001b[39m \u001b[34mtibble \u001b[39m 3.1.7     \u001b[32m✔\u001b[39m \u001b[34mdplyr  \u001b[39m 1.0.8\n",
      "\u001b[32m✔\u001b[39m \u001b[34mtidyr  \u001b[39m 1.2.0     \u001b[32m✔\u001b[39m \u001b[34mstringr\u001b[39m 1.4.0\n",
      "\u001b[32m✔\u001b[39m \u001b[34mreadr  \u001b[39m 2.1.2     \u001b[32m✔\u001b[39m \u001b[34mforcats\u001b[39m 0.5.1\n",
      "\n",
      "── \u001b[1mConflicts\u001b[22m ───────────────────────────────────────────────────────────────────────────────────────────────────────────────────────────────────────────────────────── tidyverse_conflicts() ──\n",
      "\u001b[31m✖\u001b[39m \u001b[34mdplyr\u001b[39m::\u001b[32mfilter()\u001b[39m masks \u001b[34mstats\u001b[39m::filter()\n",
      "\u001b[31m✖\u001b[39m \u001b[34mdplyr\u001b[39m::\u001b[32mlag()\u001b[39m    masks \u001b[34mstats\u001b[39m::lag()\n",
      "\n"
     ]
    }
   ],
   "source": [
    "library(tidyverse)\n",
    "suppressMessages(source(\"../0_support-files/theme_CRP-MISC.R\"))\n",
    "\n",
    "\n",
    "solid <- c('Intrahepatic.cholangiocyte','Secretory.cell','Respiratory.ciliated.cell','Ionocyte.luminal.epithelial.cell.of.mammary.gland','Fibroblast.mesenchymal.stem.cell',\n",
    "           'Respiratory.secretory.cell','Endothelial.cell','Stromal.cell','Adventitial.cell','Gland.cell','Salivary.bronchial.secretory.cell','Pericyte.cell',\n",
    "           'Pancreatic.Stellate.cell','Pancreatic.alpha.beta.cell','Basal.prostate.cell','Prostate.epithelia','Salivary.gland.cell','Intestinal.enterocyte',\n",
    "           'Intestinal.secretory.cell','Intestinal.tuft.cell','Type.II.Pneumocyte','Cell.of.skeletal.muscle','Schwann.cell','Tendon.cell','Mesothelial.cell',\n",
    "          'Plasmablast','Kidney.epithelial.cell')\n",
    "\n",
    "dist2d <- function(a,b,c) {\n",
    " v1 <- b - c\n",
    " v2 <- a - b\n",
    " m <- cbind(v1,v2)\n",
    " d <- det(m)/sqrt(sum(v1*v1))\n",
    "    return(d)\n",
    "} \n",
    "\n",
    "get_turnover <- function(row){\n",
    "    x_i <- length(row) -1\n",
    "    y_i <- length(row)\n",
    "    \n",
    "    x <- as.numeric(row[[x_i]])\n",
    "    y <- as.numeric(row[[y_i]])\n",
    "    return(dist2d(c(0,0),\n",
    "                  c(1,1),\n",
    "                  c(x,y)))\n",
    "}\n",
    "\n",
    "color_groups = c('COVID-19' = '#740C33', 'MIS-C' = '#0234C1', 'Control_Non-inflammatory' = '#4b7a47',\"MIS-C\\nCNH\" = '#2BBBB3')\n",
    "\n",
    "\n",
    "\n",
    "CELLTYPES <- c('Intrahepatic.cholangiocyte','NK.Cell','Monocyte','Macrophage','Secretory.cell','Respiratory.ciliated.cell',\n",
    "               'Ionocyte.luminal.epithelial.cell.of.mammary.gland','Fibroblast.mesenchymal.stem.cell','Respiratory.secretory.cell',\n",
    "               'Mast.cell','Basal.cell','Endothelial.cell','neutrophil','B.cell','T.Cell','Erythrocyte.erythroid.progenitor','Platelet',\n",
    "               'Basophil','Stromal.cell','Mature.conventional.dendritic.cell','Adventitial.cell','Gland.cell','Salivary.bronchial.secretory.cell',\n",
    "               'Pericyte.cell','Myeloid.progenitor','Pancreatic.Stellate.cell','Pancreatic.alpha.beta.cell','Basal.prostate.cell',\n",
    "               'Prostate.epithelia','Salivary.gland.cell','Intestinal.enterocyte','Intestinal.secretory.cell','Intestinal.tuft.cell',\n",
    "               'Type.II.Pneumocyte','Cell.of.skeletal.muscle','Schwann.cell','Tendon.cell','Mesothelial.cell','Plasmablast',\n",
    "               'Kidney.epithelial.cell','Thymocyte')\n",
    "\n",
    "\n",
    "\n",
    "NONSOLID <- CELLTYPES[!(CELLTYPES %in% solid)]\n",
    "\n",
    "paired = read.delim(\"../1_sample-data/paired_sample_key.tsv\") %>% \n",
    "    filter(!is.na(cfrna_sample_id) & !is.na(wbrna_sample_id)) %>% \n",
    "    select(cfrna_sample_id, wbrna_sample_id)\n"
   ]
  },
  {
   "cell_type": "code",
   "execution_count": 2,
   "id": "2277b848-9718-428e-977c-4945f39749b0",
   "metadata": {},
   "outputs": [
    {
     "data": {
      "text/html": [
       "<table class=\"dataframe\">\n",
       "<caption>A data.frame: 2 × 7</caption>\n",
       "<thead>\n",
       "\t<tr><th></th><th scope=col>cfrna_sample_id</th><th scope=col>wb.ID</th><th scope=col>Diagnosis</th><th scope=col>timepoint</th><th scope=col>celltype</th><th scope=col>cf.fraction</th><th scope=col>wb.fraction</th></tr>\n",
       "\t<tr><th></th><th scope=col>&lt;chr&gt;</th><th scope=col>&lt;chr&gt;</th><th scope=col>&lt;chr&gt;</th><th scope=col>&lt;chr&gt;</th><th scope=col>&lt;fct&gt;</th><th scope=col>&lt;dbl&gt;</th><th scope=col>&lt;dbl&gt;</th></tr>\n",
       "</thead>\n",
       "<tbody>\n",
       "\t<tr><th scope=row>1</th><td>prevail_cu_cfrna_317</td><td>PV119</td><td>MIS-C</td><td>post-acute</td><td>B.cell    </td><td>0.033143573</td><td>0.097677123</td></tr>\n",
       "\t<tr><th scope=row>2</th><td>prevail_cu_cfrna_317</td><td>PV119</td><td>MIS-C</td><td>post-acute</td><td>Basal.cell</td><td>0.002364686</td><td>0.000216376</td></tr>\n",
       "</tbody>\n",
       "</table>\n"
      ],
      "text/latex": [
       "A data.frame: 2 × 7\n",
       "\\begin{tabular}{r|lllllll}\n",
       "  & cfrna\\_sample\\_id & wb.ID & Diagnosis & timepoint & celltype & cf.fraction & wb.fraction\\\\\n",
       "  & <chr> & <chr> & <chr> & <chr> & <fct> & <dbl> & <dbl>\\\\\n",
       "\\hline\n",
       "\t1 & prevail\\_cu\\_cfrna\\_317 & PV119 & MIS-C & post-acute & B.cell     & 0.033143573 & 0.097677123\\\\\n",
       "\t2 & prevail\\_cu\\_cfrna\\_317 & PV119 & MIS-C & post-acute & Basal.cell & 0.002364686 & 0.000216376\\\\\n",
       "\\end{tabular}\n"
      ],
      "text/markdown": [
       "\n",
       "A data.frame: 2 × 7\n",
       "\n",
       "| <!--/--> | cfrna_sample_id &lt;chr&gt; | wb.ID &lt;chr&gt; | Diagnosis &lt;chr&gt; | timepoint &lt;chr&gt; | celltype &lt;fct&gt; | cf.fraction &lt;dbl&gt; | wb.fraction &lt;dbl&gt; |\n",
       "|---|---|---|---|---|---|---|---|\n",
       "| 1 | prevail_cu_cfrna_317 | PV119 | MIS-C | post-acute | B.cell     | 0.033143573 | 0.097677123 |\n",
       "| 2 | prevail_cu_cfrna_317 | PV119 | MIS-C | post-acute | Basal.cell | 0.002364686 | 0.000216376 |\n",
       "\n"
      ],
      "text/plain": [
       "  cfrna_sample_id      wb.ID Diagnosis timepoint  celltype   cf.fraction\n",
       "1 prevail_cu_cfrna_317 PV119 MIS-C     post-acute B.cell     0.033143573\n",
       "2 prevail_cu_cfrna_317 PV119 MIS-C     post-acute Basal.cell 0.002364686\n",
       "  wb.fraction\n",
       "1 0.097677123\n",
       "2 0.000216376"
      ]
     },
     "metadata": {},
     "output_type": "display_data"
    },
    {
     "name": "stderr",
     "output_type": "stream",
     "text": [
      "\u001b[1m\u001b[22m`summarise()` has grouped output by 'cfrna_sample_id', 'Diagnosis'. You can override using the `.groups` argument.\n"
     ]
    },
    {
     "data": {
      "text/html": [
       "<strong>png:</strong> 2"
      ],
      "text/latex": [
       "\\textbf{png:} 2"
      ],
      "text/markdown": [
       "**png:** 2"
      ],
      "text/plain": [
       "png \n",
       "  2 "
      ]
     },
     "metadata": {},
     "output_type": "display_data"
    },
    {
     "name": "stdout",
     "output_type": "stream",
     "text": [
      "TableGrob (1 x 1) \"arrange\": 1 grobs\n",
      "  z     cells    name              grob\n",
      "1 1 (1-1,1-1) arrange gtable[guide-box]\n"
     ]
    },
    {
     "data": {
      "text/html": [
       "<strong>png:</strong> 2"
      ],
      "text/latex": [
       "\\textbf{png:} 2"
      ],
      "text/markdown": [
       "**png:** 2"
      ],
      "text/plain": [
       "png \n",
       "  2 "
      ]
     },
     "metadata": {},
     "output_type": "display_data"
    }
   ],
   "source": [
    "#------------------------\n",
    "## READ OUTPUTS\n",
    "\n",
    "wb_meta <- read.csv(\"../1_sample-data/STable7_wbrna-samples.csv\") %>% \n",
    "    mutate(PTID_TIME = paste0(PTID,\"_\",timepoint)) %>%\n",
    "    filter(wbrna_sample_id %in% all_of(paired$wbrna_sample_id))\n",
    "\n",
    "wb_decon <- wb_meta[,c(\"wbrna_sample_id\",NONSOLID)] %>%\n",
    "    filter(wbrna_sample_id %in% all_of(wb_meta$wbrna_sample_id))\n",
    "\n",
    "wb_decon[,-1] <- wb_decon[,-1]/rowSums(wb_decon[,-1]) \n",
    "wb_decon <- wb_decon %>% \n",
    "    reshape2::melt(id.vars=\"wbrna_sample_id\") %>% \n",
    "    rename(wb.ID = wbrna_sample_id,wb.fraction = value,celltype=variable)\n",
    "\n",
    "\n",
    "\n",
    "cf_meta <- read.csv(\"../1_sample-data/STable6_cfrna-samples.csv\") %>%  \n",
    "    mutate(PTID_TIME = paste0(PTID,\"_\",timepoint)) %>%\n",
    "    filter(cfrna_sample_id %in% all_of(paired$cfrna_sample_id))\n",
    "\n",
    "cf_decon <- cf_meta[,c(\"cfrna_sample_id\",NONSOLID)]%>%\n",
    "    filter(cfrna_sample_id %in% all_of(cf_meta$cfrna_sample_id))\n",
    "\n",
    "cf_decon[,-1] <- cf_decon[,-1]/rowSums(cf_decon[,-1]) \n",
    "cf_decon <- cf_decon %>%\n",
    "    reshape2::melt(id.vars=\"cfrna_sample_id\") %>% \n",
    "    rename(cf.ID =cfrna_sample_id,cf.fraction = value,celltype=variable) %>%\n",
    "    filter(!(celltype %in% all_of(solid)))\n",
    "\n",
    "\n",
    "#------------------------\n",
    "## CREATE MASTER DATAFRAME\n",
    "wb_all <- merge(wb_decon,wb_meta,by.y=\"wbrna_sample_id\",by.x=\"wb.ID\")\n",
    "cfrna_all <- merge(cf_meta,cf_decon,by=\"cfrna_sample_id\",by.y=\"cf.ID\")\n",
    "\n",
    "all_df <- merge(wb_all,cfrna_all,by=c(\"PTID\",\"celltype\",\"Diagnosis\",\"timepoint\")) %>% select(cfrna_sample_id,wb.ID,Diagnosis,timepoint,celltype,cf.fraction,wb.fraction)\n",
    "all_df$cf.fraction <- as.numeric(all_df$cf.fraction) \n",
    "all_df$wb.fraction <- as.numeric(all_df$wb.fraction) \n",
    "\n",
    "head(all_df,2)\n",
    "\n",
    "\n",
    "#------------------------------------------------------------------------\n",
    "#------------------------------------------------------------------------\n",
    "#------------------------------------------------------------------------\n",
    "\n",
    "\n",
    "plot_df <- all_df %>% \n",
    "    filter(((Diagnosis %in% c(\"MIS-C\",\"COVID-19\")) & (timepoint == \"acute\")) | Diagnosis == \"Control_Non-inflammatory\")\n",
    "\n",
    "\n",
    "plot_df2 <- plot_df %>% \n",
    "    mutate(celltype = as.character(celltype)) %>%\n",
    "    mutate(celltype = ifelse(grepl(\"Mast|dendritic|Macrophage|B.cell|Basophil|Basal.cell\",celltype),\"other\",celltype))\n",
    "\n",
    "plot_df2$celltype <- factor(plot_df2$celltype, levels= c('Platelet', 'Erythrocyte.erythroid.progenitor', 'neutrophil', \n",
    "                                                'Monocyte', 'NK.Cell', 'Myeloid.progenitor', 'T.Cell', 'Thymocyte','other'))\n",
    "\n",
    "plot_df2 <- unique(plot_df2)\n",
    "\n",
    "plot_df2 <- plot_df2 %>% group_by(cfrna_sample_id,Diagnosis,celltype) %>% \n",
    "                summarize(cf.fraction = sum(cf.fraction),\n",
    "                          wb.fraction = sum(wb.fraction))\n",
    "\n",
    "levels_ct <- levels(plot_df2$celltype)\n",
    "\n",
    "library(qualpalr)\n",
    "pal = sample(rev(qualpal(length(levels_ct), colorspace=list(h=c(0,360), s=c(0.3,1), l=c(0.2,0.8)))$hex))\n",
    "\n",
    "\n",
    "pal = c('#1362AB','#740C33','#FB927F','#B27DF2','#5CFBF4','#B2040D','#F5DB9E','#209510','#DBB008')\n",
    "       # '#949D0A','#700862','#F5DB9E','#209510','#DBB008','#5C6BFA','#B27DF2','#D6F306','#5EFE36','#A9DAC9','#B2040D','#203760','#4D5D0D','#4A1E80','#F63DFA','#F8169B','#175738','#0C8559','#A1506B','#861FF1','#2BBBB3','#5E210C','#36B976','#CAA376','#D75E16','#73480D','#39F9AD','#85D2F8','#65A2FC','#FC092B','#94A514','#AEBBE6')\n",
    "\n",
    "\n",
    "names(pal) <- levels_ct\n",
    "\n",
    "\n",
    "#------------------------------------------------------------------------\n",
    "#------------------------------------------------------------------------\n",
    "#------------------------------------------------------------------------\n",
    "\n",
    "WIDTH  = 5.3\n",
    "HEIGHT = 2.22\n",
    "\n",
    "pdf(file=paste0(\"plots/panelE_turnover.pdf\"),\n",
    "    width=WIDTH,height=HEIGHT, paper=\"special\", bg=\"white\",\n",
    "    fonts=\"Helvetica\", colormodel = \"srgb\", pointsize=6, useDingbats = FALSE)\n",
    "\n",
    "plt <- plot_df2 %>% \n",
    "    ggplot(aes(x=cf.fraction,y=wb.fraction,color=celltype))+\n",
    "    geom_point()+\n",
    "#     geom_abline(intercept = 0)+\n",
    "    scale_color_manual(values=pal)+\n",
    "    facet_wrap(~Diagnosis)+\n",
    "    theme_prevail()+\n",
    "    labs(x= \"Cell-Free Fraction\", y= \"Whole-Blood Fraction\")+\n",
    "    theme(strip.background = element_blank(),\n",
    "          legend.position = \"top\",\n",
    "          legend.spacing.x = unit(.001, 'cm'))+\n",
    "    guides(color=guide_legend(nrow=2,byrow=TRUE))+ #,override.aes = list(size=3)\n",
    "    ylim(0,1)\n",
    "\n",
    "legend <- cowplot::get_legend(plt)\n",
    "\n",
    "plt + theme(legend.position = \"none\")\n",
    "\n",
    "dev.off()\n",
    "\n",
    "#---------------------------\n",
    "WIDTH  = 6.94\n",
    "HEIGHT =1\n",
    "\n",
    "pdf(file=paste0(\"plots/panelE_legend.pdf\"),\n",
    "    width=WIDTH,height=HEIGHT, paper=\"special\", bg=\"white\",\n",
    "    fonts=\"Helvetica\", colormodel = \"srgb\", pointsize=6, useDingbats = FALSE)\n",
    "\n",
    "legend <- gridExtra::grid.arrange(legend)\n",
    "print(legend)\n",
    "\n",
    "dev.off()"
   ]
  },
  {
   "cell_type": "code",
   "execution_count": 8,
   "id": "501477fa-077d-4675-8cbe-2b4cd0dad86b",
   "metadata": {},
   "outputs": [
    {
     "data": {
      "text/plain": [
       ".\n",
       "Control_Non-inflammatory                 COVID-19                    MIS-C \n",
       "                      12                       12                       31 "
      ]
     },
     "metadata": {},
     "output_type": "display_data"
    }
   ],
   "source": [
    "plot_df2 %>% select(cfrna_sample_id,Diagnosis) %>% unique() %>% pull(Diagnosis) %>% table()"
   ]
  },
  {
   "cell_type": "code",
   "execution_count": null,
   "id": "1ed7e6db-887d-4ae3-a9ec-1c352267cc5b",
   "metadata": {},
   "outputs": [],
   "source": []
  }
 ],
 "metadata": {
  "kernelspec": {
   "display_name": "R",
   "language": "R",
   "name": "ir"
  },
  "language_info": {
   "codemirror_mode": "r",
   "file_extension": ".r",
   "mimetype": "text/x-r-source",
   "name": "R",
   "pygments_lexer": "r",
   "version": "4.1.1"
  }
 },
 "nbformat": 4,
 "nbformat_minor": 5
}
