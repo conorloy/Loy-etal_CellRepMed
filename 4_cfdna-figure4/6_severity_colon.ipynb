{
 "cells": [
  {
   "cell_type": "code",
   "execution_count": 1,
   "id": "a6f5d25d-cd7c-482a-a663-4b746b1294f9",
   "metadata": {
    "tags": []
   },
   "outputs": [],
   "source": [
    "suppressMessages(library(tidyverse))\n",
    "suppressMessages(library(reshape2))\n",
    "source('../0_support-files/theme_CRP-MISC.R')\n",
    "\n"
   ]
  },
  {
   "cell_type": "markdown",
   "id": "0b72260f-df1f-4445-85c9-fbdcda41d31b",
   "metadata": {
    "tags": []
   },
   "source": [
    "## 3. For cfDNA abundance, are there any differences between moderate and severe MISC?"
   ]
  },
  {
   "cell_type": "markdown",
   "id": "5edf7d31-2bd9-43db-ae42-d9c786849321",
   "metadata": {
    "tags": []
   },
   "source": [
    "### prep meta data and deconvolution"
   ]
  },
  {
   "cell_type": "code",
   "execution_count": 9,
   "id": "e3707aa6-e492-4d12-baea-218347c50a10",
   "metadata": {},
   "outputs": [
    {
     "data": {
      "text/html": [
       "<table class=\"dataframe\">\n",
       "<caption>A data.frame: 6 × 28</caption>\n",
       "<thead>\n",
       "\t<tr><th></th><th scope=col>PTID</th><th scope=col>Sample_ID</th><th scope=col>Diagnosis</th><th scope=col>timepoint</th><th scope=col>expGroup_plotting</th><th scope=col>scaled_cfDNA</th><th scope=col>severity</th><th scope=col>group</th><th scope=col>bcell</th><th scope=col>colon</th><th scope=col>⋯</th><th scope=col>macrophage</th><th scope=col>megakaryocyte</th><th scope=col>monocyte</th><th scope=col>neutrophil</th><th scope=col>nkcell</th><th scope=col>pancreas</th><th scope=col>progenitor</th><th scope=col>skin</th><th scope=col>spleen</th><th scope=col>tcell</th></tr>\n",
       "\t<tr><th></th><th scope=col>&lt;chr&gt;</th><th scope=col>&lt;chr&gt;</th><th scope=col>&lt;chr&gt;</th><th scope=col>&lt;chr&gt;</th><th scope=col>&lt;chr&gt;</th><th scope=col>&lt;dbl&gt;</th><th scope=col>&lt;chr&gt;</th><th scope=col>&lt;chr&gt;</th><th scope=col>&lt;dbl&gt;</th><th scope=col>&lt;dbl&gt;</th><th scope=col>⋯</th><th scope=col>&lt;dbl&gt;</th><th scope=col>&lt;dbl&gt;</th><th scope=col>&lt;dbl&gt;</th><th scope=col>&lt;dbl&gt;</th><th scope=col>&lt;dbl&gt;</th><th scope=col>&lt;dbl&gt;</th><th scope=col>&lt;dbl&gt;</th><th scope=col>&lt;dbl&gt;</th><th scope=col>&lt;dbl&gt;</th><th scope=col>&lt;dbl&gt;</th></tr>\n",
       "</thead>\n",
       "<tbody>\n",
       "\t<tr><th scope=row>1</th><td>Patient40</td><td>cfdna_sample_id_27</td><td>Acute MIS-C Moderate/Severe</td><td>acute</td><td>Acute MIS-C Moderate/Severe</td><td> 4.784</td><td>Moderate/Severe</td><td>other</td><td>0.123451400</td><td>0.006461272</td><td>⋯</td><td>0.00000000</td><td>0.2222888</td><td>0.06403882</td><td>0.32477842</td><td>0.059023780</td><td>0.01019488</td><td>0.003604042</td><td>0.00000000</td><td>0.00000000</td><td>0.00000000</td></tr>\n",
       "\t<tr><th scope=row>2</th><td>Patient43</td><td>cfdna_sample_id_28</td><td>Acute MIS-C Moderate/Severe</td><td>acute</td><td>Acute MIS-C Moderate/Severe</td><td> 6.667</td><td>Moderate/Severe</td><td>other</td><td>0.048358445</td><td>0.007300873</td><td>⋯</td><td>0.11810660</td><td>0.1528253</td><td>0.05062569</td><td>0.06662735</td><td>0.074605030</td><td>0.00000000</td><td>0.082368089</td><td>0.01111545</td><td>0.07828432</td><td>0.03048947</td></tr>\n",
       "\t<tr><th scope=row>3</th><td>Patient45</td><td>cfdna_sample_id_30</td><td>Acute MIS-C Moderate/Severe</td><td>acute</td><td>Acute MIS-C Moderate/Severe</td><td> 5.999</td><td>Moderate/Severe</td><td>other</td><td>0.120922070</td><td>0.000000000</td><td>⋯</td><td>0.04150866</td><td>0.1259113</td><td>0.00000000</td><td>0.00000000</td><td>0.008340871</td><td>0.00000000</td><td>0.058378850</td><td>0.00000000</td><td>0.23931450</td><td>0.00000000</td></tr>\n",
       "\t<tr><th scope=row>4</th><td>Patient46</td><td>cfdna_sample_id_31</td><td>Acute MIS-C Moderate/Severe</td><td>acute</td><td>Acute MIS-C Moderate/Severe</td><td> 3.712</td><td>Moderate/Severe</td><td>other</td><td>0.008259646</td><td>0.000000000</td><td>⋯</td><td>0.08885321</td><td>0.2933872</td><td>0.03571192</td><td>0.15449954</td><td>0.000000000</td><td>0.01899220</td><td>0.012543671</td><td>0.00000000</td><td>0.04158856</td><td>0.01250763</td></tr>\n",
       "\t<tr><th scope=row>5</th><td>Patient47</td><td>cfdna_sample_id_32</td><td>Acute MIS-C Moderate/Severe</td><td>acute</td><td>Acute MIS-C Moderate/Severe</td><td> 0.922</td><td>Moderate/Severe</td><td>other</td><td>0.001285233</td><td>0.000000000</td><td>⋯</td><td>0.00000000</td><td>0.6735906</td><td>0.00000000</td><td>0.01808105</td><td>0.012504200</td><td>0.00000000</td><td>0.034423650</td><td>0.00000000</td><td>0.00000000</td><td>0.00000000</td></tr>\n",
       "\t<tr><th scope=row>6</th><td>Patient48</td><td>cfdna_sample_id_33</td><td>Acute MIS-C Moderate/Severe</td><td>acute</td><td>Acute MIS-C Moderate/Severe</td><td>32.748</td><td>Moderate/Severe</td><td>other</td><td>0.002391900</td><td>0.015936890</td><td>⋯</td><td>0.00000000</td><td>0.1344302</td><td>0.00000000</td><td>0.01605826</td><td>0.000000000</td><td>0.02012707</td><td>0.000000000</td><td>0.00000000</td><td>0.00000000</td><td>0.00000000</td></tr>\n",
       "</tbody>\n",
       "</table>\n"
      ],
      "text/latex": [
       "A data.frame: 6 × 28\n",
       "\\begin{tabular}{r|lllllllllllllllllllll}\n",
       "  & PTID & Sample\\_ID & Diagnosis & timepoint & expGroup\\_plotting & scaled\\_cfDNA & severity & group & bcell & colon & ⋯ & macrophage & megakaryocyte & monocyte & neutrophil & nkcell & pancreas & progenitor & skin & spleen & tcell\\\\\n",
       "  & <chr> & <chr> & <chr> & <chr> & <chr> & <dbl> & <chr> & <chr> & <dbl> & <dbl> & ⋯ & <dbl> & <dbl> & <dbl> & <dbl> & <dbl> & <dbl> & <dbl> & <dbl> & <dbl> & <dbl>\\\\\n",
       "\\hline\n",
       "\t1 & Patient40 & cfdna\\_sample\\_id\\_27 & Acute MIS-C Moderate/Severe & acute & Acute MIS-C Moderate/Severe &  4.784 & Moderate/Severe & other & 0.123451400 & 0.006461272 & ⋯ & 0.00000000 & 0.2222888 & 0.06403882 & 0.32477842 & 0.059023780 & 0.01019488 & 0.003604042 & 0.00000000 & 0.00000000 & 0.00000000\\\\\n",
       "\t2 & Patient43 & cfdna\\_sample\\_id\\_28 & Acute MIS-C Moderate/Severe & acute & Acute MIS-C Moderate/Severe &  6.667 & Moderate/Severe & other & 0.048358445 & 0.007300873 & ⋯ & 0.11810660 & 0.1528253 & 0.05062569 & 0.06662735 & 0.074605030 & 0.00000000 & 0.082368089 & 0.01111545 & 0.07828432 & 0.03048947\\\\\n",
       "\t3 & Patient45 & cfdna\\_sample\\_id\\_30 & Acute MIS-C Moderate/Severe & acute & Acute MIS-C Moderate/Severe &  5.999 & Moderate/Severe & other & 0.120922070 & 0.000000000 & ⋯ & 0.04150866 & 0.1259113 & 0.00000000 & 0.00000000 & 0.008340871 & 0.00000000 & 0.058378850 & 0.00000000 & 0.23931450 & 0.00000000\\\\\n",
       "\t4 & Patient46 & cfdna\\_sample\\_id\\_31 & Acute MIS-C Moderate/Severe & acute & Acute MIS-C Moderate/Severe &  3.712 & Moderate/Severe & other & 0.008259646 & 0.000000000 & ⋯ & 0.08885321 & 0.2933872 & 0.03571192 & 0.15449954 & 0.000000000 & 0.01899220 & 0.012543671 & 0.00000000 & 0.04158856 & 0.01250763\\\\\n",
       "\t5 & Patient47 & cfdna\\_sample\\_id\\_32 & Acute MIS-C Moderate/Severe & acute & Acute MIS-C Moderate/Severe &  0.922 & Moderate/Severe & other & 0.001285233 & 0.000000000 & ⋯ & 0.00000000 & 0.6735906 & 0.00000000 & 0.01808105 & 0.012504200 & 0.00000000 & 0.034423650 & 0.00000000 & 0.00000000 & 0.00000000\\\\\n",
       "\t6 & Patient48 & cfdna\\_sample\\_id\\_33 & Acute MIS-C Moderate/Severe & acute & Acute MIS-C Moderate/Severe & 32.748 & Moderate/Severe & other & 0.002391900 & 0.015936890 & ⋯ & 0.00000000 & 0.1344302 & 0.00000000 & 0.01605826 & 0.000000000 & 0.02012707 & 0.000000000 & 0.00000000 & 0.00000000 & 0.00000000\\\\\n",
       "\\end{tabular}\n"
      ],
      "text/markdown": [
       "\n",
       "A data.frame: 6 × 28\n",
       "\n",
       "| <!--/--> | PTID &lt;chr&gt; | Sample_ID &lt;chr&gt; | Diagnosis &lt;chr&gt; | timepoint &lt;chr&gt; | expGroup_plotting &lt;chr&gt; | scaled_cfDNA &lt;dbl&gt; | severity &lt;chr&gt; | group &lt;chr&gt; | bcell &lt;dbl&gt; | colon &lt;dbl&gt; | ⋯ ⋯ | macrophage &lt;dbl&gt; | megakaryocyte &lt;dbl&gt; | monocyte &lt;dbl&gt; | neutrophil &lt;dbl&gt; | nkcell &lt;dbl&gt; | pancreas &lt;dbl&gt; | progenitor &lt;dbl&gt; | skin &lt;dbl&gt; | spleen &lt;dbl&gt; | tcell &lt;dbl&gt; |\n",
       "|---|---|---|---|---|---|---|---|---|---|---|---|---|---|---|---|---|---|---|---|---|---|\n",
       "| 1 | Patient40 | cfdna_sample_id_27 | Acute MIS-C Moderate/Severe | acute | Acute MIS-C Moderate/Severe |  4.784 | Moderate/Severe | other | 0.123451400 | 0.006461272 | ⋯ | 0.00000000 | 0.2222888 | 0.06403882 | 0.32477842 | 0.059023780 | 0.01019488 | 0.003604042 | 0.00000000 | 0.00000000 | 0.00000000 |\n",
       "| 2 | Patient43 | cfdna_sample_id_28 | Acute MIS-C Moderate/Severe | acute | Acute MIS-C Moderate/Severe |  6.667 | Moderate/Severe | other | 0.048358445 | 0.007300873 | ⋯ | 0.11810660 | 0.1528253 | 0.05062569 | 0.06662735 | 0.074605030 | 0.00000000 | 0.082368089 | 0.01111545 | 0.07828432 | 0.03048947 |\n",
       "| 3 | Patient45 | cfdna_sample_id_30 | Acute MIS-C Moderate/Severe | acute | Acute MIS-C Moderate/Severe |  5.999 | Moderate/Severe | other | 0.120922070 | 0.000000000 | ⋯ | 0.04150866 | 0.1259113 | 0.00000000 | 0.00000000 | 0.008340871 | 0.00000000 | 0.058378850 | 0.00000000 | 0.23931450 | 0.00000000 |\n",
       "| 4 | Patient46 | cfdna_sample_id_31 | Acute MIS-C Moderate/Severe | acute | Acute MIS-C Moderate/Severe |  3.712 | Moderate/Severe | other | 0.008259646 | 0.000000000 | ⋯ | 0.08885321 | 0.2933872 | 0.03571192 | 0.15449954 | 0.000000000 | 0.01899220 | 0.012543671 | 0.00000000 | 0.04158856 | 0.01250763 |\n",
       "| 5 | Patient47 | cfdna_sample_id_32 | Acute MIS-C Moderate/Severe | acute | Acute MIS-C Moderate/Severe |  0.922 | Moderate/Severe | other | 0.001285233 | 0.000000000 | ⋯ | 0.00000000 | 0.6735906 | 0.00000000 | 0.01808105 | 0.012504200 | 0.00000000 | 0.034423650 | 0.00000000 | 0.00000000 | 0.00000000 |\n",
       "| 6 | Patient48 | cfdna_sample_id_33 | Acute MIS-C Moderate/Severe | acute | Acute MIS-C Moderate/Severe | 32.748 | Moderate/Severe | other | 0.002391900 | 0.015936890 | ⋯ | 0.00000000 | 0.1344302 | 0.00000000 | 0.01605826 | 0.000000000 | 0.02012707 | 0.000000000 | 0.00000000 | 0.00000000 | 0.00000000 |\n",
       "\n"
      ],
      "text/plain": [
       "  PTID      Sample_ID          Diagnosis                   timepoint\n",
       "1 Patient40 cfdna_sample_id_27 Acute MIS-C Moderate/Severe acute    \n",
       "2 Patient43 cfdna_sample_id_28 Acute MIS-C Moderate/Severe acute    \n",
       "3 Patient45 cfdna_sample_id_30 Acute MIS-C Moderate/Severe acute    \n",
       "4 Patient46 cfdna_sample_id_31 Acute MIS-C Moderate/Severe acute    \n",
       "5 Patient47 cfdna_sample_id_32 Acute MIS-C Moderate/Severe acute    \n",
       "6 Patient48 cfdna_sample_id_33 Acute MIS-C Moderate/Severe acute    \n",
       "  expGroup_plotting           scaled_cfDNA severity        group bcell      \n",
       "1 Acute MIS-C Moderate/Severe  4.784       Moderate/Severe other 0.123451400\n",
       "2 Acute MIS-C Moderate/Severe  6.667       Moderate/Severe other 0.048358445\n",
       "3 Acute MIS-C Moderate/Severe  5.999       Moderate/Severe other 0.120922070\n",
       "4 Acute MIS-C Moderate/Severe  3.712       Moderate/Severe other 0.008259646\n",
       "5 Acute MIS-C Moderate/Severe  0.922       Moderate/Severe other 0.001285233\n",
       "6 Acute MIS-C Moderate/Severe 32.748       Moderate/Severe other 0.002391900\n",
       "  colon       ⋯ macrophage megakaryocyte monocyte   neutrophil nkcell     \n",
       "1 0.006461272 ⋯ 0.00000000 0.2222888     0.06403882 0.32477842 0.059023780\n",
       "2 0.007300873 ⋯ 0.11810660 0.1528253     0.05062569 0.06662735 0.074605030\n",
       "3 0.000000000 ⋯ 0.04150866 0.1259113     0.00000000 0.00000000 0.008340871\n",
       "4 0.000000000 ⋯ 0.08885321 0.2933872     0.03571192 0.15449954 0.000000000\n",
       "5 0.000000000 ⋯ 0.00000000 0.6735906     0.00000000 0.01808105 0.012504200\n",
       "6 0.015936890 ⋯ 0.00000000 0.1344302     0.00000000 0.01605826 0.000000000\n",
       "  pancreas   progenitor  skin       spleen     tcell     \n",
       "1 0.01019488 0.003604042 0.00000000 0.00000000 0.00000000\n",
       "2 0.00000000 0.082368089 0.01111545 0.07828432 0.03048947\n",
       "3 0.00000000 0.058378850 0.00000000 0.23931450 0.00000000\n",
       "4 0.01899220 0.012543671 0.00000000 0.04158856 0.01250763\n",
       "5 0.00000000 0.034423650 0.00000000 0.00000000 0.00000000\n",
       "6 0.02012707 0.000000000 0.00000000 0.00000000 0.00000000"
      ]
     },
     "metadata": {},
     "output_type": "display_data"
    }
   ],
   "source": [
    "TOO_df = read.csv(\"../1_sample-data/STable8_cfdna-samples.csv\") %>% \n",
    "    filter(Diagnosis == \"MIS-C\" & timepoint == \"acute\") %>%\n",
    "    rename(scaled_cfDNA = cfDNA_concentration) %>%\n",
    "    mutate(severity = ifelse(severity == 0 | severity == 1,\"Mild/ASX\",\n",
    "                             ifelse(severity == 2 | severity == 3,\"Moderate/Severe\",\n",
    "                                    \"\"))) %>%\n",
    "    mutate(Diagnosis = ifelse(Diagnosis != \"Control_Non-inflammatory\", \n",
    "                              paste0(\"Acute \",Diagnosis,\" \",severity),\n",
    "                                     Diagnosis)) %>%\n",
    "    rename(Sample_ID = cfdna_sample_id) %>% \n",
    "    mutate(expGroup_plotting = Diagnosis)  %>%\n",
    "    mutate(group = ifelse(severity == 2, \"Moderate MIS-C\",\n",
    "                            ifelse(severity == 3,\"Severe MIS-C\",\"other\")))%>%\n",
    "    select(all_of(c(ID_VARS,TISS_COLS)))\n",
    "\n",
    "TOO_df %>% head()"
   ]
  },
  {
   "cell_type": "code",
   "execution_count": 10,
   "id": "6e1965fe-226c-4d4c-8f3c-ef7ee2e88022",
   "metadata": {
    "tags": []
   },
   "outputs": [
    {
     "data": {
      "text/plain": [
       "\n",
       "\tWilcoxon rank sum exact test\n",
       "\n",
       "data:  mod and sev\n",
       "W = 102, p-value = 0.1948\n",
       "alternative hypothesis: true location shift is not equal to 0\n"
      ]
     },
     "metadata": {},
     "output_type": "display_data"
    }
   ],
   "source": [
    "ID_VARS = c(\"PTID\",\"Sample_ID\",\"Diagnosis\",\"timepoint\",\"expGroup_plotting\",\"scaled_cfDNA\",\"severity\")\n",
    "\n",
    "TISS_COLS = c('bcell','colon','dendritic','eosinophil','erythroblast','heart','hsc','kidney','liver','lung','macrophage','megakaryocyte','monocyte','neutrophil','nkcell','pancreas','progenitor','skin','spleen','tcell')\n",
    "\n",
    "## Read in MISC data\n",
    "TOO_df = read.csv(\"../1_sample-data/STable8_cfdna-samples.csv\") %>% \n",
    "    filter(Diagnosis == \"MIS-C\" & timepoint == \"acute\") %>%\n",
    "    rename(scaled_cfDNA = cfDNA_concentration) %>%\n",
    "    mutate(Diagnosis = ifelse(Diagnosis != \"Control_Non-inflammatory\", \n",
    "                              paste0(\"Acute \",Diagnosis,\" \",severity),\n",
    "                                     Diagnosis)) %>%\n",
    "    rename(Sample_ID = cfdna_sample_id) %>% \n",
    "    mutate(expGroup_plotting = Diagnosis)  %>%\n",
    "    mutate(group = ifelse(severity == 2, \"Moderate MIS-C\",\n",
    "                            ifelse(severity == 3,\"Severe MIS-C\",\"other\")))%>%\n",
    "    select(all_of(c(ID_VARS,TISS_COLS)))\n",
    "\n",
    "ID_VARS <- c(ID_VARS,\"group\")\n",
    "\n",
    "\n",
    "##------------------------------------\n",
    "# Calculate differences between groups\n",
    "mod <- TOO_df %>% filter(severity == 2) %>% pull(scaled_cfDNA)\n",
    "sev <- TOO_df %>% filter(severity == 3) %>% pull(scaled_cfDNA)\n",
    "\n",
    "t <- wilcox.test(x = mod, y = sev)\n",
    "t"
   ]
  },
  {
   "cell_type": "markdown",
   "id": "a370a4e4-d459-4f16-895b-34208fd05a70",
   "metadata": {
    "tags": []
   },
   "source": [
    "### Plot"
   ]
  },
  {
   "cell_type": "code",
   "execution_count": 11,
   "id": "7cb51f67-af4b-4a1a-9245-a39eebc277eb",
   "metadata": {},
   "outputs": [
    {
     "ename": "ERROR",
     "evalue": "Error in FUN(X[[i]], ...): object 'group' not found\n",
     "output_type": "error",
     "traceback": [
      "Error in FUN(X[[i]], ...): object 'group' not found\nTraceback:\n",
      "1. print(bxplt)",
      "2. print.ggplot(bxplt)",
      "3. ggplot_build(x)",
      "4. ggplot_build.ggplot(x)",
      "5. by_layer(function(l, d) l$compute_aesthetics(d, plot))",
      "6. f(l = layers[[i]], d = data[[i]])",
      "7. l$compute_aesthetics(d, plot)",
      "8. f(..., self = self)",
      "9. scales_add_defaults(plot$scales, data, aesthetics, plot$plot_env)",
      "10. lapply(aesthetics[new_aesthetics], eval_tidy, data = data)",
      "11. FUN(X[[i]], ...)"
     ]
    }
   ],
   "source": [
    "##------------------------------------\n",
    "# Plot\n",
    "\n",
    "expGroupPalette = c('#008176','#0000a7')\n",
    "names(expGroupPalette) <- c(\"Moderate MIS-C\",\"Severe MIS-C\")\n",
    "\n",
    "\n",
    "WIDTH = 1.6\n",
    "HEIGHT = 1.5\n",
    "\n",
    "YLIM = 15\n",
    "\n",
    "\n",
    "pdf(file=paste0(\"plots/SupPanelA_severity.pdf\"),\n",
    "    width=WIDTH,height=HEIGHT, paper=\"special\", bg=\"white\",\n",
    "    fonts=\"Helvetica\", colormodel = \"srgb\", pointsize=6, useDingbats = FALSE)\n",
    "\n",
    "bxplt <- TOO_df %>%\n",
    "        ggplot() + \n",
    "        geom_boxplot(aes(x=group,y=scaled_cfDNA,fill=group),outlier.shape = NA,size = 0.2, color = \"black\")+ #, color = \"black\"\n",
    "        geom_jitter(aes(x=group,y=scaled_cfDNA),width=.2,height=0,size = 0.01)+\n",
    "#         geom_point(aes(colour = severity,shape = severity,group=plottingName),position = position_jitterdodge(jitter.width=0.1,seed=100,jitter.height=0),size = 0.5,alpha= 0.5)+       # ,pch=21 ,color = \"black\"\n",
    "#         annotate(\"text\", x = 1, y = YLIM - 0.01, label = CELLTYPE,size = 2.5,family = \"Helvetica\")+\n",
    "        theme_prevail()+\n",
    "#         scale_color_manual(values=c('1' = \"black\",\n",
    "#                                        '2' = \"red\")) + \n",
    "#         scale_shape_manual(values=c('1'= 16,\n",
    "#                                        '2'= 4))+\n",
    "        scale_fill_manual(values=expGroupPalette) + \n",
    "        theme(panel.grid.minor = element_blank(),\n",
    "              axis.title = element_blank(),\n",
    "             title = element_blank()) +\n",
    "        scale_y_continuous(breaks = c(0, YLIM/3, (YLIM/3)*2 , YLIM))  + \n",
    "        coord_cartesian(ylim = c(0,YLIM*1.05))\n",
    "\n",
    "print(bxplt)\n",
    "\n",
    "dev.off()"
   ]
  },
  {
   "cell_type": "markdown",
   "id": "7e1e44ad-04f0-4282-8a12-1b0796a21744",
   "metadata": {
    "tags": []
   },
   "source": [
    "## 6. Given the severe GI symptoms associated with MISC as well as the finding that the GI tract may act as a reservoir for SARS-CoV-2 resulting in Spike protein antigenemia in MISC, I would be interested in more detail regarding markers of GI injury. Were there any differences between COVID19 and MISC?"
   ]
  },
  {
   "cell_type": "markdown",
   "id": "797725f8-d72b-4042-9c68-de18cbdab396",
   "metadata": {
    "tags": []
   },
   "source": [
    "### cfDNA"
   ]
  },
  {
   "cell_type": "code",
   "execution_count": 4,
   "id": "1ff2a807-c104-4208-aa48-2b97d23369b0",
   "metadata": {},
   "outputs": [
    {
     "name": "stderr",
     "output_type": "stream",
     "text": [
      "Warning message in wilcox.test.default(x = misc_frac, y = covid_frac):\n",
      "“cannot compute exact p-value with ties”\n"
     ]
    },
    {
     "data": {
      "text/plain": [
       "\n",
       "\tWilcoxon rank sum test with continuity correction\n",
       "\n",
       "data:  misc_frac and covid_frac\n",
       "W = 199, p-value = 0.4756\n",
       "alternative hypothesis: true location shift is not equal to 0\n"
      ]
     },
     "metadata": {},
     "output_type": "display_data"
    },
    {
     "data": {
      "text/html": [
       "<strong>png:</strong> 2"
      ],
      "text/latex": [
       "\\textbf{png:} 2"
      ],
      "text/markdown": [
       "**png:** 2"
      ],
      "text/plain": [
       "png \n",
       "  2 "
      ]
     },
     "metadata": {},
     "output_type": "display_data"
    }
   ],
   "source": [
    "ID_VARS = c(\"PTID\",\"Sample_ID\",\"Diagnosis\",\"origin\",\"timepoint\",\"expGroup_plotting\",\"scaled_cfDNA\",\"icu\",\"severity\")\n",
    "\n",
    "TISS_COLS = c('bcell','colon','dendritic','eosinophil','erythroblast','heart','hsc','kidney','liver','lung','macrophage','megakaryocyte','monocyte','neutrophil','nkcell','pancreas','progenitor','skin','spleen','tcell')\n",
    "\n",
    "## Read in MISC data\n",
    "TOO_df = read.delim(\"../../1_sample-output/cfdna_master.tsv\") %>% \n",
    "    filter(Diagnosis %in% c(\"MIS-C\",\"COVID-19\") & timepoint == \"acute\" & severity >=2) %>%\n",
    "    select(all_of(c(ID_VARS,TISS_COLS)))\n",
    "\n",
    "# ID_VARS <- c(ID_VARS,\"group\")\n",
    "\n",
    "## Melt and calculate TOO concentration\n",
    "TOO_df_melt <- melt(TOO_df,id.vars = ID_VARS)\n",
    "TOO_df_melt$value_abundance = TOO_df_melt$scaled_cfDNA * TOO_df_melt$value\n",
    "TOO_df_melt$celltype = TOO_df_melt$variable\n",
    "TOO_df_melt$fraction = TOO_df_melt$value\n",
    "\n",
    "##------------------------------------\n",
    "# Plot\n",
    "\n",
    "\n",
    "CELLTYPE = \"colon\"\n",
    "\n",
    "expGroupPalette = c('#21aaf8','#d42069')\n",
    "names(expGroupPalette) <- c(\"MIS-C\",\"COVID-19\")\n",
    "\n",
    "WIDTH = 1.6\n",
    "HEIGHT = 1.5\n",
    "\n",
    "YLIM = 0.03\n",
    "\n",
    "\n",
    "misc_frac <- TOO_df_melt %>% filter(celltype == CELLTYPE) %>% filter(Diagnosis == \"MIS-C\") %>% pull(fraction)\n",
    "covid_frac <- TOO_df_melt %>% filter(celltype == CELLTYPE) %>% filter(Diagnosis == \"COVID-19\") %>% pull(fraction)\n",
    "\n",
    "wilcox.test(x = misc_frac, y = covid_frac)\n",
    "                \n",
    "\n",
    "pdf(file=paste0(\"plots/SupPanelC_\",CELLTYPE,\".pdf\"),\n",
    "    width=WIDTH,height=HEIGHT, paper=\"special\", bg=\"white\",\n",
    "    fonts=\"Helvetica\", colormodel = \"srgb\", pointsize=6, useDingbats = FALSE)\n",
    "\n",
    "bxplt <- TOO_df_melt %>%\n",
    "        filter(celltype == CELLTYPE) %>%\n",
    "        ggplot() + \n",
    "        geom_boxplot(aes(x=Diagnosis,y=fraction,fill=Diagnosis),outlier.shape = NA,size = 0.2, color = \"black\")+ \n",
    "        geom_jitter(aes(x=Diagnosis,y=fraction),width=.2,height=0,size = 0.01)+\n",
    "        theme_prevail()+\n",
    "        theme(title = element_text(size = 7.5))+\n",
    "        labs(title = paste0(\"cfdna\\n\", gsub(\"\\\\.\",\" \",CELLTYPE)))+\n",
    "        theme(panel.grid.minor = element_blank(),\n",
    "              axis.title = element_blank(),\n",
    "             title = element_blank()) +\n",
    "        scale_y_continuous(breaks = c(0, YLIM/3, (YLIM/3)*2 , YLIM))  + \n",
    "        coord_cartesian(ylim = c(0,YLIM*1.05))\n",
    "\n",
    "print(bxplt)\n",
    "\n",
    "dev.off()"
   ]
  },
  {
   "cell_type": "code",
   "execution_count": null,
   "id": "a7ae332f-3fa0-4095-ba02-c6c14f564d05",
   "metadata": {},
   "outputs": [],
   "source": []
  }
 ],
 "metadata": {
  "kernelspec": {
   "display_name": "R",
   "language": "R",
   "name": "ir"
  },
  "language_info": {
   "codemirror_mode": "r",
   "file_extension": ".r",
   "mimetype": "text/x-r-source",
   "name": "R",
   "pygments_lexer": "r",
   "version": "4.1.1"
  }
 },
 "nbformat": 4,
 "nbformat_minor": 5
}
