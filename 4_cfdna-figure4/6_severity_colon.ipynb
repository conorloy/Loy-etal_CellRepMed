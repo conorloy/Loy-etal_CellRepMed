{
 "cells": [
  {
   "cell_type": "code",
   "execution_count": 1,
   "id": "a6f5d25d-cd7c-482a-a663-4b746b1294f9",
   "metadata": {
    "tags": []
   },
   "outputs": [],
   "source": [
    "suppressMessages(library(tidyverse))\n",
    "suppressMessages(library(reshape2))\n",
    "source('../0_support-files/theme_CRP-MISC.R')\n",
    "\n"
   ]
  },
  {
   "cell_type": "markdown",
   "id": "0b72260f-df1f-4445-85c9-fbdcda41d31b",
   "metadata": {
    "tags": []
   },
   "source": [
    "## 3. For cfDNA abundance, are there any differences between moderate and severe MISC?"
   ]
  },
  {
   "cell_type": "markdown",
   "id": "5edf7d31-2bd9-43db-ae42-d9c786849321",
   "metadata": {
    "tags": []
   },
   "source": [
    "### prep meta data and deconvolution"
   ]
  },
  {
   "cell_type": "code",
   "execution_count": 2,
   "id": "6e1965fe-226c-4d4c-8f3c-ef7ee2e88022",
   "metadata": {
    "tags": []
   },
   "outputs": [
    {
     "data": {
      "text/plain": [
       "\n",
       "\tWilcoxon rank sum exact test\n",
       "\n",
       "data:  mod and sev\n",
       "W = 102, p-value = 0.1948\n",
       "alternative hypothesis: true location shift is not equal to 0\n"
      ]
     },
     "metadata": {},
     "output_type": "display_data"
    }
   ],
   "source": [
    "ID_VARS = c(\"PTID\",\"Sample_ID\",\"Diagnosis\",\"timepoint\",\"expGroup_plotting\",\"scaled_cfDNA\",\"severity\")\n",
    "\n",
    "TISS_COLS = c('bcell','colon','dendritic','eosinophil','erythroblast','heart','hsc','kidney','liver','lung','macrophage','megakaryocyte','monocyte','neutrophil','nkcell','pancreas','progenitor','skin','spleen','tcell')\n",
    "ID_VARS <- c(ID_VARS,\"group\")\n",
    "\n",
    "\n",
    "## Read in MISC data\n",
    "TOO_df = read.csv(\"../1_sample-data/STable8_cfdna-samples.csv\") %>% \n",
    "    filter(Diagnosis == \"MIS-C\" & timepoint == \"acute\") %>%\n",
    "    rename(scaled_cfDNA = cfDNA_concentration) %>%\n",
    "    mutate(Diagnosis = ifelse(Diagnosis != \"Control_Non-inflammatory\", \n",
    "                              paste0(\"Acute \",Diagnosis,\" \",severity),\n",
    "                                     Diagnosis)) %>%\n",
    "    rename(Sample_ID = cfdna_sample_id) %>% \n",
    "    mutate(expGroup_plotting = Diagnosis)  %>%\n",
    "    mutate(group = ifelse(severity == 2, \"Moderate MIS-C\",\n",
    "                            ifelse(severity == 3,\"Severe MIS-C\",\"other\")))%>%\n",
    "    select(all_of(c(ID_VARS,TISS_COLS)))\n",
    "\n",
    "\n",
    "\n",
    "##------------------------------------\n",
    "# Calculate differences between groups\n",
    "mod <- TOO_df %>% filter(severity == 2) %>% pull(scaled_cfDNA)\n",
    "sev <- TOO_df %>% filter(severity == 3) %>% pull(scaled_cfDNA)\n",
    "\n",
    "t <- wilcox.test(x = mod, y = sev)\n",
    "t"
   ]
  },
  {
   "cell_type": "markdown",
   "id": "a370a4e4-d459-4f16-895b-34208fd05a70",
   "metadata": {
    "tags": []
   },
   "source": [
    "### Plot"
   ]
  },
  {
   "cell_type": "code",
   "execution_count": 3,
   "id": "7cb51f67-af4b-4a1a-9245-a39eebc277eb",
   "metadata": {},
   "outputs": [
    {
     "data": {
      "text/html": [
       "<strong>png:</strong> 2"
      ],
      "text/latex": [
       "\\textbf{png:} 2"
      ],
      "text/markdown": [
       "**png:** 2"
      ],
      "text/plain": [
       "png \n",
       "  2 "
      ]
     },
     "metadata": {},
     "output_type": "display_data"
    }
   ],
   "source": [
    "##------------------------------------\n",
    "# Plot\n",
    "\n",
    "expGroupPalette = c('#008176','#0000a7')\n",
    "names(expGroupPalette) <- c(\"Moderate MIS-C\",\"Severe MIS-C\")\n",
    "\n",
    "\n",
    "WIDTH = 1.6\n",
    "HEIGHT = 1.5\n",
    "\n",
    "YLIM = 15\n",
    "\n",
    "\n",
    "pdf(file=paste0(\"plots/SupPanelA_severity.pdf\"),\n",
    "    width=WIDTH,height=HEIGHT, paper=\"special\", bg=\"white\",\n",
    "    fonts=\"Helvetica\", colormodel = \"srgb\", pointsize=6, useDingbats = FALSE)\n",
    "\n",
    "bxplt <- TOO_df %>%\n",
    "        ggplot() + \n",
    "        geom_boxplot(aes(x=group,y=scaled_cfDNA,fill=group),outlier.shape = NA,size = 0.2, color = \"black\")+ #, color = \"black\"\n",
    "        geom_jitter(aes(x=group,y=scaled_cfDNA),width=.2,height=0,size = 0.01)+\n",
    "#         geom_point(aes(colour = severity,shape = severity,group=plottingName),position = position_jitterdodge(jitter.width=0.1,seed=100,jitter.height=0),size = 0.5,alpha= 0.5)+       # ,pch=21 ,color = \"black\"\n",
    "#         annotate(\"text\", x = 1, y = YLIM - 0.01, label = CELLTYPE,size = 2.5,family = \"Helvetica\")+\n",
    "        theme_prevail()+\n",
    "#         scale_color_manual(values=c('1' = \"black\",\n",
    "#                                        '2' = \"red\")) + \n",
    "#         scale_shape_manual(values=c('1'= 16,\n",
    "#                                        '2'= 4))+\n",
    "        scale_fill_manual(values=expGroupPalette) + \n",
    "        theme(panel.grid.minor = element_blank(),\n",
    "              axis.title = element_blank(),\n",
    "             title = element_blank()) +\n",
    "        scale_y_continuous(breaks = c(0, YLIM/3, (YLIM/3)*2 , YLIM))  + \n",
    "        coord_cartesian(ylim = c(0,YLIM*1.05))\n",
    "\n",
    "print(bxplt)\n",
    "\n",
    "dev.off()"
   ]
  },
  {
   "cell_type": "markdown",
   "id": "7e1e44ad-04f0-4282-8a12-1b0796a21744",
   "metadata": {
    "tags": []
   },
   "source": [
    "## 6. Given the severe GI symptoms associated with MISC as well as the finding that the GI tract may act as a reservoir for SARS-CoV-2 resulting in Spike protein antigenemia in MISC, I would be interested in more detail regarding markers of GI injury. Were there any differences between COVID19 and MISC?"
   ]
  },
  {
   "cell_type": "code",
   "execution_count": 4,
   "id": "d9970208-6815-4122-bc31-2ea2d7ecbbd0",
   "metadata": {},
   "outputs": [
    {
     "name": "stderr",
     "output_type": "stream",
     "text": [
      "Warning message in wilcox.test.default(x = mod, y = sev):\n",
      "“cannot compute exact p-value with ties”\n"
     ]
    },
    {
     "data": {
      "text/plain": [
       "\n",
       "\tWilcoxon rank sum test with continuity correction\n",
       "\n",
       "data:  mod and sev\n",
       "W = 262, p-value = 0.404\n",
       "alternative hypothesis: true location shift is not equal to 0\n"
      ]
     },
     "metadata": {},
     "output_type": "display_data"
    },
    {
     "data": {
      "text/html": [
       "<strong>png:</strong> 2"
      ],
      "text/latex": [
       "\\textbf{png:} 2"
      ],
      "text/markdown": [
       "**png:** 2"
      ],
      "text/plain": [
       "png \n",
       "  2 "
      ]
     },
     "metadata": {},
     "output_type": "display_data"
    }
   ],
   "source": [
    "ID_VARS = c(\"PTID\",\"Sample_ID\",\"Diagnosis\",\"timepoint\",\"expGroup_plotting\",\"scaled_cfDNA\",\"severity\")\n",
    "\n",
    "TISS_COLS = c('bcell','colon','dendritic','eosinophil','erythroblast','heart','hsc','kidney','liver','lung','macrophage','megakaryocyte','monocyte','neutrophil','nkcell','pancreas','progenitor','skin','spleen','tcell')\n",
    "ID_VARS <- c(ID_VARS,\"group\")\n",
    "\n",
    "CELLTYPE = \"colon\"\n",
    "\n",
    "## Read in MISC data\n",
    "TOO_df = read.csv(\"../1_sample-data/STable8_cfdna-samples.csv\") %>% \n",
    "    filter(Diagnosis %in% c(\"COVID-19\",\"MIS-C\") & timepoint == \"acute\" & severity >1) %>%\n",
    "    rename(scaled_cfDNA = cfDNA_concentration) %>%\n",
    "    # mutate(Diagnosis = ifelse(Diagnosis != \"Control_Non-inflammatory\", \n",
    "    #                           paste0(\"Acute \",Diagnosis,\" \",severity),\n",
    "    #                                  Diagnosis)) %>%\n",
    "    rename(Sample_ID = cfdna_sample_id) %>% \n",
    "    mutate(expGroup_plotting = Diagnosis)  %>%\n",
    "    mutate(group = Diagnosis)%>%\n",
    "    select(all_of(c(ID_VARS,TISS_COLS))) %>%\n",
    "    mutate(colon_conc = colon*scaled_cfDNA)\n",
    "\n",
    "##------------------------------------\n",
    "# Calculate differences between groups\n",
    "mod <- TOO_df %>% filter(Diagnosis == \"COVID-19\") %>% pull(colon)\n",
    "sev <- TOO_df %>% filter(Diagnosis == \"MIS-C\") %>% pull(colon)\n",
    "\n",
    "t <- wilcox.test(x = mod, y = sev)\n",
    "t\n",
    "\n",
    "WIDTH = 1.6\n",
    "HEIGHT = 1.5\n",
    "\n",
    "YLIM = 0.03\n",
    "\n",
    "pdf(file=paste0(\"plots/SupPanelC_\",CELLTYPE,\".pdf\"),\n",
    "    width=WIDTH,height=HEIGHT, paper=\"special\", bg=\"white\",\n",
    "    fonts=\"Helvetica\", colormodel = \"srgb\", pointsize=6, useDingbats = FALSE)\n",
    "\n",
    "bxplt <- TOO_df %>%\n",
    "        ggplot() + \n",
    "        geom_boxplot(aes(x=Diagnosis,y=colon,fill=Diagnosis),outlier.shape = NA,size = 0.2, color = \"black\")+ \n",
    "        geom_jitter(aes(x=Diagnosis,y=colon),width=.2,height=0,size = 0.01)+\n",
    "        theme_prevail()+\n",
    "        theme(title = element_text(size = 7.5))+\n",
    "        labs(title = paste0(\"cfdna\\n\", gsub(\"\\\\.\",\" \",CELLTYPE)))+\n",
    "        theme(panel.grid.minor = element_blank(),\n",
    "              axis.title = element_blank(),\n",
    "             title = element_blank()) +\n",
    "        scale_y_continuous(breaks = c(0, YLIM/3, (YLIM/3)*2 , YLIM))  + \n",
    "        coord_cartesian(ylim = c(0,YLIM*1.05))\n",
    "\n",
    "print(bxplt)\n",
    "\n",
    "dev.off()"
   ]
  },
  {
   "cell_type": "code",
   "execution_count": 5,
   "id": "02878269-6911-440b-9b58-968b06ddd67d",
   "metadata": {},
   "outputs": [
    {
     "data": {
      "text/plain": [
       ".\n",
       "COVID-19    MIS-C \n",
       "      11       41 "
      ]
     },
     "metadata": {},
     "output_type": "display_data"
    }
   ],
   "source": [
    "TOO_df %>% pull(Diagnosis) %>% table()"
   ]
  },
  {
   "cell_type": "code",
   "execution_count": null,
   "id": "333c9454-b689-445d-9718-5e78c99dae6d",
   "metadata": {},
   "outputs": [],
   "source": []
  }
 ],
 "metadata": {
  "kernelspec": {
   "display_name": "R",
   "language": "R",
   "name": "ir"
  },
  "language_info": {
   "codemirror_mode": "r",
   "file_extension": ".r",
   "mimetype": "text/x-r-source",
   "name": "R",
   "pygments_lexer": "r",
   "version": "4.1.1"
  }
 },
 "nbformat": 4,
 "nbformat_minor": 5
}
