{
 "cells": [
  {
   "cell_type": "markdown",
   "metadata": {},
   "source": [
    "### Look into adding control non-inflammtories from UCSF to the \"controls\" group"
   ]
  },
  {
   "cell_type": "code",
   "execution_count": 1,
   "metadata": {},
   "outputs": [
    {
     "name": "stderr",
     "output_type": "stream",
     "text": [
      "── \u001b[1mAttaching packages\u001b[22m ────────────────────────────────────────────────────────────────────────────────────────────────────────────────────────────────────────────────────── tidyverse 1.3.1 ──\n",
      "\n",
      "\u001b[32m✔\u001b[39m \u001b[34mggplot2\u001b[39m 3.3.6     \u001b[32m✔\u001b[39m \u001b[34mpurrr  \u001b[39m 0.3.4\n",
      "\u001b[32m✔\u001b[39m \u001b[34mtibble \u001b[39m 3.1.7     \u001b[32m✔\u001b[39m \u001b[34mdplyr  \u001b[39m 1.0.8\n",
      "\u001b[32m✔\u001b[39m \u001b[34mtidyr  \u001b[39m 1.2.0     \u001b[32m✔\u001b[39m \u001b[34mstringr\u001b[39m 1.4.0\n",
      "\u001b[32m✔\u001b[39m \u001b[34mreadr  \u001b[39m 2.1.2     \u001b[32m✔\u001b[39m \u001b[34mforcats\u001b[39m 0.5.1\n",
      "\n",
      "── \u001b[1mConflicts\u001b[22m ───────────────────────────────────────────────────────────────────────────────────────────────────────────────────────────────────────────────────────── tidyverse_conflicts() ──\n",
      "\u001b[31m✖\u001b[39m \u001b[34mdplyr\u001b[39m::\u001b[32mfilter()\u001b[39m masks \u001b[34mstats\u001b[39m::filter()\n",
      "\u001b[31m✖\u001b[39m \u001b[34mdplyr\u001b[39m::\u001b[32mlag()\u001b[39m    masks \u001b[34mstats\u001b[39m::lag()\n",
      "\n",
      "\n",
      "Attaching package: ‘data.table’\n",
      "\n",
      "\n",
      "The following objects are masked from ‘package:dplyr’:\n",
      "\n",
      "    between, first, last\n",
      "\n",
      "\n",
      "The following object is masked from ‘package:purrr’:\n",
      "\n",
      "    transpose\n",
      "\n",
      "\n",
      "\n",
      "Attaching package: ‘rstatix’\n",
      "\n",
      "\n",
      "The following object is masked from ‘package:stats’:\n",
      "\n",
      "    filter\n",
      "\n",
      "\n"
     ]
    }
   ],
   "source": [
    "library(tidyverse)\n",
    "library(data.table)\n",
    "library(ggplot2)\n",
    "library(palettetown)\n",
    "library(stringr)\n",
    "library(dplyr)\n",
    "library(ggpattern)\n",
    "source('../0_support-files/theme_CRP-MISC.R')\n",
    "source('../0_support-files/prevail_man_fill.R')\n",
    "library(ggpubr)\n",
    "library(rstatix)\n",
    "\n",
    "\n",
    "\n",
    "\n",
    "expGroupPalette <- c(\"Control\" = \"#00FF7F\",\n",
    "                            \"COVID-19_Nonsevere\" = \"#7DB27D\",\n",
    "                            \"COVID-19_Severe\" = \"#7DB27D\",\n",
    "                            \"Control Non-inflammatory\" ='#FBE77C',\n",
    "                            \"Acute COVID-19 Mild/ASX\" = '#F0484E',\n",
    "                            \"Acute COVID-19 Moderate/Severe\" = '#F0484E',\n",
    "                            \"Acute MIS-C Moderate/Severe\" = '#5CB2EB')\n",
    "\n",
    "\n",
    "\n",
    "'%ni%' <- Negate('%in%')"
   ]
  },
  {
   "cell_type": "code",
   "execution_count": 2,
   "metadata": {},
   "outputs": [],
   "source": [
    "solid_organ = c(\"colon\",\"heart\",\"kidney\",\"liver\",\"lung\",\"pancreas\",\"skin\",\"spleen\")\n",
    "\n",
    "\n",
    "expGroupPalette <- c(\"Control\" = \"#00FF7F\",\n",
    "                            \"COVID-19_Nonsevere\" = \"#7DB27D\",\n",
    "                            \"COVID-19_Severe\" = \"#7DB27D\",\n",
    "                            \"Control_Non-inflammatory\" ='#FBE77C',\n",
    "                            \"Acute COVID-19 Mild/ASX\" = '#F0484E',\n",
    "                            \"Acute COVID-19 Moderate/Severe\" = '#F0484E',\n",
    "                            \"Acute MIS-C Moderate/Severe\" = '#5CB2EB')\n",
    "\n",
    "\n",
    "#------------------------------\n",
    "## Read in MISC data\n",
    "master_df = read.csv(\"../1_sample-data/STable8_cfdna-samples.csv\") %>% \n",
    "    rename(scaled_cfDNA = cfDNA_concentration) %>%\n",
    "    mutate(severity = ifelse(severity == 0 | severity == 1,\"Mild/ASX\",\n",
    "                             ifelse(severity == 2 | severity == 3,\"Moderate/Severe\",\"\"))) %>%\n",
    "    mutate(Diagnosis = ifelse(Diagnosis != \"Control_Non-inflammatory\", paste0(\"Acute \",Diagnosis,\" \",severity),Diagnosis)) %>%\n",
    "    rename(Sample_ID = cfdna_sample_id) %>% \n",
    "    select(Sample_ID,PTID,Diagnosis,scaled_cfDNA,all_of(solid_organ),severity)\n",
    "\n",
    "#------------------------------\n",
    "## Read in adult cohort\n",
    "adult_mdf <- read.delim(\"../1_sample-data/cfdna_adult_master-df.tsv\") %>%\n",
    "    filter(origin == \"MCGILL\") %>%\n",
    "    mutate(Diagnosis = severity) %>%\n",
    "    mutate(expGroup_plotting = Diagnosis) %>%\n",
    "    mutate(icu = 0) %>%\n",
    "    select(Sample_ID,PTID,Diagnosis,scaled_cfDNA,all_of(solid_organ),severity)\n",
    "\n",
    "# head(adult_mdf)\n",
    "\n",
    "#------------------------------\n",
    "## Combine\n",
    "all_abd = rbind(adult_mdf,master_df)\n",
    "\n",
    "#------------------------------\n",
    "## Filter and Re-factor\n",
    "\n",
    "\n",
    "all_abd$Diagnosis <- factor(all_abd$Diagnosis, levels=names(expGroupPalette))\n",
    "\n",
    "# all_abd$icu <- factor(all_abd$icu)\n",
    "\n",
    "\n",
    "# ## Add solid tissue part\n",
    "\n",
    "all_abd$solid_organ_frac <- rowSums(all_abd[,colnames(all_abd) %in% solid_organ])\n",
    "all_abd$solid_organ_conc <- all_abd$solid_organ_frac * all_abd$scaled_cfDNA\n",
    "\n",
    "all_abd$expGroup_plotting <- all_abd$Diagnosis\n",
    "# all_abd$expGroup_plotting <- factor(all_abd$expGroup_plotting, levels=names(expGroupPalette))\n",
    "\n"
   ]
  },
  {
   "cell_type": "markdown",
   "metadata": {},
   "source": [
    "---\n",
    "# FOR PUB"
   ]
  },
  {
   "cell_type": "code",
   "execution_count": 3,
   "metadata": {},
   "outputs": [
    {
     "data": {
      "text/html": [
       "<table class=\"dataframe\">\n",
       "<caption>A data.frame: 6 × 4</caption>\n",
       "<thead>\n",
       "\t<tr><th></th><th scope=col>expGroup_plotting</th><th scope=col>Sample_ID</th><th scope=col>variable</th><th scope=col>value</th></tr>\n",
       "\t<tr><th></th><th scope=col>&lt;fct&gt;</th><th scope=col>&lt;chr&gt;</th><th scope=col>&lt;fct&gt;</th><th scope=col>&lt;dbl&gt;</th></tr>\n",
       "</thead>\n",
       "<tbody>\n",
       "\t<tr><th scope=row>1</th><td>COVID-19_Nonsevere</td><td>MCGILL1 </td><td>solid_organ_conc</td><td>0.005827706</td></tr>\n",
       "\t<tr><th scope=row>2</th><td>COVID-19_Nonsevere</td><td>MCGILL20</td><td>solid_organ_conc</td><td>0.072144049</td></tr>\n",
       "\t<tr><th scope=row>3</th><td>COVID-19_Nonsevere</td><td>MCGILL21</td><td>solid_organ_conc</td><td>0.026977047</td></tr>\n",
       "\t<tr><th scope=row>4</th><td>COVID-19_Nonsevere</td><td>MCGILL25</td><td>solid_organ_conc</td><td>0.008103787</td></tr>\n",
       "\t<tr><th scope=row>5</th><td>COVID-19_Nonsevere</td><td>MCGILL27</td><td>solid_organ_conc</td><td>0.006719510</td></tr>\n",
       "\t<tr><th scope=row>6</th><td>COVID-19_Nonsevere</td><td>MCGILL26</td><td>solid_organ_conc</td><td>0.007427791</td></tr>\n",
       "</tbody>\n",
       "</table>\n"
      ],
      "text/latex": [
       "A data.frame: 6 × 4\n",
       "\\begin{tabular}{r|llll}\n",
       "  & expGroup\\_plotting & Sample\\_ID & variable & value\\\\\n",
       "  & <fct> & <chr> & <fct> & <dbl>\\\\\n",
       "\\hline\n",
       "\t1 & COVID-19\\_Nonsevere & MCGILL1  & solid\\_organ\\_conc & 0.005827706\\\\\n",
       "\t2 & COVID-19\\_Nonsevere & MCGILL20 & solid\\_organ\\_conc & 0.072144049\\\\\n",
       "\t3 & COVID-19\\_Nonsevere & MCGILL21 & solid\\_organ\\_conc & 0.026977047\\\\\n",
       "\t4 & COVID-19\\_Nonsevere & MCGILL25 & solid\\_organ\\_conc & 0.008103787\\\\\n",
       "\t5 & COVID-19\\_Nonsevere & MCGILL27 & solid\\_organ\\_conc & 0.006719510\\\\\n",
       "\t6 & COVID-19\\_Nonsevere & MCGILL26 & solid\\_organ\\_conc & 0.007427791\\\\\n",
       "\\end{tabular}\n"
      ],
      "text/markdown": [
       "\n",
       "A data.frame: 6 × 4\n",
       "\n",
       "| <!--/--> | expGroup_plotting &lt;fct&gt; | Sample_ID &lt;chr&gt; | variable &lt;fct&gt; | value &lt;dbl&gt; |\n",
       "|---|---|---|---|---|\n",
       "| 1 | COVID-19_Nonsevere | MCGILL1  | solid_organ_conc | 0.005827706 |\n",
       "| 2 | COVID-19_Nonsevere | MCGILL20 | solid_organ_conc | 0.072144049 |\n",
       "| 3 | COVID-19_Nonsevere | MCGILL21 | solid_organ_conc | 0.026977047 |\n",
       "| 4 | COVID-19_Nonsevere | MCGILL25 | solid_organ_conc | 0.008103787 |\n",
       "| 5 | COVID-19_Nonsevere | MCGILL27 | solid_organ_conc | 0.006719510 |\n",
       "| 6 | COVID-19_Nonsevere | MCGILL26 | solid_organ_conc | 0.007427791 |\n",
       "\n"
      ],
      "text/plain": [
       "  expGroup_plotting  Sample_ID variable         value      \n",
       "1 COVID-19_Nonsevere MCGILL1   solid_organ_conc 0.005827706\n",
       "2 COVID-19_Nonsevere MCGILL20  solid_organ_conc 0.072144049\n",
       "3 COVID-19_Nonsevere MCGILL21  solid_organ_conc 0.026977047\n",
       "4 COVID-19_Nonsevere MCGILL25  solid_organ_conc 0.008103787\n",
       "5 COVID-19_Nonsevere MCGILL27  solid_organ_conc 0.006719510\n",
       "6 COVID-19_Nonsevere MCGILL26  solid_organ_conc 0.007427791"
      ]
     },
     "metadata": {},
     "output_type": "display_data"
    }
   ],
   "source": [
    "all_abd <- all_abd %>% select(expGroup_plotting,Sample_ID,solid_organ_conc,scaled_cfDNA) %>% reshape2::melt(id.vars= c(\"expGroup_plotting\",\"Sample_ID\"))\n",
    "\n",
    "all_abd$expGroup_plotting <- factor(all_abd$expGroup_plotting, levels = names(expGroupPalette))\n",
    "head(all_abd)"
   ]
  },
  {
   "cell_type": "code",
   "execution_count": 4,
   "metadata": {},
   "outputs": [
    {
     "data": {
      "text/plain": [
       ".\n",
       "                       Control             COVID-19_Nonsevere \n",
       "                             4                             30 \n",
       "               COVID-19_Severe       Control_Non-inflammatory \n",
       "                            22                              3 \n",
       "       Acute COVID-19 Mild/ASX Acute COVID-19 Moderate/Severe \n",
       "                            10                             11 \n",
       "   Acute MIS-C Moderate/Severe \n",
       "                            41 "
      ]
     },
     "metadata": {},
     "output_type": "display_data"
    }
   ],
   "source": [
    "all_abd %>% select(Sample_ID, expGroup_plotting) %>% unique() %>% pull(expGroup_plotting) %>% table()"
   ]
  },
  {
   "cell_type": "code",
   "execution_count": 5,
   "metadata": {},
   "outputs": [
    {
     "data": {
      "text/html": [
       "<strong>png:</strong> 2"
      ],
      "text/latex": [
       "\\textbf{png:} 2"
      ],
      "text/markdown": [
       "**png:** 2"
      ],
      "text/plain": [
       "png \n",
       "  2 "
      ]
     },
     "metadata": {},
     "output_type": "display_data"
    }
   ],
   "source": [
    "pdf(file=\"plots/panelB.pdf\",\n",
    "                 width=3.47,height=2.25, paper=\"special\", bg=\"white\",\n",
    "                 fonts=\"Helvetica\", colormodel = \"srgb\", pointsize=6, useDingbats = FALSE)\n",
    "\n",
    "# XORDER <- c('Control \\nn=4','COVID-19 \\nNonsevere \\nn=30','COVID-19 \\nSevere \\nn=22',\n",
    "#             'Control \\nn=5','COVID-19 \\n acute \\nn=18','MIS-C \\n acute \\nn=40')\n",
    "\n",
    "YLIM = 10\n",
    "\n",
    "final_plt <- all_abd %>% \n",
    "# mutate(Diagnosis = factor(Diagnosis,levels = XORDER)) %>%\n",
    "ggplot(aes(x=expGroup_plotting,\n",
    "           y=value,\n",
    "           fill=expGroup_plotting,\n",
    "           pattern=variable))+ #fill=Diagnosis,\n",
    "    geom_boxplot(outlier.shape = NA,\n",
    "                 size = 0.1)+                     # place holder to set discrete scale\n",
    "    theme_prevail()+\n",
    "    theme(plot.margin = unit(c(2,2,2,2), \"pt\"),\n",
    "            axis.title.x = element_blank())+\n",
    "    # scale_fill_poke(pokemon = 137, spread = 6)+\n",
    "#     coord_cartesian(ylim = c(0,YLIM))+\n",
    "    annotate(geom=\"rect\",\n",
    "             xmin = 3.5,\n",
    "             xmax = Inf, \n",
    "             ymin = 0, \n",
    "             ymax = Inf, \n",
    "             alpha = .2)+              # add rect\n",
    "    geom_boxplot_pattern(outlier.shape = NA,\n",
    "                         size = 0.2,\n",
    "                         position = position_dodge(preserve = \"single\"),\n",
    "                         color = \"black\",\n",
    "                         pattern_size=0.2,\n",
    "                         pattern_colour = \"black\",\n",
    "                         pattern_fill = \"white\",\n",
    "                         pattern_angle = 45,\n",
    "                         pattern_density = 0.1,\n",
    "                         pattern_spacing = 0.025,\n",
    "                         pattern_key_scale_factor = 0.6) +\n",
    "    geom_point(position =  position_jitterdodge(jitter.height=0, \n",
    "                                                jitter.width=.25, \n",
    "                                                seed=42),\n",
    "                size = 0.4)+\n",
    "    scale_fill_manual(values = expGroupPalette) +\n",
    "    scale_pattern_manual(values = c(solid_organ_conc = \"stripe\", \n",
    "                                    scaled_cfDNA = \"none\"))+\n",
    "    coord_cartesian(ylim = c(0,YLIM))+\n",
    "    scale_y_continuous(breaks = c(2,4,6,8))\n",
    "\n",
    "##---------------------------------------\n",
    "# ADD ARROWS\n",
    "\n",
    "subset <- names(expGroupPalette)\n",
    "\n",
    "mapping_key <- c(1:length(subset))\n",
    "names(mapping_key) <- subset\n",
    "\n",
    "outliers <- all_abd %>% filter(value > YLIM)\n",
    "\n",
    "text_offset = 0.09\n",
    "text_size = 2.25\n",
    "text_lineheight = .75\n",
    "\n",
    "arrow_size = 0.5\n",
    "\n",
    "for (i  in 1:length(subset)){\n",
    "    group <- subset[i]\n",
    "    group_outliers <- outliers %>% filter(expGroup_plotting == group)\n",
    "    \n",
    "    ## ADD ARROW\n",
    "    if (nrow(group_outliers) > 0){\n",
    "        \n",
    "        outlier_values <- round(group_outliers$value,2)\n",
    "        outlier_values <- as.character(outlier_values[order(outlier_values,decreasing=TRUE)])\n",
    "                \n",
    "        final_plt <- final_plt + annotate(\"segment\", x = i, xend = i,\n",
    "                                          y = 7.5, yend = 8,\n",
    "                                          size = arrow_size, lineend=\"butt\", linejoin=\"mitre\", arrow=arrow(length=unit(.02,\"npc\")))\n",
    "\n",
    "        final_plt <- final_plt + annotate(\"text\", x = i+text_offset, y = YLIM, hjust=0,vjust=1.2,\n",
    "                                          label = paste0(outlier_values,collapse=\"\\n\"),\n",
    "                                          size = text_size, family = \"Helvetica\", lineheight = text_lineheight)\n",
    "\n",
    "        \n",
    "    }\n",
    "}\n",
    "\n",
    "print(final_plt)\n",
    "dev.off()"
   ]
  },
  {
   "cell_type": "code",
   "execution_count": 11,
   "metadata": {},
   "outputs": [
    {
     "data": {
      "text/html": [
       "<table class=\"dataframe\">\n",
       "<caption>A rstatix_test: 6 × 13</caption>\n",
       "<thead>\n",
       "\t<tr><th scope=col>.y.</th><th scope=col>group1</th><th scope=col>group2</th><th scope=col>n1</th><th scope=col>n2</th><th scope=col>statistic</th><th scope=col>p</th><th scope=col>p.adj</th><th scope=col>p.adj.signif</th><th scope=col>y.position</th><th scope=col>groups</th><th scope=col>xmin</th><th scope=col>xmax</th></tr>\n",
       "\t<tr><th scope=col>&lt;chr&gt;</th><th scope=col>&lt;chr&gt;</th><th scope=col>&lt;chr&gt;</th><th scope=col>&lt;int&gt;</th><th scope=col>&lt;int&gt;</th><th scope=col>&lt;dbl&gt;</th><th scope=col>&lt;dbl&gt;</th><th scope=col>&lt;dbl&gt;</th><th scope=col>&lt;chr&gt;</th><th scope=col>&lt;dbl&gt;</th><th scope=col>&lt;named list&gt;</th><th scope=col>&lt;dbl&gt;</th><th scope=col>&lt;dbl&gt;</th></tr>\n",
       "</thead>\n",
       "<tbody>\n",
       "\t<tr><td>value</td><td>Control                       </td><td>Acute MIS-C Moderate/Severe</td><td> 4</td><td>41</td><td>  0</td><td>1.34e-05</td><td>5.005000e-05</td><td>****</td><td>14.7030</td><td>Control                    , Acute MIS-C Moderate/Severe</td><td>1</td><td>7</td></tr>\n",
       "\t<tr><td>value</td><td>COVID-19_Nonsevere            </td><td>Acute MIS-C Moderate/Severe</td><td>30</td><td>41</td><td> 10</td><td>2.90e-18</td><td>6.090000e-17</td><td>****</td><td>19.9950</td><td>COVID-19_Nonsevere         , Acute MIS-C Moderate/Severe</td><td>2</td><td>7</td></tr>\n",
       "\t<tr><td>value</td><td>COVID-19_Severe               </td><td>Acute MIS-C Moderate/Severe</td><td>22</td><td>41</td><td>109</td><td>1.06e-07</td><td>7.420000e-07</td><td>****</td><td>24.2286</td><td>COVID-19_Severe            , Acute MIS-C Moderate/Severe</td><td>3</td><td>7</td></tr>\n",
       "\t<tr><td>value</td><td>Control_Non-inflammatory      </td><td>Acute MIS-C Moderate/Severe</td><td> 3</td><td>41</td><td>  6</td><td>3.00e-03</td><td>5.727273e-03</td><td>**  </td><td>27.4038</td><td>Control_Non-inflammatory   , Acute MIS-C Moderate/Severe</td><td>4</td><td>7</td></tr>\n",
       "\t<tr><td>value</td><td>Acute COVID-19 Mild/ASX       </td><td>Acute MIS-C Moderate/Severe</td><td>10</td><td>41</td><td> 11</td><td>4.42e-06</td><td>2.320500e-05</td><td>****</td><td>29.5206</td><td>Acute COVID-19 Mild/ASX    , Acute MIS-C Moderate/Severe</td><td>5</td><td>7</td></tr>\n",
       "\t<tr><td>value</td><td>Acute COVID-19 Moderate/Severe</td><td>Acute MIS-C Moderate/Severe</td><td>11</td><td>41</td><td>153</td><td>1.07e-01</td><td>1.321765e-01</td><td>ns  </td><td>30.5790</td><td>Acute COVID-19 Moderate/Severe, Acute MIS-C Moderate/Severe   </td><td>6</td><td>7</td></tr>\n",
       "</tbody>\n",
       "</table>\n"
      ],
      "text/latex": [
       "A rstatix\\_test: 6 × 13\n",
       "\\begin{tabular}{lllllllllllll}\n",
       " .y. & group1 & group2 & n1 & n2 & statistic & p & p.adj & p.adj.signif & y.position & groups & xmin & xmax\\\\\n",
       " <chr> & <chr> & <chr> & <int> & <int> & <dbl> & <dbl> & <dbl> & <chr> & <dbl> & <named list> & <dbl> & <dbl>\\\\\n",
       "\\hline\n",
       "\t value & Control                        & Acute MIS-C Moderate/Severe &  4 & 41 &   0 & 1.34e-05 & 5.005000e-05 & **** & 14.7030 & Control                    , Acute MIS-C Moderate/Severe & 1 & 7\\\\\n",
       "\t value & COVID-19\\_Nonsevere             & Acute MIS-C Moderate/Severe & 30 & 41 &  10 & 2.90e-18 & 6.090000e-17 & **** & 19.9950 & COVID-19\\_Nonsevere         , Acute MIS-C Moderate/Severe & 2 & 7\\\\\n",
       "\t value & COVID-19\\_Severe                & Acute MIS-C Moderate/Severe & 22 & 41 & 109 & 1.06e-07 & 7.420000e-07 & **** & 24.2286 & COVID-19\\_Severe            , Acute MIS-C Moderate/Severe & 3 & 7\\\\\n",
       "\t value & Control\\_Non-inflammatory       & Acute MIS-C Moderate/Severe &  3 & 41 &   6 & 3.00e-03 & 5.727273e-03 & **   & 27.4038 & Control\\_Non-inflammatory   , Acute MIS-C Moderate/Severe & 4 & 7\\\\\n",
       "\t value & Acute COVID-19 Mild/ASX        & Acute MIS-C Moderate/Severe & 10 & 41 &  11 & 4.42e-06 & 2.320500e-05 & **** & 29.5206 & Acute COVID-19 Mild/ASX    , Acute MIS-C Moderate/Severe & 5 & 7\\\\\n",
       "\t value & Acute COVID-19 Moderate/Severe & Acute MIS-C Moderate/Severe & 11 & 41 & 153 & 1.07e-01 & 1.321765e-01 & ns   & 30.5790 & Acute COVID-19 Moderate/Severe, Acute MIS-C Moderate/Severe    & 6 & 7\\\\\n",
       "\\end{tabular}\n"
      ],
      "text/markdown": [
       "\n",
       "A rstatix_test: 6 × 13\n",
       "\n",
       "| .y. &lt;chr&gt; | group1 &lt;chr&gt; | group2 &lt;chr&gt; | n1 &lt;int&gt; | n2 &lt;int&gt; | statistic &lt;dbl&gt; | p &lt;dbl&gt; | p.adj &lt;dbl&gt; | p.adj.signif &lt;chr&gt; | y.position &lt;dbl&gt; | groups &lt;named list&gt; | xmin &lt;dbl&gt; | xmax &lt;dbl&gt; |\n",
       "|---|---|---|---|---|---|---|---|---|---|---|---|---|\n",
       "| value | Control                        | Acute MIS-C Moderate/Severe |  4 | 41 |   0 | 1.34e-05 | 5.005000e-05 | **** | 14.7030 | Control                    , Acute MIS-C Moderate/Severe | 1 | 7 |\n",
       "| value | COVID-19_Nonsevere             | Acute MIS-C Moderate/Severe | 30 | 41 |  10 | 2.90e-18 | 6.090000e-17 | **** | 19.9950 | COVID-19_Nonsevere         , Acute MIS-C Moderate/Severe | 2 | 7 |\n",
       "| value | COVID-19_Severe                | Acute MIS-C Moderate/Severe | 22 | 41 | 109 | 1.06e-07 | 7.420000e-07 | **** | 24.2286 | COVID-19_Severe            , Acute MIS-C Moderate/Severe | 3 | 7 |\n",
       "| value | Control_Non-inflammatory       | Acute MIS-C Moderate/Severe |  3 | 41 |   6 | 3.00e-03 | 5.727273e-03 | **   | 27.4038 | Control_Non-inflammatory   , Acute MIS-C Moderate/Severe | 4 | 7 |\n",
       "| value | Acute COVID-19 Mild/ASX        | Acute MIS-C Moderate/Severe | 10 | 41 |  11 | 4.42e-06 | 2.320500e-05 | **** | 29.5206 | Acute COVID-19 Mild/ASX    , Acute MIS-C Moderate/Severe | 5 | 7 |\n",
       "| value | Acute COVID-19 Moderate/Severe | Acute MIS-C Moderate/Severe | 11 | 41 | 153 | 1.07e-01 | 1.321765e-01 | ns   | 30.5790 | Acute COVID-19 Moderate/Severe, Acute MIS-C Moderate/Severe    | 6 | 7 |\n",
       "\n"
      ],
      "text/plain": [
       "  .y.   group1                         group2                      n1 n2\n",
       "1 value Control                        Acute MIS-C Moderate/Severe  4 41\n",
       "2 value COVID-19_Nonsevere             Acute MIS-C Moderate/Severe 30 41\n",
       "3 value COVID-19_Severe                Acute MIS-C Moderate/Severe 22 41\n",
       "4 value Control_Non-inflammatory       Acute MIS-C Moderate/Severe  3 41\n",
       "5 value Acute COVID-19 Mild/ASX        Acute MIS-C Moderate/Severe 10 41\n",
       "6 value Acute COVID-19 Moderate/Severe Acute MIS-C Moderate/Severe 11 41\n",
       "  statistic p        p.adj        p.adj.signif y.position\n",
       "1   0       1.34e-05 5.005000e-05 ****         14.7030   \n",
       "2  10       2.90e-18 6.090000e-17 ****         19.9950   \n",
       "3 109       1.06e-07 7.420000e-07 ****         24.2286   \n",
       "4   6       3.00e-03 5.727273e-03 **           27.4038   \n",
       "5  11       4.42e-06 2.320500e-05 ****         29.5206   \n",
       "6 153       1.07e-01 1.321765e-01 ns           30.5790   \n",
       "  groups                                                         xmin xmax\n",
       "1 Control                    , Acute MIS-C Moderate/Severe       1    7   \n",
       "2 COVID-19_Nonsevere         , Acute MIS-C Moderate/Severe       2    7   \n",
       "3 COVID-19_Severe            , Acute MIS-C Moderate/Severe       3    7   \n",
       "4 Control_Non-inflammatory   , Acute MIS-C Moderate/Severe       4    7   \n",
       "5 Acute COVID-19 Mild/ASX    , Acute MIS-C Moderate/Severe       5    7   \n",
       "6 Acute COVID-19 Moderate/Severe, Acute MIS-C Moderate/Severe    6    7   "
      ]
     },
     "metadata": {},
     "output_type": "display_data"
    }
   ],
   "source": [
    "\n",
    "GROUP = \"Acute MIS-C Moderate/Severe\"\n",
    "\n",
    "stat.test <- data.frame(all_abd) %>% \n",
    "    filter(variable == \"solid_organ_conc\") %>%\n",
    "    # filter(variable == \"scaled_cfDNA\") %>%\n",
    "    wilcox_test(value ~ expGroup_plotting, paired = FALSE) %>% \n",
    "    adjust_pvalue(method = \"BH\") %>% \n",
    "    add_significance(\"p.adj\") %>% \n",
    "    add_xy_position(x = \"expGroup_plotting\") %>% \n",
    "    filter(group1 %in% c(GROUP) | group2 %in% c(GROUP)  )\n",
    "\n",
    "stat.test"
   ]
  },
  {
   "cell_type": "code",
   "execution_count": 8,
   "metadata": {},
   "outputs": [
    {
     "data": {
      "text/html": [
       "<table class=\"dataframe\">\n",
       "<caption>A data.frame: 6 × 4</caption>\n",
       "<thead>\n",
       "\t<tr><th></th><th scope=col>expGroup_plotting</th><th scope=col>Sample_ID</th><th scope=col>variable</th><th scope=col>value</th></tr>\n",
       "\t<tr><th></th><th scope=col>&lt;fct&gt;</th><th scope=col>&lt;chr&gt;</th><th scope=col>&lt;fct&gt;</th><th scope=col>&lt;dbl&gt;</th></tr>\n",
       "</thead>\n",
       "<tbody>\n",
       "\t<tr><th scope=row>1</th><td>COVID-19_Nonsevere</td><td>MCGILL1 </td><td>solid_organ_conc</td><td>0.005827706</td></tr>\n",
       "\t<tr><th scope=row>2</th><td>COVID-19_Nonsevere</td><td>MCGILL20</td><td>solid_organ_conc</td><td>0.072144049</td></tr>\n",
       "\t<tr><th scope=row>3</th><td>COVID-19_Nonsevere</td><td>MCGILL21</td><td>solid_organ_conc</td><td>0.026977047</td></tr>\n",
       "\t<tr><th scope=row>4</th><td>COVID-19_Nonsevere</td><td>MCGILL25</td><td>solid_organ_conc</td><td>0.008103787</td></tr>\n",
       "\t<tr><th scope=row>5</th><td>COVID-19_Nonsevere</td><td>MCGILL27</td><td>solid_organ_conc</td><td>0.006719510</td></tr>\n",
       "\t<tr><th scope=row>6</th><td>COVID-19_Nonsevere</td><td>MCGILL26</td><td>solid_organ_conc</td><td>0.007427791</td></tr>\n",
       "</tbody>\n",
       "</table>\n"
      ],
      "text/latex": [
       "A data.frame: 6 × 4\n",
       "\\begin{tabular}{r|llll}\n",
       "  & expGroup\\_plotting & Sample\\_ID & variable & value\\\\\n",
       "  & <fct> & <chr> & <fct> & <dbl>\\\\\n",
       "\\hline\n",
       "\t1 & COVID-19\\_Nonsevere & MCGILL1  & solid\\_organ\\_conc & 0.005827706\\\\\n",
       "\t2 & COVID-19\\_Nonsevere & MCGILL20 & solid\\_organ\\_conc & 0.072144049\\\\\n",
       "\t3 & COVID-19\\_Nonsevere & MCGILL21 & solid\\_organ\\_conc & 0.026977047\\\\\n",
       "\t4 & COVID-19\\_Nonsevere & MCGILL25 & solid\\_organ\\_conc & 0.008103787\\\\\n",
       "\t5 & COVID-19\\_Nonsevere & MCGILL27 & solid\\_organ\\_conc & 0.006719510\\\\\n",
       "\t6 & COVID-19\\_Nonsevere & MCGILL26 & solid\\_organ\\_conc & 0.007427791\\\\\n",
       "\\end{tabular}\n"
      ],
      "text/markdown": [
       "\n",
       "A data.frame: 6 × 4\n",
       "\n",
       "| <!--/--> | expGroup_plotting &lt;fct&gt; | Sample_ID &lt;chr&gt; | variable &lt;fct&gt; | value &lt;dbl&gt; |\n",
       "|---|---|---|---|---|\n",
       "| 1 | COVID-19_Nonsevere | MCGILL1  | solid_organ_conc | 0.005827706 |\n",
       "| 2 | COVID-19_Nonsevere | MCGILL20 | solid_organ_conc | 0.072144049 |\n",
       "| 3 | COVID-19_Nonsevere | MCGILL21 | solid_organ_conc | 0.026977047 |\n",
       "| 4 | COVID-19_Nonsevere | MCGILL25 | solid_organ_conc | 0.008103787 |\n",
       "| 5 | COVID-19_Nonsevere | MCGILL27 | solid_organ_conc | 0.006719510 |\n",
       "| 6 | COVID-19_Nonsevere | MCGILL26 | solid_organ_conc | 0.007427791 |\n",
       "\n"
      ],
      "text/plain": [
       "  expGroup_plotting  Sample_ID variable         value      \n",
       "1 COVID-19_Nonsevere MCGILL1   solid_organ_conc 0.005827706\n",
       "2 COVID-19_Nonsevere MCGILL20  solid_organ_conc 0.072144049\n",
       "3 COVID-19_Nonsevere MCGILL21  solid_organ_conc 0.026977047\n",
       "4 COVID-19_Nonsevere MCGILL25  solid_organ_conc 0.008103787\n",
       "5 COVID-19_Nonsevere MCGILL27  solid_organ_conc 0.006719510\n",
       "6 COVID-19_Nonsevere MCGILL26  solid_organ_conc 0.007427791"
      ]
     },
     "metadata": {},
     "output_type": "display_data"
    }
   ],
   "source": [
    "all_abd  %>% head()"
   ]
  },
  {
   "cell_type": "code",
   "execution_count": 8,
   "metadata": {},
   "outputs": [
    {
     "name": "stderr",
     "output_type": "stream",
     "text": [
      "\u001b[1m\u001b[22m`summarise()` has grouped output by 'expGroup_plotting'. You can override using the `.groups` argument.\n"
     ]
    },
    {
     "data": {
      "text/html": [
       "<table class=\"dataframe\">\n",
       "<caption>A grouped_df: 14 × 3</caption>\n",
       "<thead>\n",
       "\t<tr><th scope=col>expGroup_plotting</th><th scope=col>variable</th><th scope=col>mean</th></tr>\n",
       "\t<tr><th scope=col>&lt;fct&gt;</th><th scope=col>&lt;fct&gt;</th><th scope=col>&lt;dbl&gt;</th></tr>\n",
       "</thead>\n",
       "<tbody>\n",
       "\t<tr><td>Control                       </td><td>solid_organ_conc</td><td>0.001773368</td></tr>\n",
       "\t<tr><td>Control                       </td><td>scaled_cfDNA    </td><td>0.022023988</td></tr>\n",
       "\t<tr><td>COVID-19_Nonsevere            </td><td>solid_organ_conc</td><td>0.023256854</td></tr>\n",
       "\t<tr><td>COVID-19_Nonsevere            </td><td>scaled_cfDNA    </td><td>0.099895738</td></tr>\n",
       "\t<tr><td>COVID-19_Severe               </td><td>solid_organ_conc</td><td>0.151674988</td></tr>\n",
       "\t<tr><td>COVID-19_Severe               </td><td>scaled_cfDNA    </td><td>0.921144724</td></tr>\n",
       "\t<tr><td>Control_Non-inflammatory      </td><td>solid_organ_conc</td><td>0.108054663</td></tr>\n",
       "\t<tr><td>Control_Non-inflammatory      </td><td>scaled_cfDNA    </td><td>0.723333333</td></tr>\n",
       "\t<tr><td>Acute COVID-19 Mild/ASX       </td><td>solid_organ_conc</td><td>0.053308163</td></tr>\n",
       "\t<tr><td>Acute COVID-19 Mild/ASX       </td><td>scaled_cfDNA    </td><td>1.148500000</td></tr>\n",
       "\t<tr><td>Acute COVID-19 Moderate/Severe</td><td>solid_organ_conc</td><td>0.495536254</td></tr>\n",
       "\t<tr><td>Acute COVID-19 Moderate/Severe</td><td>scaled_cfDNA    </td><td>1.899727273</td></tr>\n",
       "\t<tr><td>Acute MIS-C Moderate/Severe   </td><td>solid_organ_conc</td><td>1.006581012</td></tr>\n",
       "\t<tr><td>Acute MIS-C Moderate/Severe   </td><td>scaled_cfDNA    </td><td>4.121487805</td></tr>\n",
       "</tbody>\n",
       "</table>\n"
      ],
      "text/latex": [
       "A grouped\\_df: 14 × 3\n",
       "\\begin{tabular}{lll}\n",
       " expGroup\\_plotting & variable & mean\\\\\n",
       " <fct> & <fct> & <dbl>\\\\\n",
       "\\hline\n",
       "\t Control                        & solid\\_organ\\_conc & 0.001773368\\\\\n",
       "\t Control                        & scaled\\_cfDNA     & 0.022023988\\\\\n",
       "\t COVID-19\\_Nonsevere             & solid\\_organ\\_conc & 0.023256854\\\\\n",
       "\t COVID-19\\_Nonsevere             & scaled\\_cfDNA     & 0.099895738\\\\\n",
       "\t COVID-19\\_Severe                & solid\\_organ\\_conc & 0.151674988\\\\\n",
       "\t COVID-19\\_Severe                & scaled\\_cfDNA     & 0.921144724\\\\\n",
       "\t Control\\_Non-inflammatory       & solid\\_organ\\_conc & 0.108054663\\\\\n",
       "\t Control\\_Non-inflammatory       & scaled\\_cfDNA     & 0.723333333\\\\\n",
       "\t Acute COVID-19 Mild/ASX        & solid\\_organ\\_conc & 0.053308163\\\\\n",
       "\t Acute COVID-19 Mild/ASX        & scaled\\_cfDNA     & 1.148500000\\\\\n",
       "\t Acute COVID-19 Moderate/Severe & solid\\_organ\\_conc & 0.495536254\\\\\n",
       "\t Acute COVID-19 Moderate/Severe & scaled\\_cfDNA     & 1.899727273\\\\\n",
       "\t Acute MIS-C Moderate/Severe    & solid\\_organ\\_conc & 1.006581012\\\\\n",
       "\t Acute MIS-C Moderate/Severe    & scaled\\_cfDNA     & 4.121487805\\\\\n",
       "\\end{tabular}\n"
      ],
      "text/markdown": [
       "\n",
       "A grouped_df: 14 × 3\n",
       "\n",
       "| expGroup_plotting &lt;fct&gt; | variable &lt;fct&gt; | mean &lt;dbl&gt; |\n",
       "|---|---|---|\n",
       "| Control                        | solid_organ_conc | 0.001773368 |\n",
       "| Control                        | scaled_cfDNA     | 0.022023988 |\n",
       "| COVID-19_Nonsevere             | solid_organ_conc | 0.023256854 |\n",
       "| COVID-19_Nonsevere             | scaled_cfDNA     | 0.099895738 |\n",
       "| COVID-19_Severe                | solid_organ_conc | 0.151674988 |\n",
       "| COVID-19_Severe                | scaled_cfDNA     | 0.921144724 |\n",
       "| Control_Non-inflammatory       | solid_organ_conc | 0.108054663 |\n",
       "| Control_Non-inflammatory       | scaled_cfDNA     | 0.723333333 |\n",
       "| Acute COVID-19 Mild/ASX        | solid_organ_conc | 0.053308163 |\n",
       "| Acute COVID-19 Mild/ASX        | scaled_cfDNA     | 1.148500000 |\n",
       "| Acute COVID-19 Moderate/Severe | solid_organ_conc | 0.495536254 |\n",
       "| Acute COVID-19 Moderate/Severe | scaled_cfDNA     | 1.899727273 |\n",
       "| Acute MIS-C Moderate/Severe    | solid_organ_conc | 1.006581012 |\n",
       "| Acute MIS-C Moderate/Severe    | scaled_cfDNA     | 4.121487805 |\n",
       "\n"
      ],
      "text/plain": [
       "   expGroup_plotting              variable         mean       \n",
       "1  Control                        solid_organ_conc 0.001773368\n",
       "2  Control                        scaled_cfDNA     0.022023988\n",
       "3  COVID-19_Nonsevere             solid_organ_conc 0.023256854\n",
       "4  COVID-19_Nonsevere             scaled_cfDNA     0.099895738\n",
       "5  COVID-19_Severe                solid_organ_conc 0.151674988\n",
       "6  COVID-19_Severe                scaled_cfDNA     0.921144724\n",
       "7  Control_Non-inflammatory       solid_organ_conc 0.108054663\n",
       "8  Control_Non-inflammatory       scaled_cfDNA     0.723333333\n",
       "9  Acute COVID-19 Mild/ASX        solid_organ_conc 0.053308163\n",
       "10 Acute COVID-19 Mild/ASX        scaled_cfDNA     1.148500000\n",
       "11 Acute COVID-19 Moderate/Severe solid_organ_conc 0.495536254\n",
       "12 Acute COVID-19 Moderate/Severe scaled_cfDNA     1.899727273\n",
       "13 Acute MIS-C Moderate/Severe    solid_organ_conc 1.006581012\n",
       "14 Acute MIS-C Moderate/Severe    scaled_cfDNA     4.121487805"
      ]
     },
     "metadata": {},
     "output_type": "display_data"
    }
   ],
   "source": [
    "all_abd %>% group_by(expGroup_plotting,variable) %>% summarize(mean = mean(value))"
   ]
  },
  {
   "cell_type": "code",
   "execution_count": null,
   "metadata": {},
   "outputs": [],
   "source": []
  }
 ],
 "metadata": {
  "kernelspec": {
   "display_name": "R",
   "language": "R",
   "name": "ir"
  },
  "language_info": {
   "codemirror_mode": "r",
   "file_extension": ".r",
   "mimetype": "text/x-r-source",
   "name": "R",
   "pygments_lexer": "r",
   "version": "4.1.1"
  }
 },
 "nbformat": 4,
 "nbformat_minor": 4
}
