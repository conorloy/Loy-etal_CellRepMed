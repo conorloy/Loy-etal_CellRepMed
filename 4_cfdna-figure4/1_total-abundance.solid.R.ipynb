{
 "cells": [
  {
   "cell_type": "markdown",
   "metadata": {},
   "source": [
    "### Look into adding control non-inflammtories from UCSF to the \"controls\" group"
   ]
  },
  {
   "cell_type": "code",
   "execution_count": 39,
   "metadata": {},
   "outputs": [],
   "source": [
    "library(tidyverse)\n",
    "library(data.table)\n",
    "library(ggplot2)\n",
    "library(palettetown)\n",
    "library(stringr)\n",
    "library(dplyr)\n",
    "library(ggpattern)\n",
    "source('../0_support-files/theme_CRP-MISC.R')\n",
    "source('../0_support-files/prevail_man_fill.R')\n",
    "library(ggpubr)\n",
    "library(rstatix)\n",
    "\n",
    "\n",
    "\n",
    "\n",
    "expGroupPalette <- c(\"Control\" = \"#00FF7F\",\n",
    "                            \"COVID-19_Nonsevere\" = \"#7DB27D\",\n",
    "                            \"COVID-19_Severe\" = \"#7DB27D\",\n",
    "                            \"Control Non-inflammatory\" ='#FBE77C',\n",
    "                            \"Acute COVID-19 Mild/ASX\" = '#F0484E',\n",
    "                            \"Acute COVID-19 Moderate/Severe\" = '#F0484E',\n",
    "                            \"Acute MIS-C Moderate/Severe\" = '#5CB2EB')\n",
    "\n",
    "\n",
    "\n",
    "'%ni%' <- Negate('%in%')"
   ]
  },
  {
   "cell_type": "code",
   "execution_count": 57,
   "metadata": {},
   "outputs": [],
   "source": [
    "solid_organ = c(\"colon\",\"heart\",\"kidney\",\"liver\",\"lung\",\"pancreas\",\"skin\",\"spleen\")\n",
    "\n",
    "\n",
    "expGroupPalette <- c(\"Control\" = \"#00FF7F\",\n",
    "                            \"COVID-19_Nonsevere\" = \"#7DB27D\",\n",
    "                            \"COVID-19_Severe\" = \"#7DB27D\",\n",
    "                            \"Control_Non-inflammatory\" ='#FBE77C',\n",
    "                            \"Acute COVID-19 Mild/ASX\" = '#F0484E',\n",
    "                            \"Acute COVID-19 Moderate/Severe\" = '#F0484E',\n",
    "                            \"Acute MIS-C Moderate/Severe\" = '#5CB2EB')\n",
    "\n",
    "\n",
    "#------------------------------\n",
    "## Read in MISC data\n",
    "master_df = read.csv(\"../1_sample-data/STable8_cfdna-samples.csv\") %>% \n",
    "    rename(scaled_cfDNA = cfDNA_concentration) %>%\n",
    "    mutate(severity = ifelse(severity == 0 | severity == 1,\"Mild/ASX\",\n",
    "                             ifelse(severity == 2 | severity == 3,\"Moderate/Severe\",\"\"))) %>%\n",
    "    mutate(Diagnosis = ifelse(Diagnosis != \"Control_Non-inflammatory\", paste0(\"Acute \",Diagnosis,\" \",severity),Diagnosis)) %>%\n",
    "    rename(Sample_ID = cfdna_sample_id) %>% \n",
    "    select(Sample_ID,PTID,Diagnosis,scaled_cfDNA,all_of(solid_organ),severity)\n",
    "\n",
    "#------------------------------\n",
    "## Read in adult cohort\n",
    "adult_mdf <- read.delim(\"../1_sample-data/cfdna_master.adult.tsv\") %>%\n",
    "    filter(origin == \"MCGILL\") %>%\n",
    "    mutate(Diagnosis = severity) %>%\n",
    "    mutate(expGroup_plotting = Diagnosis) %>%\n",
    "    mutate(icu = 0) %>%\n",
    "    select(Sample_ID,PTID,Diagnosis,scaled_cfDNA,all_of(solid_organ),severity)\n",
    "\n",
    "# head(adult_mdf)\n",
    "\n",
    "#------------------------------\n",
    "## Combine\n",
    "all_abd = rbind(adult_mdf,master_df)\n",
    "\n",
    "#------------------------------\n",
    "## Filter and Re-factor\n",
    "\n",
    "\n",
    "all_abd$Diagnosis <- factor(all_abd$Diagnosis, levels=names(expGroupPalette))\n",
    "\n",
    "# all_abd$icu <- factor(all_abd$icu)\n",
    "\n",
    "\n",
    "# ## Add solid tissue part\n",
    "\n",
    "all_abd$solid_organ_frac <- rowSums(all_abd[,colnames(all_abd) %in% solid_organ])\n",
    "all_abd$solid_organ_conc <- all_abd$solid_organ_frac * all_abd$scaled_cfDNA\n",
    "\n",
    "all_abd$expGroup_plotting <- all_abd$Diagnosis\n",
    "# all_abd$expGroup_plotting <- factor(all_abd$expGroup_plotting, levels=names(expGroupPalette))\n",
    "\n"
   ]
  },
  {
   "cell_type": "markdown",
   "metadata": {},
   "source": [
    "---\n",
    "# FOR PUB"
   ]
  },
  {
   "cell_type": "code",
   "execution_count": 58,
   "metadata": {},
   "outputs": [
    {
     "data": {
      "text/html": [
       "<table class=\"dataframe\">\n",
       "<caption>A data.frame: 6 × 4</caption>\n",
       "<thead>\n",
       "\t<tr><th></th><th scope=col>expGroup_plotting</th><th scope=col>Sample_ID</th><th scope=col>variable</th><th scope=col>value</th></tr>\n",
       "\t<tr><th></th><th scope=col>&lt;fct&gt;</th><th scope=col>&lt;chr&gt;</th><th scope=col>&lt;fct&gt;</th><th scope=col>&lt;dbl&gt;</th></tr>\n",
       "</thead>\n",
       "<tbody>\n",
       "\t<tr><th scope=row>1</th><td>COVID-19_Nonsevere</td><td>MCGILL1 </td><td>solid_organ_conc</td><td>0.005827706</td></tr>\n",
       "\t<tr><th scope=row>2</th><td>COVID-19_Nonsevere</td><td>MCGILL20</td><td>solid_organ_conc</td><td>0.072144049</td></tr>\n",
       "\t<tr><th scope=row>3</th><td>COVID-19_Nonsevere</td><td>MCGILL21</td><td>solid_organ_conc</td><td>0.026977047</td></tr>\n",
       "\t<tr><th scope=row>4</th><td>COVID-19_Nonsevere</td><td>MCGILL25</td><td>solid_organ_conc</td><td>0.008103787</td></tr>\n",
       "\t<tr><th scope=row>5</th><td>COVID-19_Nonsevere</td><td>MCGILL27</td><td>solid_organ_conc</td><td>0.006719510</td></tr>\n",
       "\t<tr><th scope=row>6</th><td>COVID-19_Nonsevere</td><td>MCGILL26</td><td>solid_organ_conc</td><td>0.007427791</td></tr>\n",
       "</tbody>\n",
       "</table>\n"
      ],
      "text/latex": [
       "A data.frame: 6 × 4\n",
       "\\begin{tabular}{r|llll}\n",
       "  & expGroup\\_plotting & Sample\\_ID & variable & value\\\\\n",
       "  & <fct> & <chr> & <fct> & <dbl>\\\\\n",
       "\\hline\n",
       "\t1 & COVID-19\\_Nonsevere & MCGILL1  & solid\\_organ\\_conc & 0.005827706\\\\\n",
       "\t2 & COVID-19\\_Nonsevere & MCGILL20 & solid\\_organ\\_conc & 0.072144049\\\\\n",
       "\t3 & COVID-19\\_Nonsevere & MCGILL21 & solid\\_organ\\_conc & 0.026977047\\\\\n",
       "\t4 & COVID-19\\_Nonsevere & MCGILL25 & solid\\_organ\\_conc & 0.008103787\\\\\n",
       "\t5 & COVID-19\\_Nonsevere & MCGILL27 & solid\\_organ\\_conc & 0.006719510\\\\\n",
       "\t6 & COVID-19\\_Nonsevere & MCGILL26 & solid\\_organ\\_conc & 0.007427791\\\\\n",
       "\\end{tabular}\n"
      ],
      "text/markdown": [
       "\n",
       "A data.frame: 6 × 4\n",
       "\n",
       "| <!--/--> | expGroup_plotting &lt;fct&gt; | Sample_ID &lt;chr&gt; | variable &lt;fct&gt; | value &lt;dbl&gt; |\n",
       "|---|---|---|---|---|\n",
       "| 1 | COVID-19_Nonsevere | MCGILL1  | solid_organ_conc | 0.005827706 |\n",
       "| 2 | COVID-19_Nonsevere | MCGILL20 | solid_organ_conc | 0.072144049 |\n",
       "| 3 | COVID-19_Nonsevere | MCGILL21 | solid_organ_conc | 0.026977047 |\n",
       "| 4 | COVID-19_Nonsevere | MCGILL25 | solid_organ_conc | 0.008103787 |\n",
       "| 5 | COVID-19_Nonsevere | MCGILL27 | solid_organ_conc | 0.006719510 |\n",
       "| 6 | COVID-19_Nonsevere | MCGILL26 | solid_organ_conc | 0.007427791 |\n",
       "\n"
      ],
      "text/plain": [
       "  expGroup_plotting  Sample_ID variable         value      \n",
       "1 COVID-19_Nonsevere MCGILL1   solid_organ_conc 0.005827706\n",
       "2 COVID-19_Nonsevere MCGILL20  solid_organ_conc 0.072144049\n",
       "3 COVID-19_Nonsevere MCGILL21  solid_organ_conc 0.026977047\n",
       "4 COVID-19_Nonsevere MCGILL25  solid_organ_conc 0.008103787\n",
       "5 COVID-19_Nonsevere MCGILL27  solid_organ_conc 0.006719510\n",
       "6 COVID-19_Nonsevere MCGILL26  solid_organ_conc 0.007427791"
      ]
     },
     "metadata": {},
     "output_type": "display_data"
    }
   ],
   "source": [
    "all_abd <- all_abd %>% select(expGroup_plotting,Sample_ID,solid_organ_conc,scaled_cfDNA) %>% reshape2::melt(id.vars= c(\"expGroup_plotting\",\"Sample_ID\"))\n",
    "\n",
    "all_abd$expGroup_plotting <- factor(all_abd$expGroup_plotting, levels = names(expGroupPalette))\n",
    "head(all_abd)"
   ]
  },
  {
   "cell_type": "code",
   "execution_count": 60,
   "metadata": {},
   "outputs": [
    {
     "data": {
      "text/html": [
       "<strong>png:</strong> 2"
      ],
      "text/latex": [
       "\\textbf{png:} 2"
      ],
      "text/markdown": [
       "**png:** 2"
      ],
      "text/plain": [
       "png \n",
       "  2 "
      ]
     },
     "metadata": {},
     "output_type": "display_data"
    }
   ],
   "source": [
    "pdf(file=\"plots/panelB.pdf\",\n",
    "                 width=3.47,height=2.25, paper=\"special\", bg=\"white\",\n",
    "                 fonts=\"Helvetica\", colormodel = \"srgb\", pointsize=6, useDingbats = FALSE)\n",
    "\n",
    "# XORDER <- c('Control \\nn=4','COVID-19 \\nNonsevere \\nn=30','COVID-19 \\nSevere \\nn=22',\n",
    "#             'Control \\nn=5','COVID-19 \\n acute \\nn=18','MIS-C \\n acute \\nn=40')\n",
    "\n",
    "YLIM = 10\n",
    "\n",
    "final_plt <- all_abd %>% \n",
    "# mutate(Diagnosis = factor(Diagnosis,levels = XORDER)) %>%\n",
    "ggplot(aes(x=expGroup_plotting,\n",
    "           y=value,\n",
    "           fill=expGroup_plotting,\n",
    "           pattern=variable))+ #fill=Diagnosis,\n",
    "    geom_boxplot(outlier.shape = NA,\n",
    "                 size = 0.1)+                     # place holder to set discrete scale\n",
    "    theme_prevail()+\n",
    "    theme(plot.margin = unit(c(2,2,2,2), \"pt\"),\n",
    "            axis.title.x = element_blank())+\n",
    "    # scale_fill_poke(pokemon = 137, spread = 6)+\n",
    "#     coord_cartesian(ylim = c(0,YLIM))+\n",
    "    annotate(geom=\"rect\",\n",
    "             xmin = 3.5,\n",
    "             xmax = Inf, \n",
    "             ymin = 0, \n",
    "             ymax = Inf, \n",
    "             alpha = .2)+              # add rect\n",
    "    geom_boxplot_pattern(outlier.shape = NA,\n",
    "                         size = 0.2,\n",
    "                         position = position_dodge(preserve = \"single\"),\n",
    "                         color = \"black\",\n",
    "                         pattern_size=0.2,\n",
    "                         pattern_colour = \"black\",\n",
    "                         pattern_fill = \"white\",\n",
    "                         pattern_angle = 45,\n",
    "                         pattern_density = 0.1,\n",
    "                         pattern_spacing = 0.025,\n",
    "                         pattern_key_scale_factor = 0.6) +\n",
    "    geom_point(position =  position_jitterdodge(jitter.height=0, \n",
    "                                                jitter.width=.25, \n",
    "                                                seed=42),\n",
    "                size = 0.4)+\n",
    "    scale_fill_manual(values = expGroupPalette) +\n",
    "    scale_pattern_manual(values = c(solid_organ_conc = \"stripe\", \n",
    "                                    scaled_cfDNA = \"none\"))+\n",
    "    coord_cartesian(ylim = c(0,YLIM))+\n",
    "    scale_y_continuous(breaks = c(2,4,6,8))\n",
    "\n",
    "##---------------------------------------\n",
    "# ADD ARROWS\n",
    "\n",
    "subset <- names(expGroupPalette)\n",
    "\n",
    "mapping_key <- c(1:length(subset))\n",
    "names(mapping_key) <- subset\n",
    "\n",
    "outliers <- all_abd %>% filter(value > YLIM)\n",
    "\n",
    "text_offset = 0.09\n",
    "text_size = 2.25\n",
    "text_lineheight = .75\n",
    "\n",
    "arrow_size = 0.5\n",
    "\n",
    "for (i  in 1:length(subset)){\n",
    "    group <- subset[i]\n",
    "    group_outliers <- outliers %>% filter(expGroup_plotting == group)\n",
    "    \n",
    "    ## ADD ARROW\n",
    "    if (nrow(group_outliers) > 0){\n",
    "        \n",
    "        outlier_values <- round(group_outliers$value,2)\n",
    "        outlier_values <- as.character(outlier_values[order(outlier_values,decreasing=TRUE)])\n",
    "                \n",
    "        final_plt <- final_plt + annotate(\"segment\", x = i, xend = i,\n",
    "                                          y = 7.5, yend = 8,\n",
    "                                          size = arrow_size, lineend=\"butt\", linejoin=\"mitre\", arrow=arrow(length=unit(.02,\"npc\")))\n",
    "\n",
    "        final_plt <- final_plt + annotate(\"text\", x = i+text_offset, y = YLIM, hjust=0,vjust=1.2,\n",
    "                                          label = paste0(outlier_values,collapse=\"\\n\"),\n",
    "                                          size = text_size, family = \"Helvetica\", lineheight = text_lineheight)\n",
    "\n",
    "        \n",
    "    }\n",
    "}\n",
    "\n",
    "print(final_plt)\n",
    "dev.off()"
   ]
  },
  {
   "cell_type": "code",
   "execution_count": null,
   "metadata": {},
   "outputs": [],
   "source": []
  }
 ],
 "metadata": {
  "kernelspec": {
   "display_name": "R",
   "language": "R",
   "name": "ir"
  },
  "language_info": {
   "codemirror_mode": "r",
   "file_extension": ".r",
   "mimetype": "text/x-r-source",
   "name": "R",
   "pygments_lexer": "r",
   "version": "4.1.1"
  }
 },
 "nbformat": 4,
 "nbformat_minor": 4
}
