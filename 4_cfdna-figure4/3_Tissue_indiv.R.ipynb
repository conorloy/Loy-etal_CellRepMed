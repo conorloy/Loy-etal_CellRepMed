{
 "cells": [
  {
   "cell_type": "code",
   "execution_count": 1,
   "id": "a46310d6-2f8a-4374-b9de-e1d1c6411c0e",
   "metadata": {},
   "outputs": [
    {
     "name": "stderr",
     "output_type": "stream",
     "text": [
      "\n",
      "Attaching package: ‘dplyr’\n",
      "\n",
      "\n",
      "The following objects are masked from ‘package:data.table’:\n",
      "\n",
      "    between, first, last\n",
      "\n",
      "\n",
      "The following objects are masked from ‘package:stats’:\n",
      "\n",
      "    filter, lag\n",
      "\n",
      "\n",
      "The following objects are masked from ‘package:base’:\n",
      "\n",
      "    intersect, setdiff, setequal, union\n",
      "\n",
      "\n",
      "\n",
      "Attaching package: ‘reshape2’\n",
      "\n",
      "\n",
      "The following objects are masked from ‘package:data.table’:\n",
      "\n",
      "    dcast, melt\n",
      "\n",
      "\n"
     ]
    }
   ],
   "source": [
    "library(data.table)\n",
    "library(ggplot2)\n",
    "library(stringr)\n",
    "library(dplyr)\n",
    "library(reshape2)\n",
    "source('../0_support-files/theme_CRP-MISC.R')\n",
    "source('../0_support-files/prevail_man_fill.R')\n",
    "\n",
    "'%ni%' <- Negate('%in%')\n",
    "\n",
    "expGroupPalette <- c(\"Control\" = \"#00FF7F\",\n",
    "                            \"COVID-19_Nonsevere\" = \"#FF00FF\",\n",
    "                            \"COVID-19_Severe\" = \"#FF7F00\",\n",
    "                            \"Control_Non-inflammatory\" ='#76d75b',\n",
    "                            \"Acute COVID-19 Mild/ASX\" = '#d42069',\n",
    "                            \"Acute COVID-19 Moderate/Severe\" = '#d42069',\n",
    "                            \"Acute MIS-C Moderate/Severe\" = '#21aaf8')"
   ]
  },
  {
   "cell_type": "code",
   "execution_count": 2,
   "id": "47db5637-dbd4-47e2-bacd-3e1f1f5c49ee",
   "metadata": {},
   "outputs": [],
   "source": [
    "ID_VARS = c(\"PTID\",\"Sample_ID\",\"Diagnosis\",\"timepoint\",\"expGroup_plotting\",\"scaled_cfDNA\")\n",
    "\n",
    "TISS_COLS = c('bcell','colon','dendritic','eosinophil','erythroblast','heart','hsc','kidney','liver','lung','macrophage','megakaryocyte','monocyte','neutrophil','nkcell','pancreas','progenitor','skin','spleen','tcell')\n",
    "\n",
    "XORDER <- c(\"Control\",\"COVID-19_Nonsevere\",\"COVID-19_Severe\",\"Control_Non-inflammatory\",\"COVID-19\",\"MIS-C\")\n",
    "\n",
    "\n",
    "## Read in MISC data\n",
    "master_df = read.csv(\"../1_sample-data/STable8_cfdna-samples.csv\") %>% \n",
    "    rename(scaled_cfDNA = cfDNA_concentration) %>%\n",
    "    mutate(severity = ifelse(severity == 0 | severity == 1,\"Mild/ASX\",\n",
    "                             ifelse(severity == 2 | severity == 3,\"Moderate/Severe\",\n",
    "                                    \"\"))) %>%\n",
    "    mutate(Diagnosis = ifelse(Diagnosis != \"Control_Non-inflammatory\", \n",
    "                              paste0(\"Acute \",Diagnosis,\" \",severity),\n",
    "                                     Diagnosis)) %>%\n",
    "    rename(Sample_ID = cfdna_sample_id) %>% \n",
    "    mutate(expGroup_plotting = Diagnosis) %>%\n",
    "    select(all_of(c(ID_VARS,TISS_COLS)))\n",
    "                  \n",
    "## Read in adult cohort\n",
    "adult_mdf <- read.delim(\"../1_sample-data/cfdna_adult_master-df.tsv\")%>%\n",
    "    filter(origin == \"MCGILL\") %>%\n",
    "    mutate(Diagnosis = severity) %>%\n",
    "    mutate(expGroup_plotting = severity) %>%\n",
    "    mutate(icu = 0) %>% \n",
    "    mutate(timepoint = \"acute\") %>%\n",
    "    select(all_of(c(ID_VARS,TISS_COLS)))\n",
    "                  \n",
    "                  \n",
    "## Combine\n",
    "TOO_df <- rbind(master_df,adult_mdf)\n",
    "\n",
    "## Melt and calculate TOO concentration\n",
    "TOO_df_melt <- melt(TOO_df,id.vars = ID_VARS)\n",
    "TOO_df_melt$value_abundance = TOO_df_melt$scaled_cfDNA * TOO_df_melt$value\n",
    "\n",
    "## filter out only relevant columns\n",
    "TOO_df_melt <- TOO_df_melt\n",
    "\n",
    "TOO_df_melt$Diagnosis <- factor(TOO_df_melt$Diagnosis,levels=XORDER)\n",
    "\n",
    "TOO_df_melt$expGroup_plotting <- factor(TOO_df_melt$expGroup_plotting,levels = names(expGroupPalette))"
   ]
  },
  {
   "cell_type": "markdown",
   "id": "981f4dfd-46f2-4fa4-8dfe-a2c11ba231ef",
   "metadata": {
    "tags": []
   },
   "source": [
    "---\n",
    "## Test all cell types"
   ]
  },
  {
   "cell_type": "code",
   "execution_count": 3,
   "id": "28dc649b-3423-4c53-99ca-a3330bc3c826",
   "metadata": {},
   "outputs": [
    {
     "data": {
      "text/html": [
       "<table class=\"dataframe\">\n",
       "<caption>A data.frame: 20 × 3</caption>\n",
       "<thead>\n",
       "\t<tr><th></th><th scope=col>cell</th><th scope=col>p</th><th scope=col>p.adj</th></tr>\n",
       "\t<tr><th></th><th scope=col>&lt;chr&gt;</th><th scope=col>&lt;chr&gt;</th><th scope=col>&lt;dbl&gt;</th></tr>\n",
       "</thead>\n",
       "<tbody>\n",
       "\t<tr><th scope=row>progenitor</th><td>progenitor   </td><td>0.00242466546435291</td><td>0.04849331</td></tr>\n",
       "\t<tr><th scope=row>dendritic</th><td>dendritic    </td><td>0.0273018368121621 </td><td>0.27301837</td></tr>\n",
       "\t<tr><th scope=row>megakaryocyte</th><td>megakaryocyte</td><td>0.0691262060502952 </td><td>0.46084137</td></tr>\n",
       "\t<tr><th scope=row>bcell</th><td>bcell        </td><td>0.715995941150521  </td><td>0.94640700</td></tr>\n",
       "\t<tr><th scope=row>colon</th><td>colon        </td><td>0.403992307271098  </td><td>0.94640700</td></tr>\n",
       "\t<tr><th scope=row>eosinophil</th><td>eosinophil   </td><td>0.946407002882282  </td><td>0.94640700</td></tr>\n",
       "\t<tr><th scope=row>erythroblast</th><td>erythroblast </td><td>0.229374477496456  </td><td>0.94640700</td></tr>\n",
       "\t<tr><th scope=row>heart</th><td>heart        </td><td>0.686594885677674  </td><td>0.94640700</td></tr>\n",
       "\t<tr><th scope=row>hsc</th><td>hsc          </td><td>0.505808606866995  </td><td>0.94640700</td></tr>\n",
       "\t<tr><th scope=row>kidney</th><td>kidney       </td><td>0.458077676794367  </td><td>0.94640700</td></tr>\n",
       "\t<tr><th scope=row>liver</th><td>liver        </td><td>0.573571730995948  </td><td>0.94640700</td></tr>\n",
       "\t<tr><th scope=row>lung</th><td>lung         </td><td>0.528963336485406  </td><td>0.94640700</td></tr>\n",
       "\t<tr><th scope=row>macrophage</th><td>macrophage   </td><td>0.800759872369977  </td><td>0.94640700</td></tr>\n",
       "\t<tr><th scope=row>monocyte</th><td>monocyte     </td><td>0.908903674564734  </td><td>0.94640700</td></tr>\n",
       "\t<tr><th scope=row>neutrophil</th><td>neutrophil   </td><td>0.893055526244361  </td><td>0.94640700</td></tr>\n",
       "\t<tr><th scope=row>nkcell</th><td>nkcell       </td><td>0.723611863218268  </td><td>0.94640700</td></tr>\n",
       "\t<tr><th scope=row>pancreas</th><td>pancreas     </td><td>0.278268868705357  </td><td>0.94640700</td></tr>\n",
       "\t<tr><th scope=row>skin</th><td>skin         </td><td>0.846210888628767  </td><td>0.94640700</td></tr>\n",
       "\t<tr><th scope=row>spleen</th><td>spleen       </td><td>0.702937497379855  </td><td>0.94640700</td></tr>\n",
       "\t<tr><th scope=row>tcell</th><td>tcell        </td><td>0.390872063010099  </td><td>0.94640700</td></tr>\n",
       "</tbody>\n",
       "</table>\n"
      ],
      "text/latex": [
       "A data.frame: 20 × 3\n",
       "\\begin{tabular}{r|lll}\n",
       "  & cell & p & p.adj\\\\\n",
       "  & <chr> & <chr> & <dbl>\\\\\n",
       "\\hline\n",
       "\tprogenitor & progenitor    & 0.00242466546435291 & 0.04849331\\\\\n",
       "\tdendritic & dendritic     & 0.0273018368121621  & 0.27301837\\\\\n",
       "\tmegakaryocyte & megakaryocyte & 0.0691262060502952  & 0.46084137\\\\\n",
       "\tbcell & bcell         & 0.715995941150521   & 0.94640700\\\\\n",
       "\tcolon & colon         & 0.403992307271098   & 0.94640700\\\\\n",
       "\teosinophil & eosinophil    & 0.946407002882282   & 0.94640700\\\\\n",
       "\terythroblast & erythroblast  & 0.229374477496456   & 0.94640700\\\\\n",
       "\theart & heart         & 0.686594885677674   & 0.94640700\\\\\n",
       "\thsc & hsc           & 0.505808606866995   & 0.94640700\\\\\n",
       "\tkidney & kidney        & 0.458077676794367   & 0.94640700\\\\\n",
       "\tliver & liver         & 0.573571730995948   & 0.94640700\\\\\n",
       "\tlung & lung          & 0.528963336485406   & 0.94640700\\\\\n",
       "\tmacrophage & macrophage    & 0.800759872369977   & 0.94640700\\\\\n",
       "\tmonocyte & monocyte      & 0.908903674564734   & 0.94640700\\\\\n",
       "\tneutrophil & neutrophil    & 0.893055526244361   & 0.94640700\\\\\n",
       "\tnkcell & nkcell        & 0.723611863218268   & 0.94640700\\\\\n",
       "\tpancreas & pancreas      & 0.278268868705357   & 0.94640700\\\\\n",
       "\tskin & skin          & 0.846210888628767   & 0.94640700\\\\\n",
       "\tspleen & spleen        & 0.702937497379855   & 0.94640700\\\\\n",
       "\ttcell & tcell         & 0.390872063010099   & 0.94640700\\\\\n",
       "\\end{tabular}\n"
      ],
      "text/markdown": [
       "\n",
       "A data.frame: 20 × 3\n",
       "\n",
       "| <!--/--> | cell &lt;chr&gt; | p &lt;chr&gt; | p.adj &lt;dbl&gt; |\n",
       "|---|---|---|---|\n",
       "| progenitor | progenitor    | 0.00242466546435291 | 0.04849331 |\n",
       "| dendritic | dendritic     | 0.0273018368121621  | 0.27301837 |\n",
       "| megakaryocyte | megakaryocyte | 0.0691262060502952  | 0.46084137 |\n",
       "| bcell | bcell         | 0.715995941150521   | 0.94640700 |\n",
       "| colon | colon         | 0.403992307271098   | 0.94640700 |\n",
       "| eosinophil | eosinophil    | 0.946407002882282   | 0.94640700 |\n",
       "| erythroblast | erythroblast  | 0.229374477496456   | 0.94640700 |\n",
       "| heart | heart         | 0.686594885677674   | 0.94640700 |\n",
       "| hsc | hsc           | 0.505808606866995   | 0.94640700 |\n",
       "| kidney | kidney        | 0.458077676794367   | 0.94640700 |\n",
       "| liver | liver         | 0.573571730995948   | 0.94640700 |\n",
       "| lung | lung          | 0.528963336485406   | 0.94640700 |\n",
       "| macrophage | macrophage    | 0.800759872369977   | 0.94640700 |\n",
       "| monocyte | monocyte      | 0.908903674564734   | 0.94640700 |\n",
       "| neutrophil | neutrophil    | 0.893055526244361   | 0.94640700 |\n",
       "| nkcell | nkcell        | 0.723611863218268   | 0.94640700 |\n",
       "| pancreas | pancreas      | 0.278268868705357   | 0.94640700 |\n",
       "| skin | skin          | 0.846210888628767   | 0.94640700 |\n",
       "| spleen | spleen        | 0.702937497379855   | 0.94640700 |\n",
       "| tcell | tcell         | 0.390872063010099   | 0.94640700 |\n",
       "\n"
      ],
      "text/plain": [
       "              cell          p                   p.adj     \n",
       "progenitor    progenitor    0.00242466546435291 0.04849331\n",
       "dendritic     dendritic     0.0273018368121621  0.27301837\n",
       "megakaryocyte megakaryocyte 0.0691262060502952  0.46084137\n",
       "bcell         bcell         0.715995941150521   0.94640700\n",
       "colon         colon         0.403992307271098   0.94640700\n",
       "eosinophil    eosinophil    0.946407002882282   0.94640700\n",
       "erythroblast  erythroblast  0.229374477496456   0.94640700\n",
       "heart         heart         0.686594885677674   0.94640700\n",
       "hsc           hsc           0.505808606866995   0.94640700\n",
       "kidney        kidney        0.458077676794367   0.94640700\n",
       "liver         liver         0.573571730995948   0.94640700\n",
       "lung          lung          0.528963336485406   0.94640700\n",
       "macrophage    macrophage    0.800759872369977   0.94640700\n",
       "monocyte      monocyte      0.908903674564734   0.94640700\n",
       "neutrophil    neutrophil    0.893055526244361   0.94640700\n",
       "nkcell        nkcell        0.723611863218268   0.94640700\n",
       "pancreas      pancreas      0.278268868705357   0.94640700\n",
       "skin          skin          0.846210888628767   0.94640700\n",
       "spleen        spleen        0.702937497379855   0.94640700\n",
       "tcell         tcell         0.390872063010099   0.94640700"
      ]
     },
     "metadata": {},
     "output_type": "display_data"
    }
   ],
   "source": [
    "output <- list()\n",
    "for (cell in unique(TOO_df_melt$variable)){\n",
    "\n",
    "    x1 <- TOO_df_melt %>% filter(variable == cell) %>% filter(expGroup_plotting == \"Acute MIS-C Moderate/Severe\") %>% pull(value)\n",
    "    x2 <- TOO_df_melt %>% filter(variable == cell) %>% filter(expGroup_plotting == \"Acute COVID-19 Moderate/Severe\") %>% pull(value)\n",
    "\n",
    "    w_out <- suppressWarnings(wilcox.test(x1,x2))\n",
    "\n",
    "    output[[cell]] <- c(cell,w_out$p.value)\n",
    "    \n",
    "}\n",
    "df <- data.frame(do.call(\"rbind\",output))\n",
    "colnames(df) <- c(\"cell\",\"p\")\n",
    "\n",
    "df$p.adj <- p.adjust(df$p, method = \"BH\")\n",
    "\n",
    "df %>% arrange(p.adj)"
   ]
  },
  {
   "cell_type": "code",
   "execution_count": 4,
   "id": "af75302a-5ddf-4e38-adc1-5ac65f345050",
   "metadata": {},
   "outputs": [
    {
     "data": {
      "text/html": [
       "<strong>png:</strong> 2"
      ],
      "text/latex": [
       "\\textbf{png:} 2"
      ],
      "text/markdown": [
       "**png:** 2"
      ],
      "text/plain": [
       "png \n",
       "  2 "
      ]
     },
     "metadata": {},
     "output_type": "display_data"
    }
   ],
   "source": [
    "pdf(file=\"plots/SupPanelB_too.pdf\",\n",
    "                 width=6.8,height=7.3, paper=\"special\", bg=\"white\",\n",
    "                 fonts=\"Helvetica\", colormodel = \"cmyk\", pointsize=6, useDingbats = FALSE)\n",
    "\n",
    "\n",
    "TOO_df_melt %>% \n",
    "ggplot(aes(x=expGroup_plotting,y=value_abundance))+\n",
    "geom_boxplot(aes(fill = expGroup_plotting), outlier.size = 0.1, size = 0.5,color=\"black\")+\n",
    "theme_prevail()+\n",
    "labs(x=\"\",y=\"cfDNA Abundance (ng/ul)\")+\n",
    "theme(axis.text.x = element_text(angle = 45, vjust = 1, hjust=1),\n",
    "     legend.position = \"none\",\n",
    "     legend.text = element_text(size=20))+\n",
    "scale_fill_manual(values = expGroupPalette) +\n",
    "facet_wrap(~ variable,scales = \"free_y\", ncol = 4)\n",
    "\n",
    "dev.off()"
   ]
  },
  {
   "cell_type": "code",
   "execution_count": null,
   "id": "4be3352a-960f-4e73-9c7d-34364da288d9",
   "metadata": {},
   "outputs": [],
   "source": []
  }
 ],
 "metadata": {
  "kernelspec": {
   "display_name": "R",
   "language": "R",
   "name": "ir"
  },
  "language_info": {
   "codemirror_mode": "r",
   "file_extension": ".r",
   "mimetype": "text/x-r-source",
   "name": "R",
   "pygments_lexer": "r",
   "version": "4.1.1"
  }
 },
 "nbformat": 4,
 "nbformat_minor": 5
}
