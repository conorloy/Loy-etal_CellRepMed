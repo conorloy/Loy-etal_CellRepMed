{
 "cells": [
  {
   "cell_type": "code",
   "execution_count": 1,
   "id": "0b1ed516-0c5b-46a3-a8e5-32fddce0b76f",
   "metadata": {},
   "outputs": [
    {
     "name": "stderr",
     "output_type": "stream",
     "text": [
      "\n",
      "Attaching package: ‘dplyr’\n",
      "\n",
      "\n",
      "The following objects are masked from ‘package:data.table’:\n",
      "\n",
      "    between, first, last\n",
      "\n",
      "\n",
      "The following objects are masked from ‘package:stats’:\n",
      "\n",
      "    filter, lag\n",
      "\n",
      "\n",
      "The following objects are masked from ‘package:base’:\n",
      "\n",
      "    intersect, setdiff, setequal, union\n",
      "\n",
      "\n",
      "\n",
      "Attaching package: ‘reshape2’\n",
      "\n",
      "\n",
      "The following objects are masked from ‘package:data.table’:\n",
      "\n",
      "    dcast, melt\n",
      "\n",
      "\n"
     ]
    }
   ],
   "source": [
    "library(data.table)\n",
    "library(ggplot2)\n",
    "library(stringr)\n",
    "library(dplyr)\n",
    "library(reshape2)\n",
    "source('../0_support-files/theme_CRP-MISC.R')\n",
    "source('../0_support-files/prevail_man_fill.R')\n",
    "\n",
    "\n",
    "'%ni%' <- Negate('%in%')"
   ]
  },
  {
   "cell_type": "markdown",
   "id": "98b68109-dc37-423d-bd23-fcdfe5bfd4f7",
   "metadata": {},
   "source": [
    "---\n",
    "## Read in master df and manipulate"
   ]
  },
  {
   "cell_type": "code",
   "execution_count": 2,
   "id": "e17a9c40-e44d-452e-9fa5-6d34b8a07d92",
   "metadata": {},
   "outputs": [
    {
     "name": "stderr",
     "output_type": "stream",
     "text": [
      "Warning message in file(file, \"rt\"):\n",
      "“cannot open file '../../0_metadata/12_02_2021 Clinical data pull_Prevail plasma.csv': No such file or directory”\n"
     ]
    },
    {
     "ename": "ERROR",
     "evalue": "Error in file(file, \"rt\"): cannot open the connection\n",
     "output_type": "error",
     "traceback": [
      "Error in file(file, \"rt\"): cannot open the connection\nTraceback:\n",
      "1. read.csv(\"../../0_metadata/12_02_2021 Clinical data pull_Prevail plasma.csv\")",
      "2. read.table(file = file, header = header, sep = sep, quote = quote, \n .     dec = dec, fill = fill, comment.char = comment.char, ...)",
      "3. file(file, \"rt\")"
     ]
    }
   ],
   "source": [
    "# Read in data frame and filter samples\n",
    "master_df = read.csv(\"../1_sample-data/STable8_cfdna-samples.csv\") %>% \n",
    "    rename(scaled_cfDNA = cfDNA_concentration) %>%\n",
    "    mutate(severity = ifelse(severity == 0 | severity == 1,\"Mild/ASX\",\n",
    "                             ifelse(severity == 2 | severity == 3,\"Moderate/Severe\",\n",
    "                                    \"\"))) %>%\n",
    "    mutate(Diagnosis = ifelse(Diagnosis != \"Control_Non-inflammatory\", \n",
    "                              paste0(\"Acute \",Diagnosis,\" \",severity),\n",
    "                                     Diagnosis)) %>%\n",
    "    rename(Sample_ID = cfdna_sample_id) %>% \n",
    "    mutate(expGroup_plotting = Diagnosis)\n",
    "\n",
    "\n",
    "# Scale each tissue fraction by scaled cfDNA\n",
    "tissues = c('bcell','colon','dendritic','eosinophil','erythroblast','heart','hsc','kidney','liver','lung','macrophage','megakaryocyte','monocyte','neutrophil','nkcell','pancreas','progenitor','skin','spleen','tcell')\n",
    "for (i in tissues){\n",
    "    master_df[[paste0(i,\"_conc\")]] <- master_df[[i]] * master_df$scaled_cfDNA\n",
    "}\n",
    "    \n",
    "# Calculate conc of subsets\n",
    "solid_organ = c(\"colon\",\"heart\",\"kidney\",\"liver\",\"lung\",\"pancreas\",\"skin\",\"spleen\")\n",
    "master_df$solid_organ <- rowSums(master_df[,solid_organ])\n",
    "              \n",
    "non_solid_organ = tissues[!(tissues %in% solid_organ)]\n",
    "master_df$non_solid_organ <- rowSums(master_df[,non_solid_organ])\n",
    "\n",
    "innate <- c(\"dendritic\",\"eosinophil\",\"macrophage\",\"monocyte\",\"neutrophil\")\n",
    "master_df$innate <- rowSums(master_df[,innate])\n",
    "\n",
    "adaptive <- c(\"bcell\",\"nkcell\",\"tcell\")\n",
    "master_df$adaptive <- rowSums(master_df[,adaptive])\n",
    "\n",
    "# Read in extended meta data\n",
    "meta_ext <- read.csv(\"..//12_02_2021 Clinical data pull_Prevail plasma.csv\")\n",
    "meta_ext$record_id = toupper(meta_ext$record_id)\n",
    "\n",
    "# Merge\n",
    "master_df <- merge(master_df, meta_ext, by.x=\"PTID\", by.y=\"record_id\")\n",
    "\n",
    "master_df <- master_df[which(master_df$Sample_ID != \"PTCOV77\"),]\n",
    "\n",
    "master_df <- master_df[which(as.Date(master_df$Date) == as.Date(master_df$Date.of.V1.blood.collection,format=\"%m/%d/%y\")),]"
   ]
  },
  {
   "cell_type": "code",
   "execution_count": null,
   "id": "54fbf50a-0bed-4efb-b860-594f987be127",
   "metadata": {},
   "outputs": [],
   "source": []
  },
  {
   "cell_type": "code",
   "execution_count": 4,
   "id": "97e9ac01-676b-434b-983f-06dd415db7b1",
   "metadata": {},
   "outputs": [
    {
     "data": {
      "text/html": [
       "<table class=\"dataframe\">\n",
       "<caption>A data.frame: 20 × 6</caption>\n",
       "<thead>\n",
       "\t<tr><th></th><th scope=col>var1</th><th scope=col>var2</th><th scope=col>pearson.cor</th><th scope=col>pearson_pval</th><th scope=col>spearman.rho</th><th scope=col>spearman_pval</th></tr>\n",
       "\t<tr><th></th><th scope=col>&lt;chr&gt;</th><th scope=col>&lt;chr&gt;</th><th scope=col>&lt;chr&gt;</th><th scope=col>&lt;chr&gt;</th><th scope=col>&lt;chr&gt;</th><th scope=col>&lt;chr&gt;</th></tr>\n",
       "</thead>\n",
       "<tbody>\n",
       "\t<tr><th scope=row>liver_conc_ALT.max</th><td>liver_conc     </td><td>ALT.max       </td><td>0.303464474917193 </td><td>0.0360139360590835 </td><td>0.504585736522006 </td><td>0.000255099455529465</td></tr>\n",
       "\t<tr><th scope=row>kidney_conc_Creatinine.max</th><td>kidney_conc    </td><td>Creatinine.max</td><td>0.399212248695314 </td><td>0.00448970695453012</td><td>0.498287067309989 </td><td>0.00026890089747068 </td></tr>\n",
       "\t<tr><th scope=row>kidney_conc_CRP.max</th><td>kidney_conc    </td><td>CRP.max       </td><td>0.410382712361467 </td><td>0.00416912218217212</td><td>0.461483967059044 </td><td>0.00109467193575244 </td></tr>\n",
       "\t<tr><th scope=row>innate_ANC.max</th><td>innate         </td><td>ANC.max       </td><td>0.372822710474899 </td><td>0.00985405883631613</td><td>0.454337833730372 </td><td>0.00133646116687544 </td></tr>\n",
       "\t<tr><th scope=row>innate_WBC.max</th><td>innate         </td><td>WBC.max       </td><td>0.329736946521161 </td><td>0.0220974603965574 </td><td>0.450173686495875 </td><td>0.0013251794405216  </td></tr>\n",
       "\t<tr><th scope=row>liver_ALT.max</th><td>liver          </td><td>ALT.max       </td><td>0.289150903713506 </td><td>0.0462292173237288 </td><td>0.446335986037706 </td><td>0.00147377565063742 </td></tr>\n",
       "\t<tr><th scope=row>kidney_conc_BNP.max</th><td>kidney_conc    </td><td>BNP.max       </td><td>0.353103112542573 </td><td>0.0160816833105917 </td><td>0.434606486956295 </td><td>0.00254377951510088 </td></tr>\n",
       "\t<tr><th scope=row>lung_conc_CRP.max</th><td>lung_conc      </td><td>CRP.max       </td><td>0.339341724274313 </td><td>0.0196231713439081 </td><td>0.395844320337196 </td><td>0.0058837980549133  </td></tr>\n",
       "\t<tr><th scope=row>neutrophil_conc_ANC.max</th><td>neutrophil_conc</td><td>ANC.max       </td><td>0.325833346941318 </td><td>0.0254151521329729 </td><td>0.37149465163342  </td><td>0.0101406916895275  </td></tr>\n",
       "\t<tr><th scope=row>kidney_CRP.max</th><td>kidney         </td><td>CRP.max       </td><td>0.327640107110299 </td><td>0.0245661800831886 </td><td>0.365494838195165 </td><td>0.0115267454641111  </td></tr>\n",
       "\t<tr><th scope=row>spleen_conc_CRP.max</th><td>spleen_conc    </td><td>CRP.max       </td><td>0.307098471581267 </td><td>0.0357550206083243 </td><td>0.352212684801075 </td><td>0.015182608736438   </td></tr>\n",
       "\t<tr><th scope=row>scaled_cfDNA_CRP.max</th><td>scaled_cfDNA   </td><td>CRP.max       </td><td>0.288562492677635 </td><td>0.0491738378796285 </td><td>0.348675843663891 </td><td>0.0163079993344239  </td></tr>\n",
       "\t<tr><th scope=row>lung_CRP.max</th><td>lung           </td><td>CRP.max       </td><td>0.314798513193999 </td><td>0.0311492516314356 </td><td>0.329899317609658 </td><td>0.023538127476001   </td></tr>\n",
       "\t<tr><th scope=row>tcell_WBC.max</th><td>tcell          </td><td>WBC.max       </td><td>0.313264465129107 </td><td>0.0301551768845696 </td><td>0.295429667554004 </td><td>0.0414904155822981  </td></tr>\n",
       "\t<tr><th scope=row>progenitor_ANC.max</th><td>progenitor     </td><td>ANC.max       </td><td>-0.353325579172264</td><td>0.0148424547868501 </td><td>-0.425132362619542</td><td>0.00289367874009955 </td></tr>\n",
       "\t<tr><th scope=row>spleen_conc_Platelet.min</th><td>spleen_conc    </td><td>Platelet.min  </td><td>-0.298198110931385</td><td>0.0374239920085218 </td><td>-0.386827479144312</td><td>0.00603868008078554 </td></tr>\n",
       "\t<tr><th scope=row>solid_organ_ANC.max</th><td>solid_organ    </td><td>ANC.max       </td><td>-0.295706318797711</td><td>0.0435859854818017 </td><td>-0.368882079307683</td><td>0.0107255376995332  </td></tr>\n",
       "\t<tr><th scope=row>megakaryocyte_Ferritin.max</th><td>megakaryocyte  </td><td>Ferritin.max  </td><td>-0.298770318301835</td><td>0.0461950073730854 </td><td>-0.354940711462451</td><td>0.016734532842015   </td></tr>\n",
       "\t<tr><th scope=row>spleen_Platelet.min</th><td>spleen         </td><td>Platelet.min  </td><td>-0.337071832602533</td><td>0.0178670545836996 </td><td>-0.345557709137234</td><td>0.0150201046407004  </td></tr>\n",
       "\t<tr><th scope=row>liver_ANC.max</th><td>liver          </td><td>ANC.max       </td><td>-0.307301444569688</td><td>0.0356267888379013 </td><td>-0.327663045296434</td><td>0.0245555562624598  </td></tr>\n",
       "</tbody>\n",
       "</table>\n"
      ],
      "text/latex": [
       "A data.frame: 20 × 6\n",
       "\\begin{tabular}{r|llllll}\n",
       "  & var1 & var2 & pearson.cor & pearson\\_pval & spearman.rho & spearman\\_pval\\\\\n",
       "  & <chr> & <chr> & <chr> & <chr> & <chr> & <chr>\\\\\n",
       "\\hline\n",
       "\tliver\\_conc\\_ALT.max & liver\\_conc      & ALT.max        & 0.303464474917193  & 0.0360139360590835  & 0.504585736522006  & 0.000255099455529465\\\\\n",
       "\tkidney\\_conc\\_Creatinine.max & kidney\\_conc     & Creatinine.max & 0.399212248695314  & 0.00448970695453012 & 0.498287067309989  & 0.00026890089747068 \\\\\n",
       "\tkidney\\_conc\\_CRP.max & kidney\\_conc     & CRP.max        & 0.410382712361467  & 0.00416912218217212 & 0.461483967059044  & 0.00109467193575244 \\\\\n",
       "\tinnate\\_ANC.max & innate          & ANC.max        & 0.372822710474899  & 0.00985405883631613 & 0.454337833730372  & 0.00133646116687544 \\\\\n",
       "\tinnate\\_WBC.max & innate          & WBC.max        & 0.329736946521161  & 0.0220974603965574  & 0.450173686495875  & 0.0013251794405216  \\\\\n",
       "\tliver\\_ALT.max & liver           & ALT.max        & 0.289150903713506  & 0.0462292173237288  & 0.446335986037706  & 0.00147377565063742 \\\\\n",
       "\tkidney\\_conc\\_BNP.max & kidney\\_conc     & BNP.max        & 0.353103112542573  & 0.0160816833105917  & 0.434606486956295  & 0.00254377951510088 \\\\\n",
       "\tlung\\_conc\\_CRP.max & lung\\_conc       & CRP.max        & 0.339341724274313  & 0.0196231713439081  & 0.395844320337196  & 0.0058837980549133  \\\\\n",
       "\tneutrophil\\_conc\\_ANC.max & neutrophil\\_conc & ANC.max        & 0.325833346941318  & 0.0254151521329729  & 0.37149465163342   & 0.0101406916895275  \\\\\n",
       "\tkidney\\_CRP.max & kidney          & CRP.max        & 0.327640107110299  & 0.0245661800831886  & 0.365494838195165  & 0.0115267454641111  \\\\\n",
       "\tspleen\\_conc\\_CRP.max & spleen\\_conc     & CRP.max        & 0.307098471581267  & 0.0357550206083243  & 0.352212684801075  & 0.015182608736438   \\\\\n",
       "\tscaled\\_cfDNA\\_CRP.max & scaled\\_cfDNA    & CRP.max        & 0.288562492677635  & 0.0491738378796285  & 0.348675843663891  & 0.0163079993344239  \\\\\n",
       "\tlung\\_CRP.max & lung            & CRP.max        & 0.314798513193999  & 0.0311492516314356  & 0.329899317609658  & 0.023538127476001   \\\\\n",
       "\ttcell\\_WBC.max & tcell           & WBC.max        & 0.313264465129107  & 0.0301551768845696  & 0.295429667554004  & 0.0414904155822981  \\\\\n",
       "\tprogenitor\\_ANC.max & progenitor      & ANC.max        & -0.353325579172264 & 0.0148424547868501  & -0.425132362619542 & 0.00289367874009955 \\\\\n",
       "\tspleen\\_conc\\_Platelet.min & spleen\\_conc     & Platelet.min   & -0.298198110931385 & 0.0374239920085218  & -0.386827479144312 & 0.00603868008078554 \\\\\n",
       "\tsolid\\_organ\\_ANC.max & solid\\_organ     & ANC.max        & -0.295706318797711 & 0.0435859854818017  & -0.368882079307683 & 0.0107255376995332  \\\\\n",
       "\tmegakaryocyte\\_Ferritin.max & megakaryocyte   & Ferritin.max   & -0.298770318301835 & 0.0461950073730854  & -0.354940711462451 & 0.016734532842015   \\\\\n",
       "\tspleen\\_Platelet.min & spleen          & Platelet.min   & -0.337071832602533 & 0.0178670545836996  & -0.345557709137234 & 0.0150201046407004  \\\\\n",
       "\tliver\\_ANC.max & liver           & ANC.max        & -0.307301444569688 & 0.0356267888379013  & -0.327663045296434 & 0.0245555562624598  \\\\\n",
       "\\end{tabular}\n"
      ],
      "text/markdown": [
       "\n",
       "A data.frame: 20 × 6\n",
       "\n",
       "| <!--/--> | var1 &lt;chr&gt; | var2 &lt;chr&gt; | pearson.cor &lt;chr&gt; | pearson_pval &lt;chr&gt; | spearman.rho &lt;chr&gt; | spearman_pval &lt;chr&gt; |\n",
       "|---|---|---|---|---|---|---|\n",
       "| liver_conc_ALT.max | liver_conc      | ALT.max        | 0.303464474917193  | 0.0360139360590835  | 0.504585736522006  | 0.000255099455529465 |\n",
       "| kidney_conc_Creatinine.max | kidney_conc     | Creatinine.max | 0.399212248695314  | 0.00448970695453012 | 0.498287067309989  | 0.00026890089747068  |\n",
       "| kidney_conc_CRP.max | kidney_conc     | CRP.max        | 0.410382712361467  | 0.00416912218217212 | 0.461483967059044  | 0.00109467193575244  |\n",
       "| innate_ANC.max | innate          | ANC.max        | 0.372822710474899  | 0.00985405883631613 | 0.454337833730372  | 0.00133646116687544  |\n",
       "| innate_WBC.max | innate          | WBC.max        | 0.329736946521161  | 0.0220974603965574  | 0.450173686495875  | 0.0013251794405216   |\n",
       "| liver_ALT.max | liver           | ALT.max        | 0.289150903713506  | 0.0462292173237288  | 0.446335986037706  | 0.00147377565063742  |\n",
       "| kidney_conc_BNP.max | kidney_conc     | BNP.max        | 0.353103112542573  | 0.0160816833105917  | 0.434606486956295  | 0.00254377951510088  |\n",
       "| lung_conc_CRP.max | lung_conc       | CRP.max        | 0.339341724274313  | 0.0196231713439081  | 0.395844320337196  | 0.0058837980549133   |\n",
       "| neutrophil_conc_ANC.max | neutrophil_conc | ANC.max        | 0.325833346941318  | 0.0254151521329729  | 0.37149465163342   | 0.0101406916895275   |\n",
       "| kidney_CRP.max | kidney          | CRP.max        | 0.327640107110299  | 0.0245661800831886  | 0.365494838195165  | 0.0115267454641111   |\n",
       "| spleen_conc_CRP.max | spleen_conc     | CRP.max        | 0.307098471581267  | 0.0357550206083243  | 0.352212684801075  | 0.015182608736438    |\n",
       "| scaled_cfDNA_CRP.max | scaled_cfDNA    | CRP.max        | 0.288562492677635  | 0.0491738378796285  | 0.348675843663891  | 0.0163079993344239   |\n",
       "| lung_CRP.max | lung            | CRP.max        | 0.314798513193999  | 0.0311492516314356  | 0.329899317609658  | 0.023538127476001    |\n",
       "| tcell_WBC.max | tcell           | WBC.max        | 0.313264465129107  | 0.0301551768845696  | 0.295429667554004  | 0.0414904155822981   |\n",
       "| progenitor_ANC.max | progenitor      | ANC.max        | -0.353325579172264 | 0.0148424547868501  | -0.425132362619542 | 0.00289367874009955  |\n",
       "| spleen_conc_Platelet.min | spleen_conc     | Platelet.min   | -0.298198110931385 | 0.0374239920085218  | -0.386827479144312 | 0.00603868008078554  |\n",
       "| solid_organ_ANC.max | solid_organ     | ANC.max        | -0.295706318797711 | 0.0435859854818017  | -0.368882079307683 | 0.0107255376995332   |\n",
       "| megakaryocyte_Ferritin.max | megakaryocyte   | Ferritin.max   | -0.298770318301835 | 0.0461950073730854  | -0.354940711462451 | 0.016734532842015    |\n",
       "| spleen_Platelet.min | spleen          | Platelet.min   | -0.337071832602533 | 0.0178670545836996  | -0.345557709137234 | 0.0150201046407004   |\n",
       "| liver_ANC.max | liver           | ANC.max        | -0.307301444569688 | 0.0356267888379013  | -0.327663045296434 | 0.0245555562624598   |\n",
       "\n"
      ],
      "text/plain": [
       "                           var1            var2           pearson.cor       \n",
       "liver_conc_ALT.max         liver_conc      ALT.max        0.303464474917193 \n",
       "kidney_conc_Creatinine.max kidney_conc     Creatinine.max 0.399212248695314 \n",
       "kidney_conc_CRP.max        kidney_conc     CRP.max        0.410382712361467 \n",
       "innate_ANC.max             innate          ANC.max        0.372822710474899 \n",
       "innate_WBC.max             innate          WBC.max        0.329736946521161 \n",
       "liver_ALT.max              liver           ALT.max        0.289150903713506 \n",
       "kidney_conc_BNP.max        kidney_conc     BNP.max        0.353103112542573 \n",
       "lung_conc_CRP.max          lung_conc       CRP.max        0.339341724274313 \n",
       "neutrophil_conc_ANC.max    neutrophil_conc ANC.max        0.325833346941318 \n",
       "kidney_CRP.max             kidney          CRP.max        0.327640107110299 \n",
       "spleen_conc_CRP.max        spleen_conc     CRP.max        0.307098471581267 \n",
       "scaled_cfDNA_CRP.max       scaled_cfDNA    CRP.max        0.288562492677635 \n",
       "lung_CRP.max               lung            CRP.max        0.314798513193999 \n",
       "tcell_WBC.max              tcell           WBC.max        0.313264465129107 \n",
       "progenitor_ANC.max         progenitor      ANC.max        -0.353325579172264\n",
       "spleen_conc_Platelet.min   spleen_conc     Platelet.min   -0.298198110931385\n",
       "solid_organ_ANC.max        solid_organ     ANC.max        -0.295706318797711\n",
       "megakaryocyte_Ferritin.max megakaryocyte   Ferritin.max   -0.298770318301835\n",
       "spleen_Platelet.min        spleen          Platelet.min   -0.337071832602533\n",
       "liver_ANC.max              liver           ANC.max        -0.307301444569688\n",
       "                           pearson_pval        spearman.rho      \n",
       "liver_conc_ALT.max         0.0360139360590835  0.504585736522006 \n",
       "kidney_conc_Creatinine.max 0.00448970695453012 0.498287067309989 \n",
       "kidney_conc_CRP.max        0.00416912218217212 0.461483967059044 \n",
       "innate_ANC.max             0.00985405883631613 0.454337833730372 \n",
       "innate_WBC.max             0.0220974603965574  0.450173686495875 \n",
       "liver_ALT.max              0.0462292173237288  0.446335986037706 \n",
       "kidney_conc_BNP.max        0.0160816833105917  0.434606486956295 \n",
       "lung_conc_CRP.max          0.0196231713439081  0.395844320337196 \n",
       "neutrophil_conc_ANC.max    0.0254151521329729  0.37149465163342  \n",
       "kidney_CRP.max             0.0245661800831886  0.365494838195165 \n",
       "spleen_conc_CRP.max        0.0357550206083243  0.352212684801075 \n",
       "scaled_cfDNA_CRP.max       0.0491738378796285  0.348675843663891 \n",
       "lung_CRP.max               0.0311492516314356  0.329899317609658 \n",
       "tcell_WBC.max              0.0301551768845696  0.295429667554004 \n",
       "progenitor_ANC.max         0.0148424547868501  -0.425132362619542\n",
       "spleen_conc_Platelet.min   0.0374239920085218  -0.386827479144312\n",
       "solid_organ_ANC.max        0.0435859854818017  -0.368882079307683\n",
       "megakaryocyte_Ferritin.max 0.0461950073730854  -0.354940711462451\n",
       "spleen_Platelet.min        0.0178670545836996  -0.345557709137234\n",
       "liver_ANC.max              0.0356267888379013  -0.327663045296434\n",
       "                           spearman_pval       \n",
       "liver_conc_ALT.max         0.000255099455529465\n",
       "kidney_conc_Creatinine.max 0.00026890089747068 \n",
       "kidney_conc_CRP.max        0.00109467193575244 \n",
       "innate_ANC.max             0.00133646116687544 \n",
       "innate_WBC.max             0.0013251794405216  \n",
       "liver_ALT.max              0.00147377565063742 \n",
       "kidney_conc_BNP.max        0.00254377951510088 \n",
       "lung_conc_CRP.max          0.0058837980549133  \n",
       "neutrophil_conc_ANC.max    0.0101406916895275  \n",
       "kidney_CRP.max             0.0115267454641111  \n",
       "spleen_conc_CRP.max        0.015182608736438   \n",
       "scaled_cfDNA_CRP.max       0.0163079993344239  \n",
       "lung_CRP.max               0.023538127476001   \n",
       "tcell_WBC.max              0.0414904155822981  \n",
       "progenitor_ANC.max         0.00289367874009955 \n",
       "spleen_conc_Platelet.min   0.00603868008078554 \n",
       "solid_organ_ANC.max        0.0107255376995332  \n",
       "megakaryocyte_Ferritin.max 0.016734532842015   \n",
       "spleen_Platelet.min        0.0150201046407004  \n",
       "liver_ANC.max              0.0245555562624598  "
      ]
     },
     "metadata": {},
     "output_type": "display_data"
    }
   ],
   "source": [
    "tissue_traits = c(\"scaled_cfDNA\",tissues,paste0(tissues,\"_conc\"),\"solid_organ\",\"non_solid_organ\",\"innate\",\"adaptive\")\n",
    "clin_traits = c('WBC.max','ANC.max','ALC.min','Platelet.min','ESR.max','Na.min','Creatinine.max','ALT.max','BNP.max','Troponin.max','Ferritin.max','CRP.max','IL.2R.max')\n",
    "\n",
    "tissue_traits <- tissue_traits[!grepl(\"skin|dendritic\",tissue_traits)]\n",
    "clin_traits <- clin_traits[!grepl(\"IL.2R\",clin_traits)]\n",
    "\n",
    "output = list()\n",
    "\n",
    "for (var1 in tissue_traits){\n",
    "    for (var2 in clin_traits){\n",
    "       \n",
    "        var1_val <- as.numeric(master_df[,var1])\n",
    "        var2_val <- as.numeric(master_df[,var2])\n",
    "                \n",
    "        p_res <- cor.test(var1_val,var2_val,method=\"pearson\")\n",
    "        pearson = p_res$estimate \n",
    "        pearson_pval = p_res$p.value\n",
    "        \n",
    "        s_res <- cor.test(var1_val,var2_val,method=\"spearman\",exact=FALSE)\n",
    "        spearman =  s_res$estimate\n",
    "        spearman_pval = s_res$p.value\n",
    "        \n",
    "        output[[paste0(var1,\"_\",var2)]] <- c(\"var1\"=var1,\n",
    "                                             \"var2\"=var2,\n",
    "                                             \"pearson\"=pearson,\n",
    "                                             \"pearson_pval\"=pearson_pval,\n",
    "                                             \"spearman\" = spearman,\n",
    "                                             \"spearman_pval\"=spearman_pval)\n",
    "    }\n",
    "}\n",
    "\n",
    "df <- data.frame(do.call(\"rbind\",output))\n",
    "\n",
    "df <- df[which((df$pearson_pval < 0.05) & (df$spearman_pval < 0.05)),]\n",
    "\n",
    "head(df[order(df$spearman.rho,decreasing=TRUE),],20)"
   ]
  },
  {
   "cell_type": "code",
   "execution_count": 6,
   "id": "04590f35-a05a-46b2-b4c5-c12f3cc760d2",
   "metadata": {},
   "outputs": [],
   "source": [
    "color_groups = c('COVID-19' = '#F0484E', 'MIS-C' = '#5CB2EB', 'Control_Non-inflammatory' = '#FBE77C',\"MIS-C\\nCNH\" = '#2BC0B3')\n",
    "\n"
   ]
  },
  {
   "cell_type": "markdown",
   "id": "40c3dadd-a3cc-4c36-acb5-9f7eae8a01b3",
   "metadata": {},
   "source": [
    "---"
   ]
  },
  {
   "cell_type": "code",
   "execution_count": 8,
   "id": "3240043c-4079-4022-ab55-8c0907780828",
   "metadata": {},
   "outputs": [
    {
     "name": "stdout",
     "output_type": "stream",
     "text": [
      "liver_conc + ALT.max\n",
      "                         pearson.cor       pearson_pval\n",
      "liver_conc_ALT.max 0.303464474917193 0.0360139360590835\n",
      "--------------------\n"
     ]
    },
    {
     "name": "stderr",
     "output_type": "stream",
     "text": [
      "Warning message:\n",
      "“Removed 4 rows containing missing values (geom_point).”\n"
     ]
    },
    {
     "data": {
      "text/html": [
       "<strong>png:</strong> 2"
      ],
      "text/latex": [
       "\\textbf{png:} 2"
      ],
      "text/markdown": [
       "**png:** 2"
      ],
      "text/plain": [
       "png \n",
       "  2 "
      ]
     },
     "metadata": {},
     "output_type": "display_data"
    },
    {
     "name": "stdout",
     "output_type": "stream",
     "text": [
      "kidney_conc + Creatinine.max\n",
      "                                 pearson.cor        pearson_pval\n",
      "kidney_conc_Creatinine.max 0.399212248695314 0.00448970695453012\n",
      "--------------------\n"
     ]
    },
    {
     "name": "stderr",
     "output_type": "stream",
     "text": [
      "Warning message:\n",
      "“Removed 3 rows containing missing values (geom_point).”\n"
     ]
    },
    {
     "data": {
      "text/html": [
       "<strong>png:</strong> 2"
      ],
      "text/latex": [
       "\\textbf{png:} 2"
      ],
      "text/markdown": [
       "**png:** 2"
      ],
      "text/plain": [
       "png \n",
       "  2 "
      ]
     },
     "metadata": {},
     "output_type": "display_data"
    },
    {
     "name": "stdout",
     "output_type": "stream",
     "text": [
      "scaled_cfDNA + CRP.max\n",
      "                           pearson.cor       pearson_pval\n",
      "scaled_cfDNA_CRP.max 0.288562492677635 0.0491738378796285\n",
      "--------------------\n"
     ]
    },
    {
     "name": "stderr",
     "output_type": "stream",
     "text": [
      "Warning message:\n",
      "“Removed 5 rows containing missing values (geom_point).”\n"
     ]
    },
    {
     "data": {
      "text/html": [
       "<strong>png:</strong> 2"
      ],
      "text/latex": [
       "\\textbf{png:} 2"
      ],
      "text/markdown": [
       "**png:** 2"
      ],
      "text/plain": [
       "png \n",
       "  2 "
      ]
     },
     "metadata": {},
     "output_type": "display_data"
    }
   ],
   "source": [
    "make_plot <- function(var1,var2){\n",
    "\n",
    "    master_df %>%\n",
    "    ggplot(aes(x=as.numeric(.data[[var1]]),y=as.numeric(.data[[var2]]),color=Diagnosis))+\n",
    "    geom_point(size = 0.75)+\n",
    "    theme_alex()  + \n",
    "    theme(plot.title = element_blank(),\n",
    "      axis.title.y = element_blank(),\n",
    "      axis.title.x = element_blank(),\n",
    "     ) + \n",
    "    scale_color_manual(values=color_groups)\n",
    "    \n",
    "    }\n",
    "\n",
    "WIDTH = 1.48\n",
    "HEIGHT = 1.50\n",
    "\n",
    "\n",
    "##---------------------------\n",
    "var1 = \"liver_conc\"\n",
    "var2 = \"ALT.max\"\n",
    "\n",
    "XLIM = 1.5\n",
    "YLIM = 420\n",
    "\n",
    "WIDTH = 1.48\n",
    "HEIGHT = 1.50\n",
    "\n",
    "pdf(file=paste0(\"plots/panelE_liver-ALT.pdf\"),\n",
    "        width=WIDTH,height=HEIGHT, paper=\"special\", bg=\"white\",\n",
    "        fonts=\"Helvetica\", colormodel = \"srgb\", pointsize=6, useDingbats = FALSE)\n",
    "\n",
    "plt <- make_plot(var1,var2) + \n",
    "# labs(x=\"Liver cfDNA Fraction\",y=\"ALT.max\", title = \"pearson's r: 0.30\\nspearman's p: 0.51\" ) + \n",
    "scale_x_continuous(breaks = c(0,0.5,1.0,1.5))+\n",
    "scale_y_continuous(breaks = c(0,140,280,420))+\n",
    "coord_cartesian(ylim = c(0,YLIM),xlim = c(0,XLIM))\n",
    "\n",
    "cat(var1)\n",
    "cat(\" + \")\n",
    "cat(var2)\n",
    "cat(\"\\n\")\n",
    "print(df[which(df$var1 == var1 & df$var2 == var2),c(\"pearson.cor\",\"pearson_pval\")])\n",
    "cat(\"--------------------\\n\")\n",
    "\n",
    "print(plt)\n",
    "\n",
    "dev.off()\n",
    "\n",
    "##---------------------------\n",
    "\n",
    "var1 = \"kidney_conc\"\n",
    "var2 = \"Creatinine.max\"\n",
    "\n",
    "XLIM = .225\n",
    "YLIM = 4.5\n",
    "\n",
    "WIDTH = 1.37\n",
    "HEIGHT = 1.50\n",
    "\n",
    "pdf(file=paste0(\"plots/panelE_kidneyconc-Creatinine.pdf\"),\n",
    "        width=WIDTH,height=HEIGHT, paper=\"special\", bg=\"white\",\n",
    "        fonts=\"Helvetica\", colormodel = \"srgb\", pointsize=6, useDingbats = FALSE)\n",
    "\n",
    "plt <- make_plot(var1,var2) +\n",
    "scale_x_continuous(breaks = c(0,0.075,0.15,0.225))+\n",
    "scale_y_continuous(breaks = c(0,1.5,3.0,4.5))+\n",
    "coord_cartesian(ylim = c(0,YLIM),xlim = c(0,XLIM))\n",
    "\n",
    "cat(var1)\n",
    "cat(\" + \")\n",
    "cat(var2)\n",
    "cat(\"\\n\")\n",
    "print(df[which(df$var1 == var1 & df$var2 == var2),c(\"pearson.cor\",\"pearson_pval\")])\n",
    "cat(\"--------------------\\n\")\n",
    "\n",
    "print(plt)\n",
    "\n",
    "dev.off()\n",
    "\n",
    "# ##---------------------------\n",
    "\n",
    "# var1 = \"innate\"\n",
    "# var2 = \"WBC.max\"\n",
    "\n",
    "\n",
    "# XLIM = 17\n",
    "# YLIM = 35\n",
    "\n",
    "# WIDTH = 1.42\n",
    "# HEIGHT = 1.50\n",
    "\n",
    "# pdf(file=paste0(\"plots/panelE_innate-WBC.pdf\"),\n",
    "#         width=WIDTH,height=HEIGHT, paper=\"special\", bg=\"white\",\n",
    "#         fonts=\"Helvetica\", colormodel = \"srgb\", pointsize=6, useDingbats = FALSE)\n",
    "\n",
    "# plt <- make_plot(var1,var2) #+ theme(plot.title = element_text(hjust = 0.5,size=6))\n",
    "\n",
    "# cat(var1)\n",
    "# cat(\" + \")\n",
    "# cat(var2)\n",
    "# cat(\"\\n\")\n",
    "# print(df[which(df$var1 == var1 & df$var2 == var2),c(\"pearson.cor\",\"pearson_pval\")])\n",
    "# cat(\"--------------------\\n\")\n",
    "\n",
    "# print(plt)\n",
    "\n",
    "# dev.off()\n",
    "\n",
    "##---------------------------\n",
    "\n",
    "var1 = \"scaled_cfDNA\"\n",
    "var2 = \"CRP.max\"\n",
    "\n",
    "\n",
    "XLIM = 18\n",
    "YLIM = 36\n",
    "\n",
    "WIDTH = 1.42\n",
    "HEIGHT = 1.50\n",
    "\n",
    "pdf(file=paste0(\"plots/panelE_scaledcfDNA-CRP.pdf\"),\n",
    "        width=WIDTH,height=HEIGHT, paper=\"special\", bg=\"white\",\n",
    "        fonts=\"Helvetica\", colormodel = \"srgb\", pointsize=6, useDingbats = FALSE)\n",
    "\n",
    "plt <- make_plot(var1,var2) +\n",
    "scale_x_continuous(breaks = c(0,6,12,18))+\n",
    "scale_y_continuous(breaks = c(0,12,24,36))+\n",
    "coord_cartesian(ylim = c(0,YLIM),xlim = c(0,XLIM))\n",
    "\n",
    "cat(var1)\n",
    "cat(\" + \")\n",
    "cat(var2)\n",
    "cat(\"\\n\")\n",
    "print(df[which(df$var1 == var1 & df$var2 == var2),c(\"pearson.cor\",\"pearson_pval\")])\n",
    "cat(\"--------------------\\n\")\n",
    "\n",
    "print(plt)\n",
    "\n",
    "dev.off()"
   ]
  }
 ],
 "metadata": {
  "kernelspec": {
   "display_name": "R",
   "language": "R",
   "name": "ir"
  },
  "language_info": {
   "codemirror_mode": "r",
   "file_extension": ".r",
   "mimetype": "text/x-r-source",
   "name": "R",
   "pygments_lexer": "r",
   "version": "4.1.1"
  }
 },
 "nbformat": 4,
 "nbformat_minor": 5
}
