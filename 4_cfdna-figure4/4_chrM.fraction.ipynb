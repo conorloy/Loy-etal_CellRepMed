{
 "cells": [
  {
   "cell_type": "code",
   "execution_count": 1,
   "id": "dbb2d54f-529e-4459-b672-bb334a03d4e5",
   "metadata": {},
   "outputs": [
    {
     "name": "stderr",
     "output_type": "stream",
     "text": [
      "── \u001b[1mAttaching packages\u001b[22m ────────────────────────────────────────────────────────────────────────────────────────────────────────────────────────────────────────────────────── tidyverse 1.3.1 ──\n",
      "\n",
      "\u001b[32m✔\u001b[39m \u001b[34mggplot2\u001b[39m 3.3.6     \u001b[32m✔\u001b[39m \u001b[34mpurrr  \u001b[39m 0.3.4\n",
      "\u001b[32m✔\u001b[39m \u001b[34mtibble \u001b[39m 3.1.7     \u001b[32m✔\u001b[39m \u001b[34mdplyr  \u001b[39m 1.0.8\n",
      "\u001b[32m✔\u001b[39m \u001b[34mtidyr  \u001b[39m 1.2.0     \u001b[32m✔\u001b[39m \u001b[34mstringr\u001b[39m 1.4.0\n",
      "\u001b[32m✔\u001b[39m \u001b[34mreadr  \u001b[39m 2.1.2     \u001b[32m✔\u001b[39m \u001b[34mforcats\u001b[39m 0.5.1\n",
      "\n",
      "── \u001b[1mConflicts\u001b[22m ───────────────────────────────────────────────────────────────────────────────────────────────────────────────────────────────────────────────────────── tidyverse_conflicts() ──\n",
      "\u001b[31m✖\u001b[39m \u001b[34mdplyr\u001b[39m::\u001b[32mfilter()\u001b[39m masks \u001b[34mstats\u001b[39m::filter()\n",
      "\u001b[31m✖\u001b[39m \u001b[34mdplyr\u001b[39m::\u001b[32mlag()\u001b[39m    masks \u001b[34mstats\u001b[39m::lag()\n",
      "\n"
     ]
    }
   ],
   "source": [
    "library(tidyverse)\n",
    "source('../0_support-files/theme_CRP-MISC.R')\n",
    "\n",
    "\n",
    "\n",
    "expGroupPalette <- c(\"Control_Non-inflammatory\" ='#FBE77C',\n",
    "                            \"Acute COVID-19 Mild/ASX\" = '#F0484E',\n",
    "                            \"Acute COVID-19 Moderate/Severe\" = '#F0484E',\n",
    "                            \"Acute MIS-C Moderate/Severe\" = '#5CB2EB')\n"
   ]
  },
  {
   "cell_type": "markdown",
   "id": "919404a0-8a65-4b30-a048-5ce9cf663ce7",
   "metadata": {},
   "source": [
    "---\n",
    "## Get Mito Count for MIS-C"
   ]
  },
  {
   "cell_type": "code",
   "execution_count": 2,
   "id": "1ac427d1-d7cb-44aa-87bf-bf3e883203cc",
   "metadata": {},
   "outputs": [],
   "source": [
    "# path = \"/workdir/cjl332/cfdna/alignment/output/MISC/sample_output/\"\n",
    "\n",
    "# get_mito <- function(x,path){\n",
    "#     output <- system(paste0(\"cut -f 1,3 \",path,x,\"/\",x,\".idxstats\"), intern=T)\n",
    "#     output <- data.frame(output) %>%\n",
    "#             mutate(chr = gsub(\"\\\\t.*\",\"\",output), count =  gsub(\".*\\\\t\",\"\",output)) %>% \n",
    "#             select(!output)\n",
    "#     colnames(output)[2] <- x\n",
    "#     return(output)\n",
    "# }\n",
    "\n",
    "# ids <- list.files(path)\n",
    "# ids <- read.delim(\"/workdir/cjl332/cfdna/alignment/prep_tables/sequencing_prep.usingMISC.tsv\")\n",
    "# ids <- ids$sample\n",
    "\n",
    "# mito_counts <- lapply(ids,get_mito,path)\n",
    "# #combine\n",
    "# mito_df <- Reduce(function(dtf1, dtf2) merge(dtf1, dtf2, by = \"chr\"),\n",
    "#         mito_counts)\n",
    "\n",
    "# # tidy\n",
    "# mito_df <- data.frame(mito_df[-1,])\n",
    "# rownames(mito_df) <- mito_df$chr\n",
    "# mito_df$chr <- NULL\n",
    "\n",
    "# # transpose\n",
    "# mito_df <- data.frame(t(mito_df))\n",
    "\n",
    "# mito_df[] <- lapply(mito_df,as.numeric)\n",
    "\n",
    "# mito_df$total_reads <- rowSums(mito_df)\n",
    "\n",
    "# mito_df$Sequence_ID = gsub(\"\\\\_[^\\\\_]*\\\\_[^\\\\_]*$\",\"\",gsub(\"^[^\\\\_]*\\\\_[^\\\\_]*\\\\_[^\\\\_]*\\\\_[^\\\\_]*\\\\_\",\"\",rownames(mito_df)))\n",
    "\n",
    "# # head(mito_df)\n",
    "\n",
    "# cfdna_id_key <- read.delim(\"../make_datasets/cfdna_id_key.tsv\") %>%\n",
    "#     mutate(Seq_ID = paste0(\"X\",Seq_ID))\n",
    "\n",
    "# mito_df <- merge(mito_df,cfdna_id_key, by.x=0, by.y=\"Seq_ID\")\n",
    "# rownames(mito_df) <- mito_df$cfdna_sample_id\n",
    "# mito_df <- mito_df %>% select(!c(\"Sequence_ID\",\"cfdna_sample_id\",\"Row.names\"))\n",
    "\n",
    "\n",
    "# write.table(mito_df,\"../1_sample-data/cfdna_chr_cnts.tsv\",sep=\"\\t\",quote=F,row.names=T)\n",
    "\n",
    "mito_df = read.delim(\"../1_sample-data/cfdna_chr_cnts.tsv\")"
   ]
  },
  {
   "cell_type": "code",
   "execution_count": 3,
   "id": "c583641a-34f5-4836-9898-7257b32a23b8",
   "metadata": {},
   "outputs": [
    {
     "data": {
      "text/html": [
       "<table class=\"dataframe\">\n",
       "<caption>A data.frame: 6 × 37</caption>\n",
       "<thead>\n",
       "\t<tr><th></th><th scope=col>PTID</th><th scope=col>Sample_ID</th><th scope=col>Diagnosis</th><th scope=col>severity</th><th scope=col>timepoint</th><th scope=col>ivig</th><th scope=col>days_ivig_before_samp</th><th scope=col>ivig_rel_samp</th><th scope=col>sequencing_depth</th><th scope=col>mapping_efficiency</th><th scope=col>⋯</th><th scope=col>pancreas</th><th scope=col>progenitor</th><th scope=col>skin</th><th scope=col>spleen</th><th scope=col>tcell</th><th scope=col>other</th><th scope=col>ALT.max</th><th scope=col>Creatinine.max</th><th scope=col>CRP.max</th><th scope=col>expGroup_plotting</th></tr>\n",
       "\t<tr><th></th><th scope=col>&lt;chr&gt;</th><th scope=col>&lt;chr&gt;</th><th scope=col>&lt;chr&gt;</th><th scope=col>&lt;chr&gt;</th><th scope=col>&lt;chr&gt;</th><th scope=col>&lt;int&gt;</th><th scope=col>&lt;int&gt;</th><th scope=col>&lt;chr&gt;</th><th scope=col>&lt;dbl&gt;</th><th scope=col>&lt;dbl&gt;</th><th scope=col>⋯</th><th scope=col>&lt;dbl&gt;</th><th scope=col>&lt;dbl&gt;</th><th scope=col>&lt;dbl&gt;</th><th scope=col>&lt;dbl&gt;</th><th scope=col>&lt;dbl&gt;</th><th scope=col>&lt;int&gt;</th><th scope=col>&lt;int&gt;</th><th scope=col>&lt;dbl&gt;</th><th scope=col>&lt;dbl&gt;</th><th scope=col>&lt;chr&gt;</th></tr>\n",
       "</thead>\n",
       "<tbody>\n",
       "\t<tr><th scope=row>1</th><td>Patient38</td><td>cfdna_sample_id_24</td><td>Acute COVID-19 Moderate/Severe</td><td>Moderate/Severe</td><td>acute</td><td>0</td><td>NA</td><td>NA    </td><td>0.966009</td><td>0.78</td><td>⋯</td><td>0.00000000</td><td>0.077464020</td><td>0.00000000</td><td>0.12904566</td><td>0.00000000</td><td>0</td><td> 24</td><td>0.52</td><td> 7.4</td><td>Acute COVID-19 Moderate/Severe</td></tr>\n",
       "\t<tr><th scope=row>2</th><td>Patient40</td><td>cfdna_sample_id_25</td><td>Acute MIS-C Moderate/Severe   </td><td>Moderate/Severe</td><td>acute</td><td>1</td><td>-2</td><td>before</td><td>0.198854</td><td>0.75</td><td>⋯</td><td>0.01019488</td><td>0.003604042</td><td>0.00000000</td><td>0.00000000</td><td>0.00000000</td><td>0</td><td> 64</td><td>1.49</td><td>15.5</td><td>Acute MIS-C Moderate/Severe   </td></tr>\n",
       "\t<tr><th scope=row>3</th><td>Patient43</td><td>cfdna_sample_id_26</td><td>Acute MIS-C Moderate/Severe   </td><td>Moderate/Severe</td><td>acute</td><td>1</td><td>-1</td><td>before</td><td>0.538687</td><td>0.76</td><td>⋯</td><td>0.00000000</td><td>0.082368089</td><td>0.01111545</td><td>0.07828432</td><td>0.03048947</td><td>0</td><td>104</td><td>1.41</td><td>17.9</td><td>Acute MIS-C Moderate/Severe   </td></tr>\n",
       "\t<tr><th scope=row>4</th><td>Patient44</td><td>cfdna_sample_id_27</td><td>Acute COVID-19 Mild/ASX       </td><td>Mild/ASX       </td><td>acute</td><td>0</td><td>NA</td><td>NA    </td><td>0.939336</td><td>0.78</td><td>⋯</td><td>0.00264551</td><td>0.042459565</td><td>0.00000000</td><td>0.03866812</td><td>0.00000000</td><td>0</td><td> 77</td><td>0.59</td><td>15.1</td><td>Acute COVID-19 Mild/ASX       </td></tr>\n",
       "\t<tr><th scope=row>5</th><td>Patient45</td><td>cfdna_sample_id_28</td><td>Acute MIS-C Moderate/Severe   </td><td>Moderate/Severe</td><td>acute</td><td>1</td><td>NA</td><td>NA    </td><td>0.533339</td><td>0.74</td><td>⋯</td><td>0.00000000</td><td>0.058378850</td><td>0.00000000</td><td>0.23931450</td><td>0.00000000</td><td>0</td><td> 56</td><td>1.91</td><td>30.2</td><td>Acute MIS-C Moderate/Severe   </td></tr>\n",
       "\t<tr><th scope=row>6</th><td>Patient46</td><td>cfdna_sample_id_29</td><td>Acute MIS-C Moderate/Severe   </td><td>Moderate/Severe</td><td>acute</td><td>1</td><td>-3</td><td>before</td><td>0.379538</td><td>0.77</td><td>⋯</td><td>0.01899220</td><td>0.012543671</td><td>0.00000000</td><td>0.04158856</td><td>0.01250763</td><td>0</td><td> 96</td><td>0.60</td><td>13.2</td><td>Acute MIS-C Moderate/Severe   </td></tr>\n",
       "</tbody>\n",
       "</table>\n"
      ],
      "text/latex": [
       "A data.frame: 6 × 37\n",
       "\\begin{tabular}{r|lllllllllllllllllllll}\n",
       "  & PTID & Sample\\_ID & Diagnosis & severity & timepoint & ivig & days\\_ivig\\_before\\_samp & ivig\\_rel\\_samp & sequencing\\_depth & mapping\\_efficiency & ⋯ & pancreas & progenitor & skin & spleen & tcell & other & ALT.max & Creatinine.max & CRP.max & expGroup\\_plotting\\\\\n",
       "  & <chr> & <chr> & <chr> & <chr> & <chr> & <int> & <int> & <chr> & <dbl> & <dbl> & ⋯ & <dbl> & <dbl> & <dbl> & <dbl> & <dbl> & <int> & <int> & <dbl> & <dbl> & <chr>\\\\\n",
       "\\hline\n",
       "\t1 & Patient38 & cfdna\\_sample\\_id\\_24 & Acute COVID-19 Moderate/Severe & Moderate/Severe & acute & 0 & NA & NA     & 0.966009 & 0.78 & ⋯ & 0.00000000 & 0.077464020 & 0.00000000 & 0.12904566 & 0.00000000 & 0 &  24 & 0.52 &  7.4 & Acute COVID-19 Moderate/Severe\\\\\n",
       "\t2 & Patient40 & cfdna\\_sample\\_id\\_25 & Acute MIS-C Moderate/Severe    & Moderate/Severe & acute & 1 & -2 & before & 0.198854 & 0.75 & ⋯ & 0.01019488 & 0.003604042 & 0.00000000 & 0.00000000 & 0.00000000 & 0 &  64 & 1.49 & 15.5 & Acute MIS-C Moderate/Severe   \\\\\n",
       "\t3 & Patient43 & cfdna\\_sample\\_id\\_26 & Acute MIS-C Moderate/Severe    & Moderate/Severe & acute & 1 & -1 & before & 0.538687 & 0.76 & ⋯ & 0.00000000 & 0.082368089 & 0.01111545 & 0.07828432 & 0.03048947 & 0 & 104 & 1.41 & 17.9 & Acute MIS-C Moderate/Severe   \\\\\n",
       "\t4 & Patient44 & cfdna\\_sample\\_id\\_27 & Acute COVID-19 Mild/ASX        & Mild/ASX        & acute & 0 & NA & NA     & 0.939336 & 0.78 & ⋯ & 0.00264551 & 0.042459565 & 0.00000000 & 0.03866812 & 0.00000000 & 0 &  77 & 0.59 & 15.1 & Acute COVID-19 Mild/ASX       \\\\\n",
       "\t5 & Patient45 & cfdna\\_sample\\_id\\_28 & Acute MIS-C Moderate/Severe    & Moderate/Severe & acute & 1 & NA & NA     & 0.533339 & 0.74 & ⋯ & 0.00000000 & 0.058378850 & 0.00000000 & 0.23931450 & 0.00000000 & 0 &  56 & 1.91 & 30.2 & Acute MIS-C Moderate/Severe   \\\\\n",
       "\t6 & Patient46 & cfdna\\_sample\\_id\\_29 & Acute MIS-C Moderate/Severe    & Moderate/Severe & acute & 1 & -3 & before & 0.379538 & 0.77 & ⋯ & 0.01899220 & 0.012543671 & 0.00000000 & 0.04158856 & 0.01250763 & 0 &  96 & 0.60 & 13.2 & Acute MIS-C Moderate/Severe   \\\\\n",
       "\\end{tabular}\n"
      ],
      "text/markdown": [
       "\n",
       "A data.frame: 6 × 37\n",
       "\n",
       "| <!--/--> | PTID &lt;chr&gt; | Sample_ID &lt;chr&gt; | Diagnosis &lt;chr&gt; | severity &lt;chr&gt; | timepoint &lt;chr&gt; | ivig &lt;int&gt; | days_ivig_before_samp &lt;int&gt; | ivig_rel_samp &lt;chr&gt; | sequencing_depth &lt;dbl&gt; | mapping_efficiency &lt;dbl&gt; | ⋯ ⋯ | pancreas &lt;dbl&gt; | progenitor &lt;dbl&gt; | skin &lt;dbl&gt; | spleen &lt;dbl&gt; | tcell &lt;dbl&gt; | other &lt;int&gt; | ALT.max &lt;int&gt; | Creatinine.max &lt;dbl&gt; | CRP.max &lt;dbl&gt; | expGroup_plotting &lt;chr&gt; |\n",
       "|---|---|---|---|---|---|---|---|---|---|---|---|---|---|---|---|---|---|---|---|---|---|\n",
       "| 1 | Patient38 | cfdna_sample_id_24 | Acute COVID-19 Moderate/Severe | Moderate/Severe | acute | 0 | NA | NA     | 0.966009 | 0.78 | ⋯ | 0.00000000 | 0.077464020 | 0.00000000 | 0.12904566 | 0.00000000 | 0 |  24 | 0.52 |  7.4 | Acute COVID-19 Moderate/Severe |\n",
       "| 2 | Patient40 | cfdna_sample_id_25 | Acute MIS-C Moderate/Severe    | Moderate/Severe | acute | 1 | -2 | before | 0.198854 | 0.75 | ⋯ | 0.01019488 | 0.003604042 | 0.00000000 | 0.00000000 | 0.00000000 | 0 |  64 | 1.49 | 15.5 | Acute MIS-C Moderate/Severe    |\n",
       "| 3 | Patient43 | cfdna_sample_id_26 | Acute MIS-C Moderate/Severe    | Moderate/Severe | acute | 1 | -1 | before | 0.538687 | 0.76 | ⋯ | 0.00000000 | 0.082368089 | 0.01111545 | 0.07828432 | 0.03048947 | 0 | 104 | 1.41 | 17.9 | Acute MIS-C Moderate/Severe    |\n",
       "| 4 | Patient44 | cfdna_sample_id_27 | Acute COVID-19 Mild/ASX        | Mild/ASX        | acute | 0 | NA | NA     | 0.939336 | 0.78 | ⋯ | 0.00264551 | 0.042459565 | 0.00000000 | 0.03866812 | 0.00000000 | 0 |  77 | 0.59 | 15.1 | Acute COVID-19 Mild/ASX        |\n",
       "| 5 | Patient45 | cfdna_sample_id_28 | Acute MIS-C Moderate/Severe    | Moderate/Severe | acute | 1 | NA | NA     | 0.533339 | 0.74 | ⋯ | 0.00000000 | 0.058378850 | 0.00000000 | 0.23931450 | 0.00000000 | 0 |  56 | 1.91 | 30.2 | Acute MIS-C Moderate/Severe    |\n",
       "| 6 | Patient46 | cfdna_sample_id_29 | Acute MIS-C Moderate/Severe    | Moderate/Severe | acute | 1 | -3 | before | 0.379538 | 0.77 | ⋯ | 0.01899220 | 0.012543671 | 0.00000000 | 0.04158856 | 0.01250763 | 0 |  96 | 0.60 | 13.2 | Acute MIS-C Moderate/Severe    |\n",
       "\n"
      ],
      "text/plain": [
       "  PTID      Sample_ID          Diagnosis                      severity       \n",
       "1 Patient38 cfdna_sample_id_24 Acute COVID-19 Moderate/Severe Moderate/Severe\n",
       "2 Patient40 cfdna_sample_id_25 Acute MIS-C Moderate/Severe    Moderate/Severe\n",
       "3 Patient43 cfdna_sample_id_26 Acute MIS-C Moderate/Severe    Moderate/Severe\n",
       "4 Patient44 cfdna_sample_id_27 Acute COVID-19 Mild/ASX        Mild/ASX       \n",
       "5 Patient45 cfdna_sample_id_28 Acute MIS-C Moderate/Severe    Moderate/Severe\n",
       "6 Patient46 cfdna_sample_id_29 Acute MIS-C Moderate/Severe    Moderate/Severe\n",
       "  timepoint ivig days_ivig_before_samp ivig_rel_samp sequencing_depth\n",
       "1 acute     0    NA                    NA            0.966009        \n",
       "2 acute     1    -2                    before        0.198854        \n",
       "3 acute     1    -1                    before        0.538687        \n",
       "4 acute     0    NA                    NA            0.939336        \n",
       "5 acute     1    NA                    NA            0.533339        \n",
       "6 acute     1    -3                    before        0.379538        \n",
       "  mapping_efficiency ⋯ pancreas   progenitor  skin       spleen     tcell     \n",
       "1 0.78               ⋯ 0.00000000 0.077464020 0.00000000 0.12904566 0.00000000\n",
       "2 0.75               ⋯ 0.01019488 0.003604042 0.00000000 0.00000000 0.00000000\n",
       "3 0.76               ⋯ 0.00000000 0.082368089 0.01111545 0.07828432 0.03048947\n",
       "4 0.78               ⋯ 0.00264551 0.042459565 0.00000000 0.03866812 0.00000000\n",
       "5 0.74               ⋯ 0.00000000 0.058378850 0.00000000 0.23931450 0.00000000\n",
       "6 0.77               ⋯ 0.01899220 0.012543671 0.00000000 0.04158856 0.01250763\n",
       "  other ALT.max Creatinine.max CRP.max expGroup_plotting             \n",
       "1 0      24     0.52            7.4    Acute COVID-19 Moderate/Severe\n",
       "2 0      64     1.49           15.5    Acute MIS-C Moderate/Severe   \n",
       "3 0     104     1.41           17.9    Acute MIS-C Moderate/Severe   \n",
       "4 0      77     0.59           15.1    Acute COVID-19 Mild/ASX       \n",
       "5 0      56     1.91           30.2    Acute MIS-C Moderate/Severe   \n",
       "6 0      96     0.60           13.2    Acute MIS-C Moderate/Severe   "
      ]
     },
     "metadata": {},
     "output_type": "display_data"
    },
    {
     "data": {
      "text/html": [
       "65"
      ],
      "text/latex": [
       "65"
      ],
      "text/markdown": [
       "65"
      ],
      "text/plain": [
       "[1] 65"
      ]
     },
     "metadata": {},
     "output_type": "display_data"
    },
    {
     "data": {
      "text/html": [
       "65"
      ],
      "text/latex": [
       "65"
      ],
      "text/markdown": [
       "65"
      ],
      "text/plain": [
       "[1] 65"
      ]
     },
     "metadata": {},
     "output_type": "display_data"
    },
    {
     "data": {
      "text/html": [
       "63"
      ],
      "text/latex": [
       "63"
      ],
      "text/markdown": [
       "63"
      ],
      "text/plain": [
       "[1] 63"
      ]
     },
     "metadata": {},
     "output_type": "display_data"
    }
   ],
   "source": [
    "meta = read.csv(\"../1_sample-data/STable8_cfdna-samples.csv\") %>% \n",
    "    rename(scaled_cfDNA = cfDNA_concentration) %>%\n",
    "    mutate(severity = ifelse(severity == 0 | severity == 1,\"Mild/ASX\",\n",
    "                             ifelse(severity == 2 | severity == 3,\"Moderate/Severe\",\"\"))) %>%\n",
    "    mutate(Diagnosis = ifelse(Diagnosis != \"Control_Non-inflammatory\", paste0(\"Acute \",Diagnosis,\" \",severity),Diagnosis)) %>%\n",
    "    rename(Sample_ID = cfdna_sample_id)%>% \n",
    "    mutate(expGroup_plotting = Diagnosis)\n",
    "\n",
    "head(meta)\n",
    "\n",
    "# MERGE\n",
    "all_df <- merge(mito_df,meta,by.x=0,by.y=\"Sample_ID\")\n",
    "\n",
    "all_df$expGroup_plotting <- factor(all_df$expGroup_plotting,levels = names(expGroupPalette))\n",
    "\n",
    "nrow(meta)\n",
    "nrow(mito_df)\n",
    "nrow(all_df)\n",
    "\n",
    "# ADD SEVERITY\n",
    "# all_df <- all_df %>% mutate(severity_v=ifelse(Diagnosis == \"Control_Non-inflammatory\",\"control\",\n",
    "#                                               ifelse(Diagnosis == \"Control_Inflammatory\",\"control\",\n",
    "#                                                      ifelse(severity %in% c(\"2\",\"3\"), \"moderate/severe\",\n",
    "#                                                             ifelse(severity %in% c(\"0\",\"1\"), \"asympomatic/mild\",\"other\"))))) %>% \n",
    "#                     mutate(Diagnosis_v = ifelse(Diagnosis == \"Control_Non-inflammatory\",\"pControl\",\n",
    "#                                                 ifelse(Diagnosis == \"Control_Inflammatory\",\"pControl_Inflammatory\",\n",
    "#                                                 ifelse(Diagnosis == \"COVID-19\",\"pCOVID-19\",Diagnosis))))\n",
    "\n",
    "\n",
    "\n",
    "# all_df$Diagnosis_v <- factor(all_df$Diagnosis_v, levels = c(\"pControl_Inflammatory\",\"pControl\",\"pCOVID-19\",\"MIS-C\"))\n",
    "# all_df$severity_v <- factor(all_df$severity_v, levels = c(\"control\",\"asympomatic/mild\",\"moderate/severe\"))\n",
    "\n",
    "# all_df$x_label <- paste0(all_df$Diagnosis_v,\" \", all_df$severity_v)\n",
    "# all_df$x_label <- factor(all_df$x_label,levels= c(\"pControl control\",\"pCOVID-19 asympomatic/mild\",\"pCOVID-19 moderate/severe\",\"MIS-C moderate/severe\"))"
   ]
  },
  {
   "cell_type": "code",
   "execution_count": 4,
   "id": "fade5cf7-fec1-48d2-be39-b587ca302ef5",
   "metadata": {},
   "outputs": [
    {
     "data": {
      "text/html": [
       "<strong>png:</strong> 2"
      ],
      "text/latex": [
       "\\textbf{png:} 2"
      ],
      "text/markdown": [
       "**png:** 2"
      ],
      "text/plain": [
       "png \n",
       "  2 "
      ]
     },
     "metadata": {},
     "output_type": "display_data"
    }
   ],
   "source": [
    "maxY = 0.003\n",
    "\n",
    "\n",
    "pdf(file=\"./plots/panelD.pdf\",\n",
    "                 width=2.35,height=1.5, paper=\"special\", bg=\"white\",\n",
    "                 fonts=\"Helvetica\", colormodel = \"srgb\", pointsize=6, useDingbats = FALSE)\n",
    "\n",
    "\n",
    "\n",
    "all_df %>% \n",
    "# ggplot(aes(x=expGroup_plotting,y=chrM,fill=expGroup_plotting))+\n",
    "ggplot(aes(x=expGroup_plotting,y=(chrM/total_reads)*scaled_cfDNA,fill=expGroup_plotting))+\n",
    "geom_boxplot(outlier.shape=NA,size = 0.2, color= \"black\")+\n",
    "geom_point(position = position_jitterdodge(jitter.width = 0.5,jitter.height = 0),size = 0.2)+\n",
    "labs(y=\"Mitochondrial abundance\",title=\"Abundance of mitochondrial DNA\") +\n",
    "    theme_prevail()+\n",
    "    theme(plot.title = element_blank(),\n",
    "            text = element_text(size = 8),\n",
    "         legend.position = \"none\",\n",
    "         axis.title.x = element_blank()) + \n",
    "scale_fill_manual(values = expGroupPalette) +\n",
    "coord_cartesian(ylim = c(0,maxY))\n",
    "\n",
    "\n",
    "dev.off()\n",
    "# ggsave(\"./plots/chrM.conc.plt.pdf\",width = 2.5, height = 1.5)"
   ]
  },
  {
   "cell_type": "code",
   "execution_count": 21,
   "id": "2e7f87f3-9917-409c-9bc7-675809cb11d2",
   "metadata": {},
   "outputs": [
    {
     "data": {
      "text/html": [
       "<table class=\"dataframe\">\n",
       "<caption>A rstatix_test: 6 × 13</caption>\n",
       "<thead>\n",
       "\t<tr><th scope=col>.y.</th><th scope=col>group1</th><th scope=col>group2</th><th scope=col>n1</th><th scope=col>n2</th><th scope=col>statistic</th><th scope=col>p</th><th scope=col>p.adj</th><th scope=col>p.adj.signif</th><th scope=col>y.position</th><th scope=col>groups</th><th scope=col>xmin</th><th scope=col>xmax</th></tr>\n",
       "\t<tr><th scope=col>&lt;chr&gt;</th><th scope=col>&lt;chr&gt;</th><th scope=col>&lt;chr&gt;</th><th scope=col>&lt;int&gt;</th><th scope=col>&lt;int&gt;</th><th scope=col>&lt;dbl&gt;</th><th scope=col>&lt;dbl&gt;</th><th scope=col>&lt;dbl&gt;</th><th scope=col>&lt;chr&gt;</th><th scope=col>&lt;dbl&gt;</th><th scope=col>&lt;named list&gt;</th><th scope=col>&lt;dbl&gt;</th><th scope=col>&lt;dbl&gt;</th></tr>\n",
       "</thead>\n",
       "<tbody>\n",
       "\t<tr><td>chrM</td><td>Control_Non-inflammatory      </td><td>Acute COVID-19 Mild/ASX       </td><td> 3</td><td>10</td><td> 26</td><td>0.077000</td><td>0.092400</td><td>ns </td><td>104151.4</td><td>Control_Non-inflammatory, Acute COVID-19 Mild/ASX </td><td>1</td><td>2</td></tr>\n",
       "\t<tr><td>chrM</td><td>Control_Non-inflammatory      </td><td>Acute COVID-19 Moderate/Severe</td><td> 3</td><td>11</td><td> 33</td><td>0.005000</td><td>0.010000</td><td>** </td><td>116285.2</td><td>Control_Non-inflammatory      , Acute COVID-19 Moderate/Severe</td><td>1</td><td>3</td></tr>\n",
       "\t<tr><td>chrM</td><td>Control_Non-inflammatory      </td><td>Acute MIS-C Moderate/Severe   </td><td> 3</td><td>41</td><td>123</td><td>0.000151</td><td>0.000906</td><td>***</td><td>128418.9</td><td>Control_Non-inflammatory   , Acute MIS-C Moderate/Severe</td><td>1</td><td>4</td></tr>\n",
       "\t<tr><td>chrM</td><td>Acute COVID-19 Mild/ASX       </td><td>Acute COVID-19 Moderate/Severe</td><td>10</td><td>11</td><td> 87</td><td>0.024000</td><td>0.036000</td><td>*  </td><td>140552.6</td><td>Acute COVID-19 Mild/ASX       , Acute COVID-19 Moderate/Severe</td><td>2</td><td>3</td></tr>\n",
       "\t<tr><td>chrM</td><td>Acute COVID-19 Mild/ASX       </td><td>Acute MIS-C Moderate/Severe   </td><td>10</td><td>41</td><td>340</td><td>0.000822</td><td>0.002466</td><td>** </td><td>152686.4</td><td>Acute COVID-19 Mild/ASX    , Acute MIS-C Moderate/Severe</td><td>2</td><td>4</td></tr>\n",
       "\t<tr><td>chrM</td><td>Acute COVID-19 Moderate/Severe</td><td>Acute MIS-C Moderate/Severe   </td><td>11</td><td>41</td><td>254</td><td>0.536000</td><td>0.536000</td><td>ns </td><td>164820.1</td><td>Acute COVID-19 Moderate/Severe, Acute MIS-C Moderate/Severe   </td><td>3</td><td>4</td></tr>\n",
       "</tbody>\n",
       "</table>\n"
      ],
      "text/latex": [
       "A rstatix\\_test: 6 × 13\n",
       "\\begin{tabular}{lllllllllllll}\n",
       " .y. & group1 & group2 & n1 & n2 & statistic & p & p.adj & p.adj.signif & y.position & groups & xmin & xmax\\\\\n",
       " <chr> & <chr> & <chr> & <int> & <int> & <dbl> & <dbl> & <dbl> & <chr> & <dbl> & <named list> & <dbl> & <dbl>\\\\\n",
       "\\hline\n",
       "\t chrM & Control\\_Non-inflammatory       & Acute COVID-19 Mild/ASX        &  3 & 10 &  26 & 0.077000 & 0.092400 & ns  & 104151.4 & Control\\_Non-inflammatory, Acute COVID-19 Mild/ASX  & 1 & 2\\\\\n",
       "\t chrM & Control\\_Non-inflammatory       & Acute COVID-19 Moderate/Severe &  3 & 11 &  33 & 0.005000 & 0.010000 & **  & 116285.2 & Control\\_Non-inflammatory      , Acute COVID-19 Moderate/Severe & 1 & 3\\\\\n",
       "\t chrM & Control\\_Non-inflammatory       & Acute MIS-C Moderate/Severe    &  3 & 41 & 123 & 0.000151 & 0.000906 & *** & 128418.9 & Control\\_Non-inflammatory   , Acute MIS-C Moderate/Severe & 1 & 4\\\\\n",
       "\t chrM & Acute COVID-19 Mild/ASX        & Acute COVID-19 Moderate/Severe & 10 & 11 &  87 & 0.024000 & 0.036000 & *   & 140552.6 & Acute COVID-19 Mild/ASX       , Acute COVID-19 Moderate/Severe & 2 & 3\\\\\n",
       "\t chrM & Acute COVID-19 Mild/ASX        & Acute MIS-C Moderate/Severe    & 10 & 41 & 340 & 0.000822 & 0.002466 & **  & 152686.4 & Acute COVID-19 Mild/ASX    , Acute MIS-C Moderate/Severe & 2 & 4\\\\\n",
       "\t chrM & Acute COVID-19 Moderate/Severe & Acute MIS-C Moderate/Severe    & 11 & 41 & 254 & 0.536000 & 0.536000 & ns  & 164820.1 & Acute COVID-19 Moderate/Severe, Acute MIS-C Moderate/Severe    & 3 & 4\\\\\n",
       "\\end{tabular}\n"
      ],
      "text/markdown": [
       "\n",
       "A rstatix_test: 6 × 13\n",
       "\n",
       "| .y. &lt;chr&gt; | group1 &lt;chr&gt; | group2 &lt;chr&gt; | n1 &lt;int&gt; | n2 &lt;int&gt; | statistic &lt;dbl&gt; | p &lt;dbl&gt; | p.adj &lt;dbl&gt; | p.adj.signif &lt;chr&gt; | y.position &lt;dbl&gt; | groups &lt;named list&gt; | xmin &lt;dbl&gt; | xmax &lt;dbl&gt; |\n",
       "|---|---|---|---|---|---|---|---|---|---|---|---|---|\n",
       "| chrM | Control_Non-inflammatory       | Acute COVID-19 Mild/ASX        |  3 | 10 |  26 | 0.077000 | 0.092400 | ns  | 104151.4 | Control_Non-inflammatory, Acute COVID-19 Mild/ASX  | 1 | 2 |\n",
       "| chrM | Control_Non-inflammatory       | Acute COVID-19 Moderate/Severe |  3 | 11 |  33 | 0.005000 | 0.010000 | **  | 116285.2 | Control_Non-inflammatory      , Acute COVID-19 Moderate/Severe | 1 | 3 |\n",
       "| chrM | Control_Non-inflammatory       | Acute MIS-C Moderate/Severe    |  3 | 41 | 123 | 0.000151 | 0.000906 | *** | 128418.9 | Control_Non-inflammatory   , Acute MIS-C Moderate/Severe | 1 | 4 |\n",
       "| chrM | Acute COVID-19 Mild/ASX        | Acute COVID-19 Moderate/Severe | 10 | 11 |  87 | 0.024000 | 0.036000 | *   | 140552.6 | Acute COVID-19 Mild/ASX       , Acute COVID-19 Moderate/Severe | 2 | 3 |\n",
       "| chrM | Acute COVID-19 Mild/ASX        | Acute MIS-C Moderate/Severe    | 10 | 41 | 340 | 0.000822 | 0.002466 | **  | 152686.4 | Acute COVID-19 Mild/ASX    , Acute MIS-C Moderate/Severe | 2 | 4 |\n",
       "| chrM | Acute COVID-19 Moderate/Severe | Acute MIS-C Moderate/Severe    | 11 | 41 | 254 | 0.536000 | 0.536000 | ns  | 164820.1 | Acute COVID-19 Moderate/Severe, Acute MIS-C Moderate/Severe    | 3 | 4 |\n",
       "\n"
      ],
      "text/plain": [
       "  .y.  group1                         group2                         n1 n2\n",
       "1 chrM Control_Non-inflammatory       Acute COVID-19 Mild/ASX         3 10\n",
       "2 chrM Control_Non-inflammatory       Acute COVID-19 Moderate/Severe  3 11\n",
       "3 chrM Control_Non-inflammatory       Acute MIS-C Moderate/Severe     3 41\n",
       "4 chrM Acute COVID-19 Mild/ASX        Acute COVID-19 Moderate/Severe 10 11\n",
       "5 chrM Acute COVID-19 Mild/ASX        Acute MIS-C Moderate/Severe    10 41\n",
       "6 chrM Acute COVID-19 Moderate/Severe Acute MIS-C Moderate/Severe    11 41\n",
       "  statistic p        p.adj    p.adj.signif y.position\n",
       "1  26       0.077000 0.092400 ns           104151.4  \n",
       "2  33       0.005000 0.010000 **           116285.2  \n",
       "3 123       0.000151 0.000906 ***          128418.9  \n",
       "4  87       0.024000 0.036000 *            140552.6  \n",
       "5 340       0.000822 0.002466 **           152686.4  \n",
       "6 254       0.536000 0.536000 ns           164820.1  \n",
       "  groups                                                         xmin xmax\n",
       "1 Control_Non-inflammatory, Acute COVID-19 Mild/ASX              1    2   \n",
       "2 Control_Non-inflammatory      , Acute COVID-19 Moderate/Severe 1    3   \n",
       "3 Control_Non-inflammatory   , Acute MIS-C Moderate/Severe       1    4   \n",
       "4 Acute COVID-19 Mild/ASX       , Acute COVID-19 Moderate/Severe 2    3   \n",
       "5 Acute COVID-19 Mild/ASX    , Acute MIS-C Moderate/Severe       2    4   \n",
       "6 Acute COVID-19 Moderate/Severe, Acute MIS-C Moderate/Severe    3    4   "
      ]
     },
     "metadata": {},
     "output_type": "display_data"
    }
   ],
   "source": [
    "library(ggpubr)\n",
    "library(rstatix)\n",
    "\n",
    "GROUP = \"Control_Non-inflammatory\"\n",
    "\n",
    "stat.test <- data.frame(all_df) %>% \n",
    "    wilcox_test( chrM ~ expGroup_plotting, paired = FALSE) %>% \n",
    "    adjust_pvalue(method = \"BH\") %>% \n",
    "    add_significance(\"p.adj\") %>% \n",
    "    add_xy_position(x = \"expGroup_plotting\") #%>% \n",
    "    # filter(group1 %in% c(GROUP) | group2 %in% c(GROUP)  )\n",
    "\n",
    "stat.test"
   ]
  },
  {
   "cell_type": "code",
   "execution_count": null,
   "id": "b65ae9c1-57c6-420d-9119-af764384be60",
   "metadata": {},
   "outputs": [],
   "source": []
  }
 ],
 "metadata": {
  "kernelspec": {
   "display_name": "R",
   "language": "R",
   "name": "ir"
  },
  "language_info": {
   "codemirror_mode": "r",
   "file_extension": ".r",
   "mimetype": "text/x-r-source",
   "name": "R",
   "pygments_lexer": "r",
   "version": "4.1.1"
  }
 },
 "nbformat": 4,
 "nbformat_minor": 5
}
