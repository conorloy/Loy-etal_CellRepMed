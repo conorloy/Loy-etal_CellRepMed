{
 "cells": [
  {
   "cell_type": "code",
   "execution_count": 5,
   "id": "bc1a95ff-85da-44ee-a690-c85523bdc2db",
   "metadata": {
    "vscode": {
     "languageId": "r"
    }
   },
   "outputs": [],
   "source": [
    "library(tidyverse)\n",
    "gene.list = read.delim(\"/workdir/cfrna/references/human/hg38/gencode.biotype.name.key.tsv\")\n"
   ]
  },
  {
   "cell_type": "code",
   "execution_count": 7,
   "id": "c50cc0a9-fc42-4ec5-a8e6-449114d3ea2e",
   "metadata": {
    "vscode": {
     "languageId": "r"
    }
   },
   "outputs": [
    {
     "data": {
      "text/html": [
       "<table class=\"dataframe\">\n",
       "<caption>A data.frame: 6 × 130</caption>\n",
       "<thead>\n",
       "\t<tr><th></th><th scope=col>Geneid</th><th scope=col>prevail_cu_cfrna_224</th><th scope=col>prevail_cu_cfrna_202</th><th scope=col>prevail_cu_cfrna_199</th><th scope=col>prevail_cu_cfrna_204</th><th scope=col>prevail_cu_cfrna_217</th><th scope=col>prevail_cu_cfrna_216</th><th scope=col>prevail_cu_cfrna_219</th><th scope=col>prevail_cu_cfrna_205</th><th scope=col>prevail_cu_cfrna_220</th><th scope=col>⋯</th><th scope=col>prevail_cu_cfrna_195</th><th scope=col>prevail_cu_cfrna_196</th><th scope=col>prevail_cu_cfrna_197</th><th scope=col>prevail_cu_cfrna_278</th><th scope=col>prevail_cu_cfrna_272</th><th scope=col>prevail_cu_cfrna_271</th><th scope=col>prevail_cu_cfrna_270</th><th scope=col>prevail_cu_cfrna_235</th><th scope=col>prevail_cu_cfrna_269</th><th scope=col>prevail_cu_cfrna_236</th></tr>\n",
       "\t<tr><th></th><th scope=col>&lt;chr&gt;</th><th scope=col>&lt;int&gt;</th><th scope=col>&lt;int&gt;</th><th scope=col>&lt;int&gt;</th><th scope=col>&lt;int&gt;</th><th scope=col>&lt;int&gt;</th><th scope=col>&lt;int&gt;</th><th scope=col>&lt;int&gt;</th><th scope=col>&lt;int&gt;</th><th scope=col>&lt;int&gt;</th><th scope=col>⋯</th><th scope=col>&lt;int&gt;</th><th scope=col>&lt;int&gt;</th><th scope=col>&lt;int&gt;</th><th scope=col>&lt;int&gt;</th><th scope=col>&lt;int&gt;</th><th scope=col>&lt;int&gt;</th><th scope=col>&lt;int&gt;</th><th scope=col>&lt;int&gt;</th><th scope=col>&lt;int&gt;</th><th scope=col>&lt;int&gt;</th></tr>\n",
       "</thead>\n",
       "<tbody>\n",
       "\t<tr><th scope=row>1</th><td>ENSG00000223972.5</td><td>0</td><td>1</td><td>0</td><td>0</td><td>0</td><td>0</td><td>0</td><td>0</td><td>0</td><td>⋯</td><td>1</td><td>1</td><td>0</td><td>0</td><td>0</td><td>0</td><td>0</td><td>2</td><td>0</td><td>1</td></tr>\n",
       "\t<tr><th scope=row>2</th><td>ENSG00000227232.5</td><td>0</td><td>0</td><td>0</td><td>3</td><td>1</td><td>0</td><td>1</td><td>0</td><td>0</td><td>⋯</td><td>0</td><td>0</td><td>0</td><td>2</td><td>0</td><td>1</td><td>1</td><td>0</td><td>0</td><td>0</td></tr>\n",
       "\t<tr><th scope=row>3</th><td>ENSG00000278267.1</td><td>0</td><td>0</td><td>0</td><td>0</td><td>0</td><td>0</td><td>0</td><td>0</td><td>0</td><td>⋯</td><td>0</td><td>0</td><td>0</td><td>0</td><td>0</td><td>0</td><td>0</td><td>0</td><td>0</td><td>0</td></tr>\n",
       "\t<tr><th scope=row>4</th><td>ENSG00000243485.5</td><td>0</td><td>0</td><td>0</td><td>0</td><td>0</td><td>0</td><td>0</td><td>0</td><td>0</td><td>⋯</td><td>0</td><td>0</td><td>0</td><td>0</td><td>0</td><td>0</td><td>0</td><td>0</td><td>0</td><td>0</td></tr>\n",
       "\t<tr><th scope=row>5</th><td>ENSG00000284332.1</td><td>0</td><td>0</td><td>0</td><td>0</td><td>0</td><td>0</td><td>0</td><td>0</td><td>0</td><td>⋯</td><td>0</td><td>0</td><td>0</td><td>0</td><td>0</td><td>0</td><td>0</td><td>0</td><td>0</td><td>0</td></tr>\n",
       "\t<tr><th scope=row>6</th><td>ENSG00000237613.2</td><td>0</td><td>0</td><td>0</td><td>0</td><td>0</td><td>0</td><td>0</td><td>0</td><td>0</td><td>⋯</td><td>0</td><td>0</td><td>1</td><td>0</td><td>0</td><td>0</td><td>0</td><td>0</td><td>0</td><td>0</td></tr>\n",
       "</tbody>\n",
       "</table>\n"
      ],
      "text/latex": [
       "A data.frame: 6 × 130\n",
       "\\begin{tabular}{r|lllllllllllllllllllll}\n",
       "  & Geneid & prevail\\_cu\\_cfrna\\_224 & prevail\\_cu\\_cfrna\\_202 & prevail\\_cu\\_cfrna\\_199 & prevail\\_cu\\_cfrna\\_204 & prevail\\_cu\\_cfrna\\_217 & prevail\\_cu\\_cfrna\\_216 & prevail\\_cu\\_cfrna\\_219 & prevail\\_cu\\_cfrna\\_205 & prevail\\_cu\\_cfrna\\_220 & ⋯ & prevail\\_cu\\_cfrna\\_195 & prevail\\_cu\\_cfrna\\_196 & prevail\\_cu\\_cfrna\\_197 & prevail\\_cu\\_cfrna\\_278 & prevail\\_cu\\_cfrna\\_272 & prevail\\_cu\\_cfrna\\_271 & prevail\\_cu\\_cfrna\\_270 & prevail\\_cu\\_cfrna\\_235 & prevail\\_cu\\_cfrna\\_269 & prevail\\_cu\\_cfrna\\_236\\\\\n",
       "  & <chr> & <int> & <int> & <int> & <int> & <int> & <int> & <int> & <int> & <int> & ⋯ & <int> & <int> & <int> & <int> & <int> & <int> & <int> & <int> & <int> & <int>\\\\\n",
       "\\hline\n",
       "\t1 & ENSG00000223972.5 & 0 & 1 & 0 & 0 & 0 & 0 & 0 & 0 & 0 & ⋯ & 1 & 1 & 0 & 0 & 0 & 0 & 0 & 2 & 0 & 1\\\\\n",
       "\t2 & ENSG00000227232.5 & 0 & 0 & 0 & 3 & 1 & 0 & 1 & 0 & 0 & ⋯ & 0 & 0 & 0 & 2 & 0 & 1 & 1 & 0 & 0 & 0\\\\\n",
       "\t3 & ENSG00000278267.1 & 0 & 0 & 0 & 0 & 0 & 0 & 0 & 0 & 0 & ⋯ & 0 & 0 & 0 & 0 & 0 & 0 & 0 & 0 & 0 & 0\\\\\n",
       "\t4 & ENSG00000243485.5 & 0 & 0 & 0 & 0 & 0 & 0 & 0 & 0 & 0 & ⋯ & 0 & 0 & 0 & 0 & 0 & 0 & 0 & 0 & 0 & 0\\\\\n",
       "\t5 & ENSG00000284332.1 & 0 & 0 & 0 & 0 & 0 & 0 & 0 & 0 & 0 & ⋯ & 0 & 0 & 0 & 0 & 0 & 0 & 0 & 0 & 0 & 0\\\\\n",
       "\t6 & ENSG00000237613.2 & 0 & 0 & 0 & 0 & 0 & 0 & 0 & 0 & 0 & ⋯ & 0 & 0 & 1 & 0 & 0 & 0 & 0 & 0 & 0 & 0\\\\\n",
       "\\end{tabular}\n"
      ],
      "text/markdown": [
       "\n",
       "A data.frame: 6 × 130\n",
       "\n",
       "| <!--/--> | Geneid &lt;chr&gt; | prevail_cu_cfrna_224 &lt;int&gt; | prevail_cu_cfrna_202 &lt;int&gt; | prevail_cu_cfrna_199 &lt;int&gt; | prevail_cu_cfrna_204 &lt;int&gt; | prevail_cu_cfrna_217 &lt;int&gt; | prevail_cu_cfrna_216 &lt;int&gt; | prevail_cu_cfrna_219 &lt;int&gt; | prevail_cu_cfrna_205 &lt;int&gt; | prevail_cu_cfrna_220 &lt;int&gt; | ⋯ ⋯ | prevail_cu_cfrna_195 &lt;int&gt; | prevail_cu_cfrna_196 &lt;int&gt; | prevail_cu_cfrna_197 &lt;int&gt; | prevail_cu_cfrna_278 &lt;int&gt; | prevail_cu_cfrna_272 &lt;int&gt; | prevail_cu_cfrna_271 &lt;int&gt; | prevail_cu_cfrna_270 &lt;int&gt; | prevail_cu_cfrna_235 &lt;int&gt; | prevail_cu_cfrna_269 &lt;int&gt; | prevail_cu_cfrna_236 &lt;int&gt; |\n",
       "|---|---|---|---|---|---|---|---|---|---|---|---|---|---|---|---|---|---|---|---|---|---|\n",
       "| 1 | ENSG00000223972.5 | 0 | 1 | 0 | 0 | 0 | 0 | 0 | 0 | 0 | ⋯ | 1 | 1 | 0 | 0 | 0 | 0 | 0 | 2 | 0 | 1 |\n",
       "| 2 | ENSG00000227232.5 | 0 | 0 | 0 | 3 | 1 | 0 | 1 | 0 | 0 | ⋯ | 0 | 0 | 0 | 2 | 0 | 1 | 1 | 0 | 0 | 0 |\n",
       "| 3 | ENSG00000278267.1 | 0 | 0 | 0 | 0 | 0 | 0 | 0 | 0 | 0 | ⋯ | 0 | 0 | 0 | 0 | 0 | 0 | 0 | 0 | 0 | 0 |\n",
       "| 4 | ENSG00000243485.5 | 0 | 0 | 0 | 0 | 0 | 0 | 0 | 0 | 0 | ⋯ | 0 | 0 | 0 | 0 | 0 | 0 | 0 | 0 | 0 | 0 |\n",
       "| 5 | ENSG00000284332.1 | 0 | 0 | 0 | 0 | 0 | 0 | 0 | 0 | 0 | ⋯ | 0 | 0 | 0 | 0 | 0 | 0 | 0 | 0 | 0 | 0 |\n",
       "| 6 | ENSG00000237613.2 | 0 | 0 | 0 | 0 | 0 | 0 | 0 | 0 | 0 | ⋯ | 0 | 0 | 1 | 0 | 0 | 0 | 0 | 0 | 0 | 0 |\n",
       "\n"
      ],
      "text/plain": [
       "  Geneid            prevail_cu_cfrna_224 prevail_cu_cfrna_202\n",
       "1 ENSG00000223972.5 0                    1                   \n",
       "2 ENSG00000227232.5 0                    0                   \n",
       "3 ENSG00000278267.1 0                    0                   \n",
       "4 ENSG00000243485.5 0                    0                   \n",
       "5 ENSG00000284332.1 0                    0                   \n",
       "6 ENSG00000237613.2 0                    0                   \n",
       "  prevail_cu_cfrna_199 prevail_cu_cfrna_204 prevail_cu_cfrna_217\n",
       "1 0                    0                    0                   \n",
       "2 0                    3                    1                   \n",
       "3 0                    0                    0                   \n",
       "4 0                    0                    0                   \n",
       "5 0                    0                    0                   \n",
       "6 0                    0                    0                   \n",
       "  prevail_cu_cfrna_216 prevail_cu_cfrna_219 prevail_cu_cfrna_205\n",
       "1 0                    0                    0                   \n",
       "2 0                    1                    0                   \n",
       "3 0                    0                    0                   \n",
       "4 0                    0                    0                   \n",
       "5 0                    0                    0                   \n",
       "6 0                    0                    0                   \n",
       "  prevail_cu_cfrna_220 ⋯ prevail_cu_cfrna_195 prevail_cu_cfrna_196\n",
       "1 0                    ⋯ 1                    1                   \n",
       "2 0                    ⋯ 0                    0                   \n",
       "3 0                    ⋯ 0                    0                   \n",
       "4 0                    ⋯ 0                    0                   \n",
       "5 0                    ⋯ 0                    0                   \n",
       "6 0                    ⋯ 0                    0                   \n",
       "  prevail_cu_cfrna_197 prevail_cu_cfrna_278 prevail_cu_cfrna_272\n",
       "1 0                    0                    0                   \n",
       "2 0                    2                    0                   \n",
       "3 0                    0                    0                   \n",
       "4 0                    0                    0                   \n",
       "5 0                    0                    0                   \n",
       "6 1                    0                    0                   \n",
       "  prevail_cu_cfrna_271 prevail_cu_cfrna_270 prevail_cu_cfrna_235\n",
       "1 0                    0                    2                   \n",
       "2 1                    1                    0                   \n",
       "3 0                    0                    0                   \n",
       "4 0                    0                    0                   \n",
       "5 0                    0                    0                   \n",
       "6 0                    0                    0                   \n",
       "  prevail_cu_cfrna_269 prevail_cu_cfrna_236\n",
       "1 0                    1                   \n",
       "2 0                    0                   \n",
       "3 0                    0                   \n",
       "4 0                    0                   \n",
       "5 0                    0                   \n",
       "6 0                    0                   "
      ]
     },
     "metadata": {},
     "output_type": "display_data"
    },
    {
     "data": {
      "text/html": [
       "<table class=\"dataframe\">\n",
       "<caption>A data.frame: 6 × 129</caption>\n",
       "<thead>\n",
       "\t<tr><th></th><th scope=col>prevail_cu_cfrna_224</th><th scope=col>prevail_cu_cfrna_202</th><th scope=col>prevail_cu_cfrna_199</th><th scope=col>prevail_cu_cfrna_204</th><th scope=col>prevail_cu_cfrna_217</th><th scope=col>prevail_cu_cfrna_216</th><th scope=col>prevail_cu_cfrna_219</th><th scope=col>prevail_cu_cfrna_205</th><th scope=col>prevail_cu_cfrna_220</th><th scope=col>prevail_cu_cfrna_225</th><th scope=col>⋯</th><th scope=col>prevail_cu_cfrna_195</th><th scope=col>prevail_cu_cfrna_196</th><th scope=col>prevail_cu_cfrna_197</th><th scope=col>prevail_cu_cfrna_278</th><th scope=col>prevail_cu_cfrna_272</th><th scope=col>prevail_cu_cfrna_271</th><th scope=col>prevail_cu_cfrna_270</th><th scope=col>prevail_cu_cfrna_235</th><th scope=col>prevail_cu_cfrna_269</th><th scope=col>prevail_cu_cfrna_236</th></tr>\n",
       "\t<tr><th></th><th scope=col>&lt;int&gt;</th><th scope=col>&lt;int&gt;</th><th scope=col>&lt;int&gt;</th><th scope=col>&lt;int&gt;</th><th scope=col>&lt;int&gt;</th><th scope=col>&lt;int&gt;</th><th scope=col>&lt;int&gt;</th><th scope=col>&lt;int&gt;</th><th scope=col>&lt;int&gt;</th><th scope=col>&lt;int&gt;</th><th scope=col>⋯</th><th scope=col>&lt;int&gt;</th><th scope=col>&lt;int&gt;</th><th scope=col>&lt;int&gt;</th><th scope=col>&lt;int&gt;</th><th scope=col>&lt;int&gt;</th><th scope=col>&lt;int&gt;</th><th scope=col>&lt;int&gt;</th><th scope=col>&lt;int&gt;</th><th scope=col>&lt;int&gt;</th><th scope=col>&lt;int&gt;</th></tr>\n",
       "</thead>\n",
       "<tbody>\n",
       "\t<tr><th scope=row>5_8S_rRNA</th><td>0</td><td>0</td><td>1</td><td>1</td><td>0</td><td>5</td><td>2</td><td>0</td><td>6</td><td>0</td><td>⋯</td><td>2</td><td>1</td><td>9</td><td>4</td><td>1</td><td>7</td><td>3</td><td>2</td><td>2</td><td>1</td></tr>\n",
       "\t<tr><th scope=row>5S_rRNA</th><td>5</td><td>0</td><td>0</td><td>1</td><td>3</td><td>1</td><td>2</td><td>1</td><td>1</td><td>5</td><td>⋯</td><td>1</td><td>0</td><td>5</td><td>0</td><td>0</td><td>3</td><td>0</td><td>1</td><td>1</td><td>1</td></tr>\n",
       "\t<tr><th scope=row>7SK</th><td>0</td><td>0</td><td>0</td><td>0</td><td>0</td><td>0</td><td>0</td><td>0</td><td>0</td><td>0</td><td>⋯</td><td>0</td><td>0</td><td>0</td><td>0</td><td>0</td><td>0</td><td>1</td><td>0</td><td>0</td><td>0</td></tr>\n",
       "\t<tr><th scope=row>A1BG</th><td>0</td><td>0</td><td>0</td><td>1</td><td>0</td><td>0</td><td>0</td><td>0</td><td>0</td><td>0</td><td>⋯</td><td>1</td><td>0</td><td>0</td><td>0</td><td>0</td><td>0</td><td>0</td><td>0</td><td>0</td><td>0</td></tr>\n",
       "\t<tr><th scope=row>A1BG-AS1</th><td>0</td><td>1</td><td>2</td><td>0</td><td>2</td><td>0</td><td>1</td><td>0</td><td>0</td><td>0</td><td>⋯</td><td>0</td><td>3</td><td>1</td><td>0</td><td>1</td><td>1</td><td>0</td><td>0</td><td>1</td><td>1</td></tr>\n",
       "\t<tr><th scope=row>A1CF</th><td>1</td><td>4</td><td>0</td><td>1</td><td>3</td><td>2</td><td>2</td><td>1</td><td>1</td><td>1</td><td>⋯</td><td>1</td><td>1</td><td>1</td><td>0</td><td>0</td><td>0</td><td>0</td><td>0</td><td>5</td><td>0</td></tr>\n",
       "</tbody>\n",
       "</table>\n"
      ],
      "text/latex": [
       "A data.frame: 6 × 129\n",
       "\\begin{tabular}{r|lllllllllllllllllllll}\n",
       "  & prevail\\_cu\\_cfrna\\_224 & prevail\\_cu\\_cfrna\\_202 & prevail\\_cu\\_cfrna\\_199 & prevail\\_cu\\_cfrna\\_204 & prevail\\_cu\\_cfrna\\_217 & prevail\\_cu\\_cfrna\\_216 & prevail\\_cu\\_cfrna\\_219 & prevail\\_cu\\_cfrna\\_205 & prevail\\_cu\\_cfrna\\_220 & prevail\\_cu\\_cfrna\\_225 & ⋯ & prevail\\_cu\\_cfrna\\_195 & prevail\\_cu\\_cfrna\\_196 & prevail\\_cu\\_cfrna\\_197 & prevail\\_cu\\_cfrna\\_278 & prevail\\_cu\\_cfrna\\_272 & prevail\\_cu\\_cfrna\\_271 & prevail\\_cu\\_cfrna\\_270 & prevail\\_cu\\_cfrna\\_235 & prevail\\_cu\\_cfrna\\_269 & prevail\\_cu\\_cfrna\\_236\\\\\n",
       "  & <int> & <int> & <int> & <int> & <int> & <int> & <int> & <int> & <int> & <int> & ⋯ & <int> & <int> & <int> & <int> & <int> & <int> & <int> & <int> & <int> & <int>\\\\\n",
       "\\hline\n",
       "\t5\\_8S\\_rRNA & 0 & 0 & 1 & 1 & 0 & 5 & 2 & 0 & 6 & 0 & ⋯ & 2 & 1 & 9 & 4 & 1 & 7 & 3 & 2 & 2 & 1\\\\\n",
       "\t5S\\_rRNA & 5 & 0 & 0 & 1 & 3 & 1 & 2 & 1 & 1 & 5 & ⋯ & 1 & 0 & 5 & 0 & 0 & 3 & 0 & 1 & 1 & 1\\\\\n",
       "\t7SK & 0 & 0 & 0 & 0 & 0 & 0 & 0 & 0 & 0 & 0 & ⋯ & 0 & 0 & 0 & 0 & 0 & 0 & 1 & 0 & 0 & 0\\\\\n",
       "\tA1BG & 0 & 0 & 0 & 1 & 0 & 0 & 0 & 0 & 0 & 0 & ⋯ & 1 & 0 & 0 & 0 & 0 & 0 & 0 & 0 & 0 & 0\\\\\n",
       "\tA1BG-AS1 & 0 & 1 & 2 & 0 & 2 & 0 & 1 & 0 & 0 & 0 & ⋯ & 0 & 3 & 1 & 0 & 1 & 1 & 0 & 0 & 1 & 1\\\\\n",
       "\tA1CF & 1 & 4 & 0 & 1 & 3 & 2 & 2 & 1 & 1 & 1 & ⋯ & 1 & 1 & 1 & 0 & 0 & 0 & 0 & 0 & 5 & 0\\\\\n",
       "\\end{tabular}\n"
      ],
      "text/markdown": [
       "\n",
       "A data.frame: 6 × 129\n",
       "\n",
       "| <!--/--> | prevail_cu_cfrna_224 &lt;int&gt; | prevail_cu_cfrna_202 &lt;int&gt; | prevail_cu_cfrna_199 &lt;int&gt; | prevail_cu_cfrna_204 &lt;int&gt; | prevail_cu_cfrna_217 &lt;int&gt; | prevail_cu_cfrna_216 &lt;int&gt; | prevail_cu_cfrna_219 &lt;int&gt; | prevail_cu_cfrna_205 &lt;int&gt; | prevail_cu_cfrna_220 &lt;int&gt; | prevail_cu_cfrna_225 &lt;int&gt; | ⋯ ⋯ | prevail_cu_cfrna_195 &lt;int&gt; | prevail_cu_cfrna_196 &lt;int&gt; | prevail_cu_cfrna_197 &lt;int&gt; | prevail_cu_cfrna_278 &lt;int&gt; | prevail_cu_cfrna_272 &lt;int&gt; | prevail_cu_cfrna_271 &lt;int&gt; | prevail_cu_cfrna_270 &lt;int&gt; | prevail_cu_cfrna_235 &lt;int&gt; | prevail_cu_cfrna_269 &lt;int&gt; | prevail_cu_cfrna_236 &lt;int&gt; |\n",
       "|---|---|---|---|---|---|---|---|---|---|---|---|---|---|---|---|---|---|---|---|---|---|\n",
       "| 5_8S_rRNA | 0 | 0 | 1 | 1 | 0 | 5 | 2 | 0 | 6 | 0 | ⋯ | 2 | 1 | 9 | 4 | 1 | 7 | 3 | 2 | 2 | 1 |\n",
       "| 5S_rRNA | 5 | 0 | 0 | 1 | 3 | 1 | 2 | 1 | 1 | 5 | ⋯ | 1 | 0 | 5 | 0 | 0 | 3 | 0 | 1 | 1 | 1 |\n",
       "| 7SK | 0 | 0 | 0 | 0 | 0 | 0 | 0 | 0 | 0 | 0 | ⋯ | 0 | 0 | 0 | 0 | 0 | 0 | 1 | 0 | 0 | 0 |\n",
       "| A1BG | 0 | 0 | 0 | 1 | 0 | 0 | 0 | 0 | 0 | 0 | ⋯ | 1 | 0 | 0 | 0 | 0 | 0 | 0 | 0 | 0 | 0 |\n",
       "| A1BG-AS1 | 0 | 1 | 2 | 0 | 2 | 0 | 1 | 0 | 0 | 0 | ⋯ | 0 | 3 | 1 | 0 | 1 | 1 | 0 | 0 | 1 | 1 |\n",
       "| A1CF | 1 | 4 | 0 | 1 | 3 | 2 | 2 | 1 | 1 | 1 | ⋯ | 1 | 1 | 1 | 0 | 0 | 0 | 0 | 0 | 5 | 0 |\n",
       "\n"
      ],
      "text/plain": [
       "          prevail_cu_cfrna_224 prevail_cu_cfrna_202 prevail_cu_cfrna_199\n",
       "5_8S_rRNA 0                    0                    1                   \n",
       "5S_rRNA   5                    0                    0                   \n",
       "7SK       0                    0                    0                   \n",
       "A1BG      0                    0                    0                   \n",
       "A1BG-AS1  0                    1                    2                   \n",
       "A1CF      1                    4                    0                   \n",
       "          prevail_cu_cfrna_204 prevail_cu_cfrna_217 prevail_cu_cfrna_216\n",
       "5_8S_rRNA 1                    0                    5                   \n",
       "5S_rRNA   1                    3                    1                   \n",
       "7SK       0                    0                    0                   \n",
       "A1BG      1                    0                    0                   \n",
       "A1BG-AS1  0                    2                    0                   \n",
       "A1CF      1                    3                    2                   \n",
       "          prevail_cu_cfrna_219 prevail_cu_cfrna_205 prevail_cu_cfrna_220\n",
       "5_8S_rRNA 2                    0                    6                   \n",
       "5S_rRNA   2                    1                    1                   \n",
       "7SK       0                    0                    0                   \n",
       "A1BG      0                    0                    0                   \n",
       "A1BG-AS1  1                    0                    0                   \n",
       "A1CF      2                    1                    1                   \n",
       "          prevail_cu_cfrna_225 ⋯ prevail_cu_cfrna_195 prevail_cu_cfrna_196\n",
       "5_8S_rRNA 0                    ⋯ 2                    1                   \n",
       "5S_rRNA   5                    ⋯ 1                    0                   \n",
       "7SK       0                    ⋯ 0                    0                   \n",
       "A1BG      0                    ⋯ 1                    0                   \n",
       "A1BG-AS1  0                    ⋯ 0                    3                   \n",
       "A1CF      1                    ⋯ 1                    1                   \n",
       "          prevail_cu_cfrna_197 prevail_cu_cfrna_278 prevail_cu_cfrna_272\n",
       "5_8S_rRNA 9                    4                    1                   \n",
       "5S_rRNA   5                    0                    0                   \n",
       "7SK       0                    0                    0                   \n",
       "A1BG      0                    0                    0                   \n",
       "A1BG-AS1  1                    0                    1                   \n",
       "A1CF      1                    0                    0                   \n",
       "          prevail_cu_cfrna_271 prevail_cu_cfrna_270 prevail_cu_cfrna_235\n",
       "5_8S_rRNA 7                    3                    2                   \n",
       "5S_rRNA   3                    0                    1                   \n",
       "7SK       0                    1                    0                   \n",
       "A1BG      0                    0                    0                   \n",
       "A1BG-AS1  1                    0                    0                   \n",
       "A1CF      0                    0                    0                   \n",
       "          prevail_cu_cfrna_269 prevail_cu_cfrna_236\n",
       "5_8S_rRNA 2                    1                   \n",
       "5S_rRNA   1                    1                   \n",
       "7SK       0                    0                   \n",
       "A1BG      0                    0                   \n",
       "A1BG-AS1  1                    1                   \n",
       "A1CF      5                    0                   "
      ]
     },
     "metadata": {},
     "output_type": "display_data"
    }
   ],
   "source": [
    "counts = read.delim(\"./cfrna_ftcounts.txt\",row.names=1)\n",
    "df %>% head()\n",
    "\n",
    "counts_hgnc = merge(counts,gene.list[,c(\"gene_id\",\"gene_name\")],by.x=0,by.y=\"gene_id\") %>% \n",
    "    select(!Row.names) %>% \n",
    "    group_by(gene_name) %>% summarise(across(everything(),sum)) %>%\n",
    "    as.data.frame() %>%\n",
    "    column_to_rownames(\"gene_name\")\n",
    "\n"
   ]
  },
  {
   "cell_type": "code",
   "execution_count": 11,
   "id": "757c3ddc",
   "metadata": {
    "vscode": {
     "languageId": "r"
    }
   },
   "outputs": [],
   "source": [
    "counts_hgnc %>% write.table(file=\"/workdir/cjl332/0_share/misc_counts_hgnc_all.tsv\",sep=\"\\t\",quote=F,col.names=T,row.names=T)\n"
   ]
  },
  {
   "cell_type": "code",
   "execution_count": 12,
   "id": "eef6d64a-0ced-4907-b690-191ae4bdc0bf",
   "metadata": {
    "vscode": {
     "languageId": "r"
    }
   },
   "outputs": [],
   "source": [
    "mdf = read.delim(\"STable6_cfrna-samples.tsv\") %>% \n",
    "    select(cfrna_sample_id, Diagnosis, timepoint)\n",
    "mdf %>% write.table(file=\"/workdir/cjl332/0_share/misc_metadata.tsv\",sep=\"\\t\",quote=F,col.names=T,row.names=T)"
   ]
  },
  {
   "cell_type": "code",
   "execution_count": 10,
   "id": "8f815483-ba2b-4d27-b1dd-ab6e981bf042",
   "metadata": {
    "vscode": {
     "languageId": "r"
    }
   },
   "outputs": [
    {
     "data": {
      "text/html": [
       "<table class=\"dataframe\">\n",
       "<caption>A data.frame: 6 × 3</caption>\n",
       "<thead>\n",
       "\t<tr><th></th><th scope=col>TRAC</th><th scope=col>TRBC1</th><th scope=col>TRBC2</th></tr>\n",
       "\t<tr><th></th><th scope=col>&lt;int&gt;</th><th scope=col>&lt;int&gt;</th><th scope=col>&lt;int&gt;</th></tr>\n",
       "</thead>\n",
       "<tbody>\n",
       "\t<tr><th scope=row>prevail_cu_cfrna_224</th><td>10</td><td>10</td><td>26</td></tr>\n",
       "\t<tr><th scope=row>prevail_cu_cfrna_202</th><td> 2</td><td> 5</td><td> 1</td></tr>\n",
       "\t<tr><th scope=row>prevail_cu_cfrna_199</th><td> 4</td><td> 1</td><td> 5</td></tr>\n",
       "\t<tr><th scope=row>prevail_cu_cfrna_204</th><td> 5</td><td> 2</td><td> 5</td></tr>\n",
       "\t<tr><th scope=row>prevail_cu_cfrna_217</th><td>26</td><td>12</td><td>33</td></tr>\n",
       "\t<tr><th scope=row>prevail_cu_cfrna_216</th><td> 2</td><td> 2</td><td> 2</td></tr>\n",
       "</tbody>\n",
       "</table>\n"
      ],
      "text/latex": [
       "A data.frame: 6 × 3\n",
       "\\begin{tabular}{r|lll}\n",
       "  & TRAC & TRBC1 & TRBC2\\\\\n",
       "  & <int> & <int> & <int>\\\\\n",
       "\\hline\n",
       "\tprevail\\_cu\\_cfrna\\_224 & 10 & 10 & 26\\\\\n",
       "\tprevail\\_cu\\_cfrna\\_202 &  2 &  5 &  1\\\\\n",
       "\tprevail\\_cu\\_cfrna\\_199 &  4 &  1 &  5\\\\\n",
       "\tprevail\\_cu\\_cfrna\\_204 &  5 &  2 &  5\\\\\n",
       "\tprevail\\_cu\\_cfrna\\_217 & 26 & 12 & 33\\\\\n",
       "\tprevail\\_cu\\_cfrna\\_216 &  2 &  2 &  2\\\\\n",
       "\\end{tabular}\n"
      ],
      "text/markdown": [
       "\n",
       "A data.frame: 6 × 3\n",
       "\n",
       "| <!--/--> | TRAC &lt;int&gt; | TRBC1 &lt;int&gt; | TRBC2 &lt;int&gt; |\n",
       "|---|---|---|---|\n",
       "| prevail_cu_cfrna_224 | 10 | 10 | 26 |\n",
       "| prevail_cu_cfrna_202 |  2 |  5 |  1 |\n",
       "| prevail_cu_cfrna_199 |  4 |  1 |  5 |\n",
       "| prevail_cu_cfrna_204 |  5 |  2 |  5 |\n",
       "| prevail_cu_cfrna_217 | 26 | 12 | 33 |\n",
       "| prevail_cu_cfrna_216 |  2 |  2 |  2 |\n",
       "\n"
      ],
      "text/plain": [
       "                     TRAC TRBC1 TRBC2\n",
       "prevail_cu_cfrna_224 10   10    26   \n",
       "prevail_cu_cfrna_202  2    5     1   \n",
       "prevail_cu_cfrna_199  4    1     5   \n",
       "prevail_cu_cfrna_204  5    2     5   \n",
       "prevail_cu_cfrna_217 26   12    33   \n",
       "prevail_cu_cfrna_216  2    2     2   "
      ]
     },
     "metadata": {},
     "output_type": "display_data"
    }
   ],
   "source": [
    "counts_hgnc[grepl(\"TRBC|TRAC\",rownames(counts_hgnc)),] %>% t() %>% data.frame() %>% head()"
   ]
  },
  {
   "cell_type": "code",
   "execution_count": null,
   "id": "14c5c15e",
   "metadata": {
    "vscode": {
     "languageId": "r"
    }
   },
   "outputs": [],
   "source": []
  }
 ],
 "metadata": {
  "kernelspec": {
   "display_name": "R",
   "language": "R",
   "name": "ir"
  },
  "language_info": {
   "codemirror_mode": "r",
   "file_extension": ".r",
   "mimetype": "text/x-r-source",
   "name": "R",
   "pygments_lexer": "r",
   "version": "4.1.1"
  }
 },
 "nbformat": 4,
 "nbformat_minor": 5
}
