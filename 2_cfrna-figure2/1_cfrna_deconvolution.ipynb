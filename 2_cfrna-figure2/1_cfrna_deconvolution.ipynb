{
 "cells": [
  {
   "cell_type": "code",
   "execution_count": 1,
   "id": "49239ec5-f7a8-4192-aa76-9496ceb27ea7",
   "metadata": {},
   "outputs": [],
   "source": [
    "suppressMessages(library(tidyverse))\n",
    "suppressMessages(library(reshape2))\n",
    "suppressMessages(library(cowplot))\n",
    "suppressMessages(library(gridExtra))\n",
    "suppressMessages(library(hrbrthemes))\n",
    "suppressMessages(library(viridis))\n",
    "suppressMessages(library(grid))\n",
    "suppressMessages(library(rstatix))\n",
    "suppressMessages(library(ggpubr))\n",
    "suppressMessages(library(vegan))\n",
    "\n",
    "suppressMessages(source(\"../0_support-files/theme_CRP-MISC.R\"))\n",
    "\n",
    "source(\"./fig2_functions.r\")\n",
    "'%ni%' <- Negate('%in%')"
   ]
  },
  {
   "cell_type": "markdown",
   "id": "ec9206e6-2f6d-4e2a-b3a7-a0aafeb4ebab",
   "metadata": {
    "tags": []
   },
   "source": [
    "---\n",
    "## Prepare Decon data"
   ]
  },
  {
   "cell_type": "code",
   "execution_count": 2,
   "id": "edb5dd89-c450-4f23-819e-29533a8884c1",
   "metadata": {},
   "outputs": [
    {
     "name": "stderr",
     "output_type": "stream",
     "text": [
      "\u001b[1m\u001b[22m`summarise()` has grouped output by 'celltype', 'Diagnosis', 'timepoint', 'group', 'PTID', 'cfrna_sample_id',\n",
      "'severity', 'reads_sequenced', 'feature_counts', 'intron_exon_ratio', 'bias53', 'rRNA_reads', 'ivig',\n",
      "'days_ivig_before_samp', 'ivig_rel_samp', 'expGroup', 'n', 'plottingName'. You can override using the\n",
      "`.groups` argument.\n"
     ]
    }
   ],
   "source": [
    "##------------------------------------\n",
    "## READ AND WRANGLE DATA\n",
    "##------------------------------------\n",
    "\n",
    "## Deconvolution results\n",
    "results = read.csv(\"../1_sample-data/cfrna_deconvolution.csv\",row.names=1)\n",
    "\n",
    "## Read in meta data\n",
    "meta_data <- read.csv(\"../1_sample-data/STable6_cfrna-samples.csv\")\n",
    "\n",
    "meta_data$expGroup = paste(meta_data$Diagnosis,meta_data$timepoint,meta_data$group,sep=\" \")\n",
    "meta_data$expGroup <- gsub(\"other \",\"\",meta_data$expGroup)\n",
    "meta_data$expGroup <- gsub(\"Control_Non-inflammatory\",\"Control\",meta_data$expGroup)\n",
    "\n",
    "## Create Plotting name\n",
    "sum_tab <- meta_data %>% group_by(Diagnosis,timepoint,group) %>% count()\n",
    "sum_tab <- sum_tab %>% mutate(plottingName = paste0(Diagnosis,\"\\n\",timepoint,\"\\n\",group,\"\\nn=\",as.character(n)))\n",
    "\n",
    "meta_data <- merge(meta_data,sum_tab,by=c(\"Diagnosis\",\"timepoint\",\"group\"))\n",
    "\n",
    "pn_factor_order <- c()\n",
    "all_pns <- sum_tab$plottingName\n",
    "pn_factor_order <- c(pn_factor_order,all_pns[grepl(\"Control\",all_pns)])\n",
    "\n",
    "for (i in c(\"COVID-19\",\"MIS-C\")){\n",
    "    for (ii in c(\"acute\",\"post-acute\",\"1m\",\"3m\")){\n",
    "        pn_factor_order <- c(pn_factor_order,all_pns[grepl(paste0(i,\"\\n\",ii),all_pns)])\n",
    "    }}\n",
    "meta_data$plottingName <- factor(meta_data$plottingName,levels= pn_factor_order)\n",
    "\n",
    "meta_data <- meta_data %>% filter(!is.na(plottingName))\n",
    "\n",
    "## Merge & melt\n",
    "cols <- colnames(meta_data)\n",
    "IDVARS = cols[!(cols %in% colnames(results))]\n",
    "\n",
    "df_melt <- melt(meta_data,id.vars=IDVARS)\n",
    "i = length(IDVARS)\n",
    "colnames(df_melt)[(i+1):(i+2)] <- c(\"celltype\",\"fraction\")\n",
    "\n",
    "\n",
    "##------------------------------------\n",
    "## GROUP AND RELABEL CELLTYPES\n",
    "##------------------------------------\n",
    "\n",
    "group = list(\"Myeloid Progenitor\" = c(\"Myeloid.progenitor\"),\n",
    "             \"Erythrocyte/Erythroid Progenitor\" = c(\"Erythrocyte.erythroid.progenitor\"),\n",
    "             \"Intestinal Epithelial\" = c(\"Intestinal.tuft.cell\",\"Intestinal.enterocyte\"),\n",
    "             \"T Cell / NK Cell\" = c(\"T.Cell\",\"NK.Cell\"),\n",
    "            \"Kidney Epithelial Cell\" = c(\"Kidney.epithelial.cell\"),\n",
    "            \"Endothelial Cell\" = c(\"Endothelial.cell\"),\n",
    "             \"Neutrophil\" = c(\"neutrophil\"),\n",
    "             \"Platelet\" = c(\"Platelet\"),\n",
    "             \"Monocyte\" = c(\"Monocyte\"),\n",
    "             \"Thymocyte\" = c(\"Thymocyte\")\n",
    "            )\n",
    "\n",
    "## create dataframe\n",
    "df2 <- stack(group) \n",
    "colnames(df2) <- c(\"celltype\",\"new_celltype\")\n",
    "\n",
    "#3 merge and fix nas\n",
    "df_melt2 <- merge(df_melt,df2,all.x=TRUE)\n",
    "df_melt2$new_celltype <- as.character(df_melt2$new_celltype)\n",
    "df_melt_all <- df_melt2                                                     ### SAVE FOR LATER PLOTTING\n",
    "df_melt2[is.na(df_melt2$new_celltype),\"new_celltype\"] <- \"other\"\n",
    "\n",
    "## Save as main table\n",
    "df_melt2$celltype <- df_melt2$new_celltype\n",
    "df_melt2 <- df_melt2 %>% group_by(across(c(-fraction))) %>% summarize(fraction = sum(fraction))\n",
    "\n",
    "df_melt <- df_melt2\n",
    "\n",
    "## New pallette\n",
    "val_vector = c('#0234C1','#740C33','#4b7a47','#FB927F','#5CFBF4','#DBB008','#86C35E','#4D5D0D','#2BBBB3','#B27DF2','#1362AB')\n",
    "labels <- c('Platelet','Erythrocyte/Erythroid Progenitor','Neutrophil','Myeloid Progenitor','Intestinal Epithelial','Monocyte', 'Endothelial Cell'\n",
    "            ,'Thymocyte', 'Kidney Epithelial Cell', 'T Cell / NK Cell',\"other\")\n",
    "\n",
    "## REFACTOR BASED ON PREVELANCE\n",
    "sum <- df_melt %>% filter(Diagnosis == \"MIS-C\" & timepoint == \"acute\") %>% group_by(celltype) %>% summarize(mean=mean(fraction))\n",
    "sum <- sum[order(sum$mean,decreasing=TRUE),]\n",
    "\n",
    "labels = sum$celltype\n",
    "\n",
    "labels <- as.character(labels[labels != \"other\"])\n",
    "labels <- c(labels,\"other\")\n",
    "\n",
    "names(val_vector) = labels\n",
    "\n"
   ]
  },
  {
   "cell_type": "markdown",
   "id": "9b0a65ca-b207-4b26-aac4-035e85807800",
   "metadata": {
    "jp-MarkdownHeadingCollapsed": true,
    "tags": []
   },
   "source": [
    "---\n",
    "## Panel B - Stacked area plots"
   ]
  },
  {
   "cell_type": "code",
   "execution_count": 3,
   "id": "ac8c8479-bbdb-485a-9c07-468fe7453912",
   "metadata": {},
   "outputs": [
    {
     "name": "stderr",
     "output_type": "stream",
     "text": [
      "\u001b[1m\u001b[22m`summarise()` has grouped output by 'plottingName'. You can override using the `.groups` argument.\n",
      "\u001b[1m\u001b[22m`summarise()` has grouped output by 'plottingName'. You can override using the `.groups` argument.\n",
      "\u001b[1m\u001b[22m`summarise()` has grouped output by 'plottingName'. You can override using the `.groups` argument.\n",
      "\u001b[1m\u001b[22m`summarise()` has grouped output by 'plottingName'. You can override using the `.groups` argument.\n"
     ]
    },
    {
     "name": "stdout",
     "output_type": "stream",
     "text": [
      "TableGrob (1 x 4) \"arrange\": 3 grobs\n",
      "  z     cells    name           grob\n",
      "1 1 (1-1,1-1) arrange gtable[layout]\n",
      "2 2 (1-1,2-3) arrange gtable[layout]\n",
      "3 3 (1-1,4-4) arrange gtable[layout]\n"
     ]
    },
    {
     "data": {
      "text/html": [
       "<strong>png:</strong> 2"
      ],
      "text/latex": [
       "\\textbf{png:} 2"
      ],
      "text/markdown": [
       "**png:** 2"
      ],
      "text/plain": [
       "png \n",
       "  2 "
      ]
     },
     "metadata": {},
     "output_type": "display_data"
    },
    {
     "name": "stdout",
     "output_type": "stream",
     "text": [
      "TableGrob (1 x 4) \"arrange\": 3 grobs\n",
      "  z     cells    name           grob\n",
      "1 1 (1-1,1-1) arrange gtable[layout]\n",
      "2 2 (1-1,2-3) arrange gtable[layout]\n",
      "3 3 (1-1,4-4) arrange gtable[layout]\n"
     ]
    },
    {
     "data": {
      "text/html": [
       "<strong>png:</strong> 2"
      ],
      "text/latex": [
       "\\textbf{png:} 2"
      ],
      "text/markdown": [
       "**png:** 2"
      ],
      "text/plain": [
       "png \n",
       "  2 "
      ]
     },
     "metadata": {},
     "output_type": "display_data"
    },
    {
     "name": "stdout",
     "output_type": "stream",
     "text": [
      "TableGrob (1 x 1) \"arrange\": 1 grobs\n",
      "  z     cells    name              grob\n",
      "1 1 (1-1,1-1) arrange gtable[guide-box]\n"
     ]
    },
    {
     "data": {
      "text/html": [
       "<strong>png:</strong> 2"
      ],
      "text/latex": [
       "\\textbf{png:} 2"
      ],
      "text/markdown": [
       "**png:** 2"
      ],
      "text/plain": [
       "png \n",
       "  2 "
      ]
     },
     "metadata": {},
     "output_type": "display_data"
    }
   ],
   "source": [
    "##------------------------------------\n",
    "## PLOT\n",
    "##------------------------------------\n",
    "\n",
    "maxY = 1\n",
    "severity = FALSE\n",
    "\n",
    "HEIGHT = 1.45\n",
    "WIDTH =3.95\n",
    "WIDTH =3.25\n",
    "\n",
    "df_melt_npa <- df_melt %>% filter(timepoint != \"post-acute\")\n",
    "\n",
    "all_plts <- get_all_plots(df_melt_npa,val_vector,maxY,severity)\n",
    "\n",
    "\n",
    "## MIS-C\n",
    "\n",
    "pdf(file=paste0(\"plots/panelB_misc.pdf\"),\n",
    "        width=WIDTH,height=HEIGHT, paper=\"special\", bg=\"white\",\n",
    "        fonts=\"Helvetica\", colormodel = \"srgb\", pointsize=6, useDingbats = FALSE)\n",
    "\n",
    "    lay <- rbind(c(1,2,2,3))\n",
    "\n",
    "    all_plt <- grid.arrange(all_plts[[1]], all_plts[[2]], all_plts[[4]], layout_matrix = lay)\n",
    "    print(all_plt)\n",
    "\n",
    "dev.off()\n",
    "\n",
    "\n",
    "## COVID-19\n",
    "\n",
    "pdf(file=paste0(\"plots/panelB_covid.pdf\"),\n",
    "        width=WIDTH,height=HEIGHT, paper=\"special\", bg=\"white\",\n",
    "        fonts=\"Helvetica\", colormodel = \"srgb\", pointsize=6, useDingbats = FALSE)\n",
    "\n",
    "    lay <- rbind(c(1,2,2,3))\n",
    "                 \n",
    "    all_plt <- grid.arrange(all_plts[[1]], all_plts[[3]], all_plts[[4]], layout_matrix = lay)\n",
    "    print(all_plt)\n",
    "\n",
    "dev.off()\n",
    "\n",
    "## LEGEND\n",
    "\n",
    "pdf(file=paste0(\"plots/panelB_legend.pdf\"),\n",
    "        width=4.5,height=1.2, paper=\"special\", bg=\"white\",\n",
    "        fonts=\"Helvetica\", colormodel = \"srgb\", pointsize=6, useDingbats = FALSE)\n",
    "\n",
    "    leg_plt <- all_plts[[5]]\n",
    "#     leg_plt <- leg_plt + theme(legend.title = element_blank(),\n",
    "#                                     legend.text = element_text(family=\"Helvetica\", size=6, color='black'))\n",
    "    leg_plt <- grid.arrange(leg_plt)\n",
    "    print(leg_plt)\n",
    "\n",
    "dev.off()"
   ]
  },
  {
   "cell_type": "markdown",
   "id": "563bf150-3bc0-4cc3-859d-7f8d805adea9",
   "metadata": {
    "jp-MarkdownHeadingCollapsed": true,
    "tags": []
   },
   "source": [
    "----\n",
    "## Panel C - Boxplots (sup panel A)"
   ]
  },
  {
   "cell_type": "code",
   "execution_count": 4,
   "id": "8fd965cb-ea41-4d65-8da8-125ca189e92f",
   "metadata": {},
   "outputs": [
    {
     "name": "stdout",
     "output_type": "stream",
     "text": [
      "\u001b[90m# A tibble: 4 × 13\u001b[39m\n",
      "  .y.      group1      group2    n1    n2 statistic       p   p.adj p.adj.signif\n",
      "  \u001b[3m\u001b[90m<chr>\u001b[39m\u001b[23m    \u001b[3m\u001b[90m<chr>\u001b[39m\u001b[23m       \u001b[3m\u001b[90m<chr>\u001b[39m\u001b[23m  \u001b[3m\u001b[90m<int>\u001b[39m\u001b[23m \u001b[3m\u001b[90m<int>\u001b[39m\u001b[23m     \u001b[3m\u001b[90m<dbl>\u001b[39m\u001b[23m   \u001b[3m\u001b[90m<dbl>\u001b[39m\u001b[23m   \u001b[3m\u001b[90m<dbl>\u001b[39m\u001b[23m \u001b[3m\u001b[90m<chr>\u001b[39m\u001b[23m       \n",
      "\u001b[90m1\u001b[39m fraction Control_No… COVID…    13    18        79 1.35\u001b[90me\u001b[39m\u001b[31m-1\u001b[39m 0.18    ns          \n",
      "\u001b[90m2\u001b[39m fraction Control_No… MIS-C…    13    35        78 2.91\u001b[90me\u001b[39m\u001b[31m-4\u001b[39m 0.001\u001b[4m1\u001b[24m\u001b[4m6\u001b[24m **          \n",
      "\u001b[90m3\u001b[39m fraction COVID-19 a… MIS-C…    18    35       193 2.1 \u001b[90me\u001b[39m\u001b[31m-2\u001b[39m 0.042   *           \n",
      "\u001b[90m4\u001b[39m fraction MIS-C acut… MIS-C…    35    21       411 4.7 \u001b[90me\u001b[39m\u001b[31m-1\u001b[39m 0.47    ns          \n",
      "\u001b[90m# … with 4 more variables: y.position <dbl>, groups <named list>, xmin <dbl>,\u001b[39m\n",
      "\u001b[90m#   xmax <dbl>\u001b[39m\n"
     ]
    },
    {
     "data": {
      "text/html": [
       "<strong>png:</strong> 2"
      ],
      "text/latex": [
       "\\textbf{png:} 2"
      ],
      "text/markdown": [
       "**png:** 2"
      ],
      "text/plain": [
       "png \n",
       "  2 "
      ]
     },
     "metadata": {},
     "output_type": "display_data"
    },
    {
     "name": "stdout",
     "output_type": "stream",
     "text": [
      "\u001b[90m# A tibble: 4 × 13\u001b[39m\n",
      "  .y.      group1    group2    n1    n2 statistic        p    p.adj p.adj.signif\n",
      "  \u001b[3m\u001b[90m<chr>\u001b[39m\u001b[23m    \u001b[3m\u001b[90m<chr>\u001b[39m\u001b[23m     \u001b[3m\u001b[90m<chr>\u001b[39m\u001b[23m  \u001b[3m\u001b[90m<int>\u001b[39m\u001b[23m \u001b[3m\u001b[90m<int>\u001b[39m\u001b[23m     \u001b[3m\u001b[90m<dbl>\u001b[39m\u001b[23m    \u001b[3m\u001b[90m<dbl>\u001b[39m\u001b[23m    \u001b[3m\u001b[90m<dbl>\u001b[39m\u001b[23m \u001b[3m\u001b[90m<chr>\u001b[39m\u001b[23m       \n",
      "\u001b[90m1\u001b[39m fraction Control_… COVID…    13    18        38 1   \u001b[90me\u001b[39m\u001b[31m- 3\u001b[39m 1.33\u001b[90me\u001b[39m\u001b[31m- 3\u001b[39m **          \n",
      "\u001b[90m2\u001b[39m fraction Control_… MIS-C…    13    35         4 1.24\u001b[90me\u001b[39m\u001b[31m-10\u001b[39m 4.96\u001b[90me\u001b[39m\u001b[31m-10\u001b[39m ****        \n",
      "\u001b[90m3\u001b[39m fraction COVID-19… MIS-C…    18    35       130 3.35\u001b[90me\u001b[39m\u001b[31m- 4\u001b[39m 6.7 \u001b[90me\u001b[39m\u001b[31m- 4\u001b[39m ***         \n",
      "\u001b[90m4\u001b[39m fraction MIS-C ac… MIS-C…    35    21       247 4.2 \u001b[90me\u001b[39m\u001b[31m- 2\u001b[39m 4.2 \u001b[90me\u001b[39m\u001b[31m- 2\u001b[39m *           \n",
      "\u001b[90m# … with 4 more variables: y.position <dbl>, groups <named list>, xmin <dbl>,\u001b[39m\n",
      "\u001b[90m#   xmax <dbl>\u001b[39m\n"
     ]
    },
    {
     "data": {
      "text/html": [
       "<strong>png:</strong> 2"
      ],
      "text/latex": [
       "\\textbf{png:} 2"
      ],
      "text/markdown": [
       "**png:** 2"
      ],
      "text/plain": [
       "png \n",
       "  2 "
      ]
     },
     "metadata": {},
     "output_type": "display_data"
    },
    {
     "name": "stdout",
     "output_type": "stream",
     "text": [
      "\u001b[90m# A tibble: 4 × 13\u001b[39m\n",
      "  .y.    group1 group2    n1    n2 statistic     p p.adj p.adj.signif y.position\n",
      "  \u001b[3m\u001b[90m<chr>\u001b[39m\u001b[23m  \u001b[3m\u001b[90m<chr>\u001b[39m\u001b[23m  \u001b[3m\u001b[90m<chr>\u001b[39m\u001b[23m  \u001b[3m\u001b[90m<int>\u001b[39m\u001b[23m \u001b[3m\u001b[90m<int>\u001b[39m\u001b[23m     \u001b[3m\u001b[90m<dbl>\u001b[39m\u001b[23m \u001b[3m\u001b[90m<dbl>\u001b[39m\u001b[23m \u001b[3m\u001b[90m<dbl>\u001b[39m\u001b[23m \u001b[3m\u001b[90m<chr>\u001b[39m\u001b[23m             \u001b[3m\u001b[90m<dbl>\u001b[39m\u001b[23m\n",
      "\u001b[90m1\u001b[39m fract… Contr… COVID…    13    18        91 0.312 0.401 ns               0.028\u001b[4m4\u001b[24m\n",
      "\u001b[90m2\u001b[39m fract… Contr… MIS-C…    13    35       102 0.003 0.012 *                0.031\u001b[4m3\u001b[24m\n",
      "\u001b[90m3\u001b[39m fract… COVID… MIS-C…    18    35       193 0.021 0.042 *                0.037\u001b[4m0\u001b[24m\n",
      "\u001b[90m4\u001b[39m fract… MIS-C… MIS-C…    35    21       418 0.401 0.401 ns               0.042\u001b[4m8\u001b[24m\n",
      "\u001b[90m# … with 3 more variables: groups <named list>, xmin <dbl>, xmax <dbl>\u001b[39m\n"
     ]
    },
    {
     "data": {
      "text/html": [
       "<strong>png:</strong> 2"
      ],
      "text/latex": [
       "\\textbf{png:} 2"
      ],
      "text/markdown": [
       "**png:** 2"
      ],
      "text/plain": [
       "png \n",
       "  2 "
      ]
     },
     "metadata": {},
     "output_type": "display_data"
    },
    {
     "name": "stdout",
     "output_type": "stream",
     "text": [
      "\u001b[90m# A tibble: 4 × 13\u001b[39m\n",
      "  .y.      group1       group2    n1    n2 statistic      p   p.adj p.adj.signif\n",
      "  \u001b[3m\u001b[90m<chr>\u001b[39m\u001b[23m    \u001b[3m\u001b[90m<chr>\u001b[39m\u001b[23m        \u001b[3m\u001b[90m<chr>\u001b[39m\u001b[23m  \u001b[3m\u001b[90m<int>\u001b[39m\u001b[23m \u001b[3m\u001b[90m<int>\u001b[39m\u001b[23m     \u001b[3m\u001b[90m<dbl>\u001b[39m\u001b[23m  \u001b[3m\u001b[90m<dbl>\u001b[39m\u001b[23m   \u001b[3m\u001b[90m<dbl>\u001b[39m\u001b[23m \u001b[3m\u001b[90m<chr>\u001b[39m\u001b[23m       \n",
      "\u001b[90m1\u001b[39m fraction Control_Non… COVID…    13    18        46 4  \u001b[90me\u001b[39m\u001b[31m-3\u001b[39m 5.33\u001b[90me\u001b[39m\u001b[31m-3\u001b[39m **          \n",
      "\u001b[90m2\u001b[39m fraction Control_Non… MIS-C…    13    35        31 3.2\u001b[90me\u001b[39m\u001b[31m-7\u001b[39m 1.28\u001b[90me\u001b[39m\u001b[31m-6\u001b[39m ****        \n",
      "\u001b[90m3\u001b[39m fraction COVID-19 ac… MIS-C…    18    35       151 2  \u001b[90me\u001b[39m\u001b[31m-3\u001b[39m 4   \u001b[90me\u001b[39m\u001b[31m-3\u001b[39m **          \n",
      "\u001b[90m4\u001b[39m fraction MIS-C acute… MIS-C…    35    21       417 4.1\u001b[90me\u001b[39m\u001b[31m-1\u001b[39m 4.1 \u001b[90me\u001b[39m\u001b[31m-1\u001b[39m ns          \n",
      "\u001b[90m# … with 4 more variables: y.position <dbl>, groups <named list>, xmin <dbl>,\u001b[39m\n",
      "\u001b[90m#   xmax <dbl>\u001b[39m\n"
     ]
    },
    {
     "data": {
      "text/html": [
       "<strong>png:</strong> 2"
      ],
      "text/latex": [
       "\\textbf{png:} 2"
      ],
      "text/markdown": [
       "**png:** 2"
      ],
      "text/plain": [
       "png \n",
       "  2 "
      ]
     },
     "metadata": {},
     "output_type": "display_data"
    },
    {
     "name": "stdout",
     "output_type": "stream",
     "text": [
      "\u001b[90m# A tibble: 4 × 13\u001b[39m\n",
      "  .y.      group1      group2    n1    n2 statistic       p   p.adj p.adj.signif\n",
      "  \u001b[3m\u001b[90m<chr>\u001b[39m\u001b[23m    \u001b[3m\u001b[90m<chr>\u001b[39m\u001b[23m       \u001b[3m\u001b[90m<chr>\u001b[39m\u001b[23m  \u001b[3m\u001b[90m<int>\u001b[39m\u001b[23m \u001b[3m\u001b[90m<int>\u001b[39m\u001b[23m     \u001b[3m\u001b[90m<dbl>\u001b[39m\u001b[23m   \u001b[3m\u001b[90m<dbl>\u001b[39m\u001b[23m   \u001b[3m\u001b[90m<dbl>\u001b[39m\u001b[23m \u001b[3m\u001b[90m<chr>\u001b[39m\u001b[23m       \n",
      "\u001b[90m1\u001b[39m fraction Control_No… COVID…    13    18        40 1   \u001b[90me\u001b[39m\u001b[31m-3\u001b[39m 2   \u001b[90me\u001b[39m\u001b[31m-3\u001b[39m **          \n",
      "\u001b[90m2\u001b[39m fraction Control_No… MIS-C…    13    35        35 6.92\u001b[90me\u001b[39m\u001b[31m-7\u001b[39m 2.77\u001b[90me\u001b[39m\u001b[31m-6\u001b[39m ****        \n",
      "\u001b[90m3\u001b[39m fraction COVID-19 a… MIS-C…    18    35       163 4   \u001b[90me\u001b[39m\u001b[31m-3\u001b[39m 5.33\u001b[90me\u001b[39m\u001b[31m-3\u001b[39m **          \n",
      "\u001b[90m4\u001b[39m fraction MIS-C acut… MIS-C…    35    21       392 6.87\u001b[90me\u001b[39m\u001b[31m-1\u001b[39m 6.87\u001b[90me\u001b[39m\u001b[31m-1\u001b[39m ns          \n",
      "\u001b[90m# … with 4 more variables: y.position <dbl>, groups <named list>, xmin <dbl>,\u001b[39m\n",
      "\u001b[90m#   xmax <dbl>\u001b[39m\n"
     ]
    },
    {
     "data": {
      "text/html": [
       "<strong>png:</strong> 2"
      ],
      "text/latex": [
       "\\textbf{png:} 2"
      ],
      "text/markdown": [
       "**png:** 2"
      ],
      "text/plain": [
       "png \n",
       "  2 "
      ]
     },
     "metadata": {},
     "output_type": "display_data"
    },
    {
     "name": "stdout",
     "output_type": "stream",
     "text": [
      "\u001b[90m# A tibble: 4 × 13\u001b[39m\n",
      "  .y.      group1      group2    n1    n2 statistic       p   p.adj p.adj.signif\n",
      "  \u001b[3m\u001b[90m<chr>\u001b[39m\u001b[23m    \u001b[3m\u001b[90m<chr>\u001b[39m\u001b[23m       \u001b[3m\u001b[90m<chr>\u001b[39m\u001b[23m  \u001b[3m\u001b[90m<int>\u001b[39m\u001b[23m \u001b[3m\u001b[90m<int>\u001b[39m\u001b[23m     \u001b[3m\u001b[90m<dbl>\u001b[39m\u001b[23m   \u001b[3m\u001b[90m<dbl>\u001b[39m\u001b[23m   \u001b[3m\u001b[90m<dbl>\u001b[39m\u001b[23m \u001b[3m\u001b[90m<chr>\u001b[39m\u001b[23m       \n",
      "\u001b[90m1\u001b[39m fraction Control_No… COVID…    13    18       158 1.06\u001b[90me\u001b[39m\u001b[31m-1\u001b[39m 1.06\u001b[90me\u001b[39m\u001b[31m-1\u001b[39m ns          \n",
      "\u001b[90m2\u001b[39m fraction Control_No… MIS-C…    13    35       397 2.61\u001b[90me\u001b[39m\u001b[31m-5\u001b[39m 1.04\u001b[90me\u001b[39m\u001b[31m-4\u001b[39m ***         \n",
      "\u001b[90m3\u001b[39m fraction COVID-19 a… MIS-C…    18    35       440 1.8 \u001b[90me\u001b[39m\u001b[31m-2\u001b[39m 3.6 \u001b[90me\u001b[39m\u001b[31m-2\u001b[39m *           \n",
      "\u001b[90m4\u001b[39m fraction MIS-C acut… MIS-C…    35    21       243 3.5 \u001b[90me\u001b[39m\u001b[31m-2\u001b[39m 4.67\u001b[90me\u001b[39m\u001b[31m-2\u001b[39m *           \n",
      "\u001b[90m# … with 4 more variables: y.position <dbl>, groups <named list>, xmin <dbl>,\u001b[39m\n",
      "\u001b[90m#   xmax <dbl>\u001b[39m\n"
     ]
    },
    {
     "data": {
      "text/html": [
       "<strong>png:</strong> 2"
      ],
      "text/latex": [
       "\\textbf{png:} 2"
      ],
      "text/markdown": [
       "**png:** 2"
      ],
      "text/plain": [
       "png \n",
       "  2 "
      ]
     },
     "metadata": {},
     "output_type": "display_data"
    },
    {
     "name": "stdout",
     "output_type": "stream",
     "text": [
      "\u001b[90m# A tibble: 4 × 13\u001b[39m\n",
      "  .y.    group1 group2    n1    n2 statistic     p p.adj p.adj.signif y.position\n",
      "  \u001b[3m\u001b[90m<chr>\u001b[39m\u001b[23m  \u001b[3m\u001b[90m<chr>\u001b[39m\u001b[23m  \u001b[3m\u001b[90m<chr>\u001b[39m\u001b[23m  \u001b[3m\u001b[90m<int>\u001b[39m\u001b[23m \u001b[3m\u001b[90m<int>\u001b[39m\u001b[23m     \u001b[3m\u001b[90m<dbl>\u001b[39m\u001b[23m \u001b[3m\u001b[90m<dbl>\u001b[39m\u001b[23m \u001b[3m\u001b[90m<dbl>\u001b[39m\u001b[23m \u001b[3m\u001b[90m<chr>\u001b[39m\u001b[23m             \u001b[3m\u001b[90m<dbl>\u001b[39m\u001b[23m\n",
      "\u001b[90m1\u001b[39m fract… Contr… COVID…    13    18        91 0.312 0.416 ns              0.005\u001b[4m6\u001b[24m \n",
      "\u001b[90m2\u001b[39m fract… Contr… MIS-C…    13    35       101 0.003 0.012 *               0.006\u001b[4m3\u001b[24m\u001b[4m2\u001b[24m\n",
      "\u001b[90m3\u001b[39m fract… COVID… MIS-C…    18    35       201 0.032 0.064 ns              0.007\u001b[4m7\u001b[24m\u001b[4m6\u001b[24m\n",
      "\u001b[90m4\u001b[39m fract… MIS-C… MIS-C…    35    21       362 0.933 0.933 ns              0.009\u001b[4m2\u001b[24m \n",
      "\u001b[90m# … with 3 more variables: groups <named list>, xmin <dbl>, xmax <dbl>\u001b[39m\n"
     ]
    },
    {
     "data": {
      "text/html": [
       "<strong>png:</strong> 2"
      ],
      "text/latex": [
       "\\textbf{png:} 2"
      ],
      "text/markdown": [
       "**png:** 2"
      ],
      "text/plain": [
       "png \n",
       "  2 "
      ]
     },
     "metadata": {},
     "output_type": "display_data"
    },
    {
     "name": "stdout",
     "output_type": "stream",
     "text": [
      "\u001b[90m# A tibble: 4 × 13\u001b[39m\n",
      "  .y.    group1 group2    n1    n2 statistic     p p.adj p.adj.signif y.position\n",
      "  \u001b[3m\u001b[90m<chr>\u001b[39m\u001b[23m  \u001b[3m\u001b[90m<chr>\u001b[39m\u001b[23m  \u001b[3m\u001b[90m<chr>\u001b[39m\u001b[23m  \u001b[3m\u001b[90m<int>\u001b[39m\u001b[23m \u001b[3m\u001b[90m<int>\u001b[39m\u001b[23m     \u001b[3m\u001b[90m<dbl>\u001b[39m\u001b[23m \u001b[3m\u001b[90m<dbl>\u001b[39m\u001b[23m \u001b[3m\u001b[90m<dbl>\u001b[39m\u001b[23m \u001b[3m\u001b[90m<chr>\u001b[39m\u001b[23m             \u001b[3m\u001b[90m<dbl>\u001b[39m\u001b[23m\n",
      "\u001b[90m1\u001b[39m fract… Contr… COVID…    13    18        88 0.258 0.344 ns               0.025\u001b[4m0\u001b[24m\n",
      "\u001b[90m2\u001b[39m fract… Contr… MIS-C…    13    35       119 0.011 0.044 *                0.027\u001b[4m5\u001b[24m\n",
      "\u001b[90m3\u001b[39m fract… COVID… MIS-C…    18    35       248 0.214 0.344 ns               0.032\u001b[4m4\u001b[24m\n",
      "\u001b[90m4\u001b[39m fract… MIS-C… MIS-C…    35    21       348 0.75  0.75  ns               0.037\u001b[4m3\u001b[24m\n",
      "\u001b[90m# … with 3 more variables: groups <named list>, xmin <dbl>, xmax <dbl>\u001b[39m\n"
     ]
    },
    {
     "data": {
      "text/html": [
       "<strong>png:</strong> 2"
      ],
      "text/latex": [
       "\\textbf{png:} 2"
      ],
      "text/markdown": [
       "**png:** 2"
      ],
      "text/plain": [
       "png \n",
       "  2 "
      ]
     },
     "metadata": {},
     "output_type": "display_data"
    },
    {
     "name": "stdout",
     "output_type": "stream",
     "text": [
      "\u001b[90m# A tibble: 4 × 13\u001b[39m\n",
      "  .y.    group1 group2    n1    n2 statistic     p p.adj p.adj.signif y.position\n",
      "  \u001b[3m\u001b[90m<chr>\u001b[39m\u001b[23m  \u001b[3m\u001b[90m<chr>\u001b[39m\u001b[23m  \u001b[3m\u001b[90m<chr>\u001b[39m\u001b[23m  \u001b[3m\u001b[90m<int>\u001b[39m\u001b[23m \u001b[3m\u001b[90m<int>\u001b[39m\u001b[23m     \u001b[3m\u001b[90m<dbl>\u001b[39m\u001b[23m \u001b[3m\u001b[90m<dbl>\u001b[39m\u001b[23m \u001b[3m\u001b[90m<dbl>\u001b[39m\u001b[23m \u001b[3m\u001b[90m<chr>\u001b[39m\u001b[23m             \u001b[3m\u001b[90m<dbl>\u001b[39m\u001b[23m\n",
      "\u001b[90m1\u001b[39m fract… Contr… COVID…    13    18       127 0.708 0.708 ns                0.210\n",
      "\u001b[90m2\u001b[39m fract… Contr… MIS-C…    13    35       306 0.07  0.28  ns                0.230\n",
      "\u001b[90m3\u001b[39m fract… COVID… MIS-C…    18    35       382 0.214 0.428 ns                0.270\n",
      "\u001b[90m4\u001b[39m fract… MIS-C… MIS-C…    35    21       343 0.687 0.708 ns                0.311\n",
      "\u001b[90m# … with 3 more variables: groups <named list>, xmin <dbl>, xmax <dbl>\u001b[39m\n"
     ]
    },
    {
     "data": {
      "text/html": [
       "<strong>png:</strong> 2"
      ],
      "text/latex": [
       "\\textbf{png:} 2"
      ],
      "text/markdown": [
       "**png:** 2"
      ],
      "text/plain": [
       "png \n",
       "  2 "
      ]
     },
     "metadata": {},
     "output_type": "display_data"
    },
    {
     "name": "stderr",
     "output_type": "stream",
     "text": [
      "\u001b[1m\u001b[22m`summarise()` has grouped output by 'Diagnosis', 'timepoint', 'group', 'PTID', 'cfrna_sample_id', 'severity',\n",
      "'reads_sequenced', 'feature_counts', 'intron_exon_ratio', 'bias53', 'rRNA_reads', 'ivig',\n",
      "'days_ivig_before_samp', 'ivig_rel_samp', 'expGroup', 'n'. You can override using the `.groups` argument.\n"
     ]
    },
    {
     "name": "stdout",
     "output_type": "stream",
     "text": [
      "\u001b[90m# A tibble: 4 × 13\u001b[39m\n",
      "  .y.      group1      group2    n1    n2 statistic       p   p.adj p.adj.signif\n",
      "  \u001b[3m\u001b[90m<chr>\u001b[39m\u001b[23m    \u001b[3m\u001b[90m<chr>\u001b[39m\u001b[23m       \u001b[3m\u001b[90m<chr>\u001b[39m\u001b[23m  \u001b[3m\u001b[90m<int>\u001b[39m\u001b[23m \u001b[3m\u001b[90m<int>\u001b[39m\u001b[23m     \u001b[3m\u001b[90m<dbl>\u001b[39m\u001b[23m   \u001b[3m\u001b[90m<dbl>\u001b[39m\u001b[23m   \u001b[3m\u001b[90m<dbl>\u001b[39m\u001b[23m \u001b[3m\u001b[90m<chr>\u001b[39m\u001b[23m       \n",
      "\u001b[90m1\u001b[39m fraction Control_No… COVID…    13    18        63 3.1 \u001b[90me\u001b[39m\u001b[31m-2\u001b[39m 4.13\u001b[90me\u001b[39m\u001b[31m-2\u001b[39m *           \n",
      "\u001b[90m2\u001b[39m fraction Control_No… MIS-C…    13    35        68 9.32\u001b[90me\u001b[39m\u001b[31m-5\u001b[39m 3.73\u001b[90me\u001b[39m\u001b[31m-4\u001b[39m ***         \n",
      "\u001b[90m3\u001b[39m fraction COVID-19 a… MIS-C…    18    35       192 2   \u001b[90me\u001b[39m\u001b[31m-2\u001b[39m 4   \u001b[90me\u001b[39m\u001b[31m-2\u001b[39m *           \n",
      "\u001b[90m4\u001b[39m fraction MIS-C acut… MIS-C…    35    21       421 3.73\u001b[90me\u001b[39m\u001b[31m-1\u001b[39m 3.73\u001b[90me\u001b[39m\u001b[31m-1\u001b[39m ns          \n",
      "\u001b[90m# … with 4 more variables: y.position <dbl>, groups <named list>, xmin <dbl>,\u001b[39m\n",
      "\u001b[90m#   xmax <dbl>\u001b[39m\n"
     ]
    },
    {
     "data": {
      "text/html": [
       "<strong>png:</strong> 2"
      ],
      "text/latex": [
       "\\textbf{png:} 2"
      ],
      "text/markdown": [
       "**png:** 2"
      ],
      "text/plain": [
       "png \n",
       "  2 "
      ]
     },
     "metadata": {},
     "output_type": "display_data"
    }
   ],
   "source": [
    "##------------------------------------\n",
    "## Wrange data for boxplots\n",
    "##------------------------------------\n",
    "\n",
    "diag_contrast = c(\"Control discovery\",\"COVID-19 acute discovery\",\"MIS-C acute discovery\",\"MIS-C acute validation\")\n",
    "\n",
    "diag_df <- df_melt_all %>% \n",
    "    filter((timepoint == \"acute\" | Diagnosis == \"Control_Non-inflammatory\")) %>% \n",
    "    filter(group %in% c(\"discovery\",\"validation\")) %>% \n",
    "           mutate(new_celltype = ifelse(is.na(new_celltype),as.character(celltype),new_celltype)) %>% \n",
    "           mutate(celltype = new_celltype)\n",
    "\n",
    "diag_df$plottingName <- droplevels(diag_df$plottingName)\n",
    "\n",
    "\n",
    "##------------------------------------\n",
    "## SET PALETTES\n",
    "##------------------------------------\n",
    "\n",
    "diag_df$expGroup = paste(diag_df$Diagnosis,diag_df$timepoint,diag_df$group,sep=\" \")\n",
    "diag_df$expGroup <- gsub(\"other \",\"\",diag_df$expGroup)\n",
    "\n",
    "expGroupPalette = c('#2BC0B3','#5CB2EB','#F0484E','#FBE77C')\n",
    "names(expGroupPalette) <- c(\"MIS-C acute validation\",\"MIS-C acute discovery\",\"COVID-19 acute discovery\",\"Control_Non-inflammatory Not-hospitalized discovery\")\n",
    "\n",
    "DiagnosisPalette = c('#0234C1','#740C33','#4b7a47')\n",
    "names(DiagnosisPalette) <- c(\"MIS-C\",\"COVID-19\",\"Control\")\n",
    "\n",
    "##------------------------------------\n",
    "## Main figure\n",
    "##------------------------------------\n",
    "WIDTH = 1.9\n",
    "HEIGHT = 1.28\n",
    "\n",
    "set.seed(42)\n",
    "\n",
    "\n",
    "ct = \"Endothelial Cell\"\n",
    "YLIM = 0.54\n",
    "WIDTH = 1.9\n",
    "\n",
    "pdf(file=paste0(\"plots/panelC_\",ct,\".pdf\"),\n",
    "    width=WIDTH,height=HEIGHT, paper=\"special\", bg=\"white\",\n",
    "    fonts=\"Helvetica\", colormodel = \"srgb\", pointsize=6, useDingbats = FALSE)\n",
    "\n",
    "    final_plt <- make_boxplot(diag_df,ct,YLIM,expGroupPalette)+\n",
    "                scale_x_discrete(guide = guide_axis(n.dodge=2))+\n",
    "scale_y_continuous(breaks = c(0,0.18,0.36,0.54)) + \n",
    "    coord_cartesian(ylim = c(0,YLIM))\n",
    "\n",
    "    print(final_plt)\n",
    "\n",
    "dev.off()\n",
    "\n",
    "\n",
    "ct = \"Neutrophil\"\n",
    "YLIM = 0.54\n",
    "WIDTH = 1.9\n",
    "\n",
    "pdf(file=paste0(\"plots/panelC_\",ct,\".pdf\"),\n",
    "    width=WIDTH,height=HEIGHT, paper=\"special\", bg=\"white\",\n",
    "    fonts=\"Helvetica\", colormodel = \"srgb\", pointsize=6, useDingbats = FALSE)\n",
    "\n",
    "    final_plt <- make_boxplot(diag_df,ct,YLIM,expGroupPalette)+\n",
    "                scale_x_discrete(guide = guide_axis(n.dodge=2))+\n",
    "scale_y_continuous(breaks = c(0,0.18,0.36,0.54)) + \n",
    "    coord_cartesian(ylim = c(0,YLIM))\n",
    "\n",
    "    print(final_plt)\n",
    "dev.off()\n",
    "\n",
    "\n",
    "ct = \"Schwann.cell\"\n",
    "YLIM = 0.035\n",
    "WIDTH = 1.953\n",
    "\n",
    "pdf(file=paste0(\"plots/panelC_\",ct,\".pdf\"),\n",
    "    width=WIDTH,height=HEIGHT, paper=\"special\", bg=\"white\",\n",
    "    fonts=\"Helvetica\", colormodel = \"srgb\", pointsize=6, useDingbats = FALSE)\n",
    "\n",
    "    final_plt <- make_boxplot(diag_df,ct,YLIM,expGroupPalette)+\n",
    "                scale_x_discrete(guide = guide_axis(n.dodge=2))+\n",
    "scale_y_continuous(breaks = c(0,0.012,0.024,0.036)) + \n",
    "    coord_cartesian(ylim = c(0,YLIM))\n",
    "\n",
    "    print(final_plt)\n",
    "dev.off()\n",
    "\n",
    "##------------------------------------\n",
    "## Supplemental figure\n",
    "##------------------------------------\n",
    "\n",
    "ct = \"Kidney Epithelial Cell\"\n",
    "YLIM = 0.035\n",
    "WIDTH = 1.94\n",
    "    \n",
    "pdf(file=paste0(\"plots/SupPanelA_\",ct,\".cfrna.pdf\"),\n",
    "    width=WIDTH,height=HEIGHT, paper=\"special\", bg=\"white\",\n",
    "    fonts=\"Helvetica\", colormodel = \"srgb\", pointsize=6, useDingbats = FALSE)\n",
    "\n",
    "    final_plt <- make_boxplot(diag_df,ct,YLIM,expGroupPalette)+\n",
    "                scale_x_discrete(guide = guide_axis(n.dodge=2))+\n",
    "    coord_cartesian(ylim = c(0,YLIM))\n",
    "    print(final_plt)\n",
    "dev.off()\n",
    "\n",
    "\n",
    "ct = \"Thymocyte\"\n",
    "YLIM = 0.03\n",
    "WIDTH = 1.94\n",
    "    \n",
    "pdf(file=paste0(\"plots/SupPanelA_\",ct,\".cfrna.pdf\"),\n",
    "    width=WIDTH,height=HEIGHT, paper=\"special\", bg=\"white\",\n",
    "    fonts=\"Helvetica\", colormodel = \"srgb\", pointsize=6, useDingbats = FALSE)\n",
    "\n",
    "    final_plt <- make_boxplot(diag_df,ct,YLIM,expGroupPalette)+\n",
    "                scale_x_discrete(guide = guide_axis(n.dodge=2))+\n",
    "    coord_cartesian(ylim = c(0,YLIM))\n",
    "    print(final_plt)\n",
    "dev.off()\n",
    "\n",
    "\n",
    "ct = \"Platelet\"\n",
    "YLIM = 1.3\n",
    "WIDTH = 1.9\n",
    "\n",
    "pdf(file=paste0(\"plots/SupPanelA_\",ct,\".cfrna.pdf\"),\n",
    "    width=WIDTH,height=HEIGHT, paper=\"special\", bg=\"white\",\n",
    "    fonts=\"Helvetica\", colormodel = \"srgb\", pointsize=6, useDingbats = FALSE)\n",
    "\n",
    "    final_plt <- make_boxplot(diag_df,ct,YLIM,expGroupPalette)+\n",
    "                scale_x_discrete(guide = guide_axis(n.dodge=2))+\n",
    "    coord_cartesian(ylim = c(0,YLIM))\n",
    "    print(final_plt)\n",
    "dev.off()\n",
    "\n",
    "\n",
    "## GI \n",
    "\n",
    "diag_df <- df_melt_all %>% \n",
    "    filter((timepoint == \"acute\" | Diagnosis == \"Control_Non-inflammatory\")) %>% \n",
    "    filter(group %in% c(\"discovery\",\"validation\")) %>% \n",
    "           mutate(new_celltype = ifelse(is.na(new_celltype),as.character(celltype),new_celltype)) #%>% \n",
    "#            mutate(celltype = new_celltype)\n",
    "\n",
    "diag_df$expGroup = paste(diag_df$Diagnosis,diag_df$timepoint,diag_df$group,sep=\" \")\n",
    "diag_df$expGroup <- gsub(\"other \",\"\",diag_df$expGroup)\n",
    "\n",
    "\n",
    "ct = \"Intestinal.secretory.cell\"\n",
    "YLIM = 0.0027\n",
    "WIDTH = 2.01\n",
    "\n",
    "pdf(file=paste0(\"plots/SupPanelA_\",ct,\".cfrna.pdf\"),\n",
    "    width=WIDTH,height=HEIGHT, paper=\"special\", bg=\"white\",\n",
    "    fonts=\"Helvetica\", colormodel = \"srgb\", pointsize=6, useDingbats = FALSE)\n",
    "\n",
    "    final_plt <- make_boxplot(diag_df,ct,YLIM,expGroupPalette)+\n",
    "                scale_x_discrete(guide = guide_axis(n.dodge=2))+\n",
    "scale_y_continuous(breaks = c(0,YLIM/3,(YLIM/3)*2,YLIM)) + \n",
    "    coord_cartesian(ylim = c(0,YLIM*1.05))\n",
    "\n",
    "    print(final_plt)\n",
    "dev.off()\n",
    "\n",
    "\n",
    "ct = \"Intestinal.enterocyte\"\n",
    "YLIM = 0.03\n",
    "WIDTH = 1.94\n",
    "\n",
    "pdf(file=paste0(\"plots/SupPanelA_\",ct,\".cfrna.pdf\"),\n",
    "    width=WIDTH,height=HEIGHT, paper=\"special\", bg=\"white\",\n",
    "    fonts=\"Helvetica\", colormodel = \"srgb\", pointsize=6, useDingbats = FALSE)\n",
    "\n",
    "    final_plt <- make_boxplot(diag_df,ct,YLIM,expGroupPalette)+\n",
    "                scale_x_discrete(guide = guide_axis(n.dodge=2))+\n",
    "scale_y_continuous(breaks = c(0,YLIM/3,(YLIM/3)*2,YLIM)) + \n",
    "    coord_cartesian(ylim = c(0,YLIM*1.05))\n",
    "\n",
    "    print(final_plt)\n",
    "dev.off()\n",
    "\n",
    "\n",
    "ct = \"Intestinal.tuft.cell\"\n",
    "YLIM = 0.12\n",
    "WIDTH = 1.94\n",
    "    \n",
    "pdf(file=paste0(\"plots/SupPanelA_\",ct,\".cfrna.pdf\"),\n",
    "    width=WIDTH,height=HEIGHT, paper=\"special\", bg=\"white\",\n",
    "    fonts=\"Helvetica\", colormodel = \"srgb\", pointsize=6, useDingbats = FALSE)\n",
    "\n",
    "    final_plt <- make_boxplot(diag_df,ct,YLIM,expGroupPalette)+\n",
    "                scale_x_discrete(guide = guide_axis(n.dodge=2))+\n",
    "scale_y_continuous(breaks = c(0,YLIM/3,(YLIM/3)*2,YLIM)) + \n",
    "    coord_cartesian(ylim = c(0,YLIM*1.05))\n",
    "\n",
    "    print(final_plt)\n",
    "dev.off()\n",
    "\n",
    "\n",
    "## SOLID ORGAN\n",
    "\n",
    "diag_contrast = c(\"Control discovery\",\"COVID-19 acute discovery\",\"MIS-C acute discovery\",\"MIS-C acute validation\")\n",
    "diag_df_all <- df_melt_all %>% filter((timepoint == \"acute\" | Diagnosis == \"Control_Non-inflammatory\")) %>% filter(group %in% c(\"discovery\",\"validation\"))\n",
    "diag_df_all$plottingName <- droplevels(diag_df_all$plottingName)\n",
    "\n",
    "diag_df_all$expGroup = paste(diag_df_all$Diagnosis,diag_df_all$timepoint,diag_df_all$group,sep=\" \")\n",
    "diag_df_all$expGroup <- gsub(\"other \",\"\",diag_df_all$expGroup)\n",
    "\n",
    "cells <- diag_df_all %>% pull(celltype) %>% unique()\n",
    "solid <- c('Intrahepatic.cholangiocyte','Secretory.cell','Respiratory.ciliated.cell','Ionocyte.luminal.epithelial.cell.of.mammary.gland',\n",
    "           'Fibroblast.mesenchymal.stem.cell','Respiratory.secretory.cell','Basal.cell','Endothelial.cell','Stromal.cell','Adventitial.cell','Gland.cell',\n",
    "           'Salivary.bronchial.secretory.cell','Pericyte.cell','Pancreatic.Stellate.cell','Pancreatic.alpha.beta.cell','Basal.prostate.cell',\n",
    "           'Prostate.epithelia','Salivary.gland.cell','Intestinal.enterocyte','Intestinal.secretory.cell','Intestinal.tuft.cell','Type.II.Pneumocyte',\n",
    "           'Cell.of.skeletal.muscle','Tendon.cell','Mesothelial.cell','Kidney.epithelial.cell')\n",
    "\n",
    "diag_df_all_solid <- diag_df_all %>% filter(celltype %in% all_of(solid)) %>% \n",
    "    select(-celltype) %>% select(-new_celltype) %>% group_by(across(c(-fraction))) %>% \n",
    "    summarize(fraction = sum(fraction)) %>%\n",
    "    mutate(celltype=\"solid\")\n",
    "\n",
    "\n",
    "ct = \"solid\"\n",
    "YLIM = 0.7\n",
    "WIDTH = 1.9\n",
    "    \n",
    "pdf(file=paste0(\"plots/SupPanelA_\",ct,\".cfrna.pdf\"),\n",
    "    width=WIDTH,height=HEIGHT, paper=\"special\", bg=\"white\",\n",
    "    fonts=\"Helvetica\", colormodel = \"srgb\", pointsize=6, useDingbats = FALSE)\n",
    "\n",
    "    final_plt <- make_boxplot(diag_df_all_solid,ct,YLIM,expGroupPalette)+\n",
    "                scale_x_discrete(guide = guide_axis(n.dodge=2))+\n",
    "    coord_cartesian(ylim = c(0,YLIM))\n",
    "    print(final_plt)\n",
    "dev.off()"
   ]
  },
  {
   "cell_type": "markdown",
   "id": "28876c50-2aed-497f-94bd-739eeacc30ee",
   "metadata": {
    "jp-MarkdownHeadingCollapsed": true,
    "tags": []
   },
   "source": [
    "---\n",
    "## Sup Panel B - Severity"
   ]
  },
  {
   "cell_type": "code",
   "execution_count": 5,
   "id": "8b98b8f0-532f-4b36-b411-121cf3e6d6a1",
   "metadata": {},
   "outputs": [
    {
     "name": "stderr",
     "output_type": "stream",
     "text": [
      "Warning message in wilcox.test.default(x = mod, y = sev):\n",
      "“cannot compute exact p-value with ties”\n",
      "Warning message in wilcox.test.default(x = mod, y = sev):\n",
      "“cannot compute exact p-value with ties”\n"
     ]
    },
    {
     "data": {
      "text/html": [
       "<table class=\"dataframe\">\n",
       "<caption>A data.frame: 6 × 3</caption>\n",
       "<thead>\n",
       "\t<tr><th></th><th scope=col>celltyep</th><th scope=col>pval</th><th scope=col>adj.p</th></tr>\n",
       "\t<tr><th></th><th scope=col>&lt;chr&gt;</th><th scope=col>&lt;chr&gt;</th><th scope=col>&lt;dbl&gt;</th></tr>\n",
       "</thead>\n",
       "<tbody>\n",
       "\t<tr><th scope=row>Endothelial.cell</th><td>Endothelial.cell                </td><td>0.0110512461120239</td><td>0.2550522</td></tr>\n",
       "\t<tr><th scope=row>T.Cell</th><td>T.Cell                          </td><td>0.0124415725937463</td><td>0.2550522</td></tr>\n",
       "\t<tr><th scope=row>Intrahepatic.cholangiocyte</th><td>Intrahepatic.cholangiocyte      </td><td>0.182815025033057 </td><td>0.7250338</td></tr>\n",
       "\t<tr><th scope=row>Monocyte</th><td>Monocyte                        </td><td>0.224449503726726 </td><td>0.7250338</td></tr>\n",
       "\t<tr><th scope=row>Fibroblast.mesenchymal.stem.cell</th><td>Fibroblast.mesenchymal.stem.cell</td><td>0.126312255488565 </td><td>0.7250338</td></tr>\n",
       "\t<tr><th scope=row>neutrophil</th><td>neutrophil                      </td><td>0.136393406245089 </td><td>0.7250338</td></tr>\n",
       "</tbody>\n",
       "</table>\n"
      ],
      "text/latex": [
       "A data.frame: 6 × 3\n",
       "\\begin{tabular}{r|lll}\n",
       "  & celltyep & pval & adj.p\\\\\n",
       "  & <chr> & <chr> & <dbl>\\\\\n",
       "\\hline\n",
       "\tEndothelial.cell & Endothelial.cell                 & 0.0110512461120239 & 0.2550522\\\\\n",
       "\tT.Cell & T.Cell                           & 0.0124415725937463 & 0.2550522\\\\\n",
       "\tIntrahepatic.cholangiocyte & Intrahepatic.cholangiocyte       & 0.182815025033057  & 0.7250338\\\\\n",
       "\tMonocyte & Monocyte                         & 0.224449503726726  & 0.7250338\\\\\n",
       "\tFibroblast.mesenchymal.stem.cell & Fibroblast.mesenchymal.stem.cell & 0.126312255488565  & 0.7250338\\\\\n",
       "\tneutrophil & neutrophil                       & 0.136393406245089  & 0.7250338\\\\\n",
       "\\end{tabular}\n"
      ],
      "text/markdown": [
       "\n",
       "A data.frame: 6 × 3\n",
       "\n",
       "| <!--/--> | celltyep &lt;chr&gt; | pval &lt;chr&gt; | adj.p &lt;dbl&gt; |\n",
       "|---|---|---|---|\n",
       "| Endothelial.cell | Endothelial.cell                 | 0.0110512461120239 | 0.2550522 |\n",
       "| T.Cell | T.Cell                           | 0.0124415725937463 | 0.2550522 |\n",
       "| Intrahepatic.cholangiocyte | Intrahepatic.cholangiocyte       | 0.182815025033057  | 0.7250338 |\n",
       "| Monocyte | Monocyte                         | 0.224449503726726  | 0.7250338 |\n",
       "| Fibroblast.mesenchymal.stem.cell | Fibroblast.mesenchymal.stem.cell | 0.126312255488565  | 0.7250338 |\n",
       "| neutrophil | neutrophil                       | 0.136393406245089  | 0.7250338 |\n",
       "\n"
      ],
      "text/plain": [
       "                                 celltyep                        \n",
       "Endothelial.cell                 Endothelial.cell                \n",
       "T.Cell                           T.Cell                          \n",
       "Intrahepatic.cholangiocyte       Intrahepatic.cholangiocyte      \n",
       "Monocyte                         Monocyte                        \n",
       "Fibroblast.mesenchymal.stem.cell Fibroblast.mesenchymal.stem.cell\n",
       "neutrophil                       neutrophil                      \n",
       "                                 pval               adj.p    \n",
       "Endothelial.cell                 0.0110512461120239 0.2550522\n",
       "T.Cell                           0.0124415725937463 0.2550522\n",
       "Intrahepatic.cholangiocyte       0.182815025033057  0.7250338\n",
       "Monocyte                         0.224449503726726  0.7250338\n",
       "Fibroblast.mesenchymal.stem.cell 0.126312255488565  0.7250338\n",
       "neutrophil                       0.136393406245089  0.7250338"
      ]
     },
     "metadata": {},
     "output_type": "display_data"
    },
    {
     "data": {
      "text/html": [
       "<strong>png:</strong> 2"
      ],
      "text/latex": [
       "\\textbf{png:} 2"
      ],
      "text/markdown": [
       "**png:** 2"
      ],
      "text/plain": [
       "png \n",
       "  2 "
      ]
     },
     "metadata": {},
     "output_type": "display_data"
    },
    {
     "data": {
      "text/html": [
       "<strong>png:</strong> 2"
      ],
      "text/latex": [
       "\\textbf{png:} 2"
      ],
      "text/markdown": [
       "**png:** 2"
      ],
      "text/plain": [
       "png \n",
       "  2 "
      ]
     },
     "metadata": {},
     "output_type": "display_data"
    },
    {
     "data": {
      "text/html": [
       "<strong>png:</strong> 2"
      ],
      "text/latex": [
       "\\textbf{png:} 2"
      ],
      "text/markdown": [
       "**png:** 2"
      ],
      "text/plain": [
       "png \n",
       "  2 "
      ]
     },
     "metadata": {},
     "output_type": "display_data"
    },
    {
     "data": {
      "text/html": [
       "<strong>png:</strong> 2"
      ],
      "text/latex": [
       "\\textbf{png:} 2"
      ],
      "text/markdown": [
       "**png:** 2"
      ],
      "text/plain": [
       "png \n",
       "  2 "
      ]
     },
     "metadata": {},
     "output_type": "display_data"
    }
   ],
   "source": [
    "##------------------------------------\n",
    "## Prep data and measure for differences\n",
    "##------------------------------------\n",
    "\n",
    "diag_df <- df_melt_all %>% \n",
    "    filter((timepoint == \"acute\" & Diagnosis == \"MIS-C\")) %>% \n",
    "    filter(group %in% c(\"discovery\",\"validation\")) %>%\n",
    "    mutate(group = ifelse(severity == 2, \"Moderate MIS-C\",\n",
    "                            ifelse(severity == 3,\"Severe MIS-C\",\"other\")))\n",
    "\n",
    "## Calculate differences between groups\n",
    "CELLTYPES = diag_df$celltype %>% unique()\n",
    "\n",
    "output_list = list()\n",
    "\n",
    "for (ct in CELLTYPES){\n",
    " mod <- diag_df %>% filter(celltype == ct) %>% filter(severity == 2) %>% pull(fraction)\n",
    "    sev <- diag_df %>% filter(celltype == ct) %>% filter(severity == 3) %>% pull(fraction)\n",
    "    \n",
    "    t <- wilcox.test(x = mod, y = sev)\n",
    "    \n",
    "    output_list[[ct]] <- c(ct,t$p.value)\n",
    "    \n",
    "}\n",
    "\n",
    "ct_df <- do.call(\"rbind\", output_list) %>% data.frame() %>% rename(celltyep = X1, pval = X2)\n",
    "\n",
    "ct_df$adj.p <- p.adjust(ct_df$pval,method = \"BH\")\n",
    "\n",
    "ct_df %>% arrange(adj.p) %>% head()\n",
    "\n",
    "##------------------------------------\n",
    "## PLOT \n",
    "##------------------------------------\n",
    "\n",
    "set.seed(42)\n",
    "\n",
    "expGroupPalette = c('#008176','#0000a7')\n",
    "names(expGroupPalette) <- c(\"Moderate MIS-C\",\"Severe MIS-C\")\n",
    "\n",
    "WIDTH = 1.6\n",
    "HEIGHT = 1.5\n",
    "\n",
    "WIDTH = 1\n",
    "HEIGHT = 1.28\n",
    "\n",
    "\n",
    "CELLTYPE = \"Endothelial.cell\"\n",
    "YLIM = 0.6\n",
    "\n",
    "pdf(file=paste0(\"plots/SupPanelB_severity-\",CELLTYPE,\".pdf\"),\n",
    "    width=WIDTH,height=HEIGHT, paper=\"special\", bg=\"white\",\n",
    "    fonts=\"Helvetica\", colormodel = \"srgb\", pointsize=6, useDingbats = FALSE)\n",
    "\n",
    "bxplt <- make_severity_plt(diag_df,CELLTYPE) + scale_y_continuous(breaks = c(0, YLIM/3, (YLIM/3)*2 , YLIM)) + coord_cartesian(ylim = c(0,YLIM*1.05))                                         \n",
    "print(bxplt)\n",
    "\n",
    "dev.off()\n",
    "\n",
    "\n",
    "CELLTYPE = \"neutrophil\"\n",
    "YLIM = 0.6\n",
    "\n",
    "pdf(file=paste0(\"plots/SupPanelB_severity-\",CELLTYPE,\".pdf\"),\n",
    "    width=WIDTH,height=HEIGHT, paper=\"special\", bg=\"white\",\n",
    "    fonts=\"Helvetica\", colormodel = \"srgb\", pointsize=6, useDingbats = FALSE)\n",
    "\n",
    "bxplt <- make_severity_plt(diag_df,CELLTYPE) + scale_y_continuous(breaks = c(0, YLIM/3, (YLIM/3)*2 , YLIM)) + coord_cartesian(ylim = c(0,YLIM*1.05))\n",
    "print(bxplt)\n",
    "\n",
    "dev.off()\n",
    "\n",
    "\n",
    "CELLTYPE = \"Schwann.cell\"\n",
    "YLIM = 0.03\n",
    "\n",
    "pdf(file=paste0(\"plots/SupPanelB_severity-\",CELLTYPE,\".pdf\"),\n",
    "    width=WIDTH,height=HEIGHT, paper=\"special\", bg=\"white\",\n",
    "    fonts=\"Helvetica\", colormodel = \"srgb\", pointsize=6, useDingbats = FALSE)\n",
    "\n",
    "bxplt <- make_severity_plt(diag_df,CELLTYPE) + scale_y_continuous(breaks = c(0, YLIM/3, (YLIM/3)*2 , YLIM)) + coord_cartesian(ylim = c(0,YLIM*1.05))\n",
    "print(bxplt)\n",
    "\n",
    "dev.off()\n",
    "\n",
    "\n",
    "CELLTYPE = \"T.Cell\"\n",
    "YLIM = .15\n",
    "\n",
    "pdf(file=paste0(\"plots/SupPanelB_severity-\",CELLTYPE,\".pdf\"),\n",
    "    width=WIDTH,height=HEIGHT, paper=\"special\", bg=\"white\",\n",
    "    fonts=\"Helvetica\", colormodel = \"srgb\", pointsize=6, useDingbats = FALSE)\n",
    "\n",
    "bxplt <- make_severity_plt(diag_df,CELLTYPE) + scale_y_continuous(breaks = c(0, YLIM/3, (YLIM/3)*2 , YLIM)) + coord_cartesian(ylim = c(0,YLIM*1.05))\n",
    "print(bxplt)\n",
    "\n",
    "dev.off()"
   ]
  },
  {
   "cell_type": "markdown",
   "id": "d7f3d1b0-1f16-4ad8-9280-213374b8462f",
   "metadata": {
    "jp-MarkdownHeadingCollapsed": true,
    "tags": []
   },
   "source": [
    "---\n",
    "## Sup Panel C Post-acute analysis"
   ]
  },
  {
   "cell_type": "code",
   "execution_count": 9,
   "id": "951312e6-18f1-4c51-92ee-67738d9e1368",
   "metadata": {},
   "outputs": [
    {
     "name": "stderr",
     "output_type": "stream",
     "text": [
      "\u001b[1m\u001b[22m`summarise()` has grouped output by 'plottingName'. You can override using the `.groups` argument.\n"
     ]
    },
    {
     "data": {
      "text/html": [
       "<strong>png:</strong> 2"
      ],
      "text/latex": [
       "\\textbf{png:} 2"
      ],
      "text/markdown": [
       "**png:** 2"
      ],
      "text/plain": [
       "png \n",
       "  2 "
      ]
     },
     "metadata": {},
     "output_type": "display_data"
    }
   ],
   "source": [
    "df_melt_plt <- df_melt  %>% \n",
    "    filter(timepoint  %in% c(\"acute\",\"post-acute\",\"Not-hospitalized\"))\n",
    "\n",
    "labels <- names(val_vector)\n",
    "\n",
    "df_melt_plt <- df_melt_plt[which(df_melt_plt$celltype %in% names(val_vector)),]\n",
    "\n",
    "##---------------------------\n",
    "# Create master dataframe\n",
    "cntrl_df <- df_melt_plt\n",
    "\n",
    "##---------------------------\n",
    "# Summarize\n",
    "cntrl_sum <- cntrl_df %>% group_by(plottingName,celltype) %>% summarize(mean_fraction = mean(fraction))\n",
    "\n",
    "##---------------------------\n",
    "# Plot area plot\n",
    "\n",
    "HEIGHT= 2.03\n",
    "WIDTH = 2.37\n",
    "ct = \"post-acute\"\n",
    "\n",
    "pdf(file=paste0(\"plots/SupPanelC_\",ct,\".cfrna.pdf\"),\n",
    "    width=WIDTH,height=HEIGHT, paper=\"special\", bg=\"white\",\n",
    "    fonts=\"Helvetica\", colormodel = \"srgb\", pointsize=6, useDingbats = FALSE)\n",
    "\n",
    "\n",
    "decon_plot <- cntrl_sum %>%\n",
    "mutate(celltype=factor(celltype,levels=labels)) %>%\n",
    "ggplot(aes(x=plottingName,y=mean_fraction,fill=celltype))+\n",
    "geom_bar(position=\"stack\",stat=\"identity\", colour=\"black\",size = 0.15)+\n",
    "#         theme_minimal()+\n",
    "theme_prevail()+\n",
    "theme(plot.margin=grid::unit(c(1,0,0,0), \"mm\"),\n",
    "     legend.position = \"none\")+\n",
    "scale_fill_manual(values=val_vector)+\n",
    "scale_y_continuous(position = \"left\",labels=scaleFUN)+ \n",
    "coord_cartesian(ylim = c(0,maxY))+\n",
    "theme(axis.title.y = element_blank(),\n",
    "     axis.title.x = element_blank())\n",
    "\n",
    "decon_plot\n",
    "dev.off()\n"
   ]
  },
  {
   "cell_type": "markdown",
   "id": "88d37d6a-f87c-4396-a1d1-9d1300ac6ba4",
   "metadata": {
    "tags": []
   },
   "source": [
    "---\n",
    "## Panel D & E - diversity"
   ]
  },
  {
   "cell_type": "code",
   "execution_count": 11,
   "id": "5ca6f8bb-1322-482a-86cc-3cc31fb082d6",
   "metadata": {},
   "outputs": [
    {
     "name": "stderr",
     "output_type": "stream",
     "text": [
      "Coordinate system already present. Adding new coordinate system, which will replace the existing one.\n",
      "\n",
      "Scale for 'y' is already present. Adding another scale for 'y', which will\n",
      "replace the existing scale.\n",
      "\n"
     ]
    },
    {
     "data": {
      "text/html": [
       "<strong>png:</strong> 2"
      ],
      "text/latex": [
       "\\textbf{png:} 2"
      ],
      "text/markdown": [
       "**png:** 2"
      ],
      "text/plain": [
       "png \n",
       "  2 "
      ]
     },
     "metadata": {},
     "output_type": "display_data"
    },
    {
     "name": "stderr",
     "output_type": "stream",
     "text": [
      "Coordinate system already present. Adding new coordinate system, which will replace the existing one.\n",
      "\n",
      "Scale for 'y' is already present. Adding another scale for 'y', which will\n",
      "replace the existing scale.\n",
      "\n"
     ]
    },
    {
     "data": {
      "text/html": [
       "<strong>png:</strong> 2"
      ],
      "text/latex": [
       "\\textbf{png:} 2"
      ],
      "text/markdown": [
       "**png:** 2"
      ],
      "text/plain": [
       "png \n",
       "  2 "
      ]
     },
     "metadata": {},
     "output_type": "display_data"
    },
    {
     "name": "stdout",
     "output_type": "stream",
     "text": [
      "\u001b[90m# A tibble: 4 × 13\u001b[39m\n",
      "  .y.   group1       group2    n1    n2 statistic        p    p.adj p.adj.signif\n",
      "  \u001b[3m\u001b[90m<chr>\u001b[39m\u001b[23m \u001b[3m\u001b[90m<chr>\u001b[39m\u001b[23m        \u001b[3m\u001b[90m<chr>\u001b[39m\u001b[23m  \u001b[3m\u001b[90m<int>\u001b[39m\u001b[23m \u001b[3m\u001b[90m<int>\u001b[39m\u001b[23m     \u001b[3m\u001b[90m<dbl>\u001b[39m\u001b[23m    \u001b[3m\u001b[90m<dbl>\u001b[39m\u001b[23m    \u001b[3m\u001b[90m<dbl>\u001b[39m\u001b[23m \u001b[3m\u001b[90m<chr>\u001b[39m\u001b[23m       \n",
      "\u001b[90m1\u001b[39m BC    Control Not… Contr…   156   546      \u001b[4m9\u001b[24m352 4.55\u001b[90me\u001b[39m\u001b[31m-50\u001b[39m 9.1 \u001b[90me\u001b[39m\u001b[31m-50\u001b[39m ****        \n",
      "\u001b[90m2\u001b[39m BC    Control Not… Contr…   156   910     \u001b[4m1\u001b[24m\u001b[4m2\u001b[24m644 1.39\u001b[90me\u001b[39m\u001b[31m-60\u001b[39m 5.56\u001b[90me\u001b[39m\u001b[31m-60\u001b[39m ****        \n",
      "\u001b[90m3\u001b[39m BC    Control Not… Contr…   156   208     \u001b[4m1\u001b[24m\u001b[4m5\u001b[24m772 6.49\u001b[90me\u001b[39m\u001b[31m- 1\u001b[39m 6.49\u001b[90me\u001b[39m\u001b[31m- 1\u001b[39m ns          \n",
      "\u001b[90m4\u001b[39m BC    Control Not… Contr…   156   338     \u001b[4m2\u001b[24m\u001b[4m9\u001b[24m524 3.2 \u001b[90me\u001b[39m\u001b[31m- 2\u001b[39m 4.27\u001b[90me\u001b[39m\u001b[31m- 2\u001b[39m *           \n",
      "\u001b[90m# … with 4 more variables: y.position <dbl>, groups <named list>, xmin <dbl>,\u001b[39m\n",
      "\u001b[90m#   xmax <dbl>\u001b[39m\n"
     ]
    },
    {
     "name": "stderr",
     "output_type": "stream",
     "text": [
      "Coordinate system already present. Adding new coordinate system, which will replace the existing one.\n",
      "\n"
     ]
    },
    {
     "data": {
      "text/html": [
       "<strong>png:</strong> 2"
      ],
      "text/latex": [
       "\\textbf{png:} 2"
      ],
      "text/markdown": [
       "**png:** 2"
      ],
      "text/plain": [
       "png \n",
       "  2 "
      ]
     },
     "metadata": {},
     "output_type": "display_data"
    },
    {
     "name": "stdout",
     "output_type": "stream",
     "text": [
      "\u001b[90m# A tibble: 3 × 13\u001b[39m\n",
      "  .y.   group1       group2    n1    n2 statistic        p    p.adj p.adj.signif\n",
      "  \u001b[3m\u001b[90m<chr>\u001b[39m\u001b[23m \u001b[3m\u001b[90m<chr>\u001b[39m\u001b[23m        \u001b[3m\u001b[90m<chr>\u001b[39m\u001b[23m  \u001b[3m\u001b[90m<int>\u001b[39m\u001b[23m \u001b[3m\u001b[90m<int>\u001b[39m\u001b[23m     \u001b[3m\u001b[90m<dbl>\u001b[39m\u001b[23m    \u001b[3m\u001b[90m<dbl>\u001b[39m\u001b[23m    \u001b[3m\u001b[90m<dbl>\u001b[39m\u001b[23m \u001b[3m\u001b[90m<chr>\u001b[39m\u001b[23m       \n",
      "\u001b[90m1\u001b[39m BC    Control Not… Contr…   156   468     \u001b[4m1\u001b[24m\u001b[4m7\u001b[24m268 5.94\u001b[90me\u001b[39m\u001b[31m-23\u001b[39m 1.78\u001b[90me\u001b[39m\u001b[31m-22\u001b[39m ****        \n",
      "\u001b[90m2\u001b[39m BC    Control Not… Contr…   156    78      \u001b[4m3\u001b[24m692 9.62\u001b[90me\u001b[39m\u001b[31m- 7\u001b[39m 1.44\u001b[90me\u001b[39m\u001b[31m- 6\u001b[39m ****        \n",
      "\u001b[90m3\u001b[39m BC    Control Not… Contr…   156    78      \u001b[4m5\u001b[24m256 9   \u001b[90me\u001b[39m\u001b[31m- 2\u001b[39m 9   \u001b[90me\u001b[39m\u001b[31m- 2\u001b[39m ns          \n",
      "\u001b[90m# … with 4 more variables: y.position <dbl>, groups <named list>, xmin <dbl>,\u001b[39m\n",
      "\u001b[90m#   xmax <dbl>\u001b[39m\n"
     ]
    },
    {
     "name": "stderr",
     "output_type": "stream",
     "text": [
      "Coordinate system already present. Adding new coordinate system, which will replace the existing one.\n",
      "\n"
     ]
    },
    {
     "data": {
      "text/html": [
       "<strong>png:</strong> 2"
      ],
      "text/latex": [
       "\\textbf{png:} 2"
      ],
      "text/markdown": [
       "**png:** 2"
      ],
      "text/plain": [
       "png \n",
       "  2 "
      ]
     },
     "metadata": {},
     "output_type": "display_data"
    },
    {
     "name": "stderr",
     "output_type": "stream",
     "text": [
      "Coordinate system already present. Adding new coordinate system, which will replace the existing one.\n",
      "\n",
      "Scale for 'y' is already present. Adding another scale for 'y', which will\n",
      "replace the existing scale.\n",
      "\n"
     ]
    },
    {
     "data": {
      "text/html": [
       "<strong>png:</strong> 2"
      ],
      "text/latex": [
       "\\textbf{png:} 2"
      ],
      "text/markdown": [
       "**png:** 2"
      ],
      "text/plain": [
       "png \n",
       "  2 "
      ]
     },
     "metadata": {},
     "output_type": "display_data"
    },
    {
     "name": "stderr",
     "output_type": "stream",
     "text": [
      "Coordinate system already present. Adding new coordinate system, which will replace the existing one.\n",
      "\n",
      "Scale for 'y' is already present. Adding another scale for 'y', which will\n",
      "replace the existing scale.\n",
      "\n"
     ]
    },
    {
     "data": {
      "text/html": [
       "<strong>png:</strong> 2"
      ],
      "text/latex": [
       "\\textbf{png:} 2"
      ],
      "text/markdown": [
       "**png:** 2"
      ],
      "text/plain": [
       "png \n",
       "  2 "
      ]
     },
     "metadata": {},
     "output_type": "display_data"
    }
   ],
   "source": [
    "##------------------------------------\n",
    "# Prep the data\n",
    "##------------------------------------\n",
    "\n",
    "samples <- meta_data %>% filter(!is.na(plottingName))\n",
    "res <- unique(results[which(rownames(results) %in% samples$cfrna_sample_id),])\n",
    "\n",
    "expGroupPalette = c('COVID-19 acute discovery' = '#F0484E', 'MIS-C acute discovery' = '#5CB2EB', 'Control Not-hospitalized discovery' = '#FBE77C',\"MIS-C acute validation\" = '#2BC0B3',\n",
    "                  'MIS-C post-acute discovery' = '#5CB2EB', 'MIS-C 1m discovery' = '#5CB2EB','MIS-C 3m+ discovery' = '#5CB2EB',\n",
    "                    'COVID-19 post-acute discovery' = '#F0484E','COVID-19 1m discovery' = '#F0484E', 'COVID-19 3m+ discovery' = '#F0484E')\n",
    "\n",
    "DiagnosisPalette = c('#0234C1','#740C33','#4b7a47')\n",
    "names(DiagnosisPalette) <- c(\"MIS-C\",\"COVID-19\",\"Control\")\n",
    "\n",
    "##------------------------------------\n",
    "# SIMPSON \n",
    "##------------------------------------\n",
    "\n",
    "method = \"simpson\"\n",
    "\n",
    "alpha <- data.frame(as.matrix((vegan::diversity(x=res, index = method))))\n",
    "rownames(alpha) <- rownames(res)\n",
    "colnames(alpha) <- method\n",
    "alpha <- merge(alpha,samples,by.x=0,by.y=\"cfrna_sample_id\")\n",
    "alpha[is.na(alpha$severity),\"severity\"] <- 0\n",
    "alpha[grepl(\"ontrol\",alpha$severity),\"severity\"] <- 0\n",
    "alpha <- alpha %>% filter(timepoint != \"post-acute\")\n",
    "\n",
    "# PLOT\n",
    "\n",
    "HEIGHT = 0.95\n",
    "WIDTH = 1.7\n",
    "\n",
    "pdf(file=paste0(\"plots/panelD_misc.pdf\"),\n",
    "        width=WIDTH,height=HEIGHT, paper=\"special\", bg=\"white\",\n",
    "        fonts=\"Helvetica\", colormodel = \"srgb\", pointsize=6, useDingbats = FALSE)\n",
    "YLIM = 1.45\n",
    "SAMP_LEVELS = c('Control Not-hospitalized discovery','MIS-C acute validation','MIS-C acute discovery','MIS-C 1m discovery','MIS-C 3m+ discovery')\n",
    "make_alpha_plot(alpha,SAMP_LEVELS,method)+ coord_cartesian(ylim = c(0,YLIM)) + scale_y_continuous(breaks = seq(0, 1, by = .25))\n",
    "dev.off()\n",
    "\n",
    "pdf(file=paste0(\"plots/panelD_covid19.pdf\"),\n",
    "        width=WIDTH,height=HEIGHT, paper=\"special\", bg=\"white\",\n",
    "        fonts=\"Helvetica\", colormodel = \"srgb\", pointsize=6, useDingbats = FALSE)\n",
    "YLIM = 1.45\n",
    "SAMP_LEVELS = c('Control Not-hospitalized discovery','COVID-19 acute discovery','COVID-19 1m discovery', 'COVID-19 3m+ discovery')\n",
    "make_alpha_plot(alpha,SAMP_LEVELS,method)+ coord_cartesian(ylim = c(0,YLIM)) + scale_y_continuous(breaks = seq(0, 1, by = .25))\n",
    "dev.off() \n",
    "\n",
    "##------------------------------------\n",
    "# BRAY CURTIS\n",
    "##------------------------------------\n",
    "\n",
    "# Make comparisons\n",
    "bray_curtis <- data.frame(as.matrix((vegan::vegdist(x=res, method = \"bray\"))))\n",
    "rownames(bray_curtis) <- rownames(res)\n",
    "colnames(bray_curtis) <- rownames(res)\n",
    "\n",
    "# Melt dataframe for easy comparison\n",
    "bc_melt <- melt(as.matrix(bray_curtis))\n",
    "colnames(bc_melt) <- c(\"Sam.ID_1\",\"Sam.ID_2\",\"BC\")\n",
    "\n",
    "## Filter out comparisons of the same samples\n",
    "bc_melt <- bc_melt[bc_melt$Sam.ID_1 != bc_melt$Sam.ID_2,]\n",
    "\n",
    "# Add diagnostic information\n",
    "diag_df <- samples[,c(\"cfrna_sample_id\",\"expGroup\")]\n",
    "\n",
    "## Sam.ID_1\n",
    "bc_melt <- merge(bc_melt,diag_df,by.x=\"Sam.ID_1\",by.y=\"cfrna_sample_id\")\n",
    "colnames(bc_melt)[4] <- \"Diagnosis_1\"\n",
    "\n",
    "## Sam.ID_2\n",
    "bc_melt <- merge(bc_melt,diag_df,by.x=\"Sam.ID_2\",by.y=\"cfrna_sample_id\")\n",
    "colnames(bc_melt)[5] <- \"Diagnosis_2\"\n",
    "\n",
    "# Add comparison variable\n",
    "bc_melt$Group <- ifelse(bc_melt$Diagnosis_1 == bc_melt$Diagnosis_2,bc_melt$Diagnosis_1,\"Different\")\n",
    "\n",
    "bc_melt$Group2 <- apply(X=bc_melt, MARGIN=1, FUN=\n",
    "                function(x){\n",
    "                  a <- x['Diagnosis_1']\n",
    "                  b <- x['Diagnosis_2']\n",
    "                  c<- sort(c(a,b))\n",
    "                  d <- paste0(c[1],\"+\", c[2])\n",
    "                  return(d)\n",
    "                })\n",
    "\n",
    "bc_melt$name <- apply(X=bc_melt, MARGIN=1, FUN=\n",
    "                function(x){\n",
    "                  a <- x['Sam.ID_2']\n",
    "                  b <- x['Sam.ID_1']\n",
    "                  c<- sort(c(a,b))\n",
    "                  d <- paste0(c[1],\"+\", c[2])\n",
    "                  return(d)\n",
    "                })\n",
    "\n",
    "bc_melt <- bc_melt %>% filter(!grepl(\"post-acute\",Group2))\n",
    "\n",
    "## PLOT\n",
    "\n",
    "HEIGHT = 0.95\n",
    "WIDTH = 1.7\n",
    "\n",
    "method = \"Bray-Curtis\"\n",
    "\n",
    "pdf(file=paste0(\"plots/panelE_misc.pdf\"),\n",
    "        width=WIDTH,height=HEIGHT, paper=\"special\", bg=\"white\",\n",
    "        fonts=\"Helvetica\", colormodel = \"srgb\", pointsize=6, useDingbats = FALSE)\n",
    "\n",
    "YLIM = 1.3\n",
    "\n",
    "SAMP_LEVELS = c('Control Not-hospitalized discovery+Control Not-hospitalized discovery','Control Not-hospitalized discovery+MIS-C acute validation','Control Not-hospitalized discovery+MIS-C acute discovery','Control Not-hospitalized discovery+MIS-C 1m discovery','Control Not-hospitalized discovery+MIS-C 3m+ discovery')\n",
    "make_bc_plot(bc_melt,SAMP_LEVELS) + coord_cartesian(ylim = c(0,YLIM)) + scale_y_continuous(breaks = seq(0, 1, by = .25))\n",
    "\n",
    "dev.off()\n",
    "\n",
    "               \n",
    "pdf(file=paste0(\"plots/panelE_covid19.pdf\"),\n",
    "        width=WIDTH,height=HEIGHT, paper=\"special\", bg=\"white\",\n",
    "        fonts=\"Helvetica\", colormodel = \"srgb\", pointsize=6, useDingbats = FALSE)\n",
    "\n",
    "YLIM = 1.25\n",
    "\n",
    "SAMP_LEVELS = c('Control Not-hospitalized discovery+Control Not-hospitalized discovery','Control Not-hospitalized discovery+COVID-19 acute discovery','Control Not-hospitalized discovery+COVID-19 1m discovery', 'Control Not-hospitalized discovery+COVID-19 3m+ discovery')\n",
    "make_bc_plot(bc_melt,SAMP_LEVELS) + coord_cartesian(ylim = c(0,YLIM)) + scale_y_continuous(breaks = seq(0, 1, by = .25))\n",
    "\n",
    "dev.off() \n",
    "\n",
    "##------------------------------------\n",
    "# POST-ACUTE\n",
    "##------------------------------------\n",
    "\n",
    "method = \"simpson\"\n",
    "\n",
    "alpha <- data.frame(as.matrix((vegan::diversity(x=res, index = method))))\n",
    "rownames(alpha) <- rownames(res)\n",
    "colnames(alpha) <- method\n",
    "alpha <- merge(alpha,samples,by.x=0,by.y=\"cfrna_sample_id\")\n",
    "alpha[is.na(alpha$severity),\"severity\"] <- 0\n",
    "alpha[grepl(\"ontrol\",alpha$severity),\"severity\"] <- 0\n",
    "alpha <- alpha   %>% \n",
    "    filter(timepoint  %in% c(\"acute\",\"post-acute\",\"Not-hospitalized\"))\n",
    "\n",
    "## PLOT\n",
    "HEIGHT = 0.95\n",
    "WIDTH = 1.4\n",
    "\n",
    "pdf(file=paste0(\"plots/SupPanelD_misc.pdf\"),\n",
    "        width=WIDTH,height=HEIGHT, paper=\"special\", bg=\"white\",\n",
    "        fonts=\"Helvetica\", colormodel = \"srgb\", pointsize=6, useDingbats = FALSE)\n",
    "YLIM = 1.3\n",
    "SAMP_LEVELS = c('Control Not-hospitalized discovery','MIS-C acute validation','MIS-C acute discovery','MIS-C post-acute discovery')\n",
    "make_alpha_plot(alpha,SAMP_LEVELS,method)+ coord_cartesian(ylim = c(0,YLIM)) + scale_y_continuous(breaks = seq(0, 1, by = .25))\n",
    "dev.off()\n",
    "\n",
    "pdf(file=paste0(\"plots/SupPanelD_covid19.pdf\"),\n",
    "        width=WIDTH,height=HEIGHT, paper=\"special\", bg=\"white\",\n",
    "        fonts=\"Helvetica\", colormodel = \"srgb\", pointsize=6, useDingbats = FALSE)\n",
    "YLIM = 1.3\n",
    "SAMP_LEVELS = c('Control Not-hospitalized discovery','COVID-19 acute discovery','COVID-19 post-acute discovery')\n",
    "make_alpha_plot(alpha,SAMP_LEVELS,method)+ coord_cartesian(ylim = c(0,YLIM)) + scale_y_continuous(breaks = seq(0, 1, by = .25))\n",
    "dev.off() "
   ]
  },
  {
   "cell_type": "code",
   "execution_count": null,
   "id": "447a395d-a975-44c4-9f40-9c1b9c7ade05",
   "metadata": {},
   "outputs": [],
   "source": []
  }
 ],
 "metadata": {
  "kernelspec": {
   "display_name": "R",
   "language": "R",
   "name": "ir"
  },
  "language_info": {
   "codemirror_mode": "r",
   "file_extension": ".r",
   "mimetype": "text/x-r-source",
   "name": "R",
   "pygments_lexer": "r",
   "version": "4.1.1"
  }
 },
 "nbformat": 4,
 "nbformat_minor": 5
}
