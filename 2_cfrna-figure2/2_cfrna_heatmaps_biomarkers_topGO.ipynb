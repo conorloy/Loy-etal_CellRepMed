{
 "cells": [
  {
   "cell_type": "code",
   "execution_count": 1,
   "id": "9ddcc42e-407a-4f45-8802-a84141ecd30f",
   "metadata": {
    "vscode": {
     "languageId": "r"
    }
   },
   "outputs": [],
   "source": [
    "suppressMessages(require(tidyverse))\n",
    "suppressMessages(library(DESeq2))\n",
    "\n",
    "suppressMessages(require(pheatmap))\n",
    "suppressMessages(require(RColorBrewer))\n",
    "suppressMessages(require(dendextend))\n",
    "suppressMessages(require(ComplexHeatmap))\n",
    "suppressMessages(require(circlize))\n",
    "\n",
    "suppressMessages(library(data.table))\n",
    "suppressMessages(library(rstatix))\n",
    "suppressMessages(library(ggpubr))\n",
    "\n",
    "suppressMessages(library(grid))\n",
    "suppressMessages(library(gridExtra))\n",
    "\n",
    "\n",
    "source(\"../0_support-files/theme_CRP-MISC.R\")\n",
    "source(\"./fig2_functions.r\")\n",
    "\n",
    "annotation <- fread(file=\"../0_support-files/gencode.biotype.name.key.tsv\")"
   ]
  },
  {
   "cell_type": "code",
   "execution_count": 4,
   "id": "a8373f55-2c57-4711-b6ec-bf5ad65ac0c6",
   "metadata": {
    "vscode": {
     "languageId": "r"
    }
   },
   "outputs": [
    {
     "data": {
      "text/html": [
       "60708"
      ],
      "text/latex": [
       "60708"
      ],
      "text/markdown": [
       "60708"
      ],
      "text/plain": [
       "[1] 60708"
      ]
     },
     "metadata": {},
     "output_type": "display_data"
    }
   ],
   "source": [
    "##------------------------------------\n",
    "## Load results and metadata\n",
    "##------------------------------------\n",
    "\n",
    "covid_control <- readRDS(\"./daa_output/covid-control.rds\")\n",
    "misc_control <- readRDS(\"./daa_output/misc-control.rds\")\n",
    "misc_covid <- readRDS(\"./daa_output/misc-covid.rds\")\n",
    "\n",
    "\n",
    "## Load metadata\n",
    "meta_data_all <- read.delim(\"../1_sample-data/STable6_cfrna-samples.tsv\") \n",
    "\n",
    "## clean up ivig timing\n",
    "meta_data_all[is.na(meta_data_all$ivig_rel_samp),\"ivig_rel_samp\"] <- \"noivig\"\n",
    "\n",
    "\n",
    "## Read ftcount matrix\n",
    "raw_ftcount <- read.delim(\"../1_sample-data/cfrna_ftcounts.txt\",row.names=c(1))\n",
    "nrow(raw_ftcount)\n",
    "\n",
    "gene.list <- read.delim(\"../0_support-files/genelist.hs.tsv\",col.names = c(\"type,\",\"ENSMBL\",\"gene_symbol\"))\n",
    "gene.ids <- gsub(\"\\\\..*\",\"\",rownames(raw_ftcount))\n",
    "\n",
    "exclude.idx <- gene.ids %in% gene.list[,2]\n",
    "raw_ftcount = raw_ftcount[!exclude.idx,]          \n",
    "\n",
    "cpm_ftcount <- edgeR::cpm(raw_ftcount)"
   ]
  },
  {
   "cell_type": "markdown",
   "id": "1a5c5662-c1b0-4846-8dd9-d13285c8ce12",
   "metadata": {
    "tags": []
   },
   "source": [
    "---\n",
    "## Panel F - heatmaps"
   ]
  },
  {
   "cell_type": "code",
   "execution_count": 3,
   "id": "d67575f4-a6e0-4c16-b896-a18096940226",
   "metadata": {
    "vscode": {
     "languageId": "r"
    }
   },
   "outputs": [
    {
     "data": {
      "text/html": [
       "89"
      ],
      "text/latex": [
       "89"
      ],
      "text/markdown": [
       "89"
      ],
      "text/plain": [
       "[1] 89"
      ]
     },
     "metadata": {},
     "output_type": "display_data"
    }
   ],
   "source": [
    "SIG_THRESH = 0.01\n",
    "FC_THRESH = 1.5\n",
    "\n",
    "misc_covid[['res']] %>% data.frame() %>% filter(padj < SIG_THRESH) %>% filter(abs(log2FoldChange) > FC_THRESH) %>% nrow()"
   ]
  },
  {
   "cell_type": "code",
   "execution_count": 4,
   "id": "97914db7-a0ad-46b1-8fe7-a680c002e92e",
   "metadata": {
    "vscode": {
     "languageId": "r"
    }
   },
   "outputs": [
    {
     "name": "stdout",
     "output_type": "stream",
     "text": [
      "[1] 219\n",
      "[1] 1215\n",
      "[1] 89\n"
     ]
    },
    {
     "data": {
      "text/html": [
       "<strong>png:</strong> 2"
      ],
      "text/latex": [
       "\\textbf{png:} 2"
      ],
      "text/markdown": [
       "**png:** 2"
      ],
      "text/plain": [
       "png \n",
       "  2 "
      ]
     },
     "metadata": {},
     "output_type": "display_data"
    },
    {
     "data": {
      "text/html": [
       "<strong>png:</strong> 2"
      ],
      "text/latex": [
       "\\textbf{png:} 2"
      ],
      "text/markdown": [
       "**png:** 2"
      ],
      "text/plain": [
       "png \n",
       "  2 "
      ]
     },
     "metadata": {},
     "output_type": "display_data"
    },
    {
     "data": {
      "text/html": [
       "<strong>png:</strong> 2"
      ],
      "text/latex": [
       "\\textbf{png:} 2"
      ],
      "text/markdown": [
       "**png:** 2"
      ],
      "text/plain": [
       "png \n",
       "  2 "
      ]
     },
     "metadata": {},
     "output_type": "display_data"
    }
   ],
   "source": [
    "##------------------------------------\n",
    "## Plot\n",
    "##------------------------------------\n",
    "SIG_THRESH = 0.01\n",
    "FC_THRESH = 1.5\n",
    "ANNOTATIONS <- c(\"Diagnosis\",\"severity\")\n",
    "\n",
    "WIDTH = 1.6\n",
    "HEIGHT = 2.6\n",
    "\n",
    "RES = 300\n",
    "\n",
    "\n",
    "covid_control_plt <- create_heatmap(covid_control,cpm_ftcount,meta_data_all)\n",
    "misc_control_plt <- create_heatmap(misc_control,cpm_ftcount,meta_data_all)\n",
    "misc_covid_plt <- create_heatmap(misc_covid,cpm_ftcount,meta_data_all)\n",
    "\n",
    "\n",
    "##------------------------------------\n",
    "# SAVE HEATMAP OBJECT\n",
    "\n",
    "prefix = \"COVID19\"\n",
    "       \n",
    "png(file=paste0(\"plots/panelF_covid19-control_heatmap.cfrna.png\"),\n",
    "        width=WIDTH,height=HEIGHT, units =\"in\", bg=\"white\", res = RES, #useRaster = TRUE,\n",
    "        fonts=\"Helvetica\",  pointsize=6)\n",
    "\n",
    "# pdf(file=paste0(\"plots/\",prefix,\".heatmap.cfrna.pdf\"),\n",
    "#         width=WIDTH,height=HEIGHT, paper=\"special\", bg=\"transparent\",\n",
    "#         fonts=\"Helvetica\", colormodel = \"srgb\", pointsize=6, useDingbats = FALSE)\n",
    "\n",
    "draw(covid_control_plt,show_heatmap_legend=FALSE,padding = unit(0.25,\"mm\"))\n",
    "\n",
    "dev.off()\n",
    "\n",
    "##------------------------------------\n",
    "# SAVE HEATMAP OBJECT\n",
    "\n",
    "prefix = \"MISC\"\n",
    "\n",
    "png(file=paste0(\"plots/panelF_misc-control_heatmap.cfrna.png\"),\n",
    "        width=WIDTH,height=HEIGHT, units =\"in\", bg=\"white\", res = RES, #useRaster = TRUE,\n",
    "        fonts=\"Helvetica\",  pointsize=6)\n",
    "\n",
    "# pdf(file=paste0(\"plots/\",prefix,\".heatmap.cfrna.pdf\"),\n",
    "#         width=WIDTH,height=HEIGHT, paper=\"special\", bg=\"transparent\",\n",
    "#         fonts=\"Helvetica\", colormodel = \"srgb\", pointsize=6, useDingbats = FALSE)\n",
    "\n",
    "draw(misc_control_plt,show_heatmap_legend=FALSE,padding = unit(0.25,\"mm\"))\n",
    "\n",
    "dev.off()\n",
    "\n",
    "##------------------------------------\n",
    "# SAVE HEATMAP OBJECT\n",
    "\n",
    "prefix = \"MISC_COVID19\"\n",
    "\n",
    "png(file=paste0(\"plots/panelF_misc-covid19_heatmap.cfrna.png\"),\n",
    "        width=WIDTH,height=HEIGHT, units =\"in\", bg=\"white\", res = RES, #useRaster = TRUE,\n",
    "        fonts=\"Helvetica\",  pointsize=6)\n",
    "\n",
    "# pdf(file=paste0(\"plots/\",prefix,\".heatmap.cfrna.pdf\"),\n",
    "#         width=WIDTH,height=HEIGHT, paper=\"special\", bg=\"transparent\",\n",
    "#         fonts=\"Helvetica\", colormodel = \"srgb\", pointsize=6, useDingbats = FALSE)\n",
    "\n",
    "draw(misc_covid_plt,show_heatmap_legend=FALSE,padding = unit(0.25,\"mm\"))\n",
    "\n",
    "dev.off()"
   ]
  },
  {
   "cell_type": "markdown",
   "id": "5aff46fe-81af-4ba5-9ddc-880923958fec",
   "metadata": {
    "jp-MarkdownHeadingCollapsed": true,
    "tags": []
   },
   "source": [
    "---\n",
    "## Panel G - biomarkers"
   ]
  },
  {
   "cell_type": "code",
   "execution_count": 6,
   "id": "0869156b-4cfa-4945-8c6b-c3b5e653bcfa",
   "metadata": {
    "vscode": {
     "languageId": "r"
    }
   },
   "outputs": [
    {
     "name": "stdout",
     "output_type": "stream",
     "text": [
      "[1] \"num outliers:\"\n",
      "[1] 3\n"
     ]
    },
    {
     "data": {
      "text/html": [
       "<strong>png:</strong> 2"
      ],
      "text/latex": [
       "\\textbf{png:} 2"
      ],
      "text/markdown": [
       "**png:** 2"
      ],
      "text/plain": [
       "png \n",
       "  2 "
      ]
     },
     "metadata": {},
     "output_type": "display_data"
    },
    {
     "name": "stdout",
     "output_type": "stream",
     "text": [
      "[1] \"num outliers:\"\n",
      "[1] 1\n"
     ]
    },
    {
     "data": {
      "text/html": [
       "<strong>png:</strong> 2"
      ],
      "text/latex": [
       "\\textbf{png:} 2"
      ],
      "text/markdown": [
       "**png:** 2"
      ],
      "text/plain": [
       "png \n",
       "  2 "
      ]
     },
     "metadata": {},
     "output_type": "display_data"
    },
    {
     "name": "stdout",
     "output_type": "stream",
     "text": [
      "[1] \"num outliers:\"\n",
      "[1] 0\n"
     ]
    },
    {
     "data": {
      "text/html": [
       "<strong>png:</strong> 2"
      ],
      "text/latex": [
       "\\textbf{png:} 2"
      ],
      "text/markdown": [
       "**png:** 2"
      ],
      "text/plain": [
       "png \n",
       "  2 "
      ]
     },
     "metadata": {},
     "output_type": "display_data"
    },
    {
     "name": "stdout",
     "output_type": "stream",
     "text": [
      "[1] \"num outliers:\"\n",
      "[1] 1\n"
     ]
    },
    {
     "data": {
      "text/html": [
       "<strong>png:</strong> 2"
      ],
      "text/latex": [
       "\\textbf{png:} 2"
      ],
      "text/markdown": [
       "**png:** 2"
      ],
      "text/plain": [
       "png \n",
       "  2 "
      ]
     },
     "metadata": {},
     "output_type": "display_data"
    },
    {
     "name": "stdout",
     "output_type": "stream",
     "text": [
      "[1] \"num outliers:\"\n",
      "[1] 0\n"
     ]
    },
    {
     "data": {
      "text/html": [
       "<strong>png:</strong> 2"
      ],
      "text/latex": [
       "\\textbf{png:} 2"
      ],
      "text/markdown": [
       "**png:** 2"
      ],
      "text/plain": [
       "png \n",
       "  2 "
      ]
     },
     "metadata": {},
     "output_type": "display_data"
    },
    {
     "name": "stdout",
     "output_type": "stream",
     "text": [
      "[1] \"num outliers:\"\n",
      "[1] 1\n"
     ]
    },
    {
     "data": {
      "text/html": [
       "<strong>png:</strong> 2"
      ],
      "text/latex": [
       "\\textbf{png:} 2"
      ],
      "text/markdown": [
       "**png:** 2"
      ],
      "text/plain": [
       "png \n",
       "  2 "
      ]
     },
     "metadata": {},
     "output_type": "display_data"
    }
   ],
   "source": [
    "##------------------------------------\n",
    "## Prep data\n",
    "##------------------------------------\n",
    "\n",
    "annotation <- fread(file=\"../0_support-files/gencode.biotype.name.key.tsv\")\n",
    "\n",
    "keeper_columns <- c(\"gene_name\",\"gene_type\",\"baseMean\",\"padj\",\"log2FoldChange\")\n",
    "\n",
    "# color_groups = c('COVID-19\\ndiscovery' = '#C1272D', 'MIS-C\\ndiscovery' = '#0000A7', 'Control_Non-inflammatory\\ndiscovery' = '#EECC16',\"MIS-C\\nvalidation\" = '#008176')\n",
    "color_groups = c('COVID-19\\ndiscovery' = '#F0484E', 'MIS-C\\ndiscovery' = '#5CB2EB', \n",
    "                 'Control_Non-inflammatory\\ndiscovery' = '#FBE77C',\"MIS-C\\nvalidation\" = '#2BC0B3')\n",
    "\n",
    "counts_cpm <- cpm_ftcount %>% t()\n",
    "\n",
    "samples <- meta_data_all %>% \n",
    "    filter((Diagnosis %in% c(\"MIS-C\",\"COVID-19\") & timepoint == \"acute\") | Diagnosis == \"Control_Non-inflammatory\")\n",
    "\n",
    "\n",
    "##------------------------------------\n",
    "## PLOT\n",
    "##------------------------------------\n",
    "\n",
    "set.seed(42)\n",
    "\n",
    "GENE = \"TGM2\"\n",
    "\n",
    "WIDTH = 1.0\n",
    "HEIGHT = 1.5\n",
    "YLIM = 700\n",
    "\n",
    "pdf(file=paste0(\"plots/panelG_\",GENE,\".pdf\"),\n",
    "        width=WIDTH,height=HEIGHT, paper=\"special\", bg=\"white\",\n",
    "        fonts=\"Helvetica\", colormodel = \"srgb\", pointsize=6, useDingbats = FALSE)\n",
    "get_fig_plot(GENE,samples,counts_cpm,YLIM) + \n",
    "#     scale_y_continuous(breaks = scales::pretty_breaks(n = 4)) + \n",
    "    scale_y_continuous(breaks = c(0,240,480,700)) + \n",
    "    coord_cartesian(ylim = c(0,YLIM))\n",
    "dev.off()\n",
    "\n",
    "\n",
    "\n",
    "GENE = \"AKAP12\"\n",
    "\n",
    "WIDTH = 1.0\n",
    "HEIGHT = 1.5\n",
    "YLIM = 4200\n",
    "\n",
    "pdf(file=paste0(\"plots/panelG_\",GENE,\".pdf\"),\n",
    "        width=WIDTH,height=HEIGHT, paper=\"special\", bg=\"white\",\n",
    "        fonts=\"Helvetica\", colormodel = \"srgb\", pointsize=6, useDingbats = FALSE)\n",
    "get_fig_plot(GENE,samples,counts_cpm,YLIM) + \n",
    "    scale_y_continuous(breaks = c(0,1400,2800,4200)) + \n",
    "    coord_cartesian(ylim = c(0,YLIM)) \n",
    "dev.off()\n",
    "\n",
    "\n",
    "GENE = \"GAS7\"\n",
    "\n",
    "WIDTH = 1.0\n",
    "HEIGHT = 1.5\n",
    "YLIM = 510\n",
    "\n",
    "pdf(file=paste0(\"plots/SupPanelF_\",GENE,\".pdf\"),\n",
    "        width=WIDTH,height=HEIGHT, paper=\"special\", bg=\"white\",\n",
    "        fonts=\"Helvetica\", colormodel = \"srgb\", pointsize=6, useDingbats = FALSE)\n",
    "get_fig_plot(GENE,samples,counts_cpm,YLIM) + \n",
    "#     scale_y_continuous(breaks = scales::pretty_breaks(n = 4)) + \n",
    "    scale_y_continuous(breaks = c(0,170,340,510)) + \n",
    "    coord_cartesian(ylim = c(0,YLIM))\n",
    "dev.off()\n",
    "\n",
    "\n",
    "GENE = \"VAT1\"\n",
    "\n",
    "WIDTH = 1.0\n",
    "HEIGHT = 1.5\n",
    "YLIM = 510\n",
    "\n",
    "pdf(file=paste0(\"plots/SupPanelF_\",GENE,\".pdf\"),\n",
    "        width=WIDTH,height=HEIGHT, paper=\"special\", bg=\"white\",\n",
    "        fonts=\"Helvetica\", colormodel = \"srgb\", pointsize=6, useDingbats = FALSE)\n",
    "get_fig_plot(GENE,samples,counts_cpm,YLIM) + \n",
    "#     scale_y_continuous(breaks = scales::pretty_breaks(n = 4)) + \n",
    "    scale_y_continuous(breaks = c(0,170,340,510)) + \n",
    "    coord_cartesian(ylim = c(0,YLIM))\n",
    "dev.off()\n",
    "\n",
    "\n",
    "\n",
    "\n",
    "\n",
    "GENE = \"CMPK2\"\n",
    "\n",
    "WIDTH = 1.0\n",
    "HEIGHT = 1.5\n",
    "YLIM = 420\n",
    "\n",
    "pdf(file=paste0(\"plots/\",GENE,\".pdf\"),\n",
    "        width=WIDTH,height=HEIGHT, paper=\"special\", bg=\"white\",\n",
    "        fonts=\"Helvetica\", colormodel = \"srgb\", pointsize=6, useDingbats = FALSE)\n",
    "get_fig_plot(GENE,samples,counts_cpm,YLIM) + \n",
    "    scale_y_continuous(breaks = c(0,140,280,420)) +\n",
    "    coord_cartesian(ylim = c(0,YLIM)) \n",
    "dev.off()\n",
    "\n",
    "\n",
    "GENE = \"RSAD2\"\n",
    "YLIM = 420\n",
    "\n",
    "pdf(file=paste0(\"plots/\",GENE,\".pdf\"),\n",
    "        width=WIDTH,height=HEIGHT, paper=\"special\", bg=\"white\",\n",
    "        fonts=\"Helvetica\", colormodel = \"srgb\", pointsize=6, useDingbats = FALSE)\n",
    "get_fig_plot(GENE,samples,counts_cpm,YLIM) + \n",
    "        scale_y_continuous(breaks = c(0,140,280,420)) + \n",
    "        coord_cartesian(ylim = c(0,YLIM)) \n",
    "dev.off()"
   ]
  },
  {
   "cell_type": "markdown",
   "id": "d8505ef7-9282-44c1-b8fd-fd5260380b8d",
   "metadata": {
    "jp-MarkdownHeadingCollapsed": true,
    "tags": []
   },
   "source": [
    "---\n",
    "## SupPanel E - TOO x DAA clustering"
   ]
  },
  {
   "cell_type": "code",
   "execution_count": 7,
   "id": "ac79365f-8969-471a-b96e-c69457950ec7",
   "metadata": {
    "vscode": {
     "languageId": "r"
    }
   },
   "outputs": [],
   "source": [
    "colLab<<-function(n,PatientDate_df){\n",
    "    if(is.leaf(n)){\n",
    "        \n",
    "#         print(attributes(n)$label)\n",
    "        \n",
    "        #I take the current attributes\n",
    "        a=attributes(n)\n",
    "        \n",
    "        #I deduce the line in the groupal data, and so the treatment and the specie.\n",
    "        ligne=match(attributes(n)$label,cf_meta$cfrna_sample_id)\n",
    "        Diagnosis=cf_meta[ligne,]$Diagnosis;\n",
    "            if(Diagnosis==\"COVID-19\"){col_diag=\"#740C33\"};if(Diagnosis==\"MIS-C\"){col_diag=\"#0234C1\"};if(Diagnosis==\"Control_Non-inflammatory\"){col_diag=\"#4b7a47\"};if(Diagnosis==\"Control_Inflammatory\"){col_diag=\"purple\"}\n",
    "        #Modification of leaf attribute\n",
    "        attr(n,\"nodePar\")<-c(a$nodePar,list(cex=1.5,lab.cex=1,pch=20,col=col_diag,lab.col=col_diag,lab.font=1,lab.cex=1))\n",
    "        }\n",
    "    return(n)\n",
    "}\n",
    "\n",
    "\n",
    "get_hclust <- function(IDS,sig_genes,meta,ftcounts){\n",
    "#     ANNOTATIONS <- c(\"Diagnosis\",\"severity\",'pcr_positive_MC_1yes','antibody_positive_MC_1yes','kd_like_MC_1yes','req_vasopressors_inotropes_MC_1yes')\n",
    "    ANNOTATIONS <- c(\"Diagnosis\",\"severity\")\n",
    "\n",
    "\n",
    "\n",
    "    if (is.null(meta$cfrna_sample_id)) {meta$cfrna_sample_id <- meta$SEQ_ID..UCSFonly.}\n",
    "    \n",
    "    metadata <- meta %>% \n",
    "    filter(cfrna_sample_id %in% all_of(IDS)) %>%                                 ###\n",
    "    mutate(PTID_DATE = gsub(\"-\",\"\\\\.\",PTID_DATE)) %>%\n",
    "    column_to_rownames(var = \"cfrna_sample_id\") %>%  \n",
    "    mutate(severity = ifelse(grepl(\"ontrol\",severity),NA,severity)) %>%\n",
    "    select(all_of(ANNOTATIONS))\n",
    "\n",
    "    colnames(metadata) <- c(\"Diagnosis\",\"Severity\",\"PCR\",\"Antibody\")\n",
    "\n",
    "    ###----------------------------------\n",
    "    ## Subset count matrix\n",
    "    mat <- data.frame(ftcounts) %>% \n",
    "            filter(row.names(ftcounts) %in% all_of(sig_genes)) %>% \n",
    "            select(all_of(rownames(metadata))) %>% \n",
    "            as.matrix()\n",
    "\n",
    "    mat <- t(scale(t(mat)))\n",
    "\n",
    "    ###----------------------------------\n",
    "    ## Perform clustering\n",
    "\n",
    "    h <- hclust(as.dist(1 - cor(mat, method = \"pearson\", use = 'pairwise.complete.obs')))\n",
    "    return(h)\n",
    "}\n",
    "\n",
    "\n",
    "\n",
    "get_dend <- function(IDS,sig_genes,meta,ftcounts){\n",
    "    \n",
    "    ANNOTATIONS <- c(\"Diagnosis\",\"severity\")\n",
    "\n",
    "    if (is.null(meta$cfrna_sample_id)) {meta$cfrna_sample_id <- meta$SEQ_ID..UCSFonly.}\n",
    "    \n",
    "    metadata <- meta %>% \n",
    "    filter(cfrna_sample_id %in% all_of(IDS)) %>%                                 ###\n",
    "    column_to_rownames(var = \"cfrna_sample_id\") %>%  \n",
    "    mutate(severity = ifelse(grepl(\"ontrol\",severity),NA,severity)) %>%\n",
    "    select(all_of(ANNOTATIONS))\n",
    "\n",
    "    colnames(metadata) <- c(\"Diagnosis\",\"Severity\")\n",
    "\n",
    "    ###----------------------------------\n",
    "    ## Subset count matrix\n",
    "    mat <- data.frame(ftcounts) %>% \n",
    "            filter(row.names(ftcounts) %in% all_of(sig_genes)) %>% \n",
    "            select(all_of(rownames(metadata))) %>% \n",
    "            as.matrix()\n",
    "\n",
    "    mat <- t(scale(t(mat)))\n",
    "\n",
    "    ###----------------------------------\n",
    "    ## Perform clustering\n",
    "\n",
    "    h <- hclust(as.dist(1 - cor(mat, method = \"pearson\", use = 'pairwise.complete.obs')))\n",
    "#     h <- hclust(as.dist(mat))\n",
    "\n",
    "    dend <- as.dendrogram(h)\n",
    "\n",
    "    dendL <- dendrapply(dend, colLab,PatientDate_df)\n",
    "\n",
    "    return(dendL)\n",
    "}"
   ]
  },
  {
   "cell_type": "code",
   "execution_count": 11,
   "id": "af7174ab-7970-47fb-820b-9b5ef771faa2",
   "metadata": {
    "vscode": {
     "languageId": "r"
    }
   },
   "outputs": [
    {
     "name": "stderr",
     "output_type": "stream",
     "text": [
      "Warning message in melt(cf_meta_clust, id.vars = non_celltypes):\n",
      "“The melt generic in data.table has been passed a data.frame and will attempt to redirect to the relevant reshape2 method; please note that reshape2 is deprecated, and this redirection is now deprecated as well. To continue using melt methods from reshape2 while both libraries are attached, e.g. melt.list, you can prepend the namespace like reshape2::melt(cf_meta_clust). In the next version, this warning will become an error.”\n"
     ]
    },
    {
     "data": {
      "text/html": [
       "<table class=\"dataframe\">\n",
       "<caption>A data.frame: 7 × 3</caption>\n",
       "<thead>\n",
       "\t<tr><th></th><th scope=col>ct</th><th scope=col>pval</th><th scope=col>pval.adj</th></tr>\n",
       "\t<tr><th></th><th scope=col>&lt;chr&gt;</th><th scope=col>&lt;chr&gt;</th><th scope=col>&lt;dbl&gt;</th></tr>\n",
       "</thead>\n",
       "<tbody>\n",
       "\t<tr><th scope=row>Platelet</th><td>Platelet                 </td><td>3.70588475212129e-10</td><td>3.705885e-09</td></tr>\n",
       "\t<tr><th scope=row>Endothelial.cell</th><td>Endothelial.cell         </td><td>7.1472989013168e-07 </td><td>3.573649e-06</td></tr>\n",
       "\t<tr><th scope=row>Myeloid.progenitor</th><td>Myeloid.progenitor       </td><td>0.000951350481358158</td><td>3.171168e-03</td></tr>\n",
       "\t<tr><th scope=row>Monocyte</th><td>Monocyte                 </td><td>0.00133538314735513 </td><td>3.338458e-03</td></tr>\n",
       "\t<tr><th scope=row>neutrophil</th><td>neutrophil               </td><td>0.00341735019343294 </td><td>6.834700e-03</td></tr>\n",
       "\t<tr><th scope=row>NK.Cell</th><td>NK.Cell                  </td><td>0.00609550836070846 </td><td>1.015918e-02</td></tr>\n",
       "\t<tr><th scope=row>Respiratory.ciliated.cell</th><td>Respiratory.ciliated.cell</td><td>0.0207103930279848  </td><td>2.958628e-02</td></tr>\n",
       "</tbody>\n",
       "</table>\n"
      ],
      "text/latex": [
       "A data.frame: 7 × 3\n",
       "\\begin{tabular}{r|lll}\n",
       "  & ct & pval & pval.adj\\\\\n",
       "  & <chr> & <chr> & <dbl>\\\\\n",
       "\\hline\n",
       "\tPlatelet & Platelet                  & 3.70588475212129e-10 & 3.705885e-09\\\\\n",
       "\tEndothelial.cell & Endothelial.cell          & 7.1472989013168e-07  & 3.573649e-06\\\\\n",
       "\tMyeloid.progenitor & Myeloid.progenitor        & 0.000951350481358158 & 3.171168e-03\\\\\n",
       "\tMonocyte & Monocyte                  & 0.00133538314735513  & 3.338458e-03\\\\\n",
       "\tneutrophil & neutrophil                & 0.00341735019343294  & 6.834700e-03\\\\\n",
       "\tNK.Cell & NK.Cell                   & 0.00609550836070846  & 1.015918e-02\\\\\n",
       "\tRespiratory.ciliated.cell & Respiratory.ciliated.cell & 0.0207103930279848   & 2.958628e-02\\\\\n",
       "\\end{tabular}\n"
      ],
      "text/markdown": [
       "\n",
       "A data.frame: 7 × 3\n",
       "\n",
       "| <!--/--> | ct &lt;chr&gt; | pval &lt;chr&gt; | pval.adj &lt;dbl&gt; |\n",
       "|---|---|---|---|\n",
       "| Platelet | Platelet                  | 3.70588475212129e-10 | 3.705885e-09 |\n",
       "| Endothelial.cell | Endothelial.cell          | 7.1472989013168e-07  | 3.573649e-06 |\n",
       "| Myeloid.progenitor | Myeloid.progenitor        | 0.000951350481358158 | 3.171168e-03 |\n",
       "| Monocyte | Monocyte                  | 0.00133538314735513  | 3.338458e-03 |\n",
       "| neutrophil | neutrophil                | 0.00341735019343294  | 6.834700e-03 |\n",
       "| NK.Cell | NK.Cell                   | 0.00609550836070846  | 1.015918e-02 |\n",
       "| Respiratory.ciliated.cell | Respiratory.ciliated.cell | 0.0207103930279848   | 2.958628e-02 |\n",
       "\n"
      ],
      "text/plain": [
       "                          ct                        pval                \n",
       "Platelet                  Platelet                  3.70588475212129e-10\n",
       "Endothelial.cell          Endothelial.cell          7.1472989013168e-07 \n",
       "Myeloid.progenitor        Myeloid.progenitor        0.000951350481358158\n",
       "Monocyte                  Monocyte                  0.00133538314735513 \n",
       "neutrophil                neutrophil                0.00341735019343294 \n",
       "NK.Cell                   NK.Cell                   0.00609550836070846 \n",
       "Respiratory.ciliated.cell Respiratory.ciliated.cell 0.0207103930279848  \n",
       "                          pval.adj    \n",
       "Platelet                  3.705885e-09\n",
       "Endothelial.cell          3.573649e-06\n",
       "Myeloid.progenitor        3.171168e-03\n",
       "Monocyte                  3.338458e-03\n",
       "neutrophil                6.834700e-03\n",
       "NK.Cell                   1.015918e-02\n",
       "Respiratory.ciliated.cell 2.958628e-02"
      ]
     },
     "metadata": {},
     "output_type": "display_data"
    },
    {
     "data": {
      "text/html": [
       "<strong>png:</strong> 2"
      ],
      "text/latex": [
       "\\textbf{png:} 2"
      ],
      "text/markdown": [
       "**png:** 2"
      ],
      "text/plain": [
       "png \n",
       "  2 "
      ]
     },
     "metadata": {},
     "output_type": "display_data"
    }
   ],
   "source": [
    "###----------------------------------\n",
    "\n",
    "PVAL_THRESH = 0.01\n",
    "LOGFC_THRESH = 1.5\n",
    "\n",
    "cf_meta <- meta_data_all\n",
    "cf_ftcounts <- cpm_ftcount\n",
    "\n",
    "##------------------------------------\n",
    "## Make dendograms & cluster\n",
    "##------------------------------------\n",
    "\n",
    "## MISC vs COVID\n",
    "cf_tmp_rds <- misc_covid\n",
    "\n",
    "IDS_cf <- colnames(cf_tmp_rds[['dds']])\n",
    "\n",
    "sig_genes <- data.frame(cf_tmp_rds[['res']]) %>% filter(padj < PVAL_THRESH & abs(log2FoldChange) > LOGFC_THRESH) %>% rownames()\n",
    "misc_covid_dendL = get_dend(IDS_cf,sig_genes,cf_meta,cf_ftcounts)\n",
    "\n",
    "\n",
    "## MISC vs CONTROL\n",
    "cf_tmp_rds <- misc_control\n",
    "\n",
    "IDS_cf <- colnames(cf_tmp_rds[['dds']])\n",
    "\n",
    "sig_genes <- data.frame(cf_tmp_rds[['res']]) %>% filter(padj < PVAL_THRESH & abs(log2FoldChange) > LOGFC_THRESH) %>% rownames()\n",
    "misc_control_dendL = get_dend(IDS_cf,sig_genes,cf_meta,cf_ftcounts)\n",
    "\n",
    "\n",
    "## get groups\n",
    "misc_covid_groups <- misc_covid_dendL %>% cutree(k=3)\n",
    "misc_control_groups <- misc_control_dendL %>% cutree(k=3)\n",
    "\n",
    "## add clustering to metdata\n",
    "cf_meta_clust <- merge(cf_meta,data.frame(misc_covid_groups),by.x= \"cfrna_sample_id\", by.y=0,all.x=T)\n",
    "cf_meta_clust <- merge(cf_meta_clust,data.frame(misc_control_groups),by.x= \"cfrna_sample_id\", by.y=0,all.x=T)\n",
    "\n",
    "misc_covid_seed_group <- misc_covid_groups[['prevail_cu_cfrna_301']]\n",
    "misc_control_seed_group <- misc_control_groups[['prevail_cu_cfrna_301']]\n",
    "\n",
    "cf_meta_clust <- cf_meta_clust %>% filter(!is.na(misc_covid_groups)) %>% filter(!is.na(misc_control_groups))\n",
    "\n",
    "cf_meta_clust <- cf_meta_clust %>% mutate(in_group = ifelse( (misc_covid_groups == misc_covid_seed_group) & (misc_control_groups == misc_control_seed_group), \"IN\", \"OUT\"))\n",
    "\n",
    "##------------------------------------\n",
    "## Read decon and plot\n",
    "##------------------------------------\n",
    "\n",
    "# decon = read.csv(\"../1_sample-data/cfrna_deconvolution.csv\") %>% filter(X %in% all_of(cf_meta_clust$cfrna_sample_id))\n",
    "\n",
    "\n",
    "# celltypes <- decon %>% melt(id.vars= \"X\") %>% group_by(variable) %>% summarize(mean_frac = mean(value)) %>% filter(mean_frac > 0.01) %>% pull(variable) %>% as.character()\n",
    "\n",
    "# decon <- decon[,c(\"X\",celltypes)]\n",
    "\n",
    "\n",
    "CELLTYPES <- c('Intrahepatic.cholangiocyte','NK.Cell','Monocyte','Macrophage','Secretory.cell','Respiratory.ciliated.cell',\n",
    "               'Ionocyte.luminal.epithelial.cell.of.mammary.gland','Fibroblast.mesenchymal.stem.cell','Respiratory.secretory.cell',\n",
    "               'Mast.cell','Basal.cell','Endothelial.cell','neutrophil','B.cell','T.Cell','Erythrocyte.erythroid.progenitor','Platelet',\n",
    "               'Basophil','Stromal.cell','Mature.conventional.dendritic.cell','Adventitial.cell','Gland.cell','Salivary.bronchial.secretory.cell',\n",
    "               'Pericyte.cell','Myeloid.progenitor','Pancreatic.Stellate.cell','Pancreatic.alpha.beta.cell','Basal.prostate.cell',\n",
    "               'Prostate.epithelia','Salivary.gland.cell','Intestinal.enterocyte','Intestinal.secretory.cell','Intestinal.tuft.cell',\n",
    "               'Type.II.Pneumocyte','Cell.of.skeletal.muscle','Schwann.cell','Tendon.cell','Mesothelial.cell','Plasmablast',\n",
    "               'Kidney.epithelial.cell','Thymocyte')\n",
    "\n",
    "decon <- meta_data_all[,CELLTYPES]\n",
    "decon$X <- meta_data_all$cfrna_sample_id\n",
    "\n",
    "cols <- colnames(cf_meta_clust)\n",
    "celltypes <- cols[15:(length(cols)-3)]\n",
    "non_celltypes <- cols[!(cols %in% celltypes)]\n",
    "\n",
    "celltypes <- melt(cf_meta_clust, id.vars = non_celltypes) %>% \n",
    "    group_by(variable) %>% \n",
    "    summarize(mean_frac = mean(value)) %>% filter(mean_frac > 0.01) %>% pull(variable) %>% as.character()\n",
    "\n",
    "cf_mcd = cf_meta_clust\n",
    "\n",
    "\n",
    "\n",
    "# nrow(cf_meta_clust)\n",
    "# nrow(cf_meta_clust_decon)\n",
    "\n",
    "ct_output <- list()\n",
    "for (ct in celltypes){\n",
    "    \n",
    "    cf_mcd$ct <- cf_mcd[[ct]]\n",
    "\n",
    "#     cf_mcd$ct <- scale(cf_mcd[[ct]])\n",
    "    one.way <-  aov( ct ~ as.character(misc_covid_groups), data= cf_mcd)    \n",
    "    ct_output[[ct]] <- c(ct,summary(one.way)[[1]][[\"Pr(>F)\"]][1])\n",
    "}\n",
    "cf_mcd$ct <- NULL\n",
    "\n",
    "ct_df <- data.frame(do.call(\"rbind\",ct_output))\n",
    "colnames(ct_df) <- c(\"ct\",\"pval\")\n",
    "\n",
    "ct_df$pval.adj <- p.adjust(ct_df$pval, method = \"BH\")\n",
    "\n",
    "\n",
    "ct_df %>% arrange(pval.adj) %>% filter(pval.adj < 0.05)\n",
    "\n",
    "## PREPARE ANNOTATION\n",
    "anno <- cf_mcd %>% select(cfrna_sample_id,misc_control_groups) %>% arrange(misc_control_groups) \n",
    "colnames(anno)[2] <- \"cluster\"\n",
    "rownames(anno) <- anno$cfrna_sample_id\n",
    "\n",
    "# anno$pos <- c(1:nrow(anno))\n",
    "# anno <- merge(anno,solid_df)\n",
    "# anno <- anno %>% arrange(pos)\n",
    "# anno$pos <- NULL\n",
    "\n",
    "\n",
    "anno$cfrna_sample_id <- NULL\n",
    "\n",
    "\n",
    "## PREPARE MATRIX\n",
    "sig_cts <- ct_df %>% arrange(pval.adj) %>% filter(pval.adj < 0.05) %>% pull(ct)\n",
    "mat <- decon[,c(\"X\",sig_cts)]\n",
    "mat <- mat[match(rownames(anno),mat$X),]\n",
    "\n",
    "# mat$pos <- c(1:nrow(mat))\n",
    "# mat <- merge(mat,solid_df,by.x=\"X\",by.y=\"cfrna_sample_id\")\n",
    "# mat$pos <- NULL\n",
    "\n",
    "rownames(mat) <- mat$X\n",
    "mat$X <- NULL\n",
    "\n",
    "mat <- t(scale(mat))\n",
    "\n",
    "\n",
    "\n",
    "## PREPARE COLORS\n",
    "mycolors <- list(\n",
    "    cluster = c(\"1\" = \"red4\",\"2\" = \"purple\",\"3\" = \"blue\") #     respiratory_failure_MC_1yes = c(\"1\" = \"red4\",\"0\" = \"purple\")\n",
    ")\n",
    "\n",
    "breaksList = seq(-2, 2, by = .1)\n",
    "\n",
    "\n",
    "\n",
    "\n",
    "\n",
    "## MAKE HEATMAP\n",
    "heatmap_plt <- pheatmap(mat,\n",
    "                        \n",
    "             # Colors\n",
    "             color = colorRampPalette(rev(brewer.pal(n = 7, name = \"RdYlBu\")))(length(breaksList)),\n",
    "             breaks=breaksList, \n",
    "             annotation_col=anno,\n",
    "             annotation_colors=mycolors,\n",
    "             na_col = \"#FFFFFF\",\n",
    "                        \n",
    "             # Fonts\n",
    "             show_colnames=F,\n",
    "             show_rownames=T,\n",
    "             fontsize=12,\n",
    "             fontsize_col=3,\n",
    "             fontsize_row = 3,\n",
    "             annotation_names_col=F,\n",
    "             annotation_names_row=F,\n",
    "\n",
    "\n",
    "                        \n",
    "             treeheight_row=7,\n",
    "             cluster_cols = FALSE,\n",
    "             labels_col = \"CLUSTER\",\n",
    "              cutree_rows = 4,\n",
    "                        \n",
    "            border_color=\"dark grey\",\n",
    "                        \n",
    "              legend = FALSE,\n",
    "              annotation_legend = FALSE\n",
    "                       )\n",
    "\n",
    "# print(heatmap_plt)\n",
    "suppressMessages(require(ComplexHeatmap))\n",
    "\n",
    "HEIGHT = 1.75\n",
    "WIDTH = 1.5\n",
    "\n",
    "pdf(file=paste0(\"plots/SupPanelE_DAAclust.pdf\"),\n",
    "        width=WIDTH,height=HEIGHT, paper=\"special\", bg=\"white\",\n",
    "        fonts=\"Helvetica\", colormodel = \"srgb\", pointsize=6, useDingbats = FALSE)\n",
    "\n",
    "print(heatmap_plt)\n",
    "# draw(heatmap_plt,show_heatmap_legend=TRUE,padding = unit(0.25,\"mm\"))\n",
    "\n",
    "dev.off()"
   ]
  },
  {
   "cell_type": "markdown",
   "id": "e15dfc9f-278f-4e49-8d18-a29377a315af",
   "metadata": {
    "jp-MarkdownHeadingCollapsed": true,
    "tags": []
   },
   "source": [
    "---\n",
    "## Panel H - Gene module scores"
   ]
  },
  {
   "cell_type": "code",
   "execution_count": 7,
   "id": "e6cfe39b-f964-464b-bf41-d5dd608d4f94",
   "metadata": {
    "tags": [],
    "vscode": {
     "languageId": "r"
    }
   },
   "outputs": [],
   "source": [
    "##------------------------------------\n",
    "# FUNCTIONS\n",
    "\n",
    "get_cum_cpm <- function(genes,counts_cpm){\n",
    "    \n",
    "    df <- counts_cpm[gsub(\"\\\\..*\",\"\",rownames(counts_cpm)) %in% genes,]\n",
    "    \n",
    "    ct_counts <- data.frame(colSums(df))\n",
    "    \n",
    "    colnames(ct_counts) <- \"score\"\n",
    "    \n",
    "    ct_counts <- merge(ct_counts,samples,by.x=0,by.y=\"cfrna_sample_id\")\n",
    "    \n",
    "    return(ct_counts)\n",
    "    \n",
    "}\n",
    "\n",
    "BoxMeanQuant <- function(x) {\n",
    "    v <- c(min(x), quantile(x, 0.25), mean(x), quantile(x, 0.75), max(x))\n",
    "    names(v) <- c(\"ymin\", \"lower\", \"middle\", \"upper\", \"ymax\")\n",
    "    v\n",
    "  }\n",
    "\n",
    "\n",
    "convert_SYM_ENSEM <- function(x,ref){\n",
    "\n",
    "    return(ref[which(ref$gene_name %in% x),]$gene_id)\n",
    "}\n",
    "\n",
    "\n",
    "\n",
    "extract_sig <- function(x,sig){\n",
    "    genes = unlist(strsplit(x,\",\"))\n",
    "    genes = genes[genes %in% sig]\n",
    "    return(as.character(paste(genes,collapse=\",\")))\n",
    "    \n",
    "}\n",
    "\n",
    "add_sig_col <- function(rds){\n",
    "    \n",
    "    up_genes1 <- data.frame(rds[['res']]) %>% filter(padj <= 0.05 & !is.na(padj)) %>%  filter(log2FoldChange > 0) %>% rownames()\n",
    "    up_genes <- gsub(\"\\\\..*\",\"\",up_genes1)\n",
    "    \n",
    "    df <- rds$`TopGO+`\n",
    "    df[['genes_sig']] <- lapply(df$genes,extract_sig,up_genes)\n",
    "    rds$`TopGO+` <- df\n",
    "    \n",
    "    ##-------------------------\n",
    "    \n",
    "    down_genes1 <- data.frame(rds[['res']]) %>% filter(padj <= 0.05 & !is.na(padj)) %>%  filter(log2FoldChange < 0) %>% rownames()\n",
    "    down_genes <- gsub(\"\\\\..*\",\"\",down_genes1)\n",
    "    \n",
    "    df <- rds$`TopGO-`\n",
    "    df[['genes_sig']] <- lapply(df$genes,extract_sig,down_genes)\n",
    "    rds$`TopGO-` <- df  \n",
    "    \n",
    "    return(rds)\n",
    "}\n",
    "\n",
    "get_plots <- function(ct_counts,expGroupPalette,DiagnosisPalette,YLIM){\n",
    "\n",
    "    \n",
    "    ct_counts$timepoint <- factor(ct_counts$timepoint,levels=c(\"acute\",\"1m\",\"3m+\",\"Control\"))\n",
    "\n",
    "    common <- list(theme_prevail(),\n",
    "        theme(legend.position = \"none\",\n",
    "        axis.text.x = element_blank(),\n",
    "        axis.title.y = element_blank(),\n",
    "        axis.title.x = element_blank(),\n",
    "#         panel.border = element_blank(),\n",
    "        panel.grid.minor = element_blank()))\n",
    "\n",
    "    box_common <- list(scale_x_discrete(expand = c(0, 0)),\n",
    "        scale_fill_manual(values=expGroupPalette))\n",
    "\n",
    "\n",
    "    ct_counts_SUM <- Rmisc::summarySE(ct_counts[which((ct_counts$group == \"discovery\") & !(grepl(\"Control\",ct_counts$Diagnosis) )),],\n",
    "                                               measurevar=\"score\", \n",
    "                                               groupvars=c(\"expGroup\",\"timepoint\",\"Diagnosis\"))\n",
    "\n",
    "    MEAN_CNTRL <- mean(ct_counts[which(grepl(\"Control\",ct_counts$Diagnosis)),\"score\"])\n",
    "\n",
    "    ##------------------------------------\n",
    "    # Control Boxplot\n",
    "\n",
    "    cntrl_boxplot <- ct_counts %>% \n",
    "    filter(grepl(\"Control\",Diagnosis)) %>%\n",
    "    ggplot(aes(x=expGroup,y=score,fill=expGroup))+\n",
    "    geom_boxplot(width=0.5/4,size = 0.2,outlier.size = .01)+\n",
    "    stat_summary(fun=mean, geom=\"point\", shape=18, size=.2, color=\"white\", fill=\"white\") \n",
    "\n",
    "    ##------------------------------------\n",
    "    # Acute Boxplot\n",
    "\n",
    "    acute_boxplot <- ct_counts %>% \n",
    "    filter(grepl(\"Control|acute\",expGroup)) %>%\n",
    "    mutate(expGroup = factor(expGroup,levels=c(\"Control_Non-inflammatory_Not-hospitalized_discovery\",\"MIS-C_acute_validation\",\"MIS-C_acute_discovery\",\"COVID-19_acute_discovery\")))%>%\n",
    "    ggplot(aes(x=expGroup,y=score))+\n",
    "#     geom_hline(yintercept = MEAN_CNTRL,alpha = 0.75, size = .7, linetype = \"dashed\",color = \"black\" )+\n",
    "    geom_hline(yintercept = MEAN_CNTRL,alpha = 0.75, size = .5, linetype = \"dashed\",color = DiagnosisPalette[which(names(DiagnosisPalette) == \"Control\")][1] )+\n",
    "    geom_boxplot(aes(fill=expGroup), width=0.75,size = 0.2,outlier.size = .01, outlier.shape=NA)+\n",
    "    stat_summary(fun=mean, geom=\"point\", shape=18, size=.2, color=\"white\", fill=\"white\") \n",
    "\n",
    "    ##------------------------------------ \n",
    "    # LINE PLOT\n",
    "    pd <- position_dodge(0.05)\n",
    "\n",
    "    line_plot <- ct_counts_SUM %>%\n",
    "    ggplot(aes(x=timepoint, y=score, colour=Diagnosis, group=Diagnosis)) + \n",
    "#         geom_hline(yintercept = MEAN_CNTRL,alpha = 0.75, size = .7, linetype = \"dashed\",color = \"black\" )+\n",
    "        geom_hline(yintercept = MEAN_CNTRL,alpha = 0.75, size = .5, linetype = \"dashed\",color = DiagnosisPalette[which(names(DiagnosisPalette) == \"Control\")][1] )+\n",
    "        geom_errorbar(aes(ymin=score-se, ymax=score+se), width=.1, position=pd) +\n",
    "        geom_line(position=pd) +\n",
    "        geom_point(position=pd, size = 0.5)+\n",
    "    scale_x_discrete(expand = c(.1, 0))+\n",
    "    scale_color_manual(values=DiagnosisPalette)\n",
    "    \n",
    "    \n",
    "\n",
    "    ##------------------------------------\n",
    "    # Customize\n",
    "\n",
    "    # Calculate Y limits\n",
    "    y_range_cntl <- layer_scales(cntrl_boxplot)$y$range$range\n",
    "    y_range_acute <- layer_scales(acute_boxplot)$y$range$range\n",
    "    y_range_ln <- layer_scales(line_plot)$y$range$range\n",
    "\n",
    "    starts <- c(y_range_cntl[1],y_range_acute[1],y_range_ln[1],0)\n",
    "    stops <- c(y_range_cntl[2],y_range_acute[2],y_range_ln[2])\n",
    "    \n",
    "    proper_scale <- list(coord_cartesian(ylim = c(min(starts), max(stops))), \n",
    "                    scale_y_continuous(labels = function(x) format(x, scientific = TRUE, digits = 2),\n",
    "                                       breaks = seq(0,max(stops),length.out  = 4)))\n",
    "    \n",
    "    \n",
    "    \n",
    "    ##---------------------------------------\n",
    "    # ADD SIG BARS\n",
    "    \n",
    "    stat.test <- ct_counts  %>% \n",
    "    filter(grepl(\"Control|acute\",expGroup)) %>%\n",
    "    mutate(expGroup = factor(expGroup,levels=c(\"Control_Non-inflammatory_Not-hospitalized_discovery\",\"MIS-C_acute_validation\",\"MIS-C_acute_discovery\",\"COVID-19_acute_discovery\")))%>%\n",
    "    wilcox_test(score ~ expGroup) %>% \n",
    "    adjust_pvalue(method = \"BH\") %>% \n",
    "    add_significance(\"p.adj\") %>% \n",
    "    add_xy_position(x = \"expGroup\")\n",
    "    \n",
    "    stat.test <- stat.test %>% arrange(desc(y.position))\n",
    "    stat.test$rank <- c(1:nrow(stat.test))\n",
    "    stat.test$y.position <- YLIM - ((0.05*stat.test$rank)*YLIM)\n",
    "                                       \n",
    "    sig_bars <- stat_pvalue_manual(stat.test, label = \"p.adj.signif\",tip.length=0) \n",
    "    \n",
    "    acute_boxplot <- acute_boxplot + sig_bars\n",
    "    \n",
    "#     return(acute_boxplot)\n",
    "#     print(stat.test)\n",
    "    \n",
    "    ##---------------------------------------\n",
    "    # FINALIZE\n",
    "            \n",
    "    line_plot <- line_plot + common + proper_scale\n",
    "                                       \n",
    "    cntrl_boxplot <- cntrl_boxplot + common + box_common + proper_scale\n",
    "                        \n",
    "    acute_boxplot <- acute_boxplot + common + box_common + proper_scale\n",
    "    \n",
    "\n",
    "\n",
    "    \n",
    "    return(list(\"line_plot\" = line_plot,\n",
    "                \"cntrl_boxplot\" = cntrl_boxplot,\n",
    "                \"acute_boxplot\" = acute_boxplot))\n",
    "    \n",
    "    }"
   ]
  },
  {
   "cell_type": "code",
   "execution_count": 8,
   "id": "14c61b8f-767c-4beb-8c5d-e9da00f1ef72",
   "metadata": {
    "tags": [],
    "vscode": {
     "languageId": "r"
    }
   },
   "outputs": [],
   "source": [
    "##------------------------------------\n",
    "\n",
    "counts_cpm <- cpm_ftcount\n",
    "samples <- meta_data_all %>% \n",
    "    filter(timepoint != \"post-acute\")\n",
    "\n",
    "samples$expGroup <- paste0(samples$Diagnosis,\"_\",samples$timepoint,\"_\",samples$group)\n",
    "GROUPS = c(\"Control_Non-inflammatory_Not-hospitalized_discovery\",\"MIS-C_acute_validation\",\n",
    "           \"COVID-19_acute_discovery\",\"COVID-19_1m_discovery\",\"COVID-19_3m+_discovery\",\n",
    "           \"MIS-C_acute_discovery\",\"MIS-C_1m_discovery\",\"MIS-C_3m+_discovery\"\n",
    "          )\n",
    "samples <- samples %>% filter(expGroup %in% GROUPS) %>% mutate(timepoint = ifelse(grepl(\"Control_Non\",Diagnosis),\"Control\",timepoint))\n",
    "\n",
    "counts_cpm <- counts_cpm[,samples$cfrna_sample_id]\n",
    "\n",
    "\n",
    "expGroupPalette = c('#00FFFF','#007FFF','#FF007F','#7FFF00')\n",
    "names(expGroupPalette) <- c(\"MIS-C_acute_validation\",\"MIS-C_acute_discovery\",\"COVID-19_acute_discovery\",\"Control_Non-inflammatory_Not-hospitalized_discovery\")\n",
    "\n",
    "DiagnosisPalette = c('#5CB2EB','#F0484E','#FBE77C')\n",
    "names(DiagnosisPalette) <- c(\"MIS-C\",\"COVID-19\",\"Control\")\n",
    "\n",
    "\n",
    "expGroupPalette = c('COVID-19_acute_discovery' = '#F0484E', 'MIS-C_acute_discovery' = '#5CB2EB', 'Control_Non-inflammatory_Not-hospitalized_discovery' = '#FBE77C',\n",
    "                    \"MIS-C_acute_validation\" = '#2BC0B3')\n",
    "\n",
    "\n",
    "##------------------------------------\n",
    "# TOPGO\n",
    "# MIS-C UP\n",
    "\n",
    "covid_control <- add_sig_col(readRDS(\"./daa_output/covid-control.rds\"))\n",
    "misc_control <- add_sig_col(readRDS(file = \"./daa_output/misc-control.rds\"))\n",
    "misc_covid <- add_sig_col(readRDS(\"./daa_output/misc-covid.rds\"))\n",
    "\n",
    "\n",
    "misc_up <- rbind(misc_control$`TopGO+`,misc_covid$`TopGO+`) %>% filter(Significant > 15) #%>% dplyr::rename(genes_sig = genes)\n",
    "misc_up$genes_sig <- unlist(misc_up$genes_sig)\n",
    "misc_up <- aggregate(misc_up$genes_sig, list(misc_up$Term), paste, collapse=\",\")\n",
    "misc_list = list()\n",
    "for (i in 1:nrow(misc_up)){\n",
    "    misc_list[[misc_up[i,'Group.1']]] <- unlist(strsplit(misc_up[i,\"x\"],\",\"))\n",
    "}\n",
    "\n",
    "# COVID-19 UP\n",
    "covid_up <- rbind(covid_control$`TopGO+`,misc_covid$`TopGO-`) %>% filter(Significant > 15) #%>% dplyr::rename(genes_sig = genes)\n",
    "covid_up$genes_sig <- unlist(covid_up$genes_sig)\n",
    "covid_up <- aggregate(covid_up$genes_sig, list(covid_up$Term), paste, collapse=\",\")\n",
    "covid_list = list()\n",
    "for (i in 1:nrow(covid_up)){\n",
    "    covid_list[[covid_up[i,'Group.1']]] <- unlist(strsplit(covid_up[i,\"x\"],\",\"))\n",
    "}\n",
    "\n",
    "\n",
    "# CONTROL UP\n",
    "control_up <- rbind(covid_control$`TopGO-`,misc_control$`TopGO-`) %>% filter(Significant > 15) #%>% dplyr::rename(genes_sig = genes)\n",
    "\n",
    "control_up$genes_sig <- unlist(control_up$genes_sig)\n",
    "control_up <- aggregate(control_up$genes_sig, list(control_up$Term), paste, collapse=\",\")\n",
    "control_list = list()\n",
    "for (i in 1:nrow(control_up)){\n",
    "    control_list[[control_up[i,'Group.1']]] <- unlist(strsplit(control_up[i,\"x\"],\",\"))\n",
    "}\n",
    "\n",
    "\n",
    "\n",
    "# CONTROL DOWN\n",
    "control_dwn <- rbind(covid_control$`TopGO+`,misc_control$`TopGO+`) %>% filter(Significant > 15) #%>% dplyr::rename(genes_sig = genes)\n",
    "\n",
    "control_dwn$genes_sig <- unlist(control_dwn$genes_sig)\n",
    "control_dwn <- aggregate(control_dwn$genes_sig, list(control_dwn$Term), paste, collapse=\",\")\n",
    "control_dwn_list = list()\n",
    "for (i in 1:nrow(control_dwn)){\n",
    "    control_dwn_list[[control_dwn[i,'Group.1']]] <- unlist(strsplit(control_dwn[i,\"x\"],\",\"))\n",
    "}\n",
    "\n",
    "\n",
    "gene_key <- list()\n",
    "\n",
    "gene_key[['endothelial cell migration']] <- misc_list[['endothelial cell migration']]\n",
    "\n",
    "gene_key[['myeloid cell differentiation']] <- misc_list[['myeloid cell differentiation']]\n",
    "\n",
    "\n",
    "output <- list()\n",
    "\n",
    "# final_list <- names(gene_key)\n",
    "\n",
    "for (f in names(gene_key)){\n",
    "    \n",
    "    ##------------------\n",
    "    # Get Genes\n",
    "    \n",
    "    ct_genes <- gene_key[[f]]\n",
    "    \n",
    "    ##------------------\n",
    "    # Extract counts\n",
    "    ct_counts <- get_cum_cpm(ct_genes,counts_cpm)\n",
    "        \n",
    "    ##------------------\n",
    "    # Save\n",
    "    output[[f]] <- ct_counts\n",
    "    \n",
    "    }"
   ]
  },
  {
   "cell_type": "code",
   "execution_count": 9,
   "id": "8447b65e-b6fa-4f40-849e-4c6c64a67838",
   "metadata": {
    "vscode": {
     "languageId": "r"
    }
   },
   "outputs": [
    {
     "name": "stdout",
     "output_type": "stream",
     "text": [
      "[1] \"endothelial cell migration\"\n",
      "[1] 21\n"
     ]
    },
    {
     "name": "stderr",
     "output_type": "stream",
     "text": [
      "Scale for 'y' is already present. Adding another scale for 'y', which will\n",
      "replace the existing scale.\n",
      "\n",
      "Coordinate system already present. Adding new coordinate system, which will replace the existing one.\n",
      "\n",
      "Scale for 'x' is already present. Adding another scale for 'x', which will\n",
      "replace the existing scale.\n",
      "\n",
      "Scale for 'y' is already present. Adding another scale for 'y', which will\n",
      "replace the existing scale.\n",
      "\n",
      "Coordinate system already present. Adding new coordinate system, which will replace the existing one.\n",
      "\n",
      "Scale for 'y' is already present. Adding another scale for 'y', which will\n",
      "replace the existing scale.\n",
      "\n",
      "Coordinate system already present. Adding new coordinate system, which will replace the existing one.\n",
      "\n"
     ]
    },
    {
     "name": "stdout",
     "output_type": "stream",
     "text": [
      "TableGrob (1 x 4) \"arrange\": 2 grobs\n",
      "  z     cells    name           grob\n",
      "1 1 (1-1,3-4) arrange gtable[layout]\n",
      "2 2 (1-1,1-2) arrange gtable[layout]\n"
     ]
    },
    {
     "data": {
      "text/html": [
       "<strong>png:</strong> 2"
      ],
      "text/latex": [
       "\\textbf{png:} 2"
      ],
      "text/markdown": [
       "**png:** 2"
      ],
      "text/plain": [
       "png \n",
       "  2 "
      ]
     },
     "metadata": {},
     "output_type": "display_data"
    },
    {
     "name": "stdout",
     "output_type": "stream",
     "text": [
      "[1] \"myeloid cell differentiation\"\n",
      "[1] 108\n"
     ]
    },
    {
     "name": "stderr",
     "output_type": "stream",
     "text": [
      "Scale for 'y' is already present. Adding another scale for 'y', which will\n",
      "replace the existing scale.\n",
      "\n",
      "Coordinate system already present. Adding new coordinate system, which will replace the existing one.\n",
      "\n",
      "Scale for 'x' is already present. Adding another scale for 'x', which will\n",
      "replace the existing scale.\n",
      "\n",
      "Scale for 'y' is already present. Adding another scale for 'y', which will\n",
      "replace the existing scale.\n",
      "\n",
      "Coordinate system already present. Adding new coordinate system, which will replace the existing one.\n",
      "\n",
      "Scale for 'y' is already present. Adding another scale for 'y', which will\n",
      "replace the existing scale.\n",
      "\n",
      "Coordinate system already present. Adding new coordinate system, which will replace the existing one.\n",
      "\n"
     ]
    },
    {
     "name": "stdout",
     "output_type": "stream",
     "text": [
      "TableGrob (1 x 4) \"arrange\": 2 grobs\n",
      "  z     cells    name           grob\n",
      "1 1 (1-1,3-4) arrange gtable[layout]\n",
      "2 2 (1-1,1-2) arrange gtable[layout]\n"
     ]
    },
    {
     "data": {
      "text/html": [
       "<strong>png:</strong> 2"
      ],
      "text/latex": [
       "\\textbf{png:} 2"
      ],
      "text/markdown": [
       "**png:** 2"
      ],
      "text/plain": [
       "png \n",
       "  2 "
      ]
     },
     "metadata": {},
     "output_type": "display_data"
    }
   ],
   "source": [
    "WIDTH = 2.15\n",
    "HEIGHT = 1.5\n",
    "\n",
    "NOT_LEFT = list(theme(axis.text.y = element_blank(),axis.ticks.y=element_blank()))\n",
    "\n",
    "## ACUTE - LINE\n",
    "lay <- rbind(c(1,1,3,3,2))\n",
    "ACUTE_MARGIN = theme(plot.margin=grid::unit(c(0,-.2,0,0), \"in\"))\n",
    "CNTRL_MARGIN = theme(plot.margin=grid::unit(c(0,-.5,0,-.3), \"in\"))\n",
    "LINE_MARGIN = theme(plot.margin=grid::unit(c(0,-0.2,0,-0.05), \"in\"))\n",
    "GRID_fun <- function(acute_boxplot, cntrl_boxplot, line_plot, lay){grid.arrange(acute_boxplot, cntrl_boxplot, line_plot, layout_matrix = lay)}\n",
    "\n",
    "# ACUTE - LINE\n",
    "lay <- rbind(c(1,1,2,2))\n",
    "ACUTE_MARGIN = list(theme(plot.margin=grid::unit(c(0.02,-.2,0,0), \"in\")),scale_x_discrete(expand = c(.5, 1.5)))\n",
    "# ACUTE_MARGIN = theme(plot.margin=grid::unit(c(0,-.2,0,0), \"in\"))\n",
    "# CNTRL_MARGIN = theme(plot.margin=grid::unit(c(0,-.5,0,-.3), \"in\"))\n",
    "LINE_MARGIN = theme(plot.margin=grid::unit(c(0.02,0.02,0,-0.05), \"in\"))\n",
    "GRID_fun <- function(acute_boxplot, cntrl_boxplot, line_plot, lay){grid.arrange(acute_boxplot, line_plot, layout_matrix = lay)}\n",
    "\n",
    "# # ACUTE - LINE\n",
    "lay <- rbind(c(2,2,1,1))\n",
    "ACUTE_MARGIN = list(theme(plot.margin=grid::unit(c(0.02,-.025,0,0), \"in\")),scale_x_discrete(expand = expansion(add = 0.5)))\n",
    "# ACUTE_MARGIN = theme(plot.margin=grid::unit(c(0,-.2,0,0), \"in\"))\n",
    "# CNTRL_MARGIN = theme(plot.margin=grid::unit(c(0,-.5,0,-.3), \"in\"))\n",
    "LINE_MARGIN = theme(plot.margin=grid::unit(c(0.02,0.02,0,-0.025), \"in\"))\n",
    "GRID_fun <- function(acute_boxplot, cntrl_boxplot, line_plot, lay){grid.arrange( line_plot, acute_boxplot, layout_matrix = lay)}\n",
    "\n",
    "\n",
    "##------------------------------------\n",
    "SET = 'endothelial cell migration'\n",
    "print(SET)\n",
    "print(length(gene_key[[SET]]))\n",
    "LIM = 4500\n",
    "\n",
    "\n",
    "all_plots <- get_plots(output[[SET]],\n",
    "          expGroupPalette,DiagnosisPalette,LIM)\n",
    "\n",
    "LIMITS =  list(scale_y_continuous(breaks = seq(0,LIM,length.out  = 4),labels = function(x) format(x, scientific = TRUE, digits = 2)),\n",
    "               coord_cartesian(ylim = c(0,LIM))\n",
    "              )\n",
    "\n",
    "cntrl_boxplot <- all_plots[[\"cntrl_boxplot\"]] + CNTRL_MARGIN + NOT_LEFT + LIMITS\n",
    "acute_boxplot <- all_plots[[\"acute_boxplot\"]] + ACUTE_MARGIN + LIMITS\n",
    "line_plot <- all_plots[[\"line_plot\"]] + LINE_MARGIN + NOT_LEFT + LIMITS\n",
    "               \n",
    "pdf(file=paste0(\"plots/panelH_endothelialCellMigration.pdf\"),\n",
    "        width=WIDTH,height=HEIGHT, paper=\"special\", bg=\"white\",\n",
    "        fonts=\"Helvetica\", colormodel = \"srgb\", pointsize=6, useDingbats = FALSE)\n",
    "\n",
    "all_plt <- GRID_fun(acute_boxplot, cntrl_boxplot, line_plot, lay)\n",
    "\n",
    "print(all_plt)\n",
    "               \n",
    "# grid.rect(width = 0.99, height = 0.99, gp = gpar(lwd = .5, col = \"black\", fill = NA))\n",
    "\n",
    "dev.off()\n",
    "\n",
    "##------------------------------------\n",
    "SET = 'myeloid cell differentiation'\n",
    "print(SET)\n",
    "print(length(gene_key[[SET]]))\n",
    "LIM = 40000\n",
    "               \n",
    "all_plots <- get_plots(output[[SET]],\n",
    "          expGroupPalette,DiagnosisPalette,LIM)\n",
    "\n",
    "\n",
    "LIMITS =  list(scale_y_continuous(breaks = seq(0,LIM,length.out  = 4),labels = function(x) format(x, scientific = TRUE, digits = 2)),\n",
    "               coord_cartesian(ylim = c(0,LIM))\n",
    "              )\n",
    "\n",
    "cntrl_boxplot <- all_plots[[\"cntrl_boxplot\"]] + CNTRL_MARGIN + LIMITS + NOT_LEFT\n",
    "acute_boxplot <- all_plots[[\"acute_boxplot\"]] + ACUTE_MARGIN + LIMITS\n",
    "line_plot <- all_plots[[\"line_plot\"]] + LINE_MARGIN + LIMITS + NOT_LEFT\n",
    "    \n",
    "               \n",
    "pdf(file=\"plots/panelH_myeloidCellDifferentiation.pdf\",\n",
    "        width=WIDTH,height=HEIGHT, paper=\"special\", bg=\"white\",\n",
    "        fonts=\"Helvetica\", colormodel = \"srgb\", pointsize=6, useDingbats = FALSE)\n",
    "\n",
    "all_plt <- GRID_fun(acute_boxplot, cntrl_boxplot, line_plot, lay)\n",
    "\n",
    "print(all_plt)\n",
    "\n",
    "dev.off()"
   ]
  },
  {
   "cell_type": "markdown",
   "id": "952a55fc-0fb9-4e9f-9845-0bc800a966b5",
   "metadata": {},
   "source": [
    "---\n",
    "# TEXT"
   ]
  },
  {
   "cell_type": "code",
   "execution_count": 16,
   "id": "620f6143-0616-44f6-b8ae-ffef8ba72fb3",
   "metadata": {
    "vscode": {
     "languageId": "r"
    }
   },
   "outputs": [
    {
     "data": {
      "text/html": [
       "10"
      ],
      "text/latex": [
       "10"
      ],
      "text/markdown": [
       "10"
      ],
      "text/plain": [
       "[1] 10"
      ]
     },
     "metadata": {},
     "output_type": "display_data"
    },
    {
     "data": {
      "text/html": [
       "<table class=\"dataframe\">\n",
       "<caption>A data.frame: 10 × 8</caption>\n",
       "<thead>\n",
       "\t<tr><th></th><th scope=col>baseMean</th><th scope=col>log2FoldChange</th><th scope=col>lfcSE</th><th scope=col>stat</th><th scope=col>pvalue</th><th scope=col>padj</th><th scope=col>gene_name</th><th scope=col>gene_type</th></tr>\n",
       "\t<tr><th></th><th scope=col>&lt;dbl&gt;</th><th scope=col>&lt;dbl&gt;</th><th scope=col>&lt;dbl&gt;</th><th scope=col>&lt;dbl&gt;</th><th scope=col>&lt;dbl&gt;</th><th scope=col>&lt;dbl&gt;</th><th scope=col>&lt;chr&gt;</th><th scope=col>&lt;chr&gt;</th></tr>\n",
       "</thead>\n",
       "<tbody>\n",
       "\t<tr><th scope=row>ENSG00000117519.16</th><td>22.538775</td><td>2.3170660</td><td>0.5465785</td><td>4.239219</td><td>2.242990e-05</td><td>0.0012646384</td><td>CNN3   </td><td>protein_coding</td></tr>\n",
       "\t<tr><th scope=row>ENSG00000144668.12</th><td> 2.896342</td><td>2.1406801</td><td>0.4423560</td><td>4.839270</td><td>1.303170e-06</td><td>0.0002126911</td><td>ITGA9  </td><td>protein_coding</td></tr>\n",
       "\t<tr><th scope=row>ENSG00000157510.14</th><td>10.579467</td><td>2.4592161</td><td>0.5569188</td><td>4.415754</td><td>1.006587e-05</td><td>0.0007431969</td><td>AFAP1L1</td><td>protein_coding</td></tr>\n",
       "\t<tr><th scope=row>ENSG00000131016.17</th><td>84.145949</td><td>2.4403501</td><td>0.5195859</td><td>4.696721</td><td>2.643710e-06</td><td>0.0003323573</td><td>AKAP12 </td><td>protein_coding</td></tr>\n",
       "\t<tr><th scope=row>ENSG00000075618.18</th><td> 7.368068</td><td>2.3118740</td><td>0.5595895</td><td>4.131375</td><td>3.606005e-05</td><td>0.0018331509</td><td>FSCN1  </td><td>protein_coding</td></tr>\n",
       "\t<tr><th scope=row>ENSG00000174804.4</th><td> 3.322412</td><td>2.2822851</td><td>0.5571817</td><td>4.096124</td><td>4.201256e-05</td><td>0.0020250924</td><td>FZD4   </td><td>protein_coding</td></tr>\n",
       "\t<tr><th scope=row>ENSG00000149557.14</th><td> 6.449785</td><td>1.8116713</td><td>0.5011939</td><td>3.614712</td><td>3.006820e-04</td><td>0.0078137433</td><td>FEZ1   </td><td>protein_coding</td></tr>\n",
       "\t<tr><th scope=row>ENSG00000007237.19</th><td>25.873570</td><td>0.9252772</td><td>0.2263312</td><td>4.088156</td><td>4.348156e-05</td><td>0.0020744049</td><td>GAS7   </td><td>protein_coding</td></tr>\n",
       "\t<tr><th scope=row>ENSG00000108828.16</th><td>20.189719</td><td>1.2559348</td><td>0.3173517</td><td>3.957548</td><td>7.572298e-05</td><td>0.0029995397</td><td>VAT1   </td><td>protein_coding</td></tr>\n",
       "\t<tr><th scope=row>ENSG00000198959.12</th><td>26.017137</td><td>1.8557066</td><td>0.4333083</td><td>4.282647</td><td>1.846829e-05</td><td>0.0010832803</td><td>TGM2   </td><td>protein_coding</td></tr>\n",
       "</tbody>\n",
       "</table>\n"
      ],
      "text/latex": [
       "A data.frame: 10 × 8\n",
       "\\begin{tabular}{r|llllllll}\n",
       "  & baseMean & log2FoldChange & lfcSE & stat & pvalue & padj & gene\\_name & gene\\_type\\\\\n",
       "  & <dbl> & <dbl> & <dbl> & <dbl> & <dbl> & <dbl> & <chr> & <chr>\\\\\n",
       "\\hline\n",
       "\tENSG00000117519.16 & 22.538775 & 2.3170660 & 0.5465785 & 4.239219 & 2.242990e-05 & 0.0012646384 & CNN3    & protein\\_coding\\\\\n",
       "\tENSG00000144668.12 &  2.896342 & 2.1406801 & 0.4423560 & 4.839270 & 1.303170e-06 & 0.0002126911 & ITGA9   & protein\\_coding\\\\\n",
       "\tENSG00000157510.14 & 10.579467 & 2.4592161 & 0.5569188 & 4.415754 & 1.006587e-05 & 0.0007431969 & AFAP1L1 & protein\\_coding\\\\\n",
       "\tENSG00000131016.17 & 84.145949 & 2.4403501 & 0.5195859 & 4.696721 & 2.643710e-06 & 0.0003323573 & AKAP12  & protein\\_coding\\\\\n",
       "\tENSG00000075618.18 &  7.368068 & 2.3118740 & 0.5595895 & 4.131375 & 3.606005e-05 & 0.0018331509 & FSCN1   & protein\\_coding\\\\\n",
       "\tENSG00000174804.4 &  3.322412 & 2.2822851 & 0.5571817 & 4.096124 & 4.201256e-05 & 0.0020250924 & FZD4    & protein\\_coding\\\\\n",
       "\tENSG00000149557.14 &  6.449785 & 1.8116713 & 0.5011939 & 3.614712 & 3.006820e-04 & 0.0078137433 & FEZ1    & protein\\_coding\\\\\n",
       "\tENSG00000007237.19 & 25.873570 & 0.9252772 & 0.2263312 & 4.088156 & 4.348156e-05 & 0.0020744049 & GAS7    & protein\\_coding\\\\\n",
       "\tENSG00000108828.16 & 20.189719 & 1.2559348 & 0.3173517 & 3.957548 & 7.572298e-05 & 0.0029995397 & VAT1    & protein\\_coding\\\\\n",
       "\tENSG00000198959.12 & 26.017137 & 1.8557066 & 0.4333083 & 4.282647 & 1.846829e-05 & 0.0010832803 & TGM2    & protein\\_coding\\\\\n",
       "\\end{tabular}\n"
      ],
      "text/markdown": [
       "\n",
       "A data.frame: 10 × 8\n",
       "\n",
       "| <!--/--> | baseMean &lt;dbl&gt; | log2FoldChange &lt;dbl&gt; | lfcSE &lt;dbl&gt; | stat &lt;dbl&gt; | pvalue &lt;dbl&gt; | padj &lt;dbl&gt; | gene_name &lt;chr&gt; | gene_type &lt;chr&gt; |\n",
       "|---|---|---|---|---|---|---|---|---|\n",
       "| ENSG00000117519.16 | 22.538775 | 2.3170660 | 0.5465785 | 4.239219 | 2.242990e-05 | 0.0012646384 | CNN3    | protein_coding |\n",
       "| ENSG00000144668.12 |  2.896342 | 2.1406801 | 0.4423560 | 4.839270 | 1.303170e-06 | 0.0002126911 | ITGA9   | protein_coding |\n",
       "| ENSG00000157510.14 | 10.579467 | 2.4592161 | 0.5569188 | 4.415754 | 1.006587e-05 | 0.0007431969 | AFAP1L1 | protein_coding |\n",
       "| ENSG00000131016.17 | 84.145949 | 2.4403501 | 0.5195859 | 4.696721 | 2.643710e-06 | 0.0003323573 | AKAP12  | protein_coding |\n",
       "| ENSG00000075618.18 |  7.368068 | 2.3118740 | 0.5595895 | 4.131375 | 3.606005e-05 | 0.0018331509 | FSCN1   | protein_coding |\n",
       "| ENSG00000174804.4 |  3.322412 | 2.2822851 | 0.5571817 | 4.096124 | 4.201256e-05 | 0.0020250924 | FZD4    | protein_coding |\n",
       "| ENSG00000149557.14 |  6.449785 | 1.8116713 | 0.5011939 | 3.614712 | 3.006820e-04 | 0.0078137433 | FEZ1    | protein_coding |\n",
       "| ENSG00000007237.19 | 25.873570 | 0.9252772 | 0.2263312 | 4.088156 | 4.348156e-05 | 0.0020744049 | GAS7    | protein_coding |\n",
       "| ENSG00000108828.16 | 20.189719 | 1.2559348 | 0.3173517 | 3.957548 | 7.572298e-05 | 0.0029995397 | VAT1    | protein_coding |\n",
       "| ENSG00000198959.12 | 26.017137 | 1.8557066 | 0.4333083 | 4.282647 | 1.846829e-05 | 0.0010832803 | TGM2    | protein_coding |\n",
       "\n"
      ],
      "text/plain": [
       "                   baseMean  log2FoldChange lfcSE     stat     pvalue      \n",
       "ENSG00000117519.16 22.538775 2.3170660      0.5465785 4.239219 2.242990e-05\n",
       "ENSG00000144668.12  2.896342 2.1406801      0.4423560 4.839270 1.303170e-06\n",
       "ENSG00000157510.14 10.579467 2.4592161      0.5569188 4.415754 1.006587e-05\n",
       "ENSG00000131016.17 84.145949 2.4403501      0.5195859 4.696721 2.643710e-06\n",
       "ENSG00000075618.18  7.368068 2.3118740      0.5595895 4.131375 3.606005e-05\n",
       "ENSG00000174804.4   3.322412 2.2822851      0.5571817 4.096124 4.201256e-05\n",
       "ENSG00000149557.14  6.449785 1.8116713      0.5011939 3.614712 3.006820e-04\n",
       "ENSG00000007237.19 25.873570 0.9252772      0.2263312 4.088156 4.348156e-05\n",
       "ENSG00000108828.16 20.189719 1.2559348      0.3173517 3.957548 7.572298e-05\n",
       "ENSG00000198959.12 26.017137 1.8557066      0.4333083 4.282647 1.846829e-05\n",
       "                   padj         gene_name gene_type     \n",
       "ENSG00000117519.16 0.0012646384 CNN3      protein_coding\n",
       "ENSG00000144668.12 0.0002126911 ITGA9     protein_coding\n",
       "ENSG00000157510.14 0.0007431969 AFAP1L1   protein_coding\n",
       "ENSG00000131016.17 0.0003323573 AKAP12    protein_coding\n",
       "ENSG00000075618.18 0.0018331509 FSCN1     protein_coding\n",
       "ENSG00000174804.4  0.0020250924 FZD4      protein_coding\n",
       "ENSG00000149557.14 0.0078137433 FEZ1      protein_coding\n",
       "ENSG00000007237.19 0.0020744049 GAS7      protein_coding\n",
       "ENSG00000108828.16 0.0029995397 VAT1      protein_coding\n",
       "ENSG00000198959.12 0.0010832803 TGM2      protein_coding"
      ]
     },
     "metadata": {},
     "output_type": "display_data"
    },
    {
     "data": {
      "text/html": [
       "13"
      ],
      "text/latex": [
       "13"
      ],
      "text/markdown": [
       "13"
      ],
      "text/plain": [
       "[1] 13"
      ]
     },
     "metadata": {},
     "output_type": "display_data"
    },
    {
     "data": {
      "text/html": [
       "<table class=\"dataframe\">\n",
       "<caption>A data.frame: 13 × 8</caption>\n",
       "<thead>\n",
       "\t<tr><th></th><th scope=col>baseMean</th><th scope=col>log2FoldChange</th><th scope=col>lfcSE</th><th scope=col>stat</th><th scope=col>pvalue</th><th scope=col>padj</th><th scope=col>gene_name</th><th scope=col>gene_type</th></tr>\n",
       "\t<tr><th></th><th scope=col>&lt;dbl&gt;</th><th scope=col>&lt;dbl&gt;</th><th scope=col>&lt;dbl&gt;</th><th scope=col>&lt;dbl&gt;</th><th scope=col>&lt;dbl&gt;</th><th scope=col>&lt;dbl&gt;</th><th scope=col>&lt;chr&gt;</th><th scope=col>&lt;chr&gt;</th></tr>\n",
       "</thead>\n",
       "<tbody>\n",
       "\t<tr><th scope=row>ENSG00000126709.16</th><td> 8.925773</td><td>-2.830069</td><td>0.4984063</td><td>-5.678237</td><td>1.360902e-08</td><td>6.226225e-06</td><td>IFI6  </td><td>protein_coding</td></tr>\n",
       "\t<tr><th scope=row>ENSG00000137959.17</th><td>26.259651</td><td>-2.308825</td><td>0.3672807</td><td>-6.286267</td><td>3.251904e-10</td><td>3.025247e-07</td><td>IFI44L</td><td>protein_coding</td></tr>\n",
       "\t<tr><th scope=row>ENSG00000134326.12</th><td>10.396875</td><td>-2.226702</td><td>0.3466450</td><td>-6.423579</td><td>1.331068e-10</td><td>1.446604e-07</td><td>CMPK2 </td><td>protein_coding</td></tr>\n",
       "\t<tr><th scope=row>ENSG00000134321.13</th><td>12.833584</td><td>-2.472075</td><td>0.3244062</td><td>-7.620308</td><td>2.530714e-14</td><td>1.177162e-10</td><td>RSAD2 </td><td>protein_coding</td></tr>\n",
       "\t<tr><th scope=row>ENSG00000163735.7</th><td>53.654238</td><td>-2.080878</td><td>0.4747247</td><td>-4.383337</td><td>1.168749e-05</td><td>8.175090e-04</td><td>CXCL5 </td><td>protein_coding</td></tr>\n",
       "\t<tr><th scope=row>ENSG00000163734.4</th><td> 2.333162</td><td>-2.023051</td><td>0.4663381</td><td>-4.338163</td><td>1.436787e-05</td><td>9.412977e-04</td><td>CXCL3 </td><td>protein_coding</td></tr>\n",
       "\t<tr><th scope=row>ENSG00000124657.1</th><td> 2.632981</td><td>-3.126866</td><td>0.6545266</td><td>-4.777295</td><td>1.776694e-06</td><td>2.542859e-04</td><td>OR2B6 </td><td>protein_coding</td></tr>\n",
       "\t<tr><th scope=row>ENSG00000160932.11</th><td>12.863741</td><td>-1.776512</td><td>0.2875371</td><td>-6.178374</td><td>6.476503e-10</td><td>5.477355e-07</td><td>LY6E  </td><td>protein_coding</td></tr>\n",
       "\t<tr><th scope=row>ENSG00000151023.17</th><td>35.459566</td><td>-2.253271</td><td>0.4436443</td><td>-5.079004</td><td>3.794196e-07</td><td>9.050617e-05</td><td>ENKUR </td><td>protein_coding</td></tr>\n",
       "\t<tr><th scope=row>ENSG00000185745.10</th><td>10.983196</td><td>-2.493865</td><td>0.4095804</td><td>-6.088828</td><td>1.137399e-09</td><td>7.799598e-07</td><td>IFIT1 </td><td>protein_coding</td></tr>\n",
       "\t<tr><th scope=row>ENSG00000185885.17</th><td>18.607471</td><td>-1.609371</td><td>0.3384088</td><td>-4.755699</td><td>1.977606e-06</td><td>2.705540e-04</td><td>IFITM1</td><td>protein_coding</td></tr>\n",
       "\t<tr><th scope=row>ENSG00000165949.12</th><td>20.969060</td><td>-1.694603</td><td>0.3732216</td><td>-4.540474</td><td>5.612782e-06</td><td>4.972925e-04</td><td>IFI27 </td><td>protein_coding</td></tr>\n",
       "\t<tr><th scope=row>ENSG00000157601.15</th><td>27.304000</td><td>-1.800556</td><td>0.3169101</td><td>-5.681601</td><td>1.334399e-08</td><td>6.226225e-06</td><td>MX1   </td><td>protein_coding</td></tr>\n",
       "</tbody>\n",
       "</table>\n"
      ],
      "text/latex": [
       "A data.frame: 13 × 8\n",
       "\\begin{tabular}{r|llllllll}\n",
       "  & baseMean & log2FoldChange & lfcSE & stat & pvalue & padj & gene\\_name & gene\\_type\\\\\n",
       "  & <dbl> & <dbl> & <dbl> & <dbl> & <dbl> & <dbl> & <chr> & <chr>\\\\\n",
       "\\hline\n",
       "\tENSG00000126709.16 &  8.925773 & -2.830069 & 0.4984063 & -5.678237 & 1.360902e-08 & 6.226225e-06 & IFI6   & protein\\_coding\\\\\n",
       "\tENSG00000137959.17 & 26.259651 & -2.308825 & 0.3672807 & -6.286267 & 3.251904e-10 & 3.025247e-07 & IFI44L & protein\\_coding\\\\\n",
       "\tENSG00000134326.12 & 10.396875 & -2.226702 & 0.3466450 & -6.423579 & 1.331068e-10 & 1.446604e-07 & CMPK2  & protein\\_coding\\\\\n",
       "\tENSG00000134321.13 & 12.833584 & -2.472075 & 0.3244062 & -7.620308 & 2.530714e-14 & 1.177162e-10 & RSAD2  & protein\\_coding\\\\\n",
       "\tENSG00000163735.7 & 53.654238 & -2.080878 & 0.4747247 & -4.383337 & 1.168749e-05 & 8.175090e-04 & CXCL5  & protein\\_coding\\\\\n",
       "\tENSG00000163734.4 &  2.333162 & -2.023051 & 0.4663381 & -4.338163 & 1.436787e-05 & 9.412977e-04 & CXCL3  & protein\\_coding\\\\\n",
       "\tENSG00000124657.1 &  2.632981 & -3.126866 & 0.6545266 & -4.777295 & 1.776694e-06 & 2.542859e-04 & OR2B6  & protein\\_coding\\\\\n",
       "\tENSG00000160932.11 & 12.863741 & -1.776512 & 0.2875371 & -6.178374 & 6.476503e-10 & 5.477355e-07 & LY6E   & protein\\_coding\\\\\n",
       "\tENSG00000151023.17 & 35.459566 & -2.253271 & 0.4436443 & -5.079004 & 3.794196e-07 & 9.050617e-05 & ENKUR  & protein\\_coding\\\\\n",
       "\tENSG00000185745.10 & 10.983196 & -2.493865 & 0.4095804 & -6.088828 & 1.137399e-09 & 7.799598e-07 & IFIT1  & protein\\_coding\\\\\n",
       "\tENSG00000185885.17 & 18.607471 & -1.609371 & 0.3384088 & -4.755699 & 1.977606e-06 & 2.705540e-04 & IFITM1 & protein\\_coding\\\\\n",
       "\tENSG00000165949.12 & 20.969060 & -1.694603 & 0.3732216 & -4.540474 & 5.612782e-06 & 4.972925e-04 & IFI27  & protein\\_coding\\\\\n",
       "\tENSG00000157601.15 & 27.304000 & -1.800556 & 0.3169101 & -5.681601 & 1.334399e-08 & 6.226225e-06 & MX1    & protein\\_coding\\\\\n",
       "\\end{tabular}\n"
      ],
      "text/markdown": [
       "\n",
       "A data.frame: 13 × 8\n",
       "\n",
       "| <!--/--> | baseMean &lt;dbl&gt; | log2FoldChange &lt;dbl&gt; | lfcSE &lt;dbl&gt; | stat &lt;dbl&gt; | pvalue &lt;dbl&gt; | padj &lt;dbl&gt; | gene_name &lt;chr&gt; | gene_type &lt;chr&gt; |\n",
       "|---|---|---|---|---|---|---|---|---|\n",
       "| ENSG00000126709.16 |  8.925773 | -2.830069 | 0.4984063 | -5.678237 | 1.360902e-08 | 6.226225e-06 | IFI6   | protein_coding |\n",
       "| ENSG00000137959.17 | 26.259651 | -2.308825 | 0.3672807 | -6.286267 | 3.251904e-10 | 3.025247e-07 | IFI44L | protein_coding |\n",
       "| ENSG00000134326.12 | 10.396875 | -2.226702 | 0.3466450 | -6.423579 | 1.331068e-10 | 1.446604e-07 | CMPK2  | protein_coding |\n",
       "| ENSG00000134321.13 | 12.833584 | -2.472075 | 0.3244062 | -7.620308 | 2.530714e-14 | 1.177162e-10 | RSAD2  | protein_coding |\n",
       "| ENSG00000163735.7 | 53.654238 | -2.080878 | 0.4747247 | -4.383337 | 1.168749e-05 | 8.175090e-04 | CXCL5  | protein_coding |\n",
       "| ENSG00000163734.4 |  2.333162 | -2.023051 | 0.4663381 | -4.338163 | 1.436787e-05 | 9.412977e-04 | CXCL3  | protein_coding |\n",
       "| ENSG00000124657.1 |  2.632981 | -3.126866 | 0.6545266 | -4.777295 | 1.776694e-06 | 2.542859e-04 | OR2B6  | protein_coding |\n",
       "| ENSG00000160932.11 | 12.863741 | -1.776512 | 0.2875371 | -6.178374 | 6.476503e-10 | 5.477355e-07 | LY6E   | protein_coding |\n",
       "| ENSG00000151023.17 | 35.459566 | -2.253271 | 0.4436443 | -5.079004 | 3.794196e-07 | 9.050617e-05 | ENKUR  | protein_coding |\n",
       "| ENSG00000185745.10 | 10.983196 | -2.493865 | 0.4095804 | -6.088828 | 1.137399e-09 | 7.799598e-07 | IFIT1  | protein_coding |\n",
       "| ENSG00000185885.17 | 18.607471 | -1.609371 | 0.3384088 | -4.755699 | 1.977606e-06 | 2.705540e-04 | IFITM1 | protein_coding |\n",
       "| ENSG00000165949.12 | 20.969060 | -1.694603 | 0.3732216 | -4.540474 | 5.612782e-06 | 4.972925e-04 | IFI27  | protein_coding |\n",
       "| ENSG00000157601.15 | 27.304000 | -1.800556 | 0.3169101 | -5.681601 | 1.334399e-08 | 6.226225e-06 | MX1    | protein_coding |\n",
       "\n"
      ],
      "text/plain": [
       "                   baseMean  log2FoldChange lfcSE     stat      pvalue      \n",
       "ENSG00000126709.16  8.925773 -2.830069      0.4984063 -5.678237 1.360902e-08\n",
       "ENSG00000137959.17 26.259651 -2.308825      0.3672807 -6.286267 3.251904e-10\n",
       "ENSG00000134326.12 10.396875 -2.226702      0.3466450 -6.423579 1.331068e-10\n",
       "ENSG00000134321.13 12.833584 -2.472075      0.3244062 -7.620308 2.530714e-14\n",
       "ENSG00000163735.7  53.654238 -2.080878      0.4747247 -4.383337 1.168749e-05\n",
       "ENSG00000163734.4   2.333162 -2.023051      0.4663381 -4.338163 1.436787e-05\n",
       "ENSG00000124657.1   2.632981 -3.126866      0.6545266 -4.777295 1.776694e-06\n",
       "ENSG00000160932.11 12.863741 -1.776512      0.2875371 -6.178374 6.476503e-10\n",
       "ENSG00000151023.17 35.459566 -2.253271      0.4436443 -5.079004 3.794196e-07\n",
       "ENSG00000185745.10 10.983196 -2.493865      0.4095804 -6.088828 1.137399e-09\n",
       "ENSG00000185885.17 18.607471 -1.609371      0.3384088 -4.755699 1.977606e-06\n",
       "ENSG00000165949.12 20.969060 -1.694603      0.3732216 -4.540474 5.612782e-06\n",
       "ENSG00000157601.15 27.304000 -1.800556      0.3169101 -5.681601 1.334399e-08\n",
       "                   padj         gene_name gene_type     \n",
       "ENSG00000126709.16 6.226225e-06 IFI6      protein_coding\n",
       "ENSG00000137959.17 3.025247e-07 IFI44L    protein_coding\n",
       "ENSG00000134326.12 1.446604e-07 CMPK2     protein_coding\n",
       "ENSG00000134321.13 1.177162e-10 RSAD2     protein_coding\n",
       "ENSG00000163735.7  8.175090e-04 CXCL5     protein_coding\n",
       "ENSG00000163734.4  9.412977e-04 CXCL3     protein_coding\n",
       "ENSG00000124657.1  2.542859e-04 OR2B6     protein_coding\n",
       "ENSG00000160932.11 5.477355e-07 LY6E      protein_coding\n",
       "ENSG00000151023.17 9.050617e-05 ENKUR     protein_coding\n",
       "ENSG00000185745.10 7.799598e-07 IFIT1     protein_coding\n",
       "ENSG00000185885.17 2.705540e-04 IFITM1    protein_coding\n",
       "ENSG00000165949.12 4.972925e-04 IFI27     protein_coding\n",
       "ENSG00000157601.15 6.226225e-06 MX1       protein_coding"
      ]
     },
     "metadata": {},
     "output_type": "display_data"
    },
    {
     "data": {
      "text/html": [],
      "text/latex": [],
      "text/markdown": [],
      "text/plain": [
       "character(0)"
      ]
     },
     "metadata": {},
     "output_type": "display_data"
    }
   ],
   "source": [
    "GENES = c(\"AKAP12\",\"CNN3\",\"FZD4\",\"GAS7\",\"FEZ1\",\"VAT1\",\"FSCN1\",\"AFAP1L1\",\"ITGA9\",\"TGM2\")\n",
    "length(GENES)\n",
    "misc_covid$res %>% data.frame() %>% filter(gene_name %in% GENES)\n",
    "\n",
    "\n",
    "GENES = c(\"IFI6\",\"IFIT1\",\"IFI44L\",\"IFI27\",\"IFITM1\",\"RSAD2\",\"MX1\", \"CMPK2\", \"LY6E\",\"CXCL5\", \"CXCL3\",\"OR2B6\", \"ENKUR\")\n",
    "length(GENES)\n",
    "misc_covid$res %>% data.frame() %>% filter(gene_name %in% GENES) "
   ]
  },
  {
   "cell_type": "code",
   "execution_count": null,
   "id": "22a205bf-0d5d-42c1-a43f-8f8ca31716a7",
   "metadata": {
    "vscode": {
     "languageId": "r"
    }
   },
   "outputs": [],
   "source": []
  }
 ],
 "metadata": {
  "kernelspec": {
   "display_name": "R",
   "language": "R",
   "name": "ir"
  },
  "language_info": {
   "codemirror_mode": "r",
   "file_extension": ".r",
   "mimetype": "text/x-r-source",
   "name": "R",
   "pygments_lexer": "r",
   "version": "4.1.1"
  }
 },
 "nbformat": 4,
 "nbformat_minor": 5
}
