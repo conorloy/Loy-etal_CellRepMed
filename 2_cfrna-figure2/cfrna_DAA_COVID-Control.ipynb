{
 "cells": [
  {
   "cell_type": "code",
   "execution_count": 1,
   "id": "5d3c9563-b5a2-4ea6-bf3c-0eaec170c6d5",
   "metadata": {
    "vscode": {
     "languageId": "r"
    }
   },
   "outputs": [
    {
     "name": "stderr",
     "output_type": "stream",
     "text": [
      "Warning message:\n",
      "“package ‘magrittr’ was built under R version 4.1.3”\n"
     ]
    }
   ],
   "source": [
    "suppressMessages(library(tidyverse))     # tidyverse will pull in ggplot2, readr, other useful libraries\n",
    "suppressMessages(library(magrittr))      # provides the %>% operator\n",
    "suppressMessages(library(\"genefilter\"))\n",
    "suppressMessages(library(DESeq2))\n",
    "suppressMessages(library(tximport))\n",
    "suppressMessages(library(\"readr\"))\n",
    "suppressMessages(library(\"tximportData\"))\n",
    "suppressMessages(library(data.table))\n",
    "\n",
    "suppressMessages(library(matrixStats))\n",
    "suppressMessages(library(org.Hs.eg.db))\n",
    "suppressMessages(library(topGO))\n",
    "\n",
    "suppressMessages(library(pheatmap))\n",
    "suppressMessages(library(gplots))\n",
    "suppressMessages(library(matrixStats))\n",
    "\n",
    "source(\"./fig2_functions.r\")\n",
    "\n",
    "options(stringsAsFactors = FALSE)\n",
    "\n",
    "\n",
    "RDS_FILENAME = \"daa_output/covid-control.rds\"\n",
    "GENE_TABLE_FILENAME = \"./tables/cf_covid-cntrl_all_DESeq.tsv\""
   ]
  },
  {
   "cell_type": "markdown",
   "id": "c52b433a-70d6-4725-a680-e1c51de81a6b",
   "metadata": {
    "tags": []
   },
   "source": [
    "---\n",
    "## Load in Meta Data"
   ]
  },
  {
   "cell_type": "code",
   "execution_count": 2,
   "id": "01d51c72-5ec8-40f7-bd90-01b3610ca39c",
   "metadata": {
    "vscode": {
     "languageId": "r"
    }
   },
   "outputs": [
    {
     "name": "stderr",
     "output_type": "stream",
     "text": [
      "Warning message in file(file, \"rt\"):\n",
      "“cannot open file '../1_sample-data/STable6_cfrna-samples.csv': No such file or directory”\n"
     ]
    },
    {
     "ename": "ERROR",
     "evalue": "Error in file(file, \"rt\"): cannot open the connection\n",
     "output_type": "error",
     "traceback": [
      "Error in file(file, \"rt\"): cannot open the connection\nTraceback:\n",
      "1. read.csv(\"../1_sample-data/STable6_cfrna-samples.csv\") %>% filter((Diagnosis == \n .     \"COVID-19\" & timepoint == \"acute\") | Diagnosis == \"Control_Non-inflammatory\")",
      "2. filter(., (Diagnosis == \"COVID-19\" & timepoint == \"acute\") | \n .     Diagnosis == \"Control_Non-inflammatory\")",
      "3. read.csv(\"../1_sample-data/STable6_cfrna-samples.csv\")",
      "4. read.table(file = file, header = header, sep = sep, quote = quote, \n .     dec = dec, fill = fill, comment.char = comment.char, ...)",
      "5. file(file, \"rt\")"
     ]
    }
   ],
   "source": [
    "meta_data <- read.csv(\"../1_sample-data/STable6_cfrna-samples.csv\") %>% \n",
    "    filter( (Diagnosis == \"COVID-19\" & timepoint == \"acute\") | Diagnosis == \"Control_Non-inflammatory\")\n",
    "\n",
    "samples <- meta_data\n",
    "\n",
    "GROUPS = c(\"COVID-19\", \"Control_Non-inflammatory\")\n",
    "\n",
    "samples$expGroup <- samples$Diagnosis\n",
    "\n",
    "\n",
    "table(samples$expGroup)"
   ]
  },
  {
   "cell_type": "markdown",
   "id": "a977a7ed-4d7f-4032-8347-202cadb41bb4",
   "metadata": {},
   "source": [
    "---"
   ]
  },
  {
   "cell_type": "code",
   "execution_count": 3,
   "id": "8f0cccbe-d1dd-4b2c-8fd4-88ceaa38bd46",
   "metadata": {
    "tags": [],
    "vscode": {
     "languageId": "r"
    }
   },
   "outputs": [
    {
     "name": "stderr",
     "output_type": "stream",
     "text": [
      "converting counts to integer mode\n",
      "\n",
      "Warning message in DESeqDataSet(se, design = design, ignoreRank):\n",
      "“some variables in design formula are characters, converting to factors”\n",
      "  Note: levels of factors in the design contain characters other than\n",
      "  letters, numbers, '_' and '.'. It is recommended (but not required) to use\n",
      "  only letters, numbers, and delimiters '_' or '.', as these are safe characters\n",
      "  for column names in R. [This is a message, not a warning or an error]\n",
      "\n"
     ]
    },
    {
     "data": {
      "text/html": [
       "TRUE"
      ],
      "text/latex": [
       "TRUE"
      ],
      "text/markdown": [
       "TRUE"
      ],
      "text/plain": [
       "[1] TRUE"
      ]
     },
     "metadata": {},
     "output_type": "display_data"
    },
    {
     "name": "stderr",
     "output_type": "stream",
     "text": [
      "estimating size factors\n",
      "\n",
      "  Note: levels of factors in the design contain characters other than\n",
      "  letters, numbers, '_' and '.'. It is recommended (but not required) to use\n",
      "  only letters, numbers, and delimiters '_' or '.', as these are safe characters\n",
      "  for column names in R. [This is a message, not a warning or an error]\n",
      "\n",
      "estimating dispersions\n",
      "\n",
      "gene-wise dispersion estimates\n",
      "\n",
      "mean-dispersion relationship\n",
      "\n",
      "  Note: levels of factors in the design contain characters other than\n",
      "  letters, numbers, '_' and '.'. It is recommended (but not required) to use\n",
      "  only letters, numbers, and delimiters '_' or '.', as these are safe characters\n",
      "  for column names in R. [This is a message, not a warning or an error]\n",
      "\n",
      "final dispersion estimates\n",
      "\n",
      "  Note: levels of factors in the design contain characters other than\n",
      "  letters, numbers, '_' and '.'. It is recommended (but not required) to use\n",
      "  only letters, numbers, and delimiters '_' or '.', as these are safe characters\n",
      "  for column names in R. [This is a message, not a warning or an error]\n",
      "\n",
      "fitting model and testing\n",
      "\n",
      "  Note: levels of factors in the design contain characters other than\n",
      "  letters, numbers, '_' and '.'. It is recommended (but not required) to use\n",
      "  only letters, numbers, and delimiters '_' or '.', as these are safe characters\n",
      "  for column names in R. [This is a message, not a warning or an error]\n",
      "\n",
      "-- replacing outliers and refitting for 459 genes\n",
      "-- DESeq argument 'minReplicatesForReplace' = 7 \n",
      "-- original counts are preserved in counts(dds)\n",
      "\n",
      "estimating dispersions\n",
      "\n",
      "  Note: levels of factors in the design contain characters other than\n",
      "  letters, numbers, '_' and '.'. It is recommended (but not required) to use\n",
      "  only letters, numbers, and delimiters '_' or '.', as these are safe characters\n",
      "  for column names in R. [This is a message, not a warning or an error]\n",
      "\n",
      "fitting model and testing\n",
      "\n",
      "  Note: levels of factors in the design contain characters other than\n",
      "  letters, numbers, '_' and '.'. It is recommended (but not required) to use\n",
      "  only letters, numbers, and delimiters '_' or '.', as these are safe characters\n",
      "  for column names in R. [This is a message, not a warning or an error]\n",
      "\n"
     ]
    },
    {
     "name": "stdout",
     "output_type": "stream",
     "text": [
      "\n",
      "out of 39946 with nonzero total read count\n",
      "adjusted p-value < 0.05\n",
      "LFC > 0 (up)       : 519, 1.3%\n",
      "LFC < 0 (down)     : 238, 0.6%\n",
      "outliers [1]       : 0, 0%\n",
      "low counts [2]     : 30300, 76%\n",
      "(mean count < 1)\n",
      "[1] see 'cooksCutoff' argument of ?results\n",
      "[2] see 'independentFiltering' argument of ?results\n",
      "\n"
     ]
    }
   ],
   "source": [
    "##------------------------------------\n",
    "# PREPARE COUNTS\n",
    "##------------------------------------\n",
    "\n",
    "##------------------------------------\n",
    "# load count data with tximport\n",
    "sample_ids = unique(samples$cfrna_sample_id)                                                                    # Get sample ids that pass qc\n",
    "\n",
    "counts = read.delim(\"../1_sample-data/cfrna_ftcounts.txt\")\n",
    "rownames(counts) <- counts$Geneid\n",
    "\n",
    "counts = counts[,sample_ids]\n",
    "\n",
    "##------------------------------------\n",
    "# Remove ChrX, ChrY, ChrM, and RB genes\n",
    "gene.list <- read.delim(\"../0_support-files/genelist.hs.tsv\",col.names = c(\"type,\",\"ENSMBL\",\"gene_symbol\"))\n",
    "\n",
    "gene.ids <- gsub(\"\\\\..*\",\"\",rownames(counts))\n",
    "\n",
    "exclude.idx <- gene.ids %in% gene.list[,2]\n",
    "\n",
    "counts = counts[!exclude.idx,]         \n",
    "\n",
    "\n",
    "##------------------------------------\n",
    "# RUN DESEQ2\n",
    "##------------------------------------\n",
    "\n",
    "##------------------------------------\n",
    "# Contstruct DESeq Data Set\n",
    "dds <- DESeqDataSetFromMatrix(round(counts),\n",
    "                                colData = samples,\n",
    "                                design = ~ expGroup + 0)\n",
    "\n",
    "##------------------------------------\n",
    "# Add Gene metadata\n",
    "annotation = fread(file=\"../0_support-files/gencode.biotype.name.key.tsv\")\n",
    "annotation <- annotation[match(rownames(dds), annotation$gene_id),]\n",
    "all(rownames(dds) == annotation$ftcount_id)\n",
    "mcols(dds) <- cbind(mcols(dds), annotation)\n",
    "\n",
    "\n",
    "##------------------------------------\n",
    "# Re-factor\n",
    "dds$expGroup <- factor(dds$expGroup, levels = GROUPS)\n",
    "\n",
    "##------------------------------------\n",
    "# Pre-filter\n",
    "# keep <- rowSums(counts(dds)) >= 10\n",
    "# dds <- dds[keep,]\n",
    "\n",
    "##------------------------------------\n",
    "# DAA\n",
    "dds <- DESeq(dds)\n",
    "\n",
    "\n",
    "##------------------------------------\n",
    "# ANALYZE\n",
    "##------------------------------------\n",
    "\n",
    "res <- results(dds,alpha=0.05, contrast = c(\"expGroup\",GROUPS))\n",
    "\n",
    "res$gene_name <- mcols(dds)$gene_name\n",
    "res$gene_type <- mcols(dds)$gene_type\n",
    "\n",
    "summary(res)\n",
    "\n",
    "tg_up <- suppressMessages(topGO(res,SIG_THRESH = 0.05,\"+\"))\n",
    "tg_down <- suppressMessages(topGO(res,SIG_THRESH = 0.05,\"-\"))\n",
    "\n",
    "##------------------------------------\n",
    "# SAVE\n",
    "##------------------------------------\n",
    "\n",
    "rslts <- list()\n",
    "rslts[['dds']] <- dds\n",
    "rslts[['res']] <- res\n",
    "rslts[['TopGO+']] <- tg_up\n",
    "rslts[['TopGO-']] <- tg_down\n",
    "\n",
    "saveRDS(rslts, file = RDS_FILENAME)\n",
    "\n",
    "data.frame(res) %>% rownames_to_column(var=\"GeneID\") %>% write.table(GENE_TABLE_FILENAME,sep=\"\\t\",row.names = FALSE)"
   ]
  }
 ],
 "metadata": {
  "kernelspec": {
   "display_name": "R",
   "language": "R",
   "name": "ir"
  },
  "language_info": {
   "codemirror_mode": "r",
   "file_extension": ".r",
   "mimetype": "text/x-r-source",
   "name": "R",
   "pygments_lexer": "r",
   "version": "4.1.1"
  }
 },
 "nbformat": 4,
 "nbformat_minor": 5
}
