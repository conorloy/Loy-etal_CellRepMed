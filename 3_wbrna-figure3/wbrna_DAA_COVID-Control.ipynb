{
 "cells": [
  {
   "cell_type": "code",
   "execution_count": 6,
   "id": "5d3c9563-b5a2-4ea6-bf3c-0eaec170c6d5",
   "metadata": {},
   "outputs": [],
   "source": [
    "suppressMessages(library(tidyverse))     # tidyverse will pull in ggplot2, readr, other useful libraries\n",
    "suppressMessages(library(magrittr))      # provides the %>% operator\n",
    "suppressMessages(library(\"genefilter\"))\n",
    "suppressMessages(library(DESeq2))\n",
    "suppressMessages(library(tximport))\n",
    "suppressMessages(library(\"readr\"))\n",
    "suppressMessages(library(\"tximportData\"))\n",
    "suppressMessages(library(data.table))\n",
    "\n",
    "suppressMessages(library(matrixStats))\n",
    "suppressMessages(library(org.Hs.eg.db))\n",
    "suppressMessages(library(topGO))\n",
    "\n",
    "suppressMessages(library(pheatmap))\n",
    "suppressMessages(library(gplots))\n",
    "suppressMessages(library(matrixStats))\n",
    "\n",
    "source(\"./fig3_functions.r\")\n",
    "\n",
    "options(stringsAsFactors = FALSE)\n",
    "\n",
    "\n",
    "RDS_FILENAME = \"dea_output/covid-control.rds\"\n",
    "GENE_TABLE_FILENAME = \"./tables/wb_covid-cntrl_all_DESeq.tsv\""
   ]
  },
  {
   "cell_type": "markdown",
   "id": "c52b433a-70d6-4725-a680-e1c51de81a6b",
   "metadata": {
    "tags": []
   },
   "source": [
    "---\n",
    "## Load in Meta Data"
   ]
  },
  {
   "cell_type": "code",
   "execution_count": 7,
   "id": "01d51c72-5ec8-40f7-bd90-01b3610ca39c",
   "metadata": {},
   "outputs": [
    {
     "data": {
      "text/plain": [
       "\n",
       "Control_Non-inflammatory                 COVID-19 \n",
       "                      23                       36 "
      ]
     },
     "metadata": {},
     "output_type": "display_data"
    }
   ],
   "source": [
    "meta_data <- read.csv(\"../1_sample-data/STable7_wbrna-samples.csv\") %>% \n",
    "    filter( (Diagnosis == \"COVID-19\" & timepoint == \"acute\") | Diagnosis == \"Control_Non-inflammatory\")\n",
    "\n",
    "samples <- meta_data\n",
    "\n",
    "GROUPS = c(\"COVID-19\", \"Control_Non-inflammatory\")\n",
    "\n",
    "samples$expGroup <- samples$Diagnosis\n",
    "\n",
    "\n",
    "table(samples$expGroup)"
   ]
  },
  {
   "cell_type": "markdown",
   "id": "a977a7ed-4d7f-4032-8347-202cadb41bb4",
   "metadata": {},
   "source": [
    "---"
   ]
  },
  {
   "cell_type": "code",
   "execution_count": 10,
   "id": "8f0cccbe-d1dd-4b2c-8fd4-88ceaa38bd46",
   "metadata": {
    "tags": []
   },
   "outputs": [
    {
     "name": "stderr",
     "output_type": "stream",
     "text": [
      "converting counts to integer mode\n",
      "\n",
      "Warning message in DESeqDataSet(se, design = design, ignoreRank):\n",
      "“some variables in design formula are characters, converting to factors”\n",
      "  Note: levels of factors in the design contain characters other than\n",
      "  letters, numbers, '_' and '.'. It is recommended (but not required) to use\n",
      "  only letters, numbers, and delimiters '_' or '.', as these are safe characters\n",
      "  for column names in R. [This is a message, not a warning or an error]\n",
      "\n"
     ]
    },
    {
     "data": {
      "text/html": [
       "TRUE"
      ],
      "text/latex": [
       "TRUE"
      ],
      "text/markdown": [
       "TRUE"
      ],
      "text/plain": [
       "[1] TRUE"
      ]
     },
     "metadata": {},
     "output_type": "display_data"
    },
    {
     "name": "stderr",
     "output_type": "stream",
     "text": [
      "estimating size factors\n",
      "\n",
      "  Note: levels of factors in the design contain characters other than\n",
      "  letters, numbers, '_' and '.'. It is recommended (but not required) to use\n",
      "  only letters, numbers, and delimiters '_' or '.', as these are safe characters\n",
      "  for column names in R. [This is a message, not a warning or an error]\n",
      "\n",
      "estimating dispersions\n",
      "\n",
      "gene-wise dispersion estimates\n",
      "\n",
      "mean-dispersion relationship\n",
      "\n",
      "  Note: levels of factors in the design contain characters other than\n",
      "  letters, numbers, '_' and '.'. It is recommended (but not required) to use\n",
      "  only letters, numbers, and delimiters '_' or '.', as these are safe characters\n",
      "  for column names in R. [This is a message, not a warning or an error]\n",
      "\n",
      "final dispersion estimates\n",
      "\n",
      "  Note: levels of factors in the design contain characters other than\n",
      "  letters, numbers, '_' and '.'. It is recommended (but not required) to use\n",
      "  only letters, numbers, and delimiters '_' or '.', as these are safe characters\n",
      "  for column names in R. [This is a message, not a warning or an error]\n",
      "\n",
      "fitting model and testing\n",
      "\n",
      "  Note: levels of factors in the design contain characters other than\n",
      "  letters, numbers, '_' and '.'. It is recommended (but not required) to use\n",
      "  only letters, numbers, and delimiters '_' or '.', as these are safe characters\n",
      "  for column names in R. [This is a message, not a warning or an error]\n",
      "\n",
      "-- replacing outliers and refitting for 852 genes\n",
      "-- DESeq argument 'minReplicatesForReplace' = 7 \n",
      "-- original counts are preserved in counts(dds)\n",
      "\n",
      "estimating dispersions\n",
      "\n",
      "  Note: levels of factors in the design contain characters other than\n",
      "  letters, numbers, '_' and '.'. It is recommended (but not required) to use\n",
      "  only letters, numbers, and delimiters '_' or '.', as these are safe characters\n",
      "  for column names in R. [This is a message, not a warning or an error]\n",
      "\n",
      "fitting model and testing\n",
      "\n",
      "  Note: levels of factors in the design contain characters other than\n",
      "  letters, numbers, '_' and '.'. It is recommended (but not required) to use\n",
      "  only letters, numbers, and delimiters '_' or '.', as these are safe characters\n",
      "  for column names in R. [This is a message, not a warning or an error]\n",
      "\n"
     ]
    },
    {
     "name": "stdout",
     "output_type": "stream",
     "text": [
      "\n",
      "out of 40097 with nonzero total read count\n",
      "adjusted p-value < 0.05\n",
      "LFC > 0 (up)       : 3814, 9.5%\n",
      "LFC < 0 (down)     : 1353, 3.4%\n",
      "outliers [1]       : 0, 0%\n",
      "low counts [2]     : 206, 0.51%\n",
      "(mean count < 0)\n",
      "[1] see 'cooksCutoff' argument of ?results\n",
      "[2] see 'independentFiltering' argument of ?results\n",
      "\n"
     ]
    }
   ],
   "source": [
    "##------------------------------------\n",
    "# PREPARE COUNTS\n",
    "##------------------------------------\n",
    "\n",
    "##------------------------------------\n",
    "# load count data with tximport\n",
    "sample_ids = unique(samples$wbrna_sample_id)                                                                    # Get sample ids that pass qc\n",
    "\n",
    "counts = read.delim(\"../1_sample-data/wbrna_ftcounts.txt\")\n",
    "rownames(counts) <- counts$X\n",
    "\n",
    "counts = counts[,sample_ids]\n",
    "\n",
    "##------------------------------------\n",
    "# Remove ChrX, ChrY, ChrM, and RB genes\n",
    "gene.list <- read.delim(\"../0_support-files/genelist.hs.tsv\",col.names = c(\"type,\",\"ENSMBL\",\"gene_symbol\"))\n",
    "\n",
    "gene.ids <- gsub(\"\\\\..*\",\"\",rownames(counts))\n",
    "\n",
    "exclude.idx <- gene.ids %in% gene.list[,2]\n",
    "\n",
    "counts = counts[!exclude.idx,]         \n",
    "\n",
    "\n",
    "##------------------------------------\n",
    "# RUN DESEQ2\n",
    "##------------------------------------\n",
    "\n",
    "##------------------------------------\n",
    "# Contstruct DESeq Data Set\n",
    "dds <- DESeqDataSetFromMatrix(round(counts),\n",
    "                                colData = samples,\n",
    "                                design = ~ expGroup + 0)\n",
    "\n",
    "##------------------------------------\n",
    "# Add Gene metadata\n",
    "annotation = fread(file=\"../0_support-files/gencode.biotype.name.key.tsv\")\n",
    "annotation <- annotation[match(rownames(dds), annotation$gene_id),]\n",
    "all(rownames(dds) == annotation$ftcount_id)\n",
    "mcols(dds) <- cbind(mcols(dds), annotation)\n",
    "\n",
    "\n",
    "##------------------------------------\n",
    "# Re-factor\n",
    "dds$expGroup <- factor(dds$expGroup, levels = GROUPS)\n",
    "\n",
    "##------------------------------------\n",
    "# Pre-filter\n",
    "# keep <- rowSums(counts(dds)) >= 10\n",
    "# dds <- dds[keep,]\n",
    "\n",
    "##------------------------------------\n",
    "# DAA\n",
    "dds <- DESeq(dds)\n",
    "\n",
    "\n",
    "##------------------------------------\n",
    "# ANALYZE\n",
    "##------------------------------------\n",
    "\n",
    "res <- results(dds,alpha=0.05, contrast = c(\"expGroup\",GROUPS))\n",
    "\n",
    "res$gene_name <- mcols(dds)$gene_name\n",
    "res$gene_type <- mcols(dds)$gene_type\n",
    "\n",
    "summary(res)\n",
    "\n",
    "# tg_up <- suppressMessages(topGO(res,SIG_THRESH = 0.05,\"+\"))\n",
    "# tg_down <- suppressMessages(topGO(res,SIG_THRESH = 0.05,\"-\"))\n",
    "\n",
    "##------------------------------------\n",
    "# SAVE\n",
    "##------------------------------------\n",
    "\n",
    "rslts <- list()\n",
    "rslts[['dds']] <- dds\n",
    "rslts[['res']] <- res\n",
    "# rslts[['TopGO+']] <- tg_up\n",
    "# rslts[['TopGO-']] <- tg_down\n",
    "\n",
    "saveRDS(rslts, file = RDS_FILENAME)\n",
    "\n",
    "data.frame(res) %>% rownames_to_column(var=\"GeneID\") %>% write.table(GENE_TABLE_FILENAME,sep=\"\\t\",row.names = FALSE)"
   ]
  },
  {
   "cell_type": "code",
   "execution_count": 4,
   "id": "fba709d0-c158-4f05-ae46-246e00e3793f",
   "metadata": {},
   "outputs": [
    {
     "data": {
      "text/html": [
       "1273"
      ],
      "text/latex": [
       "1273"
      ],
      "text/markdown": [
       "1273"
      ],
      "text/plain": [
       "[1] 1273"
      ]
     },
     "metadata": {},
     "output_type": "display_data"
    }
   ],
   "source": [
    "res %>% data.frame() %>% filter(abs(log2FoldChange)>1.5) %>% filter(padj < 0.01) %>% nrow()"
   ]
  },
  {
   "cell_type": "code",
   "execution_count": 5,
   "id": "67ca2b06-cede-4f4c-95dc-24d85d23a4fa",
   "metadata": {},
   "outputs": [
    {
     "data": {
      "text/html": [
       "2016"
      ],
      "text/latex": [
       "2016"
      ],
      "text/markdown": [
       "2016"
      ],
      "text/plain": [
       "[1] 2016"
      ]
     },
     "metadata": {},
     "output_type": "display_data"
    },
    {
     "data": {
      "text/html": [
       "86"
      ],
      "text/latex": [
       "86"
      ],
      "text/markdown": [
       "86"
      ],
      "text/plain": [
       "[1] 86"
      ]
     },
     "metadata": {},
     "output_type": "display_data"
    }
   ],
   "source": [
    "read.delim(\"./tables/wb_misc-control_all_DESeq.tsv\")%>% data.frame() %>% filter(abs(log2FoldChange)>1.5) %>% filter(padj < 0.01) %>% nrow()\n",
    "\n",
    "read.delim(\"./tables/wb_misc-covid_all_DESeq.tsv\")%>% data.frame() %>% filter(abs(log2FoldChange)>1.5) %>% filter(padj < 0.01) %>% nrow()\n",
    "\n"
   ]
  },
  {
   "cell_type": "code",
   "execution_count": null,
   "id": "2920d636-a259-43be-8caa-dde3bfced690",
   "metadata": {},
   "outputs": [],
   "source": []
  }
 ],
 "metadata": {
  "kernelspec": {
   "display_name": "R",
   "language": "R",
   "name": "ir"
  },
  "language_info": {
   "codemirror_mode": "r",
   "file_extension": ".r",
   "mimetype": "text/x-r-source",
   "name": "R",
   "pygments_lexer": "r",
   "version": "4.1.1"
  }
 },
 "nbformat": 4,
 "nbformat_minor": 5
}
