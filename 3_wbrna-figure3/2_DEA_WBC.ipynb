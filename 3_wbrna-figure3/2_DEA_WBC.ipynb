{
 "cells": [
  {
   "cell_type": "code",
   "execution_count": 1,
   "id": "793c9099-c4fc-44f1-9736-bc635b2d987c",
   "metadata": {},
   "outputs": [],
   "source": [
    "suppressMessages(library(\"DESeq2\"))\n",
    "suppressMessages(library(BiocParallel))\n",
    "suppressMessages(library(tidyverse))\n",
    "register(MulticoreParam(4))\n",
    "\n",
    "suppressMessages(require(pheatmap))\n",
    "suppressMessages(require(RColorBrewer))\n",
    "suppressMessages(require(dendextend))\n",
    "suppressMessages(require(ComplexHeatmap))\n",
    "suppressMessages(require(circlize))\n",
    "\n",
    "SIG_THRESH = 0.01\n",
    "FC_THRESH = 1.5\n",
    "WIDTH = 1.6\n",
    "HEIGHT = 2.6\n",
    "\n",
    "RES = 300"
   ]
  },
  {
   "cell_type": "code",
   "execution_count": 2,
   "id": "450231f1-c424-491c-8eeb-98738b0d36e4",
   "metadata": {},
   "outputs": [],
   "source": [
    "run_deseq <- function(data_raw, coldata, G1, G2, RUN_TOO = FALSE,CELLTYPES = NULL){\n",
    "    \n",
    "    DESIGN = \"~groups\"\n",
    "    \n",
    "    if (RUN_TOO){\n",
    "        DESIGN = paste0(DESIGN,\" + \",CELLTYPES)\n",
    "        dds <- DESeqDataSetFromMatrix(countData=data_raw, \n",
    "                                      colData=coldata, \n",
    "                                      design= formula(DESIGN)\n",
    "                                          )\n",
    "    } else {        \n",
    "        dds <- DESeqDataSetFromMatrix(countData=data_raw, \n",
    "                                      colData=coldata, \n",
    "                                      design=formula(DESIGN)\n",
    "                                     )\n",
    "    }\n",
    "\n",
    "    dds <- DESeq(dds,parallel=TRUE)\n",
    "\n",
    "    res <- results(dds, contrast = c(\"groups\",G1,G2))\n",
    "\n",
    "    tmp <- res %>% data.frame() %>% filter(abs(log2FoldChange)>1.5) %>% filter(padj < 0.01)\n",
    "    cat(nrow(tmp))\n",
    "    \n",
    "    return(res)\n",
    "}"
   ]
  },
  {
   "cell_type": "code",
   "execution_count": 3,
   "id": "929d8872-d728-41d4-9c6a-e00ac69f8e47",
   "metadata": {},
   "outputs": [],
   "source": [
    "create_heatmap <- function(res,groups,cpm,meta_data) {\n",
    "    \n",
    "    ANNOTATIONS = c(\"Diagnosis\",\"severity\",'group')\n",
    "#     ANNOTATIONS = c(\"Row.names\",\"groups\")\n",
    "    \n",
    "    ###----------------------------------\n",
    "    ## Extract significant genes\n",
    "    sig_genes <- data.frame(res) %>% filter(padj < SIG_THRESH & abs(log2FoldChange) > FC_THRESH) %>% rownames(gene_id)\n",
    "#             rownames_to_column(var = \"gene_id_ensmbl\",) %>% mutate(gene_id = gsub(\".*_\",\"\",gene_id_ensmbl)) %>% pull(gene_id)\n",
    "\n",
    "    ###----------------------------------\n",
    "    ## Subset metadata \n",
    "    metadata <- meta_data %>% \n",
    "        column_to_rownames(var = \"Row.names\") %>%\n",
    "        mutate(severity = ifelse(grepl(\"ontrol\",severity),NA,severity)) %>%\n",
    "        rename(Diagnosis = groups) %>%\n",
    "        select(all_of(ANNOTATIONS))\n",
    "    \n",
    "    colnames(metadata) <- c(\"Diagnosis\",\"Severity\",\"group\")\n",
    "    \n",
    "    ###----------------------------------\n",
    "    ## Subset count matrix\n",
    "    mat <- data.frame(cpm) %>% \n",
    "            filter(row.names(cpm) %in% all_of(sig_genes)) %>% \n",
    "            select(all_of(rownames(metadata))) %>% \n",
    "            as.matrix()\n",
    "\n",
    "    mat <- t(scale(t(mat)))\n",
    "\n",
    "    ###----------------------------------\n",
    "    ## Colors\n",
    "    color = colorRampPalette(c(\"blue\",\"yellow\"))(50)\n",
    "    breaksList = seq(-2, +2, length = 51)\n",
    "\n",
    "    #color_groups = c('COVID-19\\ndiscovery' = '#c1272d', 'MIS-C\\ndiscovery' = '#0000a7', 'Control_Non-inflammatory\\ndiscovery' = '#eecc16',\"MIS-C\\nvalidation\" = '#008176')\n",
    "    \n",
    "    my_colour <- list(\n",
    "    Diagnosis = c('COV' = '#F0484E', 'M' = '#5CB2EB', 'C' = '#FBE77C') , #\"MISC_acute_validation\" = '#00FFFF'),\n",
    "    Severity = c(\"-1\" = \"white\", \"0\" = \"white\", \"2\" = \"#efe5d7\", \"3\" = \"#bc8e52\"),\n",
    "    group = c(\"validation\" = \"orange\", \"discovery\" = \"light blue\", \"UCSF\" = \"forest green\") #,\n",
    "    # PCR = c(\"1\" = \"green\", \"2\" = \"blue\"),\n",
    "    # Antibody =c(\"1\" = \"green\", \"2\" = \"blue\")\n",
    "    )\n",
    "\n",
    "    ###----------------------------------\n",
    "    ## Plot\n",
    "    \n",
    "#     return(list(mat, metadata))\n",
    "    \n",
    "    # pdf(\"./tmp.pdf\")\n",
    "    heatmap_plt <- pheatmap(mat,\n",
    "\n",
    "             # Colors\n",
    "             col=color,\n",
    "             breaks=breaksList, \n",
    "             annotation_col=metadata,\n",
    "             annotation_colors=my_colour,\n",
    "             na_col = \"#FFFFFF\",\n",
    "\n",
    "             # Fonts\n",
    "             show_colnames=F,\n",
    "             show_rownames=F,\n",
    "             fontsize=12,\n",
    "             fontsize_col=3,\n",
    "             annotation_names_col=F,\n",
    "             annotation_names_row=F,\n",
    "\n",
    "             # Clustering\n",
    "\n",
    "             clustering_distance_cols=\"correlation\",\n",
    "             clustering_distance_rows=\"correlation\", \n",
    "    #          clustering_distance_cols=\"euclidean\",\n",
    "    #          clustering_distance_rows=\"euclidean\",\n",
    "    #          cluster_cols=hc,\n",
    "    #          cluster_rows=hr,\n",
    "    #          clustering_distance_rows=\"euclidean\",\n",
    "    #          clustering_method=\"complete\",\n",
    "             treeheight_row=0,\n",
    "            treeheight_col= 15,\n",
    "\n",
    "             # Misc.\n",
    "             border_color=NA,\n",
    "            legend=FALSE,\n",
    "            annotation_legend=FALSE\n",
    "            ) \n",
    "    # dev.off()\n",
    "\n",
    "\n",
    "\n",
    "\n",
    "    return(heatmap_plt)\n",
    "\n",
    "        }\n",
    "\n",
    "\n",
    "CELLTYPE_labs = \"wbc\""
   ]
  },
  {
   "cell_type": "code",
   "execution_count": 25,
   "id": "cdf08252-8f68-445a-bbd7-5e73ad57159f",
   "metadata": {},
   "outputs": [
    {
     "data": {
      "text/html": [
       "<table class=\"dataframe\">\n",
       "<caption>A data.frame: 6 × 56</caption>\n",
       "<thead>\n",
       "\t<tr><th></th><th scope=col>wbrna_sample_id</th><th scope=col>wbc</th><th scope=col>crp</th><th scope=col>alt</th><th scope=col>alb</th><th scope=col>PTID</th><th scope=col>group</th><th scope=col>Diagnosis</th><th scope=col>severity</th><th scope=col>timepoint</th><th scope=col>⋯</th><th scope=col>Intestinal.secretory.cell</th><th scope=col>Intestinal.tuft.cell</th><th scope=col>Type.II.Pneumocyte</th><th scope=col>Cell.of.skeletal.muscle</th><th scope=col>Schwann.cell</th><th scope=col>Tendon.cell</th><th scope=col>Mesothelial.cell</th><th scope=col>Plasmablast</th><th scope=col>Kidney.epithelial.cell</th><th scope=col>Thymocyte</th></tr>\n",
       "\t<tr><th></th><th scope=col>&lt;chr&gt;</th><th scope=col>&lt;dbl&gt;</th><th scope=col>&lt;dbl&gt;</th><th scope=col>&lt;int&gt;</th><th scope=col>&lt;dbl&gt;</th><th scope=col>&lt;chr&gt;</th><th scope=col>&lt;chr&gt;</th><th scope=col>&lt;chr&gt;</th><th scope=col>&lt;int&gt;</th><th scope=col>&lt;chr&gt;</th><th scope=col>⋯</th><th scope=col>&lt;dbl&gt;</th><th scope=col>&lt;dbl&gt;</th><th scope=col>&lt;dbl&gt;</th><th scope=col>&lt;dbl&gt;</th><th scope=col>&lt;dbl&gt;</th><th scope=col>&lt;dbl&gt;</th><th scope=col>&lt;dbl&gt;</th><th scope=col>&lt;dbl&gt;</th><th scope=col>&lt;dbl&gt;</th><th scope=col>&lt;dbl&gt;</th></tr>\n",
       "</thead>\n",
       "<tbody>\n",
       "\t<tr><th scope=row>1</th><td>PV1  </td><td>   NA</td><td>   NA</td><td>NA</td><td> NA</td><td>Patient218</td><td>discovery</td><td>COVID-19</td><td>2</td><td>acute</td><td>⋯</td><td>1.33e-05</td><td>0.01898214</td><td>1.26e-05</td><td>0.000048100</td><td>1.78e-05</td><td>1.16e-05</td><td>0.000019500</td><td>0.000004470</td><td>8.16e-06</td><td>0.003373379</td></tr>\n",
       "\t<tr><th scope=row>2</th><td>PV100</td><td> 5.14</td><td> 16.2</td><td>41</td><td>2.4</td><td>Patient77 </td><td>discovery</td><td>MIS-C   </td><td>3</td><td>acute</td><td>⋯</td><td>1.94e-06</td><td>0.00004980</td><td>1.29e-06</td><td>0.000443479</td><td>2.48e-06</td><td>1.27e-06</td><td>0.000133765</td><td>0.000003300</td><td>1.30e-06</td><td>0.000002170</td></tr>\n",
       "\t<tr><th scope=row>3</th><td>PV101</td><td>11.53</td><td> 12.7</td><td>31</td><td>3.3</td><td>Patient79 </td><td>discovery</td><td>MIS-C   </td><td>2</td><td>acute</td><td>⋯</td><td>1.58e-05</td><td>0.03062372</td><td>6.51e-05</td><td>0.014795700</td><td>1.93e-05</td><td>6.61e-06</td><td>0.000001880</td><td>0.000007830</td><td>1.36e-05</td><td>0.064434426</td></tr>\n",
       "\t<tr><th scope=row>4</th><td>PV102</td><td> 9.10</td><td>156.2</td><td>43</td><td>2.3</td><td>Patient80 </td><td>discovery</td><td>MIS-C   </td><td>3</td><td>acute</td><td>⋯</td><td>9.92e-06</td><td>0.04879090</td><td>1.61e-05</td><td>0.013138938</td><td>9.93e-05</td><td>1.43e-05</td><td>0.000002250</td><td>0.005421059</td><td>5.08e-05</td><td>0.045913098</td></tr>\n",
       "\t<tr><th scope=row>5</th><td>PV103</td><td> 9.36</td><td> 10.2</td><td>27</td><td>3.9</td><td>Patient82 </td><td>discovery</td><td>MIS-C   </td><td>2</td><td>acute</td><td>⋯</td><td>7.48e-06</td><td>0.02249626</td><td>1.08e-05</td><td>0.001680164</td><td>1.36e-05</td><td>1.03e-05</td><td>0.000002380</td><td>0.004566034</td><td>6.23e-06</td><td>0.009268024</td></tr>\n",
       "\t<tr><th scope=row>6</th><td>PV104</td><td> 9.95</td><td>  8.2</td><td>24</td><td>1.9</td><td>Patient83 </td><td>discovery</td><td>MIS-C   </td><td>3</td><td>acute</td><td>⋯</td><td>1.56e-06</td><td>0.00931138</td><td>4.54e-06</td><td>0.008044692</td><td>7.72e-05</td><td>2.72e-06</td><td>0.000051500</td><td>0.063632476</td><td>2.30e-06</td><td>0.000003370</td></tr>\n",
       "</tbody>\n",
       "</table>\n"
      ],
      "text/latex": [
       "A data.frame: 6 × 56\n",
       "\\begin{tabular}{r|lllllllllllllllllllll}\n",
       "  & wbrna\\_sample\\_id & wbc & crp & alt & alb & PTID & group & Diagnosis & severity & timepoint & ⋯ & Intestinal.secretory.cell & Intestinal.tuft.cell & Type.II.Pneumocyte & Cell.of.skeletal.muscle & Schwann.cell & Tendon.cell & Mesothelial.cell & Plasmablast & Kidney.epithelial.cell & Thymocyte\\\\\n",
       "  & <chr> & <dbl> & <dbl> & <int> & <dbl> & <chr> & <chr> & <chr> & <int> & <chr> & ⋯ & <dbl> & <dbl> & <dbl> & <dbl> & <dbl> & <dbl> & <dbl> & <dbl> & <dbl> & <dbl>\\\\\n",
       "\\hline\n",
       "\t1 & PV1   &    NA &    NA & NA &  NA & Patient218 & discovery & COVID-19 & 2 & acute & ⋯ & 1.33e-05 & 0.01898214 & 1.26e-05 & 0.000048100 & 1.78e-05 & 1.16e-05 & 0.000019500 & 0.000004470 & 8.16e-06 & 0.003373379\\\\\n",
       "\t2 & PV100 &  5.14 &  16.2 & 41 & 2.4 & Patient77  & discovery & MIS-C    & 3 & acute & ⋯ & 1.94e-06 & 0.00004980 & 1.29e-06 & 0.000443479 & 2.48e-06 & 1.27e-06 & 0.000133765 & 0.000003300 & 1.30e-06 & 0.000002170\\\\\n",
       "\t3 & PV101 & 11.53 &  12.7 & 31 & 3.3 & Patient79  & discovery & MIS-C    & 2 & acute & ⋯ & 1.58e-05 & 0.03062372 & 6.51e-05 & 0.014795700 & 1.93e-05 & 6.61e-06 & 0.000001880 & 0.000007830 & 1.36e-05 & 0.064434426\\\\\n",
       "\t4 & PV102 &  9.10 & 156.2 & 43 & 2.3 & Patient80  & discovery & MIS-C    & 3 & acute & ⋯ & 9.92e-06 & 0.04879090 & 1.61e-05 & 0.013138938 & 9.93e-05 & 1.43e-05 & 0.000002250 & 0.005421059 & 5.08e-05 & 0.045913098\\\\\n",
       "\t5 & PV103 &  9.36 &  10.2 & 27 & 3.9 & Patient82  & discovery & MIS-C    & 2 & acute & ⋯ & 7.48e-06 & 0.02249626 & 1.08e-05 & 0.001680164 & 1.36e-05 & 1.03e-05 & 0.000002380 & 0.004566034 & 6.23e-06 & 0.009268024\\\\\n",
       "\t6 & PV104 &  9.95 &   8.2 & 24 & 1.9 & Patient83  & discovery & MIS-C    & 3 & acute & ⋯ & 1.56e-06 & 0.00931138 & 4.54e-06 & 0.008044692 & 7.72e-05 & 2.72e-06 & 0.000051500 & 0.063632476 & 2.30e-06 & 0.000003370\\\\\n",
       "\\end{tabular}\n"
      ],
      "text/markdown": [
       "\n",
       "A data.frame: 6 × 56\n",
       "\n",
       "| <!--/--> | wbrna_sample_id &lt;chr&gt; | wbc &lt;dbl&gt; | crp &lt;dbl&gt; | alt &lt;int&gt; | alb &lt;dbl&gt; | PTID &lt;chr&gt; | group &lt;chr&gt; | Diagnosis &lt;chr&gt; | severity &lt;int&gt; | timepoint &lt;chr&gt; | ⋯ ⋯ | Intestinal.secretory.cell &lt;dbl&gt; | Intestinal.tuft.cell &lt;dbl&gt; | Type.II.Pneumocyte &lt;dbl&gt; | Cell.of.skeletal.muscle &lt;dbl&gt; | Schwann.cell &lt;dbl&gt; | Tendon.cell &lt;dbl&gt; | Mesothelial.cell &lt;dbl&gt; | Plasmablast &lt;dbl&gt; | Kidney.epithelial.cell &lt;dbl&gt; | Thymocyte &lt;dbl&gt; |\n",
       "|---|---|---|---|---|---|---|---|---|---|---|---|---|---|---|---|---|---|---|---|---|---|\n",
       "| 1 | PV1   |    NA |    NA | NA |  NA | Patient218 | discovery | COVID-19 | 2 | acute | ⋯ | 1.33e-05 | 0.01898214 | 1.26e-05 | 0.000048100 | 1.78e-05 | 1.16e-05 | 0.000019500 | 0.000004470 | 8.16e-06 | 0.003373379 |\n",
       "| 2 | PV100 |  5.14 |  16.2 | 41 | 2.4 | Patient77  | discovery | MIS-C    | 3 | acute | ⋯ | 1.94e-06 | 0.00004980 | 1.29e-06 | 0.000443479 | 2.48e-06 | 1.27e-06 | 0.000133765 | 0.000003300 | 1.30e-06 | 0.000002170 |\n",
       "| 3 | PV101 | 11.53 |  12.7 | 31 | 3.3 | Patient79  | discovery | MIS-C    | 2 | acute | ⋯ | 1.58e-05 | 0.03062372 | 6.51e-05 | 0.014795700 | 1.93e-05 | 6.61e-06 | 0.000001880 | 0.000007830 | 1.36e-05 | 0.064434426 |\n",
       "| 4 | PV102 |  9.10 | 156.2 | 43 | 2.3 | Patient80  | discovery | MIS-C    | 3 | acute | ⋯ | 9.92e-06 | 0.04879090 | 1.61e-05 | 0.013138938 | 9.93e-05 | 1.43e-05 | 0.000002250 | 0.005421059 | 5.08e-05 | 0.045913098 |\n",
       "| 5 | PV103 |  9.36 |  10.2 | 27 | 3.9 | Patient82  | discovery | MIS-C    | 2 | acute | ⋯ | 7.48e-06 | 0.02249626 | 1.08e-05 | 0.001680164 | 1.36e-05 | 1.03e-05 | 0.000002380 | 0.004566034 | 6.23e-06 | 0.009268024 |\n",
       "| 6 | PV104 |  9.95 |   8.2 | 24 | 1.9 | Patient83  | discovery | MIS-C    | 3 | acute | ⋯ | 1.56e-06 | 0.00931138 | 4.54e-06 | 0.008044692 | 7.72e-05 | 2.72e-06 | 0.000051500 | 0.063632476 | 2.30e-06 | 0.000003370 |\n",
       "\n"
      ],
      "text/plain": [
       "  wbrna_sample_id wbc   crp   alt alb PTID       group     Diagnosis severity\n",
       "1 PV1                NA    NA NA   NA Patient218 discovery COVID-19  2       \n",
       "2 PV100            5.14  16.2 41  2.4 Patient77  discovery MIS-C     3       \n",
       "3 PV101           11.53  12.7 31  3.3 Patient79  discovery MIS-C     2       \n",
       "4 PV102            9.10 156.2 43  2.3 Patient80  discovery MIS-C     3       \n",
       "5 PV103            9.36  10.2 27  3.9 Patient82  discovery MIS-C     2       \n",
       "6 PV104            9.95   8.2 24  1.9 Patient83  discovery MIS-C     3       \n",
       "  timepoint ⋯ Intestinal.secretory.cell Intestinal.tuft.cell Type.II.Pneumocyte\n",
       "1 acute     ⋯ 1.33e-05                  0.01898214           1.26e-05          \n",
       "2 acute     ⋯ 1.94e-06                  0.00004980           1.29e-06          \n",
       "3 acute     ⋯ 1.58e-05                  0.03062372           6.51e-05          \n",
       "4 acute     ⋯ 9.92e-06                  0.04879090           1.61e-05          \n",
       "5 acute     ⋯ 7.48e-06                  0.02249626           1.08e-05          \n",
       "6 acute     ⋯ 1.56e-06                  0.00931138           4.54e-06          \n",
       "  Cell.of.skeletal.muscle Schwann.cell Tendon.cell Mesothelial.cell Plasmablast\n",
       "1 0.000048100             1.78e-05     1.16e-05    0.000019500      0.000004470\n",
       "2 0.000443479             2.48e-06     1.27e-06    0.000133765      0.000003300\n",
       "3 0.014795700             1.93e-05     6.61e-06    0.000001880      0.000007830\n",
       "4 0.013138938             9.93e-05     1.43e-05    0.000002250      0.005421059\n",
       "5 0.001680164             1.36e-05     1.03e-05    0.000002380      0.004566034\n",
       "6 0.008044692             7.72e-05     2.72e-06    0.000051500      0.063632476\n",
       "  Kidney.epithelial.cell Thymocyte  \n",
       "1 8.16e-06               0.003373379\n",
       "2 1.30e-06               0.000002170\n",
       "3 1.36e-05               0.064434426\n",
       "4 5.08e-05               0.045913098\n",
       "5 6.23e-06               0.009268024\n",
       "6 2.30e-06               0.000003370"
      ]
     },
     "metadata": {},
     "output_type": "display_data"
    }
   ],
   "source": [
    "### combine (dont need mdf3)\n",
    "labdata <- read.delim(\"../1_sample-data/paired_sample_key.tsv\") %>% select(wbrna_sample_id,wbc,crp,alt,alb)\n",
    "\n",
    "\n",
    "################################\n",
    "## read in wbrna key\n",
    "wbrna_meta <- read.csv(\"../1_sample-data/STable7_wbrna-samples.csv\")\n",
    "\n",
    "\n",
    "# wbrna_key %>% head()\n",
    "\n",
    "\n",
    "################################\n",
    "## read in wbrna key\n",
    "labdata  <- merge(labdata, wbrna_meta, by=\"wbrna_sample_id\", all.y= TRUE) #%>%\n",
    "#         filter(!is.na(wbc)) %>%\n",
    "#         filter(wbrna_id %in% colnames(data_raw)) #%>% \n",
    "#         arrange(siteid,wbrna_date_collection) %>% #%>%select(wbrna_id,wbc)\n",
    "\n",
    "labdata <- labdata[!duplicated(labdata$PTID),] \n",
    "\n",
    "labdata %>% head()"
   ]
  },
  {
   "cell_type": "code",
   "execution_count": 31,
   "id": "2fe93bc0-87ee-40ef-8cf4-f3d55f77347e",
   "metadata": {},
   "outputs": [
    {
     "data": {
      "text/html": [
       "<table class=\"dataframe\">\n",
       "<caption>A data.frame: 6 × 52</caption>\n",
       "<thead>\n",
       "\t<tr><th></th><th scope=col>PTID</th><th scope=col>wbrna_sample_id</th><th scope=col>group</th><th scope=col>Diagnosis</th><th scope=col>severity</th><th scope=col>timepoint</th><th scope=col>reads_sequenced</th><th scope=col>transcriptome_cov</th><th scope=col>ivig</th><th scope=col>days_ivig_before_samp</th><th scope=col>⋯</th><th scope=col>Intestinal.secretory.cell</th><th scope=col>Intestinal.tuft.cell</th><th scope=col>Type.II.Pneumocyte</th><th scope=col>Cell.of.skeletal.muscle</th><th scope=col>Schwann.cell</th><th scope=col>Tendon.cell</th><th scope=col>Mesothelial.cell</th><th scope=col>Plasmablast</th><th scope=col>Kidney.epithelial.cell</th><th scope=col>Thymocyte</th></tr>\n",
       "\t<tr><th></th><th scope=col>&lt;chr&gt;</th><th scope=col>&lt;chr&gt;</th><th scope=col>&lt;chr&gt;</th><th scope=col>&lt;chr&gt;</th><th scope=col>&lt;int&gt;</th><th scope=col>&lt;chr&gt;</th><th scope=col>&lt;int&gt;</th><th scope=col>&lt;dbl&gt;</th><th scope=col>&lt;int&gt;</th><th scope=col>&lt;int&gt;</th><th scope=col>⋯</th><th scope=col>&lt;dbl&gt;</th><th scope=col>&lt;dbl&gt;</th><th scope=col>&lt;dbl&gt;</th><th scope=col>&lt;dbl&gt;</th><th scope=col>&lt;dbl&gt;</th><th scope=col>&lt;dbl&gt;</th><th scope=col>&lt;dbl&gt;</th><th scope=col>&lt;dbl&gt;</th><th scope=col>&lt;dbl&gt;</th><th scope=col>&lt;dbl&gt;</th></tr>\n",
       "</thead>\n",
       "<tbody>\n",
       "\t<tr><th scope=row>1</th><td>Patient3 </td><td>PV351</td><td>validation</td><td>MIS-C</td><td>3</td><td>acute</td><td>38098558</td><td>25.44</td><td>1</td><td>-2</td><td>⋯</td><td>8.35e-06</td><td>0.10954676</td><td>1.98e-05</td><td>0.015621141</td><td>1.06e-05</td><td>1.10e-05</td><td>6.70e-06</td><td>0.000011500</td><td>1.53e-05</td><td>0.021315977</td></tr>\n",
       "\t<tr><th scope=row>2</th><td>Patient6 </td><td>PV352</td><td>validation</td><td>MIS-C</td><td>3</td><td>acute</td><td>26489040</td><td>20.56</td><td>1</td><td>NA</td><td>⋯</td><td>1.25e-05</td><td>0.08352631</td><td>1.78e-05</td><td>0.014168603</td><td>1.86e-05</td><td>1.51e-05</td><td>1.27e-05</td><td>0.000017600</td><td>1.15e-05</td><td>0.000160293</td></tr>\n",
       "\t<tr><th scope=row>3</th><td>Patient7 </td><td>PV353</td><td>validation</td><td>MIS-C</td><td>3</td><td>acute</td><td>26711938</td><td>26.72</td><td>1</td><td>-3</td><td>⋯</td><td>4.86e-06</td><td>0.08213655</td><td>5.90e-06</td><td>0.023575040</td><td>4.38e-06</td><td>4.18e-06</td><td>4.32e-06</td><td>0.000005290</td><td>3.43e-06</td><td>0.000024300</td></tr>\n",
       "\t<tr><th scope=row>4</th><td>Patient16</td><td>PV358</td><td>validation</td><td>MIS-C</td><td>3</td><td>acute</td><td>26069978</td><td>21.42</td><td>1</td><td>-3</td><td>⋯</td><td>1.82e-05</td><td>0.04287833</td><td>8.03e-05</td><td>0.011497580</td><td>1.53e-05</td><td>2.02e-05</td><td>9.12e-06</td><td>0.000048900</td><td>1.46e-05</td><td>0.000080100</td></tr>\n",
       "\t<tr><th scope=row>5</th><td>Patient21</td><td>PV359</td><td>validation</td><td>MIS-C</td><td>3</td><td>acute</td><td>28885786</td><td>28.56</td><td>1</td><td>-3</td><td>⋯</td><td>6.31e-06</td><td>0.09026610</td><td>7.14e-06</td><td>0.022972576</td><td>7.65e-06</td><td>1.93e-05</td><td>2.21e-06</td><td>0.000407147</td><td>4.43e-06</td><td>0.004639198</td></tr>\n",
       "\t<tr><th scope=row>6</th><td>Patient22</td><td>PV364</td><td>validation</td><td>MIS-C</td><td>3</td><td>acute</td><td>33887900</td><td>26.18</td><td>1</td><td>-2</td><td>⋯</td><td>2.91e-06</td><td>0.09142923</td><td>4.51e-06</td><td>0.002670228</td><td>3.29e-06</td><td>4.82e-06</td><td>2.08e-06</td><td>0.002681353</td><td>2.62e-06</td><td>0.000046400</td></tr>\n",
       "</tbody>\n",
       "</table>\n"
      ],
      "text/latex": [
       "A data.frame: 6 × 52\n",
       "\\begin{tabular}{r|lllllllllllllllllllll}\n",
       "  & PTID & wbrna\\_sample\\_id & group & Diagnosis & severity & timepoint & reads\\_sequenced & transcriptome\\_cov & ivig & days\\_ivig\\_before\\_samp & ⋯ & Intestinal.secretory.cell & Intestinal.tuft.cell & Type.II.Pneumocyte & Cell.of.skeletal.muscle & Schwann.cell & Tendon.cell & Mesothelial.cell & Plasmablast & Kidney.epithelial.cell & Thymocyte\\\\\n",
       "  & <chr> & <chr> & <chr> & <chr> & <int> & <chr> & <int> & <dbl> & <int> & <int> & ⋯ & <dbl> & <dbl> & <dbl> & <dbl> & <dbl> & <dbl> & <dbl> & <dbl> & <dbl> & <dbl>\\\\\n",
       "\\hline\n",
       "\t1 & Patient3  & PV351 & validation & MIS-C & 3 & acute & 38098558 & 25.44 & 1 & -2 & ⋯ & 8.35e-06 & 0.10954676 & 1.98e-05 & 0.015621141 & 1.06e-05 & 1.10e-05 & 6.70e-06 & 0.000011500 & 1.53e-05 & 0.021315977\\\\\n",
       "\t2 & Patient6  & PV352 & validation & MIS-C & 3 & acute & 26489040 & 20.56 & 1 & NA & ⋯ & 1.25e-05 & 0.08352631 & 1.78e-05 & 0.014168603 & 1.86e-05 & 1.51e-05 & 1.27e-05 & 0.000017600 & 1.15e-05 & 0.000160293\\\\\n",
       "\t3 & Patient7  & PV353 & validation & MIS-C & 3 & acute & 26711938 & 26.72 & 1 & -3 & ⋯ & 4.86e-06 & 0.08213655 & 5.90e-06 & 0.023575040 & 4.38e-06 & 4.18e-06 & 4.32e-06 & 0.000005290 & 3.43e-06 & 0.000024300\\\\\n",
       "\t4 & Patient16 & PV358 & validation & MIS-C & 3 & acute & 26069978 & 21.42 & 1 & -3 & ⋯ & 1.82e-05 & 0.04287833 & 8.03e-05 & 0.011497580 & 1.53e-05 & 2.02e-05 & 9.12e-06 & 0.000048900 & 1.46e-05 & 0.000080100\\\\\n",
       "\t5 & Patient21 & PV359 & validation & MIS-C & 3 & acute & 28885786 & 28.56 & 1 & -3 & ⋯ & 6.31e-06 & 0.09026610 & 7.14e-06 & 0.022972576 & 7.65e-06 & 1.93e-05 & 2.21e-06 & 0.000407147 & 4.43e-06 & 0.004639198\\\\\n",
       "\t6 & Patient22 & PV364 & validation & MIS-C & 3 & acute & 33887900 & 26.18 & 1 & -2 & ⋯ & 2.91e-06 & 0.09142923 & 4.51e-06 & 0.002670228 & 3.29e-06 & 4.82e-06 & 2.08e-06 & 0.002681353 & 2.62e-06 & 0.000046400\\\\\n",
       "\\end{tabular}\n"
      ],
      "text/markdown": [
       "\n",
       "A data.frame: 6 × 52\n",
       "\n",
       "| <!--/--> | PTID &lt;chr&gt; | wbrna_sample_id &lt;chr&gt; | group &lt;chr&gt; | Diagnosis &lt;chr&gt; | severity &lt;int&gt; | timepoint &lt;chr&gt; | reads_sequenced &lt;int&gt; | transcriptome_cov &lt;dbl&gt; | ivig &lt;int&gt; | days_ivig_before_samp &lt;int&gt; | ⋯ ⋯ | Intestinal.secretory.cell &lt;dbl&gt; | Intestinal.tuft.cell &lt;dbl&gt; | Type.II.Pneumocyte &lt;dbl&gt; | Cell.of.skeletal.muscle &lt;dbl&gt; | Schwann.cell &lt;dbl&gt; | Tendon.cell &lt;dbl&gt; | Mesothelial.cell &lt;dbl&gt; | Plasmablast &lt;dbl&gt; | Kidney.epithelial.cell &lt;dbl&gt; | Thymocyte &lt;dbl&gt; |\n",
       "|---|---|---|---|---|---|---|---|---|---|---|---|---|---|---|---|---|---|---|---|---|---|\n",
       "| 1 | Patient3  | PV351 | validation | MIS-C | 3 | acute | 38098558 | 25.44 | 1 | -2 | ⋯ | 8.35e-06 | 0.10954676 | 1.98e-05 | 0.015621141 | 1.06e-05 | 1.10e-05 | 6.70e-06 | 0.000011500 | 1.53e-05 | 0.021315977 |\n",
       "| 2 | Patient6  | PV352 | validation | MIS-C | 3 | acute | 26489040 | 20.56 | 1 | NA | ⋯ | 1.25e-05 | 0.08352631 | 1.78e-05 | 0.014168603 | 1.86e-05 | 1.51e-05 | 1.27e-05 | 0.000017600 | 1.15e-05 | 0.000160293 |\n",
       "| 3 | Patient7  | PV353 | validation | MIS-C | 3 | acute | 26711938 | 26.72 | 1 | -3 | ⋯ | 4.86e-06 | 0.08213655 | 5.90e-06 | 0.023575040 | 4.38e-06 | 4.18e-06 | 4.32e-06 | 0.000005290 | 3.43e-06 | 0.000024300 |\n",
       "| 4 | Patient16 | PV358 | validation | MIS-C | 3 | acute | 26069978 | 21.42 | 1 | -3 | ⋯ | 1.82e-05 | 0.04287833 | 8.03e-05 | 0.011497580 | 1.53e-05 | 2.02e-05 | 9.12e-06 | 0.000048900 | 1.46e-05 | 0.000080100 |\n",
       "| 5 | Patient21 | PV359 | validation | MIS-C | 3 | acute | 28885786 | 28.56 | 1 | -3 | ⋯ | 6.31e-06 | 0.09026610 | 7.14e-06 | 0.022972576 | 7.65e-06 | 1.93e-05 | 2.21e-06 | 0.000407147 | 4.43e-06 | 0.004639198 |\n",
       "| 6 | Patient22 | PV364 | validation | MIS-C | 3 | acute | 33887900 | 26.18 | 1 | -2 | ⋯ | 2.91e-06 | 0.09142923 | 4.51e-06 | 0.002670228 | 3.29e-06 | 4.82e-06 | 2.08e-06 | 0.002681353 | 2.62e-06 | 0.000046400 |\n",
       "\n"
      ],
      "text/plain": [
       "  PTID      wbrna_sample_id group      Diagnosis severity timepoint\n",
       "1 Patient3  PV351           validation MIS-C     3        acute    \n",
       "2 Patient6  PV352           validation MIS-C     3        acute    \n",
       "3 Patient7  PV353           validation MIS-C     3        acute    \n",
       "4 Patient16 PV358           validation MIS-C     3        acute    \n",
       "5 Patient21 PV359           validation MIS-C     3        acute    \n",
       "6 Patient22 PV364           validation MIS-C     3        acute    \n",
       "  reads_sequenced transcriptome_cov ivig days_ivig_before_samp ⋯\n",
       "1 38098558        25.44             1    -2                    ⋯\n",
       "2 26489040        20.56             1    NA                    ⋯\n",
       "3 26711938        26.72             1    -3                    ⋯\n",
       "4 26069978        21.42             1    -3                    ⋯\n",
       "5 28885786        28.56             1    -3                    ⋯\n",
       "6 33887900        26.18             1    -2                    ⋯\n",
       "  Intestinal.secretory.cell Intestinal.tuft.cell Type.II.Pneumocyte\n",
       "1 8.35e-06                  0.10954676           1.98e-05          \n",
       "2 1.25e-05                  0.08352631           1.78e-05          \n",
       "3 4.86e-06                  0.08213655           5.90e-06          \n",
       "4 1.82e-05                  0.04287833           8.03e-05          \n",
       "5 6.31e-06                  0.09026610           7.14e-06          \n",
       "6 2.91e-06                  0.09142923           4.51e-06          \n",
       "  Cell.of.skeletal.muscle Schwann.cell Tendon.cell Mesothelial.cell Plasmablast\n",
       "1 0.015621141             1.06e-05     1.10e-05    6.70e-06         0.000011500\n",
       "2 0.014168603             1.86e-05     1.51e-05    1.27e-05         0.000017600\n",
       "3 0.023575040             4.38e-06     4.18e-06    4.32e-06         0.000005290\n",
       "4 0.011497580             1.53e-05     2.02e-05    9.12e-06         0.000048900\n",
       "5 0.022972576             7.65e-06     1.93e-05    2.21e-06         0.000407147\n",
       "6 0.002670228             3.29e-06     4.82e-06    2.08e-06         0.002681353\n",
       "  Kidney.epithelial.cell Thymocyte  \n",
       "1 1.53e-05               0.021315977\n",
       "2 1.15e-05               0.000160293\n",
       "3 3.43e-06               0.000024300\n",
       "4 1.46e-05               0.000080100\n",
       "5 4.43e-06               0.004639198\n",
       "6 2.62e-06               0.000046400"
      ]
     },
     "metadata": {},
     "output_type": "display_data"
    },
    {
     "data": {
      "text/html": [
       "<table class=\"dataframe\">\n",
       "<caption>A data.frame: 6 × 3</caption>\n",
       "<thead>\n",
       "\t<tr><th></th><th scope=col>siteid</th><th scope=col>wbc</th><th scope=col>wbc_date</th></tr>\n",
       "\t<tr><th></th><th scope=col>&lt;chr&gt;</th><th scope=col>&lt;dbl&gt;</th><th scope=col>&lt;chr&gt;</th></tr>\n",
       "</thead>\n",
       "<tbody>\n",
       "\t<tr><th scope=row>1</th><td>UCSF0114</td><td>28.7</td><td>2021-09-11</td></tr>\n",
       "\t<tr><th scope=row>2</th><td>UCSF0039</td><td> 8.7</td><td>          </td></tr>\n",
       "\t<tr><th scope=row>3</th><td>UCSF0015</td><td> 5.0</td><td>          </td></tr>\n",
       "\t<tr><th scope=row>4</th><td>UCSF0066</td><td> 8.8</td><td>          </td></tr>\n",
       "\t<tr><th scope=row>5</th><td>UCSF0153</td><td> 6.5</td><td>          </td></tr>\n",
       "\t<tr><th scope=row>6</th><td>UCSF0156</td><td> 5.1</td><td>          </td></tr>\n",
       "</tbody>\n",
       "</table>\n"
      ],
      "text/latex": [
       "A data.frame: 6 × 3\n",
       "\\begin{tabular}{r|lll}\n",
       "  & siteid & wbc & wbc\\_date\\\\\n",
       "  & <chr> & <dbl> & <chr>\\\\\n",
       "\\hline\n",
       "\t1 & UCSF0114 & 28.7 & 2021-09-11\\\\\n",
       "\t2 & UCSF0039 &  8.7 &           \\\\\n",
       "\t3 & UCSF0015 &  5.0 &           \\\\\n",
       "\t4 & UCSF0066 &  8.8 &           \\\\\n",
       "\t5 & UCSF0153 &  6.5 &           \\\\\n",
       "\t6 & UCSF0156 &  5.1 &           \\\\\n",
       "\\end{tabular}\n"
      ],
      "text/markdown": [
       "\n",
       "A data.frame: 6 × 3\n",
       "\n",
       "| <!--/--> | siteid &lt;chr&gt; | wbc &lt;dbl&gt; | wbc_date &lt;chr&gt; |\n",
       "|---|---|---|---|\n",
       "| 1 | UCSF0114 | 28.7 | 2021-09-11 |\n",
       "| 2 | UCSF0039 |  8.7 | <!----> |\n",
       "| 3 | UCSF0015 |  5.0 | <!----> |\n",
       "| 4 | UCSF0066 |  8.8 | <!----> |\n",
       "| 5 | UCSF0153 |  6.5 | <!----> |\n",
       "| 6 | UCSF0156 |  5.1 | <!----> |\n",
       "\n"
      ],
      "text/plain": [
       "  siteid   wbc  wbc_date  \n",
       "1 UCSF0114 28.7 2021-09-11\n",
       "2 UCSF0039  8.7           \n",
       "3 UCSF0015  5.0           \n",
       "4 UCSF0066  8.8           \n",
       "5 UCSF0153  6.5           \n",
       "6 UCSF0156  5.1           "
      ]
     },
     "metadata": {},
     "output_type": "display_data"
    }
   ],
   "source": [
    "### read in data\n",
    "mdf_raw = read.csv(\"../../revisions/PreVAILCDEs-PlasmaProteinMarkers_DATA_2022-10-17_0827.csv\")\n",
    "\n",
    "### manual fixing\n",
    "mdf_raw <- mdf_raw %>% \n",
    "    filter(!(study_id %in% c(160,161) & redcap_repeat_instance ==2)) %>%\n",
    "    mutate(siteid = toupper(siteid))\n",
    "\n",
    "\n",
    "### Split and combine\n",
    "not_all_na <- function(x) any(!is.na(x))\n",
    "\n",
    "mdf1 <- mdf_raw %>% filter(redcap_repeat_instrument == \"\") %>% \n",
    "                    select(!c(redcap_repeat_instrument, redcap_repeat_instance))%>%\n",
    "                    select(study_id,siteid)\n",
    "#                     select_if(~ !any(is.na(.)))  #%>% colnames()\n",
    "\n",
    "mdf2 <- mdf_raw %>% filter(redcap_repeat_instrument == \"labs_and_microbiology\") %>% \n",
    "                    select(!c(redcap_repeat_instrument, redcap_repeat_instance))%>%\n",
    "                    select(!siteid)\n",
    "#                     select_if(~ !any(is.na(.)))  #%>% colnames()\n",
    "\n",
    "\n",
    "### combine (dont need mdf3)\n",
    "labdata <- merge(mdf1, mdf2, by = \"study_id\") %>% rename(ldh_date = ldhdate,\n",
    "                     ferritin_date = ferr_date,\n",
    "                     alb_date = albumin_date) %>%\n",
    "            select(siteid, wbc, wbc_date)\n",
    "\n",
    "# labdata %>% head()\n",
    "\n",
    "\n",
    "################################\n",
    "## read in wbrna key\n",
    "wbrna_key <- read.csv(\"../1_sample-data/STable7_wbrna-samples.csv\") \n",
    "\n",
    "# wbrna_key2 <- read.csv(\"../../marker_genes/meta_data/data/UCSF_PREVAIL_METADATA_EXP4.csv\") %>%\n",
    "#                 rename(wbrna_id = PV.,\n",
    "#                        wbrna_date_collection = Date,\n",
    "#                        PTID = Patient.ID) %>%\n",
    "#                 mutate(PTID = toupper(PTID),\n",
    "#                       wbrna_date_collection = as.Date(wbrna_date_collection, format = \"%m/%d/%y\")) %>%\n",
    "#                 select(PTID,wbrna_date_collection,wbrna_id)\n",
    "\n",
    "# wbrna_key <- rbind(wbrna_key, wbrna_key2) \n",
    "\n",
    "wbrna_key %>% head()\n",
    "\n",
    "\n",
    "################################\n",
    "## read in wbrna key\n",
    "# labdata  <- merge(labdata, wbrna_key, by = \"wbrna_sample_id\", all.y= TRUE) #%>%\n",
    "#         filter(!is.na(wbc)) %>%\n",
    "#         filter(wbrna_id %in% colnames(data_raw)) #%>% \n",
    "#         arrange(siteid,wbrna_date_collection) %>% #%>%select(wbrna_id,wbc)\n",
    "\n",
    "# labdata <- labdata[!duplicated(labdata$siteid),] \n",
    "labdata %>% head()\n",
    "\n"
   ]
  },
  {
   "cell_type": "markdown",
   "id": "8e70edb0-8ee5-43ba-b8fa-291bc201b94b",
   "metadata": {
    "tags": []
   },
   "source": [
    "---\n",
    "## COVID19 vs Controls"
   ]
  },
  {
   "cell_type": "code",
   "execution_count": 27,
   "id": "b53189a6-3b82-4819-9dd3-853b354d3185",
   "metadata": {},
   "outputs": [
    {
     "name": "stdout",
     "output_type": "stream",
     "text": [
      "DEGs w/o CTO: 699\n",
      "DEGs w/ CTO: 104"
     ]
    }
   ],
   "source": [
    "##-------------------------\n",
    "# Read in data\n",
    "data_raw= read.table(\"..//1_sample-data/2covid_ctrls_counts.txt\", header = TRUE, row.names=1,check.names=FALSE)\n",
    "\n",
    "##-------------------------\n",
    "# Make coldata\n",
    "groups <- factor(c(rep(\"COV\",37), rep(\"C\",26)))\n",
    "\n",
    "coldata <- data.frame(row.names=colnames(data_raw), groups)\n",
    "# coldata <- merge(coldata,decon, by.x = 0, by.y = \"SEQ_ID..UCSFonly.\")\n",
    "\n",
    "coldata <- merge(coldata,labdata[,c(\"wbrna_sample_id\",\"wbc\")], by.x = 0, by.y = \"wbrna_sample_id\", all.x = TRUE)\n",
    "coldata[is.na(coldata$wbc),\"wbc\"] <- 7500\n",
    "\n",
    "rownames(coldata) <- coldata$Row.names\n",
    "coldata <- coldata[colnames(data_raw),]\n",
    "\n",
    "\n",
    "##-------------------------\n",
    "# Run DESeq2\n",
    "cat(\"DEGs w/o CTO: \")\n",
    "res <- suppressMessages(run_deseq(data_raw, coldata, \"COV\",\"C\", FALSE))\n",
    "\n",
    "cat(\"\\n\")\n",
    "\n",
    "cat(\"DEGs w/ CTO: \")\n",
    "res_cto <- suppressMessages(run_deseq(data_raw, coldata,\"COV\",\"C\", TRUE, CELLTYPE_labs))"
   ]
  },
  {
   "cell_type": "code",
   "execution_count": 23,
   "id": "5b6bf8fa-f525-48bf-b9c0-5872fa9f5794",
   "metadata": {},
   "outputs": [],
   "source": [
    "prefix = \"covid_controls_labs\"\n",
    "\n",
    "write.table(res, paste0(\"./dea_outputs/\",prefix,\".txt\"), sep = \"\\t\", quote=FALSE)\n",
    "write.table(res_cto, paste0(\"./dea_outputs/\",prefix,\"_cto.txt\"), sep = \"\\t\", quote=FALSE)"
   ]
  },
  {
   "cell_type": "markdown",
   "id": "d8e67209-f87c-41e0-b432-d81404eb0644",
   "metadata": {
    "tags": []
   },
   "source": [
    "---\n",
    "## MISC vs Controls"
   ]
  },
  {
   "cell_type": "code",
   "execution_count": 25,
   "id": "ae26b7dc-cfc8-41f5-bca5-d9b4535aae66",
   "metadata": {},
   "outputs": [
    {
     "name": "stdout",
     "output_type": "stream",
     "text": [
      "DEGs w/o CTO: 1051\n",
      "DEGs w/ CTO: 889"
     ]
    }
   ],
   "source": [
    "##-------------------------\n",
    "# Read in data\n",
    "data_raw = read.table(\"../../1_sample-output/2misc_ctrls_counts.txt\", header = TRUE, row.names=1,check.names=FALSE)\n",
    "\n",
    "##-------------------------\n",
    "# Make coldata\n",
    "groups <- factor(c(rep(\"M\",72 ), rep(\"C\",26)))\n",
    "\n",
    "coldata <- data.frame(row.names=colnames(data_raw), groups)\n",
    "\n",
    "coldata <- merge(coldata,labdata[,c(\"wbrna_sample_id\",\"wbc\")], by.x = 0, by.y = \"wbrna_sample_id\", all.x = TRUE)\n",
    "coldata[is.na(coldata$wbc),\"wbc\"] <- 7500\n",
    "\n",
    "rownames(coldata) <- coldata$Row.names\n",
    "coldata <- coldata[colnames(data_raw),]\n",
    "\n",
    "##-------------------------\n",
    "# Run DESeq2\n",
    "cat(\"DEGs w/o CTO: \")\n",
    "res2 <- suppressMessages(run_deseq(data_raw, coldata, \"M\",\"C\", FALSE))\n",
    "\n",
    "cat(\"\\n\")\n",
    "\n",
    "cat(\"DEGs w/ CTO: \")\n",
    "res_cto2 <- suppressMessages(run_deseq(data_raw, coldata,\"M\",\"C\", TRUE, CELLTYPE_labs))"
   ]
  },
  {
   "cell_type": "code",
   "execution_count": 26,
   "id": "1ee0ff72-c8b3-4652-8f40-a58222c0a5e7",
   "metadata": {},
   "outputs": [],
   "source": [
    "prefix = \"misc_controls_labs\"\n",
    "\n",
    "write.table(res2, paste0(\"./dea_outputs/\",prefix,\".txt\"), sep = \"\\t\", quote=FALSE)\n",
    "write.table(res_cto2, paste0(\"./dea_outputs/\",prefix,\"_cto.txt\"), sep = \"\\t\", quote=FALSE)"
   ]
  },
  {
   "cell_type": "markdown",
   "id": "f3dbc19f-1bdc-4b09-9eb7-191b5f96ef45",
   "metadata": {
    "tags": []
   },
   "source": [
    "---\n",
    "## MISC vs COVID19"
   ]
  },
  {
   "cell_type": "code",
   "execution_count": 28,
   "id": "694e6764-20f4-4ff8-bff2-c293b146cf8d",
   "metadata": {},
   "outputs": [
    {
     "name": "stdout",
     "output_type": "stream",
     "text": [
      "DEGs w/o CTO: 75\n",
      "DEGs w/ CTO: 70"
     ]
    }
   ],
   "source": [
    "##-------------------------\n",
    "# Read in data\n",
    "data_raw = read.table(\"../../1_sample-output/2misc_covid_counts.txt\", header = TRUE, row.names=1,check.names=FALSE)\n",
    "\n",
    "##-------------------------\n",
    "# Make coldata\n",
    "groups <- factor(c(rep(\"M\",72 ), rep(\"COV\",37)))\n",
    "\n",
    "coldata <- data.frame(row.names=colnames(data_raw), groups)\n",
    "# coldata <- merge(coldata,decon, by.x = 0, by.y = \"SEQ_ID..UCSFonly.\")\n",
    "\n",
    "coldata <- merge(coldata,labdata[,c(\"wbrna_sample_id\",\"wbc\")], by.x = 0, by.y = \"wbrna_sample_id\", all.x = TRUE)\n",
    "coldata[is.na(coldata$wbc),\"wbc\"] <- 7500\n",
    "\n",
    "rownames(coldata) <- coldata$Row.names\n",
    "coldata <- coldata[colnames(data_raw),]\n",
    "\n",
    "##-------------------------\n",
    "# Run DESeq2\n",
    "\n",
    "cat(\"DEGs w/o CTO: \")\n",
    "res3 <- suppressMessages(run_deseq(data_raw, coldata, \"M\",\"COV\", FALSE))\n",
    "\n",
    "cat(\"\\n\")\n",
    "\n",
    "cat(\"DEGs w/ CTO: \")\n",
    "res_cto3 <- suppressMessages(run_deseq(data_raw, coldata,\"M\",\"COV\", TRUE, CELLTYPE_labs))"
   ]
  },
  {
   "cell_type": "code",
   "execution_count": 29,
   "id": "c194cfea-fd36-485c-8629-cd3fc8012f70",
   "metadata": {},
   "outputs": [],
   "source": [
    "prefix = \"misc_covid_labs\"\n",
    "\n",
    "write.table(res3, paste0(\"./dea_outputs/\",prefix,\".txt\"), sep = \"\\t\", quote=FALSE)\n",
    "write.table(res_cto3, paste0(\"./dea_outputs/\",prefix,\"_cto.txt\"), sep = \"\\t\", quote=FALSE)\n",
    "\n"
   ]
  },
  {
   "cell_type": "markdown",
   "id": "93be4cf7-8ccb-4c1d-9faa-1c326068864e",
   "metadata": {},
   "source": [
    "---\n",
    "## Pheatmaps"
   ]
  },
  {
   "cell_type": "code",
   "execution_count": 34,
   "id": "954b281c-0a88-40f8-a72f-56da60cc7ef2",
   "metadata": {},
   "outputs": [],
   "source": [
    "covid_control_labs <- read.delim(\"./dea_outputs/covid_controls_labs_cto.txt\")\n",
    "misc_control_labs <- read.delim(\"./dea_outputs/misc_controls_labs_cto.txt\")\n",
    "misc_covid_labs <- read.delim(\"./dea_outputs/misc_covid_labs_cto.txt\")\n",
    "\n",
    "### Read in metadata\n",
    "meta_data_all <- read.csv(\"../1_sample-data/STable7_wbrna-samples.csv\")"
   ]
  },
  {
   "cell_type": "code",
   "execution_count": 40,
   "id": "ae586d23-1605-4def-9d63-9440ae9137d7",
   "metadata": {},
   "outputs": [
    {
     "data": {
      "text/html": [
       "<table class=\"dataframe\">\n",
       "<caption>A data.frame: 6 × 6</caption>\n",
       "<thead>\n",
       "\t<tr><th></th><th scope=col>baseMean</th><th scope=col>log2FoldChange</th><th scope=col>lfcSE</th><th scope=col>stat</th><th scope=col>pvalue</th><th scope=col>padj</th></tr>\n",
       "\t<tr><th></th><th scope=col>&lt;dbl&gt;</th><th scope=col>&lt;dbl&gt;</th><th scope=col>&lt;dbl&gt;</th><th scope=col>&lt;dbl&gt;</th><th scope=col>&lt;dbl&gt;</th><th scope=col>&lt;dbl&gt;</th></tr>\n",
       "</thead>\n",
       "<tbody>\n",
       "\t<tr><th scope=row>ENSG00000000419.14_DPM1</th><td>  71.876681</td><td> 0.4701054</td><td>0.1287523</td><td> 3.651238</td><td>2.609789e-04</td><td>1.514982e-03</td></tr>\n",
       "\t<tr><th scope=row>ENSG00000000457.14_SCYL3</th><td>  41.084756</td><td>-1.1533634</td><td>0.1944868</td><td>-5.930290</td><td>3.023994e-09</td><td>9.165429e-08</td></tr>\n",
       "\t<tr><th scope=row>ENSG00000000460.17_C1orf112</th><td>  26.077841</td><td>-0.5507325</td><td>0.2248101</td><td>-2.449768</td><td>1.429483e-02</td><td>4.233489e-02</td></tr>\n",
       "\t<tr><th scope=row>ENSG00000000938.13_FGR</th><td>1225.451619</td><td> 0.9053390</td><td>0.1732586</td><td> 5.225362</td><td>1.738148e-07</td><td>2.926129e-06</td></tr>\n",
       "\t<tr><th scope=row>ENSG00000000971.16_CFH</th><td>   4.483282</td><td>-1.1707960</td><td>0.4665776</td><td>-2.509328</td><td>1.209613e-02</td><td>3.713257e-02</td></tr>\n",
       "\t<tr><th scope=row>ENSG00000001036.14_FUCA2</th><td>  32.997927</td><td>-0.3599068</td><td>0.1667064</td><td>-2.158927</td><td>3.085585e-02</td><td>7.947232e-02</td></tr>\n",
       "</tbody>\n",
       "</table>\n"
      ],
      "text/latex": [
       "A data.frame: 6 × 6\n",
       "\\begin{tabular}{r|llllll}\n",
       "  & baseMean & log2FoldChange & lfcSE & stat & pvalue & padj\\\\\n",
       "  & <dbl> & <dbl> & <dbl> & <dbl> & <dbl> & <dbl>\\\\\n",
       "\\hline\n",
       "\tENSG00000000419.14\\_DPM1 &   71.876681 &  0.4701054 & 0.1287523 &  3.651238 & 2.609789e-04 & 1.514982e-03\\\\\n",
       "\tENSG00000000457.14\\_SCYL3 &   41.084756 & -1.1533634 & 0.1944868 & -5.930290 & 3.023994e-09 & 9.165429e-08\\\\\n",
       "\tENSG00000000460.17\\_C1orf112 &   26.077841 & -0.5507325 & 0.2248101 & -2.449768 & 1.429483e-02 & 4.233489e-02\\\\\n",
       "\tENSG00000000938.13\\_FGR & 1225.451619 &  0.9053390 & 0.1732586 &  5.225362 & 1.738148e-07 & 2.926129e-06\\\\\n",
       "\tENSG00000000971.16\\_CFH &    4.483282 & -1.1707960 & 0.4665776 & -2.509328 & 1.209613e-02 & 3.713257e-02\\\\\n",
       "\tENSG00000001036.14\\_FUCA2 &   32.997927 & -0.3599068 & 0.1667064 & -2.158927 & 3.085585e-02 & 7.947232e-02\\\\\n",
       "\\end{tabular}\n"
      ],
      "text/markdown": [
       "\n",
       "A data.frame: 6 × 6\n",
       "\n",
       "| <!--/--> | baseMean &lt;dbl&gt; | log2FoldChange &lt;dbl&gt; | lfcSE &lt;dbl&gt; | stat &lt;dbl&gt; | pvalue &lt;dbl&gt; | padj &lt;dbl&gt; |\n",
       "|---|---|---|---|---|---|---|\n",
       "| ENSG00000000419.14_DPM1 |   71.876681 |  0.4701054 | 0.1287523 |  3.651238 | 2.609789e-04 | 1.514982e-03 |\n",
       "| ENSG00000000457.14_SCYL3 |   41.084756 | -1.1533634 | 0.1944868 | -5.930290 | 3.023994e-09 | 9.165429e-08 |\n",
       "| ENSG00000000460.17_C1orf112 |   26.077841 | -0.5507325 | 0.2248101 | -2.449768 | 1.429483e-02 | 4.233489e-02 |\n",
       "| ENSG00000000938.13_FGR | 1225.451619 |  0.9053390 | 0.1732586 |  5.225362 | 1.738148e-07 | 2.926129e-06 |\n",
       "| ENSG00000000971.16_CFH |    4.483282 | -1.1707960 | 0.4665776 | -2.509328 | 1.209613e-02 | 3.713257e-02 |\n",
       "| ENSG00000001036.14_FUCA2 |   32.997927 | -0.3599068 | 0.1667064 | -2.158927 | 3.085585e-02 | 7.947232e-02 |\n",
       "\n"
      ],
      "text/plain": [
       "                            baseMean    log2FoldChange lfcSE     stat     \n",
       "ENSG00000000419.14_DPM1       71.876681  0.4701054     0.1287523  3.651238\n",
       "ENSG00000000457.14_SCYL3      41.084756 -1.1533634     0.1944868 -5.930290\n",
       "ENSG00000000460.17_C1orf112   26.077841 -0.5507325     0.2248101 -2.449768\n",
       "ENSG00000000938.13_FGR      1225.451619  0.9053390     0.1732586  5.225362\n",
       "ENSG00000000971.16_CFH         4.483282 -1.1707960     0.4665776 -2.509328\n",
       "ENSG00000001036.14_FUCA2      32.997927 -0.3599068     0.1667064 -2.158927\n",
       "                            pvalue       padj        \n",
       "ENSG00000000419.14_DPM1     2.609789e-04 1.514982e-03\n",
       "ENSG00000000457.14_SCYL3    3.023994e-09 9.165429e-08\n",
       "ENSG00000000460.17_C1orf112 1.429483e-02 4.233489e-02\n",
       "ENSG00000000938.13_FGR      1.738148e-07 2.926129e-06\n",
       "ENSG00000000971.16_CFH      1.209613e-02 3.713257e-02\n",
       "ENSG00000001036.14_FUCA2    3.085585e-02 7.947232e-02"
      ]
     },
     "metadata": {},
     "output_type": "display_data"
    }
   ],
   "source": [
    "misc_control_labs %>% head()"
   ]
  },
  {
   "cell_type": "code",
   "execution_count": 41,
   "id": "f8b67b94-5ba9-49e3-99ba-99d3b54e2f41",
   "metadata": {},
   "outputs": [],
   "source": [
    "create_heatmap <- function(res,groups,cpm,meta_data) {\n",
    "    \n",
    "    ANNOTATIONS = c(\"Diagnosis\",\"severity\",'group','ivig_rel_samp')\n",
    "\n",
    "    \n",
    "    ###----------------------------------\n",
    "    ## Extract significant genes\n",
    "    sig_genes <- data.frame(res) %>% filter(padj < SIG_THRESH & abs(log2FoldChange) > FC_THRESH) %>% rownames()\n",
    "\n",
    "    ###----------------------------------\n",
    "    ## Subset metadata \n",
    "    metadata <- meta_data %>% \n",
    "        filter((Diagnosis %in% all_of(groups)) & (timepoint %in% c(\"Not-hospitalized\",\"acute\"))) %>% \n",
    "        column_to_rownames(var = \"wbrna_sample_id\") %>%  \n",
    "        mutate(severity = ifelse(grepl(\"ontrol\",severity),NA,severity)) %>%\n",
    "        select(all_of(ANNOTATIONS))\n",
    "\n",
    "    colnames(metadata) <- c(\"Diagnosis\",\"Severity\",\"group\",\"IVIG\")\n",
    "\n",
    "    ###----------------------------------\n",
    "    ## Subset count matrix\n",
    "    mat <- data.frame(cpm) %>% \n",
    "            filter(row.names(cpm) %in% all_of(sig_genes)) %>% \n",
    "            select(all_of(rownames(metadata))) %>% \n",
    "            as.matrix()\n",
    "\n",
    "    mat <- t(scale(t(mat)))\n",
    "\n",
    "    ###----------------------------------\n",
    "    ## Colors\n",
    "    color = colorRampPalette(c(\"blue\",\"yellow\"))(50)\n",
    "    breaksList = seq(-2, +2, length = 51)\n",
    "\n",
    "    #color_groups = c('COVID-19\\ndiscovery' = '#c1272d', 'MIS-C\\ndiscovery' = '#0000a7', 'Control_Non-inflammatory\\ndiscovery' = '#eecc16',\"MIS-C\\nvalidation\" = '#008176')\n",
    "    \n",
    "    my_colour <- list(\n",
    "    Diagnosis = c('COVID-19' = '#F0484E', 'MIS-C' = '#5CB2EB', 'Control_Non-inflammatory' = '#FBE77C'), #\"MISC_acute_validation\" = '#00FFFF'),\n",
    "    Severity = c(\"-1\" = \"white\", \"0\" = \"white\", \"2\" = \"#efe5d7\", \"3\" = \"#bc8e52\"),\n",
    "    group = c(\"validation\" = \"orange\", \"discovery\" = \"light blue\", \"UCSF\" = \"light blue\"),\n",
    "    IVIG = c(\"after\" = \"maroon\", \"before\" = \"darkseagreen2\", \"concurrent with\" = \"dark blue\",\"noivig\"=\"white\")#, \"forest green\"\n",
    "    # PCR = c(\"1\" = \"green\", \"2\" = \"blue\"),\n",
    "    # Antibody =c(\"1\" = \"green\", \"2\" = \"blue\")\n",
    "    )\n",
    "\n",
    "    ###----------------------------------\n",
    "    ## Plot\n",
    "\n",
    "    # pdf(\"./tmp.pdf\")\n",
    "    heatmap_plt <- pheatmap(mat,\n",
    "\n",
    "             # Colors\n",
    "             col=color,\n",
    "             breaks=breaksList, \n",
    "             annotation_col=metadata,\n",
    "             annotation_colors=my_colour,\n",
    "             na_col = \"#FFFFFF\",\n",
    "\n",
    "             # Fonts\n",
    "             show_colnames=F,\n",
    "             show_rownames=F,\n",
    "             fontsize=12,\n",
    "             fontsize_col=3,\n",
    "             annotation_names_col=F,\n",
    "             annotation_names_row=F,\n",
    "\n",
    "             # Clustering\n",
    "\n",
    "             clustering_distance_cols=\"correlation\",\n",
    "             clustering_distance_rows=\"correlation\", \n",
    "    #          clustering_distance_cols=\"euclidean\",\n",
    "    #          clustering_distance_rows=\"euclidean\",\n",
    "    #          cluster_cols=hc,\n",
    "    #          cluster_rows=hr,\n",
    "    #          clustering_distance_rows=\"euclidean\",\n",
    "    #          clustering_method=\"complete\",\n",
    "             treeheight_row=0,\n",
    "            treeheight_col= 15,\n",
    "\n",
    "             # Misc.\n",
    "             border_color=NA,\n",
    "            legend=FALSE,\n",
    "            annotation_legend=FALSE\n",
    "            ) \n",
    "    # dev.off()\n",
    "\n",
    "\n",
    "\n",
    "\n",
    "    return(heatmap_plt)\n",
    "\n",
    "        }"
   ]
  },
  {
   "cell_type": "code",
   "execution_count": 37,
   "id": "0a95d148-489a-4ce8-8ffe-89b36d55f26e",
   "metadata": {},
   "outputs": [
    {
     "data": {
      "text/html": [
       "60708"
      ],
      "text/latex": [
       "60708"
      ],
      "text/markdown": [
       "60708"
      ],
      "text/plain": [
       "[1] 60708"
      ]
     },
     "metadata": {},
     "output_type": "display_data"
    },
    {
     "data": {
      "text/html": [
       "19026"
      ],
      "text/latex": [
       "19026"
      ],
      "text/markdown": [
       "19026"
      ],
      "text/plain": [
       "[1] 19026"
      ]
     },
     "metadata": {},
     "output_type": "display_data"
    },
    {
     "data": {
      "text/html": [
       "<table class=\"dataframe\">\n",
       "<caption>A matrix: 6 × 345 of type dbl</caption>\n",
       "<thead>\n",
       "\t<tr><th></th><th scope=col>PV156</th><th scope=col>PV157</th><th scope=col>PV158</th><th scope=col>PV159</th><th scope=col>PV160</th><th scope=col>PV162</th><th scope=col>PV163</th><th scope=col>PV164</th><th scope=col>PV166</th><th scope=col>PV167</th><th scope=col>⋯</th><th scope=col>PV90</th><th scope=col>PV91</th><th scope=col>PV92</th><th scope=col>PV93</th><th scope=col>PV94</th><th scope=col>PV95</th><th scope=col>PV96</th><th scope=col>PV97</th><th scope=col>PV98</th><th scope=col>PV99</th></tr>\n",
       "</thead>\n",
       "<tbody>\n",
       "\t<tr><th scope=row>ENSG00000000419.14_DPM1</th><td>139.53659</td><td> 14.04847</td><td> 18.680008</td><td> 24.090639</td><td> 35.094615</td><td> 26.055207</td><td> 34.22971</td><td> 19.40313</td><td> 16.207618</td><td> 26.2747933</td><td>⋯</td><td>  45.47797</td><td> 50.562705</td><td> 37.357891</td><td> 64.81301</td><td> 52.071769</td><td> 46.323305</td><td> 28.211549</td><td> 39.3073364</td><td> 31.462680</td><td> 40.762215</td></tr>\n",
       "\t<tr><th scope=row>ENSG00000000457.14_SCYL3</th><td>146.88062</td><td> 37.82279</td><td> 45.143353</td><td> 14.454383</td><td> 52.641923</td><td> 34.740276</td><td> 36.86277</td><td> 16.02867</td><td> 20.066575</td><td> 21.9752816</td><td>⋯</td><td>   0.00000</td><td> 18.669306</td><td>  8.965894</td><td> 21.60434</td><td>  8.842376</td><td> 21.714049</td><td> 18.807699</td><td> 16.2356389</td><td> 31.462680</td><td>  7.764231</td></tr>\n",
       "\t<tr><th scope=row>ENSG00000000460.17_C1orf112</th><td>  0.00000</td><td> 12.96781</td><td> 20.236676</td><td> 12.045319</td><td> 21.056769</td><td> 23.739189</td><td> 50.02804</td><td> 16.02867</td><td> 18.522992</td><td> 18.1534935</td><td>⋯</td><td>  45.47797</td><td>  6.223102</td><td>  4.731999</td><td>  0.00000</td><td> 10.807348</td><td>  5.790413</td><td> 10.747257</td><td>  8.5450731</td><td>  2.458022</td><td> 38.821157</td></tr>\n",
       "\t<tr><th scope=row>ENSG00000000938.13_FGR</th><td>198.28884</td><td>248.54977</td><td>236.613439</td><td>521.562326</td><td>268.724481</td><td>236.812881</td><td>139.55191</td><td>343.35097</td><td>334.957440</td><td>470.0799375</td><td>⋯</td><td>1394.65785</td><td>727.714002</td><td>529.983941</td><td>432.08676</td><td>613.071389</td><td>256.708314</td><td>377.497394</td><td>493.9052266</td><td>904.552060</td><td>277.571271</td></tr>\n",
       "\t<tr><th scope=row>ENSG00000000971.16_CFH</th><td>  0.00000</td><td>  0.00000</td><td>  9.340004</td><td>  0.000000</td><td>  1.002703</td><td>  4.053032</td><td>  0.00000</td><td>  0.00000</td><td>  5.402539</td><td>  0.4777235</td><td>⋯</td><td>   0.00000</td><td>  1.944719</td><td>  1.245263</td><td>  0.00000</td><td>  0.000000</td><td>  3.860275</td><td>  5.373628</td><td>  0.8545073</td><td>  2.458022</td><td>  1.941058</td></tr>\n",
       "\t<tr><th scope=row>ENSG00000001036.14_FUCA2</th><td> 14.68806</td><td> 35.66149</td><td> 24.906678</td><td>  3.613596</td><td> 14.037846</td><td> 17.949143</td><td> 52.66110</td><td> 10.96698</td><td> 21.610157</td><td> 22.4530051</td><td>⋯</td><td>   0.00000</td><td> 19.058250</td><td> 19.426103</td><td> 21.60434</td><td> 15.719779</td><td> 10.615757</td><td> 17.464292</td><td> 18.7991609</td><td> 28.021450</td><td> 17.469521</td></tr>\n",
       "</tbody>\n",
       "</table>\n"
      ],
      "text/latex": [
       "A matrix: 6 × 345 of type dbl\n",
       "\\begin{tabular}{r|lllllllllllllllllllll}\n",
       "  & PV156 & PV157 & PV158 & PV159 & PV160 & PV162 & PV163 & PV164 & PV166 & PV167 & ⋯ & PV90 & PV91 & PV92 & PV93 & PV94 & PV95 & PV96 & PV97 & PV98 & PV99\\\\\n",
       "\\hline\n",
       "\tENSG00000000419.14\\_DPM1 & 139.53659 &  14.04847 &  18.680008 &  24.090639 &  35.094615 &  26.055207 &  34.22971 &  19.40313 &  16.207618 &  26.2747933 & ⋯ &   45.47797 &  50.562705 &  37.357891 &  64.81301 &  52.071769 &  46.323305 &  28.211549 &  39.3073364 &  31.462680 &  40.762215\\\\\n",
       "\tENSG00000000457.14\\_SCYL3 & 146.88062 &  37.82279 &  45.143353 &  14.454383 &  52.641923 &  34.740276 &  36.86277 &  16.02867 &  20.066575 &  21.9752816 & ⋯ &    0.00000 &  18.669306 &   8.965894 &  21.60434 &   8.842376 &  21.714049 &  18.807699 &  16.2356389 &  31.462680 &   7.764231\\\\\n",
       "\tENSG00000000460.17\\_C1orf112 &   0.00000 &  12.96781 &  20.236676 &  12.045319 &  21.056769 &  23.739189 &  50.02804 &  16.02867 &  18.522992 &  18.1534935 & ⋯ &   45.47797 &   6.223102 &   4.731999 &   0.00000 &  10.807348 &   5.790413 &  10.747257 &   8.5450731 &   2.458022 &  38.821157\\\\\n",
       "\tENSG00000000938.13\\_FGR & 198.28884 & 248.54977 & 236.613439 & 521.562326 & 268.724481 & 236.812881 & 139.55191 & 343.35097 & 334.957440 & 470.0799375 & ⋯ & 1394.65785 & 727.714002 & 529.983941 & 432.08676 & 613.071389 & 256.708314 & 377.497394 & 493.9052266 & 904.552060 & 277.571271\\\\\n",
       "\tENSG00000000971.16\\_CFH &   0.00000 &   0.00000 &   9.340004 &   0.000000 &   1.002703 &   4.053032 &   0.00000 &   0.00000 &   5.402539 &   0.4777235 & ⋯ &    0.00000 &   1.944719 &   1.245263 &   0.00000 &   0.000000 &   3.860275 &   5.373628 &   0.8545073 &   2.458022 &   1.941058\\\\\n",
       "\tENSG00000001036.14\\_FUCA2 &  14.68806 &  35.66149 &  24.906678 &   3.613596 &  14.037846 &  17.949143 &  52.66110 &  10.96698 &  21.610157 &  22.4530051 & ⋯ &    0.00000 &  19.058250 &  19.426103 &  21.60434 &  15.719779 &  10.615757 &  17.464292 &  18.7991609 &  28.021450 &  17.469521\\\\\n",
       "\\end{tabular}\n"
      ],
      "text/markdown": [
       "\n",
       "A matrix: 6 × 345 of type dbl\n",
       "\n",
       "| <!--/--> | PV156 | PV157 | PV158 | PV159 | PV160 | PV162 | PV163 | PV164 | PV166 | PV167 | ⋯ | PV90 | PV91 | PV92 | PV93 | PV94 | PV95 | PV96 | PV97 | PV98 | PV99 |\n",
       "|---|---|---|---|---|---|---|---|---|---|---|---|---|---|---|---|---|---|---|---|---|---|\n",
       "| ENSG00000000419.14_DPM1 | 139.53659 |  14.04847 |  18.680008 |  24.090639 |  35.094615 |  26.055207 |  34.22971 |  19.40313 |  16.207618 |  26.2747933 | ⋯ |   45.47797 |  50.562705 |  37.357891 |  64.81301 |  52.071769 |  46.323305 |  28.211549 |  39.3073364 |  31.462680 |  40.762215 |\n",
       "| ENSG00000000457.14_SCYL3 | 146.88062 |  37.82279 |  45.143353 |  14.454383 |  52.641923 |  34.740276 |  36.86277 |  16.02867 |  20.066575 |  21.9752816 | ⋯ |    0.00000 |  18.669306 |   8.965894 |  21.60434 |   8.842376 |  21.714049 |  18.807699 |  16.2356389 |  31.462680 |   7.764231 |\n",
       "| ENSG00000000460.17_C1orf112 |   0.00000 |  12.96781 |  20.236676 |  12.045319 |  21.056769 |  23.739189 |  50.02804 |  16.02867 |  18.522992 |  18.1534935 | ⋯ |   45.47797 |   6.223102 |   4.731999 |   0.00000 |  10.807348 |   5.790413 |  10.747257 |   8.5450731 |   2.458022 |  38.821157 |\n",
       "| ENSG00000000938.13_FGR | 198.28884 | 248.54977 | 236.613439 | 521.562326 | 268.724481 | 236.812881 | 139.55191 | 343.35097 | 334.957440 | 470.0799375 | ⋯ | 1394.65785 | 727.714002 | 529.983941 | 432.08676 | 613.071389 | 256.708314 | 377.497394 | 493.9052266 | 904.552060 | 277.571271 |\n",
       "| ENSG00000000971.16_CFH |   0.00000 |   0.00000 |   9.340004 |   0.000000 |   1.002703 |   4.053032 |   0.00000 |   0.00000 |   5.402539 |   0.4777235 | ⋯ |    0.00000 |   1.944719 |   1.245263 |   0.00000 |   0.000000 |   3.860275 |   5.373628 |   0.8545073 |   2.458022 |   1.941058 |\n",
       "| ENSG00000001036.14_FUCA2 |  14.68806 |  35.66149 |  24.906678 |   3.613596 |  14.037846 |  17.949143 |  52.66110 |  10.96698 |  21.610157 |  22.4530051 | ⋯ |    0.00000 |  19.058250 |  19.426103 |  21.60434 |  15.719779 |  10.615757 |  17.464292 |  18.7991609 |  28.021450 |  17.469521 |\n",
       "\n"
      ],
      "text/plain": [
       "                            PV156     PV157     PV158      PV159     \n",
       "ENSG00000000419.14_DPM1     139.53659  14.04847  18.680008  24.090639\n",
       "ENSG00000000457.14_SCYL3    146.88062  37.82279  45.143353  14.454383\n",
       "ENSG00000000460.17_C1orf112   0.00000  12.96781  20.236676  12.045319\n",
       "ENSG00000000938.13_FGR      198.28884 248.54977 236.613439 521.562326\n",
       "ENSG00000000971.16_CFH        0.00000   0.00000   9.340004   0.000000\n",
       "ENSG00000001036.14_FUCA2     14.68806  35.66149  24.906678   3.613596\n",
       "                            PV160      PV162      PV163     PV164    \n",
       "ENSG00000000419.14_DPM1      35.094615  26.055207  34.22971  19.40313\n",
       "ENSG00000000457.14_SCYL3     52.641923  34.740276  36.86277  16.02867\n",
       "ENSG00000000460.17_C1orf112  21.056769  23.739189  50.02804  16.02867\n",
       "ENSG00000000938.13_FGR      268.724481 236.812881 139.55191 343.35097\n",
       "ENSG00000000971.16_CFH        1.002703   4.053032   0.00000   0.00000\n",
       "ENSG00000001036.14_FUCA2     14.037846  17.949143  52.66110  10.96698\n",
       "                            PV166      PV167       ⋯ PV90       PV91      \n",
       "ENSG00000000419.14_DPM1      16.207618  26.2747933 ⋯   45.47797  50.562705\n",
       "ENSG00000000457.14_SCYL3     20.066575  21.9752816 ⋯    0.00000  18.669306\n",
       "ENSG00000000460.17_C1orf112  18.522992  18.1534935 ⋯   45.47797   6.223102\n",
       "ENSG00000000938.13_FGR      334.957440 470.0799375 ⋯ 1394.65785 727.714002\n",
       "ENSG00000000971.16_CFH        5.402539   0.4777235 ⋯    0.00000   1.944719\n",
       "ENSG00000001036.14_FUCA2     21.610157  22.4530051 ⋯    0.00000  19.058250\n",
       "                            PV92       PV93      PV94       PV95      \n",
       "ENSG00000000419.14_DPM1      37.357891  64.81301  52.071769  46.323305\n",
       "ENSG00000000457.14_SCYL3      8.965894  21.60434   8.842376  21.714049\n",
       "ENSG00000000460.17_C1orf112   4.731999   0.00000  10.807348   5.790413\n",
       "ENSG00000000938.13_FGR      529.983941 432.08676 613.071389 256.708314\n",
       "ENSG00000000971.16_CFH        1.245263   0.00000   0.000000   3.860275\n",
       "ENSG00000001036.14_FUCA2     19.426103  21.60434  15.719779  10.615757\n",
       "                            PV96       PV97        PV98       PV99      \n",
       "ENSG00000000419.14_DPM1      28.211549  39.3073364  31.462680  40.762215\n",
       "ENSG00000000457.14_SCYL3     18.807699  16.2356389  31.462680   7.764231\n",
       "ENSG00000000460.17_C1orf112  10.747257   8.5450731   2.458022  38.821157\n",
       "ENSG00000000938.13_FGR      377.497394 493.9052266 904.552060 277.571271\n",
       "ENSG00000000971.16_CFH        5.373628   0.8545073   2.458022   1.941058\n",
       "ENSG00000001036.14_FUCA2     17.464292  18.7991609  28.021450  17.469521"
      ]
     },
     "metadata": {},
     "output_type": "display_data"
    }
   ],
   "source": [
    "data_raw1 = read.table(\"../1_sample-data/2covid_ctrls_counts.txt\", header = TRUE, row.names=1,check.names=FALSE)\n",
    "\n",
    "\n",
    "### Read ftcount matrix\n",
    "raw_ftcount <- read.delim(\"../1_sample-data/wbrna_ftcounts.txt\",row.names = 1)\n",
    "nrow(raw_ftcount)\n",
    "\n",
    "raw_ftcount <- raw_ftcount[rownames(data_raw1),]\n",
    "\n",
    "### Read gene list to remove\n",
    "gene.list <- read.delim(\"../0_support-files/genelist.remove.tsv\",col.names = c(\"type,\",\"ENSMBL\",\"gene_symbol\"))\n",
    "gene.ids <- gsub(\"\\\\..*\",\"\",rownames(raw_ftcount))\n",
    "\n",
    "### Subset count matrix\n",
    "exclude.idx <- gene.ids %in% gene.list[,2]\n",
    "raw_ftcount = raw_ftcount[!exclude.idx,]          \n",
    "\n",
    "nrow(raw_ftcount)\n",
    "\n",
    "raw_ftcount <- raw_ftcount[,colSums(raw_ftcount) > 0]\n",
    "\n",
    "cpm_ftcount <- edgeR::cpm(raw_ftcount)\n",
    "head(cpm_ftcount)"
   ]
  },
  {
   "cell_type": "code",
   "execution_count": 38,
   "id": "815d4659-4d1a-4568-95d1-9f38ff5144ef",
   "metadata": {},
   "outputs": [],
   "source": [
    "SIG_THRESH = 0.01\n",
    "FC_THRESH = 1.5\n",
    "\n",
    "# SIG_THRESH = 0.05\n",
    "# FC_THRESH = 0\n",
    "\n",
    "ANNOTATIONS <- c(\"Diagnosis\",\"severity\")\n",
    "\n",
    "WIDTH = 1.6\n",
    "HEIGHT = 2.6\n",
    "\n",
    "RES = 300"
   ]
  },
  {
   "cell_type": "markdown",
   "id": "629dd00e-a27d-4c2d-8704-4ea975e2a61f",
   "metadata": {},
   "source": [
    "## Make the heatmaps"
   ]
  },
  {
   "cell_type": "code",
   "execution_count": 42,
   "id": "3b89d659-ed4f-43b8-9870-2f8bb2efbc5d",
   "metadata": {},
   "outputs": [],
   "source": [
    "# covid_control_plt <- create_heatmap(covid_control,c(2,4, 31, 34, 36),cpm_ftcount,meta_data_all)\n",
    "# misc_control_plt <- create_heatmap(misc_control,c(1,3, 31, 57,58, 33, 35),cpm_ftcount,meta_data_all)\n",
    "# misc_covid_plt <- create_heatmap(misc_covid,c(1,3, 2,4, 57, 58, 33, 35, 34, 36),cpm_ftcount,meta_data_all)\n",
    "\n",
    "# covid_control_cto_plt <- create_heatmap(covid_control_cto,c(2,4, 31, 34, 36),cpm_ftcount,meta_data_all)\n",
    "# misc_control_cto_plt <- create_heatmap(misc_control_cto,c(1,3, 31, 57,58, 33, 35),cpm_ftcount,meta_data_all)\n",
    "# misc_covid_cto_plt <- create_heatmap(misc_covid_cto,c(1,3, 2,4, 57, 58, 33, 35, 34, 36),cpm_ftcount,meta_data_all)\n",
    "\n",
    "\n",
    "covid_control_labs_plt <- create_heatmap(covid_control_labs,c(\"COVID-19\",\"Control_Non-inflammatory\"),cpm_ftcount,meta_data_all)\n",
    "misc_control_labs_plt <- create_heatmap(misc_control_labs,c(\"MIS-C\",\"Control_Non-inflammatory\"),cpm_ftcount,meta_data_all)\n",
    "misc_covid_labs_plt <- create_heatmap(misc_covid_labs,c(\"MIS-C\",\"COVID-19\"),cpm_ftcount,meta_data_all)"
   ]
  },
  {
   "cell_type": "code",
   "execution_count": 43,
   "id": "b39d0f6e-889a-48c6-9413-532ef5d42004",
   "metadata": {},
   "outputs": [
    {
     "data": {
      "text/html": [
       "<strong>png:</strong> 2"
      ],
      "text/latex": [
       "\\textbf{png:} 2"
      ],
      "text/markdown": [
       "**png:** 2"
      ],
      "text/plain": [
       "png \n",
       "  2 "
      ]
     },
     "metadata": {},
     "output_type": "display_data"
    },
    {
     "data": {
      "text/html": [
       "<strong>png:</strong> 2"
      ],
      "text/latex": [
       "\\textbf{png:} 2"
      ],
      "text/markdown": [
       "**png:** 2"
      ],
      "text/plain": [
       "png \n",
       "  2 "
      ]
     },
     "metadata": {},
     "output_type": "display_data"
    },
    {
     "data": {
      "text/html": [
       "<strong>png:</strong> 2"
      ],
      "text/latex": [
       "\\textbf{png:} 2"
      ],
      "text/markdown": [
       "**png:** 2"
      ],
      "text/plain": [
       "png \n",
       "  2 "
      ]
     },
     "metadata": {},
     "output_type": "display_data"
    }
   ],
   "source": [
    "##------------------------------------\n",
    "# SAVE HEATMAP OBJECT\n",
    "\n",
    "prefix = \"covid-control\"\n",
    "       \n",
    "png(file=paste0(\"plots/SupPanelE_\",prefix,\".png\"),\n",
    "        width=WIDTH,height=HEIGHT, units =\"in\", bg=\"white\", res = RES, #useRaster = TRUE,\n",
    "        fonts=\"Helvetica\",  pointsize=6)\n",
    "\n",
    "# pdf(file=paste0(\"plots/\",prefix,\".heatmap.cfrna.pdf\"),\n",
    "#         width=WIDTH,height=HEIGHT, paper=\"special\", bg=\"transparent\",\n",
    "#         fonts=\"Helvetica\", colormodel = \"srgb\", pointsize=6, useDingbats = FALSE)\n",
    "\n",
    "draw(covid_control_labs_plt,show_heatmap_legend=FALSE,padding = unit(0.25,\"mm\"))\n",
    "\n",
    "dev.off()\n",
    "\n",
    "##------------------------------------\n",
    "# SAVE HEATMAP OBJECT\n",
    "\n",
    "prefix = \"misc-control\"\n",
    "\n",
    "png(file=paste0(\"plots/SupPanelE_\",prefix,\".png\"),\n",
    "        width=WIDTH,height=HEIGHT, units =\"in\", bg=\"white\", res = RES, #useRaster = TRUE,\n",
    "        fonts=\"Helvetica\",  pointsize=6)\n",
    "\n",
    "# pdf(file=paste0(\"plots/\",prefix,\".heatmap.cfrna.pdf\"),\n",
    "#         width=WIDTH,height=HEIGHT, paper=\"special\", bg=\"transparent\",\n",
    "#         fonts=\"Helvetica\", colormodel = \"srgb\", pointsize=6, useDingbats = FALSE)\n",
    "\n",
    "draw(misc_control_labs_plt,show_heatmap_legend=FALSE,padding = unit(0.25,\"mm\"))\n",
    "\n",
    "dev.off()\n",
    "\n",
    "##------------------------------------\n",
    "# SAVE HEATMAP OBJECT\n",
    "\n",
    "prefix = \"misc-covid\"\n",
    "\n",
    "png(file=paste0(\"plots/SupPanelE_\",prefix,\".png\"),\n",
    "        width=WIDTH,height=HEIGHT, units =\"in\", bg=\"white\", res = RES, #useRaster = TRUE,\n",
    "        fonts=\"Helvetica\",  pointsize=6)\n",
    "\n",
    "# pdf(file=paste0(\"plots/\",prefix,\".heatmap.cfrna.pdf\"),\n",
    "#         width=WIDTH,height=HEIGHT, paper=\"special\", bg=\"transparent\",\n",
    "#         fonts=\"Helvetica\", colormodel = \"srgb\", pointsize=6, useDingbats = FALSE)\n",
    "\n",
    "draw(misc_covid_labs_plt,show_heatmap_legend=FALSE,padding = unit(0.25,\"mm\"))\n",
    "\n",
    "dev.off()"
   ]
  }
 ],
 "metadata": {
  "kernelspec": {
   "display_name": "R",
   "language": "R",
   "name": "ir"
  },
  "language_info": {
   "codemirror_mode": "r",
   "file_extension": ".r",
   "mimetype": "text/x-r-source",
   "name": "R",
   "pygments_lexer": "r",
   "version": "4.1.1"
  }
 },
 "nbformat": 4,
 "nbformat_minor": 5
}
