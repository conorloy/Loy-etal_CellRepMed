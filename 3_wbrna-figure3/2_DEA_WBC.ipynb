{
 "cells": [
  {
   "cell_type": "code",
   "execution_count": 27,
   "id": "793c9099-c4fc-44f1-9736-bc635b2d987c",
   "metadata": {
    "tags": []
   },
   "outputs": [],
   "source": [
    "suppressMessages(library(tidyverse))     # tidyverse will pull in ggplot2, readr, other useful libraries\n",
    "suppressMessages(library(magrittr))      # provides the %>% operator\n",
    "suppressMessages(library(\"genefilter\"))\n",
    "suppressMessages(library(DESeq2))\n",
    "suppressMessages(library(tximport))\n",
    "suppressMessages(library(\"readr\"))\n",
    "suppressMessages(library(\"tximportData\"))\n",
    "suppressMessages(library(data.table))\n",
    "\n",
    "suppressMessages(library(matrixStats))\n",
    "suppressMessages(library(org.Hs.eg.db))\n",
    "suppressMessages(library(topGO))\n",
    "\n",
    "suppressMessages(library(pheatmap))\n",
    "suppressMessages(library(gplots))\n",
    "suppressMessages(library(matrixStats))\n",
    "\n",
    "SIG_THRESH = 0.01\n",
    "FC_THRESH = 1.5\n",
    "WIDTH = 1.6\n",
    "HEIGHT = 2.6\n",
    "\n",
    "RES = 300\n",
    "\n",
    "CELLTYPE_labs = \"wbc\""
   ]
  },
  {
   "cell_type": "markdown",
   "id": "491ca6da-fa03-446d-b8d5-d431b6449624",
   "metadata": {
    "tags": []
   },
   "source": [
    "---\n",
    "### Functions"
   ]
  },
  {
   "cell_type": "code",
   "execution_count": 28,
   "id": "450231f1-c424-491c-8eeb-98738b0d36e4",
   "metadata": {},
   "outputs": [],
   "source": [
    "run_deseq <- function(counts, samples, G1, G2, RUN_TOO = FALSE,CELLTYPES = NULL){\n",
    "    \n",
    "    GROUPS = c(G1, G2)\n",
    "    \n",
    "    #------------------------------------\n",
    "    # RUN DESEQ2\n",
    "    ##------------------------------------\n",
    "\n",
    "    ##------------------------------------\n",
    "    # Contstruct DESeq Data Set\n",
    "    dds <- DESeqDataSetFromMatrix(round(counts),\n",
    "                                    colData = samples,\n",
    "                                    design = ~ expGroup + 0)\n",
    "\n",
    "    ##------------------------------------\n",
    "    # Add Gene metadata\n",
    "    annotation = fread(file=\"../0_support-files/gencode.biotype.name.key.tsv\")\n",
    "    annotation <- annotation[match(rownames(dds), annotation$gene_id),]\n",
    "    all(rownames(dds) == annotation$ftcount_id)\n",
    "    mcols(dds) <- cbind(mcols(dds), annotation)\n",
    "\n",
    "\n",
    "    ##------------------------------------\n",
    "    # Re-factor\n",
    "    dds$expGroup <- factor(dds$expGroup, levels = GROUPS)\n",
    "\n",
    "    ##------------------------------------\n",
    "    # DAA\n",
    "    dds <- DESeq(dds)\n",
    "\n",
    "    ##------------------------------------\n",
    "    # ANALYZE\n",
    "    ##------------------------------------\n",
    "\n",
    "    res <- results(dds,alpha=0.05, contrast = c(\"expGroup\",GROUPS))\n",
    "\n",
    "    tmp <- res %>% data.frame() %>% filter(abs(log2FoldChange)>1.5) %>% filter(padj < 0.01)\n",
    "    cat(nrow(tmp))\n",
    "    \n",
    "    return(res)\n",
    "}\n",
    "\n",
    "run_deseq_wbc <- function(counts, samples, G1, G2, RUN_TOO = FALSE,CELLTYPES = NULL){\n",
    "    \n",
    "    GROUPS = c(G1, G2)\n",
    "    \n",
    "    #------------------------------------\n",
    "    # RUN DESEQ2\n",
    "    ##------------------------------------\n",
    "\n",
    "    ##------------------------------------\n",
    "    # Contstruct DESeq Data Set\n",
    "    dds <- DESeqDataSetFromMatrix(round(counts),\n",
    "                                    colData = samples,\n",
    "                                    design = ~ expGroup + wbc + 0)\n",
    "\n",
    "    ##------------------------------------\n",
    "    # Add Gene metadata\n",
    "    annotation = fread(file=\"../0_support-files/gencode.biotype.name.key.tsv\")\n",
    "    annotation <- annotation[match(rownames(dds), annotation$gene_id),]\n",
    "    all(rownames(dds) == annotation$ftcount_id)\n",
    "    mcols(dds) <- cbind(mcols(dds), annotation)\n",
    "\n",
    "\n",
    "    ##------------------------------------\n",
    "    # Re-factor\n",
    "    dds$expGroup <- factor(dds$expGroup, levels = GROUPS)\n",
    "\n",
    "    ##------------------------------------\n",
    "    # DAA\n",
    "    dds <- DESeq(dds)\n",
    "\n",
    "    ##------------------------------------\n",
    "    # ANALYZE\n",
    "    ##------------------------------------\n",
    "\n",
    "    res <- results(dds,alpha=0.05, contrast = c(\"expGroup\",GROUPS))\n",
    "\n",
    "    tmp <- res %>% data.frame() %>% filter(abs(log2FoldChange)>1.5) %>% filter(padj < 0.01)\n",
    "    cat(nrow(tmp))\n",
    "    \n",
    "    return(res)\n",
    "}"
   ]
  },
  {
   "cell_type": "code",
   "execution_count": 29,
   "id": "929d8872-d728-41d4-9c6a-e00ac69f8e47",
   "metadata": {
    "tags": []
   },
   "outputs": [],
   "source": [
    "create_heatmap <- function(res,groups,cpm,meta_data) {\n",
    "    \n",
    "    ANNOTATIONS = c(\"Diagnosis\",\"severity\",'group')\n",
    "#     ANNOTATIONS = c(\"Row.names\",\"groups\")\n",
    "    \n",
    "    ###----------------------------------\n",
    "    ## Extract significant genes\n",
    "    sig_genes <- data.frame(res) %>% filter(padj < SIG_THRESH & abs(log2FoldChange) > FC_THRESH) %>% rownames(gene_id)\n",
    "#             rownames_to_column(var = \"gene_id_ensmbl\",) %>% mutate(gene_id = gsub(\".*_\",\"\",gene_id_ensmbl)) %>% pull(gene_id)\n",
    "\n",
    "    ###----------------------------------\n",
    "    ## Subset metadata \n",
    "    metadata <- meta_data %>% \n",
    "        column_to_rownames(var = \"Row.names\") %>%\n",
    "        mutate(severity = ifelse(grepl(\"ontrol\",severity),NA,severity)) %>%\n",
    "        rename(Diagnosis = groups) %>%\n",
    "        select(all_of(ANNOTATIONS))\n",
    "    \n",
    "    colnames(metadata) <- c(\"Diagnosis\",\"Severity\",\"group\")\n",
    "    \n",
    "    ###----------------------------------\n",
    "    ## Subset count matrix\n",
    "    mat <- data.frame(cpm) %>% \n",
    "            filter(row.names(cpm) %in% all_of(sig_genes)) %>% \n",
    "            select(all_of(rownames(metadata))) %>% \n",
    "            as.matrix()\n",
    "\n",
    "    mat <- t(scale(t(mat)))\n",
    "\n",
    "    ###----------------------------------\n",
    "    ## Colors\n",
    "    color = colorRampPalette(c(\"blue\",\"yellow\"))(50)\n",
    "    breaksList = seq(-2, +2, length = 51)\n",
    "\n",
    "    #color_groups = c('COVID-19\\ndiscovery' = '#c1272d', 'MIS-C\\ndiscovery' = '#0000a7', 'Control_Non-inflammatory\\ndiscovery' = '#eecc16',\"MIS-C\\nvalidation\" = '#008176')\n",
    "    \n",
    "    my_colour <- list(\n",
    "    Diagnosis = c('COV' = '#F0484E', 'M' = '#5CB2EB', 'C' = '#FBE77C') , #\"MISC_acute_validation\" = '#00FFFF'),\n",
    "    Severity = c(\"-1\" = \"white\", \"0\" = \"white\", \"2\" = \"#efe5d7\", \"3\" = \"#bc8e52\"),\n",
    "    group = c(\"validation\" = \"orange\", \"discovery\" = \"light blue\", \"UCSF\" = \"forest green\") #,\n",
    "    # PCR = c(\"1\" = \"green\", \"2\" = \"blue\"),\n",
    "    # Antibody =c(\"1\" = \"green\", \"2\" = \"blue\")\n",
    "    )\n",
    "\n",
    "    ###----------------------------------\n",
    "    ## Plot\n",
    "    \n",
    "#     return(list(mat, metadata))\n",
    "    \n",
    "    # pdf(\"./tmp.pdf\")\n",
    "    heatmap_plt <- pheatmap(mat,\n",
    "\n",
    "             # Colors\n",
    "             col=color,\n",
    "             breaks=breaksList, \n",
    "             annotation_col=metadata,\n",
    "             annotation_colors=my_colour,\n",
    "             na_col = \"#FFFFFF\",\n",
    "\n",
    "             # Fonts\n",
    "             show_colnames=F,\n",
    "             show_rownames=F,\n",
    "             fontsize=12,\n",
    "             fontsize_col=3,\n",
    "             annotation_names_col=F,\n",
    "             annotation_names_row=F,\n",
    "\n",
    "             # Clustering\n",
    "\n",
    "             clustering_distance_cols=\"correlation\",\n",
    "             clustering_distance_rows=\"correlation\", \n",
    "    #          clustering_distance_cols=\"euclidean\",\n",
    "    #          clustering_distance_rows=\"euclidean\",\n",
    "    #          cluster_cols=hc,\n",
    "    #          cluster_rows=hr,\n",
    "    #          clustering_distance_rows=\"euclidean\",\n",
    "    #          clustering_method=\"complete\",\n",
    "             treeheight_row=0,\n",
    "            treeheight_col= 15,\n",
    "\n",
    "             # Misc.\n",
    "             border_color=NA,\n",
    "            legend=FALSE,\n",
    "            annotation_legend=FALSE\n",
    "            ) \n",
    "    # dev.off()\n",
    "\n",
    "\n",
    "\n",
    "\n",
    "    return(heatmap_plt)\n",
    "\n",
    "        }\n"
   ]
  },
  {
   "cell_type": "markdown",
   "id": "e6e0eddf-d323-496d-b7fd-d18b2e6ecddf",
   "metadata": {
    "tags": []
   },
   "source": [
    "---\n",
    "### read data"
   ]
  },
  {
   "cell_type": "code",
   "execution_count": 30,
   "id": "14cb932e-8e48-4e3a-b27d-0828c4c68475",
   "metadata": {},
   "outputs": [
    {
     "data": {
      "text/html": [
       "<table class=\"dataframe\">\n",
       "<caption>A data.frame: 6 × 3</caption>\n",
       "<thead>\n",
       "\t<tr><th></th><th scope=col>PTID</th><th scope=col>wbrna_sample_id</th><th scope=col>wbc</th></tr>\n",
       "\t<tr><th></th><th scope=col>&lt;chr&gt;</th><th scope=col>&lt;chr&gt;</th><th scope=col>&lt;dbl&gt;</th></tr>\n",
       "</thead>\n",
       "<tbody>\n",
       "\t<tr><th scope=row>1</th><td>Patient70 </td><td>PV92 </td><td>11.77</td></tr>\n",
       "\t<tr><th scope=row>2</th><td>Patient112</td><td>PV26 </td><td> 8.06</td></tr>\n",
       "\t<tr><th scope=row>3</th><td>Patient118</td><td>PV28 </td><td> 8.97</td></tr>\n",
       "\t<tr><th scope=row>4</th><td>Patient137</td><td>PV58 </td><td>15.39</td></tr>\n",
       "\t<tr><th scope=row>5</th><td>Patient176</td><td>PV220</td><td> 6.50</td></tr>\n",
       "\t<tr><th scope=row>6</th><td>Patient178</td><td>PV222</td><td>12.18</td></tr>\n",
       "</tbody>\n",
       "</table>\n"
      ],
      "text/latex": [
       "A data.frame: 6 × 3\n",
       "\\begin{tabular}{r|lll}\n",
       "  & PTID & wbrna\\_sample\\_id & wbc\\\\\n",
       "  & <chr> & <chr> & <dbl>\\\\\n",
       "\\hline\n",
       "\t1 & Patient70  & PV92  & 11.77\\\\\n",
       "\t2 & Patient112 & PV26  &  8.06\\\\\n",
       "\t3 & Patient118 & PV28  &  8.97\\\\\n",
       "\t4 & Patient137 & PV58  & 15.39\\\\\n",
       "\t5 & Patient176 & PV220 &  6.50\\\\\n",
       "\t6 & Patient178 & PV222 & 12.18\\\\\n",
       "\\end{tabular}\n"
      ],
      "text/markdown": [
       "\n",
       "A data.frame: 6 × 3\n",
       "\n",
       "| <!--/--> | PTID &lt;chr&gt; | wbrna_sample_id &lt;chr&gt; | wbc &lt;dbl&gt; |\n",
       "|---|---|---|---|\n",
       "| 1 | Patient70  | PV92  | 11.77 |\n",
       "| 2 | Patient112 | PV26  |  8.06 |\n",
       "| 3 | Patient118 | PV28  |  8.97 |\n",
       "| 4 | Patient137 | PV58  | 15.39 |\n",
       "| 5 | Patient176 | PV220 |  6.50 |\n",
       "| 6 | Patient178 | PV222 | 12.18 |\n",
       "\n"
      ],
      "text/plain": [
       "  PTID       wbrna_sample_id wbc  \n",
       "1 Patient70  PV92            11.77\n",
       "2 Patient112 PV26             8.06\n",
       "3 Patient118 PV28             8.97\n",
       "4 Patient137 PV58            15.39\n",
       "5 Patient176 PV220            6.50\n",
       "6 Patient178 PV222           12.18"
      ]
     },
     "metadata": {},
     "output_type": "display_data"
    }
   ],
   "source": [
    "labdata <- read.delim(\"../1_sample-data/wbrna_wbc.tsv\") \n",
    "\n",
    "labdata %>% head()"
   ]
  },
  {
   "cell_type": "markdown",
   "id": "8e70edb0-8ee5-43ba-b8fa-291bc201b94b",
   "metadata": {
    "tags": []
   },
   "source": [
    "---\n",
    "## COVID19 vs Controls"
   ]
  },
  {
   "cell_type": "code",
   "execution_count": 37,
   "id": "b53189a6-3b82-4819-9dd3-853b354d3185",
   "metadata": {},
   "outputs": [
    {
     "data": {
      "text/plain": [
       "\n",
       "Control_Non-inflammatory                 COVID-19 \n",
       "                      23                       36 "
      ]
     },
     "metadata": {},
     "output_type": "display_data"
    },
    {
     "name": "stdout",
     "output_type": "stream",
     "text": [
      "DEGs w/o CTO: "
     ]
    },
    {
     "name": "stderr",
     "output_type": "stream",
     "text": [
      "Warning message in DESeqDataSet(se, design = design, ignoreRank):\n",
      "“some variables in design formula are characters, converting to factors”\n"
     ]
    },
    {
     "name": "stdout",
     "output_type": "stream",
     "text": [
      "1097\n",
      "DEGs w/ CTO: "
     ]
    },
    {
     "name": "stderr",
     "output_type": "stream",
     "text": [
      "Warning message in DESeqDataSet(se, design = design, ignoreRank):\n",
      "“some variables in design formula are characters, converting to factors”\n"
     ]
    },
    {
     "name": "stdout",
     "output_type": "stream",
     "text": [
      "1203"
     ]
    }
   ],
   "source": [
    "##------------------------------------\n",
    "# LOAD METADATA\n",
    "##------------------------------------\n",
    "\n",
    "meta_data <- read.csv(\"../1_sample-data/STable7_wbrna-samples.csv\") %>% \n",
    "    filter( (Diagnosis == \"COVID-19\" & timepoint == \"acute\") | Diagnosis == \"Control_Non-inflammatory\")\n",
    "\n",
    "samples <- meta_data\n",
    "\n",
    "GROUPS = c(\"COVID-19\", \"Control_Non-inflammatory\")\n",
    "\n",
    "samples$expGroup <- samples$Diagnosis\n",
    "\n",
    "\n",
    "table(samples$expGroup)\n",
    "\n",
    "samples <- merge(samples,labdata, by=\"wbrna_sample_id\",all.x=TRUE)\n",
    "\n",
    "samples[is.na(samples$wbc),\"wbc\"] <- mean(samples$wbc, na.rm=T)\n",
    "\n",
    "\n",
    "##------------------------------------\n",
    "# PREPARE COUNTS\n",
    "##------------------------------------\n",
    "\n",
    "##------------------------------------\n",
    "# load count data with tximport\n",
    "sample_ids = unique(samples$wbrna_sample_id)                                                                    # Get sample ids that pass qc\n",
    "\n",
    "counts = read.delim(\"../1_sample-data/wbrna_ftcounts.txt\")\n",
    "rownames(counts) <- counts$X\n",
    "\n",
    "counts = counts[,sample_ids]\n",
    "\n",
    "##------------------------------------\n",
    "# Remove ChrX, ChrY, ChrM, and RB genes\n",
    "gene.list <- read.delim(\"../0_support-files/genelist.hs.tsv\",col.names = c(\"type,\",\"ENSMBL\",\"gene_symbol\"))\n",
    "\n",
    "gene.ids <- gsub(\"\\\\..*\",\"\",rownames(counts))\n",
    "\n",
    "exclude.idx <- gene.ids %in% gene.list[,2]\n",
    "\n",
    "counts = counts[!exclude.idx,]  \n",
    "\n",
    "##------------------------------------\n",
    "# RUN COMPARISON\n",
    "##------------------------------------\n",
    "\n",
    "##-------------------------\n",
    "# Run DESeq2\n",
    "cat(\"DEGs w/o CTO: \")\n",
    "res <- suppressMessages(run_deseq(counts, samples, \"COVID-19\",\"Control_Non-inflammatory\", FALSE))\n",
    "\n",
    "cat(\"\\n\")\n",
    "\n",
    "cat(\"DEGs w/ CTO: \")\n",
    "res_cto <- suppressMessages(run_deseq_wbc(counts, samples,\"COVID-19\",\"Control_Non-inflammatory\", TRUE, CELLTYPE_labs))\n",
    "\n",
    "\n",
    "prefix = \"covid_controls_wbc\"\n",
    "\n",
    "write.table(res_cto, paste0(\"./dea_output/\",prefix,\".txt\"), sep = \"\\t\", quote=FALSE)"
   ]
  },
  {
   "cell_type": "code",
   "execution_count": 1,
   "id": "11aa5b12-3290-4b65-8e70-608b26a139de",
   "metadata": {},
   "outputs": [
    {
     "data": {
      "text/html": [
       "0.0966271649954421"
      ],
      "text/latex": [
       "0.0966271649954421"
      ],
      "text/markdown": [
       "0.0966271649954421"
      ],
      "text/plain": [
       "[1] 0.09662716"
      ]
     },
     "metadata": {},
     "output_type": "display_data"
    }
   ],
   "source": [
    "(1203 - 1097) / 1097"
   ]
  },
  {
   "cell_type": "markdown",
   "id": "d8e67209-f87c-41e0-b432-d81404eb0644",
   "metadata": {
    "tags": []
   },
   "source": [
    "---\n",
    "## MISC vs Controls"
   ]
  },
  {
   "cell_type": "code",
   "execution_count": 13,
   "id": "63245be3-a957-4975-8a3a-3b2437606561",
   "metadata": {},
   "outputs": [
    {
     "data": {
      "text/plain": [
       "\n",
       "Control_Non-inflammatory                    MIS-C \n",
       "                      23                       69 "
      ]
     },
     "metadata": {},
     "output_type": "display_data"
    },
    {
     "name": "stdout",
     "output_type": "stream",
     "text": [
      "DEGs w/o CTO: "
     ]
    },
    {
     "name": "stderr",
     "output_type": "stream",
     "text": [
      "Warning message in DESeqDataSet(se, design = design, ignoreRank):\n",
      "“some variables in design formula are characters, converting to factors”\n"
     ]
    },
    {
     "name": "stdout",
     "output_type": "stream",
     "text": [
      "2024\n",
      "DEGs w/ CTO: "
     ]
    },
    {
     "name": "stderr",
     "output_type": "stream",
     "text": [
      "Warning message in DESeqDataSet(se, design = design, ignoreRank):\n",
      "“some variables in design formula are characters, converting to factors”\n"
     ]
    },
    {
     "name": "stdout",
     "output_type": "stream",
     "text": [
      "2093"
     ]
    }
   ],
   "source": [
    "##------------------------------------\n",
    "# LOAD METADATA\n",
    "##------------------------------------\n",
    "\n",
    "meta_data <- read.csv(\"../1_sample-data/STable7_wbrna-samples.csv\") %>% \n",
    "    filter( (Diagnosis == \"MIS-C\" & timepoint == \"acute\" & group == \"discovery\") | Diagnosis == \"Control_Non-inflammatory\")\n",
    "\n",
    "samples <- meta_data\n",
    "\n",
    "GROUPS = c(\"MIS-C\", \"Control_Non-inflammatory\")\n",
    "\n",
    "samples$expGroup <- samples$Diagnosis\n",
    "\n",
    "\n",
    "table(samples$expGroup)\n",
    "\n",
    "samples <- merge(samples,labdata, by=\"wbrna_sample_id\",all.x=TRUE)\n",
    "\n",
    "samples[is.na(samples$wbc),\"wbc\"] <- mean(samples$wbc, na.rm=T)\n",
    "\n",
    "\n",
    "##------------------------------------\n",
    "# PREPARE COUNTS\n",
    "##------------------------------------\n",
    "\n",
    "##------------------------------------\n",
    "# load count data with tximport\n",
    "sample_ids = unique(samples$wbrna_sample_id)                                                                    # Get sample ids that pass qc\n",
    "\n",
    "counts = read.delim(\"../1_sample-data/wbrna_ftcounts.txt\")\n",
    "rownames(counts) <- counts$X\n",
    "\n",
    "counts = counts[,sample_ids]\n",
    "\n",
    "##------------------------------------\n",
    "# Remove ChrX, ChrY, ChrM, and RB genes\n",
    "gene.list <- read.delim(\"../0_support-files/genelist.hs.tsv\",col.names = c(\"type,\",\"ENSMBL\",\"gene_symbol\"))\n",
    "\n",
    "gene.ids <- gsub(\"\\\\..*\",\"\",rownames(counts))\n",
    "\n",
    "exclude.idx <- gene.ids %in% gene.list[,2]\n",
    "\n",
    "counts = counts[!exclude.idx,]  \n",
    "\n",
    "##------------------------------------\n",
    "# RUN COMPARISON\n",
    "##------------------------------------\n",
    "\n",
    "##-------------------------\n",
    "# Run DESeq2\n",
    "cat(\"DEGs w/o CTO: \")\n",
    "res <- suppressMessages(run_deseq(counts, samples, \"MIS-C\",\"Control_Non-inflammatory\", FALSE))\n",
    "\n",
    "cat(\"\\n\")\n",
    "\n",
    "cat(\"DEGs w/ CTO: \")\n",
    "res_cto <- suppressMessages(run_deseq_wbc(counts, samples,\"MIS-C\",\"Control_Non-inflammatory\", TRUE, CELLTYPE_labs))\n",
    "\n",
    "\n",
    "prefix = \"misc_controls_wbc\"\n",
    "\n",
    "write.table(res_cto, paste0(\"./dea_output/\",prefix,\".txt\"), sep = \"\\t\", quote=FALSE)"
   ]
  },
  {
   "cell_type": "code",
   "execution_count": 2,
   "id": "5312a155-7263-4e33-9384-f17b5c5c1402",
   "metadata": {},
   "outputs": [
    {
     "data": {
      "text/html": [
       "0.0340909090909091"
      ],
      "text/latex": [
       "0.0340909090909091"
      ],
      "text/markdown": [
       "0.0340909090909091"
      ],
      "text/plain": [
       "[1] 0.03409091"
      ]
     },
     "metadata": {},
     "output_type": "display_data"
    }
   ],
   "source": [
    "(2093 - 2024) / 2024"
   ]
  },
  {
   "cell_type": "markdown",
   "id": "f3dbc19f-1bdc-4b09-9eb7-191b5f96ef45",
   "metadata": {
    "tags": []
   },
   "source": [
    "---\n",
    "## MISC vs COVID19"
   ]
  },
  {
   "cell_type": "code",
   "execution_count": 14,
   "id": "9f2ca1cd-5426-4747-b5d7-b451de340482",
   "metadata": {},
   "outputs": [
    {
     "data": {
      "text/plain": [
       "\n",
       "COVID-19    MIS-C \n",
       "      36       69 "
      ]
     },
     "metadata": {},
     "output_type": "display_data"
    },
    {
     "name": "stdout",
     "output_type": "stream",
     "text": [
      "DEGs w/o CTO: "
     ]
    },
    {
     "name": "stderr",
     "output_type": "stream",
     "text": [
      "Warning message in DESeqDataSet(se, design = design, ignoreRank):\n",
      "“some variables in design formula are characters, converting to factors”\n"
     ]
    },
    {
     "name": "stdout",
     "output_type": "stream",
     "text": [
      "84\n",
      "DEGs w/ CTO: "
     ]
    },
    {
     "name": "stderr",
     "output_type": "stream",
     "text": [
      "Warning message in DESeqDataSet(se, design = design, ignoreRank):\n",
      "“some variables in design formula are characters, converting to factors”\n"
     ]
    },
    {
     "name": "stdout",
     "output_type": "stream",
     "text": [
      "92"
     ]
    }
   ],
   "source": [
    "##------------------------------------\n",
    "# LOAD METADATA\n",
    "##------------------------------------\n",
    "\n",
    "meta_data <- read.csv(\"../1_sample-data/STable7_wbrna-samples.csv\") %>% \n",
    "    filter( (Diagnosis == \"MIS-C\" & timepoint == \"acute\" & group == \"discovery\") |  (Diagnosis == \"COVID-19\" & timepoint == \"acute\" & group == \"discovery\"))\n",
    "\n",
    "samples <- meta_data\n",
    "\n",
    "GROUPS = c(\"MIS-C\", \"COVID-19\")\n",
    "\n",
    "samples$expGroup <- samples$Diagnosis\n",
    "\n",
    "\n",
    "table(samples$expGroup)\n",
    "\n",
    "samples <- merge(samples,labdata, by=\"wbrna_sample_id\",all.x=TRUE)\n",
    "\n",
    "samples[is.na(samples$wbc),\"wbc\"] <- mean(samples$wbc, na.rm=T)\n",
    "\n",
    "\n",
    "##------------------------------------\n",
    "# PREPARE COUNTS\n",
    "##------------------------------------\n",
    "\n",
    "##------------------------------------\n",
    "# load count data with tximport\n",
    "sample_ids = unique(samples$wbrna_sample_id)                                                                    # Get sample ids that pass qc\n",
    "\n",
    "counts = read.delim(\"../1_sample-data/wbrna_ftcounts.txt\")\n",
    "rownames(counts) <- counts$X\n",
    "\n",
    "counts = counts[,sample_ids]\n",
    "\n",
    "##------------------------------------\n",
    "# Remove ChrX, ChrY, ChrM, and RB genes\n",
    "gene.list <- read.delim(\"../0_support-files/genelist.hs.tsv\",col.names = c(\"type,\",\"ENSMBL\",\"gene_symbol\"))\n",
    "\n",
    "gene.ids <- gsub(\"\\\\..*\",\"\",rownames(counts))\n",
    "\n",
    "exclude.idx <- gene.ids %in% gene.list[,2]\n",
    "\n",
    "counts = counts[!exclude.idx,]  \n",
    "\n",
    "##------------------------------------\n",
    "# RUN COMPARISON\n",
    "##------------------------------------\n",
    "\n",
    "##-------------------------\n",
    "# Run DESeq2\n",
    "cat(\"DEGs w/o CTO: \")\n",
    "res <- suppressMessages(run_deseq(counts, samples, \"MIS-C\",\"COVID-19\", FALSE))\n",
    "\n",
    "cat(\"\\n\")\n",
    "\n",
    "cat(\"DEGs w/ CTO: \")\n",
    "res_cto <- suppressMessages(run_deseq_wbc(counts, samples,\"MIS-C\",\"COVID-19\", TRUE, CELLTYPE_labs))\n",
    "\n",
    "\n",
    "prefix = \"misc_covid_wbc\"\n",
    "\n",
    "write.table(res_cto, paste0(\"./dea_output/\",prefix,\".txt\"), sep = \"\\t\", quote=FALSE)"
   ]
  },
  {
   "cell_type": "code",
   "execution_count": 3,
   "id": "7f988c64-86da-47c5-8a4f-35e0741370fa",
   "metadata": {},
   "outputs": [
    {
     "data": {
      "text/html": [
       "0.0952380952380952"
      ],
      "text/latex": [
       "0.0952380952380952"
      ],
      "text/markdown": [
       "0.0952380952380952"
      ],
      "text/plain": [
       "[1] 0.0952381"
      ]
     },
     "metadata": {},
     "output_type": "display_data"
    }
   ],
   "source": [
    "(92-84)/84"
   ]
  },
  {
   "cell_type": "markdown",
   "id": "93be4cf7-8ccb-4c1d-9faa-1c326068864e",
   "metadata": {},
   "source": [
    "---\n",
    "## Pheatmaps"
   ]
  },
  {
   "cell_type": "code",
   "execution_count": 2,
   "id": "954b281c-0a88-40f8-a72f-56da60cc7ef2",
   "metadata": {},
   "outputs": [],
   "source": [
    "covid_control_labs <- read.delim(\"./dea_output/covid_controls_wbc.txt\")\n",
    "misc_control_labs <- read.delim(\"./dea_output/misc_controls_wbc.txt\")\n",
    "misc_covid_labs <- read.delim(\"./dea_output/misc_covid_wbc.txt\")\n",
    "\n",
    "### Read in metadata\n",
    "meta_data_all <- read.csv(\"../1_sample-data/STable7_wbrna-samples.csv\")"
   ]
  },
  {
   "cell_type": "code",
   "execution_count": 3,
   "id": "f8b67b94-5ba9-49e3-99ba-99d3b54e2f41",
   "metadata": {},
   "outputs": [],
   "source": [
    "create_heatmap <- function(res,groups,cpm,meta_data) {\n",
    "    \n",
    "    ANNOTATIONS = c(\"Diagnosis\",\"severity\",'group','ivig_rel_samp')\n",
    "\n",
    "    \n",
    "    ###----------------------------------\n",
    "    ## Extract significant genes\n",
    "    sig_genes <- data.frame(res) %>% filter(padj < SIG_THRESH & abs(log2FoldChange) > FC_THRESH) %>% rownames()\n",
    "\n",
    "    ###----------------------------------\n",
    "    ## Subset metadata \n",
    "    metadata <- meta_data %>% \n",
    "        filter((Diagnosis %in% all_of(groups)) & (timepoint %in% c(\"Not-hospitalized\",\"acute\"))) %>% \n",
    "        column_to_rownames(var = \"wbrna_sample_id\") %>%  \n",
    "        mutate(severity = ifelse(grepl(\"ontrol\",severity),NA,severity)) %>%\n",
    "        dplyr::select(all_of(ANNOTATIONS))\n",
    "\n",
    "    colnames(metadata) <- c(\"Diagnosis\",\"Severity\",\"group\",\"IVIG\")\n",
    "\n",
    "    ###----------------------------------\n",
    "    ## Subset count matrix\n",
    "    mat <- data.frame(cpm) %>% \n",
    "            filter(row.names(cpm) %in% all_of(sig_genes)) %>% \n",
    "            dplyr::select(all_of(rownames(metadata))) %>% \n",
    "            as.matrix()\n",
    "\n",
    "    mat <- t(scale(t(mat)))\n",
    "\n",
    "    ###----------------------------------\n",
    "    ## Colors\n",
    "    color = colorRampPalette(c(\"blue\",\"yellow\"))(50)\n",
    "    breaksList = seq(-2, +2, length = 51)\n",
    "\n",
    "    #color_groups = c('COVID-19\\ndiscovery' = '#c1272d', 'MIS-C\\ndiscovery' = '#0000a7', 'Control_Non-inflammatory\\ndiscovery' = '#eecc16',\"MIS-C\\nvalidation\" = '#008176')\n",
    "    \n",
    "    my_colour <- list(\n",
    "    Diagnosis = c('COVID-19' = '#F0484E', 'MIS-C' = '#5CB2EB', 'Control_Non-inflammatory' = '#FBE77C'), #\"MISC_acute_validation\" = '#00FFFF'),\n",
    "    Severity = c(\"-1\" = \"white\", \"0\" = \"white\", \"2\" = \"#efe5d7\", \"3\" = \"#bc8e52\"),\n",
    "    group = c(\"validation\" = \"orange\", \"discovery\" = \"light blue\", \"UCSF\" = \"light blue\"),\n",
    "    IVIG = c(\"after\" = \"maroon\", \"before\" = \"darkseagreen2\", \"concurrent with\" = \"dark blue\",\"noivig\"=\"white\")#, \"forest green\"\n",
    "    # PCR = c(\"1\" = \"green\", \"2\" = \"blue\"),\n",
    "    # Antibody =c(\"1\" = \"green\", \"2\" = \"blue\")\n",
    "    )\n",
    "\n",
    "    ###----------------------------------\n",
    "    ## Plot\n",
    "\n",
    "    # pdf(\"./tmp.pdf\")\n",
    "    heatmap_plt <- pheatmap(mat,\n",
    "\n",
    "             # Colors\n",
    "             col=color,\n",
    "             breaks=breaksList, \n",
    "             annotation_col=metadata,\n",
    "             annotation_colors=my_colour,\n",
    "             na_col = \"#FFFFFF\",\n",
    "\n",
    "             # Fonts\n",
    "             show_colnames=F,\n",
    "             show_rownames=F,\n",
    "             fontsize=12,\n",
    "             fontsize_col=3,\n",
    "             annotation_names_col=F,\n",
    "             annotation_names_row=F,\n",
    "\n",
    "             # Clustering\n",
    "\n",
    "             clustering_distance_cols=\"correlation\",\n",
    "             clustering_distance_rows=\"correlation\", \n",
    "    #          clustering_distance_cols=\"euclidean\",\n",
    "    #          clustering_distance_rows=\"euclidean\",\n",
    "    #          cluster_cols=hc,\n",
    "    #          cluster_rows=hr,\n",
    "    #          clustering_distance_rows=\"euclidean\",\n",
    "    #          clustering_method=\"complete\",\n",
    "             treeheight_row=0,\n",
    "            treeheight_col= 15,\n",
    "\n",
    "             # Misc.\n",
    "             border_color=NA,\n",
    "            legend=FALSE,\n",
    "            annotation_legend=FALSE\n",
    "            ) \n",
    "    # dev.off()\n",
    "\n",
    "\n",
    "\n",
    "\n",
    "    return(heatmap_plt)\n",
    "\n",
    "        }"
   ]
  },
  {
   "cell_type": "code",
   "execution_count": 4,
   "id": "34ba36ce-7e82-4f86-afd5-bd3cbd327fbf",
   "metadata": {},
   "outputs": [
    {
     "data": {
      "text/html": [
       "60708"
      ],
      "text/latex": [
       "60708"
      ],
      "text/markdown": [
       "60708"
      ],
      "text/plain": [
       "[1] 60708"
      ]
     },
     "metadata": {},
     "output_type": "display_data"
    },
    {
     "data": {
      "text/html": [
       "56634"
      ],
      "text/latex": [
       "56634"
      ],
      "text/markdown": [
       "56634"
      ],
      "text/plain": [
       "[1] 56634"
      ]
     },
     "metadata": {},
     "output_type": "display_data"
    }
   ],
   "source": [
    "##------------------------------------\n",
    "# Read ftcount matrix\n",
    "raw_ftcount <- read.delim(\"../1_sample-data/wbrna_ftcounts.txt\",row.names = 1)\n",
    "nrow(raw_ftcount)\n",
    "\n",
    "##------------------------------------\n",
    "# Remove ChrX, ChrY, ChrM, and RB genes\n",
    "gene.list <- read.delim(\"../0_support-files/genelist.hs.tsv\",col.names = c(\"type,\",\"ENSMBL\",\"gene_symbol\"))\n",
    "\n",
    "gene.ids <- gsub(\"\\\\..*\",\"\",rownames(raw_ftcount))\n",
    "\n",
    "exclude.idx <- as.character(gene.ids) %in% as.character(gene.list[,2])\n",
    "\n",
    "raw_ftcount = raw_ftcount[!exclude.idx,]  \n",
    "\n",
    "##------------------------------------\n",
    "# subset\n",
    "raw_ftcount <- raw_ftcount[,colSums(raw_ftcount) > 0]\n",
    "\n",
    "cpm_ftcount <- edgeR::cpm(raw_ftcount)\n",
    "\n",
    "nrow(cpm_ftcount)"
   ]
  },
  {
   "cell_type": "code",
   "execution_count": 5,
   "id": "815d4659-4d1a-4568-95d1-9f38ff5144ef",
   "metadata": {},
   "outputs": [],
   "source": [
    "SIG_THRESH = 0.01\n",
    "FC_THRESH = 1.5\n",
    "\n",
    "# SIG_THRESH = 0.05\n",
    "# FC_THRESH = 0\n",
    "\n",
    "ANNOTATIONS <- c(\"Diagnosis\",\"severity\")\n",
    "\n",
    "WIDTH = 1.6\n",
    "HEIGHT = 2.6\n",
    "\n",
    "RES = 300"
   ]
  },
  {
   "cell_type": "markdown",
   "id": "629dd00e-a27d-4c2d-8704-4ea975e2a61f",
   "metadata": {},
   "source": [
    "## Make the heatmaps"
   ]
  },
  {
   "cell_type": "code",
   "execution_count": 9,
   "id": "3b89d659-ed4f-43b8-9870-2f8bb2efbc5d",
   "metadata": {},
   "outputs": [
    {
     "name": "stderr",
     "output_type": "stream",
     "text": [
      "`use_raster` is automatically set to TRUE for a matrix with more than\n",
      "2000 rows. You can control `use_raster` argument by explicitly setting\n",
      "TRUE/FALSE to it.\n",
      "\n",
      "Set `ht_opt$message = FALSE` to turn off this message.\n",
      "\n",
      "'magick' package is suggested to install to give better rasterization.\n",
      "\n",
      "Set `ht_opt$message = FALSE` to turn off this message.\n",
      "\n"
     ]
    }
   ],
   "source": [
    "covid_control_labs_plt <- create_heatmap(covid_control_labs,c(\"COVID-19\",\"Control_Non-inflammatory\"),cpm_ftcount,meta_data_all)\n",
    "misc_control_labs_plt <- create_heatmap(misc_control_labs,c(\"MIS-C\",\"Control_Non-inflammatory\"),cpm_ftcount,meta_data_all)\n",
    "misc_covid_labs_plt <- create_heatmap(misc_covid_labs,c(\"MIS-C\",\"COVID-19\"),cpm_ftcount,meta_data_all)"
   ]
  },
  {
   "cell_type": "code",
   "execution_count": 7,
   "id": "b10dd8cc-ed9c-49cf-ac2c-8ff937597557",
   "metadata": {},
   "outputs": [],
   "source": [
    "suppressMessages(require(pheatmap))\n",
    "suppressMessages(require(RColorBrewer))\n",
    "suppressMessages(require(dendextend))\n",
    "suppressMessages(require(ComplexHeatmap))\n",
    "suppressMessages(require(circlize))\n",
    "\n"
   ]
  },
  {
   "cell_type": "code",
   "execution_count": 10,
   "id": "b39d0f6e-889a-48c6-9413-532ef5d42004",
   "metadata": {},
   "outputs": [
    {
     "data": {
      "text/html": [
       "<strong>png:</strong> 2"
      ],
      "text/latex": [
       "\\textbf{png:} 2"
      ],
      "text/markdown": [
       "**png:** 2"
      ],
      "text/plain": [
       "png \n",
       "  2 "
      ]
     },
     "metadata": {},
     "output_type": "display_data"
    },
    {
     "data": {
      "text/html": [
       "<strong>png:</strong> 2"
      ],
      "text/latex": [
       "\\textbf{png:} 2"
      ],
      "text/markdown": [
       "**png:** 2"
      ],
      "text/plain": [
       "png \n",
       "  2 "
      ]
     },
     "metadata": {},
     "output_type": "display_data"
    },
    {
     "data": {
      "text/html": [
       "<strong>png:</strong> 2"
      ],
      "text/latex": [
       "\\textbf{png:} 2"
      ],
      "text/markdown": [
       "**png:** 2"
      ],
      "text/plain": [
       "png \n",
       "  2 "
      ]
     },
     "metadata": {},
     "output_type": "display_data"
    }
   ],
   "source": [
    "##------------------------------------\n",
    "# SAVE HEATMAP OBJECT\n",
    "\n",
    "prefix = \"covid-control\"\n",
    "       \n",
    "png(file=paste0(\"plots/SupPanelE_\",prefix,\".png\"),\n",
    "        width=WIDTH,height=HEIGHT, units =\"in\", bg=\"white\", res = RES, #useRaster = TRUE,\n",
    "        fonts=\"Helvetica\",  pointsize=6)\n",
    "\n",
    "# pdf(file=paste0(\"plots/\",prefix,\".heatmap.cfrna.pdf\"),\n",
    "#         width=WIDTH,height=HEIGHT, paper=\"special\", bg=\"transparent\",\n",
    "#         fonts=\"Helvetica\", colormodel = \"srgb\", pointsize=6, useDingbats = FALSE)\n",
    "\n",
    "draw(covid_control_labs_plt,show_heatmap_legend=FALSE,padding = unit(0.25,\"mm\"))\n",
    "\n",
    "dev.off()\n",
    "\n",
    "##------------------------------------\n",
    "# SAVE HEATMAP OBJECT\n",
    "\n",
    "prefix = \"misc-control\"\n",
    "\n",
    "png(file=paste0(\"plots/SupPanelE_\",prefix,\".png\"),\n",
    "        width=WIDTH,height=HEIGHT, units =\"in\", bg=\"white\", res = RES, #useRaster = TRUE,\n",
    "        fonts=\"Helvetica\",  pointsize=6)\n",
    "\n",
    "# pdf(file=paste0(\"plots/\",prefix,\".heatmap.cfrna.pdf\"),\n",
    "#         width=WIDTH,height=HEIGHT, paper=\"special\", bg=\"transparent\",\n",
    "#         fonts=\"Helvetica\", colormodel = \"srgb\", pointsize=6, useDingbats = FALSE)\n",
    "\n",
    "draw(misc_control_labs_plt,show_heatmap_legend=FALSE,padding = unit(0.25,\"mm\"))\n",
    "\n",
    "dev.off()\n",
    "\n",
    "##------------------------------------\n",
    "# SAVE HEATMAP OBJECT\n",
    "\n",
    "prefix = \"misc-covid\"\n",
    "\n",
    "png(file=paste0(\"plots/SupPanelE_\",prefix,\".png\"),\n",
    "        width=WIDTH,height=HEIGHT, units =\"in\", bg=\"white\", res = RES, #useRaster = TRUE,\n",
    "        fonts=\"Helvetica\",  pointsize=6)\n",
    "\n",
    "# pdf(file=paste0(\"plots/\",prefix,\".heatmap.cfrna.pdf\"),\n",
    "#         width=WIDTH,height=HEIGHT, paper=\"special\", bg=\"transparent\",\n",
    "#         fonts=\"Helvetica\", colormodel = \"srgb\", pointsize=6, useDingbats = FALSE)\n",
    "\n",
    "draw(misc_covid_labs_plt,show_heatmap_legend=FALSE,padding = unit(0.25,\"mm\"))\n",
    "\n",
    "dev.off()"
   ]
  },
  {
   "cell_type": "code",
   "execution_count": null,
   "id": "3d0c43fc-38b8-48b0-b0fb-1f3e8bac7a36",
   "metadata": {},
   "outputs": [],
   "source": []
  }
 ],
 "metadata": {
  "kernelspec": {
   "display_name": "R",
   "language": "R",
   "name": "ir"
  },
  "language_info": {
   "codemirror_mode": "r",
   "file_extension": ".r",
   "mimetype": "text/x-r-source",
   "name": "R",
   "pygments_lexer": "r",
   "version": "4.1.1"
  }
 },
 "nbformat": 4,
 "nbformat_minor": 5
}
