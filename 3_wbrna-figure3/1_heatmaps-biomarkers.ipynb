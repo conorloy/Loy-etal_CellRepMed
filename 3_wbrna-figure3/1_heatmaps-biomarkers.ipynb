{
 "cells": [
  {
   "cell_type": "code",
   "execution_count": 1,
   "id": "0bc7302c-a129-4bcf-b6c0-c092c0fc548e",
   "metadata": {
    "vscode": {
     "languageId": "r"
    }
   },
   "outputs": [],
   "source": [
    "suppressMessages(require(tidyverse))\n",
    "suppressMessages(library(DESeq2))\n",
    "\n",
    "suppressMessages(require(pheatmap))\n",
    "suppressMessages(require(RColorBrewer))\n",
    "suppressMessages(require(dendextend))\n",
    "suppressMessages(require(ComplexHeatmap))\n",
    "suppressMessages(require(circlize))\n",
    "\n",
    "suppressMessages(library(data.table))\n",
    "\n",
    "\n",
    "suppressMessages(library(rstatix))\n",
    "suppressMessages(library(ggpubr))\n",
    "\n",
    "suppressMessages(library(grid))\n",
    "suppressMessages(library(gridExtra))\n",
    "\n",
    "source(\"../0_support-files/theme_CRP-MISC.R\")\n",
    "\n",
    "annotation <- fread(file=\"../0_support-files/gencode.biotype.name.key.tsv\") %>% mutate(gene_key = paste0(gene_id ,\"_\", gene_name))\n",
    "\n"
   ]
  },
  {
   "cell_type": "code",
   "execution_count": 2,
   "id": "369b7fbc-2e31-47bc-af2a-b4e296e1c437",
   "metadata": {
    "vscode": {
     "languageId": "r"
    }
   },
   "outputs": [
    {
     "data": {
      "text/html": [
       "60708"
      ],
      "text/latex": [
       "60708"
      ],
      "text/markdown": [
       "60708"
      ],
      "text/plain": [
       "[1] 60708"
      ]
     },
     "metadata": {},
     "output_type": "display_data"
    },
    {
     "data": {
      "text/html": [
       "56622"
      ],
      "text/latex": [
       "56622"
      ],
      "text/markdown": [
       "56622"
      ],
      "text/plain": [
       "[1] 56622"
      ]
     },
     "metadata": {},
     "output_type": "display_data"
    },
    {
     "data": {
      "text/html": [
       "<table class=\"dataframe\">\n",
       "<caption>A matrix: 6 × 208 of type dbl</caption>\n",
       "<thead>\n",
       "\t<tr><th></th><th scope=col>PV351</th><th scope=col>PV352</th><th scope=col>PV353</th><th scope=col>PV358</th><th scope=col>PV359</th><th scope=col>PV364</th><th scope=col>PV354</th><th scope=col>PV357</th><th scope=col>PV360</th><th scope=col>PV365</th><th scope=col>⋯</th><th scope=col>PV41</th><th scope=col>PV31</th><th scope=col>PV33</th><th scope=col>PV9</th><th scope=col>PV42</th><th scope=col>PV338</th><th scope=col>PV335</th><th scope=col>PV334</th><th scope=col>PV340</th><th scope=col>PV336</th></tr>\n",
       "</thead>\n",
       "<tbody>\n",
       "\t<tr><th scope=row>ENSG00000000419.14_DPM1</th><td> 35.498982</td><td> 33.203382</td><td> 32.165358</td><td> 31.897127</td><td> 37.551375</td><td> 32.018252</td><td> 22.085542</td><td> 35.625051</td><td> 24.989185</td><td> 34.601058</td><td>⋯</td><td> 25.0876874</td><td> 45.16244</td><td> 23.187441</td><td> 33.255753</td><td> 28.56990</td><td> 50.79765</td><td> 15.908241</td><td> 27.1536041</td><td> 43.316733</td><td> 66.013473</td></tr>\n",
       "\t<tr><th scope=row>ENSG00000000457.14_SCYL3</th><td> 22.088255</td><td> 14.884275</td><td>  6.992469</td><td>  7.974282</td><td> 11.179417</td><td>  6.800337</td><td>  7.794897</td><td>  6.785724</td><td>  1.298139</td><td>  3.615036</td><td>⋯</td><td> 12.7429524</td><td>  0.00000</td><td> 13.639671</td><td> 12.959963</td><td> 10.25586</td><td> 16.51703</td><td>  0.000000</td><td>  6.8961534</td><td> 16.614637</td><td> 16.637542</td></tr>\n",
       "\t<tr><th scope=row>ENSG00000000460.17_C1orf112</th><td>  5.522064</td><td>  2.289888</td><td>  4.545105</td><td>  9.113465</td><td>  6.879641</td><td>  1.983432</td><td>  1.732199</td><td> 10.178586</td><td> 15.253139</td><td> 12.394409</td><td>⋯</td><td>  8.7607797</td><td>  0.00000</td><td>  2.727934</td><td> 10.759214</td><td> 10.98842</td><td> 10.59583</td><td>  7.954121</td><td>  4.7411055</td><td>  6.527179</td><td>  4.293559</td></tr>\n",
       "\t<tr><th scope=row>ENSG00000000938.13_FGR</th><td>531.695857</td><td>776.272176</td><td>483.878862</td><td>436.307133</td><td>474.408595</td><td>820.290618</td><td>372.422866</td><td>116.205525</td><td>221.332780</td><td>356.339249</td><td>⋯</td><td>359.9884039</td><td>935.23894</td><td>546.950817</td><td>423.766322</td><td>408.03679</td><td>593.98967</td><td>454.975700</td><td>558.5884264</td><td>780.887946</td><td>585.534140</td></tr>\n",
       "\t<tr><th scope=row>ENSG00000000971.16_CFH</th><td>  0.000000</td><td>  0.000000</td><td>  0.000000</td><td>  0.000000</td><td>  1.146607</td><td>  1.983432</td><td>  0.000000</td><td>  0.000000</td><td>  0.000000</td><td>  0.000000</td><td>⋯</td><td>  0.7964345</td><td>  0.00000</td><td>  0.000000</td><td>  1.956221</td><td>  0.00000</td><td>  4.67463</td><td>  0.000000</td><td>  0.4310096</td><td>  0.000000</td><td>  2.683475</td></tr>\n",
       "\t<tr><th scope=row>ENSG00000001036.14_FUCA2</th><td>  5.522064</td><td>  4.579777</td><td> 14.684185</td><td>  5.695916</td><td>  5.446383</td><td>  7.650379</td><td> 12.558445</td><td> 15.267879</td><td>  5.517093</td><td> 20.140914</td><td>⋯</td><td> 10.3536488</td><td> 16.93592</td><td>  4.091901</td><td> 22.741066</td><td> 10.25586</td><td> 13.08896</td><td>  3.181648</td><td>  7.3271630</td><td>  4.747039</td><td> 31.128304</td></tr>\n",
       "</tbody>\n",
       "</table>\n"
      ],
      "text/latex": [
       "A matrix: 6 × 208 of type dbl\n",
       "\\begin{tabular}{r|lllllllllllllllllllll}\n",
       "  & PV351 & PV352 & PV353 & PV358 & PV359 & PV364 & PV354 & PV357 & PV360 & PV365 & ⋯ & PV41 & PV31 & PV33 & PV9 & PV42 & PV338 & PV335 & PV334 & PV340 & PV336\\\\\n",
       "\\hline\n",
       "\tENSG00000000419.14\\_DPM1 &  35.498982 &  33.203382 &  32.165358 &  31.897127 &  37.551375 &  32.018252 &  22.085542 &  35.625051 &  24.989185 &  34.601058 & ⋯ &  25.0876874 &  45.16244 &  23.187441 &  33.255753 &  28.56990 &  50.79765 &  15.908241 &  27.1536041 &  43.316733 &  66.013473\\\\\n",
       "\tENSG00000000457.14\\_SCYL3 &  22.088255 &  14.884275 &   6.992469 &   7.974282 &  11.179417 &   6.800337 &   7.794897 &   6.785724 &   1.298139 &   3.615036 & ⋯ &  12.7429524 &   0.00000 &  13.639671 &  12.959963 &  10.25586 &  16.51703 &   0.000000 &   6.8961534 &  16.614637 &  16.637542\\\\\n",
       "\tENSG00000000460.17\\_C1orf112 &   5.522064 &   2.289888 &   4.545105 &   9.113465 &   6.879641 &   1.983432 &   1.732199 &  10.178586 &  15.253139 &  12.394409 & ⋯ &   8.7607797 &   0.00000 &   2.727934 &  10.759214 &  10.98842 &  10.59583 &   7.954121 &   4.7411055 &   6.527179 &   4.293559\\\\\n",
       "\tENSG00000000938.13\\_FGR & 531.695857 & 776.272176 & 483.878862 & 436.307133 & 474.408595 & 820.290618 & 372.422866 & 116.205525 & 221.332780 & 356.339249 & ⋯ & 359.9884039 & 935.23894 & 546.950817 & 423.766322 & 408.03679 & 593.98967 & 454.975700 & 558.5884264 & 780.887946 & 585.534140\\\\\n",
       "\tENSG00000000971.16\\_CFH &   0.000000 &   0.000000 &   0.000000 &   0.000000 &   1.146607 &   1.983432 &   0.000000 &   0.000000 &   0.000000 &   0.000000 & ⋯ &   0.7964345 &   0.00000 &   0.000000 &   1.956221 &   0.00000 &   4.67463 &   0.000000 &   0.4310096 &   0.000000 &   2.683475\\\\\n",
       "\tENSG00000001036.14\\_FUCA2 &   5.522064 &   4.579777 &  14.684185 &   5.695916 &   5.446383 &   7.650379 &  12.558445 &  15.267879 &   5.517093 &  20.140914 & ⋯ &  10.3536488 &  16.93592 &   4.091901 &  22.741066 &  10.25586 &  13.08896 &   3.181648 &   7.3271630 &   4.747039 &  31.128304\\\\\n",
       "\\end{tabular}\n"
      ],
      "text/markdown": [
       "\n",
       "A matrix: 6 × 208 of type dbl\n",
       "\n",
       "| <!--/--> | PV351 | PV352 | PV353 | PV358 | PV359 | PV364 | PV354 | PV357 | PV360 | PV365 | ⋯ | PV41 | PV31 | PV33 | PV9 | PV42 | PV338 | PV335 | PV334 | PV340 | PV336 |\n",
       "|---|---|---|---|---|---|---|---|---|---|---|---|---|---|---|---|---|---|---|---|---|---|\n",
       "| ENSG00000000419.14_DPM1 |  35.498982 |  33.203382 |  32.165358 |  31.897127 |  37.551375 |  32.018252 |  22.085542 |  35.625051 |  24.989185 |  34.601058 | ⋯ |  25.0876874 |  45.16244 |  23.187441 |  33.255753 |  28.56990 |  50.79765 |  15.908241 |  27.1536041 |  43.316733 |  66.013473 |\n",
       "| ENSG00000000457.14_SCYL3 |  22.088255 |  14.884275 |   6.992469 |   7.974282 |  11.179417 |   6.800337 |   7.794897 |   6.785724 |   1.298139 |   3.615036 | ⋯ |  12.7429524 |   0.00000 |  13.639671 |  12.959963 |  10.25586 |  16.51703 |   0.000000 |   6.8961534 |  16.614637 |  16.637542 |\n",
       "| ENSG00000000460.17_C1orf112 |   5.522064 |   2.289888 |   4.545105 |   9.113465 |   6.879641 |   1.983432 |   1.732199 |  10.178586 |  15.253139 |  12.394409 | ⋯ |   8.7607797 |   0.00000 |   2.727934 |  10.759214 |  10.98842 |  10.59583 |   7.954121 |   4.7411055 |   6.527179 |   4.293559 |\n",
       "| ENSG00000000938.13_FGR | 531.695857 | 776.272176 | 483.878862 | 436.307133 | 474.408595 | 820.290618 | 372.422866 | 116.205525 | 221.332780 | 356.339249 | ⋯ | 359.9884039 | 935.23894 | 546.950817 | 423.766322 | 408.03679 | 593.98967 | 454.975700 | 558.5884264 | 780.887946 | 585.534140 |\n",
       "| ENSG00000000971.16_CFH |   0.000000 |   0.000000 |   0.000000 |   0.000000 |   1.146607 |   1.983432 |   0.000000 |   0.000000 |   0.000000 |   0.000000 | ⋯ |   0.7964345 |   0.00000 |   0.000000 |   1.956221 |   0.00000 |   4.67463 |   0.000000 |   0.4310096 |   0.000000 |   2.683475 |\n",
       "| ENSG00000001036.14_FUCA2 |   5.522064 |   4.579777 |  14.684185 |   5.695916 |   5.446383 |   7.650379 |  12.558445 |  15.267879 |   5.517093 |  20.140914 | ⋯ |  10.3536488 |  16.93592 |   4.091901 |  22.741066 |  10.25586 |  13.08896 |   3.181648 |   7.3271630 |   4.747039 |  31.128304 |\n",
       "\n"
      ],
      "text/plain": [
       "                            PV351      PV352      PV353      PV358     \n",
       "ENSG00000000419.14_DPM1      35.498982  33.203382  32.165358  31.897127\n",
       "ENSG00000000457.14_SCYL3     22.088255  14.884275   6.992469   7.974282\n",
       "ENSG00000000460.17_C1orf112   5.522064   2.289888   4.545105   9.113465\n",
       "ENSG00000000938.13_FGR      531.695857 776.272176 483.878862 436.307133\n",
       "ENSG00000000971.16_CFH        0.000000   0.000000   0.000000   0.000000\n",
       "ENSG00000001036.14_FUCA2      5.522064   4.579777  14.684185   5.695916\n",
       "                            PV359      PV364      PV354      PV357     \n",
       "ENSG00000000419.14_DPM1      37.551375  32.018252  22.085542  35.625051\n",
       "ENSG00000000457.14_SCYL3     11.179417   6.800337   7.794897   6.785724\n",
       "ENSG00000000460.17_C1orf112   6.879641   1.983432   1.732199  10.178586\n",
       "ENSG00000000938.13_FGR      474.408595 820.290618 372.422866 116.205525\n",
       "ENSG00000000971.16_CFH        1.146607   1.983432   0.000000   0.000000\n",
       "ENSG00000001036.14_FUCA2      5.446383   7.650379  12.558445  15.267879\n",
       "                            PV360      PV365      ⋯ PV41        PV31     \n",
       "ENSG00000000419.14_DPM1      24.989185  34.601058 ⋯  25.0876874  45.16244\n",
       "ENSG00000000457.14_SCYL3      1.298139   3.615036 ⋯  12.7429524   0.00000\n",
       "ENSG00000000460.17_C1orf112  15.253139  12.394409 ⋯   8.7607797   0.00000\n",
       "ENSG00000000938.13_FGR      221.332780 356.339249 ⋯ 359.9884039 935.23894\n",
       "ENSG00000000971.16_CFH        0.000000   0.000000 ⋯   0.7964345   0.00000\n",
       "ENSG00000001036.14_FUCA2      5.517093  20.140914 ⋯  10.3536488  16.93592\n",
       "                            PV33       PV9        PV42      PV338    \n",
       "ENSG00000000419.14_DPM1      23.187441  33.255753  28.56990  50.79765\n",
       "ENSG00000000457.14_SCYL3     13.639671  12.959963  10.25586  16.51703\n",
       "ENSG00000000460.17_C1orf112   2.727934  10.759214  10.98842  10.59583\n",
       "ENSG00000000938.13_FGR      546.950817 423.766322 408.03679 593.98967\n",
       "ENSG00000000971.16_CFH        0.000000   1.956221   0.00000   4.67463\n",
       "ENSG00000001036.14_FUCA2      4.091901  22.741066  10.25586  13.08896\n",
       "                            PV335      PV334       PV340      PV336     \n",
       "ENSG00000000419.14_DPM1      15.908241  27.1536041  43.316733  66.013473\n",
       "ENSG00000000457.14_SCYL3      0.000000   6.8961534  16.614637  16.637542\n",
       "ENSG00000000460.17_C1orf112   7.954121   4.7411055   6.527179   4.293559\n",
       "ENSG00000000938.13_FGR      454.975700 558.5884264 780.887946 585.534140\n",
       "ENSG00000000971.16_CFH        0.000000   0.4310096   0.000000   2.683475\n",
       "ENSG00000001036.14_FUCA2      3.181648   7.3271630   4.747039  31.128304"
      ]
     },
     "metadata": {},
     "output_type": "display_data"
    }
   ],
   "source": [
    "covid_control <- read.delim(\"./tables/wb_covid-cntrl_all_DESeq.tsv\") %>% mutate(gene_id = GeneID)\n",
    "misc_control <- read.delim(\"./tables/wb_misc-control_all_DESeq.tsv\") %>% mutate(gene_id = GeneID)\n",
    "misc_covid <- read.delim(\"./tables/wb_misc-covid_all_DESeq.tsv\") %>% mutate(gene_id = GeneID)\n",
    "\n",
    "\n",
    "### Read in metadata\n",
    "meta_data_all <- read.delim(\"../1_sample-data/STable7_wbrna-samples.tsv\")\n",
    "meta_data_all[is.na(meta_data_all$ivig_rel_samp),\"ivig_rel_samp\"] <- \"noivig\"\n",
    "\n",
    "### Read ftcount matrix\n",
    "raw_ftcount <- read.delim(\"../1_sample-data/wbrna_ftcounts.txt\",row.names = 1)\n",
    "nrow(raw_ftcount)\n",
    "\n",
    "### Read gene list to remove\n",
    "gene.list <- read.delim(\"../0_support-files/genelist.remove.tsv\",col.names = c(\"type,\",\"ENSMBL\",\"gene_symbol\"))\n",
    "gene.ids <- gsub(\"\\\\..*\",\"\",rownames(raw_ftcount))\n",
    "\n",
    "### Subset count matrix\n",
    "exclude.idx <- gene.ids %in% gene.list[,2]\n",
    "raw_ftcount = raw_ftcount[!exclude.idx,]          \n",
    "\n",
    "nrow(raw_ftcount)\n",
    "\n",
    "raw_ftcount <- raw_ftcount[,colSums(raw_ftcount) > 0]\n",
    "\n",
    "cpm_ftcount <- edgeR::cpm(raw_ftcount)\n",
    "head(cpm_ftcount)"
   ]
  },
  {
   "attachments": {},
   "cell_type": "markdown",
   "id": "c761a061-4f6b-4e72-a6d1-b9648af32fe0",
   "metadata": {
    "jp-MarkdownHeadingCollapsed": true,
    "tags": []
   },
   "source": [
    "---\n",
    "## Heatmaps"
   ]
  },
  {
   "attachments": {},
   "cell_type": "markdown",
   "id": "22d51411-49b0-4adf-8a6f-def540b6f32f",
   "metadata": {
    "tags": []
   },
   "source": [
    "#### _Functions_"
   ]
  },
  {
   "cell_type": "code",
   "execution_count": 3,
   "id": "7f825b51-7218-49d4-9365-06d31e8011ef",
   "metadata": {
    "vscode": {
     "languageId": "r"
    }
   },
   "outputs": [],
   "source": [
    "create_heatmap <- function(res,groups,cpm,meta_data) {\n",
    "    \n",
    "    ANNOTATIONS = c(\"Diagnosis\",\"severity\",'group','ivig_rel_samp')\n",
    "\n",
    "    \n",
    "    ###----------------------------------\n",
    "    ## Extract significant genes\n",
    "    sig_genes <- data.frame(res) %>% filter(padj < SIG_THRESH & abs(log2FoldChange) > FC_THRESH) %>% pull(gene_id)\n",
    "    print(length(sig_genes))\n",
    "\n",
    "    ###----------------------------------\n",
    "    ## Subset metadata \n",
    "    metadata <- meta_data %>% \n",
    "        filter((Diagnosis %in% all_of(groups)) & (timepoint %in% c(\"Not-hospitalized\",\"acute\"))) %>% \n",
    "        column_to_rownames(var = \"wbrna_sample_id\") %>%  \n",
    "        mutate(severity = ifelse(grepl(\"ontrol\",severity),NA,severity)) %>%\n",
    "        select(all_of(ANNOTATIONS))\n",
    "\n",
    "    colnames(metadata) <- c(\"Diagnosis\",\"Severity\",\"group\",\"IVIG\")\n",
    "\n",
    "    ###----------------------------------\n",
    "    ## Subset count matrix\n",
    "    mat <- data.frame(cpm) %>% \n",
    "            filter(row.names(cpm) %in% all_of(sig_genes)) %>% \n",
    "            select(all_of(rownames(metadata))) %>% \n",
    "            as.matrix()\n",
    "\n",
    "    mat <- t(scale(t(mat)))\n",
    "\n",
    "    ###----------------------------------\n",
    "    ## Colors\n",
    "    color = colorRampPalette(c(\"blue\",\"yellow\"))(50)\n",
    "    breaksList = seq(-2, +2, length = 51)\n",
    "\n",
    "    #color_groups = c('COVID-19\\ndiscovery' = '#c1272d', 'MIS-C\\ndiscovery' = '#0000a7', 'Control_Non-inflammatory\\ndiscovery' = '#eecc16',\"MIS-C\\nvalidation\" = '#008176')\n",
    "    \n",
    "    my_colour <- list(\n",
    "    Diagnosis = c('COVID-19' = '#F0484E', 'MIS-C' = '#5CB2EB', 'Control_Non-inflammatory' = '#FBE77C'), #\"MISC_acute_validation\" = '#00FFFF'),\n",
    "    Severity = c(\"-1\" = \"white\", \"0\" = \"white\", \"2\" = \"#efe5d7\", \"3\" = \"#bc8e52\"),\n",
    "    group = c(\"validation\" = \"orange\", \"discovery\" = \"light blue\", \"UCSF\" = \"light blue\"),\n",
    "    IVIG = c(\"after\" = \"maroon\", \"before\" = \"darkseagreen2\", \"concurrent with\" = \"dark blue\",\"noivig\"=\"white\")#, \"forest green\"\n",
    "    # PCR = c(\"1\" = \"green\", \"2\" = \"blue\"),\n",
    "    # Antibody =c(\"1\" = \"green\", \"2\" = \"blue\")\n",
    "    )\n",
    "\n",
    "    ###----------------------------------\n",
    "    ## Plot\n",
    "\n",
    "    # pdf(\"./tmp.pdf\")\n",
    "    heatmap_plt <- pheatmap(mat,\n",
    "\n",
    "             # Colors\n",
    "             col=color,\n",
    "             breaks=breaksList, \n",
    "             annotation_col=metadata,\n",
    "             annotation_colors=my_colour,\n",
    "             na_col = \"#FFFFFF\",\n",
    "\n",
    "             # Fonts\n",
    "             show_colnames=F,\n",
    "             show_rownames=F,\n",
    "             fontsize=12,\n",
    "             fontsize_col=3,\n",
    "             annotation_names_col=F,\n",
    "             annotation_names_row=F,\n",
    "\n",
    "             # Clustering\n",
    "\n",
    "             clustering_distance_cols=\"correlation\",\n",
    "             clustering_distance_rows=\"correlation\", \n",
    "    #          clustering_distance_cols=\"euclidean\",\n",
    "    #          clustering_distance_rows=\"euclidean\",\n",
    "    #          cluster_cols=hc,\n",
    "    #          cluster_rows=hr,\n",
    "    #          clustering_distance_rows=\"euclidean\",\n",
    "    #          clustering_method=\"complete\",\n",
    "             treeheight_row=0,\n",
    "            treeheight_col= 15,\n",
    "\n",
    "             # Misc.\n",
    "             border_color=NA,\n",
    "            legend=FALSE,\n",
    "            annotation_legend=FALSE\n",
    "            ) \n",
    "    # dev.off()\n",
    "\n",
    "\n",
    "\n",
    "\n",
    "    return(heatmap_plt)\n",
    "\n",
    "        }"
   ]
  },
  {
   "cell_type": "code",
   "execution_count": 4,
   "id": "30ecf482-4200-4e5a-8f2c-ddb940b82a8a",
   "metadata": {
    "vscode": {
     "languageId": "r"
    }
   },
   "outputs": [],
   "source": [
    "SIG_THRESH = 0.01\n",
    "FC_THRESH = 1.5\n",
    "\n",
    "# SIG_THRESH = 0.05\n",
    "# FC_THRESH = 0\n",
    "\n",
    "ANNOTATIONS <- c(\"Diagnosis\",\"severity\")"
   ]
  },
  {
   "cell_type": "code",
   "execution_count": 5,
   "id": "b7f5c829-eb8d-47f4-b89e-31a944e3ee33",
   "metadata": {
    "vscode": {
     "languageId": "r"
    }
   },
   "outputs": [
    {
     "name": "stdout",
     "output_type": "stream",
     "text": [
      "[1] 1097\n",
      "[1] 2024\n"
     ]
    },
    {
     "name": "stderr",
     "output_type": "stream",
     "text": [
      "`use_raster` is automatically set to TRUE for a matrix with more than\n",
      "2000 rows. You can control `use_raster` argument by explicitly setting\n",
      "TRUE/FALSE to it.\n",
      "\n",
      "Set `ht_opt$message = FALSE` to turn off this message.\n",
      "\n",
      "'magick' package is suggested to install to give better rasterization.\n",
      "\n",
      "Set `ht_opt$message = FALSE` to turn off this message.\n",
      "\n"
     ]
    },
    {
     "name": "stdout",
     "output_type": "stream",
     "text": [
      "[1] 84\n"
     ]
    }
   ],
   "source": [
    "\n",
    "covid_control_plt <- create_heatmap(covid_control,c(\"COVID-19\",\"Control_Non-inflammatory\"),cpm_ftcount,meta_data_all)\n",
    "\n",
    "\n",
    "misc_control_plt <- create_heatmap(misc_control,c(\"MIS-C\",\"Control_Non-inflammatory\"),cpm_ftcount,meta_data_all)\n",
    "\n",
    "\n",
    "misc_covid_plt <- create_heatmap(misc_covid,c(\"MIS-C\",\"COVID-19\"),cpm_ftcount,meta_data_all)"
   ]
  },
  {
   "cell_type": "code",
   "execution_count": 7,
   "id": "61e4ecd4-8efd-4f58-86e3-e23a8a50f116",
   "metadata": {
    "vscode": {
     "languageId": "r"
    }
   },
   "outputs": [
    {
     "data": {
      "text/html": [
       "<strong>png:</strong> 2"
      ],
      "text/latex": [
       "\\textbf{png:} 2"
      ],
      "text/markdown": [
       "**png:** 2"
      ],
      "text/plain": [
       "png \n",
       "  2 "
      ]
     },
     "metadata": {},
     "output_type": "display_data"
    },
    {
     "data": {
      "text/html": [
       "<strong>png:</strong> 2"
      ],
      "text/latex": [
       "\\textbf{png:} 2"
      ],
      "text/markdown": [
       "**png:** 2"
      ],
      "text/plain": [
       "png \n",
       "  2 "
      ]
     },
     "metadata": {},
     "output_type": "display_data"
    },
    {
     "data": {
      "text/html": [
       "<strong>png:</strong> 2"
      ],
      "text/latex": [
       "\\textbf{png:} 2"
      ],
      "text/markdown": [
       "**png:** 2"
      ],
      "text/plain": [
       "png \n",
       "  2 "
      ]
     },
     "metadata": {},
     "output_type": "display_data"
    }
   ],
   "source": [
    "WIDTH = 1.6\n",
    "HEIGHT = 2.6\n",
    "\n",
    "RES = 300\n",
    "\n",
    "##------------------------------------\n",
    "# SAVE HEATMAP OBJECT\n",
    "\n",
    "prefix = \"COVID19\"\n",
    "       \n",
    "png(file=\"plots/panelB_covid-control.png\",\n",
    "        width=WIDTH,height=HEIGHT, units =\"in\", bg=\"white\", res = RES, #useRaster = TRUE,\n",
    "        fonts=\"Helvetica\",  pointsize=6)\n",
    "\n",
    "# pdf(file=paste0(\"plots/\",prefix,\".heatmap.cfrna.pdf\"),\n",
    "#         width=WIDTH,height=HEIGHT, paper=\"special\", bg=\"transparent\",\n",
    "#         fonts=\"Helvetica\", colormodel = \"srgb\", pointsize=6, useDingbats = FALSE)\n",
    "\n",
    "draw(covid_control_plt,show_heatmap_legend=FALSE,padding = unit(0.25,\"mm\"))\n",
    "\n",
    "dev.off()\n",
    "\n",
    "##------------------------------------\n",
    "# SAVE HEATMAP OBJECT\n",
    "\n",
    "prefix = \"MISC\"\n",
    "\n",
    "png(file=\"plots/panelB_misc-control.png\",\n",
    "        width=WIDTH,height=HEIGHT, units =\"in\", bg=\"white\", res = RES, #useRaster = TRUE,\n",
    "        fonts=\"Helvetica\",  pointsize=6)\n",
    "\n",
    "# pdf(file=paste0(\"plots/\",prefix,\".heatmap.cfrna.pdf\"),\n",
    "#         width=WIDTH,height=HEIGHT, paper=\"special\", bg=\"transparent\",\n",
    "#         fonts=\"Helvetica\", colormodel = \"srgb\", pointsize=6, useDingbats = FALSE)\n",
    "\n",
    "draw(misc_control_plt,show_heatmap_legend=FALSE,padding = unit(0.25,\"mm\"))\n",
    "\n",
    "dev.off()\n",
    "\n",
    "##------------------------------------\n",
    "# SAVE HEATMAP OBJECT\n",
    "\n",
    "prefix = \"MISC_COVID19\"\n",
    "\n",
    "png(file=\"plots/panelB_misc-covid.png\",\n",
    "        width=WIDTH,height=HEIGHT, units =\"in\", bg=\"white\", res = RES, #useRaster = TRUE,\n",
    "        fonts=\"Helvetica\",  pointsize=6)\n",
    "\n",
    "# pdf(file=paste0(\"plots/\",prefix,\".heatmap.cfrna.pdf\"),\n",
    "#         width=WIDTH,height=HEIGHT, paper=\"special\", bg=\"transparent\",\n",
    "#         fonts=\"Helvetica\", colormodel = \"srgb\", pointsize=6, useDingbats = FALSE)\n",
    "\n",
    "draw(misc_covid_plt,show_heatmap_legend=FALSE,padding = unit(0.25,\"mm\"))\n",
    "\n",
    "dev.off()"
   ]
  },
  {
   "cell_type": "code",
   "execution_count": 32,
   "id": "53b69de1-c2ab-4d44-8caf-f5f3bae6ed2b",
   "metadata": {
    "vscode": {
     "languageId": "r"
    }
   },
   "outputs": [
    {
     "name": "stdout",
     "output_type": "stream",
     "text": [
      "[1] 487\n"
     ]
    },
    {
     "data": {
      "text/html": [
       "<strong>png:</strong> 2"
      ],
      "text/latex": [
       "\\textbf{png:} 2"
      ],
      "text/markdown": [
       "**png:** 2"
      ],
      "text/plain": [
       "png \n",
       "  2 "
      ]
     },
     "metadata": {},
     "output_type": "display_data"
    }
   ],
   "source": [
    "res1=covid_control\n",
    "res2=misc_control\n",
    "res3=misc_covid\n",
    "cpm=cpm_ftcount\n",
    "meta_data= meta_data_all\n",
    "groups = c(1,3,57,58,33,35,2,4,34,36,31)\n",
    "    \n",
    "ANNOTATIONS = c(\"Diagnosis\",\"severity\",'group')\n",
    "\n",
    "\n",
    "###----------------------------------\n",
    "## Extract significant genes\n",
    "\n",
    "N = 300\n",
    "\n",
    "sig_genes1 <- data.frame(res1) %>% filter(padj < SIG_THRESH & abs(log2FoldChange) > FC_THRESH) %>% arrange(desc(abs(log2FoldChange))) %>%\n",
    "head(N) %>% pull(gene_id)\n",
    "\n",
    "sig_genes2 <- data.frame(res2) %>% filter(padj < SIG_THRESH & abs(log2FoldChange) > FC_THRESH) %>% arrange(desc(abs(log2FoldChange))) %>%\n",
    "head(N) %>% pull(gene_id)\n",
    "\n",
    "sig_genes3 <- data.frame(res3) %>% filter(padj < SIG_THRESH & abs(log2FoldChange) > FC_THRESH) %>% arrange(desc(abs(log2FoldChange))) %>%\n",
    "head(N) %>% pull(gene_id)\n",
    "\n",
    "sig_genes <- union(sig_genes1,union(sig_genes2,sig_genes3))\n",
    "\n",
    "print(length(sig_genes))\n",
    "\n",
    "\n",
    "###----------------------------------\n",
    "## Subset metadata \n",
    "metadata <- meta_data %>% \n",
    "    # filter(sample_group %in% all_of(groups)) %>% \n",
    "    filter(timepoint == \"acute\" | Diagnosis == \"Control_Non-inflammatory\") %>%\n",
    "    # mutate(sample_group = factor(sample_group, levels = all_of(groups))) %>% \n",
    "    # arrange(sample_group) %>% \n",
    "    column_to_rownames(var = \"wbrna_sample_id\") %>%  \n",
    "    mutate(severity = ifelse(grepl(\"ontrol\",severity),NA,severity)) %>%\n",
    "    select(all_of(ANNOTATIONS))\n",
    "\n",
    "colnames(metadata) <- c(\"Diagnosis\",\"Severity\",\"group\")\n",
    "\n",
    "###----------------------------------\n",
    "## Subset count matrix\n",
    "mat <- data.frame(cpm) %>% \n",
    "        filter(row.names(cpm) %in% all_of(sig_genes)) %>% \n",
    "        select(all_of(rownames(metadata))) %>% \n",
    "        as.matrix()\n",
    "\n",
    "mat <- t(scale(t(mat)))\n",
    "\n",
    "mat <- mat[,rownames(metadata)]\n",
    "\n",
    "###----------------------------------\n",
    "## Colors\n",
    "color = colorRampPalette(c(\"blue\",\"yellow\"))(50)\n",
    "breaksList = seq(-2, +2, length = 51)\n",
    "\n",
    "#color_groups = c('COVID-19\\ndiscovery' = '#c1272d', 'MIS-C\\ndiscovery' = '#0000a7', 'Control_Non-inflammatory\\ndiscovery' = '#eecc16',\"MIS-C\\nvalidation\" = '#008176')\n",
    "\n",
    "my_colour <- list(\n",
    "Diagnosis = c('COVID-19' = '#F0484E', 'MIS-C' = '#5CB2EB', 'Control_Non-inflammatory' = '#FBE77C'), #\"MISC_acute_validation\" = '#00FFFF'),\n",
    "Severity = c(\"-1\" = \"white\", \"0\" = \"white\", \"2\" = \"#efe5d7\", \"3\" = \"#bc8e52\"),\n",
    "group = c(\"validation\" = \"orange\", \"discovery\" = \"light blue\",\"UCSF\" = \"light blue\") #,\n",
    "# PCR = c(\"1\" = \"green\", \"2\" = \"blue\"),\n",
    "# Antibody =c(\"1\" = \"green\", \"2\" = \"blue\")\n",
    ")\n",
    "\n",
    "###----------------------------------\n",
    "## Plot\n",
    "\n",
    "heatmap_plt_clust <- pheatmap(mat,\n",
    "\n",
    "         # Colors\n",
    "         col=color,\n",
    "         breaks=breaksList, \n",
    "         annotation_col=metadata,\n",
    "         annotation_colors=my_colour,\n",
    "         na_col = \"#FFFFFF\",\n",
    "\n",
    "         # Fonts\n",
    "         show_colnames=F,\n",
    "         show_rownames=F,\n",
    "         fontsize=12,\n",
    "         fontsize_col=3,\n",
    "         annotation_names_col=F,\n",
    "         annotation_names_row=F,\n",
    "\n",
    "         # Clustering\n",
    "\n",
    "         clustering_distance_cols=\"correlation\",\n",
    "         clustering_distance_rows=\"correlation\", \n",
    "         treeheight_row=0,\n",
    "        treeheight_col= 15,\n",
    "\n",
    "         # Misc.\n",
    "         border_color=NA,\n",
    "        legend=FALSE,\n",
    "        annotation_legend=FALSE\n",
    "        ) \n",
    "\n",
    "IDTH = 1.6\n",
    "HEIGHT = 2.6\n",
    "\n",
    "RES = 300\n",
    "\n",
    "\n",
    "prefix = \"ALL_CLUSTER\"\n",
    "\n",
    "png(file=\"plots/panelC_all.png\",\n",
    "        width=WIDTH,height=HEIGHT, units =\"in\", bg=\"white\", res = RES, #useRaster = TRUE,\n",
    "        fonts=\"Helvetica\",  pointsize=6)\n",
    "\n",
    "draw(heatmap_plt_clust,show_heatmap_legend=FALSE,padding = unit(0.25,\"mm\"))\n",
    "\n",
    "dev.off()\n",
    "\n"
   ]
  },
  {
   "cell_type": "code",
   "execution_count": 33,
   "id": "543ef244-738f-4d7a-a3b3-07b4f76dbcc6",
   "metadata": {
    "vscode": {
     "languageId": "r"
    }
   },
   "outputs": [
    {
     "data": {
      "text/html": [
       "<strong>png:</strong> 2"
      ],
      "text/latex": [
       "\\textbf{png:} 2"
      ],
      "text/markdown": [
       "**png:** 2"
      ],
      "text/plain": [
       "png \n",
       "  2 "
      ]
     },
     "metadata": {},
     "output_type": "display_data"
    }
   ],
   "source": [
    "pdf(file=\"plots/panelC_all.pdf\",\n",
    "        width=WIDTH,height=HEIGHT, paper=\"special\", bg=\"white\",\n",
    "        fonts=\"Helvetica\", colormodel = \"srgb\", pointsize=6, useDingbats = FALSE)\n",
    "\n",
    "draw(heatmap_plt_clust,show_heatmap_legend=FALSE,padding = unit(0.25,\"mm\"))\n",
    "\n",
    "dev.off()\n",
    "\n"
   ]
  },
  {
   "attachments": {},
   "cell_type": "markdown",
   "id": "f29ec8e1-dd9a-4a7d-b632-8febdfc3a903",
   "metadata": {
    "jp-MarkdownHeadingCollapsed": true,
    "tags": []
   },
   "source": [
    "---\n",
    "## Biomarkers"
   ]
  },
  {
   "cell_type": "code",
   "execution_count": 3,
   "id": "1fe4018f-3a3b-4f23-ba90-61d63abcad58",
   "metadata": {
    "vscode": {
     "languageId": "r"
    }
   },
   "outputs": [],
   "source": [
    "get_exp_plot <- function(GENE,meta_data,count_cpm,gene_lookup= annotation){\n",
    "    \n",
    "    samp_df <- data.frame(\"cfrna_sample_id\" = meta_data$cfrna_sample_id,\n",
    "                      \"Diagnosis\" = meta_data$Diagnosis,\n",
    "                     \"severity\" = meta_data$severity,\n",
    "                     \"group\" = meta_data$group)\n",
    "    \n",
    "    GENE <- gene_lookup[which(gene_lookup$gene_name == GENE),]$gene_id\n",
    "\n",
    "    samp_df <- merge(samp_df,count_cpm[,GENE],by.x=\"cfrna_sample_id\",by.y=0)\n",
    "\n",
    "    samp_df$plotting_name <- paste(samp_df$Diagnosis,samp_df$group,sep=\"\\n\")\n",
    "\n",
    "    samp_df$plotting_name <- factor(samp_df$plotting_name, levels = c(\"Control_Non-inflammatory\\ndiscovery\",\"COVID-19\\ndiscovery\",\"MIS-C\\ndiscovery\",\"MIS-C\\nvalidation\"))\n",
    "\n",
    "    samp_df %>%\n",
    "    ggplot(aes(x=plotting_name,y=y,fill=plotting_name))+\n",
    "    geom_boxplot(outlier.shape = NA)+\n",
    "    geom_jitter(height=0,width=0.2,size = 1)+\n",
    "    annotate(geom=\"text\",label=gsub(\".*_\",\"\",GENE),x=-Inf,y=Inf,hjust=-.1,vjust=1.25)+\n",
    "    scale_fill_manual(values=color_groups)+\n",
    "    theme_alex()+\n",
    "    theme(legend.position = \"none\",\n",
    "        axis.title.x = element_blank(),\n",
    "        panel.grid.minor = element_blank(),\n",
    "         plot.title = element_text(hjust = 0.5))+\n",
    "    labs(y=\"CPM\")+\n",
    "#     labs(y=\"TPM\",title=gsub(\".*\\\\_\",\"\",GENE))+\n",
    "    scale_x_discrete(guide = guide_axis(n.dodge = 2))\n",
    "}\n",
    "\n",
    "\n",
    "get_fig_plot <- function(GENE,meta_data,count_cpm,YLIM, gene_lookup= annotation, expGroupPalette=expGroupPalette){\n",
    "    \n",
    "    ##---------------------------------------\n",
    "    # PREPARE DATA\n",
    "    samp_df <- data.frame(\"cfrna_sample_id\" = meta_data$cfrna_sample_id,\n",
    "                      \"Diagnosis\" = meta_data$Diagnosis,\n",
    "                     \"severity\" = meta_data$severity,\n",
    "                        \"group\" = meta_data$group)\n",
    "    GENE_N <- GENE\n",
    "    GENE <- gene_lookup[which(gene_lookup$gene_name == GENE),]$gene_key\n",
    "\n",
    "    samp_df <- merge(samp_df,count_cpm[,GENE],by.x=\"cfrna_sample_id\",by.y=0)\n",
    "\n",
    "    samp_df$plotting_name <- samp_df$Diagnosis\n",
    "    \n",
    "    samp_df$plotting_name <- ifelse(samp_df$Diagnosis == \"MIS-C\" & samp_df$group == \"validation\",\"MIS-C_validation\",samp_df$plotting_name)\n",
    "\n",
    "    samp_df$plotting_name <- factor(samp_df$plotting_name, levels = c(\"Control_Non-inflammatory\",\"COVID-19\",\"MIS-C\",\"MIS-C_validation\")) #,\"MIS-C_validation\"\n",
    "    \n",
    "    ##---------------------------------------\n",
    "    # MAKE PLOT\n",
    "    PLOT <- samp_df %>%\n",
    "    ggplot(aes(x=plotting_name,y=y,color=plotting_name))+\n",
    "#     geom_jitter(height=0,width=0.2,size = .65, color=\"black\")+\n",
    "    geom_point(  size = .75, position = position_jitter(seed = 42,height=0,width=0.2))+ #colour=\"black\",pch=21,aes(fill=plotting_name),\n",
    "#     annotate(geom=\"text\",label=gsub(\".*_\",\"\",GENE_N),x=-Inf,y=Inf,hjust=-.1,vjust=1.25,size = 2)+\n",
    "    scale_color_manual(values=color_groups)+\n",
    "    theme_prevail()+\n",
    "    theme(legend.position = \"none\",\n",
    "        axis.title.x = element_blank(),\n",
    "        axis.title.y = element_blank(),\n",
    "        axis.text.x = element_blank(),\n",
    "        panel.grid.minor = element_blank(),\n",
    "#         panel.grid.major = element_blank(),\n",
    "#         panel.border = element_blank(),\n",
    "        plot.title = element_text(hjust = 0.5),\n",
    "         plot.margin=grid::unit(c(0.02,0.02,0,0), \"in\"))+\n",
    "    labs(y=\"CPM\")+\n",
    "#     labs(y=\"TPM\",title=gsub(\".*\\\\_\",\"\",GENE))+\n",
    "    scale_x_discrete(guide = guide_axis(n.dodge = 2)) #+\n",
    "#     scale_color_manual(values=expGroupPalette)\n",
    "    \n",
    "    ##---------------------------------------\n",
    "    # ADD ARROWS\n",
    "    outliers <- samp_df%>% \n",
    "            filter(y > YLIM)\n",
    "    \n",
    "    print(\"num outliers:\")\n",
    "    print(nrow(outliers))\n",
    "\n",
    "    y_stop = YLIM \n",
    "    y_start= YLIM - (YLIM*0.05)\n",
    "\n",
    "    XORDER <- list('Control_Non-inflammatory'= 1,\n",
    "                'COVID-19'= 2,\n",
    "                'MIS-C'= 3,\n",
    "                'MIS-C'= 4)\n",
    "\n",
    "    offset_x = 1  # offset for different condition / plotting names\n",
    "    offset_y = .20     # offset from top for different outliers in same condition\n",
    "\n",
    "\n",
    "    text_offset = 0.09\n",
    "    text_size = 1.5\n",
    "    text_lineheight = .75\n",
    "\n",
    "    arrow_size = 0.5\n",
    "\n",
    "    for (i  in 1:length(XORDER)){\n",
    "        group_name <- names(XORDER[i])\n",
    "        group_outliers <- outliers %>% filter(plotting_name == group_name)\n",
    "\n",
    "        ## ADD ARROW\n",
    "        if (nrow(group_outliers) > 0){\n",
    "\n",
    "            outlier_values <- round(group_outliers[, \"y\",drop=TRUE],2)\n",
    "            outlier_values <- as.character(outlier_values[order(outlier_values,decreasing=TRUE)])\n",
    "\n",
    "            text_center <- y_start * (1 - (.01*(length(outlier_values)-1)))\n",
    "\n",
    "            XVAL <- XORDER[[group_name]]        \n",
    "\n",
    "            PLOT <- PLOT + annotate(\"segment\", x = XVAL, xend = XVAL,\n",
    "                                              y = YLIM-0.007, yend = YLIM,\n",
    "                                              size = arrow_size, lineend=\"butt\", linejoin=\"mitre\", arrow=arrow(length=unit(.06,\"npc\")))\n",
    "\n",
    "\n",
    "\n",
    "            for (ii in 1:length(outlier_values)){\n",
    "\n",
    "                text_color = \"black\"\n",
    "                if (group_outliers[ii, \"severity\"] == 2){\n",
    "                    text_color = \"red\"} \n",
    "\n",
    "                if (ii == 1){YVAL = YLIM\n",
    "                            }else { \n",
    "                    YVAL = YLIM- ((ii-1)*0.006)\n",
    "                }\n",
    "\n",
    "                VAL <- outlier_values[ii]\n",
    "\n",
    "                PLOT <- PLOT + annotate(\"text\", x = XVAL, y = YVAL, hjust=-0.2,vjust=0.5,\n",
    "                                              label = VAL,\n",
    "                                              size = text_size, family = \"Helvetica\", lineheight = text_lineheight,color = text_color)\n",
    "\n",
    "            }}}\n",
    "    \n",
    "    ##---------------------------------------\n",
    "    # ADD SIG BARS\n",
    "    stat.test <- samp_df %>%\n",
    "    wilcox_test(y ~ plotting_name) %>%  #, ref.group = \"MIS-C\\ndiscovery\"\n",
    "    adjust_pvalue(method = \"BH\") %>% \n",
    "    add_significance(\"p.adj\") %>% \n",
    "    add_xy_position(x = \"plotting_name\")\n",
    "    \n",
    "#     print(stat.test)\n",
    "    \n",
    "    stat.test <- stat.test %>% arrange(desc(y.position))\n",
    "    stat.test$rank <- c(1:nrow(stat.test))\n",
    "    stat.test$y.position <- YLIM - ((0.05*stat.test$rank)*YLIM)\n",
    "    \n",
    "    print(stat.test)\n",
    "    PLOT <- PLOT + stat_pvalue_manual(stat.test, label = \"p.adj.signif\",tip.length=0) \n",
    "    \n",
    "    return(PLOT)\n",
    "}\n"
   ]
  },
  {
   "cell_type": "code",
   "execution_count": 4,
   "id": "da276b6e-7dee-4514-aba3-d15b0ad0c349",
   "metadata": {
    "vscode": {
     "languageId": "r"
    }
   },
   "outputs": [],
   "source": [
    "keeper_columns <- c(\"gene_name\",\"gene_type\",\"baseMean\",\"padj\",\"log2FoldChange\")\n",
    "color_groups = c('COVID-19' = '#F0484E', 'MIS-C' = '#5CB2EB', 'Control_Non-inflammatory' = '#FBE77C', \"MIS-C_validation\" = \"#2BC0B3\")\n",
    "\n",
    "\n",
    "PVAL_CUTOFF = 0.05\n",
    "GROUPS = c(\"COVID-19\", \"Control_Non-inflammatory\",\"MIS-C\")\n",
    "\n",
    "\n",
    "\n",
    "meta_data <- meta_data_all %>% \n",
    "    filter((Diagnosis %in% all_of(GROUPS)) & (timepoint %in% c(\"Not-hospitalized\",\"acute\"))) %>%\n",
    "    mutate(cfrna_sample_id = wbrna_sample_id)\n",
    "\n",
    "\n",
    "counts_cpm <- cpm_ftcount %>% t()"
   ]
  },
  {
   "cell_type": "code",
   "execution_count": 10,
   "id": "9855c9ad-c9eb-443f-9a5a-8067d1722e03",
   "metadata": {
    "vscode": {
     "languageId": "r"
    }
   },
   "outputs": [
    {
     "name": "stdout",
     "output_type": "stream",
     "text": [
      "[1] \"num outliers:\"\n",
      "[1] 0\n",
      "\u001b[90m# A tibble: 6 × 14\u001b[39m\n",
      "  .y.   group1       group2    n1    n2 statistic        p    p.adj p.adj.signif\n",
      "  \u001b[3m\u001b[90m<chr>\u001b[39m\u001b[23m \u001b[3m\u001b[90m<chr>\u001b[39m\u001b[23m        \u001b[3m\u001b[90m<chr>\u001b[39m\u001b[23m  \u001b[3m\u001b[90m<int>\u001b[39m\u001b[23m \u001b[3m\u001b[90m<int>\u001b[39m\u001b[23m     \u001b[3m\u001b[90m<dbl>\u001b[39m\u001b[23m    \u001b[3m\u001b[90m<dbl>\u001b[39m\u001b[23m    \u001b[3m\u001b[90m<dbl>\u001b[39m\u001b[23m \u001b[3m\u001b[90m<chr>\u001b[39m\u001b[23m       \n",
      "\u001b[90m1\u001b[39m y     MIS-C        MIS-C…    69    19     \u001b[4m1\u001b[24m154  4.4 \u001b[90me\u001b[39m\u001b[31m- 7\u001b[39m 8.8 \u001b[90me\u001b[39m\u001b[31m- 7\u001b[39m ****        \n",
      "\u001b[90m2\u001b[39m y     COVID-19     MIS-C…    36    19      497  6   \u001b[90me\u001b[39m\u001b[31m- 3\u001b[39m 7.2 \u001b[90me\u001b[39m\u001b[31m- 3\u001b[39m **          \n",
      "\u001b[90m3\u001b[39m y     COVID-19     MIS-C     36    69     \u001b[4m1\u001b[24m012. 1.2 \u001b[90me\u001b[39m\u001b[31m- 1\u001b[39m 1.2 \u001b[90me\u001b[39m\u001b[31m- 1\u001b[39m ns          \n",
      "\u001b[90m4\u001b[39m y     Control_Non… MIS-C…    23    19       34  8.54\u001b[90me\u001b[39m\u001b[31m- 7\u001b[39m 1.28\u001b[90me\u001b[39m\u001b[31m- 6\u001b[39m ****        \n",
      "\u001b[90m5\u001b[39m y     Control_Non… MIS-C     23    69       47  1.32\u001b[90me\u001b[39m\u001b[31m-11\u001b[39m 7.92\u001b[90me\u001b[39m\u001b[31m-11\u001b[39m ****        \n",
      "\u001b[90m6\u001b[39m y     Control_Non… COVID…    23    36       74  5.34\u001b[90me\u001b[39m\u001b[31m- 8\u001b[39m 1.60\u001b[90me\u001b[39m\u001b[31m- 7\u001b[39m ****        \n",
      "\u001b[90m# … with 5 more variables: y.position <dbl>, groups <named list>, xmin <dbl>,\u001b[39m\n",
      "\u001b[90m#   xmax <dbl>, rank <int>\u001b[39m\n"
     ]
    },
    {
     "data": {
      "text/html": [
       "<strong>png:</strong> 2"
      ],
      "text/latex": [
       "\\textbf{png:} 2"
      ],
      "text/markdown": [
       "**png:** 2"
      ],
      "text/plain": [
       "png \n",
       "  2 "
      ]
     },
     "metadata": {},
     "output_type": "display_data"
    }
   ],
   "source": [
    "GENE = \"ADAMTS2\"\n",
    "\n",
    "WIDTH = 1.0\n",
    "HEIGHT = 1.5\n",
    "YLIM = 410\n",
    "\n",
    "pdf(file=paste0(\"plots/panelD_\",GENE,\".pdf\"),\n",
    "        width=WIDTH,height=HEIGHT, paper=\"special\", bg=\"white\",\n",
    "        fonts=\"Helvetica\", colormodel = \"srgb\", pointsize=6, useDingbats = FALSE)\n",
    "\n",
    "get_fig_plot(GENE,meta_data,counts_cpm,YLIM) + \n",
    "#     scale_y_continuous(breaks = scales::pretty_breaks(n = 4)) + \n",
    "    scale_y_continuous(breaks = c(0,137,274,411)) + \n",
    "    coord_cartesian(ylim = c(0,YLIM))\n",
    "\n",
    "dev.off()"
   ]
  },
  {
   "cell_type": "code",
   "execution_count": 11,
   "id": "3646c563-6f77-40d4-ac19-f6f4abfe75ca",
   "metadata": {
    "vscode": {
     "languageId": "r"
    }
   },
   "outputs": [
    {
     "name": "stdout",
     "output_type": "stream",
     "text": [
      "[1] \"num outliers:\"\n",
      "[1] 0\n",
      "\u001b[90m# A tibble: 6 × 14\u001b[39m\n",
      "  .y.   group1  group2    n1    n2 statistic     p p.adj p.adj.signif y.position\n",
      "  \u001b[3m\u001b[90m<chr>\u001b[39m\u001b[23m \u001b[3m\u001b[90m<chr>\u001b[39m\u001b[23m   \u001b[3m\u001b[90m<chr>\u001b[39m\u001b[23m  \u001b[3m\u001b[90m<int>\u001b[39m\u001b[23m \u001b[3m\u001b[90m<int>\u001b[39m\u001b[23m     \u001b[3m\u001b[90m<dbl>\u001b[39m\u001b[23m \u001b[3m\u001b[90m<dbl>\u001b[39m\u001b[23m \u001b[3m\u001b[90m<dbl>\u001b[39m\u001b[23m \u001b[3m\u001b[90m<chr>\u001b[39m\u001b[23m             \u001b[3m\u001b[90m<dbl>\u001b[39m\u001b[23m\n",
      "\u001b[90m1\u001b[39m y     MIS-C   MIS-C…    69    19       731 0.445 0.534 ns                 20.0\n",
      "\u001b[90m2\u001b[39m y     COVID-… MIS-C…    36    19       238 0.062 0.124 ns                 18.9\n",
      "\u001b[90m3\u001b[39m y     COVID-… MIS-C     36    69       768 0.001 0.006 **                 17.8\n",
      "\u001b[90m4\u001b[39m y     Contro… MIS-C…    23    19       208 0.8   0.8   ns                 16.8\n",
      "\u001b[90m5\u001b[39m y     Contro… MIS-C     23    69       663 0.24  0.36  ns                 15.8\n",
      "\u001b[90m6\u001b[39m y     Contro… COVID…    23    36       559 0.023 0.069 ns                 14.7\n",
      "\u001b[90m# … with 4 more variables: groups <named list>, xmin <dbl>, xmax <dbl>,\u001b[39m\n",
      "\u001b[90m#   rank <int>\u001b[39m\n"
     ]
    },
    {
     "data": {
      "text/html": [
       "<strong>png:</strong> 2"
      ],
      "text/latex": [
       "\\textbf{png:} 2"
      ],
      "text/markdown": [
       "**png:** 2"
      ],
      "text/plain": [
       "png \n",
       "  2 "
      ]
     },
     "metadata": {},
     "output_type": "display_data"
    }
   ],
   "source": [
    "GENE = \"TRBV11-2\"\n",
    "\n",
    "WIDTH = 0.948\n",
    "HEIGHT = 1.5\n",
    "YLIM = 21\n",
    "\n",
    "pdf(file=paste0(\"plots/panelD_\",GENE,\".pdf\"),\n",
    "        width=WIDTH,height=HEIGHT, paper=\"special\", bg=\"white\",\n",
    "        fonts=\"Helvetica\", colormodel = \"srgb\", pointsize=6, useDingbats = FALSE)\n",
    "\n",
    "get_fig_plot(GENE,meta_data,counts_cpm,YLIM) + \n",
    "#     scale_y_continuous(breaks = scales::pretty_breaks(n = 4)) + \n",
    "    scale_y_continuous(breaks = c(0,7,14,21)) + \n",
    "    coord_cartesian(ylim = c(0,YLIM))\n",
    "\n",
    "dev.off()"
   ]
  },
  {
   "cell_type": "code",
   "execution_count": 12,
   "id": "d659e3bc-0318-4cfe-9a29-91e854d42c0b",
   "metadata": {
    "vscode": {
     "languageId": "r"
    }
   },
   "outputs": [
    {
     "name": "stdout",
     "output_type": "stream",
     "text": [
      "[1] \"num outliers:\"\n",
      "[1] 1\n",
      "\u001b[90m# A tibble: 6 × 14\u001b[39m\n",
      "  .y.   group1         group2    n1    n2 statistic       p   p.adj p.adj.signif\n",
      "  \u001b[3m\u001b[90m<chr>\u001b[39m\u001b[23m \u001b[3m\u001b[90m<chr>\u001b[39m\u001b[23m          \u001b[3m\u001b[90m<chr>\u001b[39m\u001b[23m  \u001b[3m\u001b[90m<int>\u001b[39m\u001b[23m \u001b[3m\u001b[90m<int>\u001b[39m\u001b[23m     \u001b[3m\u001b[90m<dbl>\u001b[39m\u001b[23m   \u001b[3m\u001b[90m<dbl>\u001b[39m\u001b[23m   \u001b[3m\u001b[90m<dbl>\u001b[39m\u001b[23m \u001b[3m\u001b[90m<chr>\u001b[39m\u001b[23m       \n",
      "\u001b[90m1\u001b[39m y     MIS-C          MIS-C…    69    19      978  1   \u001b[90me\u001b[39m\u001b[31m-3\u001b[39m 1.2 \u001b[90me\u001b[39m\u001b[31m-3\u001b[39m **          \n",
      "\u001b[90m2\u001b[39m y     COVID-19       MIS-C…    36    19      644  9.3 \u001b[90me\u001b[39m\u001b[31m-8\u001b[39m 2.79\u001b[90me\u001b[39m\u001b[31m-7\u001b[39m ****        \n",
      "\u001b[90m3\u001b[39m y     COVID-19       MIS-C     36    69     \u001b[4m2\u001b[24m041  6.99\u001b[90me\u001b[39m\u001b[31m-8\u001b[39m 2.79\u001b[90me\u001b[39m\u001b[31m-7\u001b[39m ****        \n",
      "\u001b[90m4\u001b[39m y     Control_Non-i… MIS-C…    23    19      364  2.4 \u001b[90me\u001b[39m\u001b[31m-4\u001b[39m 3.6 \u001b[90me\u001b[39m\u001b[31m-4\u001b[39m ***         \n",
      "\u001b[90m5\u001b[39m y     Control_Non-i… MIS-C     23    69      908. 3.02\u001b[90me\u001b[39m\u001b[31m-1\u001b[39m 3.02\u001b[90me\u001b[39m\u001b[31m-1\u001b[39m ns          \n",
      "\u001b[90m6\u001b[39m y     Control_Non-i… COVID…    23    36      151  1.99\u001b[90me\u001b[39m\u001b[31m-5\u001b[39m 3.98\u001b[90me\u001b[39m\u001b[31m-5\u001b[39m ****        \n",
      "\u001b[90m# … with 5 more variables: y.position <dbl>, groups <named list>, xmin <dbl>,\u001b[39m\n",
      "\u001b[90m#   xmax <dbl>, rank <int>\u001b[39m\n"
     ]
    },
    {
     "data": {
      "text/html": [
       "<strong>png:</strong> 2"
      ],
      "text/latex": [
       "\\textbf{png:} 2"
      ],
      "text/markdown": [
       "**png:** 2"
      ],
      "text/plain": [
       "png \n",
       "  2 "
      ]
     },
     "metadata": {},
     "output_type": "display_data"
    }
   ],
   "source": [
    "GENE = \"SIGLEC1\"\n",
    "\n",
    "WIDTH = 1.0\n",
    "HEIGHT = 1.5\n",
    "YLIM = 660\n",
    "\n",
    "pdf(file=paste0(\"plots/panelD_\",GENE,\".pdf\"),\n",
    "        width=WIDTH,height=HEIGHT, paper=\"special\", bg=\"white\",\n",
    "        fonts=\"Helvetica\", colormodel = \"srgb\", pointsize=6, useDingbats = FALSE)\n",
    "\n",
    "get_fig_plot(GENE,meta_data,counts_cpm,YLIM) + \n",
    "#     scale_y_continuous(breaks = scales::pretty_breaks(n = 4)) + \n",
    "    scale_y_continuous(breaks = c(0,220,440,660)) + \n",
    "    coord_cartesian(ylim = c(0,YLIM))\n",
    "\n",
    "dev.off()"
   ]
  },
  {
   "cell_type": "code",
   "execution_count": 13,
   "id": "df7190a1-00d6-46c9-ae32-1ae3bd515f04",
   "metadata": {
    "vscode": {
     "languageId": "r"
    }
   },
   "outputs": [
    {
     "name": "stdout",
     "output_type": "stream",
     "text": [
      "[1] \"num outliers:\"\n",
      "[1] 1\n",
      "\u001b[90m# A tibble: 6 × 14\u001b[39m\n",
      "  .y.   group1       group2    n1    n2 statistic        p    p.adj p.adj.signif\n",
      "  \u001b[3m\u001b[90m<chr>\u001b[39m\u001b[23m \u001b[3m\u001b[90m<chr>\u001b[39m\u001b[23m        \u001b[3m\u001b[90m<chr>\u001b[39m\u001b[23m  \u001b[3m\u001b[90m<int>\u001b[39m\u001b[23m \u001b[3m\u001b[90m<int>\u001b[39m\u001b[23m     \u001b[3m\u001b[90m<dbl>\u001b[39m\u001b[23m    \u001b[3m\u001b[90m<dbl>\u001b[39m\u001b[23m    \u001b[3m\u001b[90m<dbl>\u001b[39m\u001b[23m \u001b[3m\u001b[90m<chr>\u001b[39m\u001b[23m       \n",
      "\u001b[90m1\u001b[39m y     MIS-C        MIS-C…    69    19       737 4.11\u001b[90me\u001b[39m\u001b[31m- 1\u001b[39m 4.11\u001b[90me\u001b[39m\u001b[31m- 1\u001b[39m ns          \n",
      "\u001b[90m2\u001b[39m y     COVID-19     MIS-C…    36    19       429 1.26\u001b[90me\u001b[39m\u001b[31m- 1\u001b[39m 1.89\u001b[90me\u001b[39m\u001b[31m- 1\u001b[39m ns          \n",
      "\u001b[90m3\u001b[39m y     COVID-19     MIS-C     36    69      \u001b[4m1\u001b[24m388 3.26\u001b[90me\u001b[39m\u001b[31m- 1\u001b[39m 3.91\u001b[90me\u001b[39m\u001b[31m- 1\u001b[39m ns          \n",
      "\u001b[90m4\u001b[39m y     Control_Non… MIS-C…    23    19       428 4.34\u001b[90me\u001b[39m\u001b[31m-10\u001b[39m 1.30\u001b[90me\u001b[39m\u001b[31m- 9\u001b[39m ****        \n",
      "\u001b[90m5\u001b[39m y     Control_Non… MIS-C     23    69      \u001b[4m1\u001b[24m504 1.52\u001b[90me\u001b[39m\u001b[31m-10\u001b[39m 9.12\u001b[90me\u001b[39m\u001b[31m-10\u001b[39m ****        \n",
      "\u001b[90m6\u001b[39m y     Control_Non… COVID…    23    36       772 2.74\u001b[90me\u001b[39m\u001b[31m- 8\u001b[39m 5.48\u001b[90me\u001b[39m\u001b[31m- 8\u001b[39m ****        \n",
      "\u001b[90m# … with 5 more variables: y.position <dbl>, groups <named list>, xmin <dbl>,\u001b[39m\n",
      "\u001b[90m#   xmax <dbl>, rank <int>\u001b[39m\n"
     ]
    },
    {
     "data": {
      "text/html": [
       "<strong>png:</strong> 2"
      ],
      "text/latex": [
       "\\textbf{png:} 2"
      ],
      "text/markdown": [
       "**png:** 2"
      ],
      "text/plain": [
       "png \n",
       "  2 "
      ]
     },
     "metadata": {},
     "output_type": "display_data"
    }
   ],
   "source": [
    "GENE = \"KLRB1\"\n",
    "\n",
    "WIDTH = 0.948\n",
    "HEIGHT = 1.5\n",
    "YLIM = 100\n",
    "\n",
    "pdf(file=paste0(\"plots/panelD_\",GENE,\".pdf\"),\n",
    "        width=WIDTH,height=HEIGHT, paper=\"special\", bg=\"white\",\n",
    "        fonts=\"Helvetica\", colormodel = \"srgb\", pointsize=6, useDingbats = FALSE)\n",
    "\n",
    "get_fig_plot(GENE,meta_data,counts_cpm,YLIM) + \n",
    "#     scale_y_continuous(breaks = scales::pretty_breaks(n = 4)) + \n",
    "    scale_y_continuous(breaks = c(0,33,66,99)) + \n",
    "    coord_cartesian(ylim = c(0,YLIM))\n",
    "\n",
    "dev.off()"
   ]
  },
  {
   "cell_type": "code",
   "execution_count": 14,
   "id": "cb911dff-9898-4d85-bac1-e6bcea8bcc5c",
   "metadata": {
    "vscode": {
     "languageId": "r"
    }
   },
   "outputs": [
    {
     "name": "stdout",
     "output_type": "stream",
     "text": [
      "[1] \"num outliers:\"\n",
      "[1] 1\n",
      "\u001b[90m# A tibble: 6 × 14\u001b[39m\n",
      "  .y.   group1         group2    n1    n2 statistic       p   p.adj p.adj.signif\n",
      "  \u001b[3m\u001b[90m<chr>\u001b[39m\u001b[23m \u001b[3m\u001b[90m<chr>\u001b[39m\u001b[23m          \u001b[3m\u001b[90m<chr>\u001b[39m\u001b[23m  \u001b[3m\u001b[90m<int>\u001b[39m\u001b[23m \u001b[3m\u001b[90m<int>\u001b[39m\u001b[23m     \u001b[3m\u001b[90m<dbl>\u001b[39m\u001b[23m   \u001b[3m\u001b[90m<dbl>\u001b[39m\u001b[23m   \u001b[3m\u001b[90m<dbl>\u001b[39m\u001b[23m \u001b[3m\u001b[90m<chr>\u001b[39m\u001b[23m       \n",
      "\u001b[90m1\u001b[39m y     MIS-C          MIS-C…    69    19      965  2   \u001b[90me\u001b[39m\u001b[31m-3\u001b[39m 2.4 \u001b[90me\u001b[39m\u001b[31m-3\u001b[39m **          \n",
      "\u001b[90m2\u001b[39m y     COVID-19       MIS-C…    36    19      578  2.95\u001b[90me\u001b[39m\u001b[31m-5\u001b[39m 5.9 \u001b[90me\u001b[39m\u001b[31m-5\u001b[39m ****        \n",
      "\u001b[90m3\u001b[39m y     COVID-19       MIS-C     36    69     \u001b[4m1\u001b[24m675  3   \u001b[90me\u001b[39m\u001b[31m-3\u001b[39m 3   \u001b[90me\u001b[39m\u001b[31m-3\u001b[39m **          \n",
      "\u001b[90m4\u001b[39m y     Control_Non-i… MIS-C…    23    19      408. 1.55\u001b[90me\u001b[39m\u001b[31m-6\u001b[39m 4.65\u001b[90me\u001b[39m\u001b[31m-6\u001b[39m ****        \n",
      "\u001b[90m5\u001b[39m y     Control_Non-i… MIS-C     23    69     \u001b[4m1\u001b[24m339  8.72\u001b[90me\u001b[39m\u001b[31m-7\u001b[39m 4.65\u001b[90me\u001b[39m\u001b[31m-6\u001b[39m ****        \n",
      "\u001b[90m6\u001b[39m y     Control_Non-i… COVID…    23    36      616  2   \u001b[90me\u001b[39m\u001b[31m-3\u001b[39m 2.4 \u001b[90me\u001b[39m\u001b[31m-3\u001b[39m **          \n",
      "\u001b[90m# … with 5 more variables: y.position <dbl>, groups <named list>, xmin <dbl>,\u001b[39m\n",
      "\u001b[90m#   xmax <dbl>, rank <int>\u001b[39m\n"
     ]
    },
    {
     "data": {
      "text/html": [
       "<strong>png:</strong> 2"
      ],
      "text/latex": [
       "\\textbf{png:} 2"
      ],
      "text/markdown": [
       "**png:** 2"
      ],
      "text/plain": [
       "png \n",
       "  2 "
      ]
     },
     "metadata": {},
     "output_type": "display_data"
    }
   ],
   "source": [
    "GENE = \"KLRF1\"\n",
    "\n",
    "WIDTH = 0.948\n",
    "HEIGHT = 1.5\n",
    "YLIM = 75\n",
    "\n",
    "pdf(file=paste0(\"plots/SupPanelB_\",GENE,\".pdf\"),\n",
    "        width=WIDTH,height=HEIGHT, paper=\"special\", bg=\"white\",\n",
    "        fonts=\"Helvetica\", colormodel = \"srgb\", pointsize=6, useDingbats = FALSE)\n",
    "\n",
    "get_fig_plot(GENE,meta_data,counts_cpm,YLIM) + \n",
    "#     scale_y_continuous(breaks = scales::pretty_breaks(n = 4)) + \n",
    "    scale_y_continuous(breaks = c(0,25,50,75)) + \n",
    "    coord_cartesian(ylim = c(0,YLIM))\n",
    "\n",
    "dev.off()"
   ]
  },
  {
   "cell_type": "code",
   "execution_count": 15,
   "id": "a30b04c0-48fa-4e8a-9dc0-bb9ffcaedbf6",
   "metadata": {
    "vscode": {
     "languageId": "r"
    }
   },
   "outputs": [
    {
     "name": "stdout",
     "output_type": "stream",
     "text": [
      "[1] \"num outliers:\"\n",
      "[1] 0\n",
      "\u001b[90m# A tibble: 6 × 14\u001b[39m\n",
      "  .y.   group1       group2    n1    n2 statistic        p    p.adj p.adj.signif\n",
      "  \u001b[3m\u001b[90m<chr>\u001b[39m\u001b[23m \u001b[3m\u001b[90m<chr>\u001b[39m\u001b[23m        \u001b[3m\u001b[90m<chr>\u001b[39m\u001b[23m  \u001b[3m\u001b[90m<int>\u001b[39m\u001b[23m \u001b[3m\u001b[90m<int>\u001b[39m\u001b[23m     \u001b[3m\u001b[90m<dbl>\u001b[39m\u001b[23m    \u001b[3m\u001b[90m<dbl>\u001b[39m\u001b[23m    \u001b[3m\u001b[90m<dbl>\u001b[39m\u001b[23m \u001b[3m\u001b[90m<chr>\u001b[39m\u001b[23m       \n",
      "\u001b[90m1\u001b[39m y     MIS-C        MIS-C…    69    19      437  2.7 \u001b[90me\u001b[39m\u001b[31m- 2\u001b[39m 2.7 \u001b[90me\u001b[39m\u001b[31m- 2\u001b[39m *           \n",
      "\u001b[90m2\u001b[39m y     COVID-19     MIS-C…    36    19      105  9.37\u001b[90me\u001b[39m\u001b[31m- 6\u001b[39m 1.41\u001b[90me\u001b[39m\u001b[31m- 5\u001b[39m ****        \n",
      "\u001b[90m3\u001b[39m y     COVID-19     MIS-C     36    69      750. 9.17\u001b[90me\u001b[39m\u001b[31m- 4\u001b[39m 1.10\u001b[90me\u001b[39m\u001b[31m- 3\u001b[39m **          \n",
      "\u001b[90m4\u001b[39m y     Control_Non… MIS-C…    23    19        0  3.24\u001b[90me\u001b[39m\u001b[31m- 8\u001b[39m 6.48\u001b[90me\u001b[39m\u001b[31m- 8\u001b[39m ****        \n",
      "\u001b[90m5\u001b[39m y     Control_Non… MIS-C     23    69       27  4.84\u001b[90me\u001b[39m\u001b[31m-12\u001b[39m 2.90\u001b[90me\u001b[39m\u001b[31m-11\u001b[39m ****        \n",
      "\u001b[90m6\u001b[39m y     Control_Non… COVID…    23    36       36  4.17\u001b[90me\u001b[39m\u001b[31m- 9\u001b[39m 1.25\u001b[90me\u001b[39m\u001b[31m- 8\u001b[39m ****        \n",
      "\u001b[90m# … with 5 more variables: y.position <dbl>, groups <named list>, xmin <dbl>,\u001b[39m\n",
      "\u001b[90m#   xmax <dbl>, rank <int>\u001b[39m\n"
     ]
    },
    {
     "data": {
      "text/html": [
       "<strong>png:</strong> 2"
      ],
      "text/latex": [
       "\\textbf{png:} 2"
      ],
      "text/markdown": [
       "**png:** 2"
      ],
      "text/plain": [
       "png \n",
       "  2 "
      ]
     },
     "metadata": {},
     "output_type": "display_data"
    }
   ],
   "source": [
    "GENE = \"CD177\"\n",
    "\n",
    "WIDTH = 1.037\n",
    "HEIGHT = 1.5\n",
    "YLIM = 1800\n",
    "\n",
    "pdf(file=paste0(\"plots/SupPanelB_\",GENE,\".pdf\"),\n",
    "        width=WIDTH,height=HEIGHT, paper=\"special\", bg=\"white\",\n",
    "        fonts=\"Helvetica\", colormodel = \"srgb\", pointsize=6, useDingbats = FALSE)\n",
    "\n",
    "get_fig_plot(GENE,meta_data,counts_cpm,YLIM) + \n",
    "#     scale_y_continuous(breaks = scales::pretty_breaks(n = 4)) + \n",
    "    scale_y_continuous(breaks = c(0,600,1200,1800)) + \n",
    "    coord_cartesian(ylim = c(0,YLIM))\n",
    "\n",
    "dev.off()"
   ]
  },
  {
   "cell_type": "code",
   "execution_count": 16,
   "id": "74e84874-a001-401e-b607-955e3f84893b",
   "metadata": {
    "vscode": {
     "languageId": "r"
    }
   },
   "outputs": [
    {
     "name": "stdout",
     "output_type": "stream",
     "text": [
      "[1] \"num outliers:\"\n",
      "[1] 2\n",
      "\u001b[90m# A tibble: 6 × 14\u001b[39m\n",
      "  .y.   group1         group2    n1    n2 statistic       p   p.adj p.adj.signif\n",
      "  \u001b[3m\u001b[90m<chr>\u001b[39m\u001b[23m \u001b[3m\u001b[90m<chr>\u001b[39m\u001b[23m          \u001b[3m\u001b[90m<chr>\u001b[39m\u001b[23m  \u001b[3m\u001b[90m<int>\u001b[39m\u001b[23m \u001b[3m\u001b[90m<int>\u001b[39m\u001b[23m     \u001b[3m\u001b[90m<dbl>\u001b[39m\u001b[23m   \u001b[3m\u001b[90m<dbl>\u001b[39m\u001b[23m   \u001b[3m\u001b[90m<dbl>\u001b[39m\u001b[23m \u001b[3m\u001b[90m<chr>\u001b[39m\u001b[23m       \n",
      "\u001b[90m1\u001b[39m y     MIS-C          MIS-C…    69    19       720 5.16\u001b[90me\u001b[39m\u001b[31m-1\u001b[39m 6.19\u001b[90me\u001b[39m\u001b[31m-1\u001b[39m ns          \n",
      "\u001b[90m2\u001b[39m y     COVID-19       MIS-C…    36    19       558 6.8 \u001b[90me\u001b[39m\u001b[31m-5\u001b[39m 1.36\u001b[90me\u001b[39m\u001b[31m-4\u001b[39m ***         \n",
      "\u001b[90m3\u001b[39m y     COVID-19       MIS-C     36    69      \u001b[4m1\u001b[24m930 3.46\u001b[90me\u001b[39m\u001b[31m-6\u001b[39m 1.04\u001b[90me\u001b[39m\u001b[31m-5\u001b[39m ****        \n",
      "\u001b[90m4\u001b[39m y     Control_Non-i… MIS-C…    23    19       217 9.8 \u001b[90me\u001b[39m\u001b[31m-1\u001b[39m 9.8 \u001b[90me\u001b[39m\u001b[31m-1\u001b[39m ns          \n",
      "\u001b[90m5\u001b[39m y     Control_Non-i… MIS-C     23    69       713 4.71\u001b[90me\u001b[39m\u001b[31m-1\u001b[39m 6.19\u001b[90me\u001b[39m\u001b[31m-1\u001b[39m ns          \n",
      "\u001b[90m6\u001b[39m y     Control_Non-i… COVID…    23    36       125 1.99\u001b[90me\u001b[39m\u001b[31m-6\u001b[39m 1.04\u001b[90me\u001b[39m\u001b[31m-5\u001b[39m ****        \n",
      "\u001b[90m# … with 5 more variables: y.position <dbl>, groups <named list>, xmin <dbl>,\u001b[39m\n",
      "\u001b[90m#   xmax <dbl>, rank <int>\u001b[39m\n"
     ]
    },
    {
     "data": {
      "text/html": [
       "<strong>png:</strong> 2"
      ],
      "text/latex": [
       "\\textbf{png:} 2"
      ],
      "text/markdown": [
       "**png:** 2"
      ],
      "text/plain": [
       "png \n",
       "  2 "
      ]
     },
     "metadata": {},
     "output_type": "display_data"
    }
   ],
   "source": [
    "GENE = \"ISG15\"\n",
    "\n",
    "WIDTH = 1.037\n",
    "HEIGHT = 1.5\n",
    "YLIM = 1200\n",
    "\n",
    "pdf(file=paste0(\"plots/SupPanelB_\",GENE,\".pdf\"),\n",
    "        width=WIDTH,height=HEIGHT, paper=\"special\", bg=\"white\",\n",
    "        fonts=\"Helvetica\", colormodel = \"srgb\", pointsize=6, useDingbats = FALSE)\n",
    "\n",
    "get_fig_plot(GENE,meta_data,counts_cpm,YLIM) + \n",
    "#     scale_y_continuous(breaks = scales::pretty_breaks(n = 4)) + \n",
    "    scale_y_continuous(breaks = c(0,400,800,1200)) + \n",
    "    coord_cartesian(ylim = c(0,YLIM))\n",
    "\n",
    "dev.off()"
   ]
  },
  {
   "cell_type": "code",
   "execution_count": 17,
   "id": "3c03c870-dcd3-47ed-b0af-18d851eec610",
   "metadata": {
    "vscode": {
     "languageId": "r"
    }
   },
   "outputs": [
    {
     "name": "stdout",
     "output_type": "stream",
     "text": [
      "[1] \"num outliers:\"\n",
      "[1] 0\n",
      "\u001b[90m# A tibble: 6 × 14\u001b[39m\n",
      "  .y.   group1         group2    n1    n2 statistic       p   p.adj p.adj.signif\n",
      "  \u001b[3m\u001b[90m<chr>\u001b[39m\u001b[23m \u001b[3m\u001b[90m<chr>\u001b[39m\u001b[23m          \u001b[3m\u001b[90m<chr>\u001b[39m\u001b[23m  \u001b[3m\u001b[90m<int>\u001b[39m\u001b[23m \u001b[3m\u001b[90m<int>\u001b[39m\u001b[23m     \u001b[3m\u001b[90m<dbl>\u001b[39m\u001b[23m   \u001b[3m\u001b[90m<dbl>\u001b[39m\u001b[23m   \u001b[3m\u001b[90m<dbl>\u001b[39m\u001b[23m \u001b[3m\u001b[90m<chr>\u001b[39m\u001b[23m       \n",
      "\u001b[90m1\u001b[39m y     MIS-C          MIS-C…    69    19       448 2.6 \u001b[90me\u001b[39m\u001b[31m-2\u001b[39m 3.12\u001b[90me\u001b[39m\u001b[31m-2\u001b[39m *           \n",
      "\u001b[90m2\u001b[39m y     COVID-19       MIS-C…    36    19       153 1.35\u001b[90me\u001b[39m\u001b[31m-4\u001b[39m 4.53\u001b[90me\u001b[39m\u001b[31m-4\u001b[39m ***         \n",
      "\u001b[90m3\u001b[39m y     COVID-19       MIS-C     36    69       860 3   \u001b[90me\u001b[39m\u001b[31m-3\u001b[39m 6   \u001b[90me\u001b[39m\u001b[31m-3\u001b[39m **          \n",
      "\u001b[90m4\u001b[39m y     Control_Non-i… MIS-C…    23    19        87 1.51\u001b[90me\u001b[39m\u001b[31m-4\u001b[39m 4.53\u001b[90me\u001b[39m\u001b[31m-4\u001b[39m ***         \n",
      "\u001b[90m5\u001b[39m y     Control_Non-i… MIS-C     23    69       514 4   \u001b[90me\u001b[39m\u001b[31m-3\u001b[39m 6   \u001b[90me\u001b[39m\u001b[31m-3\u001b[39m **          \n",
      "\u001b[90m6\u001b[39m y     Control_Non-i… COVID…    23    36       383 4.85\u001b[90me\u001b[39m\u001b[31m-1\u001b[39m 4.85\u001b[90me\u001b[39m\u001b[31m-1\u001b[39m ns          \n",
      "\u001b[90m# … with 5 more variables: y.position <dbl>, groups <named list>, xmin <dbl>,\u001b[39m\n",
      "\u001b[90m#   xmax <dbl>, rank <int>\u001b[39m\n"
     ]
    },
    {
     "data": {
      "text/html": [
       "<strong>png:</strong> 2"
      ],
      "text/latex": [
       "\\textbf{png:} 2"
      ],
      "text/markdown": [
       "**png:** 2"
      ],
      "text/plain": [
       "png \n",
       "  2 "
      ]
     },
     "metadata": {},
     "output_type": "display_data"
    }
   ],
   "source": [
    "GENE = \"CREB3L1\"\n",
    "\n",
    "WIDTH = 0.948\n",
    "HEIGHT = 1.5\n",
    "YLIM = 21\n",
    "\n",
    "pdf(file=paste0(\"plots/SupPanelB_\",GENE,\".pdf\"),\n",
    "        width=WIDTH,height=HEIGHT, paper=\"special\", bg=\"white\",\n",
    "        fonts=\"Helvetica\", colormodel = \"srgb\", pointsize=6, useDingbats = FALSE)\n",
    "\n",
    "get_fig_plot(GENE,meta_data,counts_cpm,YLIM) + \n",
    "#     scale_y_continuous(breaks = scales::pretty_breaks(n = 4)) + \n",
    "    scale_y_continuous(breaks = c(0,7,14,21)) + \n",
    "    coord_cartesian(ylim = c(0,YLIM))\n",
    "\n",
    "dev.off()"
   ]
  },
  {
   "attachments": {},
   "cell_type": "markdown",
   "id": "84e6914a-3ac4-44fb-a841-3fe4458d40f6",
   "metadata": {
    "jp-MarkdownHeadingCollapsed": true,
    "tags": []
   },
   "source": [
    "---\n",
    "## gene module scores"
   ]
  },
  {
   "cell_type": "code",
   "execution_count": 23,
   "id": "ebcae2d6-19c0-424b-ad84-ddda0c3df2cf",
   "metadata": {
    "vscode": {
     "languageId": "r"
    }
   },
   "outputs": [],
   "source": [
    "get_plots <- function(ct_counts,expGroupPalette,DiagnosisPalette,YLIM){\n",
    "\n",
    "    \n",
    "    ct_counts$timepoint <- factor(ct_counts$timepoint,levels=c(\"acute\",\"post-acute\",\"1m\",\"3m+\",\"Not-hospitalized\"))\n",
    "\n",
    "    common <- list(theme_prevail(),\n",
    "        theme(legend.position = \"none\",\n",
    "        axis.text.x = element_blank(),\n",
    "        axis.title.y = element_blank(),\n",
    "        axis.title.x = element_blank(),\n",
    "#         panel.border = element_blank(),\n",
    "        panel.grid.minor = element_blank()))\n",
    "\n",
    "    box_common <- list(scale_x_discrete(expand = c(0, 0)),\n",
    "        scale_fill_manual(values=DiagnosisPalette))\n",
    "\n",
    "\n",
    "    ct_counts_SUM <- Rmisc::summarySE(ct_counts,\n",
    "                 measurevar=\"value\", \n",
    "                 groupvars=c(\"timepoint\",\"Diagnosis\")) %>% filter(N>1) %>% filter( !grepl(\"Control_Non-inflammatory\",Diagnosis))\n",
    "\n",
    "    MEAN_CNTRL <- mean(ct_counts[which(grepl(\"Control_Non-inflammatory\",ct_counts$Diagnosis)),\"value\"])\n",
    "\n",
    "    ##------------------------------------\n",
    "    # Control Boxplot\n",
    "\n",
    "    cntrl_boxplot <- ct_counts %>% \n",
    "    filter(grepl(\"Control\",Diagnosis)) %>%\n",
    "    ggplot(aes(x=Diagnosis,y=value,fill=expGroup))+\n",
    "    geom_boxplot(width=0.5/4,size = 0.2,outlier.size = .01)+\n",
    "    stat_summary(fun=mean, geom=\"point\", shape=18, size=.2, color=\"white\", fill=\"white\") \n",
    "\n",
    "    ##------------------------------------\n",
    "    # Acute Boxplot\n",
    "\n",
    "acute_boxplot <- ct_counts %>% \n",
    "    filter(grepl(\"acute\",timepoint) | grepl(\"Control_Non-inflammatory\",Diagnosis)) %>%\n",
    "#     mutate(expGroup = factor(expGroup,levels=c(\"Control_Non-inflammatory_discovery\",\"MIS-C_validation\",\"MIS-C_discovery\",\"COVID-19_discovery\")))%>%\n",
    "    mutate(expGroup = factor(expGroup,levels=c(\"Control_Non-inflammatory\",\"COVID-19\",\"MIS-C\",\"MIS-C_validation\")))%>%\n",
    "    ggplot(aes(x=expGroup,y=value))+\n",
    "    geom_hline(yintercept = MEAN_CNTRL,alpha = 0.75, size = .5, linetype = \"dashed\",color = DiagnosisPalette[[\"Control_Non-inflammatory\"]][1] )+\n",
    "    geom_boxplot(aes(fill=expGroup), width=0.75,size = 0.2,outlier.size = .01, outlier.shape=NA)+\n",
    "    stat_summary(fun=mean, geom=\"point\", shape=18, size=.2, color=\"white\", fill=\"white\") \n",
    "\n",
    "    \n",
    "    \n",
    "    ##------------------------------------ \n",
    "    # LINE PLOT\n",
    "    pd <- position_dodge(0.05)\n",
    "\n",
    "    line_plot <- ct_counts_SUM %>%\n",
    "    mutate(timepoint = factor(timepoint,levels=c(\"acute\",\"post-acute\",\"1m\",\"3m+\",\"Not-hospitalized\"))) %>%\n",
    "    ggplot(aes(x=timepoint, y=value, colour=Diagnosis, group=Diagnosis)) + \n",
    "        geom_hline(yintercept = MEAN_CNTRL,alpha = 0.75, size = .5, linetype = \"dashed\",color = DiagnosisPalette[[\"Control_Non-inflammatory\"]][1] ) +\n",
    "        geom_errorbar(aes(ymin=value-se, ymax=value+se), width=.1, position=pd) +\n",
    "        geom_line(position=pd) +\n",
    "        geom_point(position=pd, size = 0.5)+\n",
    "    scale_x_discrete(expand = c(.1, 0))+\n",
    "    scale_color_manual(values=DiagnosisPalette)\n",
    "\n",
    "    ##------------------------------------\n",
    "    # Customize\n",
    "\n",
    "    # Calculate Y limits\n",
    "    y_range_cntl <- layer_scales(cntrl_boxplot)$y$range$range\n",
    "    y_range_acute <- layer_scales(acute_boxplot)$y$range$range\n",
    "    y_range_ln <- layer_scales(line_plot)$y$range$range\n",
    "\n",
    "    starts <- c(y_range_cntl[1],y_range_acute[1],y_range_ln[1],0)\n",
    "    stops <- c(y_range_cntl[2],y_range_acute[2],y_range_ln[2])\n",
    "    \n",
    "    proper_scale <- list(coord_cartesian(ylim = c(min(starts), max(stops))), \n",
    "                    scale_y_continuous(labels = function(x) format(x, scientific = TRUE, digits = 2),\n",
    "                                       breaks = seq(0,max(stops),length.out  = 4)))\n",
    "    \n",
    "    \n",
    "    \n",
    "    ##---------------------------------------\n",
    "    # ADD SIG BARS\n",
    "    \n",
    "    stat.test <- ct_counts %>% filter(grepl(\"acute\",timepoint) | grepl(\"Control_Non-inflammatory\",Diagnosis)) %>%\n",
    "    wilcox_test(value ~ expGroup, paired = FALSE) %>% \n",
    "    adjust_pvalue(method = \"BH\") %>% \n",
    "    add_significance(\"p\") %>% \n",
    "    add_xy_position(x = \"expGroup\") \n",
    "    \n",
    "    stat.test <- stat.test %>% arrange(desc(y.position))\n",
    "    stat.test$rank <- c(1:nrow(stat.test))\n",
    "    stat.test$y.position <- YLIM - ((0.05*stat.test$rank)*YLIM)\n",
    "                                       \n",
    "    sig_bars <- stat_pvalue_manual(stat.test, label = \"p.adj.signif\",tip.length=0) \n",
    "    \n",
    "    acute_boxplot <- acute_boxplot + sig_bars\n",
    "    \n",
    "#     return(acute_boxplot)\n",
    "    print(stat.test)\n",
    "    \n",
    "    ##---------------------------------------\n",
    "    # FINALIZE\n",
    "            \n",
    "    line_plot <- line_plot + common + proper_scale\n",
    "                                       \n",
    "    cntrl_boxplot <- cntrl_boxplot + common + box_common + proper_scale\n",
    "                        \n",
    "    acute_boxplot <- acute_boxplot + common + box_common + proper_scale\n",
    "    \n",
    "\n",
    "\n",
    "    \n",
    "    return(list(\"line_plot\" = line_plot,\n",
    "                \"cntrl_boxplot\" = cntrl_boxplot,\n",
    "                \"acute_boxplot\" = acute_boxplot))\n",
    "    \n",
    "    }\n",
    "\n",
    "DiagnosisPalette = c('#5CB2EB','#F0484E','#FBE77C','#2BC0B3')\n",
    "names(DiagnosisPalette) <- c(\"MIS-C\",\"COVID-19\",\"Control_Non-inflammatory\",\"MIS-C_validation\")\n",
    "\n",
    "expGroupPalette = c('#2BC0B3','#5CB2EB','#F0484E','#FBE77C')\n",
    "names(expGroupPalette) <- c(\"MIS-C_validation\",\"MIS-C_discovery\",\"COVID-19_discovery\",\"Control_Non-inflammatory_discovery\")\n"
   ]
  },
  {
   "cell_type": "code",
   "execution_count": 24,
   "id": "508bfada-6463-4d05-b852-509d81be9719",
   "metadata": {
    "vscode": {
     "languageId": "r"
    }
   },
   "outputs": [],
   "source": [
    "GROUPS = c(\"COVID-19\", \"Control_Non-inflammatory\",\"MIS-C\")\n",
    "\n",
    "\n",
    "\n",
    "meta_data <- read.csv(\"../1_sample-data/STable7_wbrna-samples.csv\") \n",
    "\n",
    "wb_ftcounts <- read.delim(\"../1_sample-data/wbrna_ftcounts.txt\",row.names=1)  \n",
    "\n",
    "wb_ftcounts <- wb_ftcounts[,colSums(wb_ftcounts) > 1]\n",
    "\n",
    "#------------------------\n",
    "## FILTER\n",
    "\n",
    "gene.list <- read.delim(\"../0_support-files/genelist.remove.tsv\",col.names = c(\"type,\",\"ENSMBL\",\"gene_symbol\"))\n",
    "\n",
    "gene.ids <- gsub(\"\\\\..*\",\"\",rownames(wb_ftcounts))\n",
    "\n",
    "exclude.idx <- gene.ids %in% gene.list[,2]\n",
    "\n",
    "wb_ftcounts = wb_ftcounts[!exclude.idx,] \n",
    "\n",
    "#------------------------\n",
    "## NORMALIZE\n",
    "\n",
    "wb_ftcounts <- edgeR::cpm(wb_ftcounts)"
   ]
  },
  {
   "cell_type": "code",
   "execution_count": 25,
   "id": "ef2f4fc0-33c8-4d25-a9fc-d210f490a07c",
   "metadata": {
    "vscode": {
     "languageId": "r"
    }
   },
   "outputs": [
    {
     "name": "stderr",
     "output_type": "stream",
     "text": [
      "Warning message in melt(df, id.vars = ID_KEYS):\n",
      "“The melt generic in data.table has been passed a data.frame and will attempt to redirect to the relevant reshape2 method; please note that reshape2 is deprecated, and this redirection is now deprecated as well. To continue using melt methods from reshape2 while both libraries are attached, e.g. melt.list, you can prepend the namespace like reshape2::melt(df). In the next version, this warning will become an error.”\n"
     ]
    }
   ],
   "source": [
    "NOT_LEFT = list(theme(axis.text.y = element_blank(),axis.ticks.y=element_blank()))\n",
    "\n",
    "\n",
    "\n",
    "# # ACUTE - LINE\n",
    "lay <- rbind(c(2,2,1,1))\n",
    "ACUTE_MARGIN = list(theme(plot.margin=grid::unit(c(0.02,-.025,0,0), \"in\")),scale_x_discrete(expand = expansion(add = 0.5)))\n",
    "# ACUTE_MARGIN = theme(plot.margin=grid::unit(c(0,-.2,0,0), \"in\"))\n",
    "CNTRL_MARGIN = theme(plot.margin=grid::unit(c(0,-.5,0,-.3), \"in\"))\n",
    "LINE_MARGIN = theme(plot.margin=grid::unit(c(0.02,0.02,0,-0.025), \"in\"))\n",
    "GRID_fun <- function(acute_boxplot, cntrl_boxplot, line_plot, lay){grid.arrange( line_plot, acute_boxplot, layout_matrix = lay)}\n",
    "\n",
    "\n",
    "## get data frame with counts\n",
    "tcr_ftcounts <- wb_ftcounts[grepl(\"TRBV11-2\",rownames(wb_ftcounts)),] %>% data.frame()\n",
    "colnames(tcr_ftcounts) <- \"TRVB11.2\"\n",
    "\n",
    "\n",
    "ID_KEYS = c(\"wbrna_sample_id\",\"Diagnosis\",\"group\",\"timepoint\")\n",
    "df <- merge(meta_data[,ID_KEYS], tcr_ftcounts, by.x= \"wbrna_sample_id\", by.y=0)\n",
    "output_melt <- melt(df,id.vars = ID_KEYS) %>% mutate(Diagnosis_group = paste0(Diagnosis,\"_\",group)) %>% \n",
    "        mutate(expGroup = Diagnosis) %>% \n",
    "        mutate(expGroup = ifelse(group == \"validation\",\"MIS-C_validation\",expGroup))\n",
    "\n",
    "output_melt <- output_melt %>% filter(group %in% c(\"discovery\",\"validation\"))\n",
    "\n"
   ]
  },
  {
   "cell_type": "code",
   "execution_count": 26,
   "id": "108f9627-285a-4f25-8b2b-b1bc411c2c7d",
   "metadata": {
    "vscode": {
     "languageId": "r"
    }
   },
   "outputs": [
    {
     "name": "stderr",
     "output_type": "stream",
     "text": [
      "Warning message in qt(conf.interval/2 + 0.5, datac$N - 1):\n",
      "“NaNs produced”\n"
     ]
    },
    {
     "name": "stdout",
     "output_type": "stream",
     "text": [
      "\u001b[90m# A tibble: 6 × 15\u001b[39m\n",
      "  .y.   group1         group2    n1    n2 statistic       p   p.adj p.adj.signif\n",
      "  \u001b[3m\u001b[90m<chr>\u001b[39m\u001b[23m \u001b[3m\u001b[90m<chr>\u001b[39m\u001b[23m          \u001b[3m\u001b[90m<chr>\u001b[39m\u001b[23m  \u001b[3m\u001b[90m<int>\u001b[39m\u001b[23m \u001b[3m\u001b[90m<int>\u001b[39m\u001b[23m     \u001b[3m\u001b[90m<dbl>\u001b[39m\u001b[23m   \u001b[3m\u001b[90m<dbl>\u001b[39m\u001b[23m   \u001b[3m\u001b[90m<dbl>\u001b[39m\u001b[23m \u001b[3m\u001b[90m<chr>\u001b[39m\u001b[23m       \n",
      "\u001b[90m1\u001b[39m value MIS-C          MIS-C…    81    19       857 4.43\u001b[90me\u001b[39m\u001b[31m-1\u001b[39m 5.32\u001b[90me\u001b[39m\u001b[31m-1\u001b[39m ns          \n",
      "\u001b[90m2\u001b[39m value COVID-19       MIS-C…    48    19       303 3.1 \u001b[90me\u001b[39m\u001b[31m-2\u001b[39m 6.2 \u001b[90me\u001b[39m\u001b[31m-2\u001b[39m ns          \n",
      "\u001b[90m3\u001b[39m value COVID-19       MIS-C     48    81      \u001b[4m1\u001b[24m155 1.07\u001b[90me\u001b[39m\u001b[31m-4\u001b[39m 6.42\u001b[90me\u001b[39m\u001b[31m-4\u001b[39m ***         \n",
      "\u001b[90m4\u001b[39m value Control_Non-i… MIS-C…    23    19       208 8   \u001b[90me\u001b[39m\u001b[31m-1\u001b[39m 8   \u001b[90me\u001b[39m\u001b[31m-1\u001b[39m ns          \n",
      "\u001b[90m5\u001b[39m value Control_Non-i… MIS-C     23    81       783 2.45\u001b[90me\u001b[39m\u001b[31m-1\u001b[39m 3.68\u001b[90me\u001b[39m\u001b[31m-1\u001b[39m ns          \n",
      "\u001b[90m6\u001b[39m value Control_Non-i… COVID…    23    48       772 6   \u001b[90me\u001b[39m\u001b[31m-3\u001b[39m 1.8 \u001b[90me\u001b[39m\u001b[31m-2\u001b[39m *           \n",
      "\u001b[90m# … with 6 more variables: p.signif <chr>, y.position <dbl>,\u001b[39m\n",
      "\u001b[90m#   groups <named list>, xmin <dbl>, xmax <dbl>, rank <int>\u001b[39m\n"
     ]
    },
    {
     "name": "stderr",
     "output_type": "stream",
     "text": [
      "Scale for 'y' is already present. Adding another scale for 'y', which will\n",
      "replace the existing scale.\n",
      "\n",
      "Coordinate system already present. Adding new coordinate system, which will replace the existing one.\n",
      "\n",
      "Scale for 'x' is already present. Adding another scale for 'x', which will\n",
      "replace the existing scale.\n",
      "\n",
      "Scale for 'y' is already present. Adding another scale for 'y', which will\n",
      "replace the existing scale.\n",
      "\n",
      "Coordinate system already present. Adding new coordinate system, which will replace the existing one.\n",
      "\n",
      "Scale for 'y' is already present. Adding another scale for 'y', which will\n",
      "replace the existing scale.\n",
      "\n",
      "Coordinate system already present. Adding new coordinate system, which will replace the existing one.\n",
      "\n"
     ]
    },
    {
     "name": "stdout",
     "output_type": "stream",
     "text": [
      "TableGrob (1 x 4) \"arrange\": 2 grobs\n",
      "  z     cells    name           grob\n",
      "1 1 (1-1,3-4) arrange gtable[layout]\n",
      "2 2 (1-1,1-2) arrange gtable[layout]\n"
     ]
    },
    {
     "data": {
      "text/html": [
       "<strong>png:</strong> 2"
      ],
      "text/latex": [
       "\\textbf{png:} 2"
      ],
      "text/markdown": [
       "**png:** 2"
      ],
      "text/plain": [
       "png \n",
       "  2 "
      ]
     },
     "metadata": {},
     "output_type": "display_data"
    }
   ],
   "source": [
    "WIDTH = 2.75\n",
    "HEIGHT = 1.2\n",
    "\n",
    "##------------------------------------\n",
    "GENE = 'TRBV11-2'\n",
    "\n",
    "LIM = 12\n",
    "\n",
    "\n",
    "all_plots <- get_plots(output_melt,expGroupPalette,DiagnosisPalette,LIM)\n",
    "\n",
    "LIMITS =  list(scale_y_continuous(breaks = seq(0,LIM,length.out  = 5)), #labels = function(x) format(x, scientific = TRUE, digits = 2)),\n",
    "               coord_cartesian(ylim = c(0,LIM))\n",
    "              )\n",
    "\n",
    "cntrl_boxplot <- all_plots[[\"cntrl_boxplot\"]] + CNTRL_MARGIN + NOT_LEFT + LIMITS\n",
    "acute_boxplot <- all_plots[[\"acute_boxplot\"]] + ACUTE_MARGIN + LIMITS\n",
    "line_plot <- all_plots[[\"line_plot\"]] + LINE_MARGIN + NOT_LEFT + LIMITS\n",
    "               \n",
    "pdf(file=paste0(\"plots/SupPanelC_\",GENE,\".pdf\"),\n",
    "        width=WIDTH,height=HEIGHT, paper=\"special\", bg=\"white\",\n",
    "        fonts=\"Helvetica\", colormodel = \"srgb\", pointsize=6, useDingbats = FALSE)\n",
    "\n",
    "all_plt <- GRID_fun(acute_boxplot, cntrl_boxplot, line_plot, lay)\n",
    "\n",
    "print(all_plt)\n",
    "               \n",
    "dev.off()\n",
    "\n"
   ]
  },
  {
   "cell_type": "code",
   "execution_count": 27,
   "id": "51c016a8-c772-4bd3-aaf0-8e803ffb75a1",
   "metadata": {
    "vscode": {
     "languageId": "r"
    }
   },
   "outputs": [
    {
     "name": "stderr",
     "output_type": "stream",
     "text": [
      "Warning message in melt(df, id.vars = ID_KEYS):\n",
      "“The melt generic in data.table has been passed a data.frame and will attempt to redirect to the relevant reshape2 method; please note that reshape2 is deprecated, and this redirection is now deprecated as well. To continue using melt methods from reshape2 while both libraries are attached, e.g. melt.list, you can prepend the namespace like reshape2::melt(df). In the next version, this warning will become an error.”\n",
      "Warning message in qt(conf.interval/2 + 0.5, datac$N - 1):\n",
      "“NaNs produced”\n"
     ]
    },
    {
     "name": "stdout",
     "output_type": "stream",
     "text": [
      "\u001b[90m# A tibble: 6 × 15\u001b[39m\n",
      "  .y.   group1       group2    n1    n2 statistic        p    p.adj p.adj.signif\n",
      "  \u001b[3m\u001b[90m<chr>\u001b[39m\u001b[23m \u001b[3m\u001b[90m<chr>\u001b[39m\u001b[23m        \u001b[3m\u001b[90m<chr>\u001b[39m\u001b[23m  \u001b[3m\u001b[90m<int>\u001b[39m\u001b[23m \u001b[3m\u001b[90m<int>\u001b[39m\u001b[23m     \u001b[3m\u001b[90m<dbl>\u001b[39m\u001b[23m    \u001b[3m\u001b[90m<dbl>\u001b[39m\u001b[23m    \u001b[3m\u001b[90m<dbl>\u001b[39m\u001b[23m \u001b[3m\u001b[90m<chr>\u001b[39m\u001b[23m       \n",
      "\u001b[90m1\u001b[39m value MIS-C        MIS-C…    81    19      846. 5.01\u001b[90me\u001b[39m\u001b[31m- 1\u001b[39m 5.01\u001b[90me\u001b[39m\u001b[31m- 1\u001b[39m ns          \n",
      "\u001b[90m2\u001b[39m value COVID-19     MIS-C…    48    19      574. 1.04\u001b[90me\u001b[39m\u001b[31m- 1\u001b[39m 1.56\u001b[90me\u001b[39m\u001b[31m- 1\u001b[39m ns          \n",
      "\u001b[90m3\u001b[39m value COVID-19     MIS-C     48    81     \u001b[4m2\u001b[24m242. 1.48\u001b[90me\u001b[39m\u001b[31m- 1\u001b[39m 1.78\u001b[90me\u001b[39m\u001b[31m- 1\u001b[39m ns          \n",
      "\u001b[90m4\u001b[39m value Control_Non… MIS-C…    23    19      428  4.34\u001b[90me\u001b[39m\u001b[31m-10\u001b[39m 1.30\u001b[90me\u001b[39m\u001b[31m- 9\u001b[39m ****        \n",
      "\u001b[90m5\u001b[39m value Control_Non… MIS-C     23    81     \u001b[4m1\u001b[24m771  4.95\u001b[90me\u001b[39m\u001b[31m-11\u001b[39m 2.97\u001b[90me\u001b[39m\u001b[31m-10\u001b[39m ****        \n",
      "\u001b[90m6\u001b[39m value Control_Non… COVID…    23    48     \u001b[4m1\u001b[24m040  2.09\u001b[90me\u001b[39m\u001b[31m- 9\u001b[39m 4.18\u001b[90me\u001b[39m\u001b[31m- 9\u001b[39m ****        \n",
      "\u001b[90m# … with 6 more variables: p.signif <chr>, y.position <dbl>,\u001b[39m\n",
      "\u001b[90m#   groups <named list>, xmin <dbl>, xmax <dbl>, rank <int>\u001b[39m\n"
     ]
    },
    {
     "name": "stderr",
     "output_type": "stream",
     "text": [
      "Scale for 'y' is already present. Adding another scale for 'y', which will\n",
      "replace the existing scale.\n",
      "\n",
      "Coordinate system already present. Adding new coordinate system, which will replace the existing one.\n",
      "\n",
      "Scale for 'x' is already present. Adding another scale for 'x', which will\n",
      "replace the existing scale.\n",
      "\n",
      "Scale for 'y' is already present. Adding another scale for 'y', which will\n",
      "replace the existing scale.\n",
      "\n",
      "Coordinate system already present. Adding new coordinate system, which will replace the existing one.\n",
      "\n",
      "Scale for 'y' is already present. Adding another scale for 'y', which will\n",
      "replace the existing scale.\n",
      "\n",
      "Coordinate system already present. Adding new coordinate system, which will replace the existing one.\n",
      "\n"
     ]
    },
    {
     "name": "stdout",
     "output_type": "stream",
     "text": [
      "TableGrob (1 x 4) \"arrange\": 2 grobs\n",
      "  z     cells    name           grob\n",
      "1 1 (1-1,3-4) arrange gtable[layout]\n",
      "2 2 (1-1,1-2) arrange gtable[layout]\n"
     ]
    },
    {
     "data": {
      "text/html": [
       "<strong>png:</strong> 2"
      ],
      "text/latex": [
       "\\textbf{png:} 2"
      ],
      "text/markdown": [
       "**png:** 2"
      ],
      "text/plain": [
       "png \n",
       "  2 "
      ]
     },
     "metadata": {},
     "output_type": "display_data"
    }
   ],
   "source": [
    "GENE_NAME <- \"KLRB1\"\n",
    "\n",
    "\n",
    "## get data frame with counts\n",
    "tcr_ftcounts <- wb_ftcounts[grepl(GENE_NAME,rownames(wb_ftcounts)),] %>% data.frame()\n",
    "colnames(tcr_ftcounts) <- GENE_NAME\n",
    "\n",
    "\n",
    "ID_KEYS = c(\"wbrna_sample_id\",\"Diagnosis\",\"group\",\"timepoint\")\n",
    "df <- merge(meta_data[,ID_KEYS], tcr_ftcounts, by.x= \"wbrna_sample_id\", by.y=0)\n",
    "output_melt <- melt(df,id.vars = ID_KEYS) %>% mutate(Diagnosis_group = paste0(Diagnosis,\"_\",group)) %>% \n",
    "        mutate(expGroup = Diagnosis) %>% \n",
    "        mutate(expGroup = ifelse(group == \"validation\",\"MIS-C_validation\",expGroup))\n",
    "# output_melt <- output_melt %>% filter(group %in% c(\"discovery\",\"validation\"))\n",
    "\n",
    "\n",
    "##-----------------------------------\n",
    "LIM = 100\n",
    "WIDTH = 2.75\n",
    "HEIGHT = 1.2\n",
    "\n",
    "all_plots <- get_plots(output_melt,expGroupPalette,DiagnosisPalette,LIM)\n",
    "\n",
    "LIMITS =  list(scale_y_continuous(breaks = seq(0,LIM,length.out  = 5)), #labels = function(x) format(x, scientific = TRUE, digits = 2)),\n",
    "               coord_cartesian(ylim = c(0,LIM))\n",
    "              )\n",
    "\n",
    "cntrl_boxplot <- all_plots[[\"cntrl_boxplot\"]] + CNTRL_MARGIN + NOT_LEFT + LIMITS\n",
    "acute_boxplot <- all_plots[[\"acute_boxplot\"]] + ACUTE_MARGIN + LIMITS\n",
    "line_plot <- all_plots[[\"line_plot\"]] + LINE_MARGIN + NOT_LEFT + LIMITS\n",
    "               \n",
    "pdf(file=paste0(\"plots/SupPanelC_\",GENE_NAME,\".pdf\"),\n",
    "        width=WIDTH,height=HEIGHT, paper=\"special\", bg=\"white\",\n",
    "        fonts=\"Helvetica\", colormodel = \"srgb\", pointsize=6, useDingbats = FALSE)\n",
    "\n",
    "all_plt <- GRID_fun(acute_boxplot, cntrl_boxplot, line_plot, lay)\n",
    "\n",
    "print(all_plt)\n",
    "               \n",
    "dev.off()"
   ]
  },
  {
   "cell_type": "code",
   "execution_count": 28,
   "id": "288aefe4-272b-4b4a-8d4d-5d3cd642fd95",
   "metadata": {
    "vscode": {
     "languageId": "r"
    }
   },
   "outputs": [
    {
     "name": "stderr",
     "output_type": "stream",
     "text": [
      "Warning message in melt(df, id.vars = ID_KEYS):\n",
      "“The melt generic in data.table has been passed a data.frame and will attempt to redirect to the relevant reshape2 method; please note that reshape2 is deprecated, and this redirection is now deprecated as well. To continue using melt methods from reshape2 while both libraries are attached, e.g. melt.list, you can prepend the namespace like reshape2::melt(df). In the next version, this warning will become an error.”\n",
      "Warning message in qt(conf.interval/2 + 0.5, datac$N - 1):\n",
      "“NaNs produced”\n"
     ]
    },
    {
     "name": "stdout",
     "output_type": "stream",
     "text": [
      "\u001b[90m# A tibble: 6 × 15\u001b[39m\n",
      "  .y.   group1       group2    n1    n2 statistic        p    p.adj p.adj.signif\n",
      "  \u001b[3m\u001b[90m<chr>\u001b[39m\u001b[23m \u001b[3m\u001b[90m<chr>\u001b[39m\u001b[23m        \u001b[3m\u001b[90m<chr>\u001b[39m\u001b[23m  \u001b[3m\u001b[90m<int>\u001b[39m\u001b[23m \u001b[3m\u001b[90m<int>\u001b[39m\u001b[23m     \u001b[3m\u001b[90m<dbl>\u001b[39m\u001b[23m    \u001b[3m\u001b[90m<dbl>\u001b[39m\u001b[23m    \u001b[3m\u001b[90m<dbl>\u001b[39m\u001b[23m \u001b[3m\u001b[90m<chr>\u001b[39m\u001b[23m       \n",
      "\u001b[90m1\u001b[39m value MIS-C        MIS-C…    81    19      \u001b[4m1\u001b[24m354 2.87\u001b[90me\u001b[39m\u001b[31m- 7\u001b[39m 5.74\u001b[90me\u001b[39m\u001b[31m- 7\u001b[39m ****        \n",
      "\u001b[90m2\u001b[39m value COVID-19     MIS-C…    48    19       676 2   \u001b[90me\u001b[39m\u001b[31m- 3\u001b[39m 2.4 \u001b[90me\u001b[39m\u001b[31m- 3\u001b[39m **          \n",
      "\u001b[90m3\u001b[39m value COVID-19     MIS-C     48    81      \u001b[4m1\u001b[24m547 5.3 \u001b[90me\u001b[39m\u001b[31m- 2\u001b[39m 5.3 \u001b[90me\u001b[39m\u001b[31m- 2\u001b[39m ns          \n",
      "\u001b[90m4\u001b[39m value Control_Non… MIS-C…    23    19        34 8.54\u001b[90me\u001b[39m\u001b[31m- 7\u001b[39m 1.28\u001b[90me\u001b[39m\u001b[31m- 6\u001b[39m ****        \n",
      "\u001b[90m5\u001b[39m value Control_Non… MIS-C     23    81        61 7.57\u001b[90me\u001b[39m\u001b[31m-12\u001b[39m 4.54\u001b[90me\u001b[39m\u001b[31m-11\u001b[39m ****        \n",
      "\u001b[90m6\u001b[39m value Control_Non… COVID…    23    48       102 1.63\u001b[90me\u001b[39m\u001b[31m- 8\u001b[39m 4.89\u001b[90me\u001b[39m\u001b[31m- 8\u001b[39m ****        \n",
      "\u001b[90m# … with 6 more variables: p.signif <chr>, y.position <dbl>,\u001b[39m\n",
      "\u001b[90m#   groups <named list>, xmin <dbl>, xmax <dbl>, rank <int>\u001b[39m\n"
     ]
    },
    {
     "name": "stderr",
     "output_type": "stream",
     "text": [
      "Scale for 'y' is already present. Adding another scale for 'y', which will\n",
      "replace the existing scale.\n",
      "\n",
      "Coordinate system already present. Adding new coordinate system, which will replace the existing one.\n",
      "\n",
      "Scale for 'x' is already present. Adding another scale for 'x', which will\n",
      "replace the existing scale.\n",
      "\n",
      "Scale for 'y' is already present. Adding another scale for 'y', which will\n",
      "replace the existing scale.\n",
      "\n",
      "Coordinate system already present. Adding new coordinate system, which will replace the existing one.\n",
      "\n",
      "Scale for 'y' is already present. Adding another scale for 'y', which will\n",
      "replace the existing scale.\n",
      "\n",
      "Coordinate system already present. Adding new coordinate system, which will replace the existing one.\n",
      "\n"
     ]
    },
    {
     "name": "stdout",
     "output_type": "stream",
     "text": [
      "TableGrob (1 x 4) \"arrange\": 2 grobs\n",
      "  z     cells    name           grob\n",
      "1 1 (1-1,3-4) arrange gtable[layout]\n",
      "2 2 (1-1,1-2) arrange gtable[layout]\n"
     ]
    },
    {
     "data": {
      "text/html": [
       "<strong>png:</strong> 2"
      ],
      "text/latex": [
       "\\textbf{png:} 2"
      ],
      "text/markdown": [
       "**png:** 2"
      ],
      "text/plain": [
       "png \n",
       "  2 "
      ]
     },
     "metadata": {},
     "output_type": "display_data"
    }
   ],
   "source": [
    "GENE_NAME <- \"ADAMTS2$\"\n",
    "\n",
    "\n",
    "## get data frame with counts\n",
    "tcr_ftcounts <- wb_ftcounts[grepl(GENE_NAME,rownames(wb_ftcounts)),] %>% data.frame()\n",
    "colnames(tcr_ftcounts) <- GENE_NAME\n",
    "\n",
    "\n",
    "ID_KEYS = c(\"wbrna_sample_id\",\"Diagnosis\",\"group\",\"timepoint\")\n",
    "df <- merge(meta_data[,ID_KEYS], tcr_ftcounts, by.x= \"wbrna_sample_id\", by.y=0)\n",
    "output_melt <- melt(df,id.vars = ID_KEYS) %>% mutate(Diagnosis_group = paste0(Diagnosis,\"_\",group)) %>% \n",
    "        mutate(expGroup = Diagnosis) %>% \n",
    "        mutate(expGroup = ifelse(group == \"validation\",\"MIS-C_validation\",expGroup))\n",
    "# output_melt <- output_melt %>% filter(group %in% c(\"discovery\",\"validation\"))\n",
    "\n",
    "\n",
    "##-----------------------------------\n",
    "LIM = 120\n",
    "WIDTH = 2.75\n",
    "HEIGHT = 1.2\n",
    "\n",
    "all_plots <- get_plots(output_melt,expGroupPalette,DiagnosisPalette,LIM)\n",
    "\n",
    "LIMITS =  list(scale_y_continuous(breaks = seq(0,LIM,length.out  = 5)), #labels = function(x) format(x, scientific = TRUE, digits = 2)),\n",
    "               coord_cartesian(ylim = c(0,LIM))\n",
    "              )\n",
    "\n",
    "cntrl_boxplot <- all_plots[[\"cntrl_boxplot\"]] + CNTRL_MARGIN + NOT_LEFT + LIMITS\n",
    "acute_boxplot <- all_plots[[\"acute_boxplot\"]] + ACUTE_MARGIN + LIMITS\n",
    "line_plot <- all_plots[[\"line_plot\"]] + LINE_MARGIN + NOT_LEFT + LIMITS\n",
    "               \n",
    "pdf(file=paste0(\"plots/SupPanelC_\",GENE_NAME,\".pdf\"),\n",
    "        width=WIDTH,height=HEIGHT, paper=\"special\", bg=\"white\",\n",
    "        fonts=\"Helvetica\", colormodel = \"srgb\", pointsize=6, useDingbats = FALSE)\n",
    "\n",
    "all_plt <- GRID_fun(acute_boxplot, cntrl_boxplot, line_plot, lay)\n",
    "\n",
    "print(all_plt)\n",
    "               \n",
    "dev.off()"
   ]
  },
  {
   "attachments": {},
   "cell_type": "markdown",
   "id": "d7959dc7-9d97-45da-9cfd-b87effca1e4b",
   "metadata": {},
   "source": [
    "---\n",
    "# PAPER"
   ]
  },
  {
   "cell_type": "code",
   "execution_count": 8,
   "id": "3842b5ee-8036-493c-8c88-736cd121bbe4",
   "metadata": {
    "vscode": {
     "languageId": "r"
    }
   },
   "outputs": [
    {
     "data": {
      "text/html": [
       "1097"
      ],
      "text/latex": [
       "1097"
      ],
      "text/markdown": [
       "1097"
      ],
      "text/plain": [
       "[1] 1097"
      ]
     },
     "metadata": {},
     "output_type": "display_data"
    },
    {
     "data": {
      "text/html": [
       "84"
      ],
      "text/latex": [
       "84"
      ],
      "text/markdown": [
       "84"
      ],
      "text/plain": [
       "[1] 84"
      ]
     },
     "metadata": {},
     "output_type": "display_data"
    },
    {
     "data": {
      "text/html": [
       "2024"
      ],
      "text/latex": [
       "2024"
      ],
      "text/markdown": [
       "2024"
      ],
      "text/plain": [
       "[1] 2024"
      ]
     },
     "metadata": {},
     "output_type": "display_data"
    }
   ],
   "source": [
    "covid_control %>% filter(padj < 0.01) %>% filter(abs(log2FoldChange) > 1.5) %>% nrow()\n",
    "misc_covid %>% filter(padj < 0.01) %>% filter(abs(log2FoldChange) > 1.5) %>% nrow()\n",
    "misc_control %>% filter(padj < 0.01) %>% filter(abs(log2FoldChange) > 1.5) %>% nrow()"
   ]
  },
  {
   "cell_type": "code",
   "execution_count": 10,
   "id": "7b9ef553-b035-4d20-93e9-f31cc1a98d33",
   "metadata": {
    "vscode": {
     "languageId": "r"
    }
   },
   "outputs": [
    {
     "data": {
      "text/html": [
       "<table class=\"dataframe\">\n",
       "<caption>A data.frame: 6 × 10</caption>\n",
       "<thead>\n",
       "\t<tr><th></th><th scope=col>GeneID</th><th scope=col>baseMean</th><th scope=col>log2FoldChange</th><th scope=col>lfcSE</th><th scope=col>stat</th><th scope=col>pvalue</th><th scope=col>padj</th><th scope=col>gene_name</th><th scope=col>gene_type</th><th scope=col>gene_id</th></tr>\n",
       "\t<tr><th></th><th scope=col>&lt;chr&gt;</th><th scope=col>&lt;dbl&gt;</th><th scope=col>&lt;dbl&gt;</th><th scope=col>&lt;dbl&gt;</th><th scope=col>&lt;dbl&gt;</th><th scope=col>&lt;dbl&gt;</th><th scope=col>&lt;dbl&gt;</th><th scope=col>&lt;lgl&gt;</th><th scope=col>&lt;lgl&gt;</th><th scope=col>&lt;chr&gt;</th></tr>\n",
       "</thead>\n",
       "<tbody>\n",
       "\t<tr><th scope=row>1</th><td>ENSG00000087116.16_ADAMTS2</td><td> 89.49833</td><td>8.745510</td><td>0.5187532</td><td>16.858711</td><td>9.054249e-64</td><td>2.327666e-59</td><td>NA</td><td>NA</td><td>ENSG00000087116.16_ADAMTS2</td></tr>\n",
       "\t<tr><th scope=row>2</th><td>ENSG00000152463.15_OLAH   </td><td> 46.05071</td><td>8.351030</td><td>0.6401892</td><td>13.044628</td><td>6.818868e-39</td><td>1.593631e-35</td><td>NA</td><td>NA</td><td>ENSG00000152463.15_OLAH   </td></tr>\n",
       "\t<tr><th scope=row>3</th><td>ENSG00000204936.10_CD177  </td><td>348.46319</td><td>8.117924</td><td>0.5151844</td><td>15.757316</td><td>6.117692e-56</td><td>3.931841e-52</td><td>NA</td><td>NA</td><td>ENSG00000204936.10_CD177  </td></tr>\n",
       "\t<tr><th scope=row>4</th><td>ENSG00000135424.18_ITGA7  </td><td> 85.53971</td><td>6.672330</td><td>0.4895740</td><td>13.628850</td><td>2.697973e-42</td><td>7.706611e-39</td><td>NA</td><td>NA</td><td>ENSG00000135424.18_ITGA7  </td></tr>\n",
       "\t<tr><th scope=row>5</th><td>ENSG00000169174.11_PCSK9  </td><td> 10.61449</td><td>6.341073</td><td>0.7053181</td><td> 8.990374</td><td>2.463903e-19</td><td>3.060001e-17</td><td>NA</td><td>NA</td><td>ENSG00000169174.11_PCSK9  </td></tr>\n",
       "\t<tr><th scope=row>6</th><td>ENSG00000088340.17_FER1L4 </td><td> 11.22655</td><td>6.124927</td><td>0.6094961</td><td>10.049164</td><td>9.264964e-24</td><td>2.507197e-21</td><td>NA</td><td>NA</td><td>ENSG00000088340.17_FER1L4 </td></tr>\n",
       "</tbody>\n",
       "</table>\n"
      ],
      "text/latex": [
       "A data.frame: 6 × 10\n",
       "\\begin{tabular}{r|llllllllll}\n",
       "  & GeneID & baseMean & log2FoldChange & lfcSE & stat & pvalue & padj & gene\\_name & gene\\_type & gene\\_id\\\\\n",
       "  & <chr> & <dbl> & <dbl> & <dbl> & <dbl> & <dbl> & <dbl> & <lgl> & <lgl> & <chr>\\\\\n",
       "\\hline\n",
       "\t1 & ENSG00000087116.16\\_ADAMTS2 &  89.49833 & 8.745510 & 0.5187532 & 16.858711 & 9.054249e-64 & 2.327666e-59 & NA & NA & ENSG00000087116.16\\_ADAMTS2\\\\\n",
       "\t2 & ENSG00000152463.15\\_OLAH    &  46.05071 & 8.351030 & 0.6401892 & 13.044628 & 6.818868e-39 & 1.593631e-35 & NA & NA & ENSG00000152463.15\\_OLAH   \\\\\n",
       "\t3 & ENSG00000204936.10\\_CD177   & 348.46319 & 8.117924 & 0.5151844 & 15.757316 & 6.117692e-56 & 3.931841e-52 & NA & NA & ENSG00000204936.10\\_CD177  \\\\\n",
       "\t4 & ENSG00000135424.18\\_ITGA7   &  85.53971 & 6.672330 & 0.4895740 & 13.628850 & 2.697973e-42 & 7.706611e-39 & NA & NA & ENSG00000135424.18\\_ITGA7  \\\\\n",
       "\t5 & ENSG00000169174.11\\_PCSK9   &  10.61449 & 6.341073 & 0.7053181 &  8.990374 & 2.463903e-19 & 3.060001e-17 & NA & NA & ENSG00000169174.11\\_PCSK9  \\\\\n",
       "\t6 & ENSG00000088340.17\\_FER1L4  &  11.22655 & 6.124927 & 0.6094961 & 10.049164 & 9.264964e-24 & 2.507197e-21 & NA & NA & ENSG00000088340.17\\_FER1L4 \\\\\n",
       "\\end{tabular}\n"
      ],
      "text/markdown": [
       "\n",
       "A data.frame: 6 × 10\n",
       "\n",
       "| <!--/--> | GeneID &lt;chr&gt; | baseMean &lt;dbl&gt; | log2FoldChange &lt;dbl&gt; | lfcSE &lt;dbl&gt; | stat &lt;dbl&gt; | pvalue &lt;dbl&gt; | padj &lt;dbl&gt; | gene_name &lt;lgl&gt; | gene_type &lt;lgl&gt; | gene_id &lt;chr&gt; |\n",
       "|---|---|---|---|---|---|---|---|---|---|---|\n",
       "| 1 | ENSG00000087116.16_ADAMTS2 |  89.49833 | 8.745510 | 0.5187532 | 16.858711 | 9.054249e-64 | 2.327666e-59 | NA | NA | ENSG00000087116.16_ADAMTS2 |\n",
       "| 2 | ENSG00000152463.15_OLAH    |  46.05071 | 8.351030 | 0.6401892 | 13.044628 | 6.818868e-39 | 1.593631e-35 | NA | NA | ENSG00000152463.15_OLAH    |\n",
       "| 3 | ENSG00000204936.10_CD177   | 348.46319 | 8.117924 | 0.5151844 | 15.757316 | 6.117692e-56 | 3.931841e-52 | NA | NA | ENSG00000204936.10_CD177   |\n",
       "| 4 | ENSG00000135424.18_ITGA7   |  85.53971 | 6.672330 | 0.4895740 | 13.628850 | 2.697973e-42 | 7.706611e-39 | NA | NA | ENSG00000135424.18_ITGA7   |\n",
       "| 5 | ENSG00000169174.11_PCSK9   |  10.61449 | 6.341073 | 0.7053181 |  8.990374 | 2.463903e-19 | 3.060001e-17 | NA | NA | ENSG00000169174.11_PCSK9   |\n",
       "| 6 | ENSG00000088340.17_FER1L4  |  11.22655 | 6.124927 | 0.6094961 | 10.049164 | 9.264964e-24 | 2.507197e-21 | NA | NA | ENSG00000088340.17_FER1L4  |\n",
       "\n"
      ],
      "text/plain": [
       "  GeneID                     baseMean  log2FoldChange lfcSE     stat     \n",
       "1 ENSG00000087116.16_ADAMTS2  89.49833 8.745510       0.5187532 16.858711\n",
       "2 ENSG00000152463.15_OLAH     46.05071 8.351030       0.6401892 13.044628\n",
       "3 ENSG00000204936.10_CD177   348.46319 8.117924       0.5151844 15.757316\n",
       "4 ENSG00000135424.18_ITGA7    85.53971 6.672330       0.4895740 13.628850\n",
       "5 ENSG00000169174.11_PCSK9    10.61449 6.341073       0.7053181  8.990374\n",
       "6 ENSG00000088340.17_FER1L4   11.22655 6.124927       0.6094961 10.049164\n",
       "  pvalue       padj         gene_name gene_type gene_id                   \n",
       "1 9.054249e-64 2.327666e-59 NA        NA        ENSG00000087116.16_ADAMTS2\n",
       "2 6.818868e-39 1.593631e-35 NA        NA        ENSG00000152463.15_OLAH   \n",
       "3 6.117692e-56 3.931841e-52 NA        NA        ENSG00000204936.10_CD177  \n",
       "4 2.697973e-42 7.706611e-39 NA        NA        ENSG00000135424.18_ITGA7  \n",
       "5 2.463903e-19 3.060001e-17 NA        NA        ENSG00000169174.11_PCSK9  \n",
       "6 9.264964e-24 2.507197e-21 NA        NA        ENSG00000088340.17_FER1L4 "
      ]
     },
     "metadata": {},
     "output_type": "display_data"
    },
    {
     "data": {
      "text/html": [
       "<table class=\"dataframe\">\n",
       "<caption>A data.frame: 6 × 10</caption>\n",
       "<thead>\n",
       "\t<tr><th></th><th scope=col>GeneID</th><th scope=col>baseMean</th><th scope=col>log2FoldChange</th><th scope=col>lfcSE</th><th scope=col>stat</th><th scope=col>pvalue</th><th scope=col>padj</th><th scope=col>gene_name</th><th scope=col>gene_type</th><th scope=col>gene_id</th></tr>\n",
       "\t<tr><th></th><th scope=col>&lt;chr&gt;</th><th scope=col>&lt;dbl&gt;</th><th scope=col>&lt;dbl&gt;</th><th scope=col>&lt;dbl&gt;</th><th scope=col>&lt;dbl&gt;</th><th scope=col>&lt;dbl&gt;</th><th scope=col>&lt;dbl&gt;</th><th scope=col>&lt;lgl&gt;</th><th scope=col>&lt;lgl&gt;</th><th scope=col>&lt;chr&gt;</th></tr>\n",
       "</thead>\n",
       "<tbody>\n",
       "\t<tr><th scope=row>1</th><td>ENSG00000087116.16_ADAMTS2</td><td> 84.088364</td><td>8.802788</td><td>0.7471866</td><td>11.781245</td><td>4.876733e-32</td><td>6.518079e-28</td><td>NA</td><td>NA</td><td>ENSG00000087116.16_ADAMTS2</td></tr>\n",
       "\t<tr><th scope=row>2</th><td>ENSG00000152463.15_OLAH   </td><td> 10.971858</td><td>6.372328</td><td>0.8855958</td><td> 7.195526</td><td>6.222040e-13</td><td>2.169436e-10</td><td>NA</td><td>NA</td><td>ENSG00000152463.15_OLAH   </td></tr>\n",
       "\t<tr><th scope=row>3</th><td>ENSG00000115155.19_OTOF   </td><td> 57.669326</td><td>6.286742</td><td>0.6953879</td><td> 9.040626</td><td>1.557770e-19</td><td>4.164128e-16</td><td>NA</td><td>NA</td><td>ENSG00000115155.19_OTOF   </td></tr>\n",
       "\t<tr><th scope=row>4</th><td>ENSG00000204936.10_CD177  </td><td> 86.395210</td><td>6.277380</td><td>0.5714206</td><td>10.985570</td><td>4.483995e-28</td><td>2.996579e-24</td><td>NA</td><td>NA</td><td>ENSG00000204936.10_CD177  </td></tr>\n",
       "\t<tr><th scope=row>5</th><td>ENSG00000165949.12_IFI27  </td><td>794.929388</td><td>5.965423</td><td>0.5144332</td><td>11.596108</td><td>4.312476e-31</td><td>4.322934e-27</td><td>NA</td><td>NA</td><td>ENSG00000165949.12_IFI27  </td></tr>\n",
       "\t<tr><th scope=row>6</th><td>ENSG00000108821.14_COL1A1 </td><td>  5.215902</td><td>5.718440</td><td>1.2027668</td><td> 4.754405</td><td>1.990321e-06</td><td>7.451531e-05</td><td>NA</td><td>NA</td><td>ENSG00000108821.14_COL1A1 </td></tr>\n",
       "</tbody>\n",
       "</table>\n"
      ],
      "text/latex": [
       "A data.frame: 6 × 10\n",
       "\\begin{tabular}{r|llllllllll}\n",
       "  & GeneID & baseMean & log2FoldChange & lfcSE & stat & pvalue & padj & gene\\_name & gene\\_type & gene\\_id\\\\\n",
       "  & <chr> & <dbl> & <dbl> & <dbl> & <dbl> & <dbl> & <dbl> & <lgl> & <lgl> & <chr>\\\\\n",
       "\\hline\n",
       "\t1 & ENSG00000087116.16\\_ADAMTS2 &  84.088364 & 8.802788 & 0.7471866 & 11.781245 & 4.876733e-32 & 6.518079e-28 & NA & NA & ENSG00000087116.16\\_ADAMTS2\\\\\n",
       "\t2 & ENSG00000152463.15\\_OLAH    &  10.971858 & 6.372328 & 0.8855958 &  7.195526 & 6.222040e-13 & 2.169436e-10 & NA & NA & ENSG00000152463.15\\_OLAH   \\\\\n",
       "\t3 & ENSG00000115155.19\\_OTOF    &  57.669326 & 6.286742 & 0.6953879 &  9.040626 & 1.557770e-19 & 4.164128e-16 & NA & NA & ENSG00000115155.19\\_OTOF   \\\\\n",
       "\t4 & ENSG00000204936.10\\_CD177   &  86.395210 & 6.277380 & 0.5714206 & 10.985570 & 4.483995e-28 & 2.996579e-24 & NA & NA & ENSG00000204936.10\\_CD177  \\\\\n",
       "\t5 & ENSG00000165949.12\\_IFI27   & 794.929388 & 5.965423 & 0.5144332 & 11.596108 & 4.312476e-31 & 4.322934e-27 & NA & NA & ENSG00000165949.12\\_IFI27  \\\\\n",
       "\t6 & ENSG00000108821.14\\_COL1A1  &   5.215902 & 5.718440 & 1.2027668 &  4.754405 & 1.990321e-06 & 7.451531e-05 & NA & NA & ENSG00000108821.14\\_COL1A1 \\\\\n",
       "\\end{tabular}\n"
      ],
      "text/markdown": [
       "\n",
       "A data.frame: 6 × 10\n",
       "\n",
       "| <!--/--> | GeneID &lt;chr&gt; | baseMean &lt;dbl&gt; | log2FoldChange &lt;dbl&gt; | lfcSE &lt;dbl&gt; | stat &lt;dbl&gt; | pvalue &lt;dbl&gt; | padj &lt;dbl&gt; | gene_name &lt;lgl&gt; | gene_type &lt;lgl&gt; | gene_id &lt;chr&gt; |\n",
       "|---|---|---|---|---|---|---|---|---|---|---|\n",
       "| 1 | ENSG00000087116.16_ADAMTS2 |  84.088364 | 8.802788 | 0.7471866 | 11.781245 | 4.876733e-32 | 6.518079e-28 | NA | NA | ENSG00000087116.16_ADAMTS2 |\n",
       "| 2 | ENSG00000152463.15_OLAH    |  10.971858 | 6.372328 | 0.8855958 |  7.195526 | 6.222040e-13 | 2.169436e-10 | NA | NA | ENSG00000152463.15_OLAH    |\n",
       "| 3 | ENSG00000115155.19_OTOF    |  57.669326 | 6.286742 | 0.6953879 |  9.040626 | 1.557770e-19 | 4.164128e-16 | NA | NA | ENSG00000115155.19_OTOF    |\n",
       "| 4 | ENSG00000204936.10_CD177   |  86.395210 | 6.277380 | 0.5714206 | 10.985570 | 4.483995e-28 | 2.996579e-24 | NA | NA | ENSG00000204936.10_CD177   |\n",
       "| 5 | ENSG00000165949.12_IFI27   | 794.929388 | 5.965423 | 0.5144332 | 11.596108 | 4.312476e-31 | 4.322934e-27 | NA | NA | ENSG00000165949.12_IFI27   |\n",
       "| 6 | ENSG00000108821.14_COL1A1  |   5.215902 | 5.718440 | 1.2027668 |  4.754405 | 1.990321e-06 | 7.451531e-05 | NA | NA | ENSG00000108821.14_COL1A1  |\n",
       "\n"
      ],
      "text/plain": [
       "  GeneID                     baseMean   log2FoldChange lfcSE     stat     \n",
       "1 ENSG00000087116.16_ADAMTS2  84.088364 8.802788       0.7471866 11.781245\n",
       "2 ENSG00000152463.15_OLAH     10.971858 6.372328       0.8855958  7.195526\n",
       "3 ENSG00000115155.19_OTOF     57.669326 6.286742       0.6953879  9.040626\n",
       "4 ENSG00000204936.10_CD177    86.395210 6.277380       0.5714206 10.985570\n",
       "5 ENSG00000165949.12_IFI27   794.929388 5.965423       0.5144332 11.596108\n",
       "6 ENSG00000108821.14_COL1A1    5.215902 5.718440       1.2027668  4.754405\n",
       "  pvalue       padj         gene_name gene_type gene_id                   \n",
       "1 4.876733e-32 6.518079e-28 NA        NA        ENSG00000087116.16_ADAMTS2\n",
       "2 6.222040e-13 2.169436e-10 NA        NA        ENSG00000152463.15_OLAH   \n",
       "3 1.557770e-19 4.164128e-16 NA        NA        ENSG00000115155.19_OTOF   \n",
       "4 4.483995e-28 2.996579e-24 NA        NA        ENSG00000204936.10_CD177  \n",
       "5 4.312476e-31 4.322934e-27 NA        NA        ENSG00000165949.12_IFI27  \n",
       "6 1.990321e-06 7.451531e-05 NA        NA        ENSG00000108821.14_COL1A1 "
      ]
     },
     "metadata": {},
     "output_type": "display_data"
    }
   ],
   "source": [
    "misc_control %>% \n",
    "    filter(padj < 0.01) %>% filter(abs(log2FoldChange) > 1.5) %>% \n",
    "    arrange(desc(log2FoldChange)) %>% head()\n",
    "\n",
    "covid_control %>% \n",
    "    filter(padj < 0.01) %>% filter(abs(log2FoldChange) > 1.5) %>% \n",
    "    arrange(desc(log2FoldChange)) %>% head()"
   ]
  },
  {
   "cell_type": "code",
   "execution_count": 18,
   "id": "f0d4c567-b25b-4ffa-833d-7176364424c3",
   "metadata": {
    "vscode": {
     "languageId": "r"
    }
   },
   "outputs": [
    {
     "data": {
      "text/html": [
       "6"
      ],
      "text/latex": [
       "6"
      ],
      "text/markdown": [
       "6"
      ],
      "text/plain": [
       "[1] 6"
      ]
     },
     "metadata": {},
     "output_type": "display_data"
    },
    {
     "data": {
      "text/html": [
       "<table class=\"dataframe\">\n",
       "<caption>A data.frame: 6 × 10</caption>\n",
       "<thead>\n",
       "\t<tr><th scope=col>GeneID</th><th scope=col>baseMean</th><th scope=col>log2FoldChange</th><th scope=col>lfcSE</th><th scope=col>stat</th><th scope=col>pvalue</th><th scope=col>padj</th><th scope=col>gene_name</th><th scope=col>gene_type</th><th scope=col>gene_id</th></tr>\n",
       "\t<tr><th scope=col>&lt;chr&gt;</th><th scope=col>&lt;dbl&gt;</th><th scope=col>&lt;dbl&gt;</th><th scope=col>&lt;dbl&gt;</th><th scope=col>&lt;dbl&gt;</th><th scope=col>&lt;dbl&gt;</th><th scope=col>&lt;dbl&gt;</th><th scope=col>&lt;chr&gt;</th><th scope=col>&lt;lgl&gt;</th><th scope=col>&lt;chr&gt;</th></tr>\n",
       "</thead>\n",
       "<tbody>\n",
       "\t<tr><td>ENSG00000088827.13_SIGLEC1</td><td>140.0858</td><td>-3.282118</td><td>0.3890308</td><td>-8.436653</td><td>3.265552e-17</td><td>8.605273e-14</td><td>SIGLEC1</td><td>NA</td><td>ENSG00000088827.13_SIGLEC1</td></tr>\n",
       "\t<tr><td>ENSG00000119917.15_IFIT3  </td><td>400.0178</td><td>-2.665187</td><td>0.3658884</td><td>-7.284153</td><td>3.236972e-13</td><td>3.411985e-10</td><td>IFIT3  </td><td>NA</td><td>ENSG00000119917.15_IFIT3  </td></tr>\n",
       "\t<tr><td>ENSG00000119922.11_IFIT2  </td><td>432.0327</td><td>-2.480976</td><td>0.3504720</td><td>-7.078955</td><td>1.452451e-12</td><td>1.208668e-09</td><td>IFIT2  </td><td>NA</td><td>ENSG00000119922.11_IFIT2  </td></tr>\n",
       "\t<tr><td>ENSG00000137959.17_IFI44L </td><td>332.7485</td><td>-3.013164</td><td>0.3804576</td><td>-7.919843</td><td>2.378113e-15</td><td>4.177816e-12</td><td>IFI44L </td><td>NA</td><td>ENSG00000137959.17_IFI44L </td></tr>\n",
       "\t<tr><td>ENSG00000165949.12_IFI27  </td><td>454.5962</td><td>-3.143293</td><td>0.4183590</td><td>-7.513386</td><td>5.761723e-14</td><td>7.591550e-11</td><td>IFI27  </td><td>NA</td><td>ENSG00000165949.12_IFI27  </td></tr>\n",
       "\t<tr><td>ENSG00000187608.10_ISG15  </td><td>240.0384</td><td>-3.005481</td><td>0.3425449</td><td>-8.773977</td><td>1.724641e-18</td><td>9.089435e-15</td><td>ISG15  </td><td>NA</td><td>ENSG00000187608.10_ISG15  </td></tr>\n",
       "</tbody>\n",
       "</table>\n"
      ],
      "text/latex": [
       "A data.frame: 6 × 10\n",
       "\\begin{tabular}{llllllllll}\n",
       " GeneID & baseMean & log2FoldChange & lfcSE & stat & pvalue & padj & gene\\_name & gene\\_type & gene\\_id\\\\\n",
       " <chr> & <dbl> & <dbl> & <dbl> & <dbl> & <dbl> & <dbl> & <chr> & <lgl> & <chr>\\\\\n",
       "\\hline\n",
       "\t ENSG00000088827.13\\_SIGLEC1 & 140.0858 & -3.282118 & 0.3890308 & -8.436653 & 3.265552e-17 & 8.605273e-14 & SIGLEC1 & NA & ENSG00000088827.13\\_SIGLEC1\\\\\n",
       "\t ENSG00000119917.15\\_IFIT3   & 400.0178 & -2.665187 & 0.3658884 & -7.284153 & 3.236972e-13 & 3.411985e-10 & IFIT3   & NA & ENSG00000119917.15\\_IFIT3  \\\\\n",
       "\t ENSG00000119922.11\\_IFIT2   & 432.0327 & -2.480976 & 0.3504720 & -7.078955 & 1.452451e-12 & 1.208668e-09 & IFIT2   & NA & ENSG00000119922.11\\_IFIT2  \\\\\n",
       "\t ENSG00000137959.17\\_IFI44L  & 332.7485 & -3.013164 & 0.3804576 & -7.919843 & 2.378113e-15 & 4.177816e-12 & IFI44L  & NA & ENSG00000137959.17\\_IFI44L \\\\\n",
       "\t ENSG00000165949.12\\_IFI27   & 454.5962 & -3.143293 & 0.4183590 & -7.513386 & 5.761723e-14 & 7.591550e-11 & IFI27   & NA & ENSG00000165949.12\\_IFI27  \\\\\n",
       "\t ENSG00000187608.10\\_ISG15   & 240.0384 & -3.005481 & 0.3425449 & -8.773977 & 1.724641e-18 & 9.089435e-15 & ISG15   & NA & ENSG00000187608.10\\_ISG15  \\\\\n",
       "\\end{tabular}\n"
      ],
      "text/markdown": [
       "\n",
       "A data.frame: 6 × 10\n",
       "\n",
       "| GeneID &lt;chr&gt; | baseMean &lt;dbl&gt; | log2FoldChange &lt;dbl&gt; | lfcSE &lt;dbl&gt; | stat &lt;dbl&gt; | pvalue &lt;dbl&gt; | padj &lt;dbl&gt; | gene_name &lt;chr&gt; | gene_type &lt;lgl&gt; | gene_id &lt;chr&gt; |\n",
       "|---|---|---|---|---|---|---|---|---|---|\n",
       "| ENSG00000088827.13_SIGLEC1 | 140.0858 | -3.282118 | 0.3890308 | -8.436653 | 3.265552e-17 | 8.605273e-14 | SIGLEC1 | NA | ENSG00000088827.13_SIGLEC1 |\n",
       "| ENSG00000119917.15_IFIT3   | 400.0178 | -2.665187 | 0.3658884 | -7.284153 | 3.236972e-13 | 3.411985e-10 | IFIT3   | NA | ENSG00000119917.15_IFIT3   |\n",
       "| ENSG00000119922.11_IFIT2   | 432.0327 | -2.480976 | 0.3504720 | -7.078955 | 1.452451e-12 | 1.208668e-09 | IFIT2   | NA | ENSG00000119922.11_IFIT2   |\n",
       "| ENSG00000137959.17_IFI44L  | 332.7485 | -3.013164 | 0.3804576 | -7.919843 | 2.378113e-15 | 4.177816e-12 | IFI44L  | NA | ENSG00000137959.17_IFI44L  |\n",
       "| ENSG00000165949.12_IFI27   | 454.5962 | -3.143293 | 0.4183590 | -7.513386 | 5.761723e-14 | 7.591550e-11 | IFI27   | NA | ENSG00000165949.12_IFI27   |\n",
       "| ENSG00000187608.10_ISG15   | 240.0384 | -3.005481 | 0.3425449 | -8.773977 | 1.724641e-18 | 9.089435e-15 | ISG15   | NA | ENSG00000187608.10_ISG15   |\n",
       "\n"
      ],
      "text/plain": [
       "  GeneID                     baseMean log2FoldChange lfcSE     stat     \n",
       "1 ENSG00000088827.13_SIGLEC1 140.0858 -3.282118      0.3890308 -8.436653\n",
       "2 ENSG00000119917.15_IFIT3   400.0178 -2.665187      0.3658884 -7.284153\n",
       "3 ENSG00000119922.11_IFIT2   432.0327 -2.480976      0.3504720 -7.078955\n",
       "4 ENSG00000137959.17_IFI44L  332.7485 -3.013164      0.3804576 -7.919843\n",
       "5 ENSG00000165949.12_IFI27   454.5962 -3.143293      0.4183590 -7.513386\n",
       "6 ENSG00000187608.10_ISG15   240.0384 -3.005481      0.3425449 -8.773977\n",
       "  pvalue       padj         gene_name gene_type gene_id                   \n",
       "1 3.265552e-17 8.605273e-14 SIGLEC1   NA        ENSG00000088827.13_SIGLEC1\n",
       "2 3.236972e-13 3.411985e-10 IFIT3     NA        ENSG00000119917.15_IFIT3  \n",
       "3 1.452451e-12 1.208668e-09 IFIT2     NA        ENSG00000119922.11_IFIT2  \n",
       "4 2.378113e-15 4.177816e-12 IFI44L    NA        ENSG00000137959.17_IFI44L \n",
       "5 5.761723e-14 7.591550e-11 IFI27     NA        ENSG00000165949.12_IFI27  \n",
       "6 1.724641e-18 9.089435e-15 ISG15     NA        ENSG00000187608.10_ISG15  "
      ]
     },
     "metadata": {},
     "output_type": "display_data"
    },
    {
     "data": {
      "text/html": [
       "6"
      ],
      "text/latex": [
       "6"
      ],
      "text/markdown": [
       "6"
      ],
      "text/plain": [
       "[1] 6"
      ]
     },
     "metadata": {},
     "output_type": "display_data"
    },
    {
     "data": {
      "text/html": [
       "<table class=\"dataframe\">\n",
       "<caption>A data.frame: 5 × 10</caption>\n",
       "<thead>\n",
       "\t<tr><th scope=col>GeneID</th><th scope=col>baseMean</th><th scope=col>log2FoldChange</th><th scope=col>lfcSE</th><th scope=col>stat</th><th scope=col>pvalue</th><th scope=col>padj</th><th scope=col>gene_name</th><th scope=col>gene_type</th><th scope=col>gene_id</th></tr>\n",
       "\t<tr><th scope=col>&lt;chr&gt;</th><th scope=col>&lt;dbl&gt;</th><th scope=col>&lt;dbl&gt;</th><th scope=col>&lt;dbl&gt;</th><th scope=col>&lt;dbl&gt;</th><th scope=col>&lt;dbl&gt;</th><th scope=col>&lt;dbl&gt;</th><th scope=col>&lt;chr&gt;</th><th scope=col>&lt;lgl&gt;</th><th scope=col>&lt;chr&gt;</th></tr>\n",
       "</thead>\n",
       "<tbody>\n",
       "\t<tr><td>ENSG00000118113.12_MMP8 </td><td> 85.20220</td><td>1.969649</td><td>0.4106022</td><td>4.796976</td><td>1.610789e-06</td><td>2.234052e-04</td><td>MMP8 </td><td>NA</td><td>ENSG00000118113.12_MMP8 </td></tr>\n",
       "\t<tr><td>ENSG00000135424.18_ITGA7</td><td> 74.65281</td><td>2.185655</td><td>0.3659543</td><td>5.972483</td><td>2.336700e-09</td><td>8.396720e-07</td><td>ITGA7</td><td>NA</td><td>ENSG00000135424.18_ITGA7</td></tr>\n",
       "\t<tr><td>ENSG00000148600.15_CDHR1</td><td> 15.70823</td><td>1.794664</td><td>0.3251531</td><td>5.519444</td><td>3.400731e-08</td><td>8.814582e-06</td><td>CDHR1</td><td>NA</td><td>ENSG00000148600.15_CDHR1</td></tr>\n",
       "\t<tr><td>ENSG00000178752.16_ERFE </td><td> 13.29760</td><td>1.785071</td><td>0.4795986</td><td>3.722009</td><td>1.976439e-04</td><td>7.022442e-03</td><td>ERFE </td><td>NA</td><td>ENSG00000178752.16_ERFE </td></tr>\n",
       "\t<tr><td>ENSG00000204936.10_CD177</td><td>313.08038</td><td>1.896199</td><td>0.4100149</td><td>4.624706</td><td>3.751293e-06</td><td>4.062444e-04</td><td>CD177</td><td>NA</td><td>ENSG00000204936.10_CD177</td></tr>\n",
       "</tbody>\n",
       "</table>\n"
      ],
      "text/latex": [
       "A data.frame: 5 × 10\n",
       "\\begin{tabular}{llllllllll}\n",
       " GeneID & baseMean & log2FoldChange & lfcSE & stat & pvalue & padj & gene\\_name & gene\\_type & gene\\_id\\\\\n",
       " <chr> & <dbl> & <dbl> & <dbl> & <dbl> & <dbl> & <dbl> & <chr> & <lgl> & <chr>\\\\\n",
       "\\hline\n",
       "\t ENSG00000118113.12\\_MMP8  &  85.20220 & 1.969649 & 0.4106022 & 4.796976 & 1.610789e-06 & 2.234052e-04 & MMP8  & NA & ENSG00000118113.12\\_MMP8 \\\\\n",
       "\t ENSG00000135424.18\\_ITGA7 &  74.65281 & 2.185655 & 0.3659543 & 5.972483 & 2.336700e-09 & 8.396720e-07 & ITGA7 & NA & ENSG00000135424.18\\_ITGA7\\\\\n",
       "\t ENSG00000148600.15\\_CDHR1 &  15.70823 & 1.794664 & 0.3251531 & 5.519444 & 3.400731e-08 & 8.814582e-06 & CDHR1 & NA & ENSG00000148600.15\\_CDHR1\\\\\n",
       "\t ENSG00000178752.16\\_ERFE  &  13.29760 & 1.785071 & 0.4795986 & 3.722009 & 1.976439e-04 & 7.022442e-03 & ERFE  & NA & ENSG00000178752.16\\_ERFE \\\\\n",
       "\t ENSG00000204936.10\\_CD177 & 313.08038 & 1.896199 & 0.4100149 & 4.624706 & 3.751293e-06 & 4.062444e-04 & CD177 & NA & ENSG00000204936.10\\_CD177\\\\\n",
       "\\end{tabular}\n"
      ],
      "text/markdown": [
       "\n",
       "A data.frame: 5 × 10\n",
       "\n",
       "| GeneID &lt;chr&gt; | baseMean &lt;dbl&gt; | log2FoldChange &lt;dbl&gt; | lfcSE &lt;dbl&gt; | stat &lt;dbl&gt; | pvalue &lt;dbl&gt; | padj &lt;dbl&gt; | gene_name &lt;chr&gt; | gene_type &lt;lgl&gt; | gene_id &lt;chr&gt; |\n",
       "|---|---|---|---|---|---|---|---|---|---|\n",
       "| ENSG00000118113.12_MMP8  |  85.20220 | 1.969649 | 0.4106022 | 4.796976 | 1.610789e-06 | 2.234052e-04 | MMP8  | NA | ENSG00000118113.12_MMP8  |\n",
       "| ENSG00000135424.18_ITGA7 |  74.65281 | 2.185655 | 0.3659543 | 5.972483 | 2.336700e-09 | 8.396720e-07 | ITGA7 | NA | ENSG00000135424.18_ITGA7 |\n",
       "| ENSG00000148600.15_CDHR1 |  15.70823 | 1.794664 | 0.3251531 | 5.519444 | 3.400731e-08 | 8.814582e-06 | CDHR1 | NA | ENSG00000148600.15_CDHR1 |\n",
       "| ENSG00000178752.16_ERFE  |  13.29760 | 1.785071 | 0.4795986 | 3.722009 | 1.976439e-04 | 7.022442e-03 | ERFE  | NA | ENSG00000178752.16_ERFE  |\n",
       "| ENSG00000204936.10_CD177 | 313.08038 | 1.896199 | 0.4100149 | 4.624706 | 3.751293e-06 | 4.062444e-04 | CD177 | NA | ENSG00000204936.10_CD177 |\n",
       "\n"
      ],
      "text/plain": [
       "  GeneID                   baseMean  log2FoldChange lfcSE     stat    \n",
       "1 ENSG00000118113.12_MMP8   85.20220 1.969649       0.4106022 4.796976\n",
       "2 ENSG00000135424.18_ITGA7  74.65281 2.185655       0.3659543 5.972483\n",
       "3 ENSG00000148600.15_CDHR1  15.70823 1.794664       0.3251531 5.519444\n",
       "4 ENSG00000178752.16_ERFE   13.29760 1.785071       0.4795986 3.722009\n",
       "5 ENSG00000204936.10_CD177 313.08038 1.896199       0.4100149 4.624706\n",
       "  pvalue       padj         gene_name gene_type gene_id                 \n",
       "1 1.610789e-06 2.234052e-04 MMP8      NA        ENSG00000118113.12_MMP8 \n",
       "2 2.336700e-09 8.396720e-07 ITGA7     NA        ENSG00000135424.18_ITGA7\n",
       "3 3.400731e-08 8.814582e-06 CDHR1     NA        ENSG00000148600.15_CDHR1\n",
       "4 1.976439e-04 7.022442e-03 ERFE      NA        ENSG00000178752.16_ERFE \n",
       "5 3.751293e-06 4.062444e-04 CD177     NA        ENSG00000204936.10_CD177"
      ]
     },
     "metadata": {},
     "output_type": "display_data"
    },
    {
     "data": {
      "text/html": [
       "<table class=\"dataframe\">\n",
       "<caption>A data.frame: 1 × 10</caption>\n",
       "<thead>\n",
       "\t<tr><th scope=col>GeneID</th><th scope=col>baseMean</th><th scope=col>log2FoldChange</th><th scope=col>lfcSE</th><th scope=col>stat</th><th scope=col>pvalue</th><th scope=col>padj</th><th scope=col>gene_name</th><th scope=col>gene_type</th><th scope=col>gene_id</th></tr>\n",
       "\t<tr><th scope=col>&lt;chr&gt;</th><th scope=col>&lt;dbl&gt;</th><th scope=col>&lt;dbl&gt;</th><th scope=col>&lt;dbl&gt;</th><th scope=col>&lt;dbl&gt;</th><th scope=col>&lt;dbl&gt;</th><th scope=col>&lt;dbl&gt;</th><th scope=col>&lt;lgl&gt;</th><th scope=col>&lt;lgl&gt;</th><th scope=col>&lt;chr&gt;</th></tr>\n",
       "</thead>\n",
       "<tbody>\n",
       "\t<tr><td>ENSG00000119630.14_PGF</td><td>2.586193</td><td>2.10993</td><td>0.6350881</td><td>3.322264</td><td>0.0008929015</td><td>0.01928021</td><td>NA</td><td>NA</td><td>ENSG00000119630.14_PGF</td></tr>\n",
       "</tbody>\n",
       "</table>\n"
      ],
      "text/latex": [
       "A data.frame: 1 × 10\n",
       "\\begin{tabular}{llllllllll}\n",
       " GeneID & baseMean & log2FoldChange & lfcSE & stat & pvalue & padj & gene\\_name & gene\\_type & gene\\_id\\\\\n",
       " <chr> & <dbl> & <dbl> & <dbl> & <dbl> & <dbl> & <dbl> & <lgl> & <lgl> & <chr>\\\\\n",
       "\\hline\n",
       "\t ENSG00000119630.14\\_PGF & 2.586193 & 2.10993 & 0.6350881 & 3.322264 & 0.0008929015 & 0.01928021 & NA & NA & ENSG00000119630.14\\_PGF\\\\\n",
       "\\end{tabular}\n"
      ],
      "text/markdown": [
       "\n",
       "A data.frame: 1 × 10\n",
       "\n",
       "| GeneID &lt;chr&gt; | baseMean &lt;dbl&gt; | log2FoldChange &lt;dbl&gt; | lfcSE &lt;dbl&gt; | stat &lt;dbl&gt; | pvalue &lt;dbl&gt; | padj &lt;dbl&gt; | gene_name &lt;lgl&gt; | gene_type &lt;lgl&gt; | gene_id &lt;chr&gt; |\n",
       "|---|---|---|---|---|---|---|---|---|---|\n",
       "| ENSG00000119630.14_PGF | 2.586193 | 2.10993 | 0.6350881 | 3.322264 | 0.0008929015 | 0.01928021 | NA | NA | ENSG00000119630.14_PGF |\n",
       "\n"
      ],
      "text/plain": [
       "  GeneID                 baseMean log2FoldChange lfcSE     stat    \n",
       "1 ENSG00000119630.14_PGF 2.586193 2.10993        0.6350881 3.322264\n",
       "  pvalue       padj       gene_name gene_type gene_id               \n",
       "1 0.0008929015 0.01928021 NA        NA        ENSG00000119630.14_PGF"
      ]
     },
     "metadata": {},
     "output_type": "display_data"
    }
   ],
   "source": [
    "GENES = c(\"IFIT2\",\"SIGLEC1\",\"IFI27\",\"IFI44L\",\"ISG15\",\"IFIT3\")\n",
    "\n",
    "length(GENES)\n",
    "\n",
    "misc_covid %>% \n",
    "    filter(padj < 0.01) %>%\n",
    "    filter(abs(log2FoldChange) > 1.5) %>% \n",
    "    filter(log2FoldChange < 0) %>%\n",
    "    mutate(gene_name = gsub(\".*_\",\"\",gene_id)) %>% \n",
    "    filter(gene_name %in% GENES)\n",
    "\n",
    "\n",
    "GENES = c(\"ITGA7\",\"CDHR1\",\"CD177\",\"PGF\",\"ERFE\",\"MMP8\")\n",
    "\n",
    "length(GENES)\n",
    "\n",
    "misc_covid %>% \n",
    "    filter(padj < 0.01) %>%\n",
    "    filter(abs(log2FoldChange) > 1.5) %>% \n",
    "    filter(log2FoldChange > 0) %>%\n",
    "    mutate(gene_name = gsub(\".*_\",\"\",gene_id)) %>% \n",
    "    filter(gene_name %in% GENES)\n",
    "\n",
    "# t <- misc_covid%>%filter(padj < 0.01) %>%\n",
    "#     filter(abs(log2FoldChange) > 1.5) %>%\n",
    "#     mutate(gene_name = gsub(\".*_\",\"\",gene_id)) %>% pull(gene_name)\n",
    "\n",
    "# GENES[!(GENES %in% t)]\n",
    "\n",
    "misc_covid %>% filter(grepl(\"PGF\",gene_id))"
   ]
  },
  {
   "cell_type": "code",
   "execution_count": null,
   "id": "6cde1425-7872-408e-b15c-ab781c24cc73",
   "metadata": {
    "vscode": {
     "languageId": "r"
    }
   },
   "outputs": [],
   "source": []
  }
 ],
 "metadata": {
  "kernelspec": {
   "display_name": "R",
   "language": "R",
   "name": "ir"
  },
  "language_info": {
   "codemirror_mode": "r",
   "file_extension": ".r",
   "mimetype": "text/x-r-source",
   "name": "R",
   "pygments_lexer": "r",
   "version": "4.1.1"
  }
 },
 "nbformat": 4,
 "nbformat_minor": 5
}
