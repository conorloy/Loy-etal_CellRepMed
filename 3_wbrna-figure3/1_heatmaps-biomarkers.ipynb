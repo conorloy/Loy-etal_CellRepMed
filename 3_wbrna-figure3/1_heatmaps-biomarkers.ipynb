{
 "cells": [
  {
   "cell_type": "code",
   "execution_count": 1,
   "id": "0bc7302c-a129-4bcf-b6c0-c092c0fc548e",
   "metadata": {},
   "outputs": [],
   "source": [
    "suppressMessages(require(tidyverse))\n",
    "suppressMessages(library(DESeq2))\n",
    "\n",
    "suppressMessages(require(pheatmap))\n",
    "suppressMessages(require(RColorBrewer))\n",
    "suppressMessages(require(dendextend))\n",
    "suppressMessages(require(ComplexHeatmap))\n",
    "suppressMessages(require(circlize))\n",
    "\n",
    "suppressMessages(library(data.table))\n",
    "\n",
    "suppressMessages(library(rstatix))\n",
    "suppressMessages(library(ggpubr))\n",
    "\n",
    "suppressMessages(library(grid))\n",
    "suppressMessages(library(gridExtra))\n",
    "\n",
    "source(\"../0_support-files/theme_CRP-MISC.R\")\n",
    "\n",
    "annotation <- fread(file=\"../0_support-files/gencode.biotype.name.key.tsv\") %>% mutate(gene_key = paste0(gene_id ,\"_\", gene_name))\n",
    "\n"
   ]
  },
  {
   "cell_type": "code",
   "execution_count": 2,
   "id": "369b7fbc-2e31-47bc-af2a-b4e296e1c437",
   "metadata": {},
   "outputs": [
    {
     "data": {
      "text/html": [
       "60708"
      ],
      "text/latex": [
       "60708"
      ],
      "text/markdown": [
       "60708"
      ],
      "text/plain": [
       "[1] 60708"
      ]
     },
     "metadata": {},
     "output_type": "display_data"
    },
    {
     "data": {
      "text/html": [
       "56622"
      ],
      "text/latex": [
       "56622"
      ],
      "text/markdown": [
       "56622"
      ],
      "text/plain": [
       "[1] 56622"
      ]
     },
     "metadata": {},
     "output_type": "display_data"
    },
    {
     "data": {
      "text/html": [
       "<table class=\"dataframe\">\n",
       "<caption>A matrix: 6 × 345 of type dbl</caption>\n",
       "<thead>\n",
       "\t<tr><th></th><th scope=col>PV156</th><th scope=col>PV157</th><th scope=col>PV158</th><th scope=col>PV159</th><th scope=col>PV160</th><th scope=col>PV162</th><th scope=col>PV163</th><th scope=col>PV164</th><th scope=col>PV166</th><th scope=col>PV167</th><th scope=col>⋯</th><th scope=col>PV90</th><th scope=col>PV91</th><th scope=col>PV92</th><th scope=col>PV93</th><th scope=col>PV94</th><th scope=col>PV95</th><th scope=col>PV96</th><th scope=col>PV97</th><th scope=col>PV98</th><th scope=col>PV99</th></tr>\n",
       "</thead>\n",
       "<tbody>\n",
       "\t<tr><th scope=row>ENSG00000000419.14_DPM1</th><td>100.94624</td><td> 11.44980</td><td> 12.499102</td><td> 17.346475</td><td> 28.274329</td><td> 18.399866</td><td> 25.73987</td><td> 11.817701</td><td> 11.587262</td><td> 22.017931</td><td>⋯</td><td> 27.87094</td><td> 37.002291</td><td> 26.3019325</td><td> 27.007076</td><td> 43.689324</td><td> 35.397525</td><td> 18.204483</td><td> 28.6788406</td><td> 24.777141</td><td> 20.7923057</td></tr>\n",
       "\t<tr><th scope=row>ENSG00000000457.14_SCYL3</th><td>106.25920</td><td> 30.82638</td><td> 30.206162</td><td> 10.407885</td><td> 42.411493</td><td> 24.533155</td><td> 27.71986</td><td>  9.762449</td><td> 14.346134</td><td> 18.414997</td><td>⋯</td><td>  0.00000</td><td> 13.662384</td><td>  6.3124638</td><td>  9.002359</td><td>  7.418942</td><td> 16.592590</td><td> 12.136322</td><td> 11.8456081</td><td> 24.777141</td><td>  3.9604392</td></tr>\n",
       "\t<tr><th scope=row>ENSG00000000460.17_C1orf112</th><td>  0.00000</td><td> 10.56905</td><td> 13.540693</td><td>  8.673238</td><td> 16.964597</td><td> 16.764322</td><td> 37.61981</td><td>  9.762449</td><td> 13.242585</td><td> 15.212389</td><td>⋯</td><td> 27.87094</td><td>  4.554128</td><td>  3.3315781</td><td>  0.000000</td><td>  9.067596</td><td>  4.424691</td><td>  6.935041</td><td>  6.2345306</td><td>  1.935714</td><td> 19.8021959</td></tr>\n",
       "\t<tr><th scope=row>ENSG00000000938.13_FGR</th><td>143.44992</td><td>202.57339</td><td>158.321954</td><td>375.551184</td><td>216.500575</td><td>167.234337</td><td>104.93948</td><td>209.121929</td><td>239.470076</td><td>393.920809</td><td>⋯</td><td>854.70880</td><td>532.548353</td><td>373.1367492</td><td>180.047172</td><td>514.379970</td><td>196.161286</td><td>243.593322</td><td>360.3558670</td><td>712.342810</td><td>141.5857004</td></tr>\n",
       "\t<tr><th scope=row>ENSG00000000971.16_CFH</th><td>  0.00000</td><td>  0.00000</td><td>  6.249551</td><td>  0.000000</td><td>  0.807838</td><td>  2.862201</td><td>  0.00000</td><td>  0.000000</td><td>  3.862421</td><td>  0.400326</td><td>⋯</td><td>  0.00000</td><td>  1.423165</td><td>  0.8767311</td><td>  0.000000</td><td>  0.000000</td><td>  2.949794</td><td>  3.467521</td><td>  0.6234531</td><td>  1.935714</td><td>  0.9901098</td></tr>\n",
       "\t<tr><th scope=row>ENSG00000001036.14_FUCA2</th><td> 10.62592</td><td> 29.06488</td><td> 16.665469</td><td>  2.601971</td><td> 11.309732</td><td> 12.675463</td><td> 39.59980</td><td>  6.679570</td><td> 15.449682</td><td> 18.815323</td><td>⋯</td><td>  0.00000</td><td> 13.947017</td><td> 13.6770049</td><td>  9.002359</td><td> 13.189230</td><td>  8.111933</td><td> 11.269442</td><td> 13.7159673</td><td> 22.067141</td><td>  8.9109881</td></tr>\n",
       "</tbody>\n",
       "</table>\n"
      ],
      "text/latex": [
       "A matrix: 6 × 345 of type dbl\n",
       "\\begin{tabular}{r|lllllllllllllllllllll}\n",
       "  & PV156 & PV157 & PV158 & PV159 & PV160 & PV162 & PV163 & PV164 & PV166 & PV167 & ⋯ & PV90 & PV91 & PV92 & PV93 & PV94 & PV95 & PV96 & PV97 & PV98 & PV99\\\\\n",
       "\\hline\n",
       "\tENSG00000000419.14\\_DPM1 & 100.94624 &  11.44980 &  12.499102 &  17.346475 &  28.274329 &  18.399866 &  25.73987 &  11.817701 &  11.587262 &  22.017931 & ⋯ &  27.87094 &  37.002291 &  26.3019325 &  27.007076 &  43.689324 &  35.397525 &  18.204483 &  28.6788406 &  24.777141 &  20.7923057\\\\\n",
       "\tENSG00000000457.14\\_SCYL3 & 106.25920 &  30.82638 &  30.206162 &  10.407885 &  42.411493 &  24.533155 &  27.71986 &   9.762449 &  14.346134 &  18.414997 & ⋯ &   0.00000 &  13.662384 &   6.3124638 &   9.002359 &   7.418942 &  16.592590 &  12.136322 &  11.8456081 &  24.777141 &   3.9604392\\\\\n",
       "\tENSG00000000460.17\\_C1orf112 &   0.00000 &  10.56905 &  13.540693 &   8.673238 &  16.964597 &  16.764322 &  37.61981 &   9.762449 &  13.242585 &  15.212389 & ⋯ &  27.87094 &   4.554128 &   3.3315781 &   0.000000 &   9.067596 &   4.424691 &   6.935041 &   6.2345306 &   1.935714 &  19.8021959\\\\\n",
       "\tENSG00000000938.13\\_FGR & 143.44992 & 202.57339 & 158.321954 & 375.551184 & 216.500575 & 167.234337 & 104.93948 & 209.121929 & 239.470076 & 393.920809 & ⋯ & 854.70880 & 532.548353 & 373.1367492 & 180.047172 & 514.379970 & 196.161286 & 243.593322 & 360.3558670 & 712.342810 & 141.5857004\\\\\n",
       "\tENSG00000000971.16\\_CFH &   0.00000 &   0.00000 &   6.249551 &   0.000000 &   0.807838 &   2.862201 &   0.00000 &   0.000000 &   3.862421 &   0.400326 & ⋯ &   0.00000 &   1.423165 &   0.8767311 &   0.000000 &   0.000000 &   2.949794 &   3.467521 &   0.6234531 &   1.935714 &   0.9901098\\\\\n",
       "\tENSG00000001036.14\\_FUCA2 &  10.62592 &  29.06488 &  16.665469 &   2.601971 &  11.309732 &  12.675463 &  39.59980 &   6.679570 &  15.449682 &  18.815323 & ⋯ &   0.00000 &  13.947017 &  13.6770049 &   9.002359 &  13.189230 &   8.111933 &  11.269442 &  13.7159673 &  22.067141 &   8.9109881\\\\\n",
       "\\end{tabular}\n"
      ],
      "text/markdown": [
       "\n",
       "A matrix: 6 × 345 of type dbl\n",
       "\n",
       "| <!--/--> | PV156 | PV157 | PV158 | PV159 | PV160 | PV162 | PV163 | PV164 | PV166 | PV167 | ⋯ | PV90 | PV91 | PV92 | PV93 | PV94 | PV95 | PV96 | PV97 | PV98 | PV99 |\n",
       "|---|---|---|---|---|---|---|---|---|---|---|---|---|---|---|---|---|---|---|---|---|---|\n",
       "| ENSG00000000419.14_DPM1 | 100.94624 |  11.44980 |  12.499102 |  17.346475 |  28.274329 |  18.399866 |  25.73987 |  11.817701 |  11.587262 |  22.017931 | ⋯ |  27.87094 |  37.002291 |  26.3019325 |  27.007076 |  43.689324 |  35.397525 |  18.204483 |  28.6788406 |  24.777141 |  20.7923057 |\n",
       "| ENSG00000000457.14_SCYL3 | 106.25920 |  30.82638 |  30.206162 |  10.407885 |  42.411493 |  24.533155 |  27.71986 |   9.762449 |  14.346134 |  18.414997 | ⋯ |   0.00000 |  13.662384 |   6.3124638 |   9.002359 |   7.418942 |  16.592590 |  12.136322 |  11.8456081 |  24.777141 |   3.9604392 |\n",
       "| ENSG00000000460.17_C1orf112 |   0.00000 |  10.56905 |  13.540693 |   8.673238 |  16.964597 |  16.764322 |  37.61981 |   9.762449 |  13.242585 |  15.212389 | ⋯ |  27.87094 |   4.554128 |   3.3315781 |   0.000000 |   9.067596 |   4.424691 |   6.935041 |   6.2345306 |   1.935714 |  19.8021959 |\n",
       "| ENSG00000000938.13_FGR | 143.44992 | 202.57339 | 158.321954 | 375.551184 | 216.500575 | 167.234337 | 104.93948 | 209.121929 | 239.470076 | 393.920809 | ⋯ | 854.70880 | 532.548353 | 373.1367492 | 180.047172 | 514.379970 | 196.161286 | 243.593322 | 360.3558670 | 712.342810 | 141.5857004 |\n",
       "| ENSG00000000971.16_CFH |   0.00000 |   0.00000 |   6.249551 |   0.000000 |   0.807838 |   2.862201 |   0.00000 |   0.000000 |   3.862421 |   0.400326 | ⋯ |   0.00000 |   1.423165 |   0.8767311 |   0.000000 |   0.000000 |   2.949794 |   3.467521 |   0.6234531 |   1.935714 |   0.9901098 |\n",
       "| ENSG00000001036.14_FUCA2 |  10.62592 |  29.06488 |  16.665469 |   2.601971 |  11.309732 |  12.675463 |  39.59980 |   6.679570 |  15.449682 |  18.815323 | ⋯ |   0.00000 |  13.947017 |  13.6770049 |   9.002359 |  13.189230 |   8.111933 |  11.269442 |  13.7159673 |  22.067141 |   8.9109881 |\n",
       "\n"
      ],
      "text/plain": [
       "                            PV156     PV157     PV158      PV159     \n",
       "ENSG00000000419.14_DPM1     100.94624  11.44980  12.499102  17.346475\n",
       "ENSG00000000457.14_SCYL3    106.25920  30.82638  30.206162  10.407885\n",
       "ENSG00000000460.17_C1orf112   0.00000  10.56905  13.540693   8.673238\n",
       "ENSG00000000938.13_FGR      143.44992 202.57339 158.321954 375.551184\n",
       "ENSG00000000971.16_CFH        0.00000   0.00000   6.249551   0.000000\n",
       "ENSG00000001036.14_FUCA2     10.62592  29.06488  16.665469   2.601971\n",
       "                            PV160      PV162      PV163     PV164     \n",
       "ENSG00000000419.14_DPM1      28.274329  18.399866  25.73987  11.817701\n",
       "ENSG00000000457.14_SCYL3     42.411493  24.533155  27.71986   9.762449\n",
       "ENSG00000000460.17_C1orf112  16.964597  16.764322  37.61981   9.762449\n",
       "ENSG00000000938.13_FGR      216.500575 167.234337 104.93948 209.121929\n",
       "ENSG00000000971.16_CFH        0.807838   2.862201   0.00000   0.000000\n",
       "ENSG00000001036.14_FUCA2     11.309732  12.675463  39.59980   6.679570\n",
       "                            PV166      PV167      ⋯ PV90      PV91      \n",
       "ENSG00000000419.14_DPM1      11.587262  22.017931 ⋯  27.87094  37.002291\n",
       "ENSG00000000457.14_SCYL3     14.346134  18.414997 ⋯   0.00000  13.662384\n",
       "ENSG00000000460.17_C1orf112  13.242585  15.212389 ⋯  27.87094   4.554128\n",
       "ENSG00000000938.13_FGR      239.470076 393.920809 ⋯ 854.70880 532.548353\n",
       "ENSG00000000971.16_CFH        3.862421   0.400326 ⋯   0.00000   1.423165\n",
       "ENSG00000001036.14_FUCA2     15.449682  18.815323 ⋯   0.00000  13.947017\n",
       "                            PV92        PV93       PV94       PV95      \n",
       "ENSG00000000419.14_DPM1      26.3019325  27.007076  43.689324  35.397525\n",
       "ENSG00000000457.14_SCYL3      6.3124638   9.002359   7.418942  16.592590\n",
       "ENSG00000000460.17_C1orf112   3.3315781   0.000000   9.067596   4.424691\n",
       "ENSG00000000938.13_FGR      373.1367492 180.047172 514.379970 196.161286\n",
       "ENSG00000000971.16_CFH        0.8767311   0.000000   0.000000   2.949794\n",
       "ENSG00000001036.14_FUCA2     13.6770049   9.002359  13.189230   8.111933\n",
       "                            PV96       PV97        PV98       PV99       \n",
       "ENSG00000000419.14_DPM1      18.204483  28.6788406  24.777141  20.7923057\n",
       "ENSG00000000457.14_SCYL3     12.136322  11.8456081  24.777141   3.9604392\n",
       "ENSG00000000460.17_C1orf112   6.935041   6.2345306   1.935714  19.8021959\n",
       "ENSG00000000938.13_FGR      243.593322 360.3558670 712.342810 141.5857004\n",
       "ENSG00000000971.16_CFH        3.467521   0.6234531   1.935714   0.9901098\n",
       "ENSG00000001036.14_FUCA2     11.269442  13.7159673  22.067141   8.9109881"
      ]
     },
     "metadata": {},
     "output_type": "display_data"
    }
   ],
   "source": [
    "covid_control <- read.delim(\"./wb_covid_ctrls.txt\") %>% mutate(gene_id = paste0(gene,\"_\",gene_name))\n",
    "misc_control <- read.delim(\"./wb_misc_ctrls.txt\") %>% mutate(gene_id = paste0(gene,\"_\",gene_name))\n",
    "misc_covid <- read.delim(\"./wb_misc_covid.txt\") %>% mutate(gene_id = paste0(gene,\"_\",gene_name))\n",
    "\n",
    "\n",
    "### Read in metadata\n",
    "meta_data_all <- read.csv(\"../1_sample-data/STable7_wbrna-samples.csv\")\n",
    "meta_data_all[is.na(meta_data_all$ivig_rel_samp),\"ivig_rel_samp\"] <- \"noivig\"\n",
    "\n",
    "### Read ftcount matrix\n",
    "raw_ftcount <- read.delim(\"../1_sample-data/wbrna_ftcounts.txt\",row.names = 1)\n",
    "nrow(raw_ftcount)\n",
    "\n",
    "### Read gene list to remove\n",
    "gene.list <- read.delim(\"../0_support-files/genelist.remove.tsv\",col.names = c(\"type,\",\"ENSMBL\",\"gene_symbol\"))\n",
    "gene.ids <- gsub(\"\\\\..*\",\"\",rownames(raw_ftcount))\n",
    "\n",
    "### Subset count matrix\n",
    "exclude.idx <- gene.ids %in% gene.list[,2]\n",
    "raw_ftcount = raw_ftcount[!exclude.idx,]          \n",
    "\n",
    "nrow(raw_ftcount)\n",
    "\n",
    "raw_ftcount <- raw_ftcount[,colSums(raw_ftcount) > 0]\n",
    "\n",
    "cpm_ftcount <- edgeR::cpm(raw_ftcount)\n",
    "head(cpm_ftcount)"
   ]
  },
  {
   "cell_type": "markdown",
   "id": "c761a061-4f6b-4e72-a6d1-b9648af32fe0",
   "metadata": {
    "tags": []
   },
   "source": [
    "---\n",
    "## Heatmaps"
   ]
  },
  {
   "cell_type": "markdown",
   "id": "22d51411-49b0-4adf-8a6f-def540b6f32f",
   "metadata": {},
   "source": [
    "#### _Functions_"
   ]
  },
  {
   "cell_type": "code",
   "execution_count": 24,
   "id": "7f825b51-7218-49d4-9365-06d31e8011ef",
   "metadata": {},
   "outputs": [],
   "source": [
    "create_heatmap <- function(res,groups,cpm,meta_data) {\n",
    "    \n",
    "    ANNOTATIONS = c(\"Diagnosis\",\"severity\",'group','ivig_rel_samp')\n",
    "\n",
    "    \n",
    "    ###----------------------------------\n",
    "    ## Extract significant genes\n",
    "    sig_genes <- data.frame(res) %>% filter(padj < SIG_THRESH & abs(log2FoldChange) > FC_THRESH) %>% pull(gene_id)\n",
    "\n",
    "    ###----------------------------------\n",
    "    ## Subset metadata \n",
    "    metadata <- meta_data %>% \n",
    "        filter((Diagnosis %in% all_of(groups)) & (timepoint %in% c(\"Not-hospitalized\",\"acute\"))) %>% \n",
    "        column_to_rownames(var = \"wbrna_sample_id\") %>%  \n",
    "        mutate(severity = ifelse(grepl(\"ontrol\",severity),NA,severity)) %>%\n",
    "        select(all_of(ANNOTATIONS))\n",
    "\n",
    "    colnames(metadata) <- c(\"Diagnosis\",\"Severity\",\"group\",\"IVIG\")\n",
    "\n",
    "    ###----------------------------------\n",
    "    ## Subset count matrix\n",
    "    mat <- data.frame(cpm) %>% \n",
    "            filter(row.names(cpm) %in% all_of(sig_genes)) %>% \n",
    "            select(all_of(rownames(metadata))) %>% \n",
    "            as.matrix()\n",
    "\n",
    "    mat <- t(scale(t(mat)))\n",
    "\n",
    "    ###----------------------------------\n",
    "    ## Colors\n",
    "    color = colorRampPalette(c(\"blue\",\"yellow\"))(50)\n",
    "    breaksList = seq(-2, +2, length = 51)\n",
    "\n",
    "    #color_groups = c('COVID-19\\ndiscovery' = '#c1272d', 'MIS-C\\ndiscovery' = '#0000a7', 'Control_Non-inflammatory\\ndiscovery' = '#eecc16',\"MIS-C\\nvalidation\" = '#008176')\n",
    "    \n",
    "    my_colour <- list(\n",
    "    Diagnosis = c('COVID-19' = '#F0484E', 'MIS-C' = '#5CB2EB', 'Control_Non-inflammatory' = '#FBE77C'), #\"MISC_acute_validation\" = '#00FFFF'),\n",
    "    Severity = c(\"-1\" = \"white\", \"0\" = \"white\", \"2\" = \"#efe5d7\", \"3\" = \"#bc8e52\"),\n",
    "    group = c(\"validation\" = \"orange\", \"discovery\" = \"light blue\", \"UCSF\" = \"light blue\"),\n",
    "    IVIG = c(\"after\" = \"maroon\", \"before\" = \"darkseagreen2\", \"concurrent with\" = \"dark blue\",\"noivig\"=\"white\")#, \"forest green\"\n",
    "    # PCR = c(\"1\" = \"green\", \"2\" = \"blue\"),\n",
    "    # Antibody =c(\"1\" = \"green\", \"2\" = \"blue\")\n",
    "    )\n",
    "\n",
    "    ###----------------------------------\n",
    "    ## Plot\n",
    "\n",
    "    # pdf(\"./tmp.pdf\")\n",
    "    heatmap_plt <- pheatmap(mat,\n",
    "\n",
    "             # Colors\n",
    "             col=color,\n",
    "             breaks=breaksList, \n",
    "             annotation_col=metadata,\n",
    "             annotation_colors=my_colour,\n",
    "             na_col = \"#FFFFFF\",\n",
    "\n",
    "             # Fonts\n",
    "             show_colnames=F,\n",
    "             show_rownames=F,\n",
    "             fontsize=12,\n",
    "             fontsize_col=3,\n",
    "             annotation_names_col=F,\n",
    "             annotation_names_row=F,\n",
    "\n",
    "             # Clustering\n",
    "\n",
    "             clustering_distance_cols=\"correlation\",\n",
    "             clustering_distance_rows=\"correlation\", \n",
    "    #          clustering_distance_cols=\"euclidean\",\n",
    "    #          clustering_distance_rows=\"euclidean\",\n",
    "    #          cluster_cols=hc,\n",
    "    #          cluster_rows=hr,\n",
    "    #          clustering_distance_rows=\"euclidean\",\n",
    "    #          clustering_method=\"complete\",\n",
    "             treeheight_row=0,\n",
    "            treeheight_col= 15,\n",
    "\n",
    "             # Misc.\n",
    "             border_color=NA,\n",
    "            legend=FALSE,\n",
    "            annotation_legend=FALSE\n",
    "            ) \n",
    "    # dev.off()\n",
    "\n",
    "\n",
    "\n",
    "\n",
    "    return(heatmap_plt)\n",
    "\n",
    "        }"
   ]
  },
  {
   "cell_type": "code",
   "execution_count": 25,
   "id": "30ecf482-4200-4e5a-8f2c-ddb940b82a8a",
   "metadata": {},
   "outputs": [],
   "source": [
    "SIG_THRESH = 0.01\n",
    "FC_THRESH = 1.5\n",
    "\n",
    "# SIG_THRESH = 0.05\n",
    "# FC_THRESH = 0\n",
    "\n",
    "ANNOTATIONS <- c(\"Diagnosis\",\"severity\")"
   ]
  },
  {
   "cell_type": "code",
   "execution_count": 26,
   "id": "b7f5c829-eb8d-47f4-b89e-31a944e3ee33",
   "metadata": {},
   "outputs": [],
   "source": [
    "\n",
    "covid_control_plt <- create_heatmap(covid_control,c(\"COVID-19\",\"Control_Non-inflammatory\"),cpm_ftcount,meta_data_all)\n",
    "\n",
    "\n",
    "misc_control_plt <- create_heatmap(misc_control,c(\"MIS-C\",\"Control_Non-inflammatory\"),cpm_ftcount,meta_data_all)\n",
    "\n",
    "\n",
    "misc_covid_plt <- create_heatmap(misc_covid,c(\"MIS-C\",\"COVID-19\"),cpm_ftcount,meta_data_all)"
   ]
  },
  {
   "cell_type": "code",
   "execution_count": 27,
   "id": "78207fc0-1ad5-46c8-9054-dce7a3101615",
   "metadata": {},
   "outputs": [
    {
     "data": {
      "text/html": [
       "<strong>png:</strong> 2"
      ],
      "text/latex": [
       "\\textbf{png:} 2"
      ],
      "text/markdown": [
       "**png:** 2"
      ],
      "text/plain": [
       "png \n",
       "  2 "
      ]
     },
     "metadata": {},
     "output_type": "display_data"
    },
    {
     "data": {
      "text/html": [
       "<strong>png:</strong> 2"
      ],
      "text/latex": [
       "\\textbf{png:} 2"
      ],
      "text/markdown": [
       "**png:** 2"
      ],
      "text/plain": [
       "png \n",
       "  2 "
      ]
     },
     "metadata": {},
     "output_type": "display_data"
    },
    {
     "data": {
      "text/html": [
       "<strong>png:</strong> 2"
      ],
      "text/latex": [
       "\\textbf{png:} 2"
      ],
      "text/markdown": [
       "**png:** 2"
      ],
      "text/plain": [
       "png \n",
       "  2 "
      ]
     },
     "metadata": {},
     "output_type": "display_data"
    }
   ],
   "source": [
    "WIDTH = 1.6\n",
    "HEIGHT = 2.6\n",
    "\n",
    "RES = 300\n",
    "\n",
    "##------------------------------------\n",
    "# SAVE HEATMAP OBJECT\n",
    "\n",
    "prefix = \"COVID19\"\n",
    "       \n",
    "png(file=\"plots/panelB_covid-control.png\",\n",
    "        width=WIDTH,height=HEIGHT, units =\"in\", bg=\"white\", res = RES, #useRaster = TRUE,\n",
    "        fonts=\"Helvetica\",  pointsize=6)\n",
    "\n",
    "# pdf(file=paste0(\"plots/\",prefix,\".heatmap.cfrna.pdf\"),\n",
    "#         width=WIDTH,height=HEIGHT, paper=\"special\", bg=\"transparent\",\n",
    "#         fonts=\"Helvetica\", colormodel = \"srgb\", pointsize=6, useDingbats = FALSE)\n",
    "\n",
    "draw(covid_control_plt,show_heatmap_legend=FALSE,padding = unit(0.25,\"mm\"))\n",
    "\n",
    "dev.off()\n",
    "\n",
    "##------------------------------------\n",
    "# SAVE HEATMAP OBJECT\n",
    "\n",
    "prefix = \"MISC\"\n",
    "\n",
    "png(file=\"plots/panelB_misc-control.png\",\n",
    "        width=WIDTH,height=HEIGHT, units =\"in\", bg=\"white\", res = RES, #useRaster = TRUE,\n",
    "        fonts=\"Helvetica\",  pointsize=6)\n",
    "\n",
    "# pdf(file=paste0(\"plots/\",prefix,\".heatmap.cfrna.pdf\"),\n",
    "#         width=WIDTH,height=HEIGHT, paper=\"special\", bg=\"transparent\",\n",
    "#         fonts=\"Helvetica\", colormodel = \"srgb\", pointsize=6, useDingbats = FALSE)\n",
    "\n",
    "draw(misc_control_plt,show_heatmap_legend=FALSE,padding = unit(0.25,\"mm\"))\n",
    "\n",
    "dev.off()\n",
    "\n",
    "##------------------------------------\n",
    "# SAVE HEATMAP OBJECT\n",
    "\n",
    "prefix = \"MISC_COVID19\"\n",
    "\n",
    "png(file=\"plots/panelB_misc-covid.png\",\n",
    "        width=WIDTH,height=HEIGHT, units =\"in\", bg=\"white\", res = RES, #useRaster = TRUE,\n",
    "        fonts=\"Helvetica\",  pointsize=6)\n",
    "\n",
    "# pdf(file=paste0(\"plots/\",prefix,\".heatmap.cfrna.pdf\"),\n",
    "#         width=WIDTH,height=HEIGHT, paper=\"special\", bg=\"transparent\",\n",
    "#         fonts=\"Helvetica\", colormodel = \"srgb\", pointsize=6, useDingbats = FALSE)\n",
    "\n",
    "draw(misc_covid_plt,show_heatmap_legend=FALSE,padding = unit(0.25,\"mm\"))\n",
    "\n",
    "dev.off()"
   ]
  },
  {
   "cell_type": "code",
   "execution_count": 17,
   "id": "53b69de1-c2ab-4d44-8caf-f5f3bae6ed2b",
   "metadata": {},
   "outputs": [
    {
     "data": {
      "text/html": [
       "<strong>png:</strong> 2"
      ],
      "text/latex": [
       "\\textbf{png:} 2"
      ],
      "text/markdown": [
       "**png:** 2"
      ],
      "text/plain": [
       "png \n",
       "  2 "
      ]
     },
     "metadata": {},
     "output_type": "display_data"
    }
   ],
   "source": [
    "res1=covid_control\n",
    "res2=misc_control\n",
    "res3=misc_covid\n",
    "cpm=cpm_ftcount\n",
    "meta_data= meta_data_all\n",
    "groups = c(1,3,57,58,33,35,2,4,34,36,31)\n",
    "    \n",
    "ANNOTATIONS = c(\"Diagnosis\",\"severity\",'group')\n",
    "\n",
    "\n",
    "###----------------------------------\n",
    "## Extract significant genes\n",
    "\n",
    "N = 300\n",
    "\n",
    "sig_genes1 <- data.frame(res1) %>% filter(padj < SIG_THRESH & abs(log2FoldChange) > FC_THRESH) %>% arrange(desc(abs(log2FoldChange))) %>%\n",
    "head(N) %>% pull(gene_id)\n",
    "\n",
    "sig_genes2 <- data.frame(res2) %>% filter(padj < SIG_THRESH & abs(log2FoldChange) > FC_THRESH) %>% arrange(desc(abs(log2FoldChange))) %>%\n",
    "head(N) %>% pull(gene_id)\n",
    "\n",
    "sig_genes3 <- data.frame(res3) %>% filter(padj < SIG_THRESH & abs(log2FoldChange) > FC_THRESH) %>% arrange(desc(abs(log2FoldChange))) %>%\n",
    "head(N) %>% pull(gene_id)\n",
    "\n",
    "sig_genes <- union(sig_genes1,union(sig_genes2,sig_genes3))\n",
    "\n",
    "\n",
    "###----------------------------------\n",
    "## Subset metadata \n",
    "metadata <- meta_data %>% \n",
    "    filter(sample_group %in% all_of(groups)) %>% \n",
    "    mutate(sample_group = factor(sample_group, levels = all_of(groups))) %>% \n",
    "    arrange(sample_group) %>% \n",
    "    column_to_rownames(var = \"wbrna_sample_id\") %>%  \n",
    "    mutate(severity = ifelse(grepl(\"ontrol\",severity),NA,severity)) %>%\n",
    "    select(all_of(ANNOTATIONS))\n",
    "\n",
    "colnames(metadata) <- c(\"Diagnosis\",\"Severity\",\"group\")\n",
    "\n",
    "###----------------------------------\n",
    "## Subset count matrix\n",
    "mat <- data.frame(cpm) %>% \n",
    "        filter(row.names(cpm) %in% all_of(sig_genes)) %>% \n",
    "        select(all_of(rownames(metadata))) %>% \n",
    "        as.matrix()\n",
    "\n",
    "mat <- t(scale(t(mat)))\n",
    "\n",
    "mat <- mat[,rownames(metadata)]\n",
    "\n",
    "###----------------------------------\n",
    "## Colors\n",
    "color = colorRampPalette(c(\"blue\",\"yellow\"))(50)\n",
    "breaksList = seq(-2, +2, length = 51)\n",
    "\n",
    "#color_groups = c('COVID-19\\ndiscovery' = '#c1272d', 'MIS-C\\ndiscovery' = '#0000a7', 'Control_Non-inflammatory\\ndiscovery' = '#eecc16',\"MIS-C\\nvalidation\" = '#008176')\n",
    "\n",
    "my_colour <- list(\n",
    "Diagnosis = c('COVID-19' = '#F0484E', 'MIS-C' = '#5CB2EB', 'Control_Non-inflammatory' = '#FBE77C'), #\"MISC_acute_validation\" = '#00FFFF'),\n",
    "Severity = c(\"-1\" = \"white\", \"0\" = \"white\", \"2\" = \"#efe5d7\", \"3\" = \"#bc8e52\"),\n",
    "group = c(\"validation\" = \"orange\", \"discovery\" = \"light blue\",\"UCSF\" = \"light blue\") #,\n",
    "# PCR = c(\"1\" = \"green\", \"2\" = \"blue\"),\n",
    "# Antibody =c(\"1\" = \"green\", \"2\" = \"blue\")\n",
    ")\n",
    "\n",
    "###----------------------------------\n",
    "## Plot\n",
    "\n",
    "heatmap_plt_clust <- pheatmap(mat,\n",
    "\n",
    "         # Colors\n",
    "         col=color,\n",
    "         breaks=breaksList, \n",
    "         annotation_col=metadata,\n",
    "         annotation_colors=my_colour,\n",
    "         na_col = \"#FFFFFF\",\n",
    "\n",
    "         # Fonts\n",
    "         show_colnames=F,\n",
    "         show_rownames=F,\n",
    "         fontsize=12,\n",
    "         fontsize_col=3,\n",
    "         annotation_names_col=F,\n",
    "         annotation_names_row=F,\n",
    "\n",
    "         # Clustering\n",
    "\n",
    "         clustering_distance_cols=\"correlation\",\n",
    "         clustering_distance_rows=\"correlation\", \n",
    "         treeheight_row=0,\n",
    "        treeheight_col= 15,\n",
    "\n",
    "         # Misc.\n",
    "         border_color=NA,\n",
    "        legend=FALSE,\n",
    "        annotation_legend=FALSE\n",
    "        ) \n",
    "\n",
    "IDTH = 1.6\n",
    "HEIGHT = 2.6\n",
    "\n",
    "RES = 300\n",
    "\n",
    "\n",
    "prefix = \"ALL_CLUSTER\"\n",
    "\n",
    "png(file=\"plots/panelC_all.png\",\n",
    "        width=WIDTH,height=HEIGHT, units =\"in\", bg=\"white\", res = RES, #useRaster = TRUE,\n",
    "        fonts=\"Helvetica\",  pointsize=6)\n",
    "\n",
    "draw(heatmap_plt_clust,show_heatmap_legend=FALSE,padding = unit(0.25,\"mm\"))\n",
    "\n",
    "dev.off()\n",
    "\n"
   ]
  },
  {
   "cell_type": "markdown",
   "id": "f29ec8e1-dd9a-4a7d-b632-8febdfc3a903",
   "metadata": {
    "jp-MarkdownHeadingCollapsed": true,
    "tags": []
   },
   "source": [
    "---\n",
    "## Biomarkers"
   ]
  },
  {
   "cell_type": "code",
   "execution_count": 30,
   "id": "1fe4018f-3a3b-4f23-ba90-61d63abcad58",
   "metadata": {},
   "outputs": [],
   "source": [
    "get_exp_plot <- function(GENE,meta_data,count_cpm,gene_lookup= annotation){\n",
    "    \n",
    "    samp_df <- data.frame(\"cfrna_sample_id\" = meta_data$cfrna_sample_id,\n",
    "                      \"Diagnosis\" = meta_data$Diagnosis,\n",
    "                     \"severity\" = meta_data$severity,\n",
    "                     \"group\" = meta_data$group)\n",
    "    \n",
    "    GENE <- gene_lookup[which(gene_lookup$gene_name == GENE),]$gene_id\n",
    "\n",
    "    samp_df <- merge(samp_df,count_cpm[,GENE],by.x=\"cfrna_sample_id\",by.y=0)\n",
    "\n",
    "    samp_df$plotting_name <- paste(samp_df$Diagnosis,samp_df$group,sep=\"\\n\")\n",
    "\n",
    "    samp_df$plotting_name <- factor(samp_df$plotting_name, levels = c(\"Control_Non-inflammatory\\ndiscovery\",\"COVID-19\\ndiscovery\",\"MIS-C\\ndiscovery\",\"MIS-C\\nvalidation\"))\n",
    "\n",
    "    samp_df %>%\n",
    "    ggplot(aes(x=plotting_name,y=y,fill=plotting_name))+\n",
    "    geom_boxplot(outlier.shape = NA)+\n",
    "    geom_jitter(height=0,width=0.2,size = 1)+\n",
    "    annotate(geom=\"text\",label=gsub(\".*_\",\"\",GENE),x=-Inf,y=Inf,hjust=-.1,vjust=1.25)+\n",
    "    scale_fill_manual(values=color_groups)+\n",
    "    theme_alex()+\n",
    "    theme(legend.position = \"none\",\n",
    "        axis.title.x = element_blank(),\n",
    "        panel.grid.minor = element_blank(),\n",
    "         plot.title = element_text(hjust = 0.5))+\n",
    "    labs(y=\"CPM\")+\n",
    "#     labs(y=\"TPM\",title=gsub(\".*\\\\_\",\"\",GENE))+\n",
    "    scale_x_discrete(guide = guide_axis(n.dodge = 2))\n",
    "}\n",
    "\n",
    "\n",
    "get_fig_plot <- function(GENE,meta_data,count_cpm,YLIM, gene_lookup= annotation, expGroupPalette=expGroupPalette){\n",
    "    \n",
    "    ##---------------------------------------\n",
    "    # PREPARE DATA\n",
    "    samp_df <- data.frame(\"cfrna_sample_id\" = meta_data$cfrna_sample_id,\n",
    "                      \"Diagnosis\" = meta_data$Diagnosis,\n",
    "                     \"severity\" = meta_data$severity,\n",
    "                        \"group\" = meta_data$group)\n",
    "    GENE_N <- GENE\n",
    "    GENE <- gene_lookup[which(gene_lookup$gene_name == GENE),]$gene_key\n",
    "\n",
    "    samp_df <- merge(samp_df,count_cpm[,GENE],by.x=\"cfrna_sample_id\",by.y=0)\n",
    "\n",
    "    samp_df$plotting_name <- samp_df$Diagnosis\n",
    "    \n",
    "    samp_df$plotting_name <- ifelse(samp_df$Diagnosis == \"MIS-C\" & samp_df$group == \"validation\",\"MIS-C_validation\",samp_df$plotting_name)\n",
    "\n",
    "    samp_df$plotting_name <- factor(samp_df$plotting_name, levels = c(\"Control_Non-inflammatory\",\"COVID-19\",\"MIS-C\",\"MIS-C_validation\")) #,\"MIS-C_validation\"\n",
    "    \n",
    "    ##---------------------------------------\n",
    "    # MAKE PLOT\n",
    "    PLOT <- samp_df %>%\n",
    "    ggplot(aes(x=plotting_name,y=y,color=plotting_name))+\n",
    "#     geom_jitter(height=0,width=0.2,size = .65, color=\"black\")+\n",
    "    geom_point(  size = .75, position = position_jitter(seed = 42,height=0,width=0.2))+ #colour=\"black\",pch=21,aes(fill=plotting_name),\n",
    "#     annotate(geom=\"text\",label=gsub(\".*_\",\"\",GENE_N),x=-Inf,y=Inf,hjust=-.1,vjust=1.25,size = 2)+\n",
    "    scale_color_manual(values=color_groups)+\n",
    "    theme_prevail()+\n",
    "    theme(legend.position = \"none\",\n",
    "        axis.title.x = element_blank(),\n",
    "        axis.title.y = element_blank(),\n",
    "        axis.text.x = element_blank(),\n",
    "        panel.grid.minor = element_blank(),\n",
    "#         panel.grid.major = element_blank(),\n",
    "#         panel.border = element_blank(),\n",
    "        plot.title = element_text(hjust = 0.5),\n",
    "         plot.margin=grid::unit(c(0.02,0.02,0,0), \"in\"))+\n",
    "    labs(y=\"CPM\")+\n",
    "#     labs(y=\"TPM\",title=gsub(\".*\\\\_\",\"\",GENE))+\n",
    "    scale_x_discrete(guide = guide_axis(n.dodge = 2)) #+\n",
    "#     scale_color_manual(values=expGroupPalette)\n",
    "    \n",
    "    ##---------------------------------------\n",
    "    # ADD ARROWS\n",
    "    outliers <- samp_df%>% \n",
    "            filter(y > YLIM)\n",
    "    \n",
    "    print(\"num outliers:\")\n",
    "    print(nrow(outliers))\n",
    "\n",
    "    y_stop = YLIM \n",
    "    y_start= YLIM - (YLIM*0.05)\n",
    "\n",
    "    XORDER <- list('Control_Non-inflammatory'= 1,\n",
    "                'COVID-19'= 2,\n",
    "                'MIS-C'= 3,\n",
    "                'MIS-C'= 4)\n",
    "\n",
    "    offset_x = 1  # offset for different condition / plotting names\n",
    "    offset_y = .20     # offset from top for different outliers in same condition\n",
    "\n",
    "\n",
    "    text_offset = 0.09\n",
    "    text_size = 1.5\n",
    "    text_lineheight = .75\n",
    "\n",
    "    arrow_size = 0.5\n",
    "\n",
    "    for (i  in 1:length(XORDER)){\n",
    "        group_name <- names(XORDER[i])\n",
    "        group_outliers <- outliers %>% filter(plotting_name == group_name)\n",
    "\n",
    "        ## ADD ARROW\n",
    "        if (nrow(group_outliers) > 0){\n",
    "\n",
    "            outlier_values <- round(group_outliers[, \"y\",drop=TRUE],2)\n",
    "            outlier_values <- as.character(outlier_values[order(outlier_values,decreasing=TRUE)])\n",
    "\n",
    "            text_center <- y_start * (1 - (.01*(length(outlier_values)-1)))\n",
    "\n",
    "            XVAL <- XORDER[[group_name]]        \n",
    "\n",
    "            PLOT <- PLOT + annotate(\"segment\", x = XVAL, xend = XVAL,\n",
    "                                              y = YLIM-0.007, yend = YLIM,\n",
    "                                              size = arrow_size, lineend=\"butt\", linejoin=\"mitre\", arrow=arrow(length=unit(.06,\"npc\")))\n",
    "\n",
    "\n",
    "\n",
    "            for (ii in 1:length(outlier_values)){\n",
    "\n",
    "                text_color = \"black\"\n",
    "                if (group_outliers[ii, \"severity\"] == 2){\n",
    "                    text_color = \"red\"} \n",
    "\n",
    "                if (ii == 1){YVAL = YLIM\n",
    "                            }else { \n",
    "                    YVAL = YLIM- ((ii-1)*0.006)\n",
    "                }\n",
    "\n",
    "                VAL <- outlier_values[ii]\n",
    "\n",
    "                PLOT <- PLOT + annotate(\"text\", x = XVAL, y = YVAL, hjust=-0.2,vjust=0.5,\n",
    "                                              label = VAL,\n",
    "                                              size = text_size, family = \"Helvetica\", lineheight = text_lineheight,color = text_color)\n",
    "\n",
    "            }}}\n",
    "    \n",
    "    ##---------------------------------------\n",
    "    # ADD SIG BARS\n",
    "    stat.test <- samp_df %>%\n",
    "    wilcox_test(y ~ plotting_name) %>%  #, ref.group = \"MIS-C\\ndiscovery\"\n",
    "    adjust_pvalue(method = \"BH\") %>% \n",
    "    add_significance(\"p.adj\") %>% \n",
    "    add_xy_position(x = \"plotting_name\")\n",
    "    \n",
    "#     print(stat.test)\n",
    "    \n",
    "    stat.test <- stat.test %>% arrange(desc(y.position))\n",
    "    stat.test$rank <- c(1:nrow(stat.test))\n",
    "    stat.test$y.position <- YLIM - ((0.05*stat.test$rank)*YLIM)\n",
    "    \n",
    "    print(stat.test)\n",
    "    PLOT <- PLOT + stat_pvalue_manual(stat.test, label = \"p.adj.signif\",tip.length=0) \n",
    "    \n",
    "    return(PLOT)\n",
    "}\n"
   ]
  },
  {
   "cell_type": "code",
   "execution_count": 32,
   "id": "da276b6e-7dee-4514-aba3-d15b0ad0c349",
   "metadata": {},
   "outputs": [],
   "source": [
    "keeper_columns <- c(\"gene_name\",\"gene_type\",\"baseMean\",\"padj\",\"log2FoldChange\")\n",
    "color_groups = c('COVID-19' = '#F0484E', 'MIS-C' = '#5CB2EB', 'Control_Non-inflammatory' = '#FBE77C', \"MIS-C_validation\" = \"#2BC0B3\")\n",
    "\n",
    "\n",
    "PVAL_CUTOFF = 0.05\n",
    "GROUPS = c(\"COVID-19\", \"Control_Non-inflammatory\",\"MIS-C\")\n",
    "\n",
    "\n",
    "\n",
    "meta_data <- meta_data_all %>% \n",
    "    filter((Diagnosis %in% all_of(GROUPS)) & (timepoint %in% c(\"Not-hospitalized\",\"acute\"))) %>%\n",
    "    mutate(cfrna_sample_id = wbrna_sample_id)\n",
    "\n",
    "\n",
    "counts_cpm <- cpm_ftcount %>% t()"
   ]
  },
  {
   "cell_type": "code",
   "execution_count": 34,
   "id": "9855c9ad-c9eb-443f-9a5a-8067d1722e03",
   "metadata": {},
   "outputs": [
    {
     "name": "stdout",
     "output_type": "stream",
     "text": [
      "[1] \"num outliers:\"\n",
      "[1] 0\n",
      "\u001b[90m# A tibble: 6 × 14\u001b[39m\n",
      "  .y.   group1       group2    n1    n2 statistic        p    p.adj p.adj.signif\n",
      "  \u001b[3m\u001b[90m<chr>\u001b[39m\u001b[23m \u001b[3m\u001b[90m<chr>\u001b[39m\u001b[23m        \u001b[3m\u001b[90m<chr>\u001b[39m\u001b[23m  \u001b[3m\u001b[90m<int>\u001b[39m\u001b[23m \u001b[3m\u001b[90m<int>\u001b[39m\u001b[23m     \u001b[3m\u001b[90m<dbl>\u001b[39m\u001b[23m    \u001b[3m\u001b[90m<dbl>\u001b[39m\u001b[23m    \u001b[3m\u001b[90m<dbl>\u001b[39m\u001b[23m \u001b[3m\u001b[90m<chr>\u001b[39m\u001b[23m       \n",
      "\u001b[90m1\u001b[39m y     MIS-C        MIS-C…    72    19      \u001b[4m1\u001b[24m183 1.13\u001b[90me\u001b[39m\u001b[31m- 6\u001b[39m 2.26\u001b[90me\u001b[39m\u001b[31m- 6\u001b[39m ****        \n",
      "\u001b[90m2\u001b[39m y     COVID-19     MIS-C…    37    19       498 1.1 \u001b[90me\u001b[39m\u001b[31m- 2\u001b[39m 1.32\u001b[90me\u001b[39m\u001b[31m- 2\u001b[39m *           \n",
      "\u001b[90m3\u001b[39m y     COVID-19     MIS-C     37    72      \u001b[4m1\u001b[24m086 1.16\u001b[90me\u001b[39m\u001b[31m- 1\u001b[39m 1.16\u001b[90me\u001b[39m\u001b[31m- 1\u001b[39m ns          \n",
      "\u001b[90m4\u001b[39m y     Control_Non… MIS-C…    26    19        50 1.55\u001b[90me\u001b[39m\u001b[31m- 6\u001b[39m 2.32\u001b[90me\u001b[39m\u001b[31m- 6\u001b[39m ****        \n",
      "\u001b[90m5\u001b[39m y     Control_Non… MIS-C     26    72        78 3.62\u001b[90me\u001b[39m\u001b[31m-12\u001b[39m 2.17\u001b[90me\u001b[39m\u001b[31m-11\u001b[39m ****        \n",
      "\u001b[90m6\u001b[39m y     Control_Non… COVID…    26    37       108 6.92\u001b[90me\u001b[39m\u001b[31m- 8\u001b[39m 2.08\u001b[90me\u001b[39m\u001b[31m- 7\u001b[39m ****        \n",
      "\u001b[90m# … with 5 more variables: y.position <dbl>, groups <named list>, xmin <dbl>,\u001b[39m\n",
      "\u001b[90m#   xmax <dbl>, rank <int>\u001b[39m\n"
     ]
    },
    {
     "data": {
      "text/html": [
       "<strong>png:</strong> 2"
      ],
      "text/latex": [
       "\\textbf{png:} 2"
      ],
      "text/markdown": [
       "**png:** 2"
      ],
      "text/plain": [
       "png \n",
       "  2 "
      ]
     },
     "metadata": {},
     "output_type": "display_data"
    }
   ],
   "source": [
    "GENE = \"ADAMTS2\"\n",
    "\n",
    "WIDTH = 1.0\n",
    "HEIGHT = 1.5\n",
    "YLIM = 410\n",
    "\n",
    "pdf(file=paste0(\"plots/panelD_\",GENE,\".pdf\"),\n",
    "        width=WIDTH,height=HEIGHT, paper=\"special\", bg=\"white\",\n",
    "        fonts=\"Helvetica\", colormodel = \"srgb\", pointsize=6, useDingbats = FALSE)\n",
    "\n",
    "get_fig_plot(GENE,meta_data,counts_cpm,YLIM) + \n",
    "#     scale_y_continuous(breaks = scales::pretty_breaks(n = 4)) + \n",
    "    scale_y_continuous(breaks = c(0,137,274,411)) + \n",
    "    coord_cartesian(ylim = c(0,YLIM))\n",
    "\n",
    "dev.off()"
   ]
  },
  {
   "cell_type": "code",
   "execution_count": 35,
   "id": "3646c563-6f77-40d4-ac19-f6f4abfe75ca",
   "metadata": {},
   "outputs": [
    {
     "name": "stdout",
     "output_type": "stream",
     "text": [
      "[1] \"num outliers:\"\n",
      "[1] 0\n",
      "\u001b[90m# A tibble: 6 × 14\u001b[39m\n",
      "  .y.   group1         group2    n1    n2 statistic       p   p.adj p.adj.signif\n",
      "  \u001b[3m\u001b[90m<chr>\u001b[39m\u001b[23m \u001b[3m\u001b[90m<chr>\u001b[39m\u001b[23m          \u001b[3m\u001b[90m<chr>\u001b[39m\u001b[23m  \u001b[3m\u001b[90m<int>\u001b[39m\u001b[23m \u001b[3m\u001b[90m<int>\u001b[39m\u001b[23m     \u001b[3m\u001b[90m<dbl>\u001b[39m\u001b[23m   \u001b[3m\u001b[90m<dbl>\u001b[39m\u001b[23m   \u001b[3m\u001b[90m<dbl>\u001b[39m\u001b[23m \u001b[3m\u001b[90m<chr>\u001b[39m\u001b[23m       \n",
      "\u001b[90m1\u001b[39m y     MIS-C          MIS-C…    72    19      791  2.97\u001b[90me\u001b[39m\u001b[31m-1\u001b[39m 0.356   ns          \n",
      "\u001b[90m2\u001b[39m y     COVID-19       MIS-C…    37    19      240  5   \u001b[90me\u001b[39m\u001b[31m-2\u001b[39m 0.1     ns          \n",
      "\u001b[90m3\u001b[39m y     COVID-19       MIS-C     37    72      757  2.12\u001b[90me\u001b[39m\u001b[31m-4\u001b[39m 0.001\u001b[4m2\u001b[24m\u001b[4m7\u001b[24m **          \n",
      "\u001b[90m4\u001b[39m y     Control_Non-i… MIS-C…    26    19      239  8.63\u001b[90me\u001b[39m\u001b[31m-1\u001b[39m 0.863   ns          \n",
      "\u001b[90m5\u001b[39m y     Control_Non-i… MIS-C     26    72      748  1.31\u001b[90me\u001b[39m\u001b[31m-1\u001b[39m 0.196   ns          \n",
      "\u001b[90m6\u001b[39m y     Control_Non-i… COVID…    26    37      654. 1.5 \u001b[90me\u001b[39m\u001b[31m-2\u001b[39m 0.045   *           \n",
      "\u001b[90m# … with 5 more variables: y.position <dbl>, groups <named list>, xmin <dbl>,\u001b[39m\n",
      "\u001b[90m#   xmax <dbl>, rank <int>\u001b[39m\n"
     ]
    },
    {
     "data": {
      "text/html": [
       "<strong>png:</strong> 2"
      ],
      "text/latex": [
       "\\textbf{png:} 2"
      ],
      "text/markdown": [
       "**png:** 2"
      ],
      "text/plain": [
       "png \n",
       "  2 "
      ]
     },
     "metadata": {},
     "output_type": "display_data"
    }
   ],
   "source": [
    "GENE = \"TRBV11-2\"\n",
    "\n",
    "WIDTH = 0.948\n",
    "HEIGHT = 1.5\n",
    "YLIM = 21\n",
    "\n",
    "pdf(file=paste0(\"plots/panelD_\",GENE,\".pdf\"),\n",
    "        width=WIDTH,height=HEIGHT, paper=\"special\", bg=\"white\",\n",
    "        fonts=\"Helvetica\", colormodel = \"srgb\", pointsize=6, useDingbats = FALSE)\n",
    "\n",
    "get_fig_plot(GENE,meta_data,counts_cpm,YLIM) + \n",
    "#     scale_y_continuous(breaks = scales::pretty_breaks(n = 4)) + \n",
    "    scale_y_continuous(breaks = c(0,7,14,21)) + \n",
    "    coord_cartesian(ylim = c(0,YLIM))\n",
    "\n",
    "dev.off()"
   ]
  },
  {
   "cell_type": "code",
   "execution_count": 36,
   "id": "d659e3bc-0318-4cfe-9a29-91e854d42c0b",
   "metadata": {},
   "outputs": [
    {
     "name": "stdout",
     "output_type": "stream",
     "text": [
      "[1] \"num outliers:\"\n",
      "[1] 1\n",
      "\u001b[90m# A tibble: 6 × 14\u001b[39m\n",
      "  .y.   group1         group2    n1    n2 statistic       p   p.adj p.adj.signif\n",
      "  \u001b[3m\u001b[90m<chr>\u001b[39m\u001b[23m \u001b[3m\u001b[90m<chr>\u001b[39m\u001b[23m          \u001b[3m\u001b[90m<chr>\u001b[39m\u001b[23m  \u001b[3m\u001b[90m<int>\u001b[39m\u001b[23m \u001b[3m\u001b[90m<int>\u001b[39m\u001b[23m     \u001b[3m\u001b[90m<dbl>\u001b[39m\u001b[23m   \u001b[3m\u001b[90m<dbl>\u001b[39m\u001b[23m   \u001b[3m\u001b[90m<dbl>\u001b[39m\u001b[23m \u001b[3m\u001b[90m<chr>\u001b[39m\u001b[23m       \n",
      "\u001b[90m1\u001b[39m y     MIS-C          MIS-C…    72    19     \u001b[4m1\u001b[24m028  7.82\u001b[90me\u001b[39m\u001b[31m-4\u001b[39m 9.38\u001b[90me\u001b[39m\u001b[31m-4\u001b[39m ***         \n",
      "\u001b[90m2\u001b[39m y     COVID-19       MIS-C…    37    19      663  7.24\u001b[90me\u001b[39m\u001b[31m-8\u001b[39m 2.17\u001b[90me\u001b[39m\u001b[31m-7\u001b[39m ****        \n",
      "\u001b[90m3\u001b[39m y     COVID-19       MIS-C     37    72     \u001b[4m2\u001b[24m199  2.93\u001b[90me\u001b[39m\u001b[31m-8\u001b[39m 1.76\u001b[90me\u001b[39m\u001b[31m-7\u001b[39m ****        \n",
      "\u001b[90m4\u001b[39m y     Control_Non-i… MIS-C…    26    19      413  1.39\u001b[90me\u001b[39m\u001b[31m-4\u001b[39m 2.08\u001b[90me\u001b[39m\u001b[31m-4\u001b[39m ***         \n",
      "\u001b[90m5\u001b[39m y     Control_Non-i… MIS-C     26    72     \u001b[4m1\u001b[24m076. 2.63\u001b[90me\u001b[39m\u001b[31m-1\u001b[39m 2.63\u001b[90me\u001b[39m\u001b[31m-1\u001b[39m ns          \n",
      "\u001b[90m6\u001b[39m y     Control_Non-i… COVID…    26    37      170  5.48\u001b[90me\u001b[39m\u001b[31m-6\u001b[39m 1.10\u001b[90me\u001b[39m\u001b[31m-5\u001b[39m ****        \n",
      "\u001b[90m# … with 5 more variables: y.position <dbl>, groups <named list>, xmin <dbl>,\u001b[39m\n",
      "\u001b[90m#   xmax <dbl>, rank <int>\u001b[39m\n"
     ]
    },
    {
     "data": {
      "text/html": [
       "<strong>png:</strong> 2"
      ],
      "text/latex": [
       "\\textbf{png:} 2"
      ],
      "text/markdown": [
       "**png:** 2"
      ],
      "text/plain": [
       "png \n",
       "  2 "
      ]
     },
     "metadata": {},
     "output_type": "display_data"
    }
   ],
   "source": [
    "GENE = \"SIGLEC1\"\n",
    "\n",
    "WIDTH = 1.0\n",
    "HEIGHT = 1.5\n",
    "YLIM = 660\n",
    "\n",
    "pdf(file=paste0(\"plots/panelD_\",GENE,\".pdf\"),\n",
    "        width=WIDTH,height=HEIGHT, paper=\"special\", bg=\"white\",\n",
    "        fonts=\"Helvetica\", colormodel = \"srgb\", pointsize=6, useDingbats = FALSE)\n",
    "\n",
    "get_fig_plot(GENE,meta_data,counts_cpm,YLIM) + \n",
    "#     scale_y_continuous(breaks = scales::pretty_breaks(n = 4)) + \n",
    "    scale_y_continuous(breaks = c(0,220,440,660)) + \n",
    "    coord_cartesian(ylim = c(0,YLIM))\n",
    "\n",
    "dev.off()"
   ]
  },
  {
   "cell_type": "code",
   "execution_count": 37,
   "id": "df7190a1-00d6-46c9-ae32-1ae3bd515f04",
   "metadata": {},
   "outputs": [
    {
     "name": "stdout",
     "output_type": "stream",
     "text": [
      "[1] \"num outliers:\"\n",
      "[1] 2\n",
      "\u001b[90m# A tibble: 6 × 14\u001b[39m\n",
      "  .y.   group1       group2    n1    n2 statistic        p    p.adj p.adj.signif\n",
      "  \u001b[3m\u001b[90m<chr>\u001b[39m\u001b[23m \u001b[3m\u001b[90m<chr>\u001b[39m\u001b[23m        \u001b[3m\u001b[90m<chr>\u001b[39m\u001b[23m  \u001b[3m\u001b[90m<int>\u001b[39m\u001b[23m \u001b[3m\u001b[90m<int>\u001b[39m\u001b[23m     \u001b[3m\u001b[90m<dbl>\u001b[39m\u001b[23m    \u001b[3m\u001b[90m<dbl>\u001b[39m\u001b[23m    \u001b[3m\u001b[90m<dbl>\u001b[39m\u001b[23m \u001b[3m\u001b[90m<chr>\u001b[39m\u001b[23m       \n",
      "\u001b[90m1\u001b[39m y     MIS-C        MIS-C…    72    19      772. 3.9 \u001b[90me\u001b[39m\u001b[31m- 1\u001b[39m 4.35\u001b[90me\u001b[39m\u001b[31m- 1\u001b[39m ns          \n",
      "\u001b[90m2\u001b[39m y     COVID-19     MIS-C…    37    19      430. 1.8 \u001b[90me\u001b[39m\u001b[31m- 1\u001b[39m 2.7 \u001b[90me\u001b[39m\u001b[31m- 1\u001b[39m ns          \n",
      "\u001b[90m3\u001b[39m y     COVID-19     MIS-C     37    72     \u001b[4m1\u001b[24m454. 4.35\u001b[90me\u001b[39m\u001b[31m- 1\u001b[39m 4.35\u001b[90me\u001b[39m\u001b[31m- 1\u001b[39m ns          \n",
      "\u001b[90m4\u001b[39m y     Control_Non… MIS-C…    26    19      483  1.6 \u001b[90me\u001b[39m\u001b[31m-10\u001b[39m 4.8 \u001b[90me\u001b[39m\u001b[31m-10\u001b[39m ****        \n",
      "\u001b[90m5\u001b[39m y     Control_Non… MIS-C     26    72     \u001b[4m1\u001b[24m775  1.5 \u001b[90me\u001b[39m\u001b[31m-11\u001b[39m 9   \u001b[90me\u001b[39m\u001b[31m-11\u001b[39m ****        \n",
      "\u001b[90m6\u001b[39m y     Control_Non… COVID…    26    37      894  8.4 \u001b[90me\u001b[39m\u001b[31m- 9\u001b[39m 1.68\u001b[90me\u001b[39m\u001b[31m- 8\u001b[39m ****        \n",
      "\u001b[90m# … with 5 more variables: y.position <dbl>, groups <named list>, xmin <dbl>,\u001b[39m\n",
      "\u001b[90m#   xmax <dbl>, rank <int>\u001b[39m\n"
     ]
    },
    {
     "data": {
      "text/html": [
       "<strong>png:</strong> 2"
      ],
      "text/latex": [
       "\\textbf{png:} 2"
      ],
      "text/markdown": [
       "**png:** 2"
      ],
      "text/plain": [
       "png \n",
       "  2 "
      ]
     },
     "metadata": {},
     "output_type": "display_data"
    }
   ],
   "source": [
    "GENE = \"KLRB1\"\n",
    "\n",
    "WIDTH = 0.948\n",
    "HEIGHT = 1.5\n",
    "YLIM = 100\n",
    "\n",
    "pdf(file=paste0(\"plots/panelD_\",GENE,\".pdf\"),\n",
    "        width=WIDTH,height=HEIGHT, paper=\"special\", bg=\"white\",\n",
    "        fonts=\"Helvetica\", colormodel = \"srgb\", pointsize=6, useDingbats = FALSE)\n",
    "\n",
    "get_fig_plot(GENE,meta_data,counts_cpm,YLIM) + \n",
    "#     scale_y_continuous(breaks = scales::pretty_breaks(n = 4)) + \n",
    "    scale_y_continuous(breaks = c(0,33,66,99)) + \n",
    "    coord_cartesian(ylim = c(0,YLIM))\n",
    "\n",
    "dev.off()"
   ]
  },
  {
   "cell_type": "code",
   "execution_count": 38,
   "id": "cb911dff-9898-4d85-bac1-e6bcea8bcc5c",
   "metadata": {},
   "outputs": [
    {
     "name": "stdout",
     "output_type": "stream",
     "text": [
      "[1] \"num outliers:\"\n",
      "[1] 1\n",
      "\u001b[90m# A tibble: 6 × 14\u001b[39m\n",
      "  .y.   group1         group2    n1    n2 statistic       p   p.adj p.adj.signif\n",
      "  \u001b[3m\u001b[90m<chr>\u001b[39m\u001b[23m \u001b[3m\u001b[90m<chr>\u001b[39m\u001b[23m          \u001b[3m\u001b[90m<chr>\u001b[39m\u001b[23m  \u001b[3m\u001b[90m<int>\u001b[39m\u001b[23m \u001b[3m\u001b[90m<int>\u001b[39m\u001b[23m     \u001b[3m\u001b[90m<dbl>\u001b[39m\u001b[23m   \u001b[3m\u001b[90m<dbl>\u001b[39m\u001b[23m   \u001b[3m\u001b[90m<dbl>\u001b[39m\u001b[23m \u001b[3m\u001b[90m<chr>\u001b[39m\u001b[23m       \n",
      "\u001b[90m1\u001b[39m y     MIS-C          MIS-C…    72    19     \u001b[4m1\u001b[24m028. 7.57\u001b[90me\u001b[39m\u001b[31m-4\u001b[39m 9.08\u001b[90me\u001b[39m\u001b[31m-4\u001b[39m ***         \n",
      "\u001b[90m2\u001b[39m y     COVID-19       MIS-C…    37    19      582. 6.81\u001b[90me\u001b[39m\u001b[31m-5\u001b[39m 1.36\u001b[90me\u001b[39m\u001b[31m-4\u001b[39m ***         \n",
      "\u001b[90m3\u001b[39m y     COVID-19       MIS-C     37    72     \u001b[4m1\u001b[24m736. 1   \u001b[90me\u001b[39m\u001b[31m-2\u001b[39m 1   \u001b[90me\u001b[39m\u001b[31m-2\u001b[39m **          \n",
      "\u001b[90m4\u001b[39m y     Control_Non-i… MIS-C…    26    19      466. 5.07\u001b[90me\u001b[39m\u001b[31m-7\u001b[39m 1.52\u001b[90me\u001b[39m\u001b[31m-6\u001b[39m ****        \n",
      "\u001b[90m5\u001b[39m y     Control_Non-i… MIS-C     26    72     \u001b[4m1\u001b[24m598. 1.03\u001b[90me\u001b[39m\u001b[31m-7\u001b[39m 6.18\u001b[90me\u001b[39m\u001b[31m-7\u001b[39m ****        \n",
      "\u001b[90m6\u001b[39m y     Control_Non-i… COVID…    26    37      728. 5.93\u001b[90me\u001b[39m\u001b[31m-4\u001b[39m 8.90\u001b[90me\u001b[39m\u001b[31m-4\u001b[39m ***         \n",
      "\u001b[90m# … with 5 more variables: y.position <dbl>, groups <named list>, xmin <dbl>,\u001b[39m\n",
      "\u001b[90m#   xmax <dbl>, rank <int>\u001b[39m\n"
     ]
    },
    {
     "data": {
      "text/html": [
       "<strong>png:</strong> 2"
      ],
      "text/latex": [
       "\\textbf{png:} 2"
      ],
      "text/markdown": [
       "**png:** 2"
      ],
      "text/plain": [
       "png \n",
       "  2 "
      ]
     },
     "metadata": {},
     "output_type": "display_data"
    }
   ],
   "source": [
    "GENE = \"KLRF1\"\n",
    "\n",
    "WIDTH = 0.948\n",
    "HEIGHT = 1.5\n",
    "YLIM = 75\n",
    "\n",
    "pdf(file=paste0(\"plots/SupPanelB_\",GENE,\".pdf\"),\n",
    "        width=WIDTH,height=HEIGHT, paper=\"special\", bg=\"white\",\n",
    "        fonts=\"Helvetica\", colormodel = \"srgb\", pointsize=6, useDingbats = FALSE)\n",
    "\n",
    "get_fig_plot(GENE,meta_data,counts_cpm,YLIM) + \n",
    "#     scale_y_continuous(breaks = scales::pretty_breaks(n = 4)) + \n",
    "    scale_y_continuous(breaks = c(0,25,50,75)) + \n",
    "    coord_cartesian(ylim = c(0,YLIM))\n",
    "\n",
    "dev.off()"
   ]
  },
  {
   "cell_type": "code",
   "execution_count": 39,
   "id": "a30b04c0-48fa-4e8a-9dc0-bb9ffcaedbf6",
   "metadata": {},
   "outputs": [
    {
     "name": "stdout",
     "output_type": "stream",
     "text": [
      "[1] \"num outliers:\"\n",
      "[1] 0\n",
      "\u001b[90m# A tibble: 6 × 14\u001b[39m\n",
      "  .y.   group1       group2    n1    n2 statistic        p    p.adj p.adj.signif\n",
      "  \u001b[3m\u001b[90m<chr>\u001b[39m\u001b[23m \u001b[3m\u001b[90m<chr>\u001b[39m\u001b[23m        \u001b[3m\u001b[90m<chr>\u001b[39m\u001b[23m  \u001b[3m\u001b[90m<int>\u001b[39m\u001b[23m \u001b[3m\u001b[90m<int>\u001b[39m\u001b[23m     \u001b[3m\u001b[90m<dbl>\u001b[39m\u001b[23m    \u001b[3m\u001b[90m<dbl>\u001b[39m\u001b[23m    \u001b[3m\u001b[90m<dbl>\u001b[39m\u001b[23m \u001b[3m\u001b[90m<chr>\u001b[39m\u001b[23m       \n",
      "\u001b[90m1\u001b[39m y     MIS-C        MIS-C…    72    19      451  2.3 \u001b[90me\u001b[39m\u001b[31m- 2\u001b[39m 2.3 \u001b[90me\u001b[39m\u001b[31m- 2\u001b[39m *           \n",
      "\u001b[90m2\u001b[39m y     COVID-19     MIS-C…    37    19      114  1.52\u001b[90me\u001b[39m\u001b[31m- 5\u001b[39m 2.28\u001b[90me\u001b[39m\u001b[31m- 5\u001b[39m ****        \n",
      "\u001b[90m3\u001b[39m y     COVID-19     MIS-C     37    72      834. 1   \u001b[90me\u001b[39m\u001b[31m- 3\u001b[39m 1.2 \u001b[90me\u001b[39m\u001b[31m- 3\u001b[39m **          \n",
      "\u001b[90m4\u001b[39m y     Control_Non… MIS-C…    26    19        0  1.23\u001b[90me\u001b[39m\u001b[31m- 8\u001b[39m 2.46\u001b[90me\u001b[39m\u001b[31m- 8\u001b[39m ****        \n",
      "\u001b[90m5\u001b[39m y     Control_Non… MIS-C     26    72       31  3.26\u001b[90me\u001b[39m\u001b[31m-13\u001b[39m 1.96\u001b[90me\u001b[39m\u001b[31m-12\u001b[39m ****        \n",
      "\u001b[90m6\u001b[39m y     Control_Non… COVID…    26    37       40  7   \u001b[90me\u001b[39m\u001b[31m-10\u001b[39m 2.1 \u001b[90me\u001b[39m\u001b[31m- 9\u001b[39m ****        \n",
      "\u001b[90m# … with 5 more variables: y.position <dbl>, groups <named list>, xmin <dbl>,\u001b[39m\n",
      "\u001b[90m#   xmax <dbl>, rank <int>\u001b[39m\n"
     ]
    },
    {
     "data": {
      "text/html": [
       "<strong>png:</strong> 2"
      ],
      "text/latex": [
       "\\textbf{png:} 2"
      ],
      "text/markdown": [
       "**png:** 2"
      ],
      "text/plain": [
       "png \n",
       "  2 "
      ]
     },
     "metadata": {},
     "output_type": "display_data"
    }
   ],
   "source": [
    "GENE = \"CD177\"\n",
    "\n",
    "WIDTH = 1.037\n",
    "HEIGHT = 1.5\n",
    "YLIM = 1800\n",
    "\n",
    "pdf(file=paste0(\"plots/SupPanelB_\",GENE,\".pdf\"),\n",
    "        width=WIDTH,height=HEIGHT, paper=\"special\", bg=\"white\",\n",
    "        fonts=\"Helvetica\", colormodel = \"srgb\", pointsize=6, useDingbats = FALSE)\n",
    "\n",
    "get_fig_plot(GENE,meta_data,counts_cpm,YLIM) + \n",
    "#     scale_y_continuous(breaks = scales::pretty_breaks(n = 4)) + \n",
    "    scale_y_continuous(breaks = c(0,600,1200,1800)) + \n",
    "    coord_cartesian(ylim = c(0,YLIM))\n",
    "\n",
    "dev.off()"
   ]
  },
  {
   "cell_type": "code",
   "execution_count": 40,
   "id": "74e84874-a001-401e-b607-955e3f84893b",
   "metadata": {},
   "outputs": [
    {
     "name": "stdout",
     "output_type": "stream",
     "text": [
      "[1] \"num outliers:\"\n",
      "[1] 2\n",
      "\u001b[90m# A tibble: 6 × 14\u001b[39m\n",
      "  .y.   group1         group2    n1    n2 statistic       p   p.adj p.adj.signif\n",
      "  \u001b[3m\u001b[90m<chr>\u001b[39m\u001b[23m \u001b[3m\u001b[90m<chr>\u001b[39m\u001b[23m          \u001b[3m\u001b[90m<chr>\u001b[39m\u001b[23m  \u001b[3m\u001b[90m<int>\u001b[39m\u001b[23m \u001b[3m\u001b[90m<int>\u001b[39m\u001b[23m     \u001b[3m\u001b[90m<dbl>\u001b[39m\u001b[23m   \u001b[3m\u001b[90m<dbl>\u001b[39m\u001b[23m   \u001b[3m\u001b[90m<dbl>\u001b[39m\u001b[23m \u001b[3m\u001b[90m<chr>\u001b[39m\u001b[23m       \n",
      "\u001b[90m1\u001b[39m y     MIS-C          MIS-C…    72    19       755 4.91\u001b[90me\u001b[39m\u001b[31m-1\u001b[39m 7.36\u001b[90me\u001b[39m\u001b[31m-1\u001b[39m ns          \n",
      "\u001b[90m2\u001b[39m y     COVID-19       MIS-C…    37    19       577 4.6 \u001b[90me\u001b[39m\u001b[31m-5\u001b[39m 9.2 \u001b[90me\u001b[39m\u001b[31m-5\u001b[39m ****        \n",
      "\u001b[90m3\u001b[39m y     COVID-19       MIS-C     37    72      \u001b[4m2\u001b[24m077 1.89\u001b[90me\u001b[39m\u001b[31m-6\u001b[39m 5.67\u001b[90me\u001b[39m\u001b[31m-6\u001b[39m ****        \n",
      "\u001b[90m4\u001b[39m y     Control_Non-i… MIS-C…    26    19       259 7.94\u001b[90me\u001b[39m\u001b[31m-1\u001b[39m 7.94\u001b[90me\u001b[39m\u001b[31m-1\u001b[39m ns          \n",
      "\u001b[90m5\u001b[39m y     Control_Non-i… MIS-C     26    72       874 6.21\u001b[90me\u001b[39m\u001b[31m-1\u001b[39m 7.45\u001b[90me\u001b[39m\u001b[31m-1\u001b[39m ns          \n",
      "\u001b[90m6\u001b[39m y     Control_Non-i… COVID…    26    37       151 1.14\u001b[90me\u001b[39m\u001b[31m-6\u001b[39m 5.67\u001b[90me\u001b[39m\u001b[31m-6\u001b[39m ****        \n",
      "\u001b[90m# … with 5 more variables: y.position <dbl>, groups <named list>, xmin <dbl>,\u001b[39m\n",
      "\u001b[90m#   xmax <dbl>, rank <int>\u001b[39m\n"
     ]
    },
    {
     "data": {
      "text/html": [
       "<strong>png:</strong> 2"
      ],
      "text/latex": [
       "\\textbf{png:} 2"
      ],
      "text/markdown": [
       "**png:** 2"
      ],
      "text/plain": [
       "png \n",
       "  2 "
      ]
     },
     "metadata": {},
     "output_type": "display_data"
    }
   ],
   "source": [
    "GENE = \"ISG15\"\n",
    "\n",
    "WIDTH = 1.037\n",
    "HEIGHT = 1.5\n",
    "YLIM = 1200\n",
    "\n",
    "pdf(file=paste0(\"plots/SupPanelB_\",GENE,\".pdf\"),\n",
    "        width=WIDTH,height=HEIGHT, paper=\"special\", bg=\"white\",\n",
    "        fonts=\"Helvetica\", colormodel = \"srgb\", pointsize=6, useDingbats = FALSE)\n",
    "\n",
    "get_fig_plot(GENE,meta_data,counts_cpm,YLIM) + \n",
    "#     scale_y_continuous(breaks = scales::pretty_breaks(n = 4)) + \n",
    "    scale_y_continuous(breaks = c(0,400,800,1200)) + \n",
    "    coord_cartesian(ylim = c(0,YLIM))\n",
    "\n",
    "dev.off()"
   ]
  },
  {
   "cell_type": "code",
   "execution_count": 41,
   "id": "3c03c870-dcd3-47ed-b0af-18d851eec610",
   "metadata": {},
   "outputs": [
    {
     "name": "stdout",
     "output_type": "stream",
     "text": [
      "[1] \"num outliers:\"\n",
      "[1] 0\n",
      "\u001b[90m# A tibble: 6 × 14\u001b[39m\n",
      "  .y.   group1         group2    n1    n2 statistic       p   p.adj p.adj.signif\n",
      "  \u001b[3m\u001b[90m<chr>\u001b[39m\u001b[23m \u001b[3m\u001b[90m<chr>\u001b[39m\u001b[23m          \u001b[3m\u001b[90m<chr>\u001b[39m\u001b[23m  \u001b[3m\u001b[90m<int>\u001b[39m\u001b[23m \u001b[3m\u001b[90m<int>\u001b[39m\u001b[23m     \u001b[3m\u001b[90m<dbl>\u001b[39m\u001b[23m   \u001b[3m\u001b[90m<dbl>\u001b[39m\u001b[23m   \u001b[3m\u001b[90m<dbl>\u001b[39m\u001b[23m \u001b[3m\u001b[90m<chr>\u001b[39m\u001b[23m       \n",
      "\u001b[90m1\u001b[39m y     MIS-C          MIS-C…    72    19      473  3   \u001b[90me\u001b[39m\u001b[31m-2\u001b[39m 3.6 \u001b[90me\u001b[39m\u001b[31m-2\u001b[39m *           \n",
      "\u001b[90m2\u001b[39m y     COVID-19       MIS-C…    37    19      156  1.04\u001b[90me\u001b[39m\u001b[31m-4\u001b[39m 3.12\u001b[90me\u001b[39m\u001b[31m-4\u001b[39m ***         \n",
      "\u001b[90m3\u001b[39m y     COVID-19       MIS-C     37    72      885  1   \u001b[90me\u001b[39m\u001b[31m-3\u001b[39m 1.5 \u001b[90me\u001b[39m\u001b[31m-3\u001b[39m **          \n",
      "\u001b[90m4\u001b[39m y     Control_Non-i… MIS-C…    26    19       96  5.33\u001b[90me\u001b[39m\u001b[31m-5\u001b[39m 3.12\u001b[90me\u001b[39m\u001b[31m-4\u001b[39m ***         \n",
      "\u001b[90m5\u001b[39m y     Control_Non-i… MIS-C     26    72      575  1   \u001b[90me\u001b[39m\u001b[31m-3\u001b[39m 1.5 \u001b[90me\u001b[39m\u001b[31m-3\u001b[39m **          \n",
      "\u001b[90m6\u001b[39m y     Control_Non-i… COVID…    26    37      440. 3.87\u001b[90me\u001b[39m\u001b[31m-1\u001b[39m 3.87\u001b[90me\u001b[39m\u001b[31m-1\u001b[39m ns          \n",
      "\u001b[90m# … with 5 more variables: y.position <dbl>, groups <named list>, xmin <dbl>,\u001b[39m\n",
      "\u001b[90m#   xmax <dbl>, rank <int>\u001b[39m\n"
     ]
    },
    {
     "data": {
      "text/html": [
       "<strong>png:</strong> 2"
      ],
      "text/latex": [
       "\\textbf{png:} 2"
      ],
      "text/markdown": [
       "**png:** 2"
      ],
      "text/plain": [
       "png \n",
       "  2 "
      ]
     },
     "metadata": {},
     "output_type": "display_data"
    }
   ],
   "source": [
    "GENE = \"CREB3L1\"\n",
    "\n",
    "WIDTH = 0.948\n",
    "HEIGHT = 1.5\n",
    "YLIM = 21\n",
    "\n",
    "pdf(file=paste0(\"plots/SupPanelB_\",GENE,\".pdf\"),\n",
    "        width=WIDTH,height=HEIGHT, paper=\"special\", bg=\"white\",\n",
    "        fonts=\"Helvetica\", colormodel = \"srgb\", pointsize=6, useDingbats = FALSE)\n",
    "\n",
    "get_fig_plot(GENE,meta_data,counts_cpm,YLIM) + \n",
    "#     scale_y_continuous(breaks = scales::pretty_breaks(n = 4)) + \n",
    "    scale_y_continuous(breaks = c(0,7,14,21)) + \n",
    "    coord_cartesian(ylim = c(0,YLIM))\n",
    "\n",
    "dev.off()"
   ]
  },
  {
   "cell_type": "markdown",
   "id": "84e6914a-3ac4-44fb-a841-3fe4458d40f6",
   "metadata": {
    "jp-MarkdownHeadingCollapsed": true,
    "tags": []
   },
   "source": [
    "---\n",
    "## gene module scores"
   ]
  },
  {
   "cell_type": "code",
   "execution_count": 3,
   "id": "ebcae2d6-19c0-424b-ad84-ddda0c3df2cf",
   "metadata": {},
   "outputs": [],
   "source": [
    "get_plots <- function(ct_counts,expGroupPalette,DiagnosisPalette,YLIM){\n",
    "\n",
    "    \n",
    "    ct_counts$timepoint <- factor(ct_counts$timepoint,levels=c(\"acute\",\"post-acute\",\"1m\",\"3m+\",\"Not-hospitalized\"))\n",
    "\n",
    "    common <- list(theme_prevail(),\n",
    "        theme(legend.position = \"none\",\n",
    "        axis.text.x = element_blank(),\n",
    "        axis.title.y = element_blank(),\n",
    "        axis.title.x = element_blank(),\n",
    "#         panel.border = element_blank(),\n",
    "        panel.grid.minor = element_blank()))\n",
    "\n",
    "    box_common <- list(scale_x_discrete(expand = c(0, 0)),\n",
    "        scale_fill_manual(values=DiagnosisPalette))\n",
    "\n",
    "\n",
    "    ct_counts_SUM <- Rmisc::summarySE(ct_counts,\n",
    "                 measurevar=\"value\", \n",
    "                 groupvars=c(\"timepoint\",\"Diagnosis\")) %>% filter(N>1) %>% filter( !grepl(\"Control_Non-inflammatory\",Diagnosis))\n",
    "\n",
    "    MEAN_CNTRL <- mean(ct_counts[which(grepl(\"Control_Non-inflammatory\",ct_counts$Diagnosis)),\"value\"])\n",
    "\n",
    "    ##------------------------------------\n",
    "    # Control Boxplot\n",
    "\n",
    "    cntrl_boxplot <- ct_counts %>% \n",
    "    filter(grepl(\"Control\",Diagnosis)) %>%\n",
    "    ggplot(aes(x=Diagnosis,y=value,fill=expGroup))+\n",
    "    geom_boxplot(width=0.5/4,size = 0.2,outlier.size = .01)+\n",
    "    stat_summary(fun=mean, geom=\"point\", shape=18, size=.2, color=\"white\", fill=\"white\") \n",
    "\n",
    "    ##------------------------------------\n",
    "    # Acute Boxplot\n",
    "\n",
    "acute_boxplot <- ct_counts %>% \n",
    "    filter(grepl(\"acute\",timepoint) | grepl(\"Control_Non-inflammatory\",Diagnosis)) %>%\n",
    "#     mutate(expGroup = factor(expGroup,levels=c(\"Control_Non-inflammatory_discovery\",\"MIS-C_validation\",\"MIS-C_discovery\",\"COVID-19_discovery\")))%>%\n",
    "    mutate(expGroup = factor(expGroup,levels=c(\"Control_Non-inflammatory\",\"COVID-19\",\"MIS-C\",\"MIS-C_validation\")))%>%\n",
    "    ggplot(aes(x=expGroup,y=value))+\n",
    "    geom_hline(yintercept = MEAN_CNTRL,alpha = 0.75, size = .5, linetype = \"dashed\",color = DiagnosisPalette[[\"Control_Non-inflammatory\"]][1] )+\n",
    "    geom_boxplot(aes(fill=expGroup), width=0.75,size = 0.2,outlier.size = .01, outlier.shape=NA)+\n",
    "    stat_summary(fun=mean, geom=\"point\", shape=18, size=.2, color=\"white\", fill=\"white\") \n",
    "\n",
    "    \n",
    "    \n",
    "    ##------------------------------------ \n",
    "    # LINE PLOT\n",
    "    pd <- position_dodge(0.05)\n",
    "\n",
    "    line_plot <- ct_counts_SUM %>%\n",
    "    mutate(timepoint = factor(timepoint,levels=c(\"acute\",\"post-acute\",\"1m\",\"3m+\",\"Not-hospitalized\"))) %>%\n",
    "    ggplot(aes(x=timepoint, y=value, colour=Diagnosis, group=Diagnosis)) + \n",
    "        geom_hline(yintercept = MEAN_CNTRL,alpha = 0.75, size = .5, linetype = \"dashed\",color = DiagnosisPalette[[\"Control_Non-inflammatory\"]][1] ) +\n",
    "        geom_errorbar(aes(ymin=value-se, ymax=value+se), width=.1, position=pd) +\n",
    "        geom_line(position=pd) +\n",
    "        geom_point(position=pd, size = 0.5)+\n",
    "    scale_x_discrete(expand = c(.1, 0))+\n",
    "    scale_color_manual(values=DiagnosisPalette)\n",
    "\n",
    "    ##------------------------------------\n",
    "    # Customize\n",
    "\n",
    "    # Calculate Y limits\n",
    "    y_range_cntl <- layer_scales(cntrl_boxplot)$y$range$range\n",
    "    y_range_acute <- layer_scales(acute_boxplot)$y$range$range\n",
    "    y_range_ln <- layer_scales(line_plot)$y$range$range\n",
    "\n",
    "    starts <- c(y_range_cntl[1],y_range_acute[1],y_range_ln[1],0)\n",
    "    stops <- c(y_range_cntl[2],y_range_acute[2],y_range_ln[2])\n",
    "    \n",
    "    proper_scale <- list(coord_cartesian(ylim = c(min(starts), max(stops))), \n",
    "                    scale_y_continuous(labels = function(x) format(x, scientific = TRUE, digits = 2),\n",
    "                                       breaks = seq(0,max(stops),length.out  = 4)))\n",
    "    \n",
    "    \n",
    "    \n",
    "    ##---------------------------------------\n",
    "    # ADD SIG BARS\n",
    "    \n",
    "    stat.test <- ct_counts %>% filter(grepl(\"acute\",timepoint) | grepl(\"Control_Non-inflammatory\",Diagnosis)) %>%\n",
    "    wilcox_test(value ~ expGroup, paired = FALSE) %>% \n",
    "    adjust_pvalue(method = \"BH\") %>% \n",
    "    add_significance(\"p\") %>% \n",
    "    add_xy_position(x = \"expGroup\") \n",
    "    \n",
    "    stat.test <- stat.test %>% arrange(desc(y.position))\n",
    "    stat.test$rank <- c(1:nrow(stat.test))\n",
    "    stat.test$y.position <- YLIM - ((0.05*stat.test$rank)*YLIM)\n",
    "                                       \n",
    "    sig_bars <- stat_pvalue_manual(stat.test, label = \"p.adj.signif\",tip.length=0) \n",
    "    \n",
    "    acute_boxplot <- acute_boxplot + sig_bars\n",
    "    \n",
    "#     return(acute_boxplot)\n",
    "    print(stat.test)\n",
    "    \n",
    "    ##---------------------------------------\n",
    "    # FINALIZE\n",
    "            \n",
    "    line_plot <- line_plot + common + proper_scale\n",
    "                                       \n",
    "    cntrl_boxplot <- cntrl_boxplot + common + box_common + proper_scale\n",
    "                        \n",
    "    acute_boxplot <- acute_boxplot + common + box_common + proper_scale\n",
    "    \n",
    "\n",
    "\n",
    "    \n",
    "    return(list(\"line_plot\" = line_plot,\n",
    "                \"cntrl_boxplot\" = cntrl_boxplot,\n",
    "                \"acute_boxplot\" = acute_boxplot))\n",
    "    \n",
    "    }\n",
    "\n",
    "DiagnosisPalette = c('#5CB2EB','#F0484E','#FBE77C','#2BC0B3')\n",
    "names(DiagnosisPalette) <- c(\"MIS-C\",\"COVID-19\",\"Control_Non-inflammatory\",\"MIS-C_validation\")\n",
    "\n",
    "expGroupPalette = c('#2BC0B3','#5CB2EB','#F0484E','#FBE77C')\n",
    "names(expGroupPalette) <- c(\"MIS-C_validation\",\"MIS-C_discovery\",\"COVID-19_discovery\",\"Control_Non-inflammatory_discovery\")\n"
   ]
  },
  {
   "cell_type": "code",
   "execution_count": 8,
   "id": "508bfada-6463-4d05-b852-509d81be9719",
   "metadata": {},
   "outputs": [],
   "source": [
    "GROUPS = c(\"COVID-19\", \"Control_Non-inflammatory\",\"MIS-C\")\n",
    "\n",
    "\n",
    "\n",
    "meta_data <- read.csv(\"../1_sample-data/STable7_wbrna-samples.csv\") \n",
    "\n",
    "wb_ftcounts <- read.delim(\"../1_sample-data/wbrna_ftcounts.txt\",row.names=1)  \n",
    "\n",
    "wb_ftcounts <- wb_ftcounts[,colSums(wb_ftcounts) > 1]\n",
    "\n",
    "#------------------------\n",
    "## FILTER\n",
    "\n",
    "gene.list <- read.delim(\"../0_support-files/genelist.remove.tsv\",col.names = c(\"type,\",\"ENSMBL\",\"gene_symbol\"))\n",
    "\n",
    "gene.ids <- gsub(\"\\\\..*\",\"\",rownames(wb_ftcounts))\n",
    "\n",
    "exclude.idx <- gene.ids %in% gene.list[,2]\n",
    "\n",
    "wb_ftcounts = wb_ftcounts[!exclude.idx,] \n",
    "\n",
    "#------------------------\n",
    "## NORMALIZE\n",
    "\n",
    "wb_ftcounts <- edgeR::cpm(wb_ftcounts)"
   ]
  },
  {
   "cell_type": "code",
   "execution_count": 9,
   "id": "ef2f4fc0-33c8-4d25-a9fc-d210f490a07c",
   "metadata": {},
   "outputs": [
    {
     "name": "stderr",
     "output_type": "stream",
     "text": [
      "Warning message in melt(df, id.vars = ID_KEYS):\n",
      "“The melt generic in data.table has been passed a data.frame and will attempt to redirect to the relevant reshape2 method; please note that reshape2 is deprecated, and this redirection is now deprecated as well. To continue using melt methods from reshape2 while both libraries are attached, e.g. melt.list, you can prepend the namespace like reshape2::melt(df). In the next version, this warning will become an error.”\n"
     ]
    }
   ],
   "source": [
    "NOT_LEFT = list(theme(axis.text.y = element_blank(),axis.ticks.y=element_blank()))\n",
    "\n",
    "\n",
    "\n",
    "# # ACUTE - LINE\n",
    "lay <- rbind(c(2,2,1,1))\n",
    "ACUTE_MARGIN = list(theme(plot.margin=grid::unit(c(0.02,-.025,0,0), \"in\")),scale_x_discrete(expand = expansion(add = 0.5)))\n",
    "# ACUTE_MARGIN = theme(plot.margin=grid::unit(c(0,-.2,0,0), \"in\"))\n",
    "CNTRL_MARGIN = theme(plot.margin=grid::unit(c(0,-.5,0,-.3), \"in\"))\n",
    "LINE_MARGIN = theme(plot.margin=grid::unit(c(0.02,0.02,0,-0.025), \"in\"))\n",
    "GRID_fun <- function(acute_boxplot, cntrl_boxplot, line_plot, lay){grid.arrange( line_plot, acute_boxplot, layout_matrix = lay)}\n",
    "\n",
    "\n",
    "## get data frame with counts\n",
    "tcr_ftcounts <- wb_ftcounts[grepl(\"TRBV11-2\",rownames(wb_ftcounts)),] %>% data.frame()\n",
    "colnames(tcr_ftcounts) <- \"TRVB11.2\"\n",
    "\n",
    "\n",
    "ID_KEYS = c(\"wbrna_sample_id\",\"Diagnosis\",\"group\",\"timepoint\")\n",
    "df <- merge(meta_data[,ID_KEYS], tcr_ftcounts, by.x= \"wbrna_sample_id\", by.y=0)\n",
    "output_melt <- melt(df,id.vars = ID_KEYS) %>% mutate(Diagnosis_group = paste0(Diagnosis,\"_\",group)) %>% \n",
    "        mutate(expGroup = Diagnosis) %>% \n",
    "        mutate(expGroup = ifelse(group == \"validation\",\"MIS-C_validation\",expGroup))\n",
    "\n",
    "output_melt <- output_melt %>% filter(group %in% c(\"discovery\",\"validation\"))\n",
    "\n"
   ]
  },
  {
   "cell_type": "code",
   "execution_count": 10,
   "id": "108f9627-285a-4f25-8b2b-b1bc411c2c7d",
   "metadata": {},
   "outputs": [
    {
     "name": "stderr",
     "output_type": "stream",
     "text": [
      "Warning message in qt(conf.interval/2 + 0.5, datac$N - 1):\n",
      "“NaNs produced”\n"
     ]
    },
    {
     "name": "stdout",
     "output_type": "stream",
     "text": [
      "\u001b[90m# A tibble: 6 × 15\u001b[39m\n",
      "  .y.   group1         group2    n1    n2 statistic       p   p.adj p.adj.signif\n",
      "  \u001b[3m\u001b[90m<chr>\u001b[39m\u001b[23m \u001b[3m\u001b[90m<chr>\u001b[39m\u001b[23m          \u001b[3m\u001b[90m<chr>\u001b[39m\u001b[23m  \u001b[3m\u001b[90m<int>\u001b[39m\u001b[23m \u001b[3m\u001b[90m<int>\u001b[39m\u001b[23m     \u001b[3m\u001b[90m<dbl>\u001b[39m\u001b[23m   \u001b[3m\u001b[90m<dbl>\u001b[39m\u001b[23m   \u001b[3m\u001b[90m<dbl>\u001b[39m\u001b[23m \u001b[3m\u001b[90m<chr>\u001b[39m\u001b[23m       \n",
      "\u001b[90m1\u001b[39m value MIS-C          MIS-C…    84    19      917  3.12\u001b[90me\u001b[39m\u001b[31m-1\u001b[39m 3.74\u001b[90me\u001b[39m\u001b[31m-1\u001b[39m ns          \n",
      "\u001b[90m2\u001b[39m value COVID-19       MIS-C…    50    19      315  2.9 \u001b[90me\u001b[39m\u001b[31m-2\u001b[39m 5.8 \u001b[90me\u001b[39m\u001b[31m-2\u001b[39m ns          \n",
      "\u001b[90m3\u001b[39m value COVID-19       MIS-C     50    84     \u001b[4m1\u001b[24m172  1.71\u001b[90me\u001b[39m\u001b[31m-5\u001b[39m 1.03\u001b[90me\u001b[39m\u001b[31m-4\u001b[39m ***         \n",
      "\u001b[90m4\u001b[39m value Control_Non-i… MIS-C…    26    19      239  8.63\u001b[90me\u001b[39m\u001b[31m-1\u001b[39m 8.63\u001b[90me\u001b[39m\u001b[31m-1\u001b[39m ns          \n",
      "\u001b[90m5\u001b[39m value Control_Non-i… MIS-C     26    84      884. 1.42\u001b[90me\u001b[39m\u001b[31m-1\u001b[39m 2.13\u001b[90me\u001b[39m\u001b[31m-1\u001b[39m ns          \n",
      "\u001b[90m6\u001b[39m value Control_Non-i… COVID…    26    50      903  5   \u001b[90me\u001b[39m\u001b[31m-3\u001b[39m 1.5 \u001b[90me\u001b[39m\u001b[31m-2\u001b[39m *           \n",
      "\u001b[90m# … with 6 more variables: p.signif <chr>, y.position <dbl>,\u001b[39m\n",
      "\u001b[90m#   groups <named list>, xmin <dbl>, xmax <dbl>, rank <int>\u001b[39m\n"
     ]
    },
    {
     "name": "stderr",
     "output_type": "stream",
     "text": [
      "Scale for 'y' is already present. Adding another scale for 'y', which will\n",
      "replace the existing scale.\n",
      "\n",
      "Coordinate system already present. Adding new coordinate system, which will replace the existing one.\n",
      "\n",
      "Scale for 'x' is already present. Adding another scale for 'x', which will\n",
      "replace the existing scale.\n",
      "\n",
      "Scale for 'y' is already present. Adding another scale for 'y', which will\n",
      "replace the existing scale.\n",
      "\n",
      "Coordinate system already present. Adding new coordinate system, which will replace the existing one.\n",
      "\n",
      "Scale for 'y' is already present. Adding another scale for 'y', which will\n",
      "replace the existing scale.\n",
      "\n",
      "Coordinate system already present. Adding new coordinate system, which will replace the existing one.\n",
      "\n"
     ]
    },
    {
     "name": "stdout",
     "output_type": "stream",
     "text": [
      "TableGrob (1 x 4) \"arrange\": 2 grobs\n",
      "  z     cells    name           grob\n",
      "1 1 (1-1,3-4) arrange gtable[layout]\n",
      "2 2 (1-1,1-2) arrange gtable[layout]\n"
     ]
    },
    {
     "data": {
      "text/html": [
       "<strong>png:</strong> 2"
      ],
      "text/latex": [
       "\\textbf{png:} 2"
      ],
      "text/markdown": [
       "**png:** 2"
      ],
      "text/plain": [
       "png \n",
       "  2 "
      ]
     },
     "metadata": {},
     "output_type": "display_data"
    }
   ],
   "source": [
    "WIDTH = 2.75\n",
    "HEIGHT = 1.2\n",
    "\n",
    "##------------------------------------\n",
    "GENE = 'TRBV11-2'\n",
    "\n",
    "LIM = 12\n",
    "\n",
    "\n",
    "all_plots <- get_plots(output_melt,expGroupPalette,DiagnosisPalette,LIM)\n",
    "\n",
    "LIMITS =  list(scale_y_continuous(breaks = seq(0,LIM,length.out  = 5)), #labels = function(x) format(x, scientific = TRUE, digits = 2)),\n",
    "               coord_cartesian(ylim = c(0,LIM))\n",
    "              )\n",
    "\n",
    "cntrl_boxplot <- all_plots[[\"cntrl_boxplot\"]] + CNTRL_MARGIN + NOT_LEFT + LIMITS\n",
    "acute_boxplot <- all_plots[[\"acute_boxplot\"]] + ACUTE_MARGIN + LIMITS\n",
    "line_plot <- all_plots[[\"line_plot\"]] + LINE_MARGIN + NOT_LEFT + LIMITS\n",
    "               \n",
    "pdf(file=paste0(\"plots/SupPanelC_\",GENE,\".pdf\"),\n",
    "        width=WIDTH,height=HEIGHT, paper=\"special\", bg=\"white\",\n",
    "        fonts=\"Helvetica\", colormodel = \"srgb\", pointsize=6, useDingbats = FALSE)\n",
    "\n",
    "all_plt <- GRID_fun(acute_boxplot, cntrl_boxplot, line_plot, lay)\n",
    "\n",
    "print(all_plt)\n",
    "               \n",
    "dev.off()\n",
    "\n"
   ]
  },
  {
   "cell_type": "code",
   "execution_count": 11,
   "id": "51c016a8-c772-4bd3-aaf0-8e803ffb75a1",
   "metadata": {},
   "outputs": [
    {
     "name": "stderr",
     "output_type": "stream",
     "text": [
      "Warning message in melt(df, id.vars = ID_KEYS):\n",
      "“The melt generic in data.table has been passed a data.frame and will attempt to redirect to the relevant reshape2 method; please note that reshape2 is deprecated, and this redirection is now deprecated as well. To continue using melt methods from reshape2 while both libraries are attached, e.g. melt.list, you can prepend the namespace like reshape2::melt(df). In the next version, this warning will become an error.”\n",
      "Warning message in qt(conf.interval/2 + 0.5, datac$N - 1):\n",
      "“NaNs produced”\n"
     ]
    },
    {
     "name": "stdout",
     "output_type": "stream",
     "text": [
      "\u001b[90m# A tibble: 6 × 15\u001b[39m\n",
      "  .y.   group1       group2    n1    n2 statistic        p    p.adj p.adj.signif\n",
      "  \u001b[3m\u001b[90m<chr>\u001b[39m\u001b[23m \u001b[3m\u001b[90m<chr>\u001b[39m\u001b[23m        \u001b[3m\u001b[90m<chr>\u001b[39m\u001b[23m  \u001b[3m\u001b[90m<int>\u001b[39m\u001b[23m \u001b[3m\u001b[90m<int>\u001b[39m\u001b[23m     \u001b[3m\u001b[90m<dbl>\u001b[39m\u001b[23m    \u001b[3m\u001b[90m<dbl>\u001b[39m\u001b[23m    \u001b[3m\u001b[90m<dbl>\u001b[39m\u001b[23m \u001b[3m\u001b[90m<chr>\u001b[39m\u001b[23m       \n",
      "\u001b[90m1\u001b[39m value MIS-C        MIS-C…    84    19       882 4.78\u001b[90me\u001b[39m\u001b[31m- 1\u001b[39m 4.78\u001b[90me\u001b[39m\u001b[31m- 1\u001b[39m ns          \n",
      "\u001b[90m2\u001b[39m value COVID-19     MIS-C…    50    19       592 1.17\u001b[90me\u001b[39m\u001b[31m- 1\u001b[39m 1.76\u001b[90me\u001b[39m\u001b[31m- 1\u001b[39m ns          \n",
      "\u001b[90m3\u001b[39m value COVID-19     MIS-C     50    84      \u001b[4m2\u001b[24m409 1.56\u001b[90me\u001b[39m\u001b[31m- 1\u001b[39m 1.87\u001b[90me\u001b[39m\u001b[31m- 1\u001b[39m ns          \n",
      "\u001b[90m4\u001b[39m value Control_Non… MIS-C…    26    19       483 1.6 \u001b[90me\u001b[39m\u001b[31m-10\u001b[39m 4.8 \u001b[90me\u001b[39m\u001b[31m-10\u001b[39m ****        \n",
      "\u001b[90m5\u001b[39m value Control_Non… MIS-C     26    84      \u001b[4m2\u001b[24m076 4.51\u001b[90me\u001b[39m\u001b[31m-12\u001b[39m 2.71\u001b[90me\u001b[39m\u001b[31m-11\u001b[39m ****        \n",
      "\u001b[90m6\u001b[39m value Control_Non… COVID…    26    50      \u001b[4m1\u001b[24m213 7.26\u001b[90me\u001b[39m\u001b[31m-10\u001b[39m 1.45\u001b[90me\u001b[39m\u001b[31m- 9\u001b[39m ****        \n",
      "\u001b[90m# … with 6 more variables: p.signif <chr>, y.position <dbl>,\u001b[39m\n",
      "\u001b[90m#   groups <named list>, xmin <dbl>, xmax <dbl>, rank <int>\u001b[39m\n"
     ]
    },
    {
     "name": "stderr",
     "output_type": "stream",
     "text": [
      "Scale for 'y' is already present. Adding another scale for 'y', which will\n",
      "replace the existing scale.\n",
      "\n",
      "Coordinate system already present. Adding new coordinate system, which will replace the existing one.\n",
      "\n",
      "Scale for 'x' is already present. Adding another scale for 'x', which will\n",
      "replace the existing scale.\n",
      "\n",
      "Scale for 'y' is already present. Adding another scale for 'y', which will\n",
      "replace the existing scale.\n",
      "\n",
      "Coordinate system already present. Adding new coordinate system, which will replace the existing one.\n",
      "\n",
      "Scale for 'y' is already present. Adding another scale for 'y', which will\n",
      "replace the existing scale.\n",
      "\n",
      "Coordinate system already present. Adding new coordinate system, which will replace the existing one.\n",
      "\n"
     ]
    },
    {
     "name": "stdout",
     "output_type": "stream",
     "text": [
      "TableGrob (1 x 4) \"arrange\": 2 grobs\n",
      "  z     cells    name           grob\n",
      "1 1 (1-1,3-4) arrange gtable[layout]\n",
      "2 2 (1-1,1-2) arrange gtable[layout]\n"
     ]
    },
    {
     "data": {
      "text/html": [
       "<strong>png:</strong> 2"
      ],
      "text/latex": [
       "\\textbf{png:} 2"
      ],
      "text/markdown": [
       "**png:** 2"
      ],
      "text/plain": [
       "png \n",
       "  2 "
      ]
     },
     "metadata": {},
     "output_type": "display_data"
    }
   ],
   "source": [
    "GENE_NAME <- \"KLRB1\"\n",
    "\n",
    "\n",
    "## get data frame with counts\n",
    "tcr_ftcounts <- wb_ftcounts[grepl(GENE_NAME,rownames(wb_ftcounts)),] %>% data.frame()\n",
    "colnames(tcr_ftcounts) <- GENE_NAME\n",
    "\n",
    "\n",
    "ID_KEYS = c(\"wbrna_sample_id\",\"Diagnosis\",\"group\",\"timepoint\")\n",
    "df <- merge(meta_data[,ID_KEYS], tcr_ftcounts, by.x= \"wbrna_sample_id\", by.y=0)\n",
    "output_melt <- melt(df,id.vars = ID_KEYS) %>% mutate(Diagnosis_group = paste0(Diagnosis,\"_\",group)) %>% \n",
    "        mutate(expGroup = Diagnosis) %>% \n",
    "        mutate(expGroup = ifelse(group == \"validation\",\"MIS-C_validation\",expGroup))\n",
    "# output_melt <- output_melt %>% filter(group %in% c(\"discovery\",\"validation\"))\n",
    "\n",
    "\n",
    "##-----------------------------------\n",
    "LIM = 100\n",
    "WIDTH = 2.75\n",
    "HEIGHT = 1.2\n",
    "\n",
    "all_plots <- get_plots(output_melt,expGroupPalette,DiagnosisPalette,LIM)\n",
    "\n",
    "LIMITS =  list(scale_y_continuous(breaks = seq(0,LIM,length.out  = 5)), #labels = function(x) format(x, scientific = TRUE, digits = 2)),\n",
    "               coord_cartesian(ylim = c(0,LIM))\n",
    "              )\n",
    "\n",
    "cntrl_boxplot <- all_plots[[\"cntrl_boxplot\"]] + CNTRL_MARGIN + NOT_LEFT + LIMITS\n",
    "acute_boxplot <- all_plots[[\"acute_boxplot\"]] + ACUTE_MARGIN + LIMITS\n",
    "line_plot <- all_plots[[\"line_plot\"]] + LINE_MARGIN + NOT_LEFT + LIMITS\n",
    "               \n",
    "pdf(file=paste0(\"plots/SupPanelC_\",GENE_NAME,\".pdf\"),\n",
    "        width=WIDTH,height=HEIGHT, paper=\"special\", bg=\"white\",\n",
    "        fonts=\"Helvetica\", colormodel = \"srgb\", pointsize=6, useDingbats = FALSE)\n",
    "\n",
    "all_plt <- GRID_fun(acute_boxplot, cntrl_boxplot, line_plot, lay)\n",
    "\n",
    "print(all_plt)\n",
    "               \n",
    "dev.off()"
   ]
  },
  {
   "cell_type": "code",
   "execution_count": 12,
   "id": "288aefe4-272b-4b4a-8d4d-5d3cd642fd95",
   "metadata": {},
   "outputs": [
    {
     "name": "stderr",
     "output_type": "stream",
     "text": [
      "Warning message in melt(df, id.vars = ID_KEYS):\n",
      "“The melt generic in data.table has been passed a data.frame and will attempt to redirect to the relevant reshape2 method; please note that reshape2 is deprecated, and this redirection is now deprecated as well. To continue using melt methods from reshape2 while both libraries are attached, e.g. melt.list, you can prepend the namespace like reshape2::melt(df). In the next version, this warning will become an error.”\n",
      "Warning message in qt(conf.interval/2 + 0.5, datac$N - 1):\n",
      "“NaNs produced”\n"
     ]
    },
    {
     "name": "stdout",
     "output_type": "stream",
     "text": [
      "\u001b[90m# A tibble: 6 × 15\u001b[39m\n",
      "  .y.   group1       group2    n1    n2 statistic        p    p.adj p.adj.signif\n",
      "  \u001b[3m\u001b[90m<chr>\u001b[39m\u001b[23m \u001b[3m\u001b[90m<chr>\u001b[39m\u001b[23m        \u001b[3m\u001b[90m<chr>\u001b[39m\u001b[23m  \u001b[3m\u001b[90m<int>\u001b[39m\u001b[23m \u001b[3m\u001b[90m<int>\u001b[39m\u001b[23m     \u001b[3m\u001b[90m<dbl>\u001b[39m\u001b[23m    \u001b[3m\u001b[90m<dbl>\u001b[39m\u001b[23m    \u001b[3m\u001b[90m<dbl>\u001b[39m\u001b[23m \u001b[3m\u001b[90m<chr>\u001b[39m\u001b[23m       \n",
      "\u001b[90m1\u001b[39m value MIS-C        MIS-C…    84    19      \u001b[4m1\u001b[24m383 6.67\u001b[90me\u001b[39m\u001b[31m- 7\u001b[39m 1.33\u001b[90me\u001b[39m\u001b[31m- 6\u001b[39m ****        \n",
      "\u001b[90m2\u001b[39m value COVID-19     MIS-C…    50    19       689 4   \u001b[90me\u001b[39m\u001b[31m- 3\u001b[39m 4.8 \u001b[90me\u001b[39m\u001b[31m- 3\u001b[39m **          \n",
      "\u001b[90m3\u001b[39m value COVID-19     MIS-C     50    84      \u001b[4m1\u001b[24m658 4.2 \u001b[90me\u001b[39m\u001b[31m- 2\u001b[39m 4.2 \u001b[90me\u001b[39m\u001b[31m- 2\u001b[39m *           \n",
      "\u001b[90m4\u001b[39m value Control_Non… MIS-C…    26    19        50 1.55\u001b[90me\u001b[39m\u001b[31m- 6\u001b[39m 2.32\u001b[90me\u001b[39m\u001b[31m- 6\u001b[39m ****        \n",
      "\u001b[90m5\u001b[39m value Control_Non… MIS-C     26    84        94 1.67\u001b[90me\u001b[39m\u001b[31m-12\u001b[39m 1.00\u001b[90me\u001b[39m\u001b[31m-11\u001b[39m ****        \n",
      "\u001b[90m6\u001b[39m value Control_Non… COVID…    26    50       142 1.19\u001b[90me\u001b[39m\u001b[31m- 8\u001b[39m 3.57\u001b[90me\u001b[39m\u001b[31m- 8\u001b[39m ****        \n",
      "\u001b[90m# … with 6 more variables: p.signif <chr>, y.position <dbl>,\u001b[39m\n",
      "\u001b[90m#   groups <named list>, xmin <dbl>, xmax <dbl>, rank <int>\u001b[39m\n"
     ]
    },
    {
     "name": "stderr",
     "output_type": "stream",
     "text": [
      "Scale for 'y' is already present. Adding another scale for 'y', which will\n",
      "replace the existing scale.\n",
      "\n",
      "Coordinate system already present. Adding new coordinate system, which will replace the existing one.\n",
      "\n",
      "Scale for 'x' is already present. Adding another scale for 'x', which will\n",
      "replace the existing scale.\n",
      "\n",
      "Scale for 'y' is already present. Adding another scale for 'y', which will\n",
      "replace the existing scale.\n",
      "\n",
      "Coordinate system already present. Adding new coordinate system, which will replace the existing one.\n",
      "\n",
      "Scale for 'y' is already present. Adding another scale for 'y', which will\n",
      "replace the existing scale.\n",
      "\n",
      "Coordinate system already present. Adding new coordinate system, which will replace the existing one.\n",
      "\n"
     ]
    },
    {
     "name": "stdout",
     "output_type": "stream",
     "text": [
      "TableGrob (1 x 4) \"arrange\": 2 grobs\n",
      "  z     cells    name           grob\n",
      "1 1 (1-1,3-4) arrange gtable[layout]\n",
      "2 2 (1-1,1-2) arrange gtable[layout]\n"
     ]
    },
    {
     "data": {
      "text/html": [
       "<strong>png:</strong> 2"
      ],
      "text/latex": [
       "\\textbf{png:} 2"
      ],
      "text/markdown": [
       "**png:** 2"
      ],
      "text/plain": [
       "png \n",
       "  2 "
      ]
     },
     "metadata": {},
     "output_type": "display_data"
    }
   ],
   "source": [
    "GENE_NAME <- \"ADAMTS2$\"\n",
    "\n",
    "\n",
    "## get data frame with counts\n",
    "tcr_ftcounts <- wb_ftcounts[grepl(GENE_NAME,rownames(wb_ftcounts)),] %>% data.frame()\n",
    "colnames(tcr_ftcounts) <- GENE_NAME\n",
    "\n",
    "\n",
    "ID_KEYS = c(\"wbrna_sample_id\",\"Diagnosis\",\"group\",\"timepoint\")\n",
    "df <- merge(meta_data[,ID_KEYS], tcr_ftcounts, by.x= \"wbrna_sample_id\", by.y=0)\n",
    "output_melt <- melt(df,id.vars = ID_KEYS) %>% mutate(Diagnosis_group = paste0(Diagnosis,\"_\",group)) %>% \n",
    "        mutate(expGroup = Diagnosis) %>% \n",
    "        mutate(expGroup = ifelse(group == \"validation\",\"MIS-C_validation\",expGroup))\n",
    "# output_melt <- output_melt %>% filter(group %in% c(\"discovery\",\"validation\"))\n",
    "\n",
    "\n",
    "##-----------------------------------\n",
    "LIM = 120\n",
    "WIDTH = 2.75\n",
    "HEIGHT = 1.2\n",
    "\n",
    "all_plots <- get_plots(output_melt,expGroupPalette,DiagnosisPalette,LIM)\n",
    "\n",
    "LIMITS =  list(scale_y_continuous(breaks = seq(0,LIM,length.out  = 5)), #labels = function(x) format(x, scientific = TRUE, digits = 2)),\n",
    "               coord_cartesian(ylim = c(0,LIM))\n",
    "              )\n",
    "\n",
    "cntrl_boxplot <- all_plots[[\"cntrl_boxplot\"]] + CNTRL_MARGIN + NOT_LEFT + LIMITS\n",
    "acute_boxplot <- all_plots[[\"acute_boxplot\"]] + ACUTE_MARGIN + LIMITS\n",
    "line_plot <- all_plots[[\"line_plot\"]] + LINE_MARGIN + NOT_LEFT + LIMITS\n",
    "               \n",
    "pdf(file=paste0(\"plots/SupPanelC_\",GENE_NAME,\".pdf\"),\n",
    "        width=WIDTH,height=HEIGHT, paper=\"special\", bg=\"white\",\n",
    "        fonts=\"Helvetica\", colormodel = \"srgb\", pointsize=6, useDingbats = FALSE)\n",
    "\n",
    "all_plt <- GRID_fun(acute_boxplot, cntrl_boxplot, line_plot, lay)\n",
    "\n",
    "print(all_plt)\n",
    "               \n",
    "dev.off()"
   ]
  },
  {
   "cell_type": "code",
   "execution_count": null,
   "id": "64349e61-78fd-403d-8eb5-2d737ae3ed2c",
   "metadata": {},
   "outputs": [],
   "source": []
  }
 ],
 "metadata": {
  "kernelspec": {
   "display_name": "R",
   "language": "R",
   "name": "ir"
  },
  "language_info": {
   "codemirror_mode": "r",
   "file_extension": ".r",
   "mimetype": "text/x-r-source",
   "name": "R",
   "pygments_lexer": "r",
   "version": "4.1.1"
  }
 },
 "nbformat": 4,
 "nbformat_minor": 5
}
